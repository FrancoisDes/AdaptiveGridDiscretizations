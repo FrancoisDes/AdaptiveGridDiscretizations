{
 "cells": [
  {
   "cell_type": "markdown",
   "metadata": {},
   "source": [
    "# Adaptive Grid Discretizations\n",
    "## Volume : Algoritmic tools\n",
    "## Part : Domain representation\n",
    "## Chapter : Subsets of $R^d$"
   ]
  },
  {
   "cell_type": "markdown",
   "metadata": {},
   "source": [
    "This notebook shows how to describe a simple subset of $R^d$, and to compute finite differences taking into account a given Dirichlet data on the boundary. It is a prerequisite to the implementation of monotone schemes on non-rectangular domains.\n",
    "\n",
    "*Note:* The library presented in this notebook features some elementary primitives of algorithmic geometry. However, their expressivity is rather limited, and exact predicates are not implemented. Therefore, please consider using a dedicated computational geometry package if you intend to go much beyond the basic examples presented in this series of notebooks."
   ]
  },
  {
   "cell_type": "code",
   "execution_count": 11,
   "metadata": {},
   "outputs": [],
   "source": [
    "import sys; sys.path.append(\"..\") # Allow imports from parent directory\n",
    "#from Miscellaneous import TocTools; TocTools.displayTOC('SubsetRd','Algo')"
   ]
  },
  {
   "cell_type": "markdown",
   "metadata": {},
   "source": [
    "[**Summary**](Summary.ipynb) of volume Algorithmic tools, this series of notebooks.\n",
    "\n",
    "[**Main summary**](../Summary.ipynb) of the Adaptive Grid Discretizations \n",
    "\tbook of notebooks, including the other volumes.\n",
    "\n",
    "# Table of contents\n",
    "  * [1. Geometric methods](#1.-Geometric-methods)\n",
    "    * [1.1 Base domains, union, intersection, complement](#1.1-Base-domains,-union,-intersection,-complement)\n",
    "    * [1.2 Level set function](#1.2-Level-set-function)\n",
    "    * [1.3 Distance to the boundary in a given direction.](#1.3-Distance-to-the-boundary-in-a-given-direction.)\n",
    "  * [2. Finite differences](#2.-Finite-differences)\n",
    "    * [2.1 Upwind finite differences](#2.1-Upwind-finite-differences)\n",
    "    * [2.2 Centered finite differences](#2.2-Centered-finite-differences)\n",
    "    * [2.3 Second order finite differences](#2.3-Second-order-finite-differences)\n",
    "\n",
    "\n",
    "\n",
    "**Acknowledgement.** The experiments presented in these notebooks are part of ongoing research, \n",
    "some of it with PhD student Guillaume Bonnet, in co-direction with Frederic Bonnans.\n",
    "\n",
    "Copyright Jean-Marie Mirebeau, University Paris-Sud, CNRS, University Paris-Saclay"
   ]
  },
  {
   "cell_type": "markdown",
   "metadata": {},
   "source": [
    "## 0. Import the required libraries"
   ]
  },
  {
   "cell_type": "code",
   "execution_count": 12,
   "metadata": {},
   "outputs": [],
   "source": [
    "from NumericalSchemes import Domain \n",
    "from NumericalSchemes import AutomaticDifferentiation as ad"
   ]
  },
  {
   "cell_type": "code",
   "execution_count": 13,
   "metadata": {},
   "outputs": [],
   "source": [
    "import scipy.linalg\n",
    "import numpy as np\n",
    "from matplotlib import pyplot as plt"
   ]
  },
  {
   "cell_type": "code",
   "execution_count": 14,
   "metadata": {},
   "outputs": [],
   "source": [
    "def reload_packages():\n",
    "    import importlib\n",
    "    Domain = importlib.reload(sys.modules['NumericalSchemes.Domain'])\n",
    "    ad = importlib.reload(sys.modules['NumericalSchemes.AutomaticDifferentiation'])\n",
    "    ad.reload_submodules()"
   ]
  },
  {
   "cell_type": "markdown",
   "metadata": {},
   "source": [
    "## 1. Domain description\n",
    "\n",
    "The provided library allows to define a family of basic shapes, combine them with boolean operations, and affine transformations. Once the desired shape is constructed, two main functions are available: a level set map, and the distance to the boundary along a given half line."
   ]
  },
  {
   "cell_type": "markdown",
   "metadata": {},
   "source": [
    "### 1.1 Basic shapes, boolean operations, affine transformation."
   ]
  },
  {
   "cell_type": "markdown",
   "metadata": {},
   "source": [
    "Define a ball and a box domain, here in dimension two, but these primitives are dimension independent.\n",
    "* *Ball* $\\{x\\in R^d;\\, \\|x-x_0\\| \\leq r\\}$ with parameters $(x_0,r)$, the center and the radius (defaults to one).\n",
    "* *Box* $[a_1,b_1] \\times [a_n,b_n]$, a product of intervals."
   ]
  },
  {
   "cell_type": "code",
   "execution_count": 15,
   "metadata": {},
   "outputs": [],
   "source": [
    "ball = Domain.Ball([0,0]) # Two dimensional ball centered at the origin with radius one.\n",
    "box = Domain.Box([[0,1],[0,1]]) # Square domain [0,1]x[0,1]"
   ]
  },
  {
   "cell_type": "markdown",
   "metadata": {},
   "source": [
    "The standard boolean operations allow to combine elementary shapes: intersection, union, and relative complement."
   ]
  },
  {
   "cell_type": "code",
   "execution_count": 16,
   "metadata": {},
   "outputs": [],
   "source": [
    "cap = Domain.Intersection( (ball,box) )\n",
    "cup = Domain.Union((ball,box))\n",
    "compl = Domain.Complement(ball,box)"
   ]
  },
  {
   "cell_type": "markdown",
   "metadata": {},
   "source": [
    "Bands and Convex polygons are some potentially useful additional shapes:\n",
    "* *Band* $\\{x\\in R^d; b_0 \\leq <x,v> \\leq b_1$, depending on $(v,b)$, where $v$ is called the direction and $b=(b_0,b_1)$ the bounds. \n",
    "* *Convex polygon* $\\mathrm{Hull}(x_1,\\cdots,x_n)$. This primitive is two dimensional only."
   ]
  },
  {
   "cell_type": "code",
   "execution_count": 17,
   "metadata": {},
   "outputs": [],
   "source": [
    "band = Domain.Band([1.,2.],[-2.,1.]) # Direction, bounds\n",
    "triangle = Domain.ConvexPolygon(np.stack([[1.,0.],[0.,1.],[-1.,-1.]],axis=1))"
   ]
  },
  {
   "cell_type": "markdown",
   "metadata": {},
   "source": [
    "An affine transformation can be applied to the domain, with parameters:\n",
    "* *A* (mult) the matrix of the linear part. (defaults to identity)\n",
    "* $x_0$ (center) the center of the previous linear transformation. (defaults to the origin)\n",
    "* $v$ (shift) a translation to be applied. (defaults to zero)\n",
    "\n",
    "The direct mapping takes the form\n",
    "$$\n",
    "    x \\mapsto A (x-x_0)+x_0 + v\n",
    "$$"
   ]
  },
  {
   "cell_type": "code",
   "execution_count": 18,
   "metadata": {},
   "outputs": [],
   "source": [
    "def rot(t): c,s = np.cos(t),np.sin(t); return np.array(((c,-s),(s,c)))    \n",
    "aff = Domain.AffineTransform(cup,0.7*rot(np.pi/3.),shift=[-0.2,-0.2])"
   ]
  },
  {
   "cell_type": "code",
   "execution_count": 19,
   "metadata": {},
   "outputs": [],
   "source": [
    "doms = (ball,box,cap,compl,cup,band,triangle,aff)\n",
    "domNames = (\"ball\",\"box\",\"cap\",\"compl\",\"cup\",\"band\",\"triangle\",\"affine\")"
   ]
  },
  {
   "cell_type": "markdown",
   "metadata": {},
   "source": [
    "Let us display the domains."
   ]
  },
  {
   "cell_type": "code",
   "execution_count": 20,
   "metadata": {},
   "outputs": [],
   "source": [
    "aX=np.linspace(-1.2,1.2)\n",
    "X = np.array(np.meshgrid(aX,aX,indexing='ij'))\n",
    "h=aX[1]-aX[0]"
   ]
  },
  {
   "cell_type": "code",
   "execution_count": 21,
   "metadata": {},
   "outputs": [
    {
     "data": {
      "image/png": "[encoded data removed]",
      "text/plain": [
       "<Figure size 1152x576 with 8 Axes>"
      ]
     },
     "metadata": {
      "needs_background": "light"
     },
     "output_type": "display_data"
    }
   ],
   "source": [
    "plt.figure(figsize=(16,8))\n",
    "for i,(dom,name) in enumerate(zip(doms,domNames)):\n",
    "    plt.subplot(2,4,1+i)\n",
    "    plt.contourf(*X,dom.contains(X))\n",
    "    plt.title(name)\n",
    "    plt.axis('equal')"
   ]
  },
  {
   "cell_type": "markdown",
   "metadata": {},
   "source": [
    "It is possible to select the points around which the domain contains a ball of a given radius $h$, possibly negative. This predicate is only approximate."
   ]
  },
  {
   "cell_type": "code",
   "execution_count": 22,
   "metadata": {},
   "outputs": [
    {
     "data": {
      "image/png": "[encoded data removed]",
      "text/plain": [
       "<Figure size 1152x576 with 8 Axes>"
      ]
     },
     "metadata": {
      "needs_background": "light"
     },
     "output_type": "display_data"
    }
   ],
   "source": [
    "plt.figure(figsize=(16,8))\n",
    "for i,(dom,name) in enumerate(zip(doms,domNames)):\n",
    "    plt.subplot(2,4,1+i)\n",
    "    \n",
    "    interior = dom.contains(X)\n",
    "    erosion = dom.contains_ball(X,2*h)\n",
    "    boundary_layer = np.logical_and(interior,np.logical_not(erosion))\n",
    "    \n",
    "    plt.contourf(*X,boundary_layer)\n",
    "    plt.title(name)\n",
    "    plt.axis('equal')"
   ]
  },
  {
   "cell_type": "markdown",
   "metadata": {},
   "source": [
    "### 1.2 Level set function"
   ]
  },
  {
   "cell_type": "markdown",
   "metadata": {},
   "source": [
    "Each domain comes equipped with a level set function, that is negative inside the domain, and positive outside. It is also guaranteed to be $1$-Lipschitz. "
   ]
  },
  {
   "cell_type": "code",
   "execution_count": 23,
   "metadata": {},
   "outputs": [
    {
     "data": {
      "image/png": "[encoded data removed]",
      "text/plain": [
       "<Figure size 1152x576 with 8 Axes>"
      ]
     },
     "metadata": {
      "needs_background": "light"
     },
     "output_type": "display_data"
    }
   ],
   "source": [
    "plt.figure(figsize=(16,8))\n",
    "for i,(dom,name) in enumerate(zip(doms,domNames)):\n",
    "    plt.subplot(2,4,1+i)\n",
    "    plt.contourf(*X,dom.level(X))\n",
    "    plt.title(name)\n",
    "    plt.axis('equal')"
   ]
  },
  {
   "cell_type": "markdown",
   "metadata": {},
   "source": [
    "This level set function is in general different from the signed Euclidean distance to the boundary.  \n",
    "If you do need the Euclidean distance function, you may consider solving an eikonal equation, or using an adequate computational geometry package."
   ]
  },
  {
   "cell_type": "markdown",
   "metadata": {},
   "source": [
    "### 1.3 Distance to the boundary in a given direction.\n",
    "\n",
    "For the design of finite difference schemes, it is important to know the distance from a given point to the domain boundary in a given direction. This is referred to as the \"free way\" from $x$ in the direction $v$."
   ]
  },
  {
   "cell_type": "code",
   "execution_count": 24,
   "metadata": {},
   "outputs": [],
   "source": [
    "#Domain = importlib.reload(Domain)\n",
    "#ball = Domain.Ball(np.array([0,0]))\n",
    "#box = Domain.Box([[0,1],[0,1]])\n",
    "#cap = Domain.Intersection( (ball,box) )\n",
    "#abox = Domain.AbsoluteComplement(box)\n",
    "#aball = Domain.AbsoluteComplement(ball)\n",
    "#compl = Domain.Complement(ball,box)\n",
    "#cup = Domain.Union((ball,box))\n",
    "#acup = Domain.Intersection((aball,abox))\n",
    "#band = Domain.Band([1.,2.],[-2.,1.]) # Direction, bounds"
   ]
  },
  {
   "cell_type": "code",
   "execution_count": 25,
   "metadata": {},
   "outputs": [
    {
     "name": "stderr",
     "output_type": "stream",
     "text": [
      "/Users/mirebeau/miniconda3/lib/python3.7/site-packages/matplotlib/contour.py:1557: UserWarning: Warning: converting a masked element to nan.\n",
      "  self.zmax = float(z.max())\n",
      "/Users/mirebeau/miniconda3/lib/python3.7/site-packages/matplotlib/contour.py:1558: UserWarning: Warning: converting a masked element to nan.\n",
      "  self.zmin = float(z.min())\n",
      "/Users/mirebeau/miniconda3/lib/python3.7/site-packages/matplotlib/contour.py:1203: RuntimeWarning: invalid value encountered in less\n",
      "  under = np.nonzero(lev < self.zmin)[0]\n",
      "/Users/mirebeau/miniconda3/lib/python3.7/site-packages/matplotlib/contour.py:1205: RuntimeWarning: invalid value encountered in greater\n",
      "  over = np.nonzero(lev > self.zmax)[0]\n"
     ]
    },
    {
     "data": {
      "image/png": "[encoded data removed]",
      "text/plain": [
       "<Figure size 1152x576 with 8 Axes>"
      ]
     },
     "metadata": {
      "needs_background": "light"
     },
     "output_type": "display_data"
    }
   ],
   "source": [
    "v=np.array([1,-0.5])\n",
    "plt.figure(figsize=(16,8))\n",
    "for i,(dom,name) in enumerate(zip(doms,domNames)):\n",
    "    plt.subplot(2,4,i+1)\n",
    "    plt.contourf(*X,dom.freeway(X,v))"
   ]
  },
  {
   "cell_type": "code",
   "execution_count": 26,
   "metadata": {},
   "outputs": [
    {
     "data": {
      "image/png": "[encoded data removed]",
      "text/plain": [
       "<Figure size 1152x576 with 8 Axes>"
      ]
     },
     "metadata": {
      "needs_background": "light"
     },
     "output_type": "display_data"
    }
   ],
   "source": [
    "v=np.array([-1,-0.5])\n",
    "plt.figure(figsize=(16,8))\n",
    "for i,(dom,name) in enumerate(zip(doms,domNames)):\n",
    "    plt.subplot(2,4,i+1)\n",
    "    plt.contourf(*X,dom.freeway(X,v))"
   ]
  },
  {
   "cell_type": "markdown",
   "metadata": {},
   "source": [
    "## 2. Finite differences\n",
    "\n",
    "Presently, only Dirichlet boundary conditions are implemented. When a grid point falls outside the domain, the provided boundary data is used instead, as described below.\n",
    "\n",
    "Denote by $\\Omega$ the domain, and $\\Omega_h$ its intersection with the cartesian grid $h Z^d$. Let $x\\in \\Omega_h$ be a point of the domain, and let $e \\in Z^d\\setminus \\{0\\}$ be an offset.\n",
    "\n",
    "* *Upwind finite difference*.  Denote by $h_+>0$ the smallest real such that $x+h_+ e  \\in \\Omega_h \\cup \\partial \\Omega$. The first order upwind finite difference is defined as\n",
    "$$\n",
    "    \\delta^e_h u(x) := \\frac{u(x+h_+e)-u(x)} {h_+}\n",
    "$$\n",
    "* *Centered finite difference*. The standard expression $(u(x+h e)-u(x-he))/(2h)$ is used, unless $x+ h e\\notin \\Omega_h$ or $x-he \\notin \\Omega_h$. In that case, we fall back to the upwind finite difference.\n",
    "* *Second order finite difference*. Let $h_\\pm>0$ denote the smallest real such that $x\\pm h_\\pm e \\in \\Omega_h \\cup \\partial \\Omega$. The second order finite difference is defined as \n",
    "$$\n",
    "    \\Delta^e_h u(x) := \\frac 2 {h_++h_-} \\Big(\\frac{u(x+h_+ e)-u(x)}{h_+} + \\frac{u(x-h_- e)-u(x)}{h_-} \\Big)\n",
    "$$"
   ]
  },
  {
   "cell_type": "markdown",
   "metadata": {},
   "source": [
    "Define the dirichlet data, based on a domain and a function defined on (at least) the boundary.\n",
    "Set also the grid, underlying the finite difference scheme, and the interior points. \n",
    "\n",
    "It is safer to slightly erode the domain, by prescribing an interior radius $h_0>0$ which will be a lower bound for $h_+$ and $h_-$ involved in the finite differences."
   ]
  },
  {
   "cell_type": "code",
   "execution_count": 34,
   "metadata": {},
   "outputs": [],
   "source": [
    "reload_packages()"
   ]
  },
  {
   "cell_type": "code",
   "execution_count": 43,
   "metadata": {},
   "outputs": [],
   "source": [
    "def bc(x): return x[0]+2*x[1]\n",
    "dom = Domain.Dirichlet(cup,bc)\n",
    "dom.set_grid(X,interior_radius=h/2)"
   ]
  },
  {
   "cell_type": "markdown",
   "metadata": {},
   "source": [
    "### 2.1 Upwind finite differences\n",
    "\n",
    "We choose a linear function, in order to confirm that the upwind scheme is exact in this case."
   ]
  },
  {
   "cell_type": "code",
   "execution_count": 44,
   "metadata": {},
   "outputs": [],
   "source": [
    "u = bc(X)"
   ]
  },
  {
   "cell_type": "code",
   "execution_count": 45,
   "metadata": {},
   "outputs": [],
   "source": [
    "du = dom.DiffUpwind(u,(1,0),h)"
   ]
  },
  {
   "cell_type": "code",
   "execution_count": 39,
   "metadata": {},
   "outputs": [
    {
     "data": {
      "text/plain": [
       "(1.000000000000007, 0.9999999999999929)"
      ]
     },
     "execution_count": 39,
     "metadata": {},
     "output_type": "execute_result"
    }
   ],
   "source": [
    "du[interior].max(),du[interior].min()"
   ]
  },
  {
   "cell_type": "markdown",
   "metadata": {},
   "source": [
    "Differentiating along the horizontal and vertical directions simultaneously."
   ]
  },
  {
   "cell_type": "code",
   "execution_count": 47,
   "metadata": {},
   "outputs": [],
   "source": [
    "du = dom.DiffUpwind(u,np.eye(2).astype(int),h)"
   ]
  },
  {
   "cell_type": "code",
   "execution_count": 48,
   "metadata": {},
   "outputs": [
    {
     "data": {
      "text/plain": [
       "(1.000000000000007, 0.9999999999999929)"
      ]
     },
     "execution_count": 48,
     "metadata": {},
     "output_type": "execute_result"
    }
   ],
   "source": [
    "du[0,interior].max(),du[0,interior].min()"
   ]
  },
  {
   "cell_type": "code",
   "execution_count": 49,
   "metadata": {},
   "outputs": [
    {
     "data": {
      "text/plain": [
       "(2.000000000000014, 1.9999999999999964)"
      ]
     },
     "execution_count": 49,
     "metadata": {},
     "output_type": "execute_result"
    }
   ],
   "source": [
    "du[1,interior].max(),du[1,interior].min()"
   ]
  },
  {
   "cell_type": "markdown",
   "metadata": {},
   "source": [
    "### 2.2 Centered finite differences\n",
    "\n",
    "Again, we choose a linear function, in order to confirm that the upwind scheme is exact in this case."
   ]
  },
  {
   "cell_type": "code",
   "execution_count": 50,
   "metadata": {},
   "outputs": [],
   "source": [
    "du = dom.DiffCentered(u,(1,0),h)"
   ]
  },
  {
   "cell_type": "code",
   "execution_count": 51,
   "metadata": {},
   "outputs": [
    {
     "data": {
      "text/plain": [
       "(1.000000000000007, 0.9999999999999929)"
      ]
     },
     "execution_count": 51,
     "metadata": {},
     "output_type": "execute_result"
    }
   ],
   "source": [
    "du[interior].max(),du[interior].min()"
   ]
  },
  {
   "cell_type": "code",
   "execution_count": 52,
   "metadata": {},
   "outputs": [],
   "source": [
    "du = dom.DiffCentered(u,np.eye(2).astype(int),h)"
   ]
  },
  {
   "cell_type": "code",
   "execution_count": 53,
   "metadata": {},
   "outputs": [
    {
     "data": {
      "text/plain": [
       "(1.000000000000007, 0.9999999999999929)"
      ]
     },
     "execution_count": 53,
     "metadata": {},
     "output_type": "execute_result"
    }
   ],
   "source": [
    "du[0,interior].max(),du[0,interior].min()"
   ]
  },
  {
   "cell_type": "code",
   "execution_count": 54,
   "metadata": {},
   "outputs": [
    {
     "data": {
      "text/plain": [
       "(2.000000000000007, 1.9999999999999982)"
      ]
     },
     "execution_count": 54,
     "metadata": {},
     "output_type": "execute_result"
    }
   ],
   "source": [
    "du[1,interior].max(),du[1,interior].min()"
   ]
  },
  {
   "cell_type": "markdown",
   "metadata": {},
   "source": [
    "### 2.3 Second order finite differences\n",
    "\n",
    "The second order differences of a linear function identically vanish."
   ]
  },
  {
   "cell_type": "code",
   "execution_count": 57,
   "metadata": {},
   "outputs": [],
   "source": [
    "d2u = dom.Diff2(u,(1,0),h)"
   ]
  },
  {
   "cell_type": "code",
   "execution_count": 58,
   "metadata": {},
   "outputs": [
    {
     "data": {
      "text/plain": [
       "(3.2429064881463735e-13, -2.9013828376870805e-13)"
      ]
     },
     "execution_count": 58,
     "metadata": {},
     "output_type": "execute_result"
    }
   ],
   "source": [
    "d2u[interior].max(),d2u[interior].min()"
   ]
  },
  {
   "cell_type": "code",
   "execution_count": 59,
   "metadata": {},
   "outputs": [],
   "source": [
    "d2u = dom.Diff2(u,np.eye(2).astype(int),h)"
   ]
  },
  {
   "cell_type": "code",
   "execution_count": 60,
   "metadata": {},
   "outputs": [
    {
     "data": {
      "text/plain": [
       "(3.2429064881463735e-13, -2.9013828376870805e-13)"
      ]
     },
     "execution_count": 60,
     "metadata": {},
     "output_type": "execute_result"
    }
   ],
   "source": [
    "d2u[0,interior].max(),d2u[0,interior].min()"
   ]
  },
  {
   "cell_type": "code",
   "execution_count": 61,
   "metadata": {},
   "outputs": [
    {
     "data": {
      "text/plain": [
       "(2.9013828376870805e-13, -2.9013828376870805e-13)"
      ]
     },
     "execution_count": 61,
     "metadata": {},
     "output_type": "execute_result"
    }
   ],
   "source": [
    "d2u[1,interior].max(),d2u[1,interior].min()"
   ]
  },
  {
   "cell_type": "markdown",
   "metadata": {},
   "source": [
    "We need to use quadratic polynomials to illustrate consistency in a non-trivial manner."
   ]
  },
  {
   "cell_type": "code",
   "execution_count": 62,
   "metadata": {},
   "outputs": [],
   "source": [
    "def bc2(x): return x[0]**2+x[0]*x[1]\n",
    "dom2 = Domain.Dirichlet(cup,bc2)\n",
    "dom2.set_grid(X,interior_radius=h/2)"
   ]
  },
  {
   "cell_type": "code",
   "execution_count": 63,
   "metadata": {},
   "outputs": [],
   "source": [
    "u2 = bc2(X)"
   ]
  },
  {
   "cell_type": "code",
   "execution_count": 65,
   "metadata": {},
   "outputs": [
    {
     "data": {
      "text/plain": [
       "(2.0000000000001723, 1.9999999999998097)"
      ]
     },
     "execution_count": 65,
     "metadata": {},
     "output_type": "execute_result"
    }
   ],
   "source": [
    "d2u = dom2.Diff2(u2,(1,0),h)\n",
    "d2u[interior].max(),d2u[interior].min()"
   ]
  },
  {
   "cell_type": "code",
   "execution_count": 66,
   "metadata": {},
   "outputs": [],
   "source": [
    "d2u = dom2.Diff2(u2,np.eye(2).astype(int),h)"
   ]
  },
  {
   "cell_type": "code",
   "execution_count": 67,
   "metadata": {},
   "outputs": [
    {
     "data": {
      "text/plain": [
       "(2.0000000000001723, 1.9999999999998097)"
      ]
     },
     "execution_count": 67,
     "metadata": {},
     "output_type": "execute_result"
    }
   ],
   "source": [
    "d2u[0,interior].max(),d2u[0,interior].min()"
   ]
  },
  {
   "cell_type": "code",
   "execution_count": 68,
   "metadata": {},
   "outputs": [
    {
     "data": {
      "text/plain": [
       "(1.4506914188435402e-13, -1.4506914188435402e-13)"
      ]
     },
     "execution_count": 68,
     "metadata": {},
     "output_type": "execute_result"
    }
   ],
   "source": [
    "d2u[1,interior].max(),d2u[1,interior].min()"
   ]
  },
  {
   "cell_type": "code",
   "execution_count": null,
   "metadata": {},
   "outputs": [],
   "source": []
  }
 ],
 "metadata": {
  "kernelspec": {
   "display_name": "Python 3",
   "language": "python",
   "name": "python3"
  },
  "language_info": {
   "codemirror_mode": {
    "name": "ipython",
    "version": 3
   },
   "file_extension": ".py",
   "mimetype": "text/x-python",
   "name": "python",
   "nbconvert_exporter": "python",
   "pygments_lexer": "ipython3",
   "version": "3.7.3"
  }
 },
 "nbformat": 4,
 "nbformat_minor": 2
}
