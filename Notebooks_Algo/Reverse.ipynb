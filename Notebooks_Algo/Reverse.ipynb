{
 "cells": [
  {
   "cell_type": "markdown",
   "metadata": {},
   "source": [
    "# Adaptive PDE discretizations on cartesian grids : Algorithmic tools\n",
    "\n",
    "## Part : Automatic differentiation\n",
    "## Chapter : Reverse automatic differentiation"
   ]
  },
  {
   "cell_type": "markdown",
   "metadata": {},
   "source": [
    "This notebook illustrates *reverse first order* automatic differentiation. Recall that this approach is recommended for functions from a large dimensional space, to a small dimensional space, and whose jacobian does not have a sparse structure. It is typically appropriate for large scale optimization problems.\n",
    "\n",
    "**Disclaimer.** First order reverse automatic differentiation is a classical feature, found in many packages better optimized and maintained than this one. If you only need this specific feature, then it could be wise to use another implementation."
   ]
  },
  {
   "cell_type": "code",
   "execution_count": 1,
   "metadata": {},
   "outputs": [
    {
     "data": {
      "text/markdown": [
       "[**Summary**](Summary.ipynb) of this series of notebooks. "
      ],
      "text/plain": [
       "<IPython.core.display.Markdown object>"
      ]
     },
     "metadata": {},
     "output_type": "display_data"
    },
    {
     "data": {
      "text/markdown": [
       "[**Main summary**](../Summary.ipynb), including the other volumes of this work. "
      ],
      "text/plain": [
       "<IPython.core.display.Markdown object>"
      ]
     },
     "metadata": {},
     "output_type": "display_data"
    },
    {
     "data": {
      "text/markdown": [
       "\n",
       "# Table of contents"
      ],
      "text/plain": [
       "<IPython.core.display.Markdown object>"
      ]
     },
     "metadata": {},
     "output_type": "display_data"
    },
    {
     "data": {
      "text/markdown": [
       "  * [1. Generating variables and requesting an expression's derivatives](#1.-Generating-variables-and-requesting-an-expression's-derivatives)\n",
       "    * [1.1 Gradient](#1.1-Gradient)\n",
       "    * [1.2 Hessian operator](#1.2-Hessian-operator)\n",
       "  * [2. Linear operators and their adjoints](#2.-Linear-operators-and-their-adjoints)\n",
       "    * [2.1 Linear mapping](#2.1-Linear-mapping)\n",
       "    * [2.2 Linear inversion](#2.2-Linear-inversion)\n",
       "  * [3 Non-linear operators](#3-Non-linear-operators)\n",
       "    * [3.2 Loops](#3.2-Loops)"
      ],
      "text/plain": [
       "<IPython.core.display.Markdown object>"
      ]
     },
     "metadata": {},
     "output_type": "display_data"
    },
    {
     "data": {
      "text/markdown": [
       "\n",
       "\n",
       "\n",
       "**Acknowledgement.** The experiments presented in these notebooks are part of ongoing research, \n",
       "some of it with PhD student Guillaume Bonnet, in co-direction with Frederic Bonnans.\n",
       "\n",
       "Copyright Jean-Marie Mirebeau, University Paris-Sud, CNRS, University Paris-Saclay\n"
      ],
      "text/plain": [
       "<IPython.core.display.Markdown object>"
      ]
     },
     "metadata": {},
     "output_type": "display_data"
    }
   ],
   "source": [
    "import sys; sys.path.append(\"..\") # Allow imports from parent directory\n",
    "from Miscellaneous import TocTools; TocTools.displayTOC('Reverse','Algo')"
   ]
  },
  {
   "cell_type": "markdown",
   "metadata": {},
   "source": [
    "**Known bugs and incompatibilities.** Our implementation of automatic differentiation is based on subclassing the numpy array class. While simple and powerful, this approach suffers from a few pitfalls, described in the notebook linked below."
   ]
  },
  {
   "cell_type": "code",
   "execution_count": 2,
   "metadata": {},
   "outputs": [
    {
     "data": {
      "text/markdown": [
       "Notebook [ADBugs](./Notebooks_Algo/ADBugs.ipynb) , from volume Algo [Summary](./Notebooks_Algo/Summary.ipynb) "
      ],
      "text/plain": [
       "<IPython.core.display.Markdown object>"
      ]
     },
     "metadata": {},
     "output_type": "display_data"
    }
   ],
   "source": [
    "TocTools.MakeLink('ADBugs','Algo')"
   ]
  },
  {
   "cell_type": "markdown",
   "metadata": {},
   "source": [
    "## 0. Importing the required libraries"
   ]
  },
  {
   "cell_type": "code",
   "execution_count": 3,
   "metadata": {},
   "outputs": [],
   "source": [
    "import numpy as np\n",
    "import scipy.sparse; import scipy.sparse.linalg"
   ]
  },
  {
   "cell_type": "code",
   "execution_count": 4,
   "metadata": {},
   "outputs": [],
   "source": [
    "import NumericalSchemes.AutomaticDifferentiation as ad\n",
    "import NumericalSchemes.FiniteDifferences as fd"
   ]
  },
  {
   "cell_type": "code",
   "execution_count": 5,
   "metadata": {},
   "outputs": [],
   "source": [
    "def LInfNorm(a): return np.max(np.abs(a))"
   ]
  },
  {
   "cell_type": "markdown",
   "metadata": {},
   "source": [
    "## 1. Generating variables and requesting an expression's derivatives\n",
    "\n",
    "Reverse automatic differentiation works by keeping a history of the computations. The sensitivity of the result w.r.t some components is obtained by propagating the sensitivities backward in the computation queue and using the operator adjoints.\n",
    "\n",
    "Our implementation of the reverseAD is differs from the denseAD or sparseAD classes: here we do not define an data type overloading the arithmetic operators and the basic special functions. Instead, the reverseAD class is only meant to keep a history of user specified computations.\n",
    "\n",
    "This section only shows how to generate variables, and request an expression's derivatives. See the next section for an actual use of automatic differentiation.\n",
    "For a beginning, we create an empty history.\n",
    "<!---Our implementation of reverse automatic differentiation is probably --->"
   ]
  },
  {
   "cell_type": "markdown",
   "metadata": {},
   "source": [
    "### 1.1 Gradient"
   ]
  },
  {
   "cell_type": "code",
   "execution_count": 6,
   "metadata": {},
   "outputs": [],
   "source": [
    "x0=np.linspace(0,np.pi,4)\n",
    "gridScale=x0[1]-x0[0]\n",
    "u0=np.sin(x0)\n",
    "v0=np.cos(x0)"
   ]
  },
  {
   "cell_type": "code",
   "execution_count": 7,
   "metadata": {},
   "outputs": [],
   "source": [
    "# Create an empty history\n",
    "rev = ad.Reverse.empty()\n",
    "# Create AD variables w.r.t which the gradient will be required\n",
    "u1 = rev.identity(constant=u0)\n",
    "v1 = rev.identity(constant=v0)"
   ]
  },
  {
   "cell_type": "markdown",
   "metadata": {},
   "source": [
    "The generated AD variables are of sparse AD type."
   ]
  },
  {
   "cell_type": "code",
   "execution_count": 8,
   "metadata": {},
   "outputs": [
    {
     "name": "stdout",
     "output_type": "stream",
     "text": [
      "u1: spAD(array([0.00000000e+00, 8.66025404e-01, 8.66025404e-01, 1.22464680e-16]), array([[1.],\n",
      "       [1.],\n",
      "       [1.],\n",
      "       [1.]]), array([[0],\n",
      "       [1],\n",
      "       [2],\n",
      "       [3]]))\n",
      "v1: spAD(array([ 1. ,  0.5, -0.5, -1. ]), array([[1.],\n",
      "       [1.],\n",
      "       [1.],\n",
      "       [1.]]), array([[4],\n",
      "       [5],\n",
      "       [6],\n",
      "       [7]]))\n"
     ]
    }
   ],
   "source": [
    "print(\"u1:\",u1)\n",
    "print(\"v1:\",v1)"
   ]
  },
  {
   "cell_type": "markdown",
   "metadata": {},
   "source": [
    "If we make some computation using the variables registered in the reverseAD class, then we can request the gradient of the final expression."
   ]
  },
  {
   "cell_type": "code",
   "execution_count": 9,
   "metadata": {},
   "outputs": [],
   "source": [
    "result = (u1**2+v1**2).sum()"
   ]
  },
  {
   "cell_type": "code",
   "execution_count": 10,
   "metadata": {},
   "outputs": [
    {
     "data": {
      "text/plain": [
       "array([ 0.00000000e+00,  1.73205081e+00,  1.73205081e+00,  2.44929360e-16,\n",
       "        2.00000000e+00,  1.00000000e+00, -1.00000000e+00, -2.00000000e+00])"
      ]
     },
     "execution_count": 10,
     "metadata": {},
     "output_type": "execute_result"
    }
   ],
   "source": [
    "rev.gradient(result)"
   ]
  },
  {
   "cell_type": "markdown",
   "metadata": {},
   "source": [
    "If needed, this expression can be reshaped similar to the input variables."
   ]
  },
  {
   "cell_type": "code",
   "execution_count": 11,
   "metadata": {},
   "outputs": [],
   "source": [
    "u_grad,v_grad = rev.to_inputshapes(rev.gradient(result))"
   ]
  },
  {
   "cell_type": "code",
   "execution_count": 12,
   "metadata": {},
   "outputs": [],
   "source": [
    "assert LInfNorm(v_grad-2*v0) < 1e-6"
   ]
  },
  {
   "cell_type": "code",
   "execution_count": 13,
   "metadata": {},
   "outputs": [
    {
     "data": {
      "text/plain": [
       "False"
      ]
     },
     "execution_count": 13,
     "metadata": {},
     "output_type": "execute_result"
    }
   ],
   "source": [
    "[(1,2)]==[]"
   ]
  },
  {
   "cell_type": "markdown",
   "metadata": {},
   "source": [
    "### 1.2 Hessian operator\n",
    "\n",
    "The hessian operator may be accessed as well, using the Reverse2 submodule. Note that the hessian matrix itself is never assembled, since in applications it would typically be dense and of large size."
   ]
  },
  {
   "cell_type": "code",
   "execution_count": 14,
   "metadata": {},
   "outputs": [],
   "source": [
    "# Create an empty history\n",
    "rev = ad.Reverse2.empty()\n",
    "# Create AD variables w.r.t which the gradient will be required\n",
    "u1 = rev.identity(constant=u0)\n",
    "v1 = rev.identity(constant=v0)\n",
    "result = (u1**2+v1**2).sum()"
   ]
  },
  {
   "cell_type": "code",
   "execution_count": 15,
   "metadata": {},
   "outputs": [],
   "source": [
    "grad = rev.gradient(result) # Gradient\n",
    "hess = rev.hessian(result) # Hessian operator"
   ]
  },
  {
   "cell_type": "code",
   "execution_count": 16,
   "metadata": {},
   "outputs": [
    {
     "data": {
      "text/plain": [
       "array([ 0.00000000e+00,  1.73205081e+00,  1.73205081e+00,  2.44929360e-16,\n",
       "        2.00000000e+00,  1.00000000e+00, -1.00000000e+00, -2.00000000e+00])"
      ]
     },
     "execution_count": 16,
     "metadata": {},
     "output_type": "execute_result"
    }
   ],
   "source": [
    "grad"
   ]
  },
  {
   "cell_type": "markdown",
   "metadata": {},
   "source": [
    "In this specific example, the hessian operator is twice the identity."
   ]
  },
  {
   "cell_type": "code",
   "execution_count": 17,
   "metadata": {},
   "outputs": [
    {
     "data": {
      "text/plain": [
       "array([ 0.00000000e+00,  3.46410162e+00,  3.46410162e+00,  4.89858720e-16,\n",
       "        4.00000000e+00,  2.00000000e+00, -2.00000000e+00, -4.00000000e+00])"
      ]
     },
     "execution_count": 17,
     "metadata": {},
     "output_type": "execute_result"
    }
   ],
   "source": [
    "hess(grad)"
   ]
  },
  {
   "cell_type": "markdown",
   "metadata": {},
   "source": [
    "### 1.3 Simplification of the AD information\n",
    "\n",
    "Our implementation of reverse AD partly does rely on sparse AD, for the elementary operations.\n",
    "However, sparseness is easily lost, as in the example below, which may result in complexity issues."
   ]
  },
  {
   "cell_type": "code",
   "execution_count": 72,
   "metadata": {},
   "outputs": [],
   "source": [
    "rev = ad.Reverse2.empty()\n",
    "u1 = rev.identity(shape=(n,n))\n",
    "u2 = (1.+u1+u1**2).sum(axis=0)\n",
    "result = (u2**2).sum(axis=0)\n",
    "\n",
    "grad,hess = rev.gradient(result),rev.hessian(result)"
   ]
  },
  {
   "cell_type": "code",
   "execution_count": 73,
   "metadata": {},
   "outputs": [
    {
     "name": "stdout",
     "output_type": "stream",
     "text": [
      "Result AD size :  272\n"
     ]
    }
   ],
   "source": [
    "print(\"Result AD size : \",result.size_ad2)"
   ]
  },
  {
   "cell_type": "markdown",
   "metadata": {},
   "source": [
    "We can take advantage of reverse AD to reintroduce some sparsity. \n",
    "\n",
    "**Important.** \n",
    "Simplification based on reverse AD should not be confused with simplification based on sparse AD. The latter is *more costly* (involving sorting), and *less efficient* (it would have no effect in the situation above)."
   ]
  },
  {
   "cell_type": "code",
   "execution_count": 74,
   "metadata": {},
   "outputs": [],
   "source": [
    "rev = ad.Reverse2.empty()\n",
    "u1 = rev.identity(shape=(n,n))\n",
    "u2 = (1.+u1+u1**2).sum(axis=0)\n",
    "u2_simpl = rev.simplify(u2) # Intermediate simplification\n",
    "result = (u2_simpl**2).sum(axis=0)\n",
    "\n",
    "grad_simpl,hess_simpl = rev.gradient(result),rev.hessian(result)"
   ]
  },
  {
   "cell_type": "code",
   "execution_count": 80,
   "metadata": {},
   "outputs": [
    {
     "name": "stdout",
     "output_type": "stream",
     "text": [
      "Result AD size with intermediate simplification :  4\n"
     ]
    }
   ],
   "source": [
    "print(\"Result AD size with intermediate simplification : \",result_simpl.size_ad2)"
   ]
  },
  {
   "cell_type": "markdown",
   "metadata": {},
   "source": [
    "The complex symbolic perturbations in $u_2$ are replaced in $\\_u_2$ with placeholders, with negative indices."
   ]
  },
  {
   "cell_type": "code",
   "execution_count": 75,
   "metadata": {},
   "outputs": [
    {
     "data": {
      "text/plain": [
       "spAD2(array([0., 0., 0., 0.]), array([[1.],\n",
       "       [1.],\n",
       "       [1.],\n",
       "       [1.]]), array([[-1],\n",
       "       [-2],\n",
       "       [-3],\n",
       "       [-4]]), array([], shape=(4, 0), dtype=float64), array([], shape=(4, 0), dtype=int64), array([], shape=(4, 0), dtype=int64))"
      ]
     },
     "execution_count": 75,
     "metadata": {},
     "output_type": "execute_result"
    }
   ],
   "source": [
    "_u2"
   ]
  },
  {
   "cell_type": "markdown",
   "metadata": {},
   "source": [
    "The relative dependency of the old and new symbolic perturbations is registered, which allows computing derivatives."
   ]
  },
  {
   "cell_type": "code",
   "execution_count": 79,
   "metadata": {},
   "outputs": [],
   "source": [
    "assert LInfNorm(grad-grad_simpl) < 1e-13\n",
    "dir_hessian = grad**2+1.\n",
    "assert LInfNorm(hess(dir_hessian)-hess_simpl(dir_hessian)) < 1e-13"
   ]
  },
  {
   "cell_type": "markdown",
   "metadata": {},
   "source": [
    "## 2. Linear operators and their adjoints\n",
    "\n",
    "We illustrate Reverse automatic differentiation, in its intended use case involving operators operators whose jacobians are expected to be both high-dimensional and non-sparse. Note that linear operators often fit this desciption. For instance:\n",
    "* A linear mapping, given in sparse form, but iterated many times.\n",
    "* The inverse of a linear mapping, given in sparse form.\n",
    "* The fast fourier transform, etc"
   ]
  },
  {
   "cell_type": "markdown",
   "metadata": {},
   "source": [
    "### 2.1 Linear mapping\n",
    "\n",
    "We first construct some sparse matrix, for the exposition, based on a transport scheme implemented using upwind finite differences."
   ]
  },
  {
   "cell_type": "code",
   "execution_count": 18,
   "metadata": {},
   "outputs": [],
   "source": [
    "def TransportScheme(u,h,speed,dt):\n",
    "    return u+dt*speed*fd.DiffUpwind(u,(1,),h,padding=0.)"
   ]
  },
  {
   "cell_type": "markdown",
   "metadata": {},
   "source": [
    "In order to construct the matrix, we evaluate the scheme on a sparse AD variable."
   ]
  },
  {
   "cell_type": "code",
   "execution_count": 19,
   "metadata": {},
   "outputs": [],
   "source": [
    "speed = 1.; T=1.5; nsteps=5; dt = T/nsteps;\n",
    "transport_ad = TransportScheme(ad.Sparse.identity(u0.shape),gridScale,speed,dt)"
   ]
  },
  {
   "cell_type": "code",
   "execution_count": 20,
   "metadata": {},
   "outputs": [],
   "source": [
    "transport_matrix = scipy.sparse.coo_matrix(transport_ad.triplets()).tocsr()"
   ]
  },
  {
   "cell_type": "markdown",
   "metadata": {},
   "source": [
    "We can now use this matrix in the course of reverse AD computations, mixing both linear and non-linear steps."
   ]
  },
  {
   "cell_type": "code",
   "execution_count": 21,
   "metadata": {},
   "outputs": [],
   "source": [
    "rev = ad.Reverse.empty() # Create the reverse AD environnement\n",
    "u1 = rev.identity(constant=u0) # Generate the variables.\n",
    "v1 = rev.identity(constant=v0)\n",
    "u2 = rev.apply_linear_mapping(transport_matrix,u1**2,niter=nsteps) #Implement the desired method\n",
    "result_Reverse = (u2*v1).sum()"
   ]
  },
  {
   "cell_type": "markdown",
   "metadata": {},
   "source": [
    "Due to the numerous iterations, the variable $u_2$ does not depend in a sparse manner on $u_1$.\n",
    "In our implementation, the variable $u_2$ is of sparseAD type but features negative placeholder indices. \n",
    "Likewise for the final computation result."
   ]
  },
  {
   "cell_type": "code",
   "execution_count": 22,
   "metadata": {},
   "outputs": [
    {
     "data": {
      "text/plain": [
       "spAD(array([5.02050076e-01, 4.17158585e-01, 1.38706040e-01, 2.77367654e-33]), array([[1.],\n",
       "       [1.],\n",
       "       [1.],\n",
       "       [1.]]), array([[-1],\n",
       "       [-2],\n",
       "       [-3],\n",
       "       [-4]]))"
      ]
     },
     "execution_count": 22,
     "metadata": {},
     "output_type": "execute_result"
    }
   ],
   "source": [
    "u2"
   ]
  },
  {
   "cell_type": "code",
   "execution_count": 23,
   "metadata": {},
   "outputs": [
    {
     "data": {
      "text/plain": [
       "spAD(array(0.64127635), array([ 1.00000000e+00,  5.00000000e-01, -5.00000000e-01, -1.00000000e+00,\n",
       "        5.02050076e-01,  4.17158585e-01,  1.38706040e-01,  2.77367654e-33]), array([-1, -2, -3, -4,  4,  5,  6,  7]))"
      ]
     },
     "execution_count": 23,
     "metadata": {},
     "output_type": "execute_result"
    }
   ],
   "source": [
    "result_Reverse"
   ]
  },
  {
   "cell_type": "markdown",
   "metadata": {},
   "source": [
    "The negative indices are newly introduced symbolic perturbations, whose depedence on the original ones is known thanks to the registered adjoint. This is exploited for computing the gradient of the result."
   ]
  },
  {
   "cell_type": "code",
   "execution_count": 24,
   "metadata": {},
   "outputs": [
    {
     "data": {
      "text/plain": [
       "array([ 0.00000000e+00,  8.03222547e-01,  6.77741743e-01, -2.49367755e-17,\n",
       "        5.02050076e-01,  4.17158585e-01,  1.38706040e-01,  2.77367654e-33])"
      ]
     },
     "execution_count": 24,
     "metadata": {},
     "output_type": "execute_result"
    }
   ],
   "source": [
    "rev.gradient(result_Reverse)"
   ]
  },
  {
   "cell_type": "markdown",
   "metadata": {},
   "source": [
    "We can check the validity of this implementation using dense automatic differentiation, since this specific instance is small."
   ]
  },
  {
   "cell_type": "code",
   "execution_count": 25,
   "metadata": {},
   "outputs": [],
   "source": [
    "n=x0.size\n",
    "u1 = ad.Dense2.identity(constant=u0,shift=(0,n))\n",
    "v1 = ad.Dense2.identity(constant=v0,shift=(n,0))\n",
    "u2 = ad.apply_linear_mapping(transport_matrix,u1**2,niter=nsteps)\n",
    "result_Dense2 = (u2*v1).sum()"
   ]
  },
  {
   "cell_type": "code",
   "execution_count": 26,
   "metadata": {},
   "outputs": [],
   "source": [
    "assert LInfNorm(rev.gradient(result_Reverse) - result_Dense2.coef1) < 1e-13"
   ]
  },
  {
   "cell_type": "markdown",
   "metadata": {},
   "source": [
    "Second order reverse automatic differentiation is also implemented."
   ]
  },
  {
   "cell_type": "code",
   "execution_count": 27,
   "metadata": {},
   "outputs": [],
   "source": [
    "rev = ad.Reverse2.empty()\n",
    "u1 = rev.identity(constant=u0)\n",
    "v1 = rev.identity(constant=v0)\n",
    "u2 = rev.apply_linear_mapping(transport_matrix,u1**2,niter=nsteps) \n",
    "result_Reverse2 = (u2*v1).sum()"
   ]
  },
  {
   "cell_type": "code",
   "execution_count": 28,
   "metadata": {},
   "outputs": [],
   "source": [
    "assert LInfNorm(rev.gradient(result_Reverse2) - result_Dense2.coef1) < 1e-13"
   ]
  },
  {
   "cell_type": "code",
   "execution_count": 29,
   "metadata": {},
   "outputs": [],
   "source": [
    "grad = rev.gradient(result_Reverse2)\n",
    "hess = rev.hessian(result_Reverse2)"
   ]
  },
  {
   "cell_type": "markdown",
   "metadata": {},
   "source": [
    "Note that the hessian is provided as an operator, that can be applied to arbitrary vectors. This is enough to run e.g. the conjugate gradient method."
   ]
  },
  {
   "cell_type": "code",
   "execution_count": 31,
   "metadata": {},
   "outputs": [
    {
     "data": {
      "text/plain": [
       "<function NumericalSchemes.AutomaticDifferentiation.Reverse2.reverseAD2.hessian.<locals>.hess_operator(dir_hessian, coef2_init=None, with_grad=False)>"
      ]
     },
     "execution_count": 31,
     "metadata": {},
     "output_type": "execute_result"
    }
   ],
   "source": [
    "hess"
   ]
  },
  {
   "cell_type": "code",
   "execution_count": 32,
   "metadata": {},
   "outputs": [],
   "source": [
    "dir_hessian = grad**2+1.\n",
    "assert LInfNorm(hess(dir_hessian) - np.dot(result_Dense2.coef2,dir_hessian)) < 1e-13"
   ]
  },
  {
   "cell_type": "markdown",
   "metadata": {},
   "source": [
    "### 2.2 Linear inversion\n",
    "\n",
    "Linear inversion is almost always a non-local procedure, but with a simple and explicit adjoint. It is again a good fit for reverse AD. The procedure is almost identical, except for the choice of a linear solver."
   ]
  },
  {
   "cell_type": "code",
   "execution_count": 93,
   "metadata": {},
   "outputs": [],
   "source": [
    "rev = ad.Reverse2.empty()\n",
    "u1 = rev.identity(constant=u0)\n",
    "v1 = rev.identity(constant=v0)\n",
    "\n",
    "# Choose a solver, and request the inversion.\n",
    "solver = scipy.sparse.linalg.spsolve\n",
    "u2 = rev.apply_linear_inverse(solver,transport_matrix,u1**2) \n",
    "\n",
    "result_Reverse2 = (u2*v1).sum()\n",
    "\n",
    "grad = rev.gradient(result_Reverse2)\n",
    "hess = rev.hessian(result_Reverse2)"
   ]
  },
  {
   "cell_type": "markdown",
   "metadata": {},
   "source": [
    "Again, we control the results in this simple instance using dense AD."
   ]
  },
  {
   "cell_type": "code",
   "execution_count": 94,
   "metadata": {},
   "outputs": [],
   "source": [
    "n=x0.size\n",
    "u1 = ad.Dense2.identity(constant=u0,shift=(0,n))\n",
    "v1 = ad.Dense2.identity(constant=v0,shift=(n,0))\n",
    "u2 = ad.apply_linear_inverse(solver,transport_matrix,u1**2)\n",
    "result_Dense2 = (u2*v1).sum()"
   ]
  },
  {
   "cell_type": "code",
   "execution_count": 95,
   "metadata": {},
   "outputs": [],
   "source": [
    "assert LInfNorm(grad - result_Dense2.coef1) < 1e-13\n",
    "dir_hessian = grad**2+1.\n",
    "assert LInfNorm(hess(dir_hessian) - np.dot(result_Dense2.coef2,dir_hessian)) < 1e-13"
   ]
  },
  {
   "cell_type": "markdown",
   "metadata": {},
   "source": [
    "## 3. Non-linear operators\n",
    "\n",
    "In the previous section, we have shown how to apply reverse AD to operators which are either:\n",
    "- linear\n",
    "- non-linear but local\n",
    "- compositions of the above\n",
    "\n",
    "We discuss here the general case of arbitrary non-linear operators. These techniques are typically needed in the context of non-linear evolution equations.\n",
    "\n",
    "<!---\n",
    "Since solving linear problems is a common operation, a factory method `ad.Reverse.linear_solution_with_adjoint` is provided to produce functions equivalent to `mysolve`. It is illustrated in a further subsection.\n",
    "\n",
    "Two equivalent syntaxes are available to evaluate a function using reverse automatic differentiation:\n",
    "* Using `rev.apply`, where rev is the reverseAD variable keeping the history of the computations.\n",
    "* Using `ad.apply`, and specifying the `reverse_history = rev` optional argument. This latter approach has the advantage of being compatible with the `envelope` keyword for differentiating extrema.\n",
    "--->"
   ]
  },
  {
   "cell_type": "markdown",
   "metadata": {},
   "source": [
    "### 3.1 Defining an operator and its adjoint.\n",
    "\n",
    "For the purposes of illustration, we define an operator which:\n",
    "- has multiple inputs, each multi-dimensional.\n",
    "- has a multi-dimensional output.\n",
    "- is nonlocal (because of the inner loop involving a linear mapping)."
   ]
  },
  {
   "cell_type": "code",
   "execution_count": 139,
   "metadata": {},
   "outputs": [],
   "source": [
    "def my_operator(u,v,co_output=None,co_output2=None):    \n",
    "    # Generate an operator-like AD environnement\n",
    "    rev,(u1,v1) = ad.Reverse.operator_like(inputs=(u,v),co_output=co_output,co_output2=co_output2)\n",
    "    \n",
    "    # Do some computations\n",
    "    u2 = rev.apply_linear_mapping(transport_matrix,u1**2,niter=nsteps)\n",
    "    result = u2*v1\n",
    "    \n",
    "    # Return the suitably converted output\n",
    "    return rev.output(result)"
   ]
  },
  {
   "cell_type": "markdown",
   "metadata": {},
   "source": [
    "The non-linear operator defined above can be applied to scalar variables, or dense AD variables. (The multiplication with the `transport_matrix` forbids the use of sparse AD variables.)"
   ]
  },
  {
   "cell_type": "code",
   "execution_count": 179,
   "metadata": {},
   "outputs": [],
   "source": [
    "result_scalar = (my_operator(u0,u0*v0)*v0).sum()"
   ]
  },
  {
   "cell_type": "code",
   "execution_count": 198,
   "metadata": {},
   "outputs": [],
   "source": [
    "n=x0.size\n",
    "u1 = ad.Dense2.identity(constant=u0,shift=(0,n))\n",
    "v1 = ad.Dense2.identity(constant=v0,shift=(n,0))\n",
    "\n",
    "result_Dense2 = (my_operator(u1,u1*v1)*v1).sum()"
   ]
  },
  {
   "cell_type": "markdown",
   "metadata": {},
   "source": [
    "It can also be used in a reverse AD context. (Note that this is *recursive* reverse AD.)"
   ]
  },
  {
   "cell_type": "code",
   "execution_count": 181,
   "metadata": {},
   "outputs": [],
   "source": [
    "ad.reload_submodules()"
   ]
  },
  {
   "cell_type": "code",
   "execution_count": 182,
   "metadata": {},
   "outputs": [],
   "source": [
    "rev = ad.Reverse.empty()\n",
    "u1 = rev.identity(constant=u0)\n",
    "v1 = rev.identity(constant=v0)\n",
    "\n",
    "result_Reverse = (rev.apply(my_operator,u1,u1*v1)*v1).sum()\n",
    "\n",
    "grad = rev.gradient(result_Reverse)"
   ]
  },
  {
   "cell_type": "code",
   "execution_count": 183,
   "metadata": {},
   "outputs": [],
   "source": [
    "assert LInfNorm(grad - result_Dense2.coef1) < 1e-13"
   ]
  },
  {
   "cell_type": "code",
   "execution_count": 169,
   "metadata": {},
   "outputs": [],
   "source": [
    "ad.reload_submodules()"
   ]
  },
  {
   "cell_type": "code",
   "execution_count": 199,
   "metadata": {},
   "outputs": [],
   "source": [
    "rev = ad.Reverse2.empty()\n",
    "u1 = rev.identity(constant=u0)\n",
    "v1 = rev.identity(constant=v0)\n",
    "\n",
    "result_Reverse2 = (rev.apply(my_operator,u1,u1*v1)*v1).sum()\n",
    "\n",
    "grad = rev.gradient(result_Reverse2)\n",
    "hess = rev.hessian(result_Reverse2)"
   ]
  },
  {
   "cell_type": "code",
   "execution_count": 200,
   "metadata": {},
   "outputs": [
    {
     "ename": "AssertionError",
     "evalue": "",
     "output_type": "error",
     "traceback": [
      "\u001b[0;31m---------------------------------------------------------------------------\u001b[0m",
      "\u001b[0;31mAssertionError\u001b[0m                            Traceback (most recent call last)",
      "\u001b[0;32m<ipython-input-200-d2aca63366cf>\u001b[0m in \u001b[0;36m<module>\u001b[0;34m\u001b[0m\n\u001b[1;32m      1\u001b[0m \u001b[0;32massert\u001b[0m \u001b[0mLInfNorm\u001b[0m\u001b[0;34m(\u001b[0m\u001b[0mgrad\u001b[0m \u001b[0;34m-\u001b[0m \u001b[0mresult_Dense2\u001b[0m\u001b[0;34m.\u001b[0m\u001b[0mcoef1\u001b[0m\u001b[0;34m)\u001b[0m \u001b[0;34m<\u001b[0m \u001b[0;36m1e-13\u001b[0m\u001b[0;34m\u001b[0m\u001b[0;34m\u001b[0m\u001b[0m\n\u001b[1;32m      2\u001b[0m \u001b[0mdir_hessian\u001b[0m \u001b[0;34m=\u001b[0m \u001b[0mgrad\u001b[0m\u001b[0;34m**\u001b[0m\u001b[0;36m2\u001b[0m\u001b[0;34m+\u001b[0m\u001b[0;36m1.\u001b[0m\u001b[0;34m\u001b[0m\u001b[0;34m\u001b[0m\u001b[0m\n\u001b[0;32m----> 3\u001b[0;31m \u001b[0;32massert\u001b[0m \u001b[0mLInfNorm\u001b[0m\u001b[0;34m(\u001b[0m\u001b[0mhess\u001b[0m\u001b[0;34m(\u001b[0m\u001b[0mdir_hessian\u001b[0m\u001b[0;34m)\u001b[0m\u001b[0;34m-\u001b[0m\u001b[0mnp\u001b[0m\u001b[0;34m.\u001b[0m\u001b[0mdot\u001b[0m\u001b[0;34m(\u001b[0m\u001b[0mresult_Dense2\u001b[0m\u001b[0;34m.\u001b[0m\u001b[0mcoef2\u001b[0m\u001b[0;34m,\u001b[0m\u001b[0mdir_hessian\u001b[0m\u001b[0;34m)\u001b[0m\u001b[0;34m)\u001b[0m \u001b[0;34m<\u001b[0m \u001b[0;36m1e-13\u001b[0m\u001b[0;34m\u001b[0m\u001b[0;34m\u001b[0m\u001b[0m\n\u001b[0m",
      "\u001b[0;31mAssertionError\u001b[0m: "
     ]
    }
   ],
   "source": [
    "assert LInfNorm(grad - result_Dense2.coef1) < 1e-13\n",
    "dir_hessian = grad**2+1.\n",
    "assert LInfNorm(hess(dir_hessian)-np.dot(result_Dense2.coef2,dir_hessian)) < 1e-13"
   ]
  },
  {
   "cell_type": "code",
   "execution_count": 203,
   "metadata": {},
   "outputs": [
    {
     "data": {
      "text/plain": [
       "array([-5.02050076e-01, -3.92611613e-01, -1.03733795e-01,  5.55111512e-17,\n",
       "        0.00000000e+00, -4.08421426e-01, -1.21856271e-01,  2.73691106e-48])"
      ]
     },
     "execution_count": 203,
     "metadata": {},
     "output_type": "execute_result"
    }
   ],
   "source": [
    "hess(dir_hessian)-np.dot(result_Dense2.coef2,dir_hessian)"
   ]
  },
  {
   "cell_type": "code",
   "execution_count": 202,
   "metadata": {},
   "outputs": [
    {
     "data": {
      "text/plain": [
       "array([ 2.21348023e+00,  2.00813490e+00,  1.44435055e+00,  2.89858746e-01,\n",
       "        1.25718789e+00,  2.12221511e+00, -1.97028695e-01, -1.66420592e-32])"
      ]
     },
     "execution_count": 202,
     "metadata": {},
     "output_type": "execute_result"
    }
   ],
   "source": []
  },
  {
   "cell_type": "code",
   "execution_count": 193,
   "metadata": {},
   "outputs": [],
   "source": [
    "# Previous implem\n",
    "rev = ad.Reverse2.empty()\n",
    "u1 = rev.identity(constant=u0)\n",
    "v1 = rev.identity(constant=v0)\n",
    "\n",
    "result_Reverse2 = ((rev.apply_linear_mapping(transport_matrix,u1**2,niter=nsteps)*(u1*v1))*v1).sum()\n",
    "\n",
    "grad = rev.gradient(result_Reverse2)\n",
    "hess = rev.hessian(result_Reverse2)"
   ]
  },
  {
   "cell_type": "code",
   "execution_count": 194,
   "metadata": {},
   "outputs": [],
   "source": [
    "assert LInfNorm(grad - result_Dense2.coef1) < 1e-13\n",
    "dir_hessian = grad**2+1.\n",
    "assert LInfNorm(hess(dir_hessian)-np.dot(result_Dense2.coef2,dir_hessian)) < 1e-13"
   ]
  },
  {
   "cell_type": "markdown",
   "metadata": {},
   "source": [
    "### 3.1.1 Some testing"
   ]
  },
  {
   "cell_type": "code",
   "execution_count": 222,
   "metadata": {},
   "outputs": [],
   "source": [
    "def my_operator(u,co_output=None,co_output2=None):    \n",
    "    # Generate an operator-like AD environnement\n",
    "    rev,(u1,) = ad.Reverse.operator_like(inputs=(u,),co_output=co_output,co_output2=co_output2)\n",
    "    \n",
    "    result = u1\n",
    "    \n",
    "    return rev.output(result)"
   ]
  },
  {
   "cell_type": "code",
   "execution_count": 228,
   "metadata": {},
   "outputs": [],
   "source": [
    "n=x0.size\n",
    "u1 = ad.Dense2.identity(constant=u0,shift=(0,n))\n",
    "v1 = ad.Dense2.identity(constant=v0,shift=(n,0))\n",
    "\n",
    "result_Dense2 = (my_operator(u1)*v1).sum()"
   ]
  },
  {
   "cell_type": "code",
   "execution_count": 234,
   "metadata": {},
   "outputs": [],
   "source": [
    "rev = ad.Reverse2.empty()\n",
    "u1 = rev.identity(constant=u0)\n",
    "v1 = rev.identity(constant=v0)\n",
    "\n",
    "result_Reverse2 = (rev.apply(my_operator,u1)*v1).sum()\n",
    "\n",
    "grad = rev.gradient(result_Reverse2)\n",
    "hess = rev.hessian(result_Reverse2)"
   ]
  },
  {
   "cell_type": "code",
   "execution_count": 235,
   "metadata": {},
   "outputs": [],
   "source": [
    "assert LInfNorm(grad - result_Dense2.coef1) < 1e-13\n",
    "dir_hessian = grad**2+1. "
   ]
  },
  {
   "cell_type": "code",
   "execution_count": 236,
   "metadata": {},
   "outputs": [
    {
     "data": {
      "text/plain": [
       "array([0.  , 0.  , 0.  , 0.  , 2.  , 1.25, 1.25, 2.  ])"
      ]
     },
     "execution_count": 236,
     "metadata": {},
     "output_type": "execute_result"
    }
   ],
   "source": [
    "hess(dir_hessian)"
   ]
  },
  {
   "cell_type": "code",
   "execution_count": 237,
   "metadata": {},
   "outputs": [
    {
     "data": {
      "text/plain": [
       "array([1.  , 1.75, 1.75, 1.  , 2.  , 1.25, 1.25, 2.  ])"
      ]
     },
     "execution_count": 237,
     "metadata": {},
     "output_type": "execute_result"
    }
   ],
   "source": [
    "np.dot(result_Dense2.coef2,dir_hessian)"
   ]
  },
  {
   "cell_type": "markdown",
   "metadata": {},
   "source": [
    "### 3.2 Loops\n",
    "\n",
    "**Note on complexity** Reverse automatic differentiation requires saving program state at each intermediate computation steps.\n",
    "If a program contains a loop, this may result in severe memory usage. Therefore, it is common to only store a small proportion of the intermediate states, referred to as keypoints, and to use recomputations for reconstructing the other steps. For best efficiency, this procedure must be made recursive. \n",
    "\n",
    "\n",
    "Using recursive reverse automatic differentiation, we can achieve this behavior.\n",
    "*TODO : We will provide a helper function for that purpose.*"
   ]
  },
  {
   "cell_type": "code",
   "execution_count": 20,
   "metadata": {},
   "outputs": [],
   "source": [
    "mysolve = ad.Reverse.linear_inverse_with_adjoint(scipy.sparse.linalg.spsolve,matrix)"
   ]
  },
  {
   "cell_type": "code",
   "execution_count": 21,
   "metadata": {},
   "outputs": [],
   "source": [
    "rev = ad.Reverse.empty()\n",
    "u1 = rev.identity(constant=u0)\n",
    "v1 = rev.identity(constant=v0)\n",
    "\n",
    "u3 = rev.iterate(mysolve,u1,niter=2)\n",
    "#u3 = rev.apply_linear_inverse(matrix,scipy.sparse.linalg.spsolve,u1,niter=2) # Equivalent\n",
    "\n",
    "result = (u3*v1).sum()"
   ]
  },
  {
   "cell_type": "code",
   "execution_count": 22,
   "metadata": {},
   "outputs": [
    {
     "data": {
      "text/plain": [
       "spAD(array(5.69821876), array([ 1.00000000e+00,  5.00000000e-01, -5.00000000e-01, -1.00000000e+00,\n",
       "        4.74851563e+00,  2.84910938e+00,  9.49703126e-01,  1.34297549e-16]), array([-5, -6, -7, -8,  4,  5,  6,  7]))"
      ]
     },
     "execution_count": 22,
     "metadata": {},
     "output_type": "execute_result"
    }
   ],
   "source": [
    "result"
   ]
  },
  {
   "cell_type": "code",
   "execution_count": 23,
   "metadata": {},
   "outputs": [
    {
     "data": {
      "text/plain": [
       "array([1.09662271e+00, 2.74155678e+00, 3.83817949e+00, 3.83817949e+00,\n",
       "       4.74851563e+00, 2.84910938e+00, 9.49703126e-01, 1.34297549e-16])"
      ]
     },
     "execution_count": 23,
     "metadata": {},
     "output_type": "execute_result"
    }
   ],
   "source": [
    "rev.gradient(result)"
   ]
  },
  {
   "cell_type": "code",
   "execution_count": null,
   "metadata": {},
   "outputs": [],
   "source": []
  }
 ],
 "metadata": {
  "kernelspec": {
   "display_name": "Python 3",
   "language": "python",
   "name": "python3"
  },
  "language_info": {
   "codemirror_mode": {
    "name": "ipython",
    "version": 3
   },
   "file_extension": ".py",
   "mimetype": "text/x-python",
   "name": "python",
   "nbconvert_exporter": "python",
   "pygments_lexer": "ipython3",
   "version": "3.7.3"
  }
 },
 "nbformat": 4,
 "nbformat_minor": 2
}
