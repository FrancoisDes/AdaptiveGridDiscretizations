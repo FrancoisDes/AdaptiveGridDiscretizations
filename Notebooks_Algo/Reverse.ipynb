{
 "cells": [
  {
   "cell_type": "markdown",
   "metadata": {},
   "source": [
    "# Adaptive PDE discretizations on cartesian grids : Algorithmic tools\n",
    "\n",
    "## Part : Automatic differentiation\n",
    "## Chapter : Reverse automatic differentiation"
   ]
  },
  {
   "cell_type": "markdown",
   "metadata": {},
   "source": [
    "This notebook illustrates *reverse first order* automatic differentiation. Recall that this approach is recommended for functions from a large dimensional space, to a small dimensional space, and whose jacobian does not have a sparse structure. It is typically appropriate for large scale optimization problems.\n",
    "\n",
    "**Disclaimer.** First order reverse automatic differentiation is a classical feature, found in many packages better optimized and maintained than this one. If you only need this specific feature, then it could be wise to use another implementation."
   ]
  },
  {
   "cell_type": "code",
   "execution_count": 1,
   "metadata": {},
   "outputs": [
    {
     "data": {
      "text/markdown": [
       "[**Summary**](Summary.ipynb) of this series of notebooks. "
      ],
      "text/plain": [
       "<IPython.core.display.Markdown object>"
      ]
     },
     "metadata": {},
     "output_type": "display_data"
    },
    {
     "data": {
      "text/markdown": [
       "[**Main summary**](../Summary.ipynb), including the other volumes of this work. "
      ],
      "text/plain": [
       "<IPython.core.display.Markdown object>"
      ]
     },
     "metadata": {},
     "output_type": "display_data"
    },
    {
     "data": {
      "text/markdown": [
       "\n",
       "# Table of contents"
      ],
      "text/plain": [
       "<IPython.core.display.Markdown object>"
      ]
     },
     "metadata": {},
     "output_type": "display_data"
    },
    {
     "data": {
      "text/markdown": [
       "  * [1. Generating variables and requesting an expression's derivatives](#1.-Generating-variables-and-requesting-an-expression's-derivatives)\n",
       "    * [1.1 Gradient](#1.1-Gradient)\n",
       "    * [1.2 Hessian operator](#1.2-Hessian-operator)\n",
       "    * [1.3 Simplification of the AD information](#1.3-Simplification-of-the-AD-information)\n",
       "  * [2. Linear operators and their adjoints](#2.-Linear-operators-and-their-adjoints)\n",
       "    * [2.1 Linear mapping](#2.1-Linear-mapping)\n",
       "    * [2.2 Linear inversion](#2.2-Linear-inversion)\n",
       "  * [3. Non-linear operators](#3.-Non-linear-operators)\n",
       "    * [3.1 Defining an operator and its adjoint](#3.1-Defining-an-operator-and-its-adjoint)\n",
       "    * [3.1 Defining an operator from a block of instructions](#3.1-Defining-an-operator-from-a-block-of-instructions)\n",
       "    * [3.2 Loops](#3.2-Loops)"
      ],
      "text/plain": [
       "<IPython.core.display.Markdown object>"
      ]
     },
     "metadata": {},
     "output_type": "display_data"
    },
    {
     "data": {
      "text/markdown": [
       "\n",
       "\n",
       "\n",
       "**Acknowledgement.** The experiments presented in these notebooks are part of ongoing research, \n",
       "some of it with PhD student Guillaume Bonnet, in co-direction with Frederic Bonnans.\n",
       "\n",
       "Copyright Jean-Marie Mirebeau, University Paris-Sud, CNRS, University Paris-Saclay\n"
      ],
      "text/plain": [
       "<IPython.core.display.Markdown object>"
      ]
     },
     "metadata": {},
     "output_type": "display_data"
    }
   ],
   "source": [
    "import sys; sys.path.append(\"..\") # Allow imports from parent directory\n",
    "from Miscellaneous import TocTools; TocTools.displayTOC('Reverse','Algo')"
   ]
  },
  {
   "cell_type": "markdown",
   "metadata": {},
   "source": [
    "**Known bugs and incompatibilities.** Our implementation of automatic differentiation is based on subclassing the numpy array class. While simple and powerful, this approach suffers from a few pitfalls, described in the notebook linked below."
   ]
  },
  {
   "cell_type": "code",
   "execution_count": 2,
   "metadata": {},
   "outputs": [
    {
     "data": {
      "text/markdown": [
       "Notebook [ADBugs](./Notebooks_Algo/ADBugs.ipynb) , from volume Algo [Summary](./Notebooks_Algo/Summary.ipynb) "
      ],
      "text/plain": [
       "<IPython.core.display.Markdown object>"
      ]
     },
     "metadata": {},
     "output_type": "display_data"
    }
   ],
   "source": [
    "TocTools.MakeLink('ADBugs','Algo')"
   ]
  },
  {
   "cell_type": "markdown",
   "metadata": {},
   "source": [
    "## 0. Importing the required libraries"
   ]
  },
  {
   "cell_type": "code",
   "execution_count": 3,
   "metadata": {},
   "outputs": [],
   "source": [
    "import numpy as np\n",
    "import scipy.sparse; import scipy.sparse.linalg"
   ]
  },
  {
   "cell_type": "code",
   "execution_count": 4,
   "metadata": {},
   "outputs": [],
   "source": [
    "import NumericalSchemes.AutomaticDifferentiation as ad\n",
    "import NumericalSchemes.FiniteDifferences as fd"
   ]
  },
  {
   "cell_type": "code",
   "execution_count": 5,
   "metadata": {},
   "outputs": [],
   "source": [
    "def LInfNorm(a): return np.max(np.abs(a))"
   ]
  },
  {
   "cell_type": "markdown",
   "metadata": {},
   "source": [
    "## 1. Generating variables and requesting an expression's derivatives\n",
    "\n",
    "Reverse automatic differentiation works by keeping a history of the computations. The sensitivity of the result w.r.t some components is obtained by propagating the sensitivities backward in the computation queue and using the operator adjoints.\n",
    "\n",
    "Our implementation of the reverseAD is differs from the denseAD or sparseAD classes: here we do not define an data type overloading the arithmetic operators and the basic special functions. Instead, the reverseAD class is only meant to keep a history of user specified computations.\n",
    "\n",
    "This section only shows how to generate variables, and request an expression's derivatives. See the next section for an actual use of automatic differentiation.\n",
    "For a beginning, we create an empty history.\n",
    "<!---Our implementation of reverse automatic differentiation is probably --->"
   ]
  },
  {
   "cell_type": "markdown",
   "metadata": {},
   "source": [
    "### 1.1 Gradient\n",
    "\n",
    "We first create some basic numpy arrays."
   ]
  },
  {
   "cell_type": "code",
   "execution_count": 6,
   "metadata": {},
   "outputs": [],
   "source": [
    "x0=np.linspace(0,np.pi,4)\n",
    "gridScale=x0[1]-x0[0]\n",
    "u0=np.sin(x0)\n",
    "v0=np.cos(x0)"
   ]
  },
  {
   "cell_type": "markdown",
   "metadata": {},
   "source": [
    "Then we generate a reverseAD history, and register the variables of interest."
   ]
  },
  {
   "cell_type": "code",
   "execution_count": 7,
   "metadata": {},
   "outputs": [],
   "source": [
    "# Create an empty history\n",
    "rev = ad.Reverse.empty()\n",
    "# Create AD variables w.r.t which the gradient will be required\n",
    "u1 = rev.identity(constant=u0)\n",
    "v1 = rev.identity(constant=v0)\n",
    "\n",
    "# Equivalently formulation : \n",
    "#rev,(u1,v1) = ad.Reverse.empty(inputs=(u0,v0))"
   ]
  },
  {
   "cell_type": "markdown",
   "metadata": {},
   "source": [
    "The generated AD variables are of sparse AD type."
   ]
  },
  {
   "cell_type": "code",
   "execution_count": 8,
   "metadata": {},
   "outputs": [
    {
     "name": "stdout",
     "output_type": "stream",
     "text": [
      "u1: spAD(array([0.00000000e+00, 8.66025404e-01, 8.66025404e-01, 1.22464680e-16]), array([[1.],\n",
      "       [1.],\n",
      "       [1.],\n",
      "       [1.]]), array([[0],\n",
      "       [1],\n",
      "       [2],\n",
      "       [3]]))\n",
      "v1: spAD(array([ 1. ,  0.5, -0.5, -1. ]), array([[1.],\n",
      "       [1.],\n",
      "       [1.],\n",
      "       [1.]]), array([[4],\n",
      "       [5],\n",
      "       [6],\n",
      "       [7]]))\n"
     ]
    }
   ],
   "source": [
    "print(\"u1:\",u1)\n",
    "print(\"v1:\",v1)"
   ]
  },
  {
   "cell_type": "markdown",
   "metadata": {},
   "source": [
    "If we make some computation using the variables registered in the reverseAD class, then we can request the gradient of the final expression."
   ]
  },
  {
   "cell_type": "code",
   "execution_count": 9,
   "metadata": {},
   "outputs": [],
   "source": [
    "result = (u1**2+v1**2).sum()"
   ]
  },
  {
   "cell_type": "code",
   "execution_count": 10,
   "metadata": {},
   "outputs": [
    {
     "data": {
      "text/plain": [
       "array([ 0.00000000e+00,  1.73205081e+00,  1.73205081e+00,  2.44929360e-16,\n",
       "        2.00000000e+00,  1.00000000e+00, -1.00000000e+00, -2.00000000e+00])"
      ]
     },
     "execution_count": 10,
     "metadata": {},
     "output_type": "execute_result"
    }
   ],
   "source": [
    "rev.gradient(result)"
   ]
  },
  {
   "cell_type": "markdown",
   "metadata": {},
   "source": [
    "If needed, this expression can be reshaped similar to the input variables."
   ]
  },
  {
   "cell_type": "code",
   "execution_count": 11,
   "metadata": {},
   "outputs": [],
   "source": [
    "u_grad,v_grad = rev.to_inputshapes(rev.gradient(result))"
   ]
  },
  {
   "cell_type": "code",
   "execution_count": 12,
   "metadata": {},
   "outputs": [],
   "source": [
    "assert LInfNorm(v_grad-2*v0) < 1e-6"
   ]
  },
  {
   "cell_type": "code",
   "execution_count": 13,
   "metadata": {},
   "outputs": [
    {
     "data": {
      "text/plain": [
       "False"
      ]
     },
     "execution_count": 13,
     "metadata": {},
     "output_type": "execute_result"
    }
   ],
   "source": [
    "[(1,2)]==[]"
   ]
  },
  {
   "cell_type": "markdown",
   "metadata": {},
   "source": [
    "### 1.2 Hessian operator\n",
    "\n",
    "The hessian operator may be accessed as well, using the Reverse2 submodule. Note that the hessian matrix itself is never assembled, since in applications it would typically be dense and of large size."
   ]
  },
  {
   "cell_type": "code",
   "execution_count": 14,
   "metadata": {},
   "outputs": [],
   "source": [
    "# Create an empty history\n",
    "rev,(u1,v1) = ad.Reverse2.empty(inputs=(u0,v0))\n",
    "result = (u1**2+v1**2).sum()"
   ]
  },
  {
   "cell_type": "code",
   "execution_count": 15,
   "metadata": {},
   "outputs": [],
   "source": [
    "grad = rev.gradient(result) # Gradient\n",
    "hess = rev.hessian(result) # Hessian operator"
   ]
  },
  {
   "cell_type": "code",
   "execution_count": 16,
   "metadata": {},
   "outputs": [
    {
     "data": {
      "text/plain": [
       "array([ 0.00000000e+00,  1.73205081e+00,  1.73205081e+00,  2.44929360e-16,\n",
       "        2.00000000e+00,  1.00000000e+00, -1.00000000e+00, -2.00000000e+00])"
      ]
     },
     "execution_count": 16,
     "metadata": {},
     "output_type": "execute_result"
    }
   ],
   "source": [
    "grad"
   ]
  },
  {
   "cell_type": "markdown",
   "metadata": {},
   "source": [
    "In this specific example, the hessian operator is twice the identity."
   ]
  },
  {
   "cell_type": "code",
   "execution_count": 17,
   "metadata": {},
   "outputs": [
    {
     "data": {
      "text/plain": [
       "array([ 0.00000000e+00,  3.46410162e+00,  3.46410162e+00,  4.89858720e-16,\n",
       "        4.00000000e+00,  2.00000000e+00, -2.00000000e+00, -4.00000000e+00])"
      ]
     },
     "execution_count": 17,
     "metadata": {},
     "output_type": "execute_result"
    }
   ],
   "source": [
    "hess(grad)"
   ]
  },
  {
   "cell_type": "markdown",
   "metadata": {},
   "source": [
    "### 1.3 Simplification of the AD information\n",
    "\n",
    "Our implementation of reverse AD partly does rely on sparse AD, for the elementary operations.\n",
    "However, sparseness is easily lost, as in the example below, which may result in complexity issues."
   ]
  },
  {
   "cell_type": "code",
   "execution_count": 18,
   "metadata": {},
   "outputs": [],
   "source": [
    "n=4\n",
    "rev = ad.Reverse2.empty()\n",
    "u1 = rev.identity(shape=(n,n))\n",
    "u2 = (1.+u1+u1**2).sum(axis=0)\n",
    "result = (u2**2).sum(axis=0)\n",
    "\n",
    "grad,hess = rev.gradient(result),rev.hessian(result)"
   ]
  },
  {
   "cell_type": "code",
   "execution_count": 19,
   "metadata": {},
   "outputs": [
    {
     "name": "stdout",
     "output_type": "stream",
     "text": [
      "Result AD size :  272\n"
     ]
    }
   ],
   "source": [
    "print(\"Result AD size : \",result.size_ad2)"
   ]
  },
  {
   "cell_type": "markdown",
   "metadata": {},
   "source": [
    "We can take advantage of reverse AD to reintroduce some sparsity. \n",
    "\n",
    "**Important.** \n",
    "Simplification based on reverse AD should not be confused with simplification based on sparse AD. The latter is *more costly* (involving sorting), and *less efficient* (it would have no effect in the situation above)."
   ]
  },
  {
   "cell_type": "code",
   "execution_count": 20,
   "metadata": {},
   "outputs": [],
   "source": [
    "rev = ad.Reverse2.empty()\n",
    "u1 = rev.identity(shape=(n,n))\n",
    "u2 = (1.+u1+u1**2).sum(axis=0)\n",
    "u2_simpl = rev.simplify(u2) # Intermediate simplification\n",
    "result = (u2_simpl**2).sum(axis=0)\n",
    "\n",
    "grad_simpl,hess_simpl = rev.gradient(result),rev.hessian(result)"
   ]
  },
  {
   "cell_type": "code",
   "execution_count": 21,
   "metadata": {},
   "outputs": [
    {
     "name": "stdout",
     "output_type": "stream",
     "text": [
      "Result AD size with intermediate simplification :  4\n"
     ]
    }
   ],
   "source": [
    "print(\"Result AD size with intermediate simplification : \",result.size_ad2)"
   ]
  },
  {
   "cell_type": "markdown",
   "metadata": {},
   "source": [
    "The complex symbolic perturbations in $u_2$ are replaced in $\\_u_2$ with placeholders, with negative indices."
   ]
  },
  {
   "cell_type": "code",
   "execution_count": 22,
   "metadata": {},
   "outputs": [
    {
     "data": {
      "text/plain": [
       "spAD2(array([4., 4., 4., 4.]), array([[1.],\n",
       "       [1.],\n",
       "       [1.],\n",
       "       [1.]]), array([[-1],\n",
       "       [-2],\n",
       "       [-3],\n",
       "       [-4]]), array([], shape=(4, 0), dtype=float64), array([], shape=(4, 0), dtype=int64), array([], shape=(4, 0), dtype=int64))"
      ]
     },
     "execution_count": 22,
     "metadata": {},
     "output_type": "execute_result"
    }
   ],
   "source": [
    "u2_simpl"
   ]
  },
  {
   "cell_type": "markdown",
   "metadata": {},
   "source": [
    "The relative dependency of the old and new symbolic perturbations is registered, which allows computing derivatives."
   ]
  },
  {
   "cell_type": "code",
   "execution_count": 23,
   "metadata": {},
   "outputs": [],
   "source": [
    "assert LInfNorm(grad-grad_simpl) < 1e-13\n",
    "dir_hessian = grad**2+1.\n",
    "assert LInfNorm(hess(dir_hessian)-hess_simpl(dir_hessian)) < 1e-13"
   ]
  },
  {
   "cell_type": "markdown",
   "metadata": {},
   "source": [
    "## 2. Linear operators and their adjoints\n",
    "\n",
    "We illustrate Reverse automatic differentiation, in its intended use case involving operators operators whose jacobians are expected to be both high-dimensional and non-sparse. Note that linear operators often fit this desciption. For instance:\n",
    "* A linear mapping, given in sparse form, but iterated many times.\n",
    "* The inverse of a linear mapping, given in sparse form.\n",
    "* The fast fourier transform, etc"
   ]
  },
  {
   "cell_type": "markdown",
   "metadata": {},
   "source": [
    "### 2.1 Linear mapping\n",
    "\n",
    "We first construct some sparse matrix, for the exposition, based on a transport scheme implemented using upwind finite differences."
   ]
  },
  {
   "cell_type": "code",
   "execution_count": 24,
   "metadata": {},
   "outputs": [],
   "source": [
    "def TransportScheme(u,h,speed,dt):\n",
    "    return u+dt*speed*fd.DiffUpwind(u,(1,),h,padding=0.)"
   ]
  },
  {
   "cell_type": "markdown",
   "metadata": {},
   "source": [
    "In order to construct the matrix, we evaluate the scheme on a sparse AD variable."
   ]
  },
  {
   "cell_type": "code",
   "execution_count": 25,
   "metadata": {},
   "outputs": [],
   "source": [
    "speed = 1.; T=1.5; nsteps=5; dt = T/nsteps;\n",
    "transport_ad = TransportScheme(ad.Sparse.identity(u0.shape),gridScale,speed,dt)"
   ]
  },
  {
   "cell_type": "code",
   "execution_count": 26,
   "metadata": {},
   "outputs": [],
   "source": [
    "transport_matrix = scipy.sparse.coo_matrix(transport_ad.triplets()).tocsr()"
   ]
  },
  {
   "cell_type": "markdown",
   "metadata": {},
   "source": [
    "We can now use this matrix in the course of reverse AD computations, mixing both linear and non-linear steps."
   ]
  },
  {
   "cell_type": "code",
   "execution_count": 27,
   "metadata": {},
   "outputs": [],
   "source": [
    "rev,(u1,v1) = ad.Reverse.empty(inputs=(u0,v0)) # Create the reverse AD environnement\n",
    "u2 = rev.apply_linear_mapping(transport_matrix,u1**2,niter=nsteps) #Implement the desired method\n",
    "result_Reverse = (u2*v1).sum()"
   ]
  },
  {
   "cell_type": "markdown",
   "metadata": {},
   "source": [
    "Due to the multiple iterations, the variable $u_2$ does not depend in a sparse manner on $u_1$.\n",
    "In our implementation, the variable $u_2$ is of sparseAD type but features negative placeholder indices. \n",
    "Likewise for the final computation result."
   ]
  },
  {
   "cell_type": "code",
   "execution_count": 28,
   "metadata": {},
   "outputs": [
    {
     "data": {
      "text/plain": [
       "spAD(array([5.02050076e-01, 4.17158585e-01, 1.38706040e-01, 2.77367654e-33]), array([[1.],\n",
       "       [1.],\n",
       "       [1.],\n",
       "       [1.]]), array([[-1],\n",
       "       [-2],\n",
       "       [-3],\n",
       "       [-4]]))"
      ]
     },
     "execution_count": 28,
     "metadata": {},
     "output_type": "execute_result"
    }
   ],
   "source": [
    "u2"
   ]
  },
  {
   "cell_type": "code",
   "execution_count": 29,
   "metadata": {},
   "outputs": [
    {
     "data": {
      "text/plain": [
       "spAD(array(0.64127635), array([ 1.00000000e+00,  5.00000000e-01, -5.00000000e-01, -1.00000000e+00,\n",
       "        5.02050076e-01,  4.17158585e-01,  1.38706040e-01,  2.77367654e-33]), array([-1, -2, -3, -4,  4,  5,  6,  7]))"
      ]
     },
     "execution_count": 29,
     "metadata": {},
     "output_type": "execute_result"
    }
   ],
   "source": [
    "result_Reverse"
   ]
  },
  {
   "cell_type": "markdown",
   "metadata": {},
   "source": [
    "The negative indices are newly introduced symbolic perturbations, whose depedence on the original ones is known thanks to the registered adjoint. This is exploited for computing the gradient of the result."
   ]
  },
  {
   "cell_type": "code",
   "execution_count": 30,
   "metadata": {},
   "outputs": [
    {
     "data": {
      "text/plain": [
       "array([ 0.00000000e+00,  8.03222547e-01,  6.77741743e-01, -2.49367755e-17,\n",
       "        5.02050076e-01,  4.17158585e-01,  1.38706040e-01,  2.77367654e-33])"
      ]
     },
     "execution_count": 30,
     "metadata": {},
     "output_type": "execute_result"
    }
   ],
   "source": [
    "rev.gradient(result_Reverse)"
   ]
  },
  {
   "cell_type": "markdown",
   "metadata": {},
   "source": [
    "We can check the validity of this implementation using dense automatic differentiation, since this specific instance is small."
   ]
  },
  {
   "cell_type": "code",
   "execution_count": 31,
   "metadata": {},
   "outputs": [],
   "source": [
    "n=x0.size\n",
    "u1 = ad.Dense2.identity(constant=u0,shift=(0,n))\n",
    "v1 = ad.Dense2.identity(constant=v0,shift=(n,0))\n",
    "u2 = ad.apply_linear_mapping(transport_matrix,u1**2,niter=nsteps)\n",
    "result_Dense2 = (u2*v1).sum()"
   ]
  },
  {
   "cell_type": "code",
   "execution_count": 32,
   "metadata": {},
   "outputs": [],
   "source": [
    "assert LInfNorm(rev.gradient(result_Reverse) - result_Dense2.coef1) < 1e-13"
   ]
  },
  {
   "cell_type": "markdown",
   "metadata": {},
   "source": [
    "Second order reverse automatic differentiation is also implemented."
   ]
  },
  {
   "cell_type": "code",
   "execution_count": 33,
   "metadata": {},
   "outputs": [],
   "source": [
    "rev,(u1,v1) = ad.Reverse2.empty(inputs=(u0,v0))\n",
    "u2 = rev.apply_linear_mapping(transport_matrix,u1**2,niter=nsteps) \n",
    "result_Reverse2 = (u2*v1).sum()"
   ]
  },
  {
   "cell_type": "code",
   "execution_count": 34,
   "metadata": {},
   "outputs": [],
   "source": [
    "assert LInfNorm(rev.gradient(result_Reverse2) - result_Dense2.coef1) < 1e-13"
   ]
  },
  {
   "cell_type": "code",
   "execution_count": 35,
   "metadata": {},
   "outputs": [],
   "source": [
    "grad = rev.gradient(result_Reverse2)\n",
    "hess = rev.hessian(result_Reverse2)"
   ]
  },
  {
   "cell_type": "markdown",
   "metadata": {},
   "source": [
    "Note that the hessian is provided as an operator, that can be applied to arbitrary vectors. This is enough to run e.g. the conjugate gradient method."
   ]
  },
  {
   "cell_type": "code",
   "execution_count": 36,
   "metadata": {},
   "outputs": [
    {
     "data": {
      "text/plain": [
       "<function NumericalSchemes.AutomaticDifferentiation.Reverse2.reverseAD2.hessian.<locals>.hess_operator(dir_hessian, coef2_init=None, with_grad=False)>"
      ]
     },
     "execution_count": 36,
     "metadata": {},
     "output_type": "execute_result"
    }
   ],
   "source": [
    "hess"
   ]
  },
  {
   "cell_type": "code",
   "execution_count": 37,
   "metadata": {},
   "outputs": [],
   "source": [
    "dir_hessian = grad**2+1.\n",
    "assert LInfNorm(hess(dir_hessian) - np.dot(result_Dense2.coef2,dir_hessian)) < 1e-13"
   ]
  },
  {
   "cell_type": "markdown",
   "metadata": {},
   "source": [
    "### 2.2 Linear inversion\n",
    "\n",
    "Linear inversion is almost always a non-local procedure, but with a simple and explicit adjoint. It is again a good fit for reverse AD. The procedure is almost identical, except for the choice of a linear solver."
   ]
  },
  {
   "cell_type": "code",
   "execution_count": 38,
   "metadata": {},
   "outputs": [],
   "source": [
    "rev,(u1,v1) = ad.Reverse2.empty(inputs=(u0,v0))\n",
    "\n",
    "# Choose a solver, and request the inversion.\n",
    "solver = scipy.sparse.linalg.spsolve\n",
    "u2 = rev.apply_linear_inverse(solver,transport_matrix,u1**2) \n",
    "\n",
    "result_Reverse2 = (u2*v1).sum()\n",
    "\n",
    "grad = rev.gradient(result_Reverse2)\n",
    "hess = rev.hessian(result_Reverse2)"
   ]
  },
  {
   "cell_type": "markdown",
   "metadata": {},
   "source": [
    "Again, we control the results in this simple instance using dense AD."
   ]
  },
  {
   "cell_type": "code",
   "execution_count": 39,
   "metadata": {},
   "outputs": [],
   "source": [
    "n=x0.size\n",
    "u1 = ad.Dense2.identity(constant=u0,shift=(0,n))\n",
    "v1 = ad.Dense2.identity(constant=v0,shift=(n,0))\n",
    "u2 = ad.apply_linear_inverse(solver,transport_matrix,u1**2)\n",
    "result_Dense2 = (u2*v1).sum()"
   ]
  },
  {
   "cell_type": "code",
   "execution_count": 40,
   "metadata": {},
   "outputs": [],
   "source": [
    "assert LInfNorm(grad - result_Dense2.coef1) < 1e-13\n",
    "dir_hessian = grad**2+1.\n",
    "assert LInfNorm(hess(dir_hessian) - np.dot(result_Dense2.coef2,dir_hessian)) < 1e-13"
   ]
  },
  {
   "cell_type": "markdown",
   "metadata": {},
   "source": [
    "## 3. Non-linear operators\n",
    "\n",
    "In the previous section, we have shown how to apply reverse AD to operators which are either:\n",
    "- linear\n",
    "- non-linear but local\n",
    "- compositions of the above\n",
    "\n",
    "We discuss here the general case of arbitrary non-linear operators. These techniques are typically needed in the context of non-linear evolution equations.\n",
    "\n",
    "<!---\n",
    "Since solving linear problems is a common operation, a factory method `ad.Reverse.linear_solution_with_adjoint` is provided to produce functions equivalent to `mysolve`. It is illustrated in a further subsection.\n",
    "\n",
    "Two equivalent syntaxes are available to evaluate a function using reverse automatic differentiation:\n",
    "* Using `rev.apply`, where rev is the reverseAD variable keeping the history of the computations.\n",
    "* Using `ad.apply`, and specifying the `reverse_history = rev` optional argument. This latter approach has the advantage of being compatible with the `envelope` keyword for differentiating extrema.\n",
    "--->"
   ]
  },
  {
   "cell_type": "markdown",
   "metadata": {},
   "source": [
    "### 3.1 Defining an operator and its adjoint\n",
    "\n",
    "For an operator to be used in a reverse AD context, two execution paths must be implemented:\n",
    "* Standard program flow, the output is computed in a forward manner from the inputs.\n",
    "* Adjoint jacobian, if a co_output is specified. The operator should return a list of pairs, each consisting of an input argument and the relative co_input.\n",
    "\n",
    "**Note on the differentiation order.** The description above only applies to first order reverse AD. A slightly more complex implementation is required for second order reverse AD."
   ]
  },
  {
   "cell_type": "code",
   "execution_count": 41,
   "metadata": {},
   "outputs": [],
   "source": [
    "def my_operator(u,co_output=None):\n",
    "    if co_output is None: return transport_matrix*u # Standard program flow\n",
    "    else: return [(u, transport_matrix.T*co_output)] # Adjoint jacobian "
   ]
  },
  {
   "cell_type": "markdown",
   "metadata": {},
   "source": [
    "This operator is functionally equivalent "
   ]
  },
  {
   "cell_type": "code",
   "execution_count": 42,
   "metadata": {},
   "outputs": [],
   "source": [
    "rev,(u1,v1) = ad.Reverse.empty(inputs=(u0,v0)) # Create the reverse AD environnement\n",
    "u2 = rev.apply(my_operator,u1**2) #Implement the desired method\n",
    "result_Reverse = (u2*v1).sum()\n",
    "\n",
    "grad = rev.gradient(result_Reverse)"
   ]
  },
  {
   "cell_type": "code",
   "execution_count": 43,
   "metadata": {},
   "outputs": [
    {
     "data": {
      "text/plain": [
       "array([ 0.00000000e+00,  1.11412341e+00, -3.69829398e-01, -2.09845813e-16,\n",
       "        2.14859173e-01,  7.50000000e-01,  5.35140827e-01,  1.07011025e-32])"
      ]
     },
     "execution_count": 43,
     "metadata": {},
     "output_type": "execute_result"
    }
   ],
   "source": [
    "grad"
   ]
  },
  {
   "cell_type": "code",
   "execution_count": 44,
   "metadata": {},
   "outputs": [],
   "source": [
    "rev,(u1,v1) = ad.Reverse.empty(inputs=(u0,v0))\n",
    "u2 = rev.apply_linear_mapping(transport_matrix,u1**2) #Implement the desired method\n",
    "result_Reverse = (u2*v1).sum()\n",
    "\n",
    "assert LInfNorm(grad-rev.gradient(result_Reverse))<1e-13"
   ]
  },
  {
   "cell_type": "markdown",
   "metadata": {},
   "source": [
    "### 3.1 Defining an operator from a block of instructions\n",
    "\n",
    "For the purposes of illustration, we define an operator which:\n",
    "- has multiple inputs, each multi-dimensional.\n",
    "- has a multi-dimensional output.\n",
    "- is nonlocal (because of the inner loop involving a linear mapping).\n",
    "\n",
    "This operator is defined using a block of elementary instructions."
   ]
  },
  {
   "cell_type": "code",
   "execution_count": 45,
   "metadata": {},
   "outputs": [],
   "source": [
    "def my_operator(u,v,co_output=None):    \n",
    "    # Generate an operator-like AD environnement\n",
    "    rev,(u1,v1) = ad.Reverse.operator_like(inputs=(u,v),co_output=co_output)\n",
    "    \n",
    "    # Do some computations\n",
    "    u2 = rev.apply_linear_mapping(transport_matrix,u1**2,niter=nsteps)\n",
    "    result = u2*v1\n",
    "    \n",
    "    # Return the suitably converted result\n",
    "    return rev.output(result)"
   ]
  },
  {
   "cell_type": "markdown",
   "metadata": {},
   "source": [
    "The non-linear operator defined above can be applied to scalar variables, or dense AD variables. (The multiplication with the `transport_matrix` forbids the use of sparse AD variables.)"
   ]
  },
  {
   "cell_type": "code",
   "execution_count": 46,
   "metadata": {},
   "outputs": [],
   "source": [
    "result_scalar = (my_operator(u0,u0*v0)*v0).sum()"
   ]
  },
  {
   "cell_type": "code",
   "execution_count": 47,
   "metadata": {},
   "outputs": [],
   "source": [
    "n=x0.size\n",
    "u1 = ad.Dense2.identity(constant=u0,shift=(0,n))\n",
    "v1 = ad.Dense2.identity(constant=v0,shift=(n,0))\n",
    "\n",
    "result_Dense2 = (my_operator(u1,u1*v1)*v1).sum()"
   ]
  },
  {
   "cell_type": "markdown",
   "metadata": {},
   "source": [
    "It can also be used in a reverse AD context. (Note that this is *recursive* reverse AD.)"
   ]
  },
  {
   "cell_type": "code",
   "execution_count": 48,
   "metadata": {},
   "outputs": [],
   "source": [
    "rev,(u1,v1) = ad.Reverse.empty(inputs=(u0,v0))\n",
    "\n",
    "result_Reverse = (rev.apply(my_operator,u1,u1*v1)*v1).sum()\n",
    "\n",
    "grad = rev.gradient(result_Reverse)"
   ]
  },
  {
   "cell_type": "code",
   "execution_count": 49,
   "metadata": {},
   "outputs": [],
   "source": [
    "assert LInfNorm(grad - result_Dense2.coef1) < 1e-13"
   ]
  },
  {
   "cell_type": "code",
   "execution_count": 50,
   "metadata": {},
   "outputs": [],
   "source": [
    "rev,(u1,v1) = ad.Reverse2.empty(inputs=(u0,v0))\n",
    "\n",
    "result_Reverse2 = (rev.apply(my_operator,u1,u1*v1)*v1).sum()\n",
    "\n",
    "grad = rev.gradient(result_Reverse2)\n",
    "hess = rev.hessian(result_Reverse2)"
   ]
  },
  {
   "cell_type": "code",
   "execution_count": 51,
   "metadata": {},
   "outputs": [],
   "source": [
    "assert LInfNorm(grad - result_Dense2.coef1) < 1e-13\n",
    "dir_hessian = grad**2+1.\n",
    "assert LInfNorm(hess(dir_hessian)-np.dot(result_Dense2.coef2,dir_hessian)) < 1e-13"
   ]
  },
  {
   "cell_type": "markdown",
   "metadata": {},
   "source": [
    "### 3.2 Loops\n",
    "\n",
    "We illustrate recursive reverse AD in nested loops with the arithmetico-geometric mean. This approach allows to limit memory usage, at the cost of some recomputation.\n",
    "\n",
    "**Note on complexity** Reverse automatic differentiation requires saving program state at each intermediate computation steps.\n",
    "If a program contains a loop, this may result in severe memory usage. Therefore, it is common to only store a small proportion of the intermediate states, referred to as keypoints, and to use recomputations for reconstructing the other steps. For best efficiency, this procedure must be made recursive. \n",
    "\n",
    "<!---\n",
    "Using recursive reverse automatic differentiation, we can achieve this behavior.\n",
    "*TODO : Maybe provide a helper function for that purpose ?*--->"
   ]
  },
  {
   "cell_type": "markdown",
   "metadata": {},
   "source": [
    "Our first method makes $n$=niter iterations of the arithmetico-geometric algorithm. \n",
    "\n",
    "*Side note* : the chosen example is not perfect, because this algorithm converges excessively fast, hence we have to use a very small number of iterations, which seems pointless."
   ]
  },
  {
   "cell_type": "code",
   "execution_count": 156,
   "metadata": {},
   "outputs": [],
   "source": [
    "ad.reload_submodules()"
   ]
  },
  {
   "cell_type": "code",
   "execution_count": 157,
   "metadata": {},
   "outputs": [],
   "source": [
    "counter=0 # Iteration counter\n",
    "def my_loop(a,b,niter,co_output=None):\n",
    "    global counter\n",
    "    rev,(a,b) = ad.Reverse.operator_like(inputs=(a,b),co_output=co_output)\n",
    "    for i in range(niter):\n",
    "        a,b = (a+b)/2., np.sqrt(a*b)\n",
    "        a,b = rev.simplify(a),rev.simplify(b)\n",
    "        counter+=1\n",
    "    result = (a,b)\n",
    "    return rev.output(result)"
   ]
  },
  {
   "cell_type": "code",
   "execution_count": 158,
   "metadata": {},
   "outputs": [],
   "source": [
    "a0=np.array([1.,2.,4.,8.])\n",
    "b0=1/a0"
   ]
  },
  {
   "cell_type": "code",
   "execution_count": 159,
   "metadata": {},
   "outputs": [
    {
     "data": {
      "text/plain": [
       "((array([1.     , 1.125  , 1.5625 , 2.53125]),\n",
       "  array([1.        , 1.11803399, 1.45773797, 2.01556444])),\n",
       " 2)"
      ]
     },
     "execution_count": 159,
     "metadata": {},
     "output_type": "execute_result"
    }
   ],
   "source": [
    "niter=2; counter=0\n",
    "my_loop(a0,b0,niter),counter"
   ]
  },
  {
   "cell_type": "markdown",
   "metadata": {},
   "source": [
    "After the selected number of iterations, we are quite far from convergence.\n",
    "We do note want to increase $n$, which would augment the number of intermediate steps saved. Instead, we achieve $n^2$ iterations while saving only $2n$ states, using an outer loop. This comes at the cost of recomputing $2$ times each step in the gradient evaluation.\n",
    "\n",
    "With a similar basic recursion, one can achieve $n^k$ iterations, while saving only $k n$ steps, using $k$ nested loops. This comes at the cost of recomputing $k$ times each step in the gradient evaluation.\n",
    "\n",
    "With the convention below, $k=$`nrec`$+1$"
   ]
  },
  {
   "cell_type": "code",
   "execution_count": 160,
   "metadata": {},
   "outputs": [],
   "source": [
    "def my_outer_loop(a,b,niter,nrec,operator,co_output=None):\n",
    "    rev,(a,b) = ad.Reverse.operator_like(inputs=(a,b),co_output=co_output)\n",
    "    for i in range(niter):\n",
    "        if nrec==1: a,b = rev.apply(operator,a,b,niter)\n",
    "        else: a,b = rev.apply(my_outer_loop,a,b,niter,nrec-1,operator)\n",
    "    result = (a,b)\n",
    "    return rev.output(result)"
   ]
  },
  {
   "cell_type": "code",
   "execution_count": 161,
   "metadata": {},
   "outputs": [
    {
     "data": {
      "text/plain": [
       "((array([1.        , 1.12151429, 1.50966462, 2.26607262]),\n",
       "  array([1.        , 1.12151429, 1.50966455, 2.26606075])),\n",
       " 4)"
      ]
     },
     "execution_count": 161,
     "metadata": {},
     "output_type": "execute_result"
    }
   ],
   "source": [
    "niter=2; nrec=1; counter=0\n",
    "my_outer_loop(a0,b0,niter,nrec,my_loop), counter"
   ]
  },
  {
   "cell_type": "code",
   "execution_count": 162,
   "metadata": {},
   "outputs": [
    {
     "data": {
      "text/plain": [
       "((array([1.        , 1.12151429, 1.50966459, 2.26606669]),\n",
       "  array([1.        , 1.12151429, 1.50966459, 2.26606669])),\n",
       " 8)"
      ]
     },
     "execution_count": 162,
     "metadata": {},
     "output_type": "execute_result"
    }
   ],
   "source": [
    "niter=2; nrec=2; counter=0\n",
    "my_outer_loop(a0,b0,niter,nrec,my_loop), counter"
   ]
  },
  {
   "cell_type": "code",
   "execution_count": 163,
   "metadata": {},
   "outputs": [
    {
     "name": "stdout",
     "output_type": "stream",
     "text": [
      "Iteration counter for forward evaluation 8\n",
      "Iteration counter for backward evaluation 24\n"
     ]
    }
   ],
   "source": [
    "niter=2; nrec=2; counter=0; \n",
    "rev,(a1,b1) = ad.Reverse.empty(inputs=(a0,b0))\n",
    "\n",
    "a2,b2 = rev.apply(my_outer_loop,a1,b1,niter,nrec,my_loop)\n",
    "result = (a2*b2).sum()\n",
    "print(\"Iteration counter for forward evaluation\", counter)\n",
    "\n",
    "counter=0;\n",
    "grad_rec = rev.gradient(result)\n",
    "print(\"Iteration counter for backward evaluation\", counter)"
   ]
  },
  {
   "cell_type": "markdown",
   "metadata": {},
   "source": [
    "For verification purposes, we compare our results non-nested iteration."
   ]
  },
  {
   "cell_type": "code",
   "execution_count": 164,
   "metadata": {},
   "outputs": [
    {
     "name": "stdout",
     "output_type": "stream",
     "text": [
      "Iteration counter for forward evaluation 8\n",
      "Iteration counter for backward evaluation 8\n"
     ]
    }
   ],
   "source": [
    "niter2 = niter**(1+nrec); counter=0\n",
    "rev,(a1,b1) = ad.Reverse.empty(inputs=(a0,b0))\n",
    "\n",
    "a2,b2 = rev.apply(my_loop,a1,b1,niter2)\n",
    "result = (a2*b2).sum()\n",
    "print(\"Iteration counter for forward evaluation\", counter)\n",
    "\n",
    "counter=0;\n",
    "grad_iter = rev.gradient(result)\n",
    "print(\"Iteration counter for backward evaluation\", counter)\n",
    "\n",
    "assert LInfNorm(grad_rec-grad_iter)<1e-13"
   ]
  },
  {
   "cell_type": "markdown",
   "metadata": {},
   "source": [
    "The hessian evaluation in second order reverse AD requires even more iterations, because it combines a forward and a backward pass. "
   ]
  },
  {
   "cell_type": "code",
   "execution_count": 166,
   "metadata": {},
   "outputs": [
    {
     "name": "stdout",
     "output_type": "stream",
     "text": [
      "Iteration counter for forward evaluation 8\n",
      "Iteration counter for gradient evaluation 24\n",
      "Iteration counter for hessian evaluation 48\n"
     ]
    }
   ],
   "source": [
    "niter=2; nrec=2; counter=0; \n",
    "rev,(a1,b1) = ad.Reverse2.empty(inputs=(a0,b0))\n",
    "\n",
    "a2,b2 = rev.apply(my_outer_loop,a1,b1,niter,nrec,my_loop)\n",
    "result = (a2*b2).sum()\n",
    "print(\"Iteration counter for forward evaluation\", counter)\n",
    "\n",
    "counter=0;\n",
    "grad_rec2 = rev.gradient(result)\n",
    "print(\"Iteration counter for gradient evaluation\", counter)\n",
    "assert LInfNorm(grad_rec-grad_rec2)<1e-13\n",
    "\n",
    "counter=0\n",
    "hess = rev.hessian(result)\n",
    "dir_hessian = grad_rec**2+1.\n",
    "hess_rec2 = hess(dir_hessian)\n",
    "print(\"Iteration counter for hessian evaluation\", counter)"
   ]
  },
  {
   "cell_type": "markdown",
   "metadata": {},
   "source": [
    "Eventually, we check our results using dense AD, and an unrolled loop."
   ]
  },
  {
   "cell_type": "code",
   "execution_count": 174,
   "metadata": {},
   "outputs": [
    {
     "name": "stdout",
     "output_type": "stream",
     "text": [
      "Iteration counter for forward evaluation 8\n"
     ]
    }
   ],
   "source": [
    "niter2 = niter**(1+nrec); counter=0\n",
    "a1 = ad.Dense2.identity(constant=a0,shift=(0,4))\n",
    "b1 = ad.Dense2.identity(constant=b0,shift=(4,0))\n",
    "\n",
    "a2,b2 = my_loop(a1,b1,niter2)\n",
    "result = (a2*b2).sum()\n",
    "print(\"Iteration counter for forward evaluation\", counter)\n",
    "\n",
    "grad_dense2 = result.coef1\n",
    "hess_dense2 = np.dot(result.coef2,dir_hessian)\n",
    "\n",
    "assert LInfNorm(grad_rec2-grad_dense2) < 1e-13\n",
    "assert LInfNorm(hess_rec2-hess_dense2) < 1e-13"
   ]
  },
  {
   "cell_type": "code",
   "execution_count": null,
   "metadata": {},
   "outputs": [],
   "source": []
  }
 ],
 "metadata": {
  "kernelspec": {
   "display_name": "Python 3",
   "language": "python",
   "name": "python3"
  },
  "language_info": {
   "codemirror_mode": {
    "name": "ipython",
    "version": 3
   },
   "file_extension": ".py",
   "mimetype": "text/x-python",
   "name": "python",
   "nbconvert_exporter": "python",
   "pygments_lexer": "ipython3",
   "version": "3.7.3"
  }
 },
 "nbformat": 4,
 "nbformat_minor": 2
}
