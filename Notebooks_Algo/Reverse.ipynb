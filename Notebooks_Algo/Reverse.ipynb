{
 "cells": [
  {
   "cell_type": "markdown",
   "metadata": {},
   "source": [
    "# Adaptive PDE discretizations on cartesian grids : Algorithmic tools\n",
    "\n",
    "## Part : Automatic differentiation\n",
    "## Chapter : Reverse automatic differentiation"
   ]
  },
  {
   "cell_type": "markdown",
   "metadata": {},
   "source": [
    "This notebook illustrates *reverse first order* automatic differentiation. Recall that this approach is recommended for functions from a large dimensional space, to a small dimensional space, and whose jacobian does not have a sparse structure.\n",
    "\n",
    "**Disclaimer.** Reverse first order automatic differentiation is a classical feature, found in many packages better optimized and maintained than this one. If you only need this specific feature, then it could be wise to use another implementation."
   ]
  },
  {
   "cell_type": "code",
   "execution_count": 1,
   "metadata": {},
   "outputs": [
    {
     "data": {
      "text/markdown": [
       "[**Summary**](Summary.ipynb) of this series of notebooks. "
      ],
      "text/plain": [
       "<IPython.core.display.Markdown object>"
      ]
     },
     "metadata": {},
     "output_type": "display_data"
    },
    {
     "data": {
      "text/markdown": [
       "[**Main summary**](../Summary.ipynb), including the other volumes of this work. "
      ],
      "text/plain": [
       "<IPython.core.display.Markdown object>"
      ]
     },
     "metadata": {},
     "output_type": "display_data"
    },
    {
     "data": {
      "text/markdown": [
       "\n",
       "# Table of contents"
      ],
      "text/plain": [
       "<IPython.core.display.Markdown object>"
      ]
     },
     "metadata": {},
     "output_type": "display_data"
    },
    {
     "data": {
      "text/markdown": [
       "  * [1. Generating variables and requesting an expression's gradient](#1.-Generating-variables-and-requesting-an-expression's-gradient)\n",
       "  * [2. Implementing an operator's adjoint](#2.-Implementing-an-operator's-adjoint)\n",
       "    * [2.1 Linear operator](#2.1-Linear-operator)\n",
       "    * [2.3 Loops](#2.3-Loops)"
      ],
      "text/plain": [
       "<IPython.core.display.Markdown object>"
      ]
     },
     "metadata": {},
     "output_type": "display_data"
    },
    {
     "data": {
      "text/markdown": [
       "\n",
       "\n",
       "\n",
       "**Acknowledgement.** The experiments presented in these notebooks are part of ongoing research, \n",
       "some of it with PhD student Guillaume Bonnet, in co-direction with Frederic Bonnans.\n",
       "\n",
       "Copyright Jean-Marie Mirebeau, University Paris-Sud, CNRS, University Paris-Saclay\n"
      ],
      "text/plain": [
       "<IPython.core.display.Markdown object>"
      ]
     },
     "metadata": {},
     "output_type": "display_data"
    }
   ],
   "source": [
    "import sys; sys.path.append(\"..\") # Allow imports from parent directory\n",
    "from Miscellaneous import TocTools; TocTools.displayTOC('Reverse','Algo')"
   ]
  },
  {
   "cell_type": "markdown",
   "metadata": {},
   "source": [
    "**Known bugs and incompatibilities.** Our implementation of automatic differentiation is based on subclassing the numpy array class. While simple and powerful, this approach suffers from a few pitfalls, described in the notebook linked below."
   ]
  },
  {
   "cell_type": "code",
   "execution_count": 2,
   "metadata": {},
   "outputs": [
    {
     "data": {
      "text/markdown": [
       "Notebook [ADBugs](./Notebooks_Algo/ADBugs.ipynb) , from volume Algo [Summary](./Notebooks_Algo/Summary.ipynb) "
      ],
      "text/plain": [
       "<IPython.core.display.Markdown object>"
      ]
     },
     "metadata": {},
     "output_type": "display_data"
    }
   ],
   "source": [
    "TocTools.MakeLink('ADBugs','Algo')"
   ]
  },
  {
   "cell_type": "markdown",
   "metadata": {},
   "source": [
    "## 0. Importing the required libraries"
   ]
  },
  {
   "cell_type": "code",
   "execution_count": 3,
   "metadata": {},
   "outputs": [],
   "source": [
    "import numpy as np\n",
    "import scipy.sparse; import scipy.sparse.linalg"
   ]
  },
  {
   "cell_type": "code",
   "execution_count": 4,
   "metadata": {},
   "outputs": [],
   "source": [
    "import NumericalSchemes.AutomaticDifferentiation as ad\n",
    "import NumericalSchemes.FiniteDifferences as fd"
   ]
  },
  {
   "cell_type": "code",
   "execution_count": 5,
   "metadata": {},
   "outputs": [],
   "source": [
    "def LInfNorm(a): return np.max(np.abs(a))"
   ]
  },
  {
   "cell_type": "markdown",
   "metadata": {},
   "source": [
    "## 1. Generating variables and requesting an expression's gradient\n",
    "\n",
    "Reverse automatic differentiation works by keeping a history of the computations. The sensitivity of the result w.r.t some components is obtained by propagating the sensitivities backward in the computation queue and using the operator adjoints.\n",
    "\n",
    "Our implementation of the reverseAD is differs from the denseAD or sparseAD classes: here we do not define an data type overloading the arithmetic operators and the basic special functions. Instead, the reverseAD class is only meant to keep a history of user specified computations.\n",
    "\n",
    "For a beginning, we create an empty history.\n",
    "<!---Our implementation of reverse automatic differentiation is probably --->"
   ]
  },
  {
   "cell_type": "code",
   "execution_count": 6,
   "metadata": {},
   "outputs": [],
   "source": [
    "x0=np.linspace(0,np.pi,4)\n",
    "gridScale=x0[1]-x0[0]\n",
    "u0=np.sin(x0)\n",
    "v0=np.cos(x0)"
   ]
  },
  {
   "cell_type": "code",
   "execution_count": 7,
   "metadata": {},
   "outputs": [],
   "source": [
    "# Create an empty history\n",
    "rev = ad.Reverse.empty()\n",
    "# Create AD variables w.r.t which the gradient will be required\n",
    "u1 = rev.identity(constant=u0)\n",
    "v1 = rev.identity(constant=v0)"
   ]
  },
  {
   "cell_type": "markdown",
   "metadata": {},
   "source": [
    "The generated AD variables are of sparse AD type."
   ]
  },
  {
   "cell_type": "code",
   "execution_count": 8,
   "metadata": {},
   "outputs": [
    {
     "name": "stdout",
     "output_type": "stream",
     "text": [
      "u1: spAD(array([0.00000000e+00, 8.66025404e-01, 8.66025404e-01, 1.22464680e-16]), array([[1.],\n",
      "       [1.],\n",
      "       [1.],\n",
      "       [1.]]), array([[0],\n",
      "       [1],\n",
      "       [2],\n",
      "       [3]]))\n",
      "v1: spAD(array([ 1. ,  0.5, -0.5, -1. ]), array([[1.],\n",
      "       [1.],\n",
      "       [1.],\n",
      "       [1.]]), array([[4],\n",
      "       [5],\n",
      "       [6],\n",
      "       [7]]))\n"
     ]
    }
   ],
   "source": [
    "print(\"u1:\",u1)\n",
    "print(\"v1:\",v1)"
   ]
  },
  {
   "cell_type": "markdown",
   "metadata": {},
   "source": [
    "If we make some computation using the variables registered in the reverseAD class, then we can request the gradient of the final expression."
   ]
  },
  {
   "cell_type": "code",
   "execution_count": 9,
   "metadata": {},
   "outputs": [],
   "source": [
    "result = (u1**2+v1**2).sum()"
   ]
  },
  {
   "cell_type": "code",
   "execution_count": 10,
   "metadata": {},
   "outputs": [
    {
     "data": {
      "text/plain": [
       "array([ 0.00000000e+00,  1.73205081e+00,  1.73205081e+00,  2.44929360e-16,\n",
       "        2.00000000e+00,  1.00000000e+00, -1.00000000e+00, -2.00000000e+00])"
      ]
     },
     "execution_count": 10,
     "metadata": {},
     "output_type": "execute_result"
    }
   ],
   "source": [
    "rev.gradient(result)"
   ]
  },
  {
   "cell_type": "markdown",
   "metadata": {},
   "source": [
    "If needed, this expression can be reshaped similar to the input variables."
   ]
  },
  {
   "cell_type": "code",
   "execution_count": 11,
   "metadata": {},
   "outputs": [],
   "source": [
    "u_grad,v_grad = rev.to_inputshapes(rev.gradient(result))"
   ]
  },
  {
   "cell_type": "code",
   "execution_count": 12,
   "metadata": {},
   "outputs": [],
   "source": [
    "assert LInfNorm(v_grad-2*v0) < 1e-6"
   ]
  },
  {
   "cell_type": "code",
   "execution_count": 13,
   "metadata": {},
   "outputs": [
    {
     "data": {
      "text/plain": [
       "False"
      ]
     },
     "execution_count": 13,
     "metadata": {},
     "output_type": "execute_result"
    }
   ],
   "source": [
    "[(1,2)]==[]"
   ]
  },
  {
   "cell_type": "markdown",
   "metadata": {},
   "source": [
    "## 2. Implementing an operator's adjoint"
   ]
  },
  {
   "cell_type": "markdown",
   "metadata": {},
   "source": [
    "### 2.1 Linear operator"
   ]
  },
  {
   "cell_type": "code",
   "execution_count": 14,
   "metadata": {},
   "outputs": [],
   "source": [
    "def Scheme(u,h):\n",
    "    return fd.DiffUpwind(u,(1,),h,padding=0.)"
   ]
  },
  {
   "cell_type": "code",
   "execution_count": 15,
   "metadata": {},
   "outputs": [],
   "source": [
    "operator = Scheme(ad.Sparse.identity(u0.shape),gridScale)\n",
    "matrix = scipy.sparse.coo_matrix(operator.triplets()).tocsr()\n",
    "\n",
    "def mysolve(u,co_output=None):\n",
    "    solver = scipy.sparse.linalg.spsolve\n",
    "    if co_output is None:\n",
    "        return solver(matrix,u)\n",
    "    else: \n",
    "        return [(solver(matrix.T,co_output),u)]"
   ]
  },
  {
   "cell_type": "markdown",
   "metadata": {},
   "source": [
    "Since solving linear problems is a common operation, a factory method `ad.Reverse.linear_solution_with_adjoint` is provided to produce functions equivalent to `mysolve`. It is illustrated in a further subsection.\n",
    "\n",
    "Two equivalent syntaxes are available to evaluate a function using reverse automatic differentiation:\n",
    "* Using `rev.apply`, where rev is the reverseAD variable keeping the history of the computations.\n",
    "* Using `ad.apply`, and specifying the `reverse_history = rev` optional argument. This latter approach has the advantage of being compatible with the `envelope` keyword for differentiating extrema."
   ]
  },
  {
   "cell_type": "code",
   "execution_count": 16,
   "metadata": {},
   "outputs": [],
   "source": [
    "rev = ad.Reverse.empty()\n",
    "u1 = rev.identity(constant=u0)\n",
    "v1 = rev.identity(constant=v0)\n",
    "\n",
    "u2 = rev.apply(mysolve,u1)\n",
    "u3 = ad.apply(mysolve,u2,reverse_history=rev) # Equivalently : u3=rev.apply(mysolve,u2) \n",
    "\n",
    "result = (u3*v1).sum()"
   ]
  },
  {
   "cell_type": "markdown",
   "metadata": {},
   "source": [
    "Both `u2`, `u3` and the result contains *virtual* symbolic perturbations, with negative indices. They are eliminated in the backpropagation step."
   ]
  },
  {
   "cell_type": "code",
   "execution_count": 17,
   "metadata": {},
   "outputs": [
    {
     "data": {
      "text/plain": [
       "spAD(array(5.69821876), array([ 1.00000000e+00,  5.00000000e-01, -5.00000000e-01, -1.00000000e+00,\n",
       "        4.74851563e+00,  2.84910938e+00,  9.49703126e-01,  1.34297549e-16]), array([-5, -6, -7, -8,  4,  5,  6,  7]))"
      ]
     },
     "execution_count": 17,
     "metadata": {},
     "output_type": "execute_result"
    }
   ],
   "source": [
    "result"
   ]
  },
  {
   "cell_type": "code",
   "execution_count": 18,
   "metadata": {},
   "outputs": [
    {
     "data": {
      "text/plain": [
       "(array([1.09662271, 2.74155678, 3.83817949, 3.83817949]),\n",
       " array([4.74851563e+00, 2.84910938e+00, 9.49703126e-01, 1.34297549e-16]))"
      ]
     },
     "execution_count": 18,
     "metadata": {},
     "output_type": "execute_result"
    }
   ],
   "source": [
    "rev.to_inputshapes(rev.gradient(result))"
   ]
  },
  {
   "cell_type": "markdown",
   "metadata": {},
   "source": [
    "In this simple case, the gradient may also be computed by hand."
   ]
  },
  {
   "cell_type": "code",
   "execution_count": 19,
   "metadata": {},
   "outputs": [
    {
     "data": {
      "text/plain": [
       "(array([1.09662271, 2.74155678, 3.83817949, 3.83817949]),\n",
       " array([4.74851563e+00, 2.84910938e+00, 9.49703126e-01, 1.34297549e-16]))"
      ]
     },
     "execution_count": 19,
     "metadata": {},
     "output_type": "execute_result"
    }
   ],
   "source": [
    "def co_mysolve(co_output): return mysolve(u0,co_output=co_output)[0][0]\n",
    "co_mysolve(co_mysolve(v0)), u3.value"
   ]
  },
  {
   "cell_type": "markdown",
   "metadata": {},
   "source": [
    "### 2.3 Loops\n",
    "\n",
    "\n",
    "**Note on complexity** Reverse automatic differentiation requires saving program state at each intermediate computation steps.\n",
    "If a program contains a loop, this may result in severe memory usage. Therefore, it is common to only store a small proportion of the intermediate states, referred to as keypoints, and to use recomputations for reconstructing the other steps. For best efficiency, this procedure must be made recursive. \n",
    "*TODO : We will provide a helper function for that purpose.*"
   ]
  },
  {
   "cell_type": "code",
   "execution_count": 21,
   "metadata": {},
   "outputs": [],
   "source": [
    "mysolve = ad.Reverse.linear_inverse_with_adjoint(matrix,scipy.sparse.linalg.spsolve)"
   ]
  },
  {
   "cell_type": "code",
   "execution_count": 27,
   "metadata": {},
   "outputs": [],
   "source": [
    "rev = ad.Reverse.empty()\n",
    "u1 = rev.identity(constant=u0)\n",
    "v1 = rev.identity(constant=v0)\n",
    "\n",
    "u3 = rev.iterate(mysolve,u1,niter=2)\n",
    "#u3 = rev.apply_linear_inverse(matrix,scipy.sparse.linalg.spsolve,u1,niter=2) # Equivalent\n",
    "\n",
    "result = (u3*v1).sum()"
   ]
  },
  {
   "cell_type": "code",
   "execution_count": 28,
   "metadata": {},
   "outputs": [
    {
     "data": {
      "text/plain": [
       "spAD(array(5.69821876), array([ 1.00000000e+00,  5.00000000e-01, -5.00000000e-01, -1.00000000e+00,\n",
       "        4.74851563e+00,  2.84910938e+00,  9.49703126e-01,  1.34297549e-16]), array([-5, -6, -7, -8,  4,  5,  6,  7]))"
      ]
     },
     "execution_count": 28,
     "metadata": {},
     "output_type": "execute_result"
    }
   ],
   "source": [
    "result"
   ]
  },
  {
   "cell_type": "code",
   "execution_count": 24,
   "metadata": {},
   "outputs": [
    {
     "data": {
      "text/plain": [
       "array([1.09662271e+00, 2.74155678e+00, 3.83817949e+00, 3.83817949e+00,\n",
       "       4.74851563e+00, 2.84910938e+00, 9.49703126e-01, 1.34297549e-16])"
      ]
     },
     "execution_count": 24,
     "metadata": {},
     "output_type": "execute_result"
    }
   ],
   "source": [
    "rev.gradient(result)"
   ]
  },
  {
   "cell_type": "code",
   "execution_count": null,
   "metadata": {},
   "outputs": [],
   "source": []
  }
 ],
 "metadata": {
  "kernelspec": {
   "display_name": "Python 3",
   "language": "python",
   "name": "python3"
  },
  "language_info": {
   "codemirror_mode": {
    "name": "ipython",
    "version": 3
   },
   "file_extension": ".py",
   "mimetype": "text/x-python",
   "name": "python",
   "nbconvert_exporter": "python",
   "pygments_lexer": "ipython3",
   "version": "3.7.3"
  }
 },
 "nbformat": 4,
 "nbformat_minor": 2
}
