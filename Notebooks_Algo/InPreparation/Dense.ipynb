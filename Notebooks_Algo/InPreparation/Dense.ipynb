{
 "cells": [
  {
   "cell_type": "markdown",
   "metadata": {},
   "source": [
    "# Adaptive PDE discretizations on cartesian grids : Algorithmic tools\n",
    "\n",
    "## Part : Automatic differentiation\n",
    "## Chapter : Dense automatic differentiation, and geodesic shooting"
   ]
  },
  {
   "cell_type": "markdown",
   "metadata": {},
   "source": [
    "We illustrate dense automatic differentiation, both first and second order, with an application to geodesic shooting.\n",
    "For that purpose we consider Hamilton's equations of geodesics, reading\n",
    "$$\n",
    "    \\dot q = \\partial_p H(q,p), \\qquad \\dot p = -\\partial_q H(q,p),\n",
    "$$\n",
    "where $H$ is the *Hamiltonian* of the medium. Following the classical convention we denote by \n",
    "* $q$ the position variable,\n",
    "* $p$ the impultion, which is dual to the velocity.\n",
    "\n",
    "**Riemannian Hamiltonian.** For a domain $\\Omega \\subset R^d$ equipped with a Riemannian metric $M : \\Omega \\to S_d^{++}$, the Hamiltonian is defined as \n",
    "$$\n",
    "    H(q,p) := \\frac 1 2 \\|p\\|_{D(q)}^2, \\quad \\text{where} D(q) := M(q)^{-1}.\n",
    "$$\n",
    "\n",
    "**Poincaré's half plane model.** \n",
    "We illustrate this ODE in the case of Poincaré's half plane model of the hyperbolic space, defined by the Riemannian metric\n",
    "$$\n",
    "    M(q) := \\frac{\\rm Id}{q_1^2},\n",
    "$$\n",
    "where $q = (q_0,q_1) \\in \\Omega = R \\times R^{++}$. Thus $H(q,p) = (q_1^2/2) \\|p\\|^2$. \n",
    "\n",
    "**Exponential map.**\n",
    "We also consider the Riemannian metric on $R^2 \\setminus \\{0\\}$ defined by\n",
    "$$\n",
    "    M(q) := \\frac{\\rm Id}{q^2}.\n",
    "$$\n",
    "It can be regarded as the metric induced by the logarithmic (multivalued) map $\\ln : C \\setminus \\{0\\} \\to C$, where the targer space $C$ is equipped with the usual norm, and it possesses periodic trajectories.\n",
    "\n",
    "<!---\n",
    "**Symplectic integrators**\n",
    "In this notebook, we solve the equations of geodesics using a standard Runge-Kutta scheme. This may sound as a heresy since these equations benefit from a Hamiltonian structure, and can thus be solved more stably using a symplectic integrator, in principle. However, our Hamiltonians are *non-separable*, in other words they do *not* take the form \n",
    "$$\n",
    "    H(q,p) = F(p) + V(q).\n",
    "$$\n",
    "For this reason, the implementation details of a symplectic scheme are non-trivial, and we thus stick to a standard ODE scheme.\n",
    "--->"
   ]
  },
  {
   "cell_type": "code",
   "execution_count": 99,
   "metadata": {},
   "outputs": [],
   "source": [
    "import sys; sys.path.append(\"../..\") # Allow imports from parent directory"
   ]
  },
  {
   "cell_type": "code",
   "execution_count": 100,
   "metadata": {},
   "outputs": [
    {
     "data": {
      "text/markdown": [
       "[**Summary**](Summary.ipynb) of this series of notebooks. [(view online)](http://nbviewer.jupyter.org/urls/rawgithub.com/Mirebeau/AdaptiveGridDiscretizations/master/Notebooks_Algo/Dense.ipynb)"
      ],
      "text/plain": [
       "<IPython.core.display.Markdown object>"
      ]
     },
     "metadata": {},
     "output_type": "display_data"
    },
    {
     "data": {
      "text/markdown": [
       "[**Main summary**](../Summary.ipynb), including the other volumes of this work. [(view online)](http://nbviewer.jupyter.org/urls/rawgithub.com/Mirebeau/AdaptiveGridDiscretizations/master/Summary.ipynb)"
      ],
      "text/plain": [
       "<IPython.core.display.Markdown object>"
      ]
     },
     "metadata": {},
     "output_type": "display_data"
    },
    {
     "data": {
      "text/markdown": [
       "\n",
       "# Table of contents"
      ],
      "text/plain": [
       "<IPython.core.display.Markdown object>"
      ]
     },
     "metadata": {},
     "output_type": "display_data"
    },
    {
     "data": {
      "text/markdown": [
       "  * [1. Automatic differentiation basics](#1.-Automatic-differentiation-basics)\n",
       "    * [1.1 Differentiating a function](#1.1-Differentiating-a-function)\n",
       "    * [1.2 Differentiating w.r.t several variables](#1.2-Differentiating-w.r.t-several-variables)\n",
       "    * [1.3 Vectorization](#1.3-Vectorization)\n",
       "    * [1.4 Second order automatic differentiation](#1.4-Second-order-automatic-differentiation)\n",
       "  * [2. Shooting geodesics](#2.-Shooting-geodesics)\n",
       "    * [2.1 Explicit Euler scheme](#2.1-Explicit-Euler-scheme)\n",
       "    * [2.1 High order explicit schemes](#2.1-High-order-explicit-schemes)\n",
       "    * [2.2 Symplectic Euler scheme](#2.2-Symplectic-Euler-scheme)"
      ],
      "text/plain": [
       "<IPython.core.display.Markdown object>"
      ]
     },
     "metadata": {},
     "output_type": "display_data"
    },
    {
     "data": {
      "text/markdown": [
       "\n",
       "\n",
       "\n",
       "**Acknowledgement.** The experiments presented in these notebooks are part of ongoing research, \n",
       "some of it with PhD student Guillaume Bonnet, in co-direction with Frederic Bonnans.\n",
       "\n",
       "Copyright Jean-Marie Mirebeau, University Paris-Sud, CNRS, University Paris-Saclay\n"
      ],
      "text/plain": [
       "<IPython.core.display.Markdown object>"
      ]
     },
     "metadata": {},
     "output_type": "display_data"
    }
   ],
   "source": [
    "from Miscellaneous import TocTools; TocTools.displayTOC('Dense','Algo')"
   ]
  },
  {
   "cell_type": "markdown",
   "metadata": {},
   "source": [
    "## 0. Importing the required libraries"
   ]
  },
  {
   "cell_type": "code",
   "execution_count": 101,
   "metadata": {},
   "outputs": [],
   "source": [
    "from NumericalSchemes import AutomaticDifferentiation as ad"
   ]
  },
  {
   "cell_type": "code",
   "execution_count": 102,
   "metadata": {},
   "outputs": [],
   "source": [
    "import numpy as np\n",
    "from matplotlib import pyplot as plt"
   ]
  },
  {
   "cell_type": "code",
   "execution_count": 103,
   "metadata": {},
   "outputs": [],
   "source": [
    "def reload_packages():\n",
    "    import importlib\n",
    "    ad = importlib.reload(sys.modules['NumericalSchemes.AutomaticDifferentiation'])\n",
    "    ad.Sparse = importlib.reload(ad.Sparse)\n",
    "    ad.Dense = importlib.reload(ad.Dense)\n",
    "    ad.Sparse2 = importlib.reload(ad.Sparse2)\n",
    "    ad.Dense2 = importlib.reload(ad.Dense2)"
   ]
  },
  {
   "cell_type": "markdown",
   "metadata": {},
   "source": [
    "**Implementation note.** The type `numpy.float64` often causes trouble due to bad operator priority (when multiplied with an array of shape `()` and containing automatic differentiation information). We circumvent this issue using the function ad.to_array which casts any value of to a numpy array, in this case to an array containing a single element and of shape $()$ (the empty tuple)."
   ]
  },
  {
   "cell_type": "code",
   "execution_count": 104,
   "metadata": {},
   "outputs": [],
   "source": [
    "def H_HalfPlane(q,p):\n",
    "    return ad.to_array(0.5*q[1]**2)*(p**2).sum(axis=0)\n",
    "def H_Log(q,p):\n",
    "    return ad.to_array(0.5*(q**2).sum(axis=0))*((p**2).sum(axis=0))"
   ]
  },
  {
   "cell_type": "markdown",
   "metadata": {},
   "source": [
    "## 1. Automatic differentiation basics\n",
    "\n",
    "We illustrate the automatic differentiation mechanism by differentiating a Hamiltonian w.r.t. the position $q$ and momentum $p$, which is a prerequisite for implementing Hamilton's ODE of motion."
   ]
  },
  {
   "cell_type": "markdown",
   "metadata": {},
   "source": [
    "### 1.1 Differentiating a function"
   ]
  },
  {
   "cell_type": "code",
   "execution_count": 105,
   "metadata": {},
   "outputs": [],
   "source": [
    "Hamiltonian = H_HalfPlane"
   ]
  },
  {
   "cell_type": "code",
   "execution_count": 106,
   "metadata": {},
   "outputs": [],
   "source": [
    "q = np.array([0.,1.])\n",
    "p = np.array([1.,1.])"
   ]
  },
  {
   "cell_type": "code",
   "execution_count": 107,
   "metadata": {},
   "outputs": [
    {
     "data": {
      "text/plain": [
       "1.0"
      ]
     },
     "execution_count": 107,
     "metadata": {},
     "output_type": "execute_result"
    }
   ],
   "source": [
    "Hamiltonian(q,p)"
   ]
  },
  {
   "cell_type": "markdown",
   "metadata": {},
   "source": [
    "In order access the Hamiltonian's derivatives, say with respect to position, we evaluate it on a variable featuring first order information. Said otherwise, we create a variable representing the first order Taylor expansion\n",
    "$$\n",
    "    q_{\\rm ad} = (q_0+\\delta_0,q_1+\\delta_1) + O(\\|\\delta\\|^2),\n",
    "$$\n",
    "where $\\delta = (\\delta_0,\\delta_1)$ is a symbolic, infinitesimal perturbation."
   ]
  },
  {
   "cell_type": "code",
   "execution_count": 108,
   "metadata": {},
   "outputs": [],
   "source": [
    "q_ad = ad.Dense.identity(constant=q)"
   ]
  },
  {
   "cell_type": "code",
   "execution_count": 109,
   "metadata": {},
   "outputs": [
    {
     "data": {
      "text/plain": [
       "denseAD(array([0., 1.]),\n",
       "array([[1., 0.],\n",
       "       [0., 1.]]))"
      ]
     },
     "execution_count": 109,
     "metadata": {},
     "output_type": "execute_result"
    }
   ],
   "source": [
    "q_ad # Contains an additional array representing first order information."
   ]
  },
  {
   "cell_type": "code",
   "execution_count": 110,
   "metadata": {},
   "outputs": [
    {
     "name": "stdout",
     "output_type": "stream",
     "text": [
      "Zero-th order :  [0. 1.]\n",
      "First order : \n",
      " [[1. 0.]\n",
      " [0. 1.]]\n"
     ]
    }
   ],
   "source": [
    "print(\"Zero-th order : \",q_ad.value)\n",
    "print(\"First order : \\n\",q_ad.coef)"
   ]
  },
  {
   "cell_type": "markdown",
   "metadata": {},
   "source": [
    "The first order information is propagated through the computations, and eventually we obtain the result\n",
    "$$\n",
    "    H(q_{\\rm ad},p) = H(q,p) + <\\nabla_q H(q,p),\\delta> + O(\\|\\delta\\|^2).\n",
    "$$\n",
    "Note that, for Poincaré's half plane model, one has $\\nabla_q H(q,p) = (0,q_1 \\|p\\|^2)$."
   ]
  },
  {
   "cell_type": "code",
   "execution_count": 111,
   "metadata": {},
   "outputs": [
    {
     "data": {
      "text/plain": [
       "denseAD(array(1.),array([0., 2.]))"
      ]
     },
     "execution_count": 111,
     "metadata": {},
     "output_type": "execute_result"
    }
   ],
   "source": [
    "Hamiltonian(q_ad,p)"
   ]
  },
  {
   "cell_type": "code",
   "execution_count": 112,
   "metadata": {},
   "outputs": [
    {
     "name": "stdout",
     "output_type": "stream",
     "text": [
      "Gradient of the Hamiltonian w.r.t. the variable q :  [0. 2.]\n"
     ]
    }
   ],
   "source": [
    "print(\"Gradient of the Hamiltonian w.r.t. the variable q : \",Hamiltonian(q_ad,p).coef)"
   ]
  },
  {
   "cell_type": "markdown",
   "metadata": {},
   "source": [
    "We can similarly differentiate w.r.t. the momentum $p$. Poincaré's half plane model obeys\n",
    "$\\nabla_p H(q,p) = q_1^2 p$."
   ]
  },
  {
   "cell_type": "code",
   "execution_count": 113,
   "metadata": {},
   "outputs": [
    {
     "data": {
      "text/plain": [
       "denseAD(array(1.),array([1., 1.]))"
      ]
     },
     "execution_count": 113,
     "metadata": {},
     "output_type": "execute_result"
    }
   ],
   "source": [
    "p_ad = ad.Dense.identity(constant=p)\n",
    "Hamiltonian(q,p_ad)"
   ]
  },
  {
   "cell_type": "markdown",
   "metadata": {},
   "source": [
    "### 1.2 Differentiating w.r.t several variables\n",
    "\n",
    "Evaluating $H(q_{\\rm ad},p_{\\rm ad})$ yields an result may sound unexpected: we obtain the sum $\\nabla_q H(q,p)+\\nabla_p H(q,p)$ of the gradients, instead of their independent values. Indeed, this follows from the first order Taylor expansion\n",
    "$$\n",
    "H(q+\\delta,p+\\delta) = \n",
    "H(q,p) + <\\nabla_q H(q,p),\\delta> + <\\nabla_p H(q,p),\\delta> + O(\\|\\delta\\|^2),\n",
    "$$\n",
    "where $\\delta = (\\delta_0,\\delta_1)$ is an infinitesimal symbolic perturbation."
   ]
  },
  {
   "cell_type": "code",
   "execution_count": 114,
   "metadata": {},
   "outputs": [],
   "source": [
    "reload_packages()"
   ]
  },
  {
   "cell_type": "code",
   "execution_count": 115,
   "metadata": {},
   "outputs": [
    {
     "data": {
      "text/plain": [
       "denseAD(array(1.),array([1., 3.]))"
      ]
     },
     "execution_count": 115,
     "metadata": {},
     "output_type": "execute_result"
    }
   ],
   "source": [
    "Hamiltonian(q_ad,p_ad)"
   ]
  },
  {
   "cell_type": "markdown",
   "metadata": {},
   "source": [
    "In order to obtain the gradient of $H$ w.r.t the independent variables $q$ and $p$, we need to specify that the corresdponding infinitesimal perturbations are independent. Namely set\n",
    "$$\n",
    "    q_{\\rm ad} = q+(\\delta_0,\\delta_1), \\quad p_{\\rm ad} = p+(\\delta_2,\\delta_3),\n",
    "$$\n",
    "where $(\\delta_0,\\cdots,\\delta_4)$ is four dimensional infinitesimal perturbation."
   ]
  },
  {
   "cell_type": "code",
   "execution_count": 116,
   "metadata": {},
   "outputs": [],
   "source": [
    "q_ad = ad.Dense.identity(constant=q,shift=(0,p.size))\n",
    "p_ad = ad.Dense.identity(constant=p,shift=(q.size,0))"
   ]
  },
  {
   "cell_type": "markdown",
   "metadata": {},
   "source": [
    "As desired, we obtain the full gradient of $H$, which is the concatenation of $\\nabla_q H$ and $\\nabla_p H$."
   ]
  },
  {
   "cell_type": "code",
   "execution_count": 117,
   "metadata": {},
   "outputs": [
    {
     "data": {
      "text/plain": [
       "denseAD(array(1.),array([0., 2., 1., 1.]))"
      ]
     },
     "execution_count": 117,
     "metadata": {},
     "output_type": "execute_result"
    }
   ],
   "source": [
    "Hamiltonian(q_ad,p_ad)"
   ]
  },
  {
   "cell_type": "code",
   "execution_count": 118,
   "metadata": {},
   "outputs": [
    {
     "data": {
      "text/plain": [
       "denseAD(array([0., 1.]),\n",
       "array([[1., 0., 0., 0.],\n",
       "       [0., 1., 0., 0.]]))"
      ]
     },
     "execution_count": 118,
     "metadata": {},
     "output_type": "execute_result"
    }
   ],
   "source": [
    "q_ad"
   ]
  },
  {
   "cell_type": "code",
   "execution_count": 119,
   "metadata": {},
   "outputs": [
    {
     "data": {
      "text/plain": [
       "denseAD(array([1., 1.]),\n",
       "array([[0., 0., 1., 0.],\n",
       "       [0., 0., 0., 1.]]))"
      ]
     },
     "execution_count": 119,
     "metadata": {},
     "output_type": "execute_result"
    }
   ],
   "source": [
    "p_ad"
   ]
  },
  {
   "cell_type": "markdown",
   "metadata": {},
   "source": [
    "### 1.3 Vectorization\n",
    "\n",
    "A common programming style in Python application to numerics is vectorized computations using numpy tensors.\n",
    "This allows avoiding loops, when some operation has to be repeated a large number of times, with improvements in clarity, flexibility, and speed. \n",
    "\n",
    "As an example, we compute $H(q_0,p_0)$, $H(q_1,p_1)$, $H(q_2,p_2)$, where $q_0,q_1,q_2$ and $p_0,p_1,p_2$ are different positions and impulsions. We also differentiate these values w.r.t. the impulsion."
   ]
  },
  {
   "cell_type": "code",
   "execution_count": 120,
   "metadata": {},
   "outputs": [],
   "source": [
    "q0 = np.array([0.,1.]); q1 = np.array([1.,1.]); q2 = np.array([-2.,1.]); \n",
    "p0 = np.array([1.,1.]); p1 = np.array([1.,0.]); p2 = np.array([-1.,-1.]); "
   ]
  },
  {
   "cell_type": "code",
   "execution_count": 121,
   "metadata": {},
   "outputs": [
    {
     "data": {
      "text/plain": [
       "(1.0, 0.5, 1.0)"
      ]
     },
     "execution_count": 121,
     "metadata": {},
     "output_type": "execute_result"
    }
   ],
   "source": [
    "Hamiltonian(q0,p0), Hamiltonian(q1,p1), Hamiltonian(q2,p2) "
   ]
  },
  {
   "cell_type": "code",
   "execution_count": 122,
   "metadata": {},
   "outputs": [
    {
     "data": {
      "text/plain": [
       "[denseAD(array(1.),array([1., 1.])),\n",
       " denseAD(array(0.5),array([1., 0.])),\n",
       " denseAD(array(1.),array([-1., -1.]))]"
      ]
     },
     "execution_count": 122,
     "metadata": {},
     "output_type": "execute_result"
    }
   ],
   "source": [
    "Ham_seq = [Hamiltonian(q,ad.Dense.identity(constant=p)) for (q,p) in ((q0,p0), (q1,p1), (q2,p2))]\n",
    "Ham_seq"
   ]
  },
  {
   "cell_type": "markdown",
   "metadata": {},
   "source": [
    "The vectorized form of these computations is as follows."
   ]
  },
  {
   "cell_type": "code",
   "execution_count": 123,
   "metadata": {},
   "outputs": [],
   "source": [
    "q_vec = np.stack( (q0,q1,q2),axis=1)\n",
    "p_vec = np.stack( (p0,p1,p2),axis=1)"
   ]
  },
  {
   "cell_type": "code",
   "execution_count": 124,
   "metadata": {},
   "outputs": [
    {
     "data": {
      "text/plain": [
       "array([1. , 0.5, 1. ])"
      ]
     },
     "execution_count": 124,
     "metadata": {},
     "output_type": "execute_result"
    }
   ],
   "source": [
    "Hamiltonian(q_vec,p_vec)"
   ]
  },
  {
   "cell_type": "code",
   "execution_count": 125,
   "metadata": {},
   "outputs": [],
   "source": [
    "p_vec_ad = ad.Dense.identity(constant=p_vec)"
   ]
  },
  {
   "cell_type": "markdown",
   "metadata": {},
   "source": [
    "However, the automatic differentiation result may not be what is desired. Indeed, the entries of `q_vec` are all considered independent, and we recover a six dimensional gradient vector for each component. This is both impractical and numerically expensive."
   ]
  },
  {
   "cell_type": "code",
   "execution_count": 126,
   "metadata": {},
   "outputs": [
    {
     "data": {
      "text/plain": [
       "denseAD(array([1. , 0.5, 1. ]),\n",
       "array([[ 1.,  0.,  0.,  1.,  0.,  0.],\n",
       "       [ 0.,  1.,  0.,  0.,  0.,  0.],\n",
       "       [ 0.,  0., -1.,  0.,  0., -1.]]))"
      ]
     },
     "execution_count": 126,
     "metadata": {},
     "output_type": "execute_result"
    }
   ],
   "source": [
    "Ham_vec = Hamiltonian(q_vec,p_vec_ad)\n",
    "Ham_vec"
   ]
  },
  {
   "cell_type": "code",
   "execution_count": 127,
   "metadata": {},
   "outputs": [
    {
     "name": "stdout",
     "output_type": "stream",
     "text": [
      "Sequential result :  denseAD(1.0,[1. 1.])\n",
      "Vectorized result :  denseAD(1.0,[1. 0. 0. 1. 0. 0.])\n"
     ]
    }
   ],
   "source": [
    "print(\"Sequential result : \",Ham_seq[0])\n",
    "print(\"Vectorized result : \",Ham_vec[0])"
   ]
  },
  {
   "cell_type": "markdown",
   "metadata": {},
   "source": [
    "In this situation, and in contrast with the previous section, we would like the perturbations to be regarded as dependent. This is achieved with the following parameters:\n",
    "* `shape_free` : apply free independent symbolic perturbations w.r.t. these dimensions.\n",
    "* `shape_bound` : apply bound correlated symbolic perturbations w.r.t. these dimensions.\n",
    "\n",
    "It is assumed that the *free* dimensions come first, and the *bound* dimensions come last. Only one of the two parameters `shape_free` and `shape_bound` needs to be specified, since they are redundant."
   ]
  },
  {
   "cell_type": "code",
   "execution_count": 128,
   "metadata": {},
   "outputs": [
    {
     "data": {
      "text/plain": [
       "(2, 3)"
      ]
     },
     "execution_count": 128,
     "metadata": {},
     "output_type": "execute_result"
    }
   ],
   "source": [
    "p_vec.shape"
   ]
  },
  {
   "cell_type": "markdown",
   "metadata": {},
   "source": [
    "The first dimension is *free*, and the last one is *bound* since it is only introduced for vectorization purposes."
   ]
  },
  {
   "cell_type": "code",
   "execution_count": 129,
   "metadata": {},
   "outputs": [],
   "source": [
    "shape_free,shape_bound = p_vec.shape[:1], p_vec.shape[-1:]"
   ]
  },
  {
   "cell_type": "code",
   "execution_count": 130,
   "metadata": {},
   "outputs": [],
   "source": [
    "p_vec_ad = ad.Dense.identity(constant=p_vec, shape_bound=shape_bound)\n",
    "#p_vec_ad = ad.Dense.identity(constant=p_vec, shape_free=shape_free) # Equivalently"
   ]
  },
  {
   "cell_type": "code",
   "execution_count": 131,
   "metadata": {},
   "outputs": [
    {
     "data": {
      "text/plain": [
       "denseAD(array([1. , 0.5, 1. ]),\n",
       "array([[ 1.,  1.],\n",
       "       [ 1.,  0.],\n",
       "       [-1., -1.]]))"
      ]
     },
     "execution_count": 131,
     "metadata": {},
     "output_type": "execute_result"
    }
   ],
   "source": [
    "Ham_vec = Hamiltonian(q_vec,p_vec_ad)\n",
    "Ham_vec"
   ]
  },
  {
   "cell_type": "code",
   "execution_count": 132,
   "metadata": {},
   "outputs": [
    {
     "name": "stdout",
     "output_type": "stream",
     "text": [
      "Vectorized result (with shape_bound):  denseAD(1.0,[1. 1.])\n"
     ]
    }
   ],
   "source": [
    "print(\"Vectorized result (with shape_bound): \",Ham_vec[0])"
   ]
  },
  {
   "cell_type": "markdown",
   "metadata": {},
   "source": [
    "This technique is compatible with differentiation w.r.t. multiple independent variables."
   ]
  },
  {
   "cell_type": "code",
   "execution_count": 133,
   "metadata": {},
   "outputs": [],
   "source": [
    "q_vec_ad = ad.Dense.identity(constant=q_vec, shape_free=shape_free, shift=(0,len(p_vec)) )\n",
    "p_vec_ad = ad.Dense.identity(constant=p_vec, shape_free=shape_free, shift=(len(q_vec),0) )"
   ]
  },
  {
   "cell_type": "code",
   "execution_count": 134,
   "metadata": {},
   "outputs": [
    {
     "data": {
      "text/plain": [
       "denseAD(array([1. , 0.5, 1. ]),\n",
       "array([[ 0.,  2.,  1.,  1.],\n",
       "       [ 0.,  1.,  1.,  0.],\n",
       "       [ 0.,  2., -1., -1.]]))"
      ]
     },
     "execution_count": 134,
     "metadata": {},
     "output_type": "execute_result"
    }
   ],
   "source": [
    "Ham_vec = Hamiltonian(q_vec_ad,p_vec_ad)\n",
    "Ham_vec"
   ]
  },
  {
   "cell_type": "code",
   "execution_count": 135,
   "metadata": {},
   "outputs": [
    {
     "name": "stdout",
     "output_type": "stream",
     "text": [
      "Full gradient w.r.t q0,p0 :  denseAD(1.0,[0. 2. 1. 1.])\n"
     ]
    }
   ],
   "source": [
    "print(\"Full gradient w.r.t q0,p0 : \", Ham_vec[0])"
   ]
  },
  {
   "cell_type": "markdown",
   "metadata": {},
   "source": [
    "### 1.4 Second order automatic differentiation\n",
    "\n",
    "There are situations where second order automatic differentiation is needed. It could be achieved, in principle, by recursive calls to first order differentiation. However, for reasons of performance and convenience, a dedicated class is implemented."
   ]
  },
  {
   "cell_type": "code",
   "execution_count": 136,
   "metadata": {},
   "outputs": [],
   "source": [
    "q_ad = ad.Dense2.identity(constant=q)"
   ]
  },
  {
   "cell_type": "markdown",
   "metadata": {},
   "source": [
    "The hessian of Poincaré's half plane model hamiltonian, w.r.t. position is \n",
    "$$\n",
    "    \\nabla_q H(q,p) = \\begin{pmatrix} 0 & 0 \\\\ 0 & \\|p\\|^2 \\end{pmatrix}\n",
    "$$\n",
    "and w.r.t. impulsion\n",
    "$$\n",
    "    \\nabla_p H(q,p) = q_0^2 {\\rm Id}.\n",
    "$$"
   ]
  },
  {
   "cell_type": "code",
   "execution_count": 137,
   "metadata": {},
   "outputs": [
    {
     "data": {
      "text/plain": [
       "denseAD2(array(1.),array([0., 2.]),\n",
       "array([[0., 0.],\n",
       "       [0., 2.]]))"
      ]
     },
     "execution_count": 137,
     "metadata": {},
     "output_type": "execute_result"
    }
   ],
   "source": [
    "Ham = Hamiltonian(q_ad,p)\n",
    "Ham"
   ]
  },
  {
   "cell_type": "code",
   "execution_count": 138,
   "metadata": {},
   "outputs": [
    {
     "name": "stdout",
     "output_type": "stream",
     "text": [
      "Function value :  1.0\n",
      "Gradient :  [0. 2.]\n",
      "Hessian : \n",
      " [[0. 0.]\n",
      " [0. 2.]]\n"
     ]
    }
   ],
   "source": [
    "print(\"Function value : \", Ham.value)\n",
    "print(\"Gradient : \", Ham.coef1)\n",
    "print(\"Hessian : \\n\", Ham.coef2)"
   ]
  },
  {
   "cell_type": "code",
   "execution_count": 139,
   "metadata": {},
   "outputs": [],
   "source": [
    "p_ad = ad.Dense2.identity(constant=p)"
   ]
  },
  {
   "cell_type": "code",
   "execution_count": 140,
   "metadata": {},
   "outputs": [
    {
     "data": {
      "text/plain": [
       "denseAD2(array(1.),array([1., 1.]),\n",
       "array([[1., 0.],\n",
       "       [0., 1.]]))"
      ]
     },
     "execution_count": 140,
     "metadata": {},
     "output_type": "execute_result"
    }
   ],
   "source": [
    "Hamiltonian(q,p_ad)"
   ]
  },
  {
   "cell_type": "markdown",
   "metadata": {},
   "source": [
    "A joint hessian, of size $4\\times 4$, can be computed. "
   ]
  },
  {
   "cell_type": "code",
   "execution_count": 141,
   "metadata": {},
   "outputs": [],
   "source": [
    "q_ad = ad.Dense2.identity(constant=q, shift=(0,p.size))\n",
    "p_ad = ad.Dense2.identity(constant=p, shift=(q.size,0))"
   ]
  },
  {
   "cell_type": "code",
   "execution_count": 142,
   "metadata": {},
   "outputs": [
    {
     "data": {
      "text/plain": [
       "(2, 4, 4)"
      ]
     },
     "execution_count": 142,
     "metadata": {},
     "output_type": "execute_result"
    }
   ],
   "source": [
    "p_ad.coef2.shape"
   ]
  },
  {
   "cell_type": "code",
   "execution_count": 143,
   "metadata": {},
   "outputs": [
    {
     "data": {
      "text/plain": [
       "denseAD2(array(1.),array([0., 2., 1., 1.]),\n",
       "array([[0., 0., 0., 0.],\n",
       "       [0., 2., 2., 2.],\n",
       "       [0., 2., 1., 0.],\n",
       "       [0., 2., 0., 1.]]))"
      ]
     },
     "execution_count": 143,
     "metadata": {},
     "output_type": "execute_result"
    }
   ],
   "source": [
    "Hamiltonian(q_ad,p_ad)"
   ]
  },
  {
   "cell_type": "markdown",
   "metadata": {},
   "source": [
    "Vectorization works as in the first order case."
   ]
  },
  {
   "cell_type": "code",
   "execution_count": 144,
   "metadata": {},
   "outputs": [],
   "source": [
    "q_vec_ad = ad.Dense2.identity(constant=q_vec, shape_free=shape_free)"
   ]
  },
  {
   "cell_type": "code",
   "execution_count": 145,
   "metadata": {},
   "outputs": [
    {
     "data": {
      "text/plain": [
       "denseAD2(array(1.),array([0., 2.]),\n",
       "array([[0., 0.],\n",
       "       [0., 2.]]))"
      ]
     },
     "execution_count": 145,
     "metadata": {},
     "output_type": "execute_result"
    }
   ],
   "source": [
    "Ham = Hamiltonian(q_vec_ad,p_vec)\n",
    "Ham[0]"
   ]
  },
  {
   "cell_type": "code",
   "execution_count": 146,
   "metadata": {},
   "outputs": [],
   "source": [
    "q_vec_ad = ad.Dense2.identity(constant=q_vec,shape_bound=shape_bound, shift=(0,len(p_vec)) )\n",
    "p_vec_ad = ad.Dense2.identity(constant=p_vec,shape_bound=shape_bound, shift=(len(q_vec),0) )"
   ]
  },
  {
   "cell_type": "code",
   "execution_count": 147,
   "metadata": {},
   "outputs": [
    {
     "data": {
      "text/plain": [
       "denseAD2(array(1.),array([0., 2., 1., 1.]),\n",
       "array([[0., 0., 0., 0.],\n",
       "       [0., 2., 2., 2.],\n",
       "       [0., 2., 1., 0.],\n",
       "       [0., 2., 0., 1.]]))"
      ]
     },
     "execution_count": 147,
     "metadata": {},
     "output_type": "execute_result"
    }
   ],
   "source": [
    "Ham = Hamiltonian(q_vec_ad,p_vec_ad)\n",
    "Ham[0]"
   ]
  },
  {
   "cell_type": "markdown",
   "metadata": {},
   "source": [
    "## 2. Shooting geodesics\n",
    "\n",
    "We implement Hamilton's equations of motion\n",
    "$$\n",
    "    \\dot q = \\partial_p H(q,p), \\qquad \\dot p = -\\partial_q H(q,p),\n",
    "$$\n",
    "using several numerical schemes.\n",
    "\n",
    "**Conserved quantity.**\n",
    "By construction, the Hamiltonian value is conserved along the Hamiltonian flow:\n",
    "$$\n",
    "    H(q(t),p(t)) = {\\rm cst},\n",
    "$$\n",
    "if $t \\mapsto (q(t),p(t))$ is a solution to Hamilton's equations of motion.\n",
    "\n",
    "**Explicit solution for the half plane model.**\n",
    "The geodesics for the Poincare half plane model are known explicitly. They are half circles whose center lies on the horizontal axis."
   ]
  },
  {
   "cell_type": "markdown",
   "metadata": {},
   "source": [
    "### 2.1 Explicit Euler scheme\n",
    "\n",
    "The simplest of all ODE solvers reads\n",
    "$$\n",
    "    \\frac{q_{n+1}-q_n} {\\Delta t} = \\partial_p H(q_n,p_n), \\qquad \\frac{p_{n+1}-p_n} {\\Delta t} = -\\partial_q H(q_n,p_n),\n",
    "$$\n",
    "where $(q_0,p_0)$ is a given initial condition, and $n>0$ is the iteration number, and $\\Delta t$ is the time step."
   ]
  },
  {
   "cell_type": "code",
   "execution_count": 148,
   "metadata": {},
   "outputs": [],
   "source": [
    "def EulerStep(q,p,H,dt):\n",
    "    d=len(q)\n",
    "    q_ad = ad.Dense.identity(constant=q,shape_free=(d,),shift=(0,d))\n",
    "    p_ad = ad.Dense.identity(constant=p,shape_free=(d,),shift=(d,0))\n",
    "    grad = np.moveaxis(H(q_ad,p_ad).coef,-1,0)\n",
    "    return q+dt*grad[d:],p-dt*grad[:d]\n",
    "\n",
    "def Geodesic(q0,p0,H,t,n=100,step=EulerStep):\n",
    "    dt=t/n\n",
    "    q,p=q0.copy(),p0.copy()\n",
    "    Q,P=[q],[p]\n",
    "    for i in range(n):\n",
    "        q,p=step(q,p,H,dt)\n",
    "        Q.append(q)\n",
    "        P.append(p)\n",
    "    return ad.stack(Q,axis=-1),ad.stack(P,axis=-1),np.linspace(0,t,n+1)"
   ]
  },
  {
   "cell_type": "code",
   "execution_count": 149,
   "metadata": {},
   "outputs": [],
   "source": [
    "grad = EulerStep(q_vec,p_vec,Hamiltonian,0.1)"
   ]
  },
  {
   "cell_type": "markdown",
   "metadata": {},
   "source": [
    "Euler's explicit scheme is only first order accurate. While the geodesic circular shape is more or less observed, the Hamiltonian conservation is far from perfect."
   ]
  },
  {
   "cell_type": "code",
   "execution_count": 150,
   "metadata": {},
   "outputs": [],
   "source": [
    "Q,P,T = Geodesic(q_vec,p_vec,Hamiltonian,4.)\n",
    "# For convenience, we put time as a second coordinate.\n",
    "Q,P = [np.moveaxis(arr,-1,1) for arr in (Q,P)] "
   ]
  },
  {
   "cell_type": "code",
   "execution_count": 151,
   "metadata": {},
   "outputs": [
    {
     "data": {
      "image/png": "[encoded data removed]",
      "text/plain": [
       "<Figure size 432x288 with 1 Axes>"
      ]
     },
     "metadata": {
      "needs_background": "light"
     },
     "output_type": "display_data"
    }
   ],
   "source": [
    "plt.axis('equal'); plt.title(\"Poincare geodesic (Explicit euler)\")\n",
    "plt.plot(Q[0],Q[1]); plt.axhline(0);"
   ]
  },
  {
   "cell_type": "code",
   "execution_count": 152,
   "metadata": {},
   "outputs": [
    {
     "data": {
      "image/png": "[encoded data removed]",
      "text/plain": [
       "<Figure size 432x288 with 1 Axes>"
      ]
     },
     "metadata": {
      "needs_background": "light"
     },
     "output_type": "display_data"
    }
   ],
   "source": [
    "plt.title(\"Poincare Hamiltonian (Explicit euler)\")\n",
    "plt.plot(T,Hamiltonian(Q,P));"
   ]
  },
  {
   "cell_type": "markdown",
   "metadata": {},
   "source": [
    "### 2.1 High order explicit schemes\n",
    "\n",
    "A natural approach to improve the ODE solver is to increase its consistency order. This can be achieved using Runge-Kutta methods, here of second and fourth order."
   ]
  },
  {
   "cell_type": "code",
   "execution_count": 153,
   "metadata": {},
   "outputs": [],
   "source": [
    "def SymplecticGradient(q,p,H):\n",
    "    d=len(q)\n",
    "    q_ad = ad.Dense.identity(constant=q,shape_free=(d,),shift=(0,d))\n",
    "    p_ad = ad.Dense.identity(constant=p,shape_free=(d,),shift=(d,0))\n",
    "    grad = np.moveaxis(H(q_ad,p_ad).coef,-1,0)\n",
    "    return grad[d:],-grad[:d]\n",
    "\n",
    "def RK2Step(q,p,H,dt):\n",
    "    k1 = SymplecticGradient(q,p,H)\n",
    "    k2 = SymplecticGradient(q+0.5*dt*k1[0],p+0.5*dt*k1[1],H)\n",
    "    return q+dt*k2[0],p+dt*k2[1]\n",
    "\n",
    "def RK4Step(q,p,H,dt):\n",
    "    k1 = SymplecticGradient(q,p,H)\n",
    "    k2 = SymplecticGradient(q+0.5*dt*k1[0],p+0.5*dt*k1[1],H)\n",
    "    k3 = SymplecticGradient(q+0.5*dt*k2[0],p+0.5*dt*k2[1],H)\n",
    "    k4 = SymplecticGradient(q+dt*k3[0],p+dt*k3[1],H)\n",
    "    return q+dt*(k1[0]+2*k2[0]+2*k3[0]+k4[0])/6.,p+dt*(k1[1]+2*k2[1]+2*k3[1]+k4[1])/6."
   ]
  },
  {
   "cell_type": "code",
   "execution_count": 154,
   "metadata": {},
   "outputs": [],
   "source": [
    "Q2,P2,T = Geodesic(q_vec,p_vec,Hamiltonian,4.,step=RK2Step)\n",
    "Q2,P2 = [np.moveaxis(arr,-1,1) for arr in (Q2,P2)] "
   ]
  },
  {
   "cell_type": "code",
   "execution_count": 155,
   "metadata": {},
   "outputs": [],
   "source": [
    "Q4,P4,T = Geodesic(q_vec,p_vec,Hamiltonian,4.,step=RK4Step)\n",
    "Q4,P4 = [np.moveaxis(arr,-1,1) for arr in (Q4,P4)] "
   ]
  },
  {
   "cell_type": "code",
   "execution_count": 156,
   "metadata": {},
   "outputs": [
    {
     "data": {
      "image/png": "[encoded data removed]",
      "text/plain": [
       "<Figure size 432x288 with 1 Axes>"
      ]
     },
     "metadata": {
      "needs_background": "light"
     },
     "output_type": "display_data"
    }
   ],
   "source": [
    "plt.axis('equal'); plt.title(\"Poincare geodesic (Explicit solvers)\")\n",
    "plt.plot(Q[0],Q[1], Q2[0],Q2[1], Q4[0],Q4[1]); plt.axhline(0);"
   ]
  },
  {
   "cell_type": "markdown",
   "metadata": {},
   "source": [
    "The Hamiltonian is almost exactly constant for the second and fourth order models."
   ]
  },
  {
   "cell_type": "code",
   "execution_count": 157,
   "metadata": {},
   "outputs": [
    {
     "data": {
      "image/png": "[encoded data removed]",
      "text/plain": [
       "<Figure size 432x288 with 1 Axes>"
      ]
     },
     "metadata": {
      "needs_background": "light"
     },
     "output_type": "display_data"
    }
   ],
   "source": [
    "plt.title(\"Poincare Hamiltonian (Explicit euler)\")\n",
    "plt.plot(T,Hamiltonian(Q,P), T,Hamiltonian(Q2,P2), T,Hamiltonian(Q4,P4));"
   ]
  },
  {
   "cell_type": "markdown",
   "metadata": {},
   "source": [
    "**Cone model.**\n",
    "However, if the trajectory is long enough, and the time step is large enough, then even the high order models fail to conserve the Hamiltonian. This is evidenced with "
   ]
  },
  {
   "cell_type": "code",
   "execution_count": 158,
   "metadata": {},
   "outputs": [],
   "source": [
    "Hamiltonian = H_Log"
   ]
  },
  {
   "cell_type": "code",
   "execution_count": 159,
   "metadata": {},
   "outputs": [],
   "source": [
    "q,p = np.array([1,0]),np.array([0,1])"
   ]
  },
  {
   "cell_type": "code",
   "execution_count": 160,
   "metadata": {},
   "outputs": [],
   "source": [
    "Q,P,T = Geodesic(q,p,Hamiltonian,6.,step=EulerStep)\n",
    "Q2,P2,T2 = Geodesic(q,p,Hamiltonian,25.,step=RK2Step)\n",
    "Q4,P4,T4 = Geodesic(q,p,Hamiltonian,75.,step=RK4Step)"
   ]
  },
  {
   "cell_type": "code",
   "execution_count": 161,
   "metadata": {},
   "outputs": [
    {
     "data": {
      "image/png": "[encoded data removed]",
      "text/plain": [
       "<Figure size 432x288 with 1 Axes>"
      ]
     },
     "metadata": {
      "needs_background": "light"
     },
     "output_type": "display_data"
    }
   ],
   "source": [
    "plt.axis('equal'); plt.title(\"Poincare geodesic (Explicit solvers)\")\n",
    "plt.plot(Q[0],Q[1], Q2[0],Q2[1], Q4[0],Q4[1]); "
   ]
  },
  {
   "cell_type": "code",
   "execution_count": 162,
   "metadata": {},
   "outputs": [
    {
     "data": {
      "image/png": "[encoded data removed]",
      "text/plain": [
       "<Figure size 432x288 with 1 Axes>"
      ]
     },
     "metadata": {
      "needs_background": "light"
     },
     "output_type": "display_data"
    }
   ],
   "source": [
    "plt.title(\"Poincare Hamiltonian (Explicit euler)\")\n",
    "plt.plot(T,Hamiltonian(Q,P), T2,Hamiltonian(Q2,P2), T4,Hamiltonian(Q4,P4));"
   ]
  },
  {
   "cell_type": "markdown",
   "metadata": {},
   "source": [
    "### 2.2 Symplectic Euler scheme\n",
    "\n",
    "Symplectic schemes guarantee that a quantity, closely related with the Hamiltonian, is conserved along the trajectory. \n",
    "\n",
    "The Euler symplectic scheme is defined as follows:\n",
    "$$\n",
    "    \\frac{q_{n+1}-q_n}{\\Delta t} = \\partial_p H(q_n,p_n), \\quad\n",
    "    \\frac{p_{n+1}-p_n}{\\Delta t} = \\partial_q H(q_{n+1},p_{n+1}).\n",
    "$$\n",
    "Note that the scheme is semi-implicit, hence harder to implement.\n",
    "\n",
    "**Separable Hamiltonians.** If the energy takes the form $H(q,p) = F(p) + V(q)$, then the Euler symplectic scheme becomes explicit. However, our specific choices do not fall in that category."
   ]
  },
  {
   "cell_type": "code",
   "execution_count": 98,
   "metadata": {},
   "outputs": [],
   "source": [
    "reload_packages()"
   ]
  },
  {
   "cell_type": "code",
   "execution_count": 75,
   "metadata": {},
   "outputs": [],
   "source": [
    "def NewtonStep(p0,F,n=3):\n",
    "    p_ad = ad.Dense.identity(constant=p0.copy(),shape_free=(len(p0),))\n",
    "    for i in range(n):\n",
    "        p_ad = p_ad+F(p_ad).solve()\n",
    "    return p_ad.value\n",
    "\n",
    "def SymplecticEulerStep(q0,p0,H,dt):\n",
    "    d=len(q0)\n",
    "    q_ad = ad.Dense.identity(constant=q0,shape_free=(d,))\n",
    "    q=q0+dt*np.moveaxis(H(q_ad,p0).coef,-1,0)\n",
    "    def F(p):\n",
    "        nonlocal q,p0,dt\n",
    "        p_ad = ad.Dense.identity(constant=p,shape_free=(d,))\n",
    "        return p-p0+dt*np.moveaxis(H(q,p_ad).coef,-1,0)\n",
    "    return q,NewtonStep(p0,F)"
   ]
  },
  {
   "cell_type": "markdown",
   "metadata": {},
   "source": [
    "**TODO**\n",
    "* Solve the += problem.\n",
    "* Make recursive AD possible. (Probably using hack such as array of AD)"
   ]
  },
  {
   "cell_type": "code",
   "execution_count": 167,
   "metadata": {},
   "outputs": [],
   "source": [
    "arr = np.zeros((2,),type(p_ad))"
   ]
  },
  {
   "cell_type": "code",
   "execution_count": 168,
   "metadata": {},
   "outputs": [],
   "source": [
    "arr[0]=q_ad; arr[1]=p_ad"
   ]
  },
  {
   "cell_type": "code",
   "execution_count": 170,
   "metadata": {},
   "outputs": [
    {
     "data": {
      "text/plain": [
       "denseAD2(array([0., 1.]),\n",
       "array([[1., 0., 0., 0.],\n",
       "       [0., 1., 0., 1.]]),\n",
       "array([[[0., 0., 1., 0.],\n",
       "        [0., 0., 0., 0.],\n",
       "        [1., 0., 0., 0.],\n",
       "        [0., 0., 0., 0.]],\n",
       "\n",
       "       [[0., 0., 0., 0.],\n",
       "        [0., 0., 0., 1.],\n",
       "        [0., 0., 0., 0.],\n",
       "        [0., 1., 0., 0.]]]))"
      ]
     },
     "execution_count": 170,
     "metadata": {},
     "output_type": "execute_result"
    }
   ],
   "source": [
    "arr.prod()"
   ]
  },
  {
   "cell_type": "code",
   "execution_count": 177,
   "metadata": {},
   "outputs": [
    {
     "data": {
      "text/plain": [
       "array([[1.0, 1.0],\n",
       "       [0.0, 1.0]], dtype=object)"
      ]
     },
     "execution_count": 177,
     "metadata": {},
     "output_type": "execute_result"
    }
   ],
   "source": [
    "arr=np.array([p_ad,q_ad])\n",
    "arr"
   ]
  },
  {
   "cell_type": "code",
   "execution_count": 175,
   "metadata": {},
   "outputs": [
    {
     "data": {
      "text/plain": [
       "array([None, None], dtype=object)"
      ]
     },
     "execution_count": 175,
     "metadata": {},
     "output_type": "execute_result"
    }
   ],
   "source": [
    "np.empty((2,),dtype=type(p_ad))"
   ]
  },
  {
   "cell_type": "code",
   "execution_count": 76,
   "metadata": {},
   "outputs": [
    {
     "ename": "AssertionError",
     "evalue": "",
     "output_type": "error",
     "traceback": [
      "\u001b[0;31m---------------------------------------------------------------------------\u001b[0m",
      "\u001b[0;31mAssertionError\u001b[0m                            Traceback (most recent call last)",
      "\u001b[0;32m<ipython-input-76-f34938a729e2>\u001b[0m in \u001b[0;36m<module>\u001b[0;34m\u001b[0m\n\u001b[0;32m----> 1\u001b[0;31m \u001b[0mSymplecticEulerStep\u001b[0m\u001b[0;34m(\u001b[0m\u001b[0mq\u001b[0m\u001b[0;34m,\u001b[0m\u001b[0mp\u001b[0m\u001b[0;34m,\u001b[0m\u001b[0mH_HalfPlane\u001b[0m\u001b[0;34m,\u001b[0m\u001b[0;36m0.1\u001b[0m\u001b[0;34m)\u001b[0m\u001b[0;34m\u001b[0m\u001b[0;34m\u001b[0m\u001b[0m\n\u001b[0m",
      "\u001b[0;32m<ipython-input-75-6abbabd3cdff>\u001b[0m in \u001b[0;36mSymplecticEulerStep\u001b[0;34m(q0, p0, H, dt)\u001b[0m\n\u001b[1;32m     13\u001b[0m         \u001b[0mp_ad\u001b[0m \u001b[0;34m=\u001b[0m \u001b[0mad\u001b[0m\u001b[0;34m.\u001b[0m\u001b[0mDense\u001b[0m\u001b[0;34m.\u001b[0m\u001b[0midentity\u001b[0m\u001b[0;34m(\u001b[0m\u001b[0mconstant\u001b[0m\u001b[0;34m=\u001b[0m\u001b[0mp\u001b[0m\u001b[0;34m,\u001b[0m\u001b[0mshape_free\u001b[0m\u001b[0;34m=\u001b[0m\u001b[0;34m(\u001b[0m\u001b[0md\u001b[0m\u001b[0;34m,\u001b[0m\u001b[0;34m)\u001b[0m\u001b[0;34m)\u001b[0m\u001b[0;34m\u001b[0m\u001b[0;34m\u001b[0m\u001b[0m\n\u001b[1;32m     14\u001b[0m         \u001b[0;32mreturn\u001b[0m \u001b[0mp\u001b[0m\u001b[0;34m-\u001b[0m\u001b[0mp0\u001b[0m\u001b[0;34m+\u001b[0m\u001b[0mdt\u001b[0m\u001b[0;34m*\u001b[0m\u001b[0mnp\u001b[0m\u001b[0;34m.\u001b[0m\u001b[0mmoveaxis\u001b[0m\u001b[0;34m(\u001b[0m\u001b[0mH\u001b[0m\u001b[0;34m(\u001b[0m\u001b[0mq\u001b[0m\u001b[0;34m,\u001b[0m\u001b[0mp_ad\u001b[0m\u001b[0;34m)\u001b[0m\u001b[0;34m.\u001b[0m\u001b[0mcoef\u001b[0m\u001b[0;34m,\u001b[0m\u001b[0;34m-\u001b[0m\u001b[0;36m1\u001b[0m\u001b[0;34m,\u001b[0m\u001b[0;36m0\u001b[0m\u001b[0;34m)\u001b[0m\u001b[0;34m\u001b[0m\u001b[0;34m\u001b[0m\u001b[0m\n\u001b[0;32m---> 15\u001b[0;31m     \u001b[0;32mreturn\u001b[0m \u001b[0mq\u001b[0m\u001b[0;34m,\u001b[0m\u001b[0mNewtonStep\u001b[0m\u001b[0;34m(\u001b[0m\u001b[0mp0\u001b[0m\u001b[0;34m,\u001b[0m\u001b[0mF\u001b[0m\u001b[0;34m)\u001b[0m\u001b[0;34m\u001b[0m\u001b[0;34m\u001b[0m\u001b[0m\n\u001b[0m",
      "\u001b[0;32m<ipython-input-75-6abbabd3cdff>\u001b[0m in \u001b[0;36mNewtonStep\u001b[0;34m(p0, F, n)\u001b[0m\n\u001b[1;32m      2\u001b[0m     \u001b[0mp_ad\u001b[0m \u001b[0;34m=\u001b[0m \u001b[0mad\u001b[0m\u001b[0;34m.\u001b[0m\u001b[0mDense\u001b[0m\u001b[0;34m.\u001b[0m\u001b[0midentity\u001b[0m\u001b[0;34m(\u001b[0m\u001b[0mconstant\u001b[0m\u001b[0;34m=\u001b[0m\u001b[0mp0\u001b[0m\u001b[0;34m.\u001b[0m\u001b[0mcopy\u001b[0m\u001b[0;34m(\u001b[0m\u001b[0;34m)\u001b[0m\u001b[0;34m,\u001b[0m\u001b[0mshape_free\u001b[0m\u001b[0;34m=\u001b[0m\u001b[0;34m(\u001b[0m\u001b[0mlen\u001b[0m\u001b[0;34m(\u001b[0m\u001b[0mp0\u001b[0m\u001b[0;34m)\u001b[0m\u001b[0;34m,\u001b[0m\u001b[0;34m)\u001b[0m\u001b[0;34m)\u001b[0m\u001b[0;34m\u001b[0m\u001b[0;34m\u001b[0m\u001b[0m\n\u001b[1;32m      3\u001b[0m     \u001b[0;32mfor\u001b[0m \u001b[0mi\u001b[0m \u001b[0;32min\u001b[0m \u001b[0mrange\u001b[0m\u001b[0;34m(\u001b[0m\u001b[0mn\u001b[0m\u001b[0;34m)\u001b[0m\u001b[0;34m:\u001b[0m\u001b[0;34m\u001b[0m\u001b[0;34m\u001b[0m\u001b[0m\n\u001b[0;32m----> 4\u001b[0;31m         \u001b[0mp_ad\u001b[0m \u001b[0;34m=\u001b[0m \u001b[0mp_ad\u001b[0m\u001b[0;34m+\u001b[0m\u001b[0mF\u001b[0m\u001b[0;34m(\u001b[0m\u001b[0mp_ad\u001b[0m\u001b[0;34m)\u001b[0m\u001b[0;34m.\u001b[0m\u001b[0msolve\u001b[0m\u001b[0;34m(\u001b[0m\u001b[0;34m)\u001b[0m\u001b[0;34m\u001b[0m\u001b[0;34m\u001b[0m\u001b[0m\n\u001b[0m\u001b[1;32m      5\u001b[0m     \u001b[0;32mreturn\u001b[0m \u001b[0mp_ad\u001b[0m\u001b[0;34m.\u001b[0m\u001b[0mvalue\u001b[0m\u001b[0;34m\u001b[0m\u001b[0;34m\u001b[0m\u001b[0m\n\u001b[1;32m      6\u001b[0m \u001b[0;34m\u001b[0m\u001b[0m\n",
      "\u001b[0;32m<ipython-input-75-6abbabd3cdff>\u001b[0m in \u001b[0;36mF\u001b[0;34m(p)\u001b[0m\n\u001b[1;32m     11\u001b[0m     \u001b[0;32mdef\u001b[0m \u001b[0mF\u001b[0m\u001b[0;34m(\u001b[0m\u001b[0mp\u001b[0m\u001b[0;34m)\u001b[0m\u001b[0;34m:\u001b[0m\u001b[0;34m\u001b[0m\u001b[0;34m\u001b[0m\u001b[0m\n\u001b[1;32m     12\u001b[0m         \u001b[0;32mnonlocal\u001b[0m \u001b[0mq\u001b[0m\u001b[0;34m,\u001b[0m\u001b[0mp0\u001b[0m\u001b[0;34m,\u001b[0m\u001b[0mdt\u001b[0m\u001b[0;34m\u001b[0m\u001b[0;34m\u001b[0m\u001b[0m\n\u001b[0;32m---> 13\u001b[0;31m         \u001b[0mp_ad\u001b[0m \u001b[0;34m=\u001b[0m \u001b[0mad\u001b[0m\u001b[0;34m.\u001b[0m\u001b[0mDense\u001b[0m\u001b[0;34m.\u001b[0m\u001b[0midentity\u001b[0m\u001b[0;34m(\u001b[0m\u001b[0mconstant\u001b[0m\u001b[0;34m=\u001b[0m\u001b[0mp\u001b[0m\u001b[0;34m,\u001b[0m\u001b[0mshape_free\u001b[0m\u001b[0;34m=\u001b[0m\u001b[0;34m(\u001b[0m\u001b[0md\u001b[0m\u001b[0;34m,\u001b[0m\u001b[0;34m)\u001b[0m\u001b[0;34m)\u001b[0m\u001b[0;34m\u001b[0m\u001b[0;34m\u001b[0m\u001b[0m\n\u001b[0m\u001b[1;32m     14\u001b[0m         \u001b[0;32mreturn\u001b[0m \u001b[0mp\u001b[0m\u001b[0;34m-\u001b[0m\u001b[0mp0\u001b[0m\u001b[0;34m+\u001b[0m\u001b[0mdt\u001b[0m\u001b[0;34m*\u001b[0m\u001b[0mnp\u001b[0m\u001b[0;34m.\u001b[0m\u001b[0mmoveaxis\u001b[0m\u001b[0;34m(\u001b[0m\u001b[0mH\u001b[0m\u001b[0;34m(\u001b[0m\u001b[0mq\u001b[0m\u001b[0;34m,\u001b[0m\u001b[0mp_ad\u001b[0m\u001b[0;34m)\u001b[0m\u001b[0;34m.\u001b[0m\u001b[0mcoef\u001b[0m\u001b[0;34m,\u001b[0m\u001b[0;34m-\u001b[0m\u001b[0;36m1\u001b[0m\u001b[0;34m,\u001b[0m\u001b[0;36m0\u001b[0m\u001b[0;34m)\u001b[0m\u001b[0;34m\u001b[0m\u001b[0;34m\u001b[0m\u001b[0m\n\u001b[1;32m     15\u001b[0m     \u001b[0;32mreturn\u001b[0m \u001b[0mq\u001b[0m\u001b[0;34m,\u001b[0m\u001b[0mNewtonStep\u001b[0m\u001b[0;34m(\u001b[0m\u001b[0mp0\u001b[0m\u001b[0;34m,\u001b[0m\u001b[0mF\u001b[0m\u001b[0;34m)\u001b[0m\u001b[0;34m\u001b[0m\u001b[0;34m\u001b[0m\u001b[0m\n",
      "\u001b[0;32m~/Dropbox/Programmes/Github/AdaptiveGridDiscretizations/NumericalSchemes/AutomaticDifferentiation/Dense.py\u001b[0m in \u001b[0;36midentity\u001b[0;34m(shape, shape_free, shape_bound, constant, shift)\u001b[0m\n\u001b[1;32m    303\u001b[0m         \u001b[0mcoef1\u001b[0m \u001b[0;34m=\u001b[0m \u001b[0mcoef1\u001b[0m\u001b[0;34m.\u001b[0m\u001b[0mreshape\u001b[0m\u001b[0;34m(\u001b[0m\u001b[0mshape_elem\u001b[0m\u001b[0;34m+\u001b[0m\u001b[0;34m(\u001b[0m\u001b[0;36m1\u001b[0m\u001b[0;34m,\u001b[0m\u001b[0;34m)\u001b[0m\u001b[0;34m*\u001b[0m\u001b[0mlen\u001b[0m\u001b[0;34m(\u001b[0m\u001b[0mshape_bound\u001b[0m\u001b[0;34m)\u001b[0m\u001b[0;34m+\u001b[0m\u001b[0;34m(\u001b[0m\u001b[0msize_ad\u001b[0m\u001b[0;34m,\u001b[0m\u001b[0;34m)\u001b[0m\u001b[0;34m)\u001b[0m\u001b[0;34m\u001b[0m\u001b[0;34m\u001b[0m\u001b[0m\n\u001b[1;32m    304\u001b[0m         \u001b[0mcoef1\u001b[0m \u001b[0;34m=\u001b[0m \u001b[0mnp\u001b[0m\u001b[0;34m.\u001b[0m\u001b[0mbroadcast_to\u001b[0m\u001b[0;34m(\u001b[0m\u001b[0mcoef1\u001b[0m\u001b[0;34m,\u001b[0m\u001b[0mshape\u001b[0m\u001b[0;34m+\u001b[0m\u001b[0;34m(\u001b[0m\u001b[0msize_ad\u001b[0m\u001b[0;34m,\u001b[0m\u001b[0;34m)\u001b[0m\u001b[0;34m)\u001b[0m\u001b[0;34m\u001b[0m\u001b[0;34m\u001b[0m\u001b[0m\n\u001b[0;32m--> 305\u001b[0;31m         \u001b[0;32mreturn\u001b[0m \u001b[0mdenseAD\u001b[0m\u001b[0;34m(\u001b[0m\u001b[0mconstant\u001b[0m\u001b[0;34m,\u001b[0m\u001b[0mcoef1\u001b[0m\u001b[0;34m)\u001b[0m\u001b[0;34m\u001b[0m\u001b[0;34m\u001b[0m\u001b[0m\n\u001b[0m\u001b[1;32m    306\u001b[0m \u001b[0;34m\u001b[0m\u001b[0m\n\u001b[1;32m    307\u001b[0m \u001b[0;31m# ----- Operators -----\u001b[0m\u001b[0;34m\u001b[0m\u001b[0;34m\u001b[0m\u001b[0;34m\u001b[0m\u001b[0m\n",
      "\u001b[0;32m~/Dropbox/Programmes/Github/AdaptiveGridDiscretizations/NumericalSchemes/AutomaticDifferentiation/Dense.py\u001b[0m in \u001b[0;36m__new__\u001b[0;34m(cls, value, coef)\u001b[0m\n\u001b[1;32m     10\u001b[0m         \u001b[0;32mdef\u001b[0m \u001b[0m__new__\u001b[0m\u001b[0;34m(\u001b[0m\u001b[0mcls\u001b[0m\u001b[0;34m,\u001b[0m\u001b[0mvalue\u001b[0m\u001b[0;34m,\u001b[0m\u001b[0mcoef\u001b[0m\u001b[0;34m=\u001b[0m\u001b[0;32mNone\u001b[0m\u001b[0;34m)\u001b[0m\u001b[0;34m:\u001b[0m\u001b[0;34m\u001b[0m\u001b[0;34m\u001b[0m\u001b[0m\n\u001b[1;32m     11\u001b[0m                 \u001b[0;32mif\u001b[0m \u001b[0misinstance\u001b[0m\u001b[0;34m(\u001b[0m\u001b[0mvalue\u001b[0m\u001b[0;34m,\u001b[0m\u001b[0mdenseAD\u001b[0m\u001b[0;34m)\u001b[0m\u001b[0;34m:\u001b[0m\u001b[0;34m\u001b[0m\u001b[0;34m\u001b[0m\u001b[0m\n\u001b[0;32m---> 12\u001b[0;31m                         \u001b[0;32massert\u001b[0m \u001b[0mcoef\u001b[0m \u001b[0;32mis\u001b[0m \u001b[0;32mNone\u001b[0m\u001b[0;34m\u001b[0m\u001b[0;34m\u001b[0m\u001b[0m\n\u001b[0m\u001b[1;32m     13\u001b[0m                         \u001b[0;32mreturn\u001b[0m \u001b[0mvalue\u001b[0m\u001b[0;34m\u001b[0m\u001b[0;34m\u001b[0m\u001b[0m\n\u001b[1;32m     14\u001b[0m                 \u001b[0mobj\u001b[0m \u001b[0;34m=\u001b[0m \u001b[0mnp\u001b[0m\u001b[0;34m.\u001b[0m\u001b[0masarray\u001b[0m\u001b[0;34m(\u001b[0m\u001b[0mvalue\u001b[0m\u001b[0;34m)\u001b[0m\u001b[0;34m.\u001b[0m\u001b[0mview\u001b[0m\u001b[0;34m(\u001b[0m\u001b[0mdenseAD\u001b[0m\u001b[0;34m)\u001b[0m\u001b[0;34m\u001b[0m\u001b[0;34m\u001b[0m\u001b[0m\n",
      "\u001b[0;31mAssertionError\u001b[0m: "
     ]
    }
   ],
   "source": [
    "SymplecticEulerStep(q,p,H_HalfPlane,0.1)"
   ]
  },
  {
   "cell_type": "code",
   "execution_count": 68,
   "metadata": {},
   "outputs": [
    {
     "data": {
      "text/plain": [
       "array([0.00015244])"
      ]
     },
     "execution_count": 68,
     "metadata": {},
     "output_type": "execute_result"
    }
   ],
   "source": [
    "def FTest(x):\n",
    "    return x+x**2\n",
    "NewtonStep(np.array([0.5]),FTest,3)"
   ]
  },
  {
   "cell_type": "code",
   "execution_count": 69,
   "metadata": {},
   "outputs": [
    {
     "ename": "TypeError",
     "evalue": "'int' object is not subscriptable",
     "output_type": "error",
     "traceback": [
      "\u001b[0;31m---------------------------------------------------------------------------\u001b[0m",
      "\u001b[0;31mTypeError\u001b[0m                                 Traceback (most recent call last)",
      "\u001b[0;32m<ipython-input-69-9d5596802456>\u001b[0m in \u001b[0;36m<module>\u001b[0;34m\u001b[0m\n\u001b[0;32m----> 1\u001b[0;31m \u001b[0mq_ad\u001b[0m \u001b[0;34m+=\u001b[0m \u001b[0;36m1\u001b[0m\u001b[0;34m\u001b[0m\u001b[0;34m\u001b[0m\u001b[0m\n\u001b[0m",
      "\u001b[0;32m~/Dropbox/Programmes/Github/AdaptiveGridDiscretizations/NumericalSchemes/AutomaticDifferentiation/Dense2.py\u001b[0m in \u001b[0;36m__array_ufunc__\u001b[0;34m(self, ufunc, method, *inputs, **kwargs)\u001b[0m\n\u001b[1;32m    217\u001b[0m \u001b[0;34m\u001b[0m\u001b[0m\n\u001b[1;32m    218\u001b[0m                         \u001b[0;31m# Operators\u001b[0m\u001b[0;34m\u001b[0m\u001b[0;34m\u001b[0m\u001b[0;34m\u001b[0m\u001b[0m\n\u001b[0;32m--> 219\u001b[0;31m                         \u001b[0;32mif\u001b[0m \u001b[0mufunc\u001b[0m\u001b[0;34m==\u001b[0m\u001b[0mnp\u001b[0m\u001b[0;34m.\u001b[0m\u001b[0madd\u001b[0m\u001b[0;34m:\u001b[0m \u001b[0;32mreturn\u001b[0m \u001b[0mself\u001b[0m\u001b[0;34m.\u001b[0m\u001b[0madd\u001b[0m\u001b[0;34m(\u001b[0m\u001b[0;34m*\u001b[0m\u001b[0minputs\u001b[0m\u001b[0;34m,\u001b[0m\u001b[0;34m**\u001b[0m\u001b[0mkwargs\u001b[0m\u001b[0;34m)\u001b[0m\u001b[0;34m\u001b[0m\u001b[0;34m\u001b[0m\u001b[0m\n\u001b[0m\u001b[1;32m    220\u001b[0m                         \u001b[0;32mif\u001b[0m \u001b[0mufunc\u001b[0m\u001b[0;34m==\u001b[0m\u001b[0mnp\u001b[0m\u001b[0;34m.\u001b[0m\u001b[0msubtract\u001b[0m\u001b[0;34m:\u001b[0m \u001b[0;32mreturn\u001b[0m \u001b[0mself\u001b[0m\u001b[0;34m.\u001b[0m\u001b[0msubtract\u001b[0m\u001b[0;34m(\u001b[0m\u001b[0;34m*\u001b[0m\u001b[0minputs\u001b[0m\u001b[0;34m,\u001b[0m\u001b[0;34m**\u001b[0m\u001b[0mkwargs\u001b[0m\u001b[0;34m)\u001b[0m\u001b[0;34m\u001b[0m\u001b[0;34m\u001b[0m\u001b[0m\n\u001b[1;32m    221\u001b[0m                         \u001b[0;32mif\u001b[0m \u001b[0mufunc\u001b[0m\u001b[0;34m==\u001b[0m\u001b[0mnp\u001b[0m\u001b[0;34m.\u001b[0m\u001b[0mmultiply\u001b[0m\u001b[0;34m:\u001b[0m \u001b[0;32mreturn\u001b[0m \u001b[0mself\u001b[0m\u001b[0;34m.\u001b[0m\u001b[0mmultiply\u001b[0m\u001b[0;34m(\u001b[0m\u001b[0;34m*\u001b[0m\u001b[0minputs\u001b[0m\u001b[0;34m,\u001b[0m\u001b[0;34m**\u001b[0m\u001b[0mkwargs\u001b[0m\u001b[0;34m)\u001b[0m\u001b[0;34m\u001b[0m\u001b[0;34m\u001b[0m\u001b[0m\n",
      "\u001b[0;32m~/Dropbox/Programmes/Github/AdaptiveGridDiscretizations/NumericalSchemes/AutomaticDifferentiation/Dense2.py\u001b[0m in \u001b[0;36madd\u001b[0;34m(a, b, out, where)\u001b[0m\n\u001b[1;32m    231\u001b[0m         \u001b[0;32mdef\u001b[0m \u001b[0madd\u001b[0m\u001b[0;34m(\u001b[0m\u001b[0ma\u001b[0m\u001b[0;34m,\u001b[0m\u001b[0mb\u001b[0m\u001b[0;34m,\u001b[0m\u001b[0mout\u001b[0m\u001b[0;34m=\u001b[0m\u001b[0;32mNone\u001b[0m\u001b[0;34m,\u001b[0m\u001b[0mwhere\u001b[0m\u001b[0;34m=\u001b[0m\u001b[0;32mTrue\u001b[0m\u001b[0;34m)\u001b[0m\u001b[0;34m:\u001b[0m\u001b[0;34m\u001b[0m\u001b[0;34m\u001b[0m\u001b[0m\n\u001b[1;32m    232\u001b[0m                 \u001b[0;32mif\u001b[0m \u001b[0mout\u001b[0m \u001b[0;32mis\u001b[0m \u001b[0;32mNone\u001b[0m\u001b[0;34m:\u001b[0m \u001b[0;32mreturn\u001b[0m \u001b[0ma\u001b[0m\u001b[0;34m+\u001b[0m\u001b[0mb\u001b[0m \u001b[0;31m#if isinstance(a,denseAD2) else b+a;\u001b[0m\u001b[0;34m\u001b[0m\u001b[0;34m\u001b[0m\u001b[0m\n\u001b[0;32m--> 233\u001b[0;31m                 \u001b[0;32melse\u001b[0m\u001b[0;34m:\u001b[0m \u001b[0mresult\u001b[0m\u001b[0;34m=\u001b[0m\u001b[0m_tuple_first\u001b[0m\u001b[0;34m(\u001b[0m\u001b[0mout\u001b[0m\u001b[0;34m)\u001b[0m\u001b[0;34m;\u001b[0m \u001b[0mresult\u001b[0m\u001b[0;34m[\u001b[0m\u001b[0mwhere\u001b[0m\u001b[0;34m]\u001b[0m\u001b[0;34m=\u001b[0m\u001b[0ma\u001b[0m\u001b[0;34m[\u001b[0m\u001b[0mwhere\u001b[0m\u001b[0;34m]\u001b[0m\u001b[0;34m+\u001b[0m\u001b[0mb\u001b[0m\u001b[0;34m[\u001b[0m\u001b[0mwhere\u001b[0m\u001b[0;34m]\u001b[0m\u001b[0;34m;\u001b[0m \u001b[0;32mreturn\u001b[0m \u001b[0mresult\u001b[0m\u001b[0;34m\u001b[0m\u001b[0;34m\u001b[0m\u001b[0m\n\u001b[0m\u001b[1;32m    234\u001b[0m \u001b[0;34m\u001b[0m\u001b[0m\n\u001b[1;32m    235\u001b[0m         \u001b[0;34m@\u001b[0m\u001b[0mstaticmethod\u001b[0m\u001b[0;34m\u001b[0m\u001b[0;34m\u001b[0m\u001b[0m\n",
      "\u001b[0;31mTypeError\u001b[0m: 'int' object is not subscriptable"
     ]
    }
   ],
   "source": [
    "q_ad += 1"
   ]
  },
  {
   "cell_type": "code",
   "execution_count": null,
   "metadata": {},
   "outputs": [],
   "source": [
    "reload_packages()"
   ]
  },
  {
   "cell_type": "code",
   "execution_count": null,
   "metadata": {},
   "outputs": [],
   "source": [
    "p_ad = ad.Dense.identity(shape=(2,))"
   ]
  },
  {
   "cell_type": "code",
   "execution_count": null,
   "metadata": {},
   "outputs": [],
   "source": [
    "p_ad[0]+=p_ad[1]"
   ]
  },
  {
   "cell_type": "code",
   "execution_count": null,
   "metadata": {},
   "outputs": [],
   "source": [
    "if np.full((2,2),True) is True: print(\"hello\")"
   ]
  },
  {
   "cell_type": "code",
   "execution_count": 70,
   "metadata": {},
   "outputs": [
    {
     "data": {
      "text/plain": [
       "array([1, 0])"
      ]
     },
     "execution_count": 70,
     "metadata": {},
     "output_type": "execute_result"
    }
   ],
   "source": [
    "q"
   ]
  },
  {
   "cell_type": "code",
   "execution_count": null,
   "metadata": {},
   "outputs": [],
   "source": []
  }
 ],
 "metadata": {
  "kernelspec": {
   "display_name": "Python 3",
   "language": "python",
   "name": "python3"
  },
  "language_info": {
   "codemirror_mode": {
    "name": "ipython",
    "version": 3
   },
   "file_extension": ".py",
   "mimetype": "text/x-python",
   "name": "python",
   "nbconvert_exporter": "python",
   "pygments_lexer": "ipython3",
   "version": "3.7.3"
  }
 },
 "nbformat": 4,
 "nbformat_minor": 2
}
