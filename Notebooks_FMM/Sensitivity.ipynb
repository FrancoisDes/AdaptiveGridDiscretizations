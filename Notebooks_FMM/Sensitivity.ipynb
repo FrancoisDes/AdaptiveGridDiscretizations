{
 "cells": [
  {
   "cell_type": "markdown",
   "metadata": {
    "collapsed": true
   },
   "source": [
    "# The HFM library - A fast marching solver with adaptive stencils \n",
    "\n",
    "## Part : Algorithmic enhancements to the fast marching method\n",
    "## Chapter : Sensitivity analysis\n",
    "\n",
    "The present notebook is devoted to forward and reverse differentiation of the fast marching algorithm. We limit ourselves to isotropic fast marching, but more complex models are supported equally well, see the subsequent notebooks as well as the publication :\n",
    "\n",
    "* Jean-Marie Mirebeau and Johann Dreo, “Automatic differentiation of non-holonomic fast marching for computing most threatening trajectories under sensors surveillance,” Geometrical Science of Information conference, 2017. [link](https://hal.archives-ouvertes.fr/hal-01503607)"
   ]
  },
  {
   "cell_type": "markdown",
   "metadata": {},
   "source": [
    "[**Summary**](Summary.ipynb) of volume Fast Marching Methods, this series of notebooks.\n",
    "\n",
    "[**Main summary**](../Summary.ipynb) of the Adaptive Grid Discretizations \n",
    "\tbook of notebooks, including the other volumes.\n",
    "\n",
    "# Table of contents\n",
    "  * [1. Setting up the problem](#1.-Setting-up-the-problem)\n",
    "  * [2. Forward differentiation](#2.-Forward-differentiation)\n",
    "    * [2.1 Using automatic differentiation](#2.1-Using-automatic-differentiation)\n",
    "  * [3. Backward differentiation](#3.-Backward-differentiation)\n",
    "    * [3.1 Using automatic differentiation](#3.1-Using-automatic-differentiation)\n",
    "  * [4. An optimization problem : finding the cost function which maximizes distance](#4.-An-optimization-problem-:-finding-the-cost-function-which-maximizes-distance)\n",
    "  * [5. Sensitivity to several parameters](#5.-Sensitivity-to-several-parameters)\n",
    "  * [6. Sensitivity at multiple points, possibly weighted](#6.-Sensitivity-at-multiple-points,-possibly-weighted)\n",
    "\n",
    "\n",
    "\n",
    "This Python&reg; notebook is intended as documentation and testing for the [HamiltonFastMarching (HFM) library](https://github.com/mirebeau/HamiltonFastMarching), which also has interfaces to the Matlab&reg; and Mathematica&reg; languages. \n",
    "More information on the HFM library in the manuscript:\n",
    "* Jean-Marie Mirebeau, Jorg Portegies, \"Hamiltonian Fast Marching: A numerical solver for anisotropic and non-holonomic eikonal PDEs\", 2019 [(link)](https://hal.archives-ouvertes.fr/hal-01778322)\n",
    "\n",
    "Copyright Jean-Marie Mirebeau, University Paris-Sud, CNRS, University Paris-Saclay"
   ]
  },
  {
   "cell_type": "markdown",
   "metadata": {},
   "source": [
    "## 0. Importing the required libraries"
   ]
  },
  {
   "cell_type": "code",
   "execution_count": 1,
   "metadata": {},
   "outputs": [],
   "source": [
    "import sys; sys.path.insert(0,\"..\") # Allow import of agd from parent directory (useless if conda package installed)\n",
    "#from Miscellaneous import TocTools; print(TocTools.displayTOC('Sensitivity','FMM'))"
   ]
  },
  {
   "cell_type": "code",
   "execution_count": 2,
   "metadata": {},
   "outputs": [],
   "source": [
    "from agd import HFMUtils\n",
    "from agd import AutomaticDifferentiation as ad\n",
    "from agd import FiniteDifferences as fd\n",
    "from agd.Plotting import savefig; #savefig.dirName = 'Figures/Sensitivity'"
   ]
  },
  {
   "cell_type": "code",
   "execution_count": 3,
   "metadata": {},
   "outputs": [],
   "source": [
    "import numpy as np\n",
    "%matplotlib inline\n",
    "import matplotlib.pyplot as plt\n",
    "import scipy.optimize"
   ]
  },
  {
   "cell_type": "code",
   "execution_count": 4,
   "metadata": {},
   "outputs": [],
   "source": [
    "def reload_packages():\n",
    "    from importlib import reload\n",
    "    HFMUtils = reload(sys.modules['agd.HFMUtils'])\n",
    "    fd = reload(sys.modules['agd.FiniteDifferences'])"
   ]
  },
  {
   "cell_type": "markdown",
   "metadata": {},
   "source": [
    "At this point, we need to mention that there exists two consistent discretizations of the eikonal equation, namely:\n",
    "$$\n",
    "    \\|\\nabla u(x)\\|^2 \n",
    "    \\approx h^{-2} \\sum_{1\\leq i \\leq d} \\max \\{0,u(x)-u(x-h e_i), u(x)-u(x+h e_i)\\}^2, \n",
    "$$\n",
    "and \n",
    "$$\n",
    "    \\|\\nabla u(x)\\|^2 \n",
    "    \\approx h^{-2} \\sum_{1\\leq i \\leq d} \\sum_{s \\in \\{-1,1\\}} \\max \\{0,u(x)-u(x- h s e_i)\\}^2,\n",
    "$$\n",
    "where $h$ denotes the gridscale, and $(e_1,\\cdots,e_d)$ is the canonical basis of $\\mathbb R^d$.\n",
    "\n",
    "* The first implementation (left), referred to as 'Isotropic2', is usually preferred since it is more accurate at points were the solution $u$ looses differentiability, e.g. near the cut locus (the points reached by two minimal geodesics). \n",
    "\n",
    "* The second implementation, referred to as 'IsotropicDiff2', has the advantage of being continuously differentiable w.r.t. the values of $u$, and is thus better behaved when it comes to automatic differentiation."
   ]
  },
  {
   "cell_type": "code",
   "execution_count": 5,
   "metadata": {},
   "outputs": [],
   "source": [
    "hfmInput = {}\n",
    "hfmInput['model']='Isotropic2' # Alternatively 'IsotropicDiff2'"
   ]
  },
  {
   "cell_type": "markdown",
   "metadata": {},
   "source": [
    "## 1. Setting up the problem\n",
    "\n",
    "We choose as a start to set up a same problem as considered in the [first notebook](http://nbviewer.jupyter.org/urls/rawgithub.com/Mirebeau/HFM_Python_Notebooks/master/A1_Isotropic.ipynb): a path planning problem involving an isotropic cost, on a two dimensional domain with obstacles.\n",
    "More precisely, we compute the unique viscosity solution $u: \\overline \\Omega \\to ]-\\infty,\\infty]$ to an eikonal equation\n",
    "\\begin{align*}\n",
    "\\forall x \\in \\Omega, \\|\\nabla u(x)\\| &= c(x), &\n",
    "\\forall x \\in \\partial \\Omega, u(x) &= \\sigma(x).\n",
    "\\end{align*}\n",
    "This PDE solution is known to solve the following optimal control problem\n",
    "\\begin{equation*}\n",
    "    u(x) = \\min_{\\substack{\\gamma(0) \\in \\partial \\Omega\\\\ \\gamma(1)=x}} \\sigma(\\gamma(0))+ \\int_0^1 c(\\gamma(t)), \\|\\gamma'(t)\\| \\,\\mathrm dt\n",
    "\\end{equation*}\n",
    "and the minimal paths $\\gamma:[0,1] \\to \\overline \\Omega$ can be efficiently backtracked."
   ]
  },
  {
   "cell_type": "code",
   "execution_count": 6,
   "metadata": {},
   "outputs": [],
   "source": [
    "hfmInput['arrayOrdering']='YXZ_RowMajor'\n",
    "\n",
    "# Define the domain\n",
    "hfmInput.update(\n",
    "    HFMUtils.Rect(sides=[[-1,1],[0,1]],gridScale=1./100.)\n",
    ")\n",
    "\n",
    "# Set up the boundary conditions\n",
    "hfmInput['seeds']=[[-0.5,0.3],[0.5,0.8]] # Seed position\n",
    "hfmInput['seedValues']=[0.,0.5] # Boundary condition imposed at the seed. Defaults to $[0.,0.]$.\n",
    "\n",
    "# Define the speed function\n",
    "X,Y = HFMUtils.GetGrid(hfmInput) # Create a coordinate system\n",
    "hfmInput['cost'] = np.exp(-0.5*(X**2+Y**2)) # Define the cost function\n",
    "\n",
    "# Insert the obstacles\n",
    "disk = (X-0.3)**2 + (Y-0.3)**2 <= 0.2**2\n",
    "barrier = np.logical_and(X==X[0,70], Y>=0.4)\n",
    "hfmInput['walls']= np.logical_or(disk,barrier) \n",
    "\n",
    "# Request the desired outputs\n",
    "hfmInput['exportValues']=1. # Ask for the PDE solution\n",
    "hfmInput['tips'] = [[0.,0.6],[-0.9,0.5],[0.8,0.8]] # Ask for the geodesics from these three points"
   ]
  },
  {
   "cell_type": "markdown",
   "metadata": {},
   "source": [
    "However, for the purposes of sensitivity analysis, we do avoid two features considered in the first notebook :\n",
    "* Second order enhancement of the numerical scheme. (Obtained by setting hfmInput['order']=2)\n",
    "* Time dependent speed functions.\n",
    "\n",
    "Indeed, if they were used, in the current implementation, then minor inaccuracies could arise in the the computed sensitivities.\n",
    "\n",
    "Before turning to sensitivity analysis, let us recall how the software is run and its output displayed."
   ]
  },
  {
   "cell_type": "code",
   "execution_count": 7,
   "metadata": {},
   "outputs": [
    {
     "name": "stdout",
     "output_type": "stream",
     "text": [
      "Field verbosity defaults to 1\n",
      "Field order defaults to 1\n",
      "Field spreadSeeds defaults to -1\n",
      "Field showProgress defaults to 0\n",
      "Field factoringMethod defaults to None\n",
      "Fast marching solver completed in 0.004784 s.\n",
      "Field geodesicSolver defaults to Discrete\n",
      "Field geodesicStep defaults to 0.25\n",
      "Field geodesicWeightThreshold defaults to 0.001\n",
      "Field geodesicVolumeBound defaults to 8.45\n",
      "Field exportActiveNeighs defaults to 0\n",
      "Field exportGeodesicFlow defaults to 0\n"
     ]
    }
   ],
   "source": [
    "hfmOutput = HFMUtils.Run(hfmInput)"
   ]
  },
  {
   "cell_type": "code",
   "execution_count": 8,
   "metadata": {},
   "outputs": [
    {
     "data": {
      "image/png": "[encoded data removed]",
      "text/plain": [
       "<Figure size 432x216 with 1 Axes>"
      ]
     },
     "metadata": {
      "needs_background": "light"
     },
     "output_type": "display_data"
    }
   ],
   "source": [
    "plt.figure(figsize=[6,3]); plt.title('Distance and minimal geodesics'); plt.axis('equal'); \n",
    "for geo in HFMUtils.GetGeodesics(hfmOutput): plt.plot(geo[:,0],geo[:,1]) \n",
    "plt.contourf(X,Y,hfmOutput['values'],cmap='Greys');"
   ]
  },
  {
   "cell_type": "markdown",
   "metadata": {
    "collapsed": true
   },
   "source": [
    "## 2. Forward differentiation\n",
    "\n"
   ]
  },
  {
   "cell_type": "markdown",
   "metadata": {},
   "source": [
    "In this section, we differentiate the front arrival times $u : \\Omega \\to ]-\\infty,\\infty[$ w.r.t variations in the cost function $c : \\Omega \\to ]0,\\infty[$, and in the boundary conditions $\\sigma : \\Omega\\to ]-\\infty,\\infty[$.\n",
    "More precisely, denote by $u[c,\\sigma] : \\Omega \\to ]-\\infty,\\infty[$, the solution to the eikonal equation\n",
    "\\begin{align*}\n",
    "    \\forall x \\in \\Omega, \\| \\nabla u[c,\\sigma](x) \\| &= c(x) &\n",
    "    \\forall x \\in \\partial \\Omega, u[c,\\sigma](x) &= \\sigma(x).\n",
    "\\end{align*}\n",
    "\n",
    "Consider perturbation fields $\\xi : \\Omega \\to \\mathbb R$ and $\\zeta : \\partial \\Omega \\to \\mathbb R$. Forward differentiation allows to compute the first term  $\\nu : \\Omega \\to \\mathbb R$ in the Taylor expansion of the distance function, if it exists. In other words\n",
    "\\begin{equation*}\n",
    "\\mu(x) := \\frac d {d \\varepsilon} u[c+ \\varepsilon \\xi, \\sigma+ \\varepsilon \\zeta] (x)\n",
    "\\end{equation*}"
   ]
  },
  {
   "cell_type": "code",
   "execution_count": 9,
   "metadata": {},
   "outputs": [],
   "source": [
    "cost = hfmInput['cost']\n",
    "seedValues = hfmInput['seedValues']\n",
    "\n",
    "# Define the cost perturbation(s), above named xi. We actually define three perturbations, \n",
    "# xi_0 (on the right side of the domain only), xi_1 (on the left side only), and xi_2 (no perturbation)\n",
    "hfmInput['costVariation']= np.stack([(X>0.)*cost, (X<=0.)*cost, 0.*X],2) \n",
    "\n",
    "# Define the boundary condition perturbation(s), above named zeta. \n",
    "# Again, similarly define three perturbation, zeta_0 (no perturbation), zeta_1 (no perturbation), and zeta_2.\n",
    "hfmInput['seedValueVariation']=np.stack([[0,0],[0,0],seedValues],1) "
   ]
  },
  {
   "cell_type": "code",
   "execution_count": 10,
   "metadata": {},
   "outputs": [
    {
     "name": "stdout",
     "output_type": "stream",
     "text": [
      "Field verbosity defaults to 1\n",
      "Field order defaults to 1\n",
      "Field spreadSeeds defaults to -1\n",
      "Field showProgress defaults to 0\n",
      "Field factoringMethod defaults to None\n",
      "Fast marching solver completed in 0.004662 s.\n",
      "Field geodesicSolver defaults to Discrete\n",
      "Field geodesicStep defaults to 0.25\n",
      "Field geodesicWeightThreshold defaults to 0.001\n",
      "Field geodesicVolumeBound defaults to 8.45\n",
      "Field exportActiveNeighs defaults to 0\n",
      "Field exportGeodesicFlow defaults to 0\n"
     ]
    }
   ],
   "source": [
    "hfmOutput = HFMUtils.Run(hfmInput)"
   ]
  },
  {
   "cell_type": "markdown",
   "metadata": {},
   "source": [
    "The following cell shows the effect $\\mu_0$ of the first perturbation $(\\xi_0,\\zeta_0)$. Since $\\xi_0$ is positive in the right side of the domain $\\{x>0\\}$, the perturbation increases the cost function there, hence also the value function. Therefore $\\mu_0>0$ where $\\{x>0\\}$, as can be observed numerically. On the other hand $\\zeta_0=0$, which means that boundary conditions, in other words the seed values, are untouched."
   ]
  },
  {
   "cell_type": "code",
   "execution_count": 11,
   "metadata": {},
   "outputs": [
    {
     "data": {
      "image/png": "[encoded data removed]",
      "text/plain": [
       "<Figure size 432x216 with 2 Axes>"
      ]
     },
     "metadata": {
      "needs_background": "light"
     },
     "output_type": "display_data"
    }
   ],
   "source": [
    "plt.figure(figsize=[6,3]); plt.title(r'Value variation $\\mu$, cost perturbed on the right.'); plt.axis('equal'); \n",
    "# The field 'valueVariation' is denoted mu in the above mathematical expression.\n",
    "plt.contourf(X,Y,hfmOutput['valueVariation'][:,:,0]) \n",
    "plt.axis('equal');plt.colorbar();"
   ]
  },
  {
   "cell_type": "markdown",
   "metadata": {},
   "source": [
    "The following cell shows the effect $\\mu_1$ of the second perturbation $(\\xi_1,\\zeta_1)$. Since $\\xi_1$ is positive on the left side of the domain $\\{x\\leq 0\\}$, the perturbation increases the cost function there, hence also the value function $u$. Therefore $\\mu_1>0$ where $\\{x \\leq 0\\}$, as can be observed numerically.\n",
    "\n",
    "However, one can note that $\\mu_1>0$ on part of the right side of the domain $\\{x>0\\}$ as well. That is because the corresponding minimal paths come from the left part of the domain, hence they see their cost increased by the perturbation."
   ]
  },
  {
   "cell_type": "code",
   "execution_count": 12,
   "metadata": {},
   "outputs": [
    {
     "data": {
      "image/png": "[encoded data removed]",
      "text/plain": [
       "<Figure size 432x216 with 2 Axes>"
      ]
     },
     "metadata": {
      "needs_background": "light"
     },
     "output_type": "display_data"
    }
   ],
   "source": [
    "fig = plt.figure(figsize=[6,3]); plt.title(r'Value variation $\\mu$, cost perturbed on the left.'); plt.axis('equal'); \n",
    "plt.contourf(X,Y,hfmOutput['valueVariation'][:,:,1])\n",
    "plt.axis('equal');plt.colorbar();\n",
    "savefig(fig,'ValueVariation_CostPerturbationLeft.png')"
   ]
  },
  {
   "cell_type": "markdown",
   "metadata": {},
   "source": [
    "The third perturbation affects the boundary conditions only: $\\xi_2=0$ and $\\zeta_2 \\neq 0$. More precisely, the perturbation increases the boundary condition at the right seed $x_1$ only. Therefore, as can be observed numerically, hence the value function $u$ increases in the Voronoi region of $x_1$ only. In other words $\\mu_2>0$ at at all the points for which the backtracked geodesic leads to $x_1$."
   ]
  },
  {
   "cell_type": "code",
   "execution_count": 13,
   "metadata": {},
   "outputs": [
    {
     "data": {
      "image/png": "[encoded data removed]",
      "text/plain": [
       "<Figure size 432x216 with 2 Axes>"
      ]
     },
     "metadata": {
      "needs_background": "light"
     },
     "output_type": "display_data"
    }
   ],
   "source": [
    "fig = plt.figure(figsize=[6,3]); plt.title(r'Value variation $\\mu$, right seed value perturbed.'); plt.axis('equal'); \n",
    "plt.contourf(X,Y,hfmOutput['valueVariation'][:,:,2])\n",
    "plt.axis('equal');plt.colorbar();\n",
    "savefig(fig,'ValueVariation_SeedValuePerturbationRight.png')"
   ]
  },
  {
   "cell_type": "markdown",
   "metadata": {},
   "source": [
    "We end this section with a consistency test, based on a mathematical property that we describe below.\n",
    "\n",
    "It is worth noting that the arrival time function $u$ is $1$-homogeneous w.r.t. its parameters $c$ and $\\sigma$\n",
    "\\begin{equation*}\n",
    "u[\\lambda c,\\lambda \\sigma] = \\lambda u[c,\\sigma].\n",
    "\\end{equation*}\n",
    "This implies a differential identity, referred to as Euler identity for homogeneous functions:\n",
    "\\begin{equation*} \n",
    "    \\frac d {d\\lambda} u[\\lambda c,\\lambda \\sigma] = u[c,\\sigma].\n",
    "\\end{equation*}\n",
    "In the test case above, we have chosen the perturbations such that $\\xi_0+\\xi_1+\\xi_2 = c$ and $\\zeta_0+\\zeta_1+\\zeta_2 = \\sigma$. Thus denoting by $\\mu_0,\\mu_1,\\mu_2$ the corresponding value variations, Euler's identity implies that $\\mu_0+\\mu_1+\\mu_2 = u$, as can be observed numerically."
   ]
  },
  {
   "cell_type": "code",
   "execution_count": 14,
   "metadata": {},
   "outputs": [
    {
     "data": {
      "text/plain": [
       "1.3322676295501878e-15"
      ]
     },
     "execution_count": 14,
     "metadata": {},
     "output_type": "execute_result"
    }
   ],
   "source": [
    "values = hfmOutput['values']; \n",
    "values[hfmInput['walls']]=0.; # Eliminate values inside walls, which equal Infinity\n",
    "np.max(np.abs(hfmOutput['valueVariation'][:,:,0]+hfmOutput['valueVariation'][:,:,1]\n",
    "              +hfmOutput['valueVariation'][:,:,2]-values)) # Check Euler's identity"
   ]
  },
  {
   "cell_type": "markdown",
   "metadata": {},
   "source": [
    "### 2.1 Using automatic differentiation\n",
    "\n",
    "For convenience, we provide a (limited) interface with between the AD libraries of agd and hfm. \n",
    "In that setting, some of the keys of the hfmInput dictionary can be provided as first order dense AD variables.\n",
    "Under the hood, a pre-processing and a post-processing step reformat the AD data as presented above.\n",
    "\n",
    "<!---In a pre-processing , the AD information will be separated and before the call to the HFM library, and then --->"
   ]
  },
  {
   "cell_type": "code",
   "execution_count": 15,
   "metadata": {},
   "outputs": [],
   "source": [
    "# The following keys cannot be enhanced with AD information\n",
    "hfmIn_ad = {key:hfmInput[key] for key in \n",
    "            ['model','arrayOrdering','gridScale','dims','origin','seeds','walls','exportValues']}"
   ]
  },
  {
   "cell_type": "markdown",
   "metadata": {},
   "source": [
    "Let us construct a first order symbolic perturbation with three independent components. "
   ]
  },
  {
   "cell_type": "code",
   "execution_count": 16,
   "metadata": {},
   "outputs": [],
   "source": [
    "delta = ad.Dense.identity((3,))"
   ]
  },
  {
   "cell_type": "markdown",
   "metadata": {},
   "source": [
    "We can define a cost and seed values which incorporate first order perturbations. Here we simply reproduce the previous ones."
   ]
  },
  {
   "cell_type": "code",
   "execution_count": 17,
   "metadata": {},
   "outputs": [],
   "source": [
    "hfmIn_ad['cost'] = cost*(1+ delta[0]*(X>0.) + delta[1]*(X<=0.))\n",
    "hfmIn_ad['seedValues'] = seedValues * (1+ delta[2])"
   ]
  },
  {
   "cell_type": "markdown",
   "metadata": {},
   "source": [
    "A smart run will pre-process and post-process the HFM data to correct formatting."
   ]
  },
  {
   "cell_type": "code",
   "execution_count": 18,
   "metadata": {},
   "outputs": [
    {
     "name": "stdout",
     "output_type": "stream",
     "text": [
      "Field verbosity defaults to 1\n",
      "Field order defaults to 1\n",
      "Field spreadSeeds defaults to -1\n",
      "Field showProgress defaults to 0\n",
      "Field factoringMethod defaults to None\n",
      "Fast marching solver completed in 0.004839 s.\n",
      "Field exportActiveNeighs defaults to 0\n",
      "Field exportGeodesicFlow defaults to 0\n"
     ]
    }
   ],
   "source": [
    "hfmOut_ad = HFMUtils.Run(hfmIn_ad,smart=True)"
   ]
  },
  {
   "cell_type": "markdown",
   "metadata": {},
   "source": [
    "The field of values output by the smart run incorporates first order AD information."
   ]
  },
  {
   "cell_type": "code",
   "execution_count": 19,
   "metadata": {},
   "outputs": [],
   "source": [
    "values_ad = hfmOut_ad['values']\n",
    "grad = values_ad.gradient()"
   ]
  },
  {
   "cell_type": "code",
   "execution_count": 20,
   "metadata": {},
   "outputs": [
    {
     "data": {
      "image/png": "[encoded data removed]",
      "text/plain": [
       "<Figure size 1080x180 with 3 Axes>"
      ]
     },
     "metadata": {
      "needs_background": "light"
     },
     "output_type": "display_data"
    }
   ],
   "source": [
    "fig = plt.figure(figsize=[15,2.5])\n",
    "plt.subplot(1,3,1)\n",
    "plt.contourf(X,Y,grad[0])\n",
    "plt.subplot(1,3,2)\n",
    "plt.contourf(X,Y,grad[1])\n",
    "plt.subplot(1,3,3)\n",
    "plt.contourf(X,Y,grad[2]);"
   ]
  },
  {
   "cell_type": "markdown",
   "metadata": {},
   "source": [
    "## 3. Backward differentiation\n",
    "\n",
    "Consider a cost function $c : \\Omega \\to ]0,\\infty[$ and some boundary values $\\sigma : \\Omega \\to ]-\\infty,\\infty]$. Backward differentiation, for a given point $x\\in \\Omega$ provides two fields $\\rho = \\rho[x,c,\\sigma] : \\Omega \\to \\mathbb R$ and $\\pi = \\pi[x,c,\\sigma] : \\partial \\Omega \\to \\mathbb R$ such that \n",
    "\\begin{equation*}\n",
    "u[c+\\varepsilon \\xi,\\sigma+\\varepsilon \\zeta](x) = u[x,\\sigma](x)+ \\varepsilon \\Bigg(\\int_\\Omega \\rho \\xi + \\int_{\\partial \\Omega} \\pi \\zeta\\Bigg) + o(\\varepsilon).\n",
    "\\end{equation*}\n",
    "This equality holds, assuming differentiability, for any perturbation $\\xi$ of the cost function $c$, and any perturbation $\\zeta$ of the boundary condition $\\sigma$.\n",
    "The fields $\\rho$ and $\\pi$ express how much the front arrival time value $u[c,\\sigma]$ is sensitive to variations in these parameters.\n"
   ]
  },
  {
   "cell_type": "code",
   "execution_count": 21,
   "metadata": {},
   "outputs": [],
   "source": [
    "hfmInput['inspectSensitivity']=[ [-0.8,0.8], [0.575,0.1] ] # Ask for rho and pi related to these two points"
   ]
  },
  {
   "cell_type": "code",
   "execution_count": 22,
   "metadata": {},
   "outputs": [
    {
     "name": "stdout",
     "output_type": "stream",
     "text": [
      "Field verbosity defaults to 1\n",
      "Field order defaults to 1\n",
      "Field spreadSeeds defaults to -1\n",
      "Field showProgress defaults to 0\n",
      "Field factoringMethod defaults to None\n",
      "Fast marching solver completed in 0.004731 s.\n",
      "Field geodesicSolver defaults to Discrete\n",
      "Field geodesicStep defaults to 0.25\n",
      "Field geodesicWeightThreshold defaults to 0.001\n",
      "Field geodesicVolumeBound defaults to 8.45\n",
      "Field exportActiveNeighs defaults to 0\n",
      "Field exportGeodesicFlow defaults to 0\n"
     ]
    }
   ],
   "source": [
    "hfmOutput = HFMUtils.Run(hfmInput)"
   ]
  },
  {
   "cell_type": "markdown",
   "metadata": {},
   "source": [
    "As can illustrated in the next cell, the sensitivity $\\rho = \\rho[x,c,\\sigma]$, of the value function $u(x)$ at a given point $x$ w.r.t. variations in the cost $c$, is (mostly) supported in the neighborhood of the minimal geodesic from $x$ to the nearest seed point. This property is actually at the foundation of one of our backtracking methods."
   ]
  },
  {
   "cell_type": "code",
   "execution_count": 23,
   "metadata": {},
   "outputs": [
    {
     "data": {
      "image/png": "[encoded data removed]",
      "text/plain": [
       "<Figure size 432x216 with 2 Axes>"
      ]
     },
     "metadata": {
      "needs_background": "light"
     },
     "output_type": "display_data"
    }
   ],
   "source": [
    "plt.figure(figsize=[6,3]); plt.title(r'Value sensitivity $\\rho$.'); plt.axis('equal'); \n",
    "plt.contourf(X,Y,hfmOutput['costSensitivity_0']); # rho\n",
    "plt.colorbar();"
   ]
  },
  {
   "cell_type": "markdown",
   "metadata": {},
   "source": [
    "The second point $x_2 = (0.575,0.1)$ for which we request the sensitivity, is located precisely on the cut locus. In other words, it is at equal distance of the two seeds (taking into account the boundary conditions). The corresponding sensitivity $\\rho$ is thus supported on the neighborhood of two geodesics."
   ]
  },
  {
   "cell_type": "code",
   "execution_count": 24,
   "metadata": {},
   "outputs": [
    {
     "data": {
      "image/png": "[encoded data removed]",
      "text/plain": [
       "<Figure size 432x216 with 2 Axes>"
      ]
     },
     "metadata": {
      "needs_background": "light"
     },
     "output_type": "display_data"
    }
   ],
   "source": [
    "fig = plt.figure(figsize=[6,3]); plt.title(r'Value sensitivity $\\rho$. Two minimal geodesics.'); plt.axis('equal'); \n",
    "plt.contourf(X,Y,hfmOutput['costSensitivity_1']);\n",
    "plt.axis('equal');plt.colorbar();\n",
    "savefig(fig,'ValueSensitivity_TwoPaths.png')"
   ]
  },
  {
   "cell_type": "markdown",
   "metadata": {},
   "source": [
    "The sensitivity of the value $u[x,c,\\sigma]$ w.r.t. the boundary condition $\\sigma$ is also returned, above denoted $\\pi : \\partial \\Omega \\to \\mathbb R$. The format is \n",
    "\\begin{equation*}\n",
    "[ [s_0^0,s_0^1,\\pi_0], [s_1^0,s_1^1,\\pi_1], ...].\n",
    "\\end{equation*}\n",
    "Here $s_0=(s_0^0,s_0^1)$ and $s_1=(s_1^0,s_1^1)$ are the seeds for which the corresponding sensitivity $\\pi_0$ and $\\pi_1$ is positive. \n",
    "If the sensitivity $u(x)$ was requested unless for a generic point $x$, then the list is of length one, and of the form $[ [s^0,s^1,1] ]$. In addition $s=(s^0,s^1)$ is the seed linked to $x$ by the minimal path."
   ]
  },
  {
   "cell_type": "code",
   "execution_count": 25,
   "metadata": {},
   "outputs": [
    {
     "data": {
      "text/plain": [
       "array([[-0.495,  0.305,  1.   ]])"
      ]
     },
     "execution_count": 25,
     "metadata": {},
     "output_type": "execute_result"
    }
   ],
   "source": [
    "hfmOutput['seedSensitivity_0']"
   ]
  },
  {
   "cell_type": "markdown",
   "metadata": {},
   "source": [
    "However, if sensitivity is requested for a point on the cut-locus, for which there exists several minimal geodesics leading to distinct seeds, then $\\pi$ is supported on several seeds."
   ]
  },
  {
   "cell_type": "code",
   "execution_count": 26,
   "metadata": {},
   "outputs": [
    {
     "data": {
      "text/plain": [
       "array([[ 0.505     ,  0.805     ,  0.37180042],\n",
       "       [-0.495     ,  0.305     ,  0.62819958]])"
      ]
     },
     "execution_count": 26,
     "metadata": {},
     "output_type": "execute_result"
    }
   ],
   "source": [
    "hfmOutput['seedSensitivity_1']"
   ]
  },
  {
   "cell_type": "markdown",
   "metadata": {},
   "source": [
    "A slight annoyance of the above output is that the original seeds are not returned. Instead, the returned positions correspond to the nearest point on the discretization grid. Some minor postprocessing, for instance by converting these points to multi-indices, is thus required to establish the matching."
   ]
  },
  {
   "cell_type": "code",
   "execution_count": 27,
   "metadata": {},
   "outputs": [
    {
     "name": "stdout",
     "output_type": "stream",
     "text": [
      "Field verbosity defaults to 1\n",
      "Field order defaults to 1\n",
      "Field spreadSeeds defaults to -1\n",
      "Field showProgress defaults to 0\n",
      "Field factoringMethod defaults to None\n",
      "Fast marching solver completed in 0.00485 s.\n",
      "Field geodesicSolver defaults to Discrete\n",
      "Field geodesicStep defaults to 0.25\n",
      "Field geodesicWeightThreshold defaults to 0.001\n",
      "Field geodesicVolumeBound defaults to 8.45\n",
      "Field exportActiveNeighs defaults to 0\n",
      "Field exportGeodesicFlow defaults to 0\n",
      "Seeds, original and nearest gridpoint :\n",
      " [[-0.5    0.3  ]\n",
      " [ 0.5    0.8  ]\n",
      " [ 0.505  0.805]\n",
      " [-0.495  0.305]] \n",
      "\n",
      "Indices :\n",
      " [[ 50  30]\n",
      " [150  80]\n",
      " [150  80]\n",
      " [ 50  30]]\n"
     ]
    }
   ],
   "source": [
    "hfmInput['pointToIndex'] = np.concatenate((hfmInput['seeds'],hfmOutput['seedSensitivity_1'][:,0:2]))\n",
    "hfmOutput = HFMUtils.Run(hfmInput)\n",
    "print(\"Seeds, original and nearest gridpoint :\\n\", hfmInput['pointToIndex'],\"\\n\")\n",
    "print(\"Indices :\\n\", hfmOutput['indexFromPoint'].astype(int))\n",
    "# Note that the order of the seeds may not be preserved"
   ]
  },
  {
   "cell_type": "markdown",
   "metadata": {},
   "source": [
    "We conclude this section with a consistency check. More precisely, we ensure that our two automatic differentiation methods yield consistent results.\n",
    "Both can be used to compute the scalar $\\mu(x)$ appearing in the following Taylor expansion\n",
    "\\begin{equation*}\n",
    "    u[c+\\varepsilon \\xi, \\sigma+\\varepsilon \\zeta] (x) = u[c,\\sigma](x)+\\varepsilon \\mu(x) + o(\\varepsilon),\n",
    "\\end{equation*}\n",
    "where the point $x$ and the perturbations $\\xi$ and $\\zeta$ are given.\n",
    "The two differentiation methods use distinct inputs, as follows.\n",
    "* Forward differentiation. *Input*: $\\xi$ (costVariation), $\\zeta$ (seedValueVariation). *Output*: $\\mu$ (valueVariation).\n",
    "* Backward differentiation. *Input*: $x$ (inspectSensitivity). *Output*: $\\rho$ (costSensitivity) and $\\pi$ (seedSensitivity).\n",
    "\n",
    "The inputs $x,\\zeta,\\xi$ and outputs $\\mu, \\rho, \\pi$, are mathematically tied by the the following identity, which we verify numerically:\n",
    "\\begin{equation*}\n",
    "\\mu(x) = \\int_\\Omega \\rho \\xi + \\int_{\\partial \\Omega} \\pi \\zeta.\n",
    "\\end{equation*}"
   ]
  },
  {
   "cell_type": "code",
   "execution_count": 28,
   "metadata": {},
   "outputs": [
    {
     "name": "stdout",
     "output_type": "stream",
     "text": [
      "Field verbosity defaults to 1\n",
      "Field order defaults to 1\n",
      "Field spreadSeeds defaults to -1\n",
      "Field showProgress defaults to 0\n",
      "Field factoringMethod defaults to None\n",
      "Fast marching solver completed in 0.004861 s.\n",
      "Field geodesicSolver defaults to Discrete\n",
      "Field geodesicStep defaults to 0.25\n",
      "Field geodesicWeightThreshold defaults to 0.001\n",
      "Field geodesicVolumeBound defaults to 8.45\n",
      "Field exportActiveNeighs defaults to 0\n",
      "Field exportGeodesicFlow defaults to 0\n"
     ]
    }
   ],
   "source": [
    "# Get the grid indices index0 and index1, of the points x0 and x1 at which sensitivity was computed\n",
    "hfmInput['pointToIndex'] = hfmInput['inspectSensitivity'] \n",
    "hfmOutput = HFMUtils.Run(hfmInput)\n",
    "index0, index1 = hfmOutput['indexFromPoint'].astype(int)"
   ]
  },
  {
   "cell_type": "markdown",
   "metadata": {},
   "source": [
    "In the first instance of forward differentiation, boundary conditions were not perturbed ($\\zeta=0$). Hence we expect, and numerically check, that $\\mu(x) = \\int_\\Omega \\rho \\xi$."
   ]
  },
  {
   "cell_type": "code",
   "execution_count": 29,
   "metadata": {
    "scrolled": false
   },
   "outputs": [
    {
     "data": {
      "text/plain": [
       "0.5496012443997507"
      ]
     },
     "execution_count": 29,
     "metadata": {},
     "output_type": "execute_result"
    }
   ],
   "source": [
    "hfmOutput['valueVariation'][index1[1],index1[0],0] # Evaluates mu(x)"
   ]
  },
  {
   "cell_type": "code",
   "execution_count": 30,
   "metadata": {
    "scrolled": true
   },
   "outputs": [
    {
     "data": {
      "text/plain": [
       "0.5496012443997509"
      ]
     },
     "execution_count": 30,
     "metadata": {},
     "output_type": "execute_result"
    }
   ],
   "source": [
    "(hfmInput['costVariation'][:,:,0]*hfmOutput['costSensitivity_1']).sum() #  Evaluates int_Omega rho*xi "
   ]
  },
  {
   "cell_type": "markdown",
   "metadata": {},
   "source": [
    "In the last instance of forward differentiation, the cost function was not perturbed ($\\xi=0$). Hence we expect, and numerically check, that  $\\mu(x) = \\int_{\\partial\\Omega} \\pi \\zeta$."
   ]
  },
  {
   "cell_type": "code",
   "execution_count": 31,
   "metadata": {},
   "outputs": [
    {
     "data": {
      "text/plain": [
       "0.18590020885259528"
      ]
     },
     "execution_count": 31,
     "metadata": {},
     "output_type": "execute_result"
    }
   ],
   "source": [
    "hfmOutput['valueVariation'][index1[1],index1[0],2] # Evaluates mu(x)"
   ]
  },
  {
   "cell_type": "code",
   "execution_count": 32,
   "metadata": {},
   "outputs": [
    {
     "data": {
      "text/plain": [
       "0.18590020885259562"
      ]
     },
     "execution_count": 32,
     "metadata": {},
     "output_type": "execute_result"
    }
   ],
   "source": [
    "np.dot(hfmOutput['seedSensitivity_1'][(1,0),2] , hfmInput['seedValueVariation'][:,2]) # int_Boundary pi*zeta"
   ]
  },
  {
   "cell_type": "markdown",
   "metadata": {},
   "source": [
    "### 3.1 Using automatic differentiation\n",
    "\n",
    "A limited interface is provided with the *reverse* first order differentiation as defined in the agd library."
   ]
  },
  {
   "cell_type": "code",
   "execution_count": 33,
   "metadata": {},
   "outputs": [],
   "source": [
    "hfmIn_ad = {key:hfmInput[key] for key in \n",
    "            ['model','arrayOrdering','gridScale','dims','origin','seeds','walls']}"
   ]
  },
  {
   "cell_type": "markdown",
   "metadata": {},
   "source": [
    "We need to register the variables w.r.t which sensitivity will be requested."
   ]
  },
  {
   "cell_type": "code",
   "execution_count": 34,
   "metadata": {},
   "outputs": [],
   "source": [
    "#rev,cost_ad = ad.Reverse.empty(inputs=cost,input_iterables=(dict,))\n",
    "rev,(cost_ad,seedValues_ad) = ad.Reverse.empty(inputs=(cost,seedValues),input_iterables=(tuple,dict,))"
   ]
  },
  {
   "cell_type": "code",
   "execution_count": 35,
   "metadata": {},
   "outputs": [],
   "source": [
    "hfmIn_ad['cost'] = cost_ad\n",
    "hfmIn_ad['seedValues'] = seedValues_ad"
   ]
  },
  {
   "cell_type": "markdown",
   "metadata": {},
   "source": [
    "In order to be taken into account, the solution values will be returned separately from the rest of the HFM outputs."
   ]
  },
  {
   "cell_type": "code",
   "execution_count": 36,
   "metadata": {},
   "outputs": [],
   "source": [
    "hfmIn_ad['extractValues']=True"
   ]
  },
  {
   "cell_type": "code",
   "execution_count": 37,
   "metadata": {},
   "outputs": [
    {
     "name": "stdout",
     "output_type": "stream",
     "text": [
      "Field verbosity defaults to 1\n",
      "Field order defaults to 1\n",
      "Field spreadSeeds defaults to -1\n",
      "Field showProgress defaults to 0\n",
      "Field factoringMethod defaults to None\n",
      "Fast marching solver completed in 0.004942 s.\n",
      "Field exportActiveNeighs defaults to 0\n",
      "Field exportGeodesicFlow defaults to 0\n"
     ]
    }
   ],
   "source": [
    "hfmOut,values_ad = rev.apply(HFMUtils.Run,hfmIn_ad,smart=True)"
   ]
  },
  {
   "cell_type": "markdown",
   "metadata": {},
   "source": [
    "Let us define the objective function, which has to be a scalar function, in terms of the values."
   ]
  },
  {
   "cell_type": "code",
   "execution_count": 38,
   "metadata": {},
   "outputs": [],
   "source": [
    "grid = np.array((X,Y))\n",
    "values_ad_interp = fd.UniformGridInterpolator(grid,values_ad)\n",
    "\n",
    "points = np.array([[-0.8,0.8],[0.575,0.1]]).T\n",
    "val = values_ad_interp(*points)\n",
    "\n",
    "objective = 2*val[0]**2+val[1]**2 "
   ]
  },
  {
   "cell_type": "code",
   "execution_count": 39,
   "metadata": {},
   "outputs": [
    {
     "name": "stdout",
     "output_type": "stream",
     "text": [
      "Field verbosity defaults to 1\n",
      "Field order defaults to 1\n",
      "Field spreadSeeds defaults to -1\n",
      "Field showProgress defaults to 0\n",
      "Field factoringMethod defaults to None\n",
      "Fast marching solver completed in 0.004788 s.\n",
      "Field exportActiveNeighs defaults to 0\n",
      "Field exportGeodesicFlow defaults to 0\n"
     ]
    }
   ],
   "source": [
    "grad = rev.gradient(objective)"
   ]
  },
  {
   "cell_type": "code",
   "execution_count": 40,
   "metadata": {},
   "outputs": [],
   "source": [
    "cost_sensitivity,seed_sensitivity = rev.to_inputshapes(grad)"
   ]
  },
  {
   "cell_type": "code",
   "execution_count": 41,
   "metadata": {},
   "outputs": [
    {
     "data": {
      "image/png": "[encoded data removed]",
      "text/plain": [
       "<Figure size 432x288 with 1 Axes>"
      ]
     },
     "metadata": {
      "needs_background": "light"
     },
     "output_type": "display_data"
    }
   ],
   "source": [
    "plt.title('Gradient of the objective function')\n",
    "plt.contourf(*grid,cost_sensitivity);"
   ]
  },
  {
   "cell_type": "code",
   "execution_count": 42,
   "metadata": {},
   "outputs": [
    {
     "data": {
      "text/plain": [
       "array([3.29170665, 0.42199756])"
      ]
     },
     "execution_count": 42,
     "metadata": {},
     "output_type": "execute_result"
    }
   ],
   "source": [
    "seed_sensitivity"
   ]
  },
  {
   "cell_type": "markdown",
   "metadata": {},
   "source": [
    "### 3.2 Caching data"
   ]
  },
  {
   "cell_type": "code",
   "execution_count": 43,
   "metadata": {},
   "outputs": [],
   "source": [
    "hfmIn_ad = {key:hfmInput[key] for key in \n",
    "            ['model','arrayOrdering','gridScale','dims','origin','seeds','walls','seedValues']}\n",
    "rev,cost_ad = ad.Reverse.empty(inputs=cost,input_iterables=(dict,))\n",
    "hfmIn_ad['cost'] = cost_ad\n",
    "hfmIn_ad['extractValues']=True"
   ]
  },
  {
   "cell_type": "code",
   "execution_count": 44,
   "metadata": {},
   "outputs": [
    {
     "name": "stdout",
     "output_type": "stream",
     "text": [
      "Requesting cacheable data\n",
      "Field verbosity defaults to 1\n",
      "Field order defaults to 1\n",
      "Field spreadSeeds defaults to -1\n",
      "Field showProgress defaults to 0\n",
      "Field factoringMethod defaults to None\n",
      "Fast marching solver completed in 0.005161 s.\n",
      "Field exportGeodesicFlow defaults to 0\n",
      "Filling cache data\n"
     ]
    },
    {
     "data": {
      "text/plain": [
       "dict_keys(['values', 'activeNeighs'])"
      ]
     },
     "execution_count": 44,
     "metadata": {},
     "output_type": "execute_result"
    }
   ],
   "source": [
    "cache = HFMUtils.Cache()\n",
    "hfmOut,values_ad = rev.apply(HFMUtils.RunSmart,hfmIn_ad,cache=cache)\n",
    "cache.contents.keys()"
   ]
  },
  {
   "cell_type": "code",
   "execution_count": 45,
   "metadata": {},
   "outputs": [],
   "source": [
    "values_ad_interp = fd.UniformGridInterpolator(grid,values_ad)\n",
    "val = values_ad_interp(*points)\n",
    "objective = 2*val[0]**2+val[1]**2 "
   ]
  },
  {
   "cell_type": "code",
   "execution_count": 47,
   "metadata": {},
   "outputs": [
    {
     "name": "stdout",
     "output_type": "stream",
     "text": [
      "Providing cached data\n",
      "Field verbosity defaults to 1\n",
      "Field order defaults to 1\n",
      "Field spreadSeeds defaults to -1\n",
      "Field showProgress defaults to 0\n",
      "Field factoringMethod defaults to None\n",
      "Bypassing fast marching solver based on cached data.\n",
      "Field exportGeodesicFlow defaults to 0\n"
     ]
    }
   ],
   "source": [
    "grad, = rev.to_inputshapes(rev.gradient(objective))"
   ]
  },
  {
   "cell_type": "code",
   "execution_count": 48,
   "metadata": {},
   "outputs": [
    {
     "data": {
      "image/png": "[encoded data removed]",
      "text/plain": [
       "<Figure size 432x288 with 1 Axes>"
      ]
     },
     "metadata": {
      "needs_background": "light"
     },
     "output_type": "display_data"
    }
   ],
   "source": [
    "plt.contourf(*grid,grad);"
   ]
  },
  {
   "cell_type": "markdown",
   "metadata": {},
   "source": [
    "## 4. An optimization problem : finding the cost function which maximizes distance"
   ]
  },
  {
   "cell_type": "markdown",
   "metadata": {},
   "source": [
    "We illustrate automatic differentiation solving an optimization problem posed on cost functions $c$. The objective is to maximize the distance from a point $x_*$ to the boundary, minus a integral penalty on the cost. Formally, the problem reads as follows\n",
    "\\begin{align*}\n",
    "    \\max_{c : \\Omega \\to [\\alpha,\\beta]} \\, u[c](x_*) - \\gamma \\int_\\Omega c.\n",
    "\\end{align*}\n",
    "The bounds $\\alpha,\\beta > 0$ imposed on the cost function, and the penalization factor $\\gamma >0$ on the cost function integral, are given parameters, as well as the target point $x_*$.\n",
    "\n",
    "Experiments of similar nature are presented in :\n",
    "* F. Benmansour, G. Carlier, G. Peyré, and F. Santambrogio, “Derivatives with respect to metrics and applications: subgradient marching algorithm,” Numerische Mathematik, vol. 116, no. 3, pp. 357–381, May 2010.\n",
    "* J.-M. Mirebeau and J. Dreo, “Automatic differentiation of non-holonomic fast marching for computing most threatening trajectories under sensors surveillance,” presented at the Geometrical Science of Information, 2017."
   ]
  },
  {
   "cell_type": "code",
   "execution_count": 48,
   "metadata": {},
   "outputs": [],
   "source": [
    "optInput = {}\n",
    "optInput['model']='IsotropicDiff2' # Alternatively, 'Isotropic2'"
   ]
  },
  {
   "cell_type": "code",
   "execution_count": 49,
   "metadata": {},
   "outputs": [],
   "source": [
    "#Fast marching parameters, copied from earlier problem, with different seed\n",
    "for key in ['arrayOrdering','dims','gridScale','origin','walls']:\n",
    "    optInput[key]=hfmInput[key]\n",
    "\n",
    "# Problem parameters\n",
    "alpha = 0.1; beta=1.; gamma=1.5;\n",
    "optInput['seeds']=[[-0.7,0.7]] # Seed position\n",
    "\n",
    "# For better stability, we slightly spread the target x_* on the four neighbor points\n",
    "targetIndices = [[180,40],[179,40],[181,40],[180,39],[180,41]]; \n",
    "targetWeights = [0.5,0.125,0.125,0.125,0.125]\n",
    "#Unspread target, commented below, yields less stable computations.\n",
    "#targetIndices = [[180,40]]; targetWeights = [1]; \n",
    "\n",
    "# Silent the execution, since HFM will be called many times\n",
    "optInput['verbosity']=0\n",
    "\n",
    "optInput['cost']=1; optInput['indexToPoint']=targetIndices;\n",
    "targetPoints = HFMUtils.Run(optInput)['pointFromIndex']\n",
    "\n",
    "# Utilities\n",
    "allOnes = np.ones(optInput['dims'].astype(int).prod())\n",
    "YXZ_Shape = optInput['dims'][[1,0]].astype(int)"
   ]
  },
  {
   "cell_type": "markdown",
   "metadata": {},
   "source": [
    "We prepare two functions returning the objective function and its jacobian. \n",
    "\n",
    "This particular test application works better with the differentiable scheme 'IsotropicDiff2', although the usual discretization 'Isotropic2' is still usable."
   ]
  },
  {
   "cell_type": "code",
   "execution_count": 50,
   "metadata": {},
   "outputs": [],
   "source": [
    "def func(cost,sign=1):\n",
    "    optInput['cost']=cost.reshape(YXZ_Shape)\n",
    "    optInput['exportValues']=1\n",
    "    optInput.pop('inspectSensitivity',None)\n",
    "    optOutput = HFMUtils.Run(optInput)\n",
    "    value = sum([weight*optOutput['values'][index[1],index[0]] for index,weight in zip(targetIndices,targetWeights)])\n",
    "    return sign*(value - gamma*cost.sum()*optInput['gridScale']**2)\n",
    "\n",
    "def func_deriv(cost,sign=1):\n",
    "    optInput['cost']=cost.reshape(YXZ_Shape)\n",
    "    optInput['exportValues']=0\n",
    "    \n",
    "    # Request sensitivity for a weighted sum of values\n",
    "    optInput['inspectSensitivity'] = targetPoints \n",
    "    optInput['inspectSensitivityWeights'] = targetWeights\n",
    "    optInput['inspectSensitivityLengths'] = [len(targetWeights)]\n",
    "    \n",
    "    optOutput = HFMUtils.Run(optInput)\n",
    "    return sign*(optOutput['costSensitivity_0'].flatten() - gamma*allOnes*optInput['gridScale']**2)"
   ]
  },
  {
   "cell_type": "code",
   "execution_count": 51,
   "metadata": {},
   "outputs": [
    {
     "name": "stdout",
     "output_type": "stream",
     "text": [
      "CPU times: user 6.99 s, sys: 3.35 s, total: 10.3 s\n",
      "Wall time: 15.8 s\n"
     ]
    }
   ],
   "source": [
    "%%time\n",
    "# Warning : takes up to a minute.\n",
    "res = scipy.optimize.\\\n",
    "minimize(func,\n",
    "         allOnes*(alpha+beta)/2., # Initial guess\n",
    "         bounds=np.array((alpha*allOnes,beta*allOnes)).transpose(), # alpha <= c <= beta\n",
    "         jac=func_deriv,\n",
    "         args=(-1.), # Minimize instead of maximize\n",
    "         method='L-BFGS-B',options={'gtol':1e-4,'maxiter':300})"
   ]
  },
  {
   "cell_type": "markdown",
   "metadata": {},
   "source": [
    "The optimal strategy uses a large cost around the seed, the target, around the boundary of obstacles, ..."
   ]
  },
  {
   "cell_type": "code",
   "execution_count": 52,
   "metadata": {},
   "outputs": [
    {
     "data": {
      "image/png": "[encoded data removed]",
      "text/plain": [
       "<Figure size 432x216 with 1 Axes>"
      ]
     },
     "metadata": {
      "needs_background": "light"
     },
     "output_type": "display_data"
    }
   ],
   "source": [
    "fig = plt.figure(figsize=[6,3]); plt.title('Optimal cost function.'); plt.axis('equal'); \n",
    "plt.contourf(X,Y,res.x.reshape(YXZ_Shape));\n",
    "savefig(fig,'OptimalCost.png')"
   ]
  },
  {
   "cell_type": "markdown",
   "metadata": {},
   "source": [
    "At the optimal strategy, there is a continuum of optimal curves, spread all over the domain."
   ]
  },
  {
   "cell_type": "code",
   "execution_count": 53,
   "metadata": {},
   "outputs": [
    {
     "data": {
      "image/png": "[encoded data removed]",
      "text/plain": [
       "<Figure size 432x216 with 1 Axes>"
      ]
     },
     "metadata": {
      "needs_background": "light"
     },
     "output_type": "display_data"
    }
   ],
   "source": [
    "fig = plt.figure(figsize=[6,3]); plt.title('Sensitivity at the optimal cost.'); plt.axis('equal'); \n",
    "plt.contourf(X,Y,func_deriv(res.x).reshape(YXZ_Shape));\n",
    "savefig(fig,'OptimalSensitivity.png')"
   ]
  },
  {
   "cell_type": "code",
   "execution_count": 54,
   "metadata": {},
   "outputs": [],
   "source": [
    "optInput['tips']=optInput['inspectSensitivity']\n",
    "optInput['exportValues']=1\n",
    "optOutput = HFMUtils.Run(optInput)"
   ]
  },
  {
   "cell_type": "code",
   "execution_count": 55,
   "metadata": {},
   "outputs": [
    {
     "data": {
      "image/png": "[encoded data removed]",
      "text/plain": [
       "<Figure size 432x216 with 1 Axes>"
      ]
     },
     "metadata": {
      "needs_background": "light"
     },
     "output_type": "display_data"
    }
   ],
   "source": [
    "fig = plt.figure(figsize=[6,3]); plt.title('Distance and minimal geodesics, at the optimal cost'); plt.axis('equal'); \n",
    "for geo in HFMUtils.GetGeodesics(optOutput): plt.plot(geo[:,0],geo[:,1]) \n",
    "plt.contourf(X,Y,optOutput['values'],cmap='Greys');\n",
    "savefig(fig,'OptimalPathCost.png')"
   ]
  },
  {
   "cell_type": "markdown",
   "metadata": {
    "collapsed": true
   },
   "source": [
    "## 5. Sensitivity to several parameters\n"
   ]
  },
  {
   "cell_type": "markdown",
   "metadata": {},
   "source": [
    "### 5.1 Semi-Lagrangian schemes"
   ]
  },
  {
   "cell_type": "code",
   "execution_count": 58,
   "metadata": {},
   "outputs": [
    {
     "name": "stdout",
     "output_type": "stream",
     "text": [
      "2 3 4\n"
     ]
    }
   ],
   "source": [
    "a=ad.misc.pair(ad.misc.pair(2,3),4)\n",
    "(u,v),w=a\n",
    "print(u,v,w)"
   ]
  },
  {
   "cell_type": "markdown",
   "metadata": {},
   "source": [
    "### 5.2 Eulerian schemes\n",
    "\n",
    "In this experiment, we consider a metric depending on two cost functions, and perform sensitivity analysis w.r.t. each both. More precisely, we use the two dimensional diagonal metric model, which lets the user choose different costs of motion along the $x$ and $y$ axes.\n",
    "\n",
    "This model admits a differentiable variant, similarly to the isotropic case, although it is not implemented at the time of writing."
   ]
  },
  {
   "cell_type": "code",
   "execution_count": 41,
   "metadata": {},
   "outputs": [],
   "source": [
    "hfmInput2={}\n",
    "hfmInput2['model']='Diagonal2'"
   ]
  },
  {
   "cell_type": "code",
   "execution_count": 42,
   "metadata": {},
   "outputs": [],
   "source": [
    "# Possibly distinct cost, and scale, in the x and y directions\n",
    "cost = hfmInput['cost']; gridScale= hfmInput['gridScale'];\n",
    "hfmInput2['cost'] = np.stack((cost, cost),axis=2)\n",
    "hfmInput2['gridScales'] = [gridScale, gridScale]\n",
    "\n",
    "for key in ['walls','dims','seeds','tips','seedValues','arrayOrdering','exportValues','origin','inspectSensitivity']:\n",
    "    hfmInput2[key]=hfmInput[key]"
   ]
  },
  {
   "cell_type": "code",
   "execution_count": 43,
   "metadata": {},
   "outputs": [
    {
     "name": "stdout",
     "output_type": "stream",
     "text": [
      "Field verbosity defaults to 1\n",
      "Field order defaults to 1\n",
      "Field spreadSeeds defaults to -1\n",
      "Field showProgress defaults to 0\n",
      "Field factoringMethod defaults to None\n",
      "Fast marching solver completed in 0.006233 s.\n",
      "Field geodesicSolver defaults to Discrete\n",
      "Field geodesicStep defaults to 0.25\n",
      "Field geodesicWeightThreshold defaults to 0.001\n",
      "Field geodesicVolumeBound defaults to 8.45\n",
      "Field exportActiveNeighs defaults to 0\n",
      "Field exportGeodesicFlow defaults to 0\n",
      "\n",
      "---\n",
      "Field verbosity defaults to 1\n",
      "Field order defaults to 1\n",
      "Field spreadSeeds defaults to -1\n",
      "Field showProgress defaults to 0\n",
      "Field factoringMethod defaults to None\n",
      "Fast marching solver completed in 0.006236 s.\n",
      "Field geodesicSolver defaults to Discrete\n",
      "Field geodesicStep defaults to 0.25\n",
      "Field geodesicWeightThreshold defaults to 0.001\n",
      "Field geodesicVolumeBound defaults to 8.45\n",
      "Field exportActiveNeighs defaults to 0\n",
      "Field exportGeodesicFlow defaults to 0\n",
      "\n"
     ]
    }
   ],
   "source": [
    "hfmOutput = HFMUtils.Run(hfmInput) # Isotropic model\n",
    "print(\"---\")\n",
    "hfmOutput2 = HFMUtils.Run(hfmInput2) # Diagonal model"
   ]
  },
  {
   "cell_type": "markdown",
   "metadata": {},
   "source": [
    "In order to make a consistency check, the diagonal matrix was set up to reproduce exactly the isotropic cost, by choosing identical diagonal coefficients."
   ]
  },
  {
   "cell_type": "code",
   "execution_count": 44,
   "metadata": {},
   "outputs": [
    {
     "data": {
      "text/plain": [
       "0.0"
      ]
     },
     "execution_count": 44,
     "metadata": {},
     "output_type": "execute_result"
    }
   ],
   "source": [
    "# Arrival time values are equal by construction of the test cases\n",
    "walls,values,values2 = hfmInput['walls'],hfmOutput['values'].copy(),hfmOutput2['values'].copy()\n",
    "values[walls]=0; values2[walls]=0; # Values equal inf on the walls.\n",
    "np.max(np.abs(values-values2))"
   ]
  },
  {
   "cell_type": "markdown",
   "metadata": {},
   "source": [
    "We first discuss backward differentiation. As can be observed, the sensitivity of the arrival time w.r.t. variations of the cost associated with the x and y directions are now returned separately."
   ]
  },
  {
   "cell_type": "code",
   "execution_count": 45,
   "metadata": {},
   "outputs": [],
   "source": [
    "sensitivity2 = hfmOutput2['costSensitivity_0'] # Sensitivity of the arrival time at the first point"
   ]
  },
  {
   "cell_type": "code",
   "execution_count": 46,
   "metadata": {},
   "outputs": [
    {
     "data": {
      "image/png": "[encoded data removed]",
      "text/plain": [
       "<Figure size 1008x216 with 2 Axes>"
      ]
     },
     "metadata": {
      "needs_background": "light"
     },
     "output_type": "display_data"
    }
   ],
   "source": [
    "_, (ax0,ax1) = plt.subplots(1,2,sharey=True,figsize=(14,3));\n",
    "\n",
    "# Display sensitivity w.r.t variations of the first component of the cost, relative to the x direction\n",
    "ax0.set_title('Sensitivity to variations in the horizontal cost')\n",
    "ax0.contourf(X,Y,sensitivity2[:,:,0]) \n",
    "ax1.set_title('Sensitivity to variations in the vertical cost')\n",
    "ax1.contourf(X,Y,sensitivity2[:,:,1]);"
   ]
  },
  {
   "cell_type": "markdown",
   "metadata": {},
   "source": [
    "Consistency check with the isotropic case. Since we choose a diagonal model with equal costs along the two axes, we fall back to the sensitivity of the isotropic model by adding the two sensitivities of the diagonal model."
   ]
  },
  {
   "cell_type": "code",
   "execution_count": 47,
   "metadata": {},
   "outputs": [
    {
     "data": {
      "text/plain": [
       "8.673617379884035e-19"
      ]
     },
     "execution_count": 47,
     "metadata": {},
     "output_type": "execute_result"
    }
   ],
   "source": [
    "np.max(np.abs(sensitivity2.sum(axis=2)-hfmOutput['costSensitivity_0']))"
   ]
  },
  {
   "cell_type": "markdown",
   "metadata": {},
   "source": [
    "We next turn to forward differentiation. We may specify distinct variations for the two components of the cost, here associated with the and X,Y axes. "
   ]
  },
  {
   "cell_type": "code",
   "execution_count": 48,
   "metadata": {},
   "outputs": [],
   "source": [
    "hfmInput2['costVariation'] = np.stack([ np.stack( (X+Y**2, cost,    0.*cost), axis=2),  \n",
    "                                        np.stack( (Y-X,    0.*cost, cost),    axis=2)] ,3)\n",
    "hfmInput2['seedValueVariation']=np.stack([[0,0],[0,0],hfmInput['seedValues']],1) # Above named zeta."
   ]
  },
  {
   "cell_type": "code",
   "execution_count": 49,
   "metadata": {},
   "outputs": [
    {
     "name": "stdout",
     "output_type": "stream",
     "text": [
      "Field verbosity defaults to 1\n",
      "Field order defaults to 1\n",
      "Field spreadSeeds defaults to -1\n",
      "Field showProgress defaults to 0\n",
      "Field factoringMethod defaults to None\n",
      "Fast marching solver completed in 0.00577 s.\n",
      "Field geodesicSolver defaults to Discrete\n",
      "Field geodesicStep defaults to 0.25\n",
      "Field geodesicWeightThreshold defaults to 0.001\n",
      "Field geodesicVolumeBound defaults to 8.45\n",
      "Field exportActiveNeighs defaults to 0\n",
      "Field exportGeodesicFlow defaults to 0\n",
      "\n"
     ]
    }
   ],
   "source": [
    "hfmOutput2 = HFMUtils.Run(hfmInput2) "
   ]
  },
  {
   "cell_type": "code",
   "execution_count": 50,
   "metadata": {},
   "outputs": [
    {
     "data": {
      "text/plain": [
       "(100, 200, 2)"
      ]
     },
     "execution_count": 50,
     "metadata": {},
     "output_type": "execute_result"
    }
   ],
   "source": [
    "hfmInput2['costVariation'][:,:,0,:].shape"
   ]
  },
  {
   "cell_type": "markdown",
   "metadata": {},
   "source": [
    "Consistency check with sensitivity analyis."
   ]
  },
  {
   "cell_type": "code",
   "execution_count": 51,
   "metadata": {},
   "outputs": [
    {
     "data": {
      "text/plain": [
       "6.938893903907228e-18"
      ]
     },
     "execution_count": 51,
     "metadata": {},
     "output_type": "execute_result"
    }
   ],
   "source": [
    "(hfmInput2['costVariation'][:,:,0,:]*hfmOutput2['costSensitivity_1']).sum()  \\\n",
    "    - hfmOutput2['valueVariation'][index1[1],index1[0],0] "
   ]
  },
  {
   "cell_type": "markdown",
   "metadata": {},
   "source": [
    "Consistency check based on Euler's identity for homogeneous functions."
   ]
  },
  {
   "cell_type": "code",
   "execution_count": 52,
   "metadata": {},
   "outputs": [
    {
     "data": {
      "text/plain": [
       "1.3322676295501878e-15"
      ]
     },
     "execution_count": 52,
     "metadata": {},
     "output_type": "execute_result"
    }
   ],
   "source": [
    "np.max(np.abs(hfmOutput2['valueVariation'][:,:,1]+hfmOutput2['valueVariation'][:,:,2]-values))"
   ]
  },
  {
   "cell_type": "markdown",
   "metadata": {},
   "source": [
    "## 6. Sensitivity at multiple points, possibly weighted\n",
    "\n",
    "The HFM library lets you compute the sensitivity at multiple points, possibly weighted. \n",
    "For instance, assume $u : \\Omega \\to R$ is a distance map computed using the fast marching algorithm. \n",
    "Let also $x_0,x_1,x_2 \\in \\Omega$ and $\\alpha_0,\\alpha_1,\\alpha_2 \\in R$. We show how to compute the sensitivity of the the vector\n",
    "$$\n",
    "    (\\alpha_0 u(x_0)+\\alpha_1 u(x_1),\\ \\alpha_2 u(x_2))\n",
    "$$\n",
    "w.r.t. variations of the cost function."
   ]
  },
  {
   "cell_type": "code",
   "execution_count": 53,
   "metadata": {},
   "outputs": [],
   "source": [
    "# Define the problem\n",
    "hfmIn = {\n",
    "    'model':'Isotropic2',\n",
    "    'cost':1.,\n",
    "    'seeds':[[0.,0.]],\n",
    "    'exportValues':1.,\n",
    "    'arrayOrdering':'RowMajor'\n",
    "}\n",
    "hfmIn.update(HFMUtils.Rect(sides=[[-1.,1.],[-1.,1.]],dimx=100))\n",
    "X = np.array(HFMUtils.GetGrid(hfmIn))"
   ]
  },
  {
   "cell_type": "code",
   "execution_count": 54,
   "metadata": {},
   "outputs": [],
   "source": [
    "# Where to get the sensitivity\n",
    "x0,x1,x2 = [0.1,-0.4],[0.5,0.8],[-0.5,-0.7] \n",
    "alpha0,alpha1,alpha2 = 2.,3.,4.5 \n",
    "\n",
    "# Format this data for the input\n",
    "hfmIn['inspectSensitivity'] = [x0,x1,x2] \n",
    "hfmIn['inspectSensitivityWeights'] = [alpha0,alpha1,alpha2]\n",
    "\n",
    "# How to group the points (here the first two are summed together, and the last one is alone)\n",
    "hfmIn['inspectSensitivityLengths'] = [2.,1.]"
   ]
  },
  {
   "cell_type": "code",
   "execution_count": 55,
   "metadata": {},
   "outputs": [
    {
     "name": "stdout",
     "output_type": "stream",
     "text": [
      "Field verbosity defaults to 1\n",
      "Field order defaults to 1\n",
      "Field spreadSeeds defaults to -1\n",
      "Field showProgress defaults to 0\n",
      "Field factoringMethod defaults to None\n",
      "Fast marching solver completed in 0.002718 s.\n",
      "Field exportActiveNeighs defaults to 0\n",
      "Field exportGeodesicFlow defaults to 0\n",
      "\n"
     ]
    }
   ],
   "source": [
    "hfmOut = HFMUtils.Run(hfmIn)"
   ]
  },
  {
   "cell_type": "code",
   "execution_count": 56,
   "metadata": {},
   "outputs": [
    {
     "data": {
      "image/png": "[encoded data removed]",
      "text/plain": [
       "<Figure size 432x288 with 1 Axes>"
      ]
     },
     "metadata": {
      "needs_background": "light"
     },
     "output_type": "display_data"
    }
   ],
   "source": [
    "plt.title(r\"Cost sensitivity for the weighted sum $\\alpha_0 u(x_0)+\\alpha_1 u(x_1)$\")\n",
    "plt.contourf(X[0],X[1],hfmOut['costSensitivity_0']);"
   ]
  },
  {
   "cell_type": "code",
   "execution_count": 57,
   "metadata": {},
   "outputs": [
    {
     "data": {
      "image/png": "[encoded data removed]",
      "text/plain": [
       "<Figure size 432x288 with 1 Axes>"
      ]
     },
     "metadata": {
      "needs_background": "light"
     },
     "output_type": "display_data"
    }
   ],
   "source": [
    "plt.title(r\"Cost sensitivity for $\\alpha_2 u(x_2)$\")\n",
    "plt.contourf(X[0],X[1],hfmOut['costSensitivity_1']);"
   ]
  }
 ],
 "metadata": {
  "kernelspec": {
   "display_name": "Python 3",
   "language": "python",
   "name": "python3"
  },
  "language_info": {
   "codemirror_mode": {
    "name": "ipython",
    "version": 3
   },
   "file_extension": ".py",
   "mimetype": "text/x-python",
   "name": "python",
   "nbconvert_exporter": "python",
   "pygments_lexer": "ipython3",
   "version": "3.7.3"
  },
  "latex_envs": {
   "LaTeX_envs_menu_present": true,
   "autocomplete": false,
   "bibliofile": "biblio.bib",
   "cite_by": "apalike",
   "current_citInitial": 1,
   "eqLabelWithNumbers": true,
   "eqNumInitial": 1,
   "hotkeys": {
    "equation": "Ctrl-E",
    "itemize": "Ctrl-I"
   },
   "labels_anchors": false,
   "latex_user_defs": false,
   "report_style_numbering": false,
   "user_envs_cfg": false
  }
 },
 "nbformat": 4,
 "nbformat_minor": 1
}
