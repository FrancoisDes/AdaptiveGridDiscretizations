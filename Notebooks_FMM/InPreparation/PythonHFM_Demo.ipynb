{
 "cells": [
  {
   "cell_type": "markdown",
   "metadata": {},
   "source": [
    "# Direct Python - HamiltonFastMarching library link \n",
    "\n",
    "In this notebook, we reproduce the first experiment in A1_Isotropic, but replacing the call to the FileHFM executable with a direct usage of the PythonHFM library. It should soon be available as a conda package, providing even better ease of installation."
   ]
  },
  {
   "cell_type": "markdown",
   "metadata": {},
   "source": [
    "# From PyBind11 compiled"
   ]
  },
  {
   "cell_type": "code",
   "execution_count": 1,
   "metadata": {},
   "outputs": [],
   "source": [
    "# Minor difference here\n",
    "#PythonHFM_binary_dir = '/Users/jean-mariemirebeau/Documents/bin/HFM/PyBind11HFM/'\n",
    "#PythonHFM_extension = '.cpython-36m-darwin.so'\n",
    "#import PythonIO"
   ]
  },
  {
   "cell_type": "code",
   "execution_count": 2,
   "metadata": {},
   "outputs": [
    {
     "data": {
      "text/plain": [
       "('hello', '.ipynb')"
      ]
     },
     "execution_count": 2,
     "metadata": {},
     "output_type": "execute_result"
    }
   ],
   "source": [
    "import os\n",
    "os.path.splitext('hello.ipynb')"
   ]
  },
  {
   "cell_type": "markdown",
   "metadata": {},
   "source": [
    "# From HFMpy"
   ]
  },
  {
   "cell_type": "code",
   "execution_count": 3,
   "metadata": {},
   "outputs": [],
   "source": [
    "import sys; sys.path.insert(0,'../..')\n",
    "import HFMUtils\n",
    "import numpy as np"
   ]
  },
  {
   "cell_type": "code",
   "execution_count": 4,
   "metadata": {},
   "outputs": [],
   "source": [
    "from importlib import reload\n",
    "HFMUtils = reload(HFMUtils)"
   ]
  },
  {
   "cell_type": "code",
   "execution_count": 5,
   "metadata": {},
   "outputs": [],
   "source": [
    "HFMUtils.FileHFM_binary_dir = '/Users/mirebeau/bin/HamiltonFastMarching/FileHFM/Release'"
   ]
  },
  {
   "cell_type": "code",
   "execution_count": 6,
   "metadata": {},
   "outputs": [],
   "source": [
    "hfmIn = HFMUtils.Rect([0,0],[1,1],sampleBoundary=True,dimx=100)"
   ]
  },
  {
   "cell_type": "code",
   "execution_count": 7,
   "metadata": {},
   "outputs": [],
   "source": [
    "hfmIn.update({\n",
    "    'seeds':[[0.5,0.5]],\n",
    "    'tips':[[0.8,0.4]],\n",
    "    'model':'Isotropic2',\n",
    "    'cost':1,\n",
    "})"
   ]
  },
  {
   "cell_type": "code",
   "execution_count": 8,
   "metadata": {},
   "outputs": [],
   "source": [
    "hfmOut = HFMUtils.Run(hfmIn)"
   ]
  },
  {
   "cell_type": "code",
   "execution_count": 9,
   "metadata": {},
   "outputs": [
    {
     "name": "stdout",
     "output_type": "stream",
     "text": [
      "Field verbosity defaults to 1\n",
      "Field arrayOrdering defaults to RowMajor\n",
      "Field order defaults to 1\n",
      "Field spreadSeeds defaults to -1\n",
      "Field showProgress defaults to 0\n",
      "Field factoringMethod defaults to None\n",
      "Fast marching solver completed in 0.002786 s.\n",
      "Field geodesicSolver defaults to Discrete\n",
      "Field geodesicStep defaults to 0.25\n",
      "Field geodesicWeightThreshold defaults to 0.0001\n",
      "Field geodesicVolumeBound defaults to 4.225\n",
      "Field exportValues defaults to 0\n",
      "Field exportActiveNeighs defaults to 0\n",
      "Field exportGeodesicFlow defaults to 0\n",
      "\n"
     ]
    }
   ],
   "source": [
    "print(hfmOut['log'])"
   ]
  },
  {
   "cell_type": "code",
   "execution_count": 10,
   "metadata": {},
   "outputs": [],
   "source": [
    "def ListToNDArray(params):\n",
    "\tfor (key,val) in params.items():\n",
    "\t\tif isinstance(val,list):\n",
    "\t\t\tparams[key]=np.array(val)"
   ]
  },
  {
   "cell_type": "code",
   "execution_count": 11,
   "metadata": {},
   "outputs": [
    {
     "data": {
      "text/plain": [
       "{'a': array([0, 1])}"
      ]
     },
     "execution_count": 11,
     "metadata": {},
     "output_type": "execute_result"
    }
   ],
   "source": [
    "par = {'a':[0,1]}\n",
    "ListToNDArray(par)\n",
    "par"
   ]
  },
  {
   "cell_type": "code",
   "execution_count": 12,
   "metadata": {},
   "outputs": [
    {
     "data": {
      "text/plain": [
       "array([0, 1])"
      ]
     },
     "execution_count": 12,
     "metadata": {},
     "output_type": "execute_result"
    }
   ],
   "source": [
    "np.array([0,1])"
   ]
  },
  {
   "cell_type": "markdown",
   "metadata": {},
   "source": [
    "# Main code"
   ]
  },
  {
   "cell_type": "code",
   "execution_count": 13,
   "metadata": {},
   "outputs": [],
   "source": [
    "import numpy as np\n",
    "%matplotlib inline\n",
    "import matplotlib.pyplot as plt"
   ]
  },
  {
   "cell_type": "code",
   "execution_count": 14,
   "metadata": {},
   "outputs": [],
   "source": [
    "hfmInput = {}\n",
    "hfmInput['model'] = 'Isotropic2' # Isotropic two-dimensional eikonal equation\n",
    "hfmInput['sndOrder']=1. # Use a second order scheme, so as to increase accuracy\n",
    "hfmInput['cost'] = 1. # Unit cost for now. A position dependent cost function is also considered below.\n",
    "# hfmInput['speed']=1. # One may equivalently provide a speed function. In that case cost = 1/speed."
   ]
  },
  {
   "cell_type": "code",
   "execution_count": 15,
   "metadata": {},
   "outputs": [],
   "source": [
    "n=100\n",
    "hfmInput['dims']=np.array([2*n,n]) # Every input array must be a numpy array\n",
    "hfmInput['gridScale']=1./n\n",
    "hfmInput['origin']=np.array([-1.,0.]) # 'origin' defaults to [0.,0.] if unspecified"
   ]
  },
  {
   "cell_type": "code",
   "execution_count": 16,
   "metadata": {},
   "outputs": [],
   "source": [
    "hfmInput['seeds']=np.array([[-0.5,0.3],[0.5,0.8]]) # Introduce two seeds, at positions (-0.5,0.3) and (0.5,0.8)\n",
    "hfmInput['seedValues']=np.array([0.,0.5]) # Boundary conditions imposed at the seeds. \n",
    "# 'seedValues' defaults [0.,0.] if unspecified. "
   ]
  },
  {
   "cell_type": "code",
   "execution_count": 17,
   "metadata": {},
   "outputs": [],
   "source": [
    "hfmInput['pointToIndex'] = hfmInput['seeds'] # Request the multi-indices of these points (our seeds)\n",
    "hfmInput['indexToPoint'] = np.array([ [5,10], [20,15], [50,30] ]) # Request the points associated to these indices"
   ]
  },
  {
   "cell_type": "code",
   "execution_count": 18,
   "metadata": {},
   "outputs": [],
   "source": [
    "hfmInput['exportValues']=1. # Ask for the PDE solution\n",
    "hfmInput['exportGeodesicFlow']=1 # Ask for the geodesic flow "
   ]
  },
  {
   "cell_type": "code",
   "execution_count": 19,
   "metadata": {},
   "outputs": [],
   "source": [
    "hfmInput['tips'] = np.array([[0.,0.6],[-0.9,0.5],[0.8,0.8]]) # Ask for the geodesics from these three points\n",
    "#hfmInput['geodesicSolver']='ODE' # Choose the backtracking method. Defaults to 'Discrete' if unspecified."
   ]
  },
  {
   "cell_type": "code",
   "execution_count": 20,
   "metadata": {},
   "outputs": [],
   "source": [
    "hfmInput['arrayOrdering']='YXZ_RowMajor'\n",
    "hfmInput['dummyKey']='dummyValue' # For demonstration purposes, we also add a dummy, useless input key"
   ]
  },
  {
   "cell_type": "code",
   "execution_count": 21,
   "metadata": {},
   "outputs": [],
   "source": [
    "HFMUtils.FileHFM_binary_dir = None"
   ]
  },
  {
   "cell_type": "code",
   "execution_count": 22,
   "metadata": {},
   "outputs": [
    {
     "name": "stdout",
     "output_type": "stream",
     "text": [
      "Field verbosity defaults to 1\n",
      "Field order defaults to 1\n",
      "Field spreadSeeds defaults to -1\n",
      "Field showProgress defaults to 0\n",
      "Field factoringMethod defaults to None\n",
      "Fast marching solver completed in 0.004247 s.\n",
      "Field geodesicSolver defaults to Discrete\n",
      "Field geodesicStep defaults to 0.25\n",
      "Field geodesicWeightThreshold defaults to 0.0001\n",
      "Field geodesicVolumeBound defaults to 4.225\n",
      "Field exportActiveNeighs defaults to 0\n",
      "Warning : Unused fields from user: dummyKey sndOrder \n"
     ]
    }
   ],
   "source": [
    "hfmOutput = HFMUtils.Run(hfmInput)"
   ]
  },
  {
   "cell_type": "code",
   "execution_count": 23,
   "metadata": {},
   "outputs": [
    {
     "data": {
      "text/plain": [
       "dict_keys(['FMCPUTime', 'MaxStencilWidth', 'StencilCPUTime', 'defaulted', 'geodesicFlow', 'geodesicLengths', 'geodesicPoints', 'indexFromPoint', 'nAccepted', 'pointFromIndex', 'unusedFromCompute', 'unusedFromUser', 'values', 'visitedUnset'])"
      ]
     },
     "execution_count": 23,
     "metadata": {},
     "output_type": "execute_result"
    }
   ],
   "source": [
    "hfmOutput.keys()"
   ]
  },
  {
   "cell_type": "code",
   "execution_count": 24,
   "metadata": {},
   "outputs": [
    {
     "name": "stdout",
     "output_type": "stream",
     "text": [
      "Unused input keys :  dummyKey sndOrder  \n",
      "\n",
      "Defaulted input keys :  exportActiveNeighs factoringMethod geodesicSolver geodesicStep geodesicVolumeBound geodesicWeightThreshold order refineStencilAtWallBoundary showProgress spreadSeeds verbosity  \n",
      "\n",
      "Output keys :  dict_keys(['FMCPUTime', 'MaxStencilWidth', 'StencilCPUTime', 'defaulted', 'geodesicFlow', 'geodesicLengths', 'geodesicPoints', 'indexFromPoint', 'nAccepted', 'pointFromIndex', 'unusedFromCompute', 'unusedFromUser', 'values', 'visitedUnset']) \n",
      "\n"
     ]
    }
   ],
   "source": [
    "print(\"Unused input keys : \", hfmOutput['unusedFromUser'],\"\\n\") \n",
    "print(\"Defaulted input keys : \", hfmOutput['defaulted'],\"\\n\") \n",
    "print(\"Output keys : \", hfmOutput.keys(),\"\\n\")"
   ]
  },
  {
   "cell_type": "code",
   "execution_count": 25,
   "metadata": {},
   "outputs": [
    {
     "name": "stdout",
     "output_type": "stream",
     "text": [
      "0.5\n"
     ]
    }
   ],
   "source": [
    "index = hfmOutput['indexFromPoint'][1,:].astype(int) # This is the index of seed number 1, that we requested above.\n",
    "print(hfmOutput['values'][index[1],index[0]] ) # Note the YXZ convention."
   ]
  },
  {
   "cell_type": "code",
   "execution_count": 26,
   "metadata": {},
   "outputs": [
    {
     "data": {
      "text/plain": [
       "array([[-0.945,  0.105],\n",
       "       [-0.795,  0.155],\n",
       "       [-0.495,  0.305]])"
      ]
     },
     "execution_count": 26,
     "metadata": {},
     "output_type": "execute_result"
    }
   ],
   "source": [
    "hfmOutput['pointFromIndex'] # Points associated with the multi-indices provided in the indexToPoint input field"
   ]
  },
  {
   "cell_type": "code",
   "execution_count": 27,
   "metadata": {},
   "outputs": [],
   "source": [
    "X,Y = np.meshgrid(np.linspace(-1,1,2*n),np.linspace(0,1,n)) # Create a coordinate system"
   ]
  },
  {
   "cell_type": "code",
   "execution_count": 28,
   "metadata": {},
   "outputs": [
    {
     "data": {
      "image/png": "[encoded data removed]",
      "text/plain": [
       "<Figure size 432x216 with 1 Axes>"
      ]
     },
     "metadata": {
      "needs_background": "light"
     },
     "output_type": "display_data"
    }
   ],
   "source": [
    "plt.figure(figsize=[6,3]); plt.title('Distance function, for a uniform cost'); plt.axis('equal');\n",
    "plt.contourf(X,Y,hfmOutput['values']); # Display the value function. "
   ]
  },
  {
   "cell_type": "code",
   "execution_count": null,
   "metadata": {},
   "outputs": [],
   "source": []
  }
 ],
 "metadata": {
  "kernelspec": {
   "display_name": "Python 3",
   "language": "python",
   "name": "python3"
  },
  "language_info": {
   "codemirror_mode": {
    "name": "ipython",
    "version": 3
   },
   "file_extension": ".py",
   "mimetype": "text/x-python",
   "name": "python",
   "nbconvert_exporter": "python",
   "pygments_lexer": "ipython3",
   "version": "3.7.3"
  }
 },
 "nbformat": 4,
 "nbformat_minor": 2
}
