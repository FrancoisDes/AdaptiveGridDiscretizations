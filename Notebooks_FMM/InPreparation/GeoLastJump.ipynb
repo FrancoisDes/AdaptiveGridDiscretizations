{
 "cells": [
  {
   "cell_type": "code",
   "execution_count": 4,
   "metadata": {},
   "outputs": [],
   "source": [
    "import sys; sys.path.append(\"../..\") # Allow imports from parent directory\n",
    "\n",
    "import HFMUtils\n",
    "\n",
    "# We will also need some standard python libraries.\n",
    "import numpy as np\n",
    "%matplotlib inline\n",
    "import matplotlib.pyplot as plt"
   ]
  },
  {
   "cell_type": "code",
   "execution_count": 14,
   "metadata": {},
   "outputs": [
    {
     "name": "stdout",
     "output_type": "stream",
     "text": [
      "Field verbosity defaults to 1\n",
      "Field spreadSeeds defaults to -1\n",
      "Field showProgress defaults to 0\n",
      "Field factoringMethod defaults to None\n",
      "Fast marching solver completed in 0.14792 s.\n",
      "Field geodesicSolver defaults to Discrete\n",
      "Field geodesicWeightThreshold defaults to 0.0001\n",
      "Field geodesicVolumeBound defaults to 5.4925\n",
      "Field exportActiveNeighs defaults to 0\n",
      "Field exportGeodesicFlow defaults to 0\n",
      "\n"
     ]
    },
    {
     "data": {
      "text/plain": [
       "[39.391856417545114,\n",
       " 40.21206638322584,\n",
       " 35.588729925245225,\n",
       " 44.457918469378946,\n",
       " 47.19404982242375,\n",
       " 44.953370093016524,\n",
       " 37.55250846067548,\n",
       " 37.70265904553251,\n",
       " 36.982583766409896,\n",
       " 29.243473694451822,\n",
       " 27.78302440611203,\n",
       " 26.55999622638115,\n",
       " 31.690749479389613,\n",
       " 31.045542283053912,\n",
       " 30.267363816406412,\n",
       " 32.57550706748113,\n",
       " 32.33807282169525,\n",
       " 31.873254914195908,\n",
       " 30.025338858121895,\n",
       " 29.728883391399737,\n",
       " 29.361049285506777,\n",
       " 30.72992162845375,\n",
       " 30.514536108305958,\n",
       " 30.21749356278376,\n",
       " 31.286726919507544,\n",
       " 31.14604987819457,\n",
       " 30.928967808493073]"
      ]
     },
     "execution_count": 14,
     "metadata": {},
     "output_type": "execute_result"
    }
   ],
   "source": [
    "# Define the domain as the block [0,3] x [0,2] x [0,1]\n",
    "hfmInput3D = HFMUtils.Rect(sides=[[0,3],[0,2],[0,1]],dimx = 100)\n",
    "\n",
    "# Meshgrid convention\n",
    "hfmInput3D['arrayOrdering']='YXZ_RowMajor'\n",
    "hfmInput3D['model']='Isotropic3'\n",
    "X3D,Y3D,Z3D = HFMUtils.GetGrid(hfmInput3D) \n",
    "\n",
    "hfmInput3D.update({\n",
    "    'order':2,\n",
    "    'exportValues':1,\n",
    "    # A list of seeds is required, even if the list is only 1 element long.\n",
    "    'seeds':[[0.3,0.5,0.7]],\n",
    "    'speed':np.exp(-(X3D-1.5)**2-(Y3D-1)**2-(Z3D-0.5)**2)\n",
    "})\n",
    "\n",
    "nGeo = 3\n",
    "hfmInput3D['tips']=np.array([ [x,y,z]  \n",
    "                 for x in HFMUtils.CenteredLinspace(0,3,nGeo)\n",
    "                 for y in HFMUtils.CenteredLinspace(0,2,nGeo)\n",
    "                 for z in HFMUtils.CenteredLinspace(0,1,nGeo)])\n",
    "\n",
    "\n",
    "hfmInput3D['geodesicStep']=0.1\n",
    "hfmOutput = HFMUtils.Run(hfmInput3D)\n",
    "\n",
    "\n",
    "geos = HFMUtils.GetGeodesics(hfmOutput)\n",
    "seed = hfmInput3D['seeds'][0]\n",
    "import NumericalSchemes.AutomaticDifferentiation as ad\n",
    "LInfNorm = ad.Optimization.norm_infinity\n",
    "[LInfNorm(geo[-3]-geo[-2] / LInfNorm(geo[-2]-geo[-1])) for geo in geos]"
   ]
  },
  {
   "cell_type": "code",
   "execution_count": null,
   "metadata": {},
   "outputs": [],
   "source": []
  }
 ],
 "metadata": {
  "kernelspec": {
   "display_name": "Python 3",
   "language": "python",
   "name": "python3"
  },
  "language_info": {
   "codemirror_mode": {
    "name": "ipython",
    "version": 3
   },
   "file_extension": ".py",
   "mimetype": "text/x-python",
   "name": "python",
   "nbconvert_exporter": "python",
   "pygments_lexer": "ipython3",
   "version": "3.7.3"
  }
 },
 "nbformat": 4,
 "nbformat_minor": 2
}
