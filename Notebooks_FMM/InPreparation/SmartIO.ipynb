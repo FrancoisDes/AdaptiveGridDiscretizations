{
 "cells": [
  {
   "cell_type": "markdown",
   "metadata": {},
   "source": [
    "# The HFM library - A fast marching solver with adaptive stencils\n",
    "\n",
    "## Part : Algorithmic enhancements to the fast marching method\n",
    "## Chapter : input and output"
   ]
  },
  {
   "cell_type": "markdown",
   "metadata": {},
   "source": [
    "This notebook illustrates the implementation of monotone schemes on non-rectangular domains."
   ]
  },
  {
   "cell_type": "markdown",
   "metadata": {},
   "source": [
    "## 0. Importing the required libraries"
   ]
  },
  {
   "cell_type": "code",
   "execution_count": 3,
   "metadata": {},
   "outputs": [],
   "source": [
    "import sys; sys.path.insert(0,\"../..\") # Allow import of agd from parent directory (useless if conda package installed)\n",
    "#from Miscellaneous import TocTools; print(TocTools.displayTOC('RefinedIO','FMM'))"
   ]
  },
  {
   "cell_type": "code",
   "execution_count": 4,
   "metadata": {},
   "outputs": [],
   "source": [
    "from agd import HFMUtils\n",
    "from agd import Metrics"
   ]
  },
  {
   "cell_type": "code",
   "execution_count": 5,
   "metadata": {},
   "outputs": [],
   "source": [
    "# We will also need some standard python libraries.\n",
    "import numpy as np\n",
    "%matplotlib inline\n",
    "import matplotlib.pyplot as plt"
   ]
  },
  {
   "cell_type": "code",
   "execution_count": 6,
   "metadata": {},
   "outputs": [],
   "source": [
    "def reload_submodules():\n",
    "    HFMUtils.reload_submodules()\n",
    "    Metrics.reload_submodules()"
   ]
  },
  {
   "cell_type": "markdown",
   "metadata": {},
   "source": [
    "## 1. Input and output\n",
    "\n",
    "The following example is taken from the notebook on the Fisher-Rao distance [link](FisherRao.ipynb)"
   ]
  },
  {
   "cell_type": "code",
   "execution_count": 10,
   "metadata": {},
   "outputs": [],
   "source": [
    "hfmIn = {} \n",
    "hfmIn['model'] = 'Riemann2' # Adequate model for two dimensional Riemannian metrics.\n",
    "hfmIn['arrayOrdering'] = 'RowMajor' \n",
    "\n",
    "# Create the parameter space\n",
    "n=100\n",
    "hfmIn.update(HFMUtils.Rect(sides=[[-2,2],[0,1]],dimx=4*n))\n",
    "mu,sig = HFMUtils.GetGrid(hfmInput)\n",
    "\n",
    "hfmIn['seeds'] = np.array([ [0,0.3] ]) # A single seed\n",
    "hfmIn['tips'] = np.array([ (x,y) for y in HFMUtils.CenteredLinspace(0,1,3) \n",
    "                             for x in HFMUtils.CenteredLinspace(-2,2,4)]) # 12 tips\n",
    "\n",
    "hfmIn['exportValues'] = 1\n",
    "hfmIn['order'] = 2"
   ]
  },
  {
   "cell_type": "code",
   "execution_count": 18,
   "metadata": {},
   "outputs": [
    {
     "name": "stdout",
     "output_type": "stream",
     "text": [
      "Help on function Run in module agd.HFMUtils:\n",
      "\n",
      "Run(hfmIn, smart=False, **kwargs)\n",
      "    Calls to the HFM library, returns output and prints log.\n",
      "    \n",
      "    Parameters\n",
      "    ----------\n",
      "    smart : bool  \n",
      "            Choose between a smart and raw run\n",
      "    **kwargs\n",
      "            Passed to RunRaw or RunSmart\n",
      "\n"
     ]
    }
   ],
   "source": [
    "help(HFMUtils.Run)"
   ]
  },
  {
   "cell_type": "markdown",
   "metadata": {},
   "source": [
    "### 1.1 Raw data\n",
    "\n",
    "The HamiltonFastMarching (HFM) library only expects and returns data in the following basic formats: \n",
    "- numpy arrays with elements of type *float64*\n",
    "- strings\n",
    "\n",
    "Furthermore, the dimensions of the arrays corresponding to physical space are expected to be the last ones. This convention is opposite to the one taken in the agd library, where the physical dimensions come first. For that reason it is not always convenient to input and output data in raw format"
   ]
  },
  {
   "cell_type": "code",
   "execution_count": 8,
   "metadata": {},
   "outputs": [],
   "source": [
    "hfmInput['metric'] = np.stack( (1./sig**2, 0.*sig, 2./sig**2), 2)"
   ]
  },
  {
   "cell_type": "code",
   "execution_count": 19,
   "metadata": {},
   "outputs": [
    {
     "name": "stdout",
     "output_type": "stream",
     "text": [
      "ERROR : the HFMpy library is not found, and the path to the FileHFM binaries is not set \n",
      "\n",
      "\n",
      "You can set the path to the FileHFM compiled binaries, as follows : \n",
      "\n",
      ">>> agd.HFMUtils.LibraryCall.FileHFM_binary_dir = 'path/to/FileHFM/bin'\n",
      "\n",
      "\n",
      "\n",
      "In order to do this automatically in the future, please set this path \n",
      "in the first line of a file named 'FileHFM_binary_dir.txt' in the current directory\n",
      "\n",
      ">>> with open('FileHFM_binary_dir.txt','w+') as file: file.write('path/to/FileHFM/bin')\n",
      "\n"
     ]
    },
    {
     "ename": "FileNotFoundError",
     "evalue": "[Errno 2] No such file or directory: 'FileHFM_binary_dir.txt'",
     "output_type": "error",
     "traceback": [
      "\u001b[0;31m---------------------------------------------------------------------------\u001b[0m",
      "\u001b[0;31mFileNotFoundError\u001b[0m                         Traceback (most recent call last)",
      "\u001b[0;32m<ipython-input-19-e9900d72041a>\u001b[0m in \u001b[0;36m<module>\u001b[0;34m\u001b[0m\n\u001b[0;32m----> 1\u001b[0;31m \u001b[0mhfmOutput\u001b[0m \u001b[0;34m=\u001b[0m \u001b[0mHFMUtils\u001b[0m\u001b[0;34m.\u001b[0m\u001b[0mRun\u001b[0m\u001b[0;34m(\u001b[0m\u001b[0mhfmInput\u001b[0m\u001b[0;34m,\u001b[0m\u001b[0msmart\u001b[0m\u001b[0;34m=\u001b[0m\u001b[0;32mFalse\u001b[0m\u001b[0;34m)\u001b[0m\u001b[0;34m\u001b[0m\u001b[0;34m\u001b[0m\u001b[0m\n\u001b[0m",
      "\u001b[0;32m~/Dropbox/Programmes/Github/AdaptiveGridDiscretizations/agd/HFMUtils/__init__.py\u001b[0m in \u001b[0;36mRun\u001b[0;34m(hfmIn, smart, **kwargs)\u001b[0m\n\u001b[1;32m     18\u001b[0m                 \u001b[0mPassed\u001b[0m \u001b[0mto\u001b[0m \u001b[0mRunRaw\u001b[0m \u001b[0;32mor\u001b[0m \u001b[0mRunSmart\u001b[0m\u001b[0;34m\u001b[0m\u001b[0;34m\u001b[0m\u001b[0m\n\u001b[1;32m     19\u001b[0m \t\"\"\"\n\u001b[0;32m---> 20\u001b[0;31m         \u001b[0;32mreturn\u001b[0m \u001b[0mRunSmart\u001b[0m\u001b[0;34m(\u001b[0m\u001b[0mhfmIn\u001b[0m\u001b[0;34m,\u001b[0m\u001b[0;34m**\u001b[0m\u001b[0mkwargs\u001b[0m\u001b[0;34m)\u001b[0m \u001b[0;32mif\u001b[0m \u001b[0msmart\u001b[0m \u001b[0;32melse\u001b[0m \u001b[0mRunRaw\u001b[0m\u001b[0;34m(\u001b[0m\u001b[0mhfmIn\u001b[0m\u001b[0;34m,\u001b[0m\u001b[0;34m**\u001b[0m\u001b[0mkwargs\u001b[0m\u001b[0;34m)\u001b[0m\u001b[0;34m\u001b[0m\u001b[0;34m\u001b[0m\u001b[0m\n\u001b[0m\u001b[1;32m     21\u001b[0m \u001b[0;34m\u001b[0m\u001b[0m\n\u001b[1;32m     22\u001b[0m \u001b[0;32mdef\u001b[0m \u001b[0mVoronoiDecomposition\u001b[0m\u001b[0;34m(\u001b[0m\u001b[0marr\u001b[0m\u001b[0;34m)\u001b[0m\u001b[0;34m:\u001b[0m\u001b[0;34m\u001b[0m\u001b[0;34m\u001b[0m\u001b[0m\n",
      "\u001b[0;32m~/Dropbox/Programmes/Github/AdaptiveGridDiscretizations/agd/HFMUtils/run_detail.py\u001b[0m in \u001b[0;36mRunRaw\u001b[0;34m(hfmIn)\u001b[0m\n\u001b[1;32m      6\u001b[0m \u001b[0;32mdef\u001b[0m \u001b[0mRunRaw\u001b[0m\u001b[0;34m(\u001b[0m\u001b[0mhfmIn\u001b[0m\u001b[0;34m)\u001b[0m\u001b[0;34m:\u001b[0m\u001b[0;34m\u001b[0m\u001b[0;34m\u001b[0m\u001b[0m\n\u001b[1;32m      7\u001b[0m         \u001b[0;34m\"\"\"Raw call to the HFM library\"\"\"\u001b[0m\u001b[0;34m\u001b[0m\u001b[0;34m\u001b[0m\u001b[0m\n\u001b[0;32m----> 8\u001b[0;31m         \u001b[0;32mreturn\u001b[0m \u001b[0mRunDispatch\u001b[0m\u001b[0;34m(\u001b[0m\u001b[0mhfmIn\u001b[0m\u001b[0;34m,\u001b[0m\u001b[0mGetBinaryDir\u001b[0m\u001b[0;34m(\u001b[0m\u001b[0;34m\"FileHFM\"\u001b[0m\u001b[0;34m,\u001b[0m\u001b[0;34m\"HFMpy\"\u001b[0m\u001b[0;34m)\u001b[0m\u001b[0;34m)\u001b[0m\u001b[0;34m\u001b[0m\u001b[0;34m\u001b[0m\u001b[0m\n\u001b[0m\u001b[1;32m      9\u001b[0m \u001b[0;34m\u001b[0m\u001b[0m\n\u001b[1;32m     10\u001b[0m \u001b[0;32mdef\u001b[0m \u001b[0mPreProcess\u001b[0m\u001b[0;34m(\u001b[0m\u001b[0mkey\u001b[0m\u001b[0;34m,\u001b[0m\u001b[0mvalue\u001b[0m\u001b[0;34m,\u001b[0m\u001b[0mraw_out\u001b[0m\u001b[0;34m)\u001b[0m\u001b[0;34m:\u001b[0m\u001b[0;34m\u001b[0m\u001b[0;34m\u001b[0m\u001b[0m\n",
      "\u001b[0;32m~/Dropbox/Programmes/Github/AdaptiveGridDiscretizations/agd/HFMUtils/LibraryCall.py\u001b[0m in \u001b[0;36mGetBinaryDir\u001b[0;34m(execName, libName)\u001b[0m\n\u001b[1;32m     85\u001b[0m         \u001b[0;32mtry\u001b[0m\u001b[0;34m:\u001b[0m\u001b[0;34m\u001b[0m\u001b[0;34m\u001b[0m\u001b[0m\n\u001b[1;32m     86\u001b[0m                 \u001b[0;31m# Try reading the file\u001b[0m\u001b[0;34m\u001b[0m\u001b[0;34m\u001b[0m\u001b[0;34m\u001b[0m\u001b[0m\n\u001b[0;32m---> 87\u001b[0;31m                 \u001b[0;32mwith\u001b[0m \u001b[0mopen\u001b[0m\u001b[0;34m(\u001b[0m\u001b[0mfileName\u001b[0m\u001b[0;34m,\u001b[0m\u001b[0;34m'r'\u001b[0m\u001b[0;34m)\u001b[0m \u001b[0;32mas\u001b[0m \u001b[0mf\u001b[0m\u001b[0;34m:\u001b[0m\u001b[0;34m\u001b[0m\u001b[0;34m\u001b[0m\u001b[0m\n\u001b[0m\u001b[1;32m     88\u001b[0m                         \u001b[0mbinary_dir\u001b[0m \u001b[0;34m=\u001b[0m \u001b[0mf\u001b[0m\u001b[0;34m.\u001b[0m\u001b[0mreadline\u001b[0m\u001b[0;34m(\u001b[0m\u001b[0;34m)\u001b[0m\u001b[0;34m.\u001b[0m\u001b[0mreplace\u001b[0m\u001b[0;34m(\u001b[0m\u001b[0;34m'\\n'\u001b[0m\u001b[0;34m,\u001b[0m\u001b[0;34m''\u001b[0m\u001b[0;34m)\u001b[0m\u001b[0;34m\u001b[0m\u001b[0;34m\u001b[0m\u001b[0m\n\u001b[1;32m     89\u001b[0m                         \u001b[0;32mif\u001b[0m \u001b[0mbinary_dir\u001b[0m\u001b[0;34m==\u001b[0m\u001b[0;34m\"None\"\u001b[0m\u001b[0;34m:\u001b[0m\u001b[0;34m\u001b[0m\u001b[0;34m\u001b[0m\u001b[0m\n",
      "\u001b[0;31mFileNotFoundError\u001b[0m: [Errno 2] No such file or directory: 'FileHFM_binary_dir.txt'"
     ]
    }
   ],
   "source": [
    "hfmOutput = HFMUtils.Run(hfmInput,smart=False)"
   ]
  },
  {
   "cell_type": "markdown",
   "metadata": {},
   "source": [
    "### 1.2 Smart data (Pre- and post-processed)"
   ]
  },
  {
   "cell_type": "code",
   "execution_count": 11,
   "metadata": {},
   "outputs": [],
   "source": [
    "riemann = Metrics.Riemann.from_diagonal(1./sig**2,2./sig**2)\n",
    "hfmInput['metric'] = riemann"
   ]
  },
  {
   "cell_type": "code",
   "execution_count": 8,
   "metadata": {},
   "outputs": [
    {
     "data": {
      "text/plain": [
       "'Riemann2'"
      ]
     },
     "execution_count": 8,
     "metadata": {},
     "output_type": "execute_result"
    }
   ],
   "source": [
    "riemann.model_HFM()"
   ]
  },
  {
   "cell_type": "code",
   "execution_count": 9,
   "metadata": {},
   "outputs": [],
   "source": [
    "hfmInput['model']='AsymmetricQuadratic2'\n",
    "hfmInput['metric'] = Metrics.AsymQuad.from_cast(riemann)"
   ]
  },
  {
   "cell_type": "code",
   "execution_count": 12,
   "metadata": {},
   "outputs": [
    {
     "name": "stdout",
     "output_type": "stream",
     "text": [
      "Field verbosity defaults to 1\n",
      "Field spreadSeeds defaults to -1\n",
      "Field showProgress defaults to 0\n",
      "Field factoringMethod defaults to None\n",
      "Fast marching solver completed in 0.017728 s.\n",
      "Field geodesicSolver defaults to Discrete\n",
      "Field geodesicStep defaults to 0.25\n",
      "Field geodesicWeightThreshold defaults to 0.001\n",
      "Field geodesicVolumeBound defaults to 8.45\n",
      "Field exportActiveNeighs defaults to 0\n",
      "Field exportGeodesicFlow defaults to 0\n",
      "\n"
     ]
    }
   ],
   "source": [
    "hfmOutput = HFMUtils.Run(hfmInput,smart=True)"
   ]
  },
  {
   "cell_type": "code",
   "execution_count": 13,
   "metadata": {},
   "outputs": [
    {
     "data": {
      "image/png": "[encoded data removed]",
      "text/plain": [
       "<Figure size 432x216 with 1 Axes>"
      ]
     },
     "metadata": {
      "needs_background": "light"
     },
     "output_type": "display_data"
    }
   ],
   "source": [
    "fig = plt.figure(figsize=[6,3]); plt.title('Fisher-Rao distance and minimal geodesics'); plt.axis('equal'); \n",
    "plt.contourf(mu,sig,hfmOutput['values'],cmap='Greys',levels=np.linspace(0,3,7));  # Display the value function. \n",
    "for geo in hfmOutput['geodesics']:  plt.plot(*geo)\n",
    "#savefig(fig,\"FisherRao_Gaussian1D.png\")"
   ]
  },
  {
   "cell_type": "code",
   "execution_count": 12,
   "metadata": {},
   "outputs": [
    {
     "data": {
      "text/plain": [
       "dict_keys(['FMCPUTime', 'GeodesicCPUTime', 'MaxStencilWidth', 'StencilCPUTime', 'defaulted', 'geodesicLengths', 'geodesicPoints', 'nAccepted', 'unusedFromCompute', 'values', 'visitedUnset', 'log', 'retcode'])"
      ]
     },
     "execution_count": 12,
     "metadata": {},
     "output_type": "execute_result"
    }
   ],
   "source": [
    "hfmOutput.keys()"
   ]
  },
  {
   "cell_type": "code",
   "execution_count": 10,
   "metadata": {},
   "outputs": [
    {
     "data": {
      "image/png": "[encoded data removed]",
      "text/plain": [
       "<Figure size 432x216 with 1 Axes>"
      ]
     },
     "metadata": {
      "needs_background": "light"
     },
     "output_type": "display_data"
    }
   ],
   "source": [
    "fig = plt.figure(figsize=[6,3]); plt.title('Fisher-Rao distance and minimal geodesics'); plt.axis('equal'); \n",
    "plt.contourf(mu,sig,hfmOutput['values'],cmap='Greys',levels=np.linspace(0,3,7));  # Display the value function. \n",
    "for geo in HFMUtils.GetGeodesics(hfmOutput):  plt.plot(geo[:,0],geo[:,1])\n",
    "#savefig(fig,\"FisherRao_Gaussian1D.png\")"
   ]
  },
  {
   "cell_type": "code",
   "execution_count": 16,
   "metadata": {},
   "outputs": [],
   "source": [
    "def f():\n",
    "    \"\"\"help of f\"\"\"\n",
    "    pass\n",
    "def g():\n",
    "    \"\"\"help of g\"\"\"+f.__doc__\n",
    "    pass"
   ]
  },
  {
   "cell_type": "code",
   "execution_count": 18,
   "metadata": {},
   "outputs": [
    {
     "name": "stdout",
     "output_type": "stream",
     "text": [
      "Help on function g in module __main__:\n",
      "\n",
      "g()\n",
      "\n"
     ]
    }
   ],
   "source": [
    "help(g)"
   ]
  },
  {
   "cell_type": "code",
   "execution_count": 15,
   "metadata": {},
   "outputs": [
    {
     "data": {
      "text/plain": [
       "'help of f'"
      ]
     },
     "execution_count": 15,
     "metadata": {},
     "output_type": "execute_result"
    }
   ],
   "source": [
    "f.__doc__"
   ]
  },
  {
   "cell_type": "code",
   "execution_count": 13,
   "metadata": {},
   "outputs": [
    {
     "ename": "NameError",
     "evalue": "name 'attr' is not defined",
     "output_type": "error",
     "traceback": [
      "\u001b[0;31m---------------------------------------------------------------------------\u001b[0m",
      "\u001b[0;31mNameError\u001b[0m                                 Traceback (most recent call last)",
      "\u001b[0;32m<ipython-input-13-8622b3b7527d>\u001b[0m in \u001b[0;36m<module>\u001b[0;34m\u001b[0m\n\u001b[0;32m----> 1\u001b[0;31m \u001b[0mattr\u001b[0m\u001b[0;34m(\u001b[0m\u001b[0mf\u001b[0m\u001b[0;34m)\u001b[0m\u001b[0;34m\u001b[0m\u001b[0;34m\u001b[0m\u001b[0m\n\u001b[0m",
      "\u001b[0;31mNameError\u001b[0m: name 'attr' is not defined"
     ]
    }
   ],
   "source": [
    "attr(f)"
   ]
  },
  {
   "cell_type": "code",
   "execution_count": null,
   "metadata": {},
   "outputs": [],
   "source": []
  }
 ],
 "metadata": {
  "kernelspec": {
   "display_name": "Python 3",
   "language": "python",
   "name": "python3"
  },
  "language_info": {
   "codemirror_mode": {
    "name": "ipython",
    "version": 3
   },
   "file_extension": ".py",
   "mimetype": "text/x-python",
   "name": "python",
   "nbconvert_exporter": "python",
   "pygments_lexer": "ipython3",
   "version": "3.7.3"
  }
 },
 "nbformat": 4,
 "nbformat_minor": 2
}
