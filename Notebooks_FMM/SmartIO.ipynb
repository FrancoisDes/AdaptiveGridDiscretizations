{
 "cells": [
  {
   "cell_type": "markdown",
   "metadata": {},
   "source": [
    "# The HFM library - A fast marching solver with adaptive stencils\n",
    "\n",
    "## Part : Algorithmic enhancements to the fast marching method\n",
    "## Chapter : Input and output"
   ]
  },
  {
   "cell_type": "markdown",
   "metadata": {},
   "source": [
    "This notebook illustrates the distinction between raw and smart input to the HFM library, and how to save the those for debugging purposes."
   ]
  },
  {
   "cell_type": "markdown",
   "metadata": {},
   "source": [
    "[**Summary**](Summary.ipynb) of volume Fast Marching Methods, this series of notebooks.\n",
    "\n",
    "[**Main summary**](../Summary.ipynb) of the Adaptive Grid Discretizations \n",
    "\tbook of notebooks, including the other volumes.\n",
    "\n",
    "# Table of contents\n",
    "  * [1. Input and output](#1.-Input-and-output)\n",
    "    * [1.1 Raw data](#1.1-Raw-data)\n",
    "    * [1.2 Smart data (Pre- and post-processed)](#1.2-Smart-data-(Pre--and-post-processed))\n",
    "  * [2. Saving data](#2.-Saving-data)\n",
    "    * [2.1 Exporting raw data](#2.1-Exporting-raw-data)\n",
    "    * [2.2 Importing raw data](#2.2-Importing-raw-data)\n",
    "    * [2.2 Turning smart input into raw input](#2.2-Turning-smart-input-into-raw-input)\n",
    "\n",
    "\n",
    "\n",
    "This Python&reg; notebook is intended as documentation and testing for the [HamiltonFastMarching (HFM) library](https://github.com/mirebeau/HamiltonFastMarching), which also has interfaces to the Matlab&reg; and Mathematica&reg; languages. \n",
    "More information on the HFM library in the manuscript:\n",
    "* Jean-Marie Mirebeau, Jorg Portegies, \"Hamiltonian Fast Marching: A numerical solver for anisotropic and non-holonomic eikonal PDEs\", 2019 [(link)](https://hal.archives-ouvertes.fr/hal-01778322)\n",
    "\n",
    "Copyright Jean-Marie Mirebeau, University Paris-Sud, CNRS, University Paris-Saclay"
   ]
  },
  {
   "cell_type": "markdown",
   "metadata": {},
   "source": [
    "## 0. Importing the required libraries"
   ]
  },
  {
   "cell_type": "code",
   "execution_count": 3,
   "metadata": {},
   "outputs": [],
   "source": [
    "import sys; sys.path.insert(0,\"..\") # Allow import of agd from parent directory (useless if conda package installed)\n",
    "#from Miscellaneous import TocTools; print(TocTools.displayTOC('SmartIO','FMM'))"
   ]
  },
  {
   "cell_type": "code",
   "execution_count": 2,
   "metadata": {},
   "outputs": [],
   "source": [
    "from agd import HFMUtils\n",
    "from agd import Metrics"
   ]
  },
  {
   "cell_type": "code",
   "execution_count": 3,
   "metadata": {},
   "outputs": [],
   "source": [
    "# We will also need some standard python libraries.\n",
    "import numpy as np\n",
    "%matplotlib inline\n",
    "import matplotlib.pyplot as plt\n",
    "import os"
   ]
  },
  {
   "cell_type": "code",
   "execution_count": 4,
   "metadata": {},
   "outputs": [],
   "source": [
    "def reload_submodules():\n",
    "    HFMUtils.reload_submodules()\n",
    "    Metrics.reload_submodules()"
   ]
  },
  {
   "cell_type": "markdown",
   "metadata": {},
   "source": [
    "## 1. Input and output\n",
    "\n",
    "The following example is taken from the notebook on the Fisher-Rao distance [link](FisherRao.ipynb)"
   ]
  },
  {
   "cell_type": "code",
   "execution_count": 5,
   "metadata": {},
   "outputs": [],
   "source": [
    "hfmIn = {} \n",
    "hfmIn['model'] = 'Riemann2' # Adequate model for two dimensional Riemannian metrics.\n",
    "hfmIn['arrayOrdering'] = 'RowMajor' \n",
    "\n",
    "# Create the parameter space\n",
    "n=100\n",
    "hfmIn.update(HFMUtils.Rect(sides=[[-2,2],[0,1]],dimx=4*n))\n",
    "mu,sig = HFMUtils.GetGrid(hfmIn)\n",
    "\n",
    "hfmIn['seeds'] = np.array([ [0,0.3] ]) # A single seed\n",
    "hfmIn['tips'] = np.array([ (x,y) for y in HFMUtils.CenteredLinspace(0,1,3) \n",
    "                             for x in HFMUtils.CenteredLinspace(-2,2,4)]) # 12 tips\n",
    "\n",
    "hfmIn['exportValues'] = 1\n",
    "hfmIn['order'] = 2"
   ]
  },
  {
   "cell_type": "code",
   "execution_count": 6,
   "metadata": {},
   "outputs": [
    {
     "name": "stdout",
     "output_type": "stream",
     "text": [
      "Help on function Run in module agd.HFMUtils:\n",
      "\n",
      "Run(hfmIn, smart=False, **kwargs)\n",
      "    Calls to the HFM library, returns output and prints log.\n",
      "    \n",
      "    Parameters\n",
      "    ----------\n",
      "    smart : bool  \n",
      "            Choose between a smart and raw run\n",
      "    **kwargs\n",
      "            Passed to RunRaw or RunSmart\n",
      "\n"
     ]
    }
   ],
   "source": [
    "help(HFMUtils.Run)"
   ]
  },
  {
   "cell_type": "markdown",
   "metadata": {},
   "source": [
    "### 1.1 Raw data\n",
    "\n",
    "The HamiltonFastMarching (HFM) library only expects and returns data in the following basic formats: \n",
    "- numpy arrays with elements of type *float64*\n",
    "- strings\n",
    "\n",
    "Furthermore, the dimensions of the arrays corresponding to physical space are expected to be the last ones. This convention is opposite to the one taken in the agd library, where the physical dimensions come first. For that reason it is not always convenient to input and output data in raw format"
   ]
  },
  {
   "cell_type": "code",
   "execution_count": 7,
   "metadata": {},
   "outputs": [
    {
     "name": "stdout",
     "output_type": "stream",
     "text": [
      "Help on function RunRaw in module agd.HFMUtils.run_detail:\n",
      "\n",
      "RunRaw(hfmIn)\n",
      "    Raw call to the HFM library\n",
      "\n"
     ]
    }
   ],
   "source": [
    "help(HFMUtils.RunRaw)"
   ]
  },
  {
   "cell_type": "code",
   "execution_count": 8,
   "metadata": {},
   "outputs": [],
   "source": [
    "hfmIn['metric'] = np.stack( (1./sig**2, 0.*sig, 2./sig**2), 2)"
   ]
  },
  {
   "cell_type": "code",
   "execution_count": 9,
   "metadata": {},
   "outputs": [
    {
     "name": "stdout",
     "output_type": "stream",
     "text": [
      "Field verbosity defaults to 1\n",
      "Field spreadSeeds defaults to -1\n",
      "Field showProgress defaults to 0\n",
      "Field factoringMethod defaults to None\n",
      "Fast marching solver completed in 0.015854 s.\n",
      "Field geodesicSolver defaults to Discrete\n",
      "Field geodesicStep defaults to 0.25\n",
      "Field geodesicWeightThreshold defaults to 0.001\n",
      "Field geodesicVolumeBound defaults to 8.45\n",
      "Field exportActiveNeighs defaults to 0\n",
      "Field exportGeodesicFlow defaults to 0\n",
      "\n"
     ]
    }
   ],
   "source": [
    "hfmOut = HFMUtils.Run(hfmIn,smart=False)"
   ]
  },
  {
   "cell_type": "markdown",
   "metadata": {},
   "source": [
    "The geodesics are also returned in a raw format, not so convenient, but which can be dealt with by the `HFMUtils.GetGeodesic` function."
   ]
  },
  {
   "cell_type": "code",
   "execution_count": 10,
   "metadata": {},
   "outputs": [
    {
     "data": {
      "text/plain": [
       "array([[-1.5       ,  0.16666667],\n",
       "       [-1.4982569 ,  0.17088473],\n",
       "       [-1.49623159,  0.17570491],\n",
       "       ...,\n",
       "       [ 0.01030596,  0.31783145],\n",
       "       [ 0.00803683,  0.31255899],\n",
       "       [ 0.005     ,  0.305     ]])"
      ]
     },
     "execution_count": 10,
     "metadata": {},
     "output_type": "execute_result"
    }
   ],
   "source": [
    "hfmOut['geodesicPoints']"
   ]
  },
  {
   "cell_type": "code",
   "execution_count": 11,
   "metadata": {},
   "outputs": [
    {
     "data": {
      "text/plain": [
       "array([587., 158., 153., 585., 543., 161., 159., 542., 534., 238., 238.,\n",
       "       532.])"
      ]
     },
     "execution_count": 11,
     "metadata": {},
     "output_type": "execute_result"
    }
   ],
   "source": [
    "hfmOut['geodesicLengths']"
   ]
  },
  {
   "cell_type": "code",
   "execution_count": 12,
   "metadata": {},
   "outputs": [
    {
     "data": {
      "image/png": "[encoded data removed]",
      "text/plain": [
       "<Figure size 432x216 with 1 Axes>"
      ]
     },
     "metadata": {
      "needs_background": "light"
     },
     "output_type": "display_data"
    }
   ],
   "source": [
    "fig = plt.figure(figsize=[6,3]); plt.title('Fisher-Rao distance and minimal geodesics'); plt.axis('equal'); \n",
    "plt.contourf(mu,sig,hfmOut['values'],cmap='Greys',levels=np.linspace(0,3,7));  # Display the value function. \n",
    "\n",
    "for geo in HFMUtils.GetGeodesics(hfmOut):  plt.plot(geo[:,0],geo[:,1])"
   ]
  },
  {
   "cell_type": "markdown",
   "metadata": {},
   "source": [
    "### 1.2 Smart data (Pre- and post-processed)\n",
    "\n",
    "For convenience, an optional pre- and post-processing of the communication with the HFM library is proposed. \n",
    "This is referred to as a smart run."
   ]
  },
  {
   "cell_type": "code",
   "execution_count": 13,
   "metadata": {},
   "outputs": [
    {
     "name": "stdout",
     "output_type": "stream",
     "text": [
      "Help on function RunSmart in module agd.HFMUtils.run_detail:\n",
      "\n",
      "RunSmart(hfmIn, tupleIn=(), tupleOut=None, returns='out')\n",
      "    Calls the HFM library, with pre-processing and post-processing of data.\n",
      "    \n",
      "    tupleIn and tupleOut are intended to make the inputs and outputs \n",
      "    visible to reverse automatic differentiation\n",
      "    - tupleIn : arguments specified as ((key_1,value_1), ..., (key_n,value_m))\n",
      "            take precedence over similar keys hfmIn\n",
      "    - tupleOut : (key_1, ..., key_n) corresponding to results \n",
      "            (value_1,...,value_n) to be return in a tuple\n",
      "    - returns : string in ('in_raw','out_raw','out')\n",
      "            early aborts the run and returns specified data\n",
      "\n"
     ]
    }
   ],
   "source": [
    "help(HFMUtils.RunSmart)"
   ]
  },
  {
   "cell_type": "code",
   "execution_count": 14,
   "metadata": {},
   "outputs": [],
   "source": [
    "hfmInS = hfmIn.copy()\n",
    "riemann = Metrics.Riemann.from_diagonal(1./sig**2,2./sig**2)\n",
    "hfmInS['metric'] = riemann"
   ]
  },
  {
   "cell_type": "code",
   "execution_count": 15,
   "metadata": {},
   "outputs": [
    {
     "name": "stdout",
     "output_type": "stream",
     "text": [
      "Field verbosity defaults to 1\n",
      "Field spreadSeeds defaults to -1\n",
      "Field showProgress defaults to 0\n",
      "Field factoringMethod defaults to None\n",
      "Fast marching solver completed in 0.017626 s.\n",
      "Field geodesicSolver defaults to Discrete\n",
      "Field geodesicStep defaults to 0.25\n",
      "Field geodesicWeightThreshold defaults to 0.001\n",
      "Field geodesicVolumeBound defaults to 8.45\n",
      "Field exportActiveNeighs defaults to 0\n",
      "Field exportGeodesicFlow defaults to 0\n",
      "\n"
     ]
    }
   ],
   "source": [
    "hfmOutS = HFMUtils.Run(hfmInS,smart=True)"
   ]
  },
  {
   "cell_type": "markdown",
   "metadata": {},
   "source": [
    "The geodesics are returned as a list of arrays, with appropriate shape."
   ]
  },
  {
   "cell_type": "code",
   "execution_count": 16,
   "metadata": {},
   "outputs": [
    {
     "data": {
      "text/plain": [
       "(list, (2, 587))"
      ]
     },
     "execution_count": 16,
     "metadata": {},
     "output_type": "execute_result"
    }
   ],
   "source": [
    "type(hfmOutS['geodesics']),hfmOutS['geodesics'][0].shape"
   ]
  },
  {
   "cell_type": "code",
   "execution_count": 17,
   "metadata": {},
   "outputs": [
    {
     "data": {
      "image/png": "[encoded data removed]",
      "text/plain": [
       "<Figure size 432x216 with 1 Axes>"
      ]
     },
     "metadata": {
      "needs_background": "light"
     },
     "output_type": "display_data"
    }
   ],
   "source": [
    "fig = plt.figure(figsize=[6,3]); plt.title('Fisher-Rao distance and minimal geodesics'); plt.axis('equal'); \n",
    "plt.contourf(mu,sig,hfmOutS['values'],cmap='Greys',levels=np.linspace(0,3,7));  # Display the value function. \n",
    "\n",
    "for geo in hfmOutS['geodesics']:  plt.plot(*geo)"
   ]
  },
  {
   "cell_type": "markdown",
   "metadata": {},
   "source": [
    "## 2. Saving data\n",
    "\n",
    "One can save in a file the data fed to HFMUtils library, in a format that can be directly read by the FileHFM library. This is particularly useful for debugging the C++ library.\n",
    "\n",
    "\n",
    "The following functions export and import raw data."
   ]
  },
  {
   "cell_type": "code",
   "execution_count": 18,
   "metadata": {},
   "outputs": [],
   "source": [
    "from agd.HFMUtils.FileIO import RawToFiles,FilesToRaw"
   ]
  },
  {
   "cell_type": "markdown",
   "metadata": {},
   "source": [
    "### 2.1 Exporting raw data"
   ]
  },
  {
   "cell_type": "code",
   "execution_count": 19,
   "metadata": {},
   "outputs": [
    {
     "name": "stdout",
     "output_type": "stream",
     "text": [
      "Help on function RawToFiles in module agd.HFMUtils.FileIO:\n",
      "\n",
      "RawToFiles(params, prefix='input')\n",
      "    Exports a dictionary to a pair of files, whose name begins with 'prefix'.\n",
      "    The dictionnary elements must by strings, scalars, and numpy arrays.\n",
      "    The resulting files are readable by the HFM library.\n",
      "\n"
     ]
    }
   ],
   "source": [
    "help(RawToFiles)"
   ]
  },
  {
   "cell_type": "code",
   "execution_count": 20,
   "metadata": {},
   "outputs": [],
   "source": [
    "RawToFiles(hfmIn,\"Figures/SmartIO/myinput\")\n",
    "RawToFiles(hfmOut,\"Figures/SmartIO/myoutput\")"
   ]
  },
  {
   "cell_type": "code",
   "execution_count": 21,
   "metadata": {},
   "outputs": [
    {
     "data": {
      "text/plain": [
       "['myoutput_Format.txt',\n",
       " 'myoutput_Data.dat',\n",
       " 'myinput_Data.dat',\n",
       " 'myinput_Format.txt']"
      ]
     },
     "execution_count": 21,
     "metadata": {},
     "output_type": "execute_result"
    }
   ],
   "source": [
    "os.listdir(\"Figures/SmartIO\")"
   ]
  },
  {
   "cell_type": "markdown",
   "metadata": {},
   "source": [
    "### 2.2 Importing raw data"
   ]
  },
  {
   "cell_type": "code",
   "execution_count": 22,
   "metadata": {},
   "outputs": [
    {
     "name": "stdout",
     "output_type": "stream",
     "text": [
      "Help on function FilesToRaw in module agd.HFMUtils.FileIO:\n",
      "\n",
      "FilesToRaw(prefix='output')\n",
      "    Imports a pair of files, whose name begins with 'prefix', into a dictionary.\n",
      "    These files may be produced by the HFM library.\n",
      "\n"
     ]
    }
   ],
   "source": [
    "help(FilesToRaw)"
   ]
  },
  {
   "cell_type": "code",
   "execution_count": 23,
   "metadata": {},
   "outputs": [],
   "source": [
    "def npdict_equal(dict0,dict1):\n",
    "    \"\"\"Tests if two dictionnaries, containing numpy arrays, are equal.\n",
    "    CPU time reports are ignored, as well as log.\"\"\"\n",
    "    if dict0.keys()!=dict1.keys(): return False,\"keys\"\n",
    "\n",
    "    for key in dict0:\n",
    "        if isinstance(dict0[key],np.ndarray):\n",
    "            if not np.array_equiv(dict0[key],dict1[key]): return False,key\n",
    "        elif key.endswith(\"CPUTime\") or key=='log':\n",
    "            pass\n",
    "        else:\n",
    "            if not dict0[key]==dict1[key]: return False,key\n",
    "    return True"
   ]
  },
  {
   "cell_type": "code",
   "execution_count": 24,
   "metadata": {},
   "outputs": [],
   "source": [
    "assert(npdict_equal(hfmIn,FilesToRaw(\"Figures/SmartIO/myinput\")))\n",
    "assert(npdict_equal(hfmOut,FilesToRaw(\"Figures/SmartIO/myoutput\")))"
   ]
  },
  {
   "cell_type": "markdown",
   "metadata": {},
   "source": [
    "### 2.2 Turning smart input into raw input"
   ]
  },
  {
   "cell_type": "markdown",
   "metadata": {},
   "source": [
    "A smart run can be early aborted to either:\n",
    "- return the raw input\n",
    "- return the raw output\n",
    "\n",
    "The resulting raw data can be saved as in the previous subsection."
   ]
  },
  {
   "cell_type": "code",
   "execution_count": 25,
   "metadata": {},
   "outputs": [
    {
     "name": "stdout",
     "output_type": "stream",
     "text": [
      "Field verbosity defaults to 1\n",
      "Field spreadSeeds defaults to -1\n",
      "Field showProgress defaults to 0\n",
      "Field factoringMethod defaults to None\n",
      "Fast marching solver completed in 0.018187 s.\n",
      "Field geodesicSolver defaults to Discrete\n",
      "Field geodesicStep defaults to 0.25\n",
      "Field geodesicWeightThreshold defaults to 0.001\n",
      "Field geodesicVolumeBound defaults to 8.45\n",
      "Field exportActiveNeighs defaults to 0\n",
      "Field exportGeodesicFlow defaults to 0\n",
      "\n"
     ]
    }
   ],
   "source": [
    "hfmInR = HFMUtils.Run(hfmInS,smart=True,returns='in_raw')\n",
    "hfmOutR = HFMUtils.Run(hfmInS,smart=True,returns='out_raw')"
   ]
  },
  {
   "cell_type": "code",
   "execution_count": 26,
   "metadata": {},
   "outputs": [],
   "source": [
    "assert(npdict_equal(hfmInR,hfmIn))\n",
    "assert(npdict_equal(hfmOutR,hfmOut))"
   ]
  },
  {
   "cell_type": "code",
   "execution_count": null,
   "metadata": {},
   "outputs": [],
   "source": []
  }
 ],
 "metadata": {
  "kernelspec": {
   "display_name": "Python 3",
   "language": "python",
   "name": "python3"
  },
  "language_info": {
   "codemirror_mode": {
    "name": "ipython",
    "version": 3
   },
   "file_extension": ".py",
   "mimetype": "text/x-python",
   "name": "python",
   "nbconvert_exporter": "python",
   "pygments_lexer": "ipython3",
   "version": "3.7.3"
  }
 },
 "nbformat": 4,
 "nbformat_minor": 2
}
