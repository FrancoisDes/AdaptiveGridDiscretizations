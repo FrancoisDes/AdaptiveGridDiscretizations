{
 "cells": [
  {
   "cell_type": "markdown",
   "metadata": {},
   "source": [
    "# The HFM library - A fast marching solver with adaptive stencils\n",
    "\n",
    "# Volume : Fast Marching Methods"
   ]
  },
  {
   "cell_type": "markdown",
   "metadata": {},
   "source": [
    "The HamiltonFastMarching (HFM) software is a C++ library designed to find globally optimal paths for a variety of problems. The [source](https://github.com/mirebeau/HamiltonFastMarching) features a number of examples in addition to those presented in the following notebooks, in the Python&reg;, Matlab&reg;, and Mathematica&reg; languages.\n",
    "\n",
    "This series of python notebooks are intended as documentation for the [HamiltonFastMarching (HFM) library](https://github.com/mirebeau/HamiltonFastMarching), which also has interfaces to the Matlab&reg; and Mathematica&reg; languages. \n",
    "They are also a companion for the manuscript :\n",
    "* Jean-Marie Mirebeau, Jorg Portegies, \"Hamiltonian Fast Marching: A numerical solver for anisotropic and non-holonomic eikonal PDEs\", 2019, IPOL [(link)](https://hal.archives-ouvertes.fr/hal-01778322)\n",
    "    \n",
    "\n",
    "Latest version of this summary [(view online)](http://nbviewer.jupyter.org/urls/rawgithub.com/Mirebeau/HFM_Python_Notebooks/master/Summary.ipynb)\n",
    "\n",
    "\n",
    "<!---\n",
    "* [Metrics arising from seismology](http://nbviewer.jupyter.org/urls/rawgithub.com/Mirebeau/HFM_Python_Notebooks/master/A8_Seismic.ipynb)\n",
    "-->\n",
    "\n",
    "\n",
    "## Notes on calling the Hamilton Fast Marching (HFM) library\n",
    "\n",
    "There are two ways to install the HFM library.\n",
    "* **Use the anaconda package.** \n",
    "A conda environnement containing the packages required to execute all the present notebooks is provided, see the installation instructions in the `README.md` file in the root directory. Thanks to Hugo Leclerc for setting up this solution (and Loic Gouarin on a previous version).\n",
    "Alternatively, should you want to install the HFM library alone, type the following in a console:\n",
    "```console\n",
    "conda install -c agd-lbr hfm\n",
    "```\n",
    "\n",
    "* **Compile from the sources.** You need to download a compile the HamiltonFastMarching library, from the sources : \n",
    "[HamiltonFastMarching](https://github.com/mirebeau/HamiltonFastMarching)\n",
    " and [JMM_CPPLibs](https://github.com/Mirebeau/JMM_CPPLibs).\n",
    "Compilation is routinely tested on MacOs, Windows, and Linux. A recent compiler is needed (C++17).\n",
    "In addition, you will need to set the path to the HFM library in file `FileHFM_binary_dir.txt`\n",
    "\n",
    "\n",
    "\n",
    "\n",
    "<!---\n",
    "There are two ways to call the HFM library from python code.\n",
    "\n",
    "* (Simple, but non-scalable and a bit ugly)\n",
    "Input and output are based on files written on the disk. \n",
    "\n",
    "* (Elegant and fast, when available)\n",
    "Input and output uses a direct link based on boost-python.  \n",
    "-->\n",
    "\n",
    "<!---\n",
    "In this series of notebooks, we use the first way.\n",
    "Indeed, in my experience (on an Apple&reg; computer), correctly linking boost-python can be non-trivial. This is mainly due to the presence of multiple python distributions on the system.\n",
    "-->"
   ]
  },
  {
   "cell_type": "code",
   "execution_count": 1,
   "metadata": {},
   "outputs": [
    {
     "data": {
      "application/javascript": [
       "IPython.OutputArea.auto_scroll_threshold = 9999;\n"
      ],
      "text/plain": [
       "<IPython.core.display.Javascript object>"
      ]
     },
     "metadata": {},
     "output_type": "display_data"
    }
   ],
   "source": [
    "%%javascript\n",
    "IPython.OutputArea.auto_scroll_threshold = 9999;"
   ]
  },
  {
   "cell_type": "code",
   "execution_count": 2,
   "metadata": {},
   "outputs": [],
   "source": [
    "import sys; sys.path.append(\"..\") # Allow imports from parent directory"
   ]
  },
  {
   "cell_type": "code",
   "execution_count": 3,
   "metadata": {},
   "outputs": [
    {
     "data": {
      "text/markdown": [
       "\n",
       "**Github repository** to run and modify the examples on your computer.\n",
       "[AdaptiveGridDiscretizations](https://github.com/Mirebeau/AdaptiveGridDiscretizations)\n",
       "\n"
      ],
      "text/plain": [
       "<IPython.core.display.Markdown object>"
      ]
     },
     "metadata": {},
     "output_type": "display_data"
    },
    {
     "data": {
      "text/markdown": [
       "# Table of contents"
      ],
      "text/plain": [
       "<IPython.core.display.Markdown object>"
      ]
     },
     "metadata": {},
     "output_type": "display_data"
    },
    {
     "data": {
      "text/markdown": [
       "[**Main summary**](../Summary.ipynb), including the other volumes of this work. "
      ],
      "text/plain": [
       "<IPython.core.display.Markdown object>"
      ]
     },
     "metadata": {},
     "output_type": "display_data"
    },
    {
     "data": {
      "text/markdown": [
       "### A. Isotropic and anisotropic metrics\n",
       "\n",
       " * I. [Classical isotropic fast marching](Isotropic.ipynb)\n",
       "\n",
       "  1. Description of the problem\n",
       "\n",
       "  2. Calling the solver\n",
       "\n",
       "  3. Displaying the results.\n",
       "\n",
       "  4. Introducing obstacles, and position dependent speed\n",
       "\n",
       "  5. Termination criteria\n",
       "\n",
       "  6. Side products of the fast marching algorithm\n",
       "\n",
       "  7. Using a time dependent speed function\n",
       "\n",
       "  8. Three dimensional fast marching\n",
       "\n",
       "  9. A variant : diagonal metrics\n",
       "\n",
       "\n",
       "\n",
       " * II. [Riemannian metrics](Riemannian.ipynb)\n",
       "\n",
       "  1. Two dimensional examples\n",
       "\n",
       "  2. Three dimensional examples\n",
       "\n",
       "  3. Sensitivity analysis\n",
       "\n",
       "  4. Voronoi regions\n",
       "\n",
       "  5. Dimension lifting\n",
       "\n",
       "\n",
       "\n",
       " * III. [Rander metrics](Rander.ipynb)\n",
       "\n",
       "  1. Zermelo's navigation problem\n",
       "\n",
       "  2. The Chan-Vese model\n",
       "\n",
       "\n",
       "\n",
       " * IV. [Asymmetric quadratic metrics](AsymmetricQuadratic.ipynb)\n",
       "\n",
       "  1. Case of a constant metric\n",
       "\n",
       "  2. Application to vessel segmentation\n",
       "\n",
       "\n",
       "\n",
       "### B. Non holonomic metrics and curvature penalization\n",
       "\n",
       " * I. [Curvature penalized planar paths.](Curvature.ipynb)\n",
       "\n",
       "  1. Defining the domain\n",
       "\n",
       "  2. Specifying the metric\n",
       "\n",
       "  3. Calling the software, and displaying the results.\n",
       "\n",
       "  4. Comparison of the different models.\n",
       "\n",
       "  5. Varying the cost function\n",
       "\n",
       "  6. Generalized models with non-uniform curvature penalization\n",
       "\n",
       "  7. Additional functionality\n",
       "\n",
       "\n",
       "\n",
       " * II. [Five dimensional Reeds-Shepp models.](Curvature3.ipynb)\n",
       "\n",
       "  1. The orientation space\n",
       "\n",
       "  2. Two paths to Rome\n",
       "\n",
       "  3. A motion planning example\n",
       "\n",
       "\n",
       "\n",
       " * III. [Customized curvature penalization](DeviationHorizontality.ipynb)\n",
       "\n",
       "  1. Re-creating the Reeds-Shepp model.\n",
       "\n",
       "  2. A synthetic tubular segmentation problem\n",
       "\n",
       "  3. Tubular structure extraction - cost based methods\n",
       "\n",
       "  4. Data-driven customization of the Reeds-Shepp model\n",
       "\n",
       "  5. Other curvature penalization models\n",
       "\n",
       "\n",
       "\n",
       "### C. Algorithmic enhancements to the fast marching method\n",
       "\n",
       " * I. [Achieving high accuracy](HighAccuracy.ipynb)\n",
       "\n",
       "  1. Poincare model of the hyperbolic plane\n",
       "\n",
       "  2. A Riemannian metric\n",
       "\n",
       "  3. A Rander metric\n",
       "\n",
       "  4. Asymmetric quadratic metrics (TODO)\n",
       "\n",
       "  5. Metric arising from seismology. (TODO)\n",
       "\n",
       "\n",
       "\n",
       " * II. [Sensitivity analysis](Sensitivity.ipynb)\n",
       "\n",
       "  1. Setting up the problem\n",
       "\n",
       "  2. Forward differentiation\n",
       "\n",
       "  3. Backward differentiation\n",
       "\n",
       "  4. An optimization problem : finding the cost function which maximizes distance\n",
       "\n",
       "  5. Sensitivity to several parameters\n",
       "\n",
       "\n",
       "\n",
       "### D. Application examples\n",
       "\n",
       " * I. [A mathematical model for Poggendorff's visual illusions](Illusion.ipynb)\n",
       "\n",
       "  1. Sub-Riemannian extrapolation\n",
       "\n",
       "  2. First Poggendorff illusion\n",
       "\n",
       "  3. Poggendorff's round illusion\n",
       "\n",
       "\n",
       "\n",
       " * II. [Tubular structure segmentation](Tubular.ipynb)\n",
       "\n",
       "  1. Preliminary image filtering\n",
       "\n",
       "  2. Isotropic models\n",
       "\n",
       "  3. Curvature penalized models\n",
       "\n",
       "  4. Other models\n",
       "\n",
       "\n",
       "\n",
       " * III. [Fisher-Rao distances](FisherRao.ipynb)\n",
       "\n",
       "  1. The univariate Gaussian\n",
       "\n",
       "\n",
       "\n",
       " * IV. [The Dubins-Zermelo problem](DubinsZermelo.ipynb)\n",
       "\n",
       "  1. Dubins' problem\n",
       "\n",
       "  2. Adding a constant drift\n",
       "\n",
       "  3. Non-constant drift\n",
       "\n",
       "\n",
       "\n",
       "### E. Seismology\n",
       "\n",
       " * I. [Metrics arising in seismic travel time tomography](Seismic.ipynb)\n",
       "\n",
       "  1. A constant medium, with tilted and anelliptic anisotropy\n",
       "\n",
       "  2. Varying medium\n",
       "\n",
       "  3. Taking into account the topography\n",
       "\n",
       "  4. Testing reproduction\n",
       "\n",
       "  4. Three dimensional example\n",
       "\n",
       "\n"
      ],
      "text/plain": [
       "<IPython.core.display.Markdown object>"
      ]
     },
     "metadata": {},
     "output_type": "display_data"
    }
   ],
   "source": [
    "from Miscellaneous import TocTools; TocTools.displayTOCs('FMM')"
   ]
  },
  {
   "cell_type": "code",
   "execution_count": null,
   "metadata": {},
   "outputs": [],
   "source": []
  }
 ],
 "metadata": {
  "kernelspec": {
   "display_name": "Python 3",
   "language": "python",
   "name": "python3"
  },
  "language_info": {
   "codemirror_mode": {
    "name": "ipython",
    "version": 3
   },
   "file_extension": ".py",
   "mimetype": "text/x-python",
   "name": "python",
   "nbconvert_exporter": "python",
   "pygments_lexer": "ipython3",
   "version": "3.7.3"
  },
  "latex_envs": {
   "LaTeX_envs_menu_present": true,
   "autocomplete": false,
   "bibliofile": "biblio.bib",
   "cite_by": "apalike",
   "current_citInitial": 1,
   "eqLabelWithNumbers": true,
   "eqNumInitial": 1,
   "hotkeys": {
    "equation": "Ctrl-E",
    "itemize": "Ctrl-I"
   },
   "labels_anchors": false,
   "latex_user_defs": false,
   "report_style_numbering": false,
   "user_envs_cfg": false
  }
 },
 "nbformat": 4,
 "nbformat_minor": 1
}
