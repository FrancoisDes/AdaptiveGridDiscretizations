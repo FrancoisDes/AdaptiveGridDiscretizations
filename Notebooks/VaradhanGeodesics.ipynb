{
 "cells": [
  {
   "cell_type": "markdown",
   "metadata": {},
   "source": [
    "# Extracting geodesics from the heat kernel\n",
    "\n",
    "This notebook is a numerical illustration of *Varadhan's formula*, which relates Riemannian geodesics and eikonal equations, with the heat kernel.\n",
    "\n",
    "We also present a variant of this method, devoted to Rander metrics, which are asymmetric perturbations of Riemannian metrics featuring a drift term.\n",
    "\n",
    "**Reference**\n",
    "\n",
    "The numerical scheme used for anisotropic diffusion in this notebook is taken from:\n",
    "* Fehrenbach, J., & Mirebeau, J.-M. (2014). Sparse non-negative stencils for anisotropic diffusion. Journal of Mathematical Imaging and Vision, 49(1), 123–147. http://doi.org/http://dx.doi.org/10.1007/s10851-013-0446-3\n",
    "\n",
    "The Varadhan formula was first numerically illustrated in:\n",
    "* Crane, K., Weischedel, C., & Wardetzky, M. (2013). Geodesics in heat: A new approach to computing distance based on heat flow. ACM Transactions on Graphics (TOG), 32(5), 152."
   ]
  },
  {
   "cell_type": "markdown",
   "metadata": {},
   "source": [
    "## 0. Importing the required libraries"
   ]
  },
  {
   "cell_type": "code",
   "execution_count": 3,
   "metadata": {},
   "outputs": [],
   "source": [
    "import sys; sys.path.append(\"..\") # Allow import from parent directory\n",
    "from NumericalSchemes import LinearParallel as lp\n",
    "from NumericalSchemes import LinearPDE"
   ]
  },
  {
   "cell_type": "code",
   "execution_count": 4,
   "metadata": {},
   "outputs": [],
   "source": [
    "import numpy as np\n",
    "import scipy.sparse as sp\n",
    "from scipy.sparse.linalg import spsolve\n",
    "from matplotlib import pyplot as plt"
   ]
  },
  {
   "cell_type": "markdown",
   "metadata": {},
   "source": [
    "## 1. Anisotropic diffusion and Riemannian distances\n",
    "\n",
    "Let $\\Omega \\subset R^d$ be a domain, and let $D : \\Omega \\to S_d^{++}$ be a field of diffusion tensors. \n",
    "Consider the elliptic optimization problem \n",
    "$$\n",
    "    \\min \\int_\\Omega \\epsilon^2 | \\nabla u(x)|^2_{D(x)} + u(x)^2\\, dx\n",
    "$$\n",
    "subject to Dirichlet boundary conditions on a part $\\Gamma_D \\subset \\partial \\Omega$ of the domain boundary \n",
    "$$\n",
    "    u=1 \\text{ on } \\Gamma_D,\n",
    "$$\n",
    "and (implicit) Neuman boundary conditions on $\\partial\\Omega \\setminus \\Gamma_D$. Denote by $u_\\epsilon$ the minimizer.\n",
    "\n",
    "Under adequate assumptions, one can show that \n",
    "$$\n",
    "    v_\\epsilon := -\\epsilon \\ln u_\\epsilon\n",
    "$$\n",
    "converges as $\\epsilon \\to 0^+$ to the distance function from $\\Gamma_D$ on $\\Omega$, measured with respect to the metric $M(x) := D(x)^{-1}$ that is inverse to the diffusion tensors. \n",
    "A justification for this fact is that the PDE\n",
    "$$\n",
    "    |\\nabla v(x)|_{D(x)}^2 - \\epsilon {\\rm div}( D(x) \\nabla v(x)) = 1\n",
    "$$\n",
    "is satisfied on $\\Omega$, along with the dirichlet boundary condition $v=0$ on $\\Gamma_D$.\n",
    "As $\\epsilon \\to 0$, the viscosity introduced by the second order operator vanishes, and one recovers the Riemannian eikonal equation."
   ]
  },
  {
   "cell_type": "code",
   "execution_count": 3,
   "metadata": {},
   "outputs": [],
   "source": [
    "dim=2\n",
    "bounds = (10,10)\n",
    "\n",
    "diff = np.zeros((dim,dim,)+bounds)\n",
    "diff[0,0]=1\n",
    "diff[1,1]=1"
   ]
  },
  {
   "cell_type": "code",
   "execution_count": 4,
   "metadata": {},
   "outputs": [],
   "source": [
    "(row,col,data) = LinearPDE.OperatorMatrix(diff)\n",
    "lap = sp.coo_matrix((data,(row,col)))"
   ]
  },
  {
   "cell_type": "code",
   "execution_count": 23,
   "metadata": {},
   "outputs": [],
   "source": [
    "rhs = np.zeros(bounds)\n",
    "rhs[8,5]=1\n",
    "rhs -= rhs.sum()/rhs.size"
   ]
  },
  {
   "cell_type": "code",
   "execution_count": 24,
   "metadata": {},
   "outputs": [],
   "source": [
    "sol = spsolve(lap.tocsr(),rhs.flatten()).reshape(bounds)"
   ]
  },
  {
   "cell_type": "code",
   "execution_count": 25,
   "metadata": {},
   "outputs": [
    {
     "data": {
      "text/plain": [
       "<matplotlib.contour.QuadContourSet at 0xa1d100908>"
      ]
     },
     "execution_count": 25,
     "metadata": {},
     "output_type": "execute_result"
    },
    {
     "data": {
      "image/png": "[encoded data removed]",
      "text/plain": [
       "<Figure size 432x288 with 1 Axes>"
      ]
     },
     "metadata": {
      "needs_background": "light"
     },
     "output_type": "display_data"
    }
   ],
   "source": [
    "plt.axis('equal')\n",
    "plt.contourf(sol)"
   ]
  },
  {
   "cell_type": "code",
   "execution_count": 6,
   "metadata": {},
   "outputs": [
    {
     "data": {
      "text/plain": [
       "(2, 2)"
      ]
     },
     "execution_count": 6,
     "metadata": {},
     "output_type": "execute_result"
    }
   ],
   "source": [
    "np.array([[\"a\",\"b\"],[\"bc\",\"d\"]]).shape"
   ]
  },
  {
   "cell_type": "code",
   "execution_count": 7,
   "metadata": {},
   "outputs": [
    {
     "data": {
      "text/plain": [
       "array([['Neumann', 'Neumann', 'Neumann'],\n",
       "       ['Neumann', 'Neumann', 'Neumann']], dtype='<U7')"
      ]
     },
     "execution_count": 7,
     "metadata": {},
     "output_type": "execute_result"
    }
   ],
   "source": [
    "np.full((2,3),'Neumann')"
   ]
  },
  {
   "cell_type": "code",
   "execution_count": 8,
   "metadata": {},
   "outputs": [
    {
     "data": {
      "text/plain": [
       "(2, 3, 4)"
      ]
     },
     "execution_count": 8,
     "metadata": {},
     "output_type": "execute_result"
    }
   ],
   "source": [
    "(2,3)+(4,)"
   ]
  },
  {
   "cell_type": "code",
   "execution_count": 10,
   "metadata": {},
   "outputs": [
    {
     "data": {
      "text/plain": [
       "2"
      ]
     },
     "execution_count": 10,
     "metadata": {},
     "output_type": "execute_result"
    }
   ],
   "source": [
    "a=-4\n",
    "a%=3\n",
    "a"
   ]
  },
  {
   "cell_type": "code",
   "execution_count": 13,
   "metadata": {},
   "outputs": [
    {
     "data": {
      "text/plain": [
       "array([[ True,  True],\n",
       "       [ True,  True]])"
      ]
     },
     "execution_count": 13,
     "metadata": {},
     "output_type": "execute_result"
    }
   ],
   "source": [
    "np.logical_not(np.full((2,2),False))"
   ]
  },
  {
   "cell_type": "code",
   "execution_count": null,
   "metadata": {},
   "outputs": [],
   "source": []
  }
 ],
 "metadata": {
  "kernelspec": {
   "display_name": "Python [default]",
   "language": "python",
   "name": "python3"
  },
  "language_info": {
   "codemirror_mode": {
    "name": "ipython",
    "version": 3
   },
   "file_extension": ".py",
   "mimetype": "text/x-python",
   "name": "python",
   "nbconvert_exporter": "python",
   "pygments_lexer": "ipython3",
   "version": "3.6.8"
  }
 },
 "nbformat": 4,
 "nbformat_minor": 2
}
