{
 "cells": [
  {
   "cell_type": "markdown",
   "metadata": {},
   "source": [
    "# Optimal transport non-linearities and boundary conditions, in 1D\n",
    "\n",
    "The PDE formulation of the optimal transport problem reads as follows:\n",
    "$$\n",
    "    f(x)-g(\\nabla u(x))\\det(\\nabla^2 u(x)) = 0,\n",
    "$$\n",
    "subject to the constraint\n",
    "$$\n",
    "    u \\quad \\text{convex},\n",
    "$$\n",
    "and the boundary condition\n",
    "$$\n",
    "    \\nabla u(X) = Y,\n",
    "$$\n",
    "where $X$ is the source domain, and $Y$ is the target domain. The parameters of the PDE are the densities $f$ and $g$, which are non-negative and subject to the compatibility condition\n",
    "$$\n",
    "    \\int_X f(x) dx = \\int_Y g(y) dy.\n",
    "$$\n",
    "\n",
    "This mathematical problem comes with a number of challenges, of both theoretical and numerical nature, including the:\n",
    "1. Full non-linearity of the second order operator.\n",
    "2. Constraint of convexity\n",
    "3. Unspecified non-linearity of the first order operator.\n",
    "4. Lack of a comparison principle.\n",
    "\n",
    "Challenges 1. and 2. are related with the Monge-Ampere operator $\\det(\\nabla^2 u)$. They are discussed  the notebook \n",
    "[C.I Monge-Ampere equations](http://nbviewer.jupyter.org/urls/rawgithub.com/Mirebeau/AdaptiveGridDiscretizations/master/Notebooks/MongeAmpere.ipynb)\n",
    "\n",
    "This notebook is devoted to challenges 3. and 4., in a simplified one dimensional setting.\n",
    "In practice, 3. is mostly an implementation problem. Substantial theoretical work has been required to address 4. however. It is based on the observation that the second boundary condition could be weakened into \n",
    "$$\n",
    "    \\nabla u(X) \\subset Y,\n",
    "$$\n",
    "and that equality must hold for the solution due to the compatibility condition relating the problem parameter densities.\n",
    "\n",
    "**Note on one dimensional optimal transport.**\n",
    "It is well known that one dimensional optimal transport (with a convex cost function) is nothing else than a sorting problem. As such it can be solved extremely efficiently, at a quasi-linear cost, and is considered a solved algorithmic problem.\n",
    "The interest of numerical techniques presented in this notebook lies is their possible extension to higher dimensions.\n",
    "\n",
    "**References**\n",
    "\n",
    "* Benamou, J.-D., & Duval, V. (2017). Minimal convex extensions and finite difference discretisation of the quadratic Monge--Kantorovich problem. European Journal of Applied Mathematics, 1–38."
   ]
  },
  {
   "cell_type": "markdown",
   "metadata": {},
   "source": [
    "## The one-dimensional problem\n",
    "\n",
    "In dimension one, the Monge-Ampere operator reduces to the usual laplacian operator, and the related difficulties 1. and 2. disappear. We are left with the equation\n",
    "$$\n",
    "    f(x) - g(u'(x)) u''(x) = 0,\n",
    "$$\n",
    "subject to the boundary conditions\n",
    "$$\n",
    "    u'(x_*) =  y_*, \\quad u'(x^*) = y^*,\n",
    "$$\n",
    "where $X=[x_*,x^*]$ and $Y = [y_*,y^*]$ are the source and target intervals. Again the problem parameters are subject to the compatibility conditions\n",
    "$$\n",
    "    \\int_{x_*}^{x^*} f(x) dx = \\int_{y_*}^{y^*} g(y) dy,\n",
    "$$\n",
    "and this allows to weaken the boundary conditions into \n",
    "$$\n",
    "    u'(x_*) \\geq  y_*, \\quad u'(x^*) \\leq y^*.\n",
    "$$"
   ]
  },
  {
   "cell_type": "markdown",
   "metadata": {},
   "source": [
    "## 0. Importing the required libraries"
   ]
  },
  {
   "cell_type": "code",
   "execution_count": 1,
   "metadata": {},
   "outputs": [],
   "source": [
    "import sys; sys.path.append(\"..\") # Allow import from parent directory\n",
    "from NumericalSchemes import Selling\n",
    "from NumericalSchemes import LinearParallel as lp\n",
    "from NumericalSchemes import FiniteDifferences as fd\n",
    "from NumericalSchemes import SparseAutomaticDifferentiation as spad"
   ]
  },
  {
   "cell_type": "code",
   "execution_count": 2,
   "metadata": {},
   "outputs": [],
   "source": [
    "import numpy as np\n",
    "import scipy.linalg; import scipy.sparse; import scipy.sparse.linalg \n",
    "from matplotlib import pyplot as plt\n",
    "import time"
   ]
  },
  {
   "cell_type": "markdown",
   "metadata": {},
   "source": [
    "Some utility functions"
   ]
  },
  {
   "cell_type": "code",
   "execution_count": 3,
   "metadata": {},
   "outputs": [],
   "source": [
    "def LInfNorm(a):\n",
    "    return np.max(np.abs(np.array(a)))"
   ]
  },
  {
   "cell_type": "code",
   "execution_count": 4,
   "metadata": {},
   "outputs": [],
   "source": [
    "def solve_residue(res):\n",
    "    return - scipy.sparse.linalg.spsolve(\n",
    "        scipy.sparse.coo_matrix(res.triplets()).tocsr(),\n",
    "        np.array(res).flatten()).reshape(res.shape)\n",
    "\n",
    "def solve_Newton(Scheme,params,guess,print_period=1,niter=8,relax=0.):\n",
    "    u = guess+spad.identity(guess.shape)\n",
    "    for i in range(niter):\n",
    "        residue = Scheme(u,*params)\n",
    "        if (i-1)%print_period ==0 or i==niter-1:\n",
    "            print(\"Iteration :\",i,\", Residue norm :\", LInfNorm(residue))\n",
    "        u += solve_residue(residue+relax)\n",
    "    return np.array(u)"
   ]
  },
  {
   "cell_type": "code",
   "execution_count": 5,
   "metadata": {},
   "outputs": [],
   "source": [
    "import importlib\n",
    "fd = importlib.reload(fd)\n",
    "spad = importlib.reload(spad)\n",
    "lp = importlib.reload(lp)\n",
    "Selling = importlib.reload(Selling)"
   ]
  },
  {
   "cell_type": "markdown",
   "metadata": {},
   "source": [
    "## 1. Second boundary conditions\n",
    "\n",
    "We further simplify the problem and assume $g \\equiv 1$, to study the weakened *second boundary conditions* that we rewrite as \n",
    "$$\n",
    "    y_* - u'(x_*) \\leq 0, \\quad u'(x^*) - y^*\\leq 0,\n",
    "$$\n",
    "at the endponts of the interval $[x_*,x^*]$ of definition of the problem solution $u$.\n",
    "Recall that the PDE solved is \n",
    "$$\n",
    "    f(x) - u''(x) = 0,\n",
    "$$\n",
    "and that we have \n",
    "$$\n",
    "    \\int_{x_*}^{x^*} f(x) dx = y^*-y_*.\n",
    "$$\n",
    "\n",
    "**Explicit solution.**\n",
    "The above problem admits a one dimensional, family of explicit solutions. Namely\n",
    "$$\n",
    "u(x) = \\alpha + r x + v(x),\n",
    "$$\n",
    "where $v$ is a second primitive of $u$, and the constant $r$ is adequately chosen to match the boundary conditions.\n",
    "The other constant, named $\\alpha$, is *arbitrary*.\n",
    "\n",
    "### Montone discretization\n",
    "\n",
    "We may define a monotone (degenerate elliptic) discretization of the boundary conditions, using upwind finite differences as follows\n",
    "$$\n",
    "    \\max\\{0,y_* - \\frac{u(x_*+h)-u(x_*)} h\\} = 0, \\quad \\max\\{0,\\frac{u(x^*)-u(x^*-h)} h - y^*\\}= 0.\n",
    "$$\n",
    "We also use the standard discretization of the laplacian operator in the interior.\n",
    "\n",
    "The resulting discretization obeys the assumptions of a degenerate elliptic (monotone) scheme, since it takes the form\n",
    "$$\n",
    "    F u(x) := F(x,u(x),(u(x)-u(x'))_{x' \\in X} ),\n",
    "$$\n",
    "where $F$ is a non-decreasing function of its second and third arguments.\n",
    "\n",
    "### Non-uniqueness and lack of a comparision principle\n",
    "\n",
    "The continuous problems admits, as mentioned above, a one dimensional family of solutions. The discrete problem, on the other hand, admits either no solution, or a large and typically multi-dimensional family of solutions.\n",
    "\n",
    "These indeterminacies reflect a failure of the comparison principle, due to the impossibility to perturb a given solution into a strict sub-solution."
   ]
  },
  {
   "cell_type": "code",
   "execution_count": 6,
   "metadata": {},
   "outputs": [],
   "source": [
    "def Scheme(u,f,bc,h):\n",
    "    residue = f-fd.Diff2(u,(1,),h)\n",
    "    residue[0]  = spad.maximum(0.,bc[0] - (u[1]-u[0])/h)\n",
    "    residue[-1] = spad.maximum(0.,(u[-1]-u[-2])/h - bc[1])\n",
    "    return residue"
   ]
  },
  {
   "cell_type": "code",
   "execution_count": 7,
   "metadata": {},
   "outputs": [],
   "source": [
    "X = np.linspace(-1,1,101,endpoint=True)\n",
    "gridScale = X[1]-X[0]\n",
    "f = 1.+0.9*np.sin(2.*np.pi*X)\n",
    "bc = np.array((-1,1))\n",
    "\n",
    "guess = np.zeros(X.shape)"
   ]
  },
  {
   "cell_type": "markdown",
   "metadata": {},
   "source": [
    "The discretized problem is linear. However, the jacobian matrix $J$ is rank deficient and non-invertible.\n",
    "Fortunately, thanks to the scheme monotony, the matrix \n",
    "$$\n",
    "    J+\\epsilon {\\rm Id} \n",
    "$$\n",
    "is invertible for every $\\epsilon>0$.\n",
    "We use an iterative method, featuring such a relaxation, so solve the problem.\n",
    "\n",
    "In order to illustrate the dichotomy between *no solution* and *infinitely may solutions, we perturb a bit the boundary conditions.\n",
    "\n",
    "**Note on convergence (No solution).**\n",
    "The discretized problem addressed here has *no solution*. As a result, the Newton solver residues do not tend to zero (or numerical precision). This is expected behavior."
   ]
  },
  {
   "cell_type": "code",
   "execution_count": 8,
   "metadata": {},
   "outputs": [
    {
     "name": "stdout",
     "output_type": "stream",
     "text": [
      "Iteration : 0 , Residue norm : 1.8982240555854444\n",
      "Iteration : 1 , Residue norm : 0.12636527953248167\n",
      "Iteration : 2 , Residue norm : 3.004300912710269\n",
      "Iteration : 3 , Residue norm : 0.11427135703730329\n",
      "Iteration : 4 , Residue norm : 0.007087103604890288\n",
      "Iteration : 5 , Residue norm : 0.005254916516888031\n",
      "Iteration : 6 , Residue norm : 0.006685894954716609\n",
      "Iteration : 7 , Residue norm : 0.006683393190220599\n"
     ]
    }
   ],
   "source": [
    "bc2 = np.array((-1,1-2*gridScale))\n",
    "params = (f,bc2,gridScale)\n",
    "relax = spad.identity(X.shape)*gridScale\n",
    "solution = solve_Newton(Scheme,params,guess,relax=relax)"
   ]
  },
  {
   "cell_type": "code",
   "execution_count": 9,
   "metadata": {},
   "outputs": [
    {
     "data": {
      "image/png": "[encoded data removed]",
      "text/plain": [
       "<Figure size 432x288 with 1 Axes>"
      ]
     },
     "metadata": {
      "needs_background": "light"
     },
     "output_type": "display_data"
    }
   ],
   "source": [
    "plt.title(\"Closest solution to 1-d optimal transport problem\")\n",
    "plt.plot(X,solution);"
   ]
  },
  {
   "cell_type": "markdown",
   "metadata": {},
   "source": [
    "We next perturb a bit the boundary conditions, ensuring, this time, that the discretized problem has *an infinity of solutions*.\n",
    "\n",
    "**Note on convergence (degenerate solutions).**\n",
    "The discretized problem addressed here has a two dimensional non-linear family of solutions. It is also non-differentiable. As a result, the Newton solve takes more steps to reach numerical precision than what could be expected for problems this size."
   ]
  },
  {
   "cell_type": "code",
   "execution_count": 10,
   "metadata": {},
   "outputs": [
    {
     "name": "stdout",
     "output_type": "stream",
     "text": [
      "Iteration : 0 , Residue norm : 1.8982240555854444\n",
      "Iteration : 1 , Residue norm : 0.12636527953248167\n",
      "Iteration : 2 , Residue norm : 2.924300912710269\n",
      "Iteration : 3 , Residue norm : 0.11126983809208268\n",
      "Iteration : 4 , Residue norm : 0.006901327729131879\n",
      "Iteration : 5 , Residue norm : 0.00044177872508655014\n",
      "Iteration : 6 , Residue norm : 2.8353774990108604e-05\n",
      "Iteration : 7 , Residue norm : 1.8201992091348984e-06\n",
      "Iteration : 8 , Residue norm : 1.1685201251054878e-07\n",
      "Iteration : 9 , Residue norm : 7.501617105276637e-09\n",
      "Iteration : 10 , Residue norm : 4.815881027298019e-10\n",
      "Iteration : 11 , Residue norm : 3.297728756734841e-11\n",
      "Iteration : 12 , Residue norm : 1.2192469256433469e-11\n",
      "Iteration : 13 , Residue norm : 8.259171124791465e-12\n",
      "Iteration : 14 , Residue norm : 1.0933476346508542e-11\n"
     ]
    }
   ],
   "source": [
    "bc3 = np.array((-1,1+2*gridScale))\n",
    "params = (f,bc3,gridScale)\n",
    "relax = spad.identity(X.shape) * gridScale\n",
    "solution = solve_Newton(Scheme,params,guess,relax=relax,niter=15)"
   ]
  },
  {
   "cell_type": "markdown",
   "metadata": {},
   "source": [
    "## 2. Non-linearity in the gradient \n",
    "\n",
    "We solve the PDE \n",
    "$$\n",
    "f(x)/g(u'(x)) - u''(x)=0\n",
    "$$"
   ]
  },
  {
   "cell_type": "code",
   "execution_count": 11,
   "metadata": {},
   "outputs": [
    {
     "ename": "SyntaxError",
     "evalue": "invalid syntax (<ipython-input-11-5a36bff524c1>, line 3)",
     "output_type": "error",
     "traceback": [
      "\u001b[0;36m  File \u001b[0;32m\"<ipython-input-11-5a36bff524c1>\"\u001b[0;36m, line \u001b[0;32m3\u001b[0m\n\u001b[0;31m    s=\u001b[0m\n\u001b[0m      ^\u001b[0m\n\u001b[0;31mSyntaxError\u001b[0m\u001b[0;31m:\u001b[0m invalid syntax\n"
     ]
    }
   ],
   "source": [
    "#def LinearInterpolate(data,position,bounds,mode='clip',axis=0):\n",
    "#    endpoint=not (mode==wrap)\n",
    "#    s="
   ]
  },
  {
   "cell_type": "code",
   "execution_count": null,
   "metadata": {},
   "outputs": [],
   "source": [
    "def MultilinearInterpolate(data,position,bounds,mode='clip'):\n",
    "    endpoint = not (mode=='wrap')\n",
    "        \n",
    "    shape = data.shape[:len(position)]\n",
    "    index_continuous = (shape-int(endpoint))*(position - bounds[0])/(bounds[0]-bounds[1])\n",
    "    index0 = np.floor(index_continuous).astype(int)\n",
    "    index1 = np.ceil(index_continuous).astype(int)\n",
    "    index_rem = index_continuous-index0\n",
    "    \n",
    "    for x0,x1,s in zip(index0,index1,shape):\n",
    "        if mode=='wrap':\n",
    "            index0=index0%s\n",
    "            index1=index1%s\n",
    "        elif mode=='clip':\n",
    "            index0 = np.min(np.max(index0,0),s-1)\n",
    "            index1 = np.min(np.max(index1,0),s-1)\n",
    "    \n",
    "    assert 0\n",
    "\n",
    "\n",
    "        \n",
    "    \n",
    "    "
   ]
  },
  {
   "cell_type": "code",
   "execution_count": null,
   "metadata": {},
   "outputs": [],
   "source": [
    "from scipy.interpolate import RegularGridInterpolator"
   ]
  },
  {
   "cell_type": "code",
   "execution_count": null,
   "metadata": {},
   "outputs": [],
   "source": [
    "interp = RegularGridInterpolator((X,),np.sin(X))"
   ]
  },
  {
   "cell_type": "code",
   "execution_count": null,
   "metadata": {},
   "outputs": [],
   "source": [
    "interp([[0.5]])"
   ]
  },
  {
   "cell_type": "code",
   "execution_count": null,
   "metadata": {},
   "outputs": [],
   "source": [
    "np.sin(0.5)"
   ]
  },
  {
   "cell_type": "code",
   "execution_count": null,
   "metadata": {},
   "outputs": [],
   "source": []
  },
  {
   "cell_type": "code",
   "execution_count": null,
   "metadata": {},
   "outputs": [],
   "source": [
    "interp(spad.identity(X.shape)+X)"
   ]
  },
  {
   "cell_type": "code",
   "execution_count": null,
   "metadata": {},
   "outputs": [],
   "source": []
  }
 ],
 "metadata": {
  "kernelspec": {
   "display_name": "Python 3",
   "language": "python",
   "name": "python3"
  },
  "language_info": {
   "codemirror_mode": {
    "name": "ipython",
    "version": 3
   },
   "file_extension": ".py",
   "mimetype": "text/x-python",
   "name": "python",
   "nbconvert_exporter": "python",
   "pygments_lexer": "ipython3",
   "version": "3.6.8"
  }
 },
 "nbformat": 4,
 "nbformat_minor": 2
}
