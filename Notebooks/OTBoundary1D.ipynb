{
 "cells": [
  {
   "cell_type": "markdown",
   "metadata": {},
   "source": [
    "# Optimal transport non-linearities and boundary conditions, in 1D\n",
    "\n",
    "The PDE formulation of the optimal transport problem reads as follows:\n",
    "$$\n",
    "    f(x)-g(\\nabla u(x))\\det(\\nabla^2 u(x)) = 0,\n",
    "$$\n",
    "subject to the constraint\n",
    "$$\n",
    "    u \\quad \\text{convex},\n",
    "$$\n",
    "and the boundary condition\n",
    "$$\n",
    "    \\nabla u(X) = Y,\n",
    "$$\n",
    "where $X$ is the source domain, and $Y$ is the target domain. The parameters of the PDE are the densities $f$ and $g$, which are non-negative and subject to the compatibility condition\n",
    "$$\n",
    "    \\int_X f(x) dx = \\int_Y g(y) dy.\n",
    "$$\n",
    "\n",
    "This mathematical problem comes with a number of challenges, of both theoretical and numerical nature, including the:\n",
    "1. Full non-linearity of the second order operator.\n",
    "2. Constraint of convexity\n",
    "3. Unspecified non-linearity of the first order operator.\n",
    "4. Lack of a comparison principle.\n",
    "\n",
    "Challenges 1. and 2. are related with the Monge-Ampere operator $\\det(\\nabla^2 u)$. They are discussed  the notebook \n",
    "[C.I Monge-Ampere equations](http://nbviewer.jupyter.org/urls/rawgithub.com/Mirebeau/AdaptiveGridDiscretizations/master/Notebooks/MongeAmpere.ipynb)\n",
    "\n",
    "This notebook is devoted to challenges 3. and 4., in a simplified one dimensional setting.\n",
    "In practice, 3. is mostly an implementation problem. Substantial theoretical work has been required to address 4. however. It is based on the observation that the second boundary condition could be weakened into \n",
    "$$\n",
    "    \\nabla u(X) \\subset Y,\n",
    "$$\n",
    "and that equality must hold for the solution due to the compatibility condition relating the problem parameter densities.\n",
    "\n",
    "**Note on one dimensional optimal transport.**\n",
    "It is well known that one dimensional optimal transport (with a convex cost function) is nothing else than a sorting problem. As such it can be solved extremely efficiently, at a quasi-linear cost, and is considered a solved algorithmic problem.\n",
    "The interest of numerical techniques presented in this notebook lies is their possible extension to higher dimensions.\n",
    "\n",
    "**References**\n",
    "\n",
    "* Benamou, J.-D., & Duval, V. (2017). Minimal convex extensions and finite difference discretisation of the quadratic Monge--Kantorovich problem. European Journal of Applied Mathematics, 1–38."
   ]
  },
  {
   "cell_type": "markdown",
   "metadata": {},
   "source": [
    "## The one-dimensional problem\n",
    "\n",
    "In dimension one, the Monge-Ampere operator reduces to the usual laplacian operator, and the related difficulties 1. and 2. disappear. We are left with the equation\n",
    "$$\n",
    "    f(x) - g(u'(x)) u''(x) = 0,\n",
    "$$\n",
    "subject to the boundary conditions\n",
    "$$\n",
    "    u'(x_*) =  y_*, \\quad u'(x^*) = y^*,\n",
    "$$\n",
    "where $X=[x_*,x^*]$ and $Y = [y_*,y^*]$ are the source and target intervals. Again the problem parameters are subject to the compatibility conditions\n",
    "$$\n",
    "    \\int_{x_*}^{x^*} f(x) dx = \\int_{y_*}^{y^*} g(y) dy,\n",
    "$$\n",
    "and this allows to weaken the boundary conditions into \n",
    "$$\n",
    "    u'(x_*) \\geq  y_*, \\quad u'(x^*) \\leq y^*.\n",
    "$$"
   ]
  },
  {
   "cell_type": "markdown",
   "metadata": {},
   "source": [
    "## 0. Importing the required libraries"
   ]
  },
  {
   "cell_type": "code",
   "execution_count": 1,
   "metadata": {},
   "outputs": [],
   "source": [
    "import sys; sys.path.append(\"..\") # Allow import from parent directory\n",
    "from NumericalSchemes import Selling\n",
    "from NumericalSchemes import LinearParallel as lp\n",
    "from NumericalSchemes import FiniteDifferences as fd\n",
    "spad = fd.spAD # Alternatively : from NumericalSchemes import SparseAutomaticDifferentiation as spad"
   ]
  },
  {
   "cell_type": "code",
   "execution_count": 2,
   "metadata": {},
   "outputs": [],
   "source": [
    "import numpy as np\n",
    "import scipy.linalg; import scipy.sparse; import scipy.sparse.linalg \n",
    "from matplotlib import pyplot as plt\n",
    "import time"
   ]
  },
  {
   "cell_type": "markdown",
   "metadata": {},
   "source": [
    "Some utility functions"
   ]
  },
  {
   "cell_type": "code",
   "execution_count": 3,
   "metadata": {},
   "outputs": [],
   "source": [
    "def LInfNorm(a):\n",
    "    return np.max(np.abs(a))"
   ]
  },
  {
   "cell_type": "code",
   "execution_count": 4,
   "metadata": {},
   "outputs": [],
   "source": [
    "def solve_residue(res):\n",
    "    return - scipy.sparse.linalg.spsolve(\n",
    "        scipy.sparse.coo_matrix(res.triplets()).tocsr(),\n",
    "        res.value.flatten()).reshape(res.shape)\n",
    "\n",
    "def solve_Newton(Scheme,params,guess,print_period=1,niter=8,relax=0.):\n",
    "    u = spad.identity(guess.shape)+guess\n",
    "    for i in range(niter):\n",
    "        start_time = time.time()\n",
    "        residue = Scheme(u,*params)\n",
    "        residue_time = time.time()\n",
    "        u.value += solve_residue(residue + relax)\n",
    "        solve_time = time.time()\n",
    "        if (i-1)%print_period ==0  or i==niter-1:\n",
    "            print(\"Iteration :\",i,\", Residue norm :\", LInfNorm(residue.value)) # Before solve\n",
    "    return u.value"
   ]
  },
  {
   "cell_type": "code",
   "execution_count": 5,
   "metadata": {},
   "outputs": [],
   "source": [
    "import importlib\n",
    "fd = importlib.reload(fd)\n",
    "spad = importlib.reload(spad)\n",
    "lp = importlib.reload(lp)\n",
    "Selling = importlib.reload(Selling)"
   ]
  },
  {
   "cell_type": "markdown",
   "metadata": {},
   "source": [
    "## 1. Second boundary conditions\n",
    "\n",
    "We further simplify the problem and assume $g \\equiv 1$, to study the weakened *second boundary conditions* that we rewrite as \n",
    "$$\n",
    "    y_* - u'(x_*) \\leq 0, \\quad u'(x^*) - y^*\\leq 0,\n",
    "$$\n",
    "at the endponts of the interval $[x_*,x^*]$ of definition of the problem solution $u$.\n",
    "Recall that the PDE solved is \n",
    "$$\n",
    "    f(x) - u''(x) = 0,\n",
    "$$\n",
    "and that we have \n",
    "$$\n",
    "    \\int_{x_*}^{x^*} f(x) dx = y^*-y_*.\n",
    "$$\n",
    "\n",
    "**Explicit solution.**\n",
    "The above problem admits a one dimensional, family of explicit solutions. Namely\n",
    "$$\n",
    "u(x) = \\alpha + r x + v(x),\n",
    "$$\n",
    "where $v$ is a second primitive of $u$, and the constant $r$ is adequately chosen to match the boundary conditions.\n",
    "The other constant, named $\\alpha$, is *arbitrary*.\n",
    "\n",
    "### Montone discretization\n",
    "\n",
    "We may define a monotone (degenerate elliptic) discretization of the boundary conditions, using upwind finite differences as follows\n",
    "$$\n",
    "    \\max\\{0,y_* - \\frac{u(x_*+h)-u(x_*)} h\\} = 0, \\quad \\max\\{0,\\frac{u(x^*)-u(x^*-h)} h - y^*\\}= 0.\n",
    "$$\n",
    "We also use the standard discretization of the laplacian operator in the interior.\n",
    "\n",
    "The resulting discretization obeys the assumptions of a degenerate elliptic (monotone) scheme, since it takes the form\n",
    "$$\n",
    "    F u(x) := F(x,u(x),(u(x)-u(x'))_{x' \\in X} ),\n",
    "$$\n",
    "where $F$ is a non-decreasing function of its second and third arguments.\n",
    "\n",
    "### Non-uniqueness and lack of a comparision principle\n",
    "\n",
    "The continuous problems admits, as mentioned above, a one dimensional family of solutions. The discrete problem, on the other hand, admits either no solution, or a large and typically multi-dimensional family of solutions.\n",
    "\n",
    "These indeterminacies reflect a failure of the comparison principle, due to the impossibility to perturb a given solution into a strict sub-solution."
   ]
  },
  {
   "cell_type": "code",
   "execution_count": 68,
   "metadata": {},
   "outputs": [],
   "source": [
    "def Scheme(u,f,bc,h):\n",
    "    f,bc = (spad.cast_left_operand(e,u) for e in (f,bc))\n",
    "    residue = f-fd.Diff2(u,(1,),h)\n",
    "    residue[0]  = spad.maximum(0.,bc[0] - (u[1]-u[0])/h)\n",
    "    residue[-1] = spad.maximum(0.,(u[-1]-u[-2])/h - bc[1])\n",
    "    return residue"
   ]
  },
  {
   "cell_type": "code",
   "execution_count": 69,
   "metadata": {},
   "outputs": [],
   "source": [
    "X = np.linspace(-1,1,101,endpoint=True)\n",
    "gridScale = X[1]-X[0]\n",
    "f = 1.+0.9*np.sin(2.*np.pi*X)\n",
    "bc = np.array((-1,1))\n",
    "\n",
    "guess = np.zeros(X.shape)"
   ]
  },
  {
   "cell_type": "markdown",
   "metadata": {},
   "source": [
    "The discretized problem is linear. However, the jacobian matrix $J$ is rank deficient and non-invertible.\n",
    "Fortunately, thanks to the scheme monotony, the matrix \n",
    "$$\n",
    "    J+\\epsilon {\\rm Id} \n",
    "$$\n",
    "is invertible for every $\\epsilon>0$.\n",
    "We use an iterative method, featuring such a relaxation, so solve the problem.\n",
    "\n",
    "In order to illustrate the dichotomy between *no solution* and *infinitely may solutions, we perturb a bit the boundary conditions.\n",
    "\n",
    "**Note on convergence (No solution).**\n",
    "The discretized problem addressed here has *no solution*. As a result, the Newton solver residues do not tend to zero (or numerical precision). This is expected behavior."
   ]
  },
  {
   "cell_type": "code",
   "execution_count": 87,
   "metadata": {},
   "outputs": [
    {
     "name": "stdout",
     "output_type": "stream",
     "text": [
      "Iteration : 0 , Residue norm : 1.8982240555854444\n",
      "Iteration : 1 , Residue norm : 0.12636527953248167\n",
      "Iteration : 2 , Residue norm : 0.009998009013359899\n",
      "Iteration : 3 , Residue norm : 0.005066525567447577\n",
      "Iteration : 4 , Residue norm : 0.005025995705958408\n",
      "Iteration : 5 , Residue norm : 0.00502514748832894\n",
      "Iteration : 6 , Residue norm : 0.005025126195161711\n",
      "Iteration : 7 , Residue norm : 0.005025125643211226\n"
     ]
    }
   ],
   "source": [
    "bc2 = np.array((-1,1-2*gridScale))\n",
    "params = (f,bc2,gridScale)\n",
    "relax = spad.identity(X.shape)*gridScale\n",
    "solution = solve_Newton(Scheme,params,guess,relax=relax)"
   ]
  },
  {
   "cell_type": "code",
   "execution_count": 71,
   "metadata": {},
   "outputs": [
    {
     "data": {
      "image/png": "[encoded data removed]",
      "text/plain": [
       "<Figure size 432x288 with 1 Axes>"
      ]
     },
     "metadata": {
      "needs_background": "light"
     },
     "output_type": "display_data"
    }
   ],
   "source": [
    "plt.title(\"Closest solution to 1-d optimal transport problem\")\n",
    "plt.plot(X,solution);"
   ]
  },
  {
   "cell_type": "markdown",
   "metadata": {},
   "source": [
    "We next perturb a bit the boundary conditions, ensuring, this time, that the discretized problem has *an infinity of solutions*.\n",
    "\n",
    "**Note on convergence (degenerate solutions).**\n",
    "The discretized problem addressed here has a two dimensional non-linear family of solutions. It is also non-differentiable. As a result, the Newton solve takes more steps to reach numerical precision than what could be expected for problems this size."
   ]
  },
  {
   "cell_type": "code",
   "execution_count": 89,
   "metadata": {},
   "outputs": [
    {
     "name": "stdout",
     "output_type": "stream",
     "text": [
      "Iteration : 0 , Residue norm : 1.8982240555854444\n",
      "Iteration : 1 , Residue norm : 0.12636527953248167\n",
      "Iteration : 2 , Residue norm : 0.0049899647157736204\n",
      "Iteration : 3 , Residue norm : 0.0003108032158998242\n",
      "Iteration : 4 , Residue norm : 1.9903133235965598e-05\n",
      "Iteration : 5 , Residue norm : 1.2774458824083013e-06\n",
      "Iteration : 6 , Residue norm : 8.200718704109988e-08\n",
      "Iteration : 7 , Residue norm : 5.264649827196877e-09\n",
      "Iteration : 8 , Residue norm : 3.3797675769164925e-10\n",
      "Iteration : 9 , Residue norm : 2.169642243643466e-11\n",
      "Iteration : 10 , Residue norm : 1.7261747586871934e-12\n",
      "Iteration : 11 , Residue norm : 6.539213615042172e-13\n",
      "Iteration : 12 , Residue norm : 9.017231406005521e-13\n",
      "Iteration : 13 , Residue norm : 8.151257446797899e-13\n",
      "Iteration : 14 , Residue norm : 6.898925875020723e-13\n"
     ]
    }
   ],
   "source": [
    "bc3 = np.array((-1,1+2*gridScale))\n",
    "params = (f,bc3,gridScale)\n",
    "relax = spad.identity(X.shape) * gridScale\n",
    "solution = solve_Newton(Scheme,params,guess,relax=relax,niter=15)"
   ]
  },
  {
   "cell_type": "markdown",
   "metadata": {},
   "source": [
    "## 2. Non-linearity in the gradient \n",
    "\n",
    "We solve the PDE \n",
    "$$\n",
    "f(x)/g(u'(x)) - u''(x)=0\n",
    "$$"
   ]
  },
  {
   "cell_type": "code",
   "execution_count": null,
   "metadata": {},
   "outputs": [],
   "source": [
    "def LinearInterpolate(data,position,bounds,mode='clip',axis=0):\n",
    "    endpoint=not (mode==wrap)\n",
    "    s="
   ]
  },
  {
   "cell_type": "code",
   "execution_count": null,
   "metadata": {},
   "outputs": [],
   "source": [
    "def MultilinearInterpolate(data,position,bounds,mode='clip'):\n",
    "    endpoint = not (mode=='wrap')\n",
    "        \n",
    "    shape = data.shape[:len(position)]\n",
    "    index_continuous = (shape-int(endpoint))*(position - bounds[0])/(bounds[0]-bounds[1])\n",
    "    index0 = np.floor(index_continuous).astype(int)\n",
    "    index1 = np.ceil(index_continuous).astype(int)\n",
    "    index_rem = index_continuous-index0\n",
    "    \n",
    "    for x0,x1,s in zip(index0,index1,shape):\n",
    "        if mode=='wrap':\n",
    "            index0=index0%s\n",
    "            index1=index1%s\n",
    "        elif mode=='clip':\n",
    "            index0 = np.min(np.max(index0,0),s-1)\n",
    "            index1 = np.min(np.max(index1,0),s-1)\n",
    "    \n",
    "    assert 0\n",
    "\n",
    "\n",
    "        \n",
    "    \n",
    "    "
   ]
  },
  {
   "cell_type": "code",
   "execution_count": 91,
   "metadata": {},
   "outputs": [],
   "source": [
    "from scipy.interpolate import RegularGridInterpolator"
   ]
  },
  {
   "cell_type": "code",
   "execution_count": 95,
   "metadata": {},
   "outputs": [],
   "source": [
    "interp = RegularGridInterpolator((X,),np.sin(X))"
   ]
  },
  {
   "cell_type": "code",
   "execution_count": 99,
   "metadata": {},
   "outputs": [
    {
     "data": {
      "text/plain": [
       "array([0.47942554])"
      ]
     },
     "execution_count": 99,
     "metadata": {},
     "output_type": "execute_result"
    }
   ],
   "source": [
    "interp([[0.5]])"
   ]
  },
  {
   "cell_type": "code",
   "execution_count": 100,
   "metadata": {},
   "outputs": [
    {
     "data": {
      "text/plain": [
       "0.479425538604203"
      ]
     },
     "execution_count": 100,
     "metadata": {},
     "output_type": "execute_result"
    }
   ],
   "source": [
    "np.sin(0.5)"
   ]
  },
  {
   "cell_type": "code",
   "execution_count": null,
   "metadata": {},
   "outputs": [],
   "source": []
  },
  {
   "cell_type": "code",
   "execution_count": 102,
   "metadata": {},
   "outputs": [
    {
     "data": {
      "text/plain": [
       "array([spAD(-0.8414709848078965, array([ 42.07354924, -41.52486852]), array([0, 0])),\n",
       "       spAD(-0.8304973704919705, array([ 42.07354924, -41.52486852]), array([1, 1])),\n",
       "       spAD(-0.8191915683009983, array([ 41.52486852, -40.95957842]), array([2, 2])),\n",
       "       spAD(-0.8075581004051142, array([ 40.95957842, -40.37790502]), array([3, 3])),\n",
       "       spAD(-0.795601620036366, array([ 40.37790502, -39.780081  ]), array([4, 4])),\n",
       "       spAD(-0.7833269096274833, array([ 39.780081  , -39.16634548]), array([5, 5])),\n",
       "       spAD(-0.7707388788989693, array([ 39.16634548, -38.53694394]), array([6, 6])),\n",
       "       spAD(-0.757842562895277, array([ 38.53694394, -37.89212814]), array([7, 7])),\n",
       "       spAD(-0.7446431199708593, array([ 37.89212814, -37.232156  ]), array([8, 8])),\n",
       "       spAD(-0.7311458297268959, array([ 37.232156  , -36.55729149]), array([9, 9])),\n",
       "       spAD(-0.7173560908995228, array([ 36.55729149, -35.86780454]), array([10, 10])),\n",
       "       spAD(-0.7032794192004101, array([ 35.86780454, -35.16397096]), array([11, 11])),\n",
       "       spAD(-0.6889214451105513, array([ 35.16397096, -34.44607226]), array([12, 12])),\n",
       "       spAD(-0.674287911628145, array([ 34.44607226, -33.71439558]), array([13, 13])),\n",
       "       spAD(-0.6593846719714731, array([ 33.71439558, -32.9692336 ]), array([14, 14])),\n",
       "       spAD(-0.644217687237691, array([ 32.9692336 , -32.21088436]), array([15, 15])),\n",
       "       spAD(-0.6287930240184685, array([ 32.21088436, -31.4396512 ]), array([16, 16])),\n",
       "       spAD(-0.6131168519734337, array([ 31.4396512, -30.6558426]), array([17, 17])),\n",
       "       spAD(-0.5971954413623921, array([ 30.6558426 , -29.85977207]), array([18, 18])),\n",
       "       spAD(-0.5810351605373051, array([ 29.85977207, -29.05175803]), array([19, 19])),\n",
       "       spAD(-0.5646424733950354, array([ 29.05175803, -28.23212367]), array([20, 20])),\n",
       "       spAD(-0.5480239367918737, array([ 28.23212367, -27.40119684]), array([21, 21])),\n",
       "       spAD(-0.5311861979208834, array([ 27.40119684, -26.5593099 ]), array([22, 22])),\n",
       "       spAD(-0.5141359916531132, array([ 26.5593099 , -25.70679958]), array([23, 23])),\n",
       "       spAD(-0.49688013784373675, array([ 25.70679958, -24.84400689]), array([24, 24])),\n",
       "       spAD(-0.479425538604203, array([ 24.84400689, -23.97127693]), array([25, 25])),\n",
       "       spAD(-0.4617791755414829, array([ 23.97127693, -23.08895878]), array([26, 26])),\n",
       "       spAD(-0.44394810696551973, array([ 23.08895878, -22.19740535]), array([27, 27])),\n",
       "       spAD(-0.42593946506599956, array([ 22.19740535, -21.29697325]), array([28, 28])),\n",
       "       spAD(-0.4077604530595702, array([ 21.29697325, -20.38802265]), array([29, 29])),\n",
       "       spAD(-0.3894183423086505, array([ 20.38802265, -19.47091712]), array([30, 30])),\n",
       "       spAD(-0.3709204694129827, array([ 19.47091712, -18.54602347]), array([31, 31])),\n",
       "       spAD(-0.35227423327508994, array([ 18.54602347, -17.61371166]), array([32, 32])),\n",
       "       spAD(-0.33348709214081435, array([ 17.61371166, -16.67435461]), array([33, 33])),\n",
       "       spAD(-0.3145665606161177, array([ 16.67435461, -15.72832803]), array([34, 34])),\n",
       "       spAD(-0.2955202066613395, array([ 15.72832803, -14.77601033]), array([35, 35])),\n",
       "       spAD(-0.27635564856411376, array([ 14.77601033, -13.81778243]), array([36, 36])),\n",
       "       spAD(-0.2570805518921551, array([ 13.81778243, -12.85402759]), array([37, 37])),\n",
       "       spAD(-0.23770262642713458, array([ 12.85402759, -11.88513132]), array([38, 38])),\n",
       "       spAD(-0.2182296230808693, array([ 11.88513132, -10.91148115]), array([39, 39])),\n",
       "       spAD(-0.19866933079506116, array([10.91148115, -9.93346654]), array([40, 40])),\n",
       "       spAD(-0.17902957342582412, array([ 9.93346654, -8.95147867]), array([41, 41])),\n",
       "       spAD(-0.159318206614246, array([ 8.95147867, -7.96591033]), array([42, 42])),\n",
       "       spAD(-0.1395431146442365, array([ 7.96591033, -6.97715573]), array([43, 43])),\n",
       "       spAD(-0.11971220728891936, array([ 6.97715573, -5.98561036]), array([44, 44])),\n",
       "       spAD(-0.09983341664682813, array([ 5.98561036, -4.99167083]), array([45, 45])),\n",
       "       spAD(-0.07991469396917265, array([ 4.99167083, -3.9957347 ]), array([46, 46])),\n",
       "       spAD(-0.05996400647944454, array([ 3.9957347 , -2.99820032]), array([47, 47])),\n",
       "       spAD(-0.039989334186634196, array([ 2.99820032, -1.99946671]), array([48, 48])),\n",
       "       spAD(-0.019998666693333098, array([ 1.99946671, -0.99993333]), array([49, 49])),\n",
       "       spAD(0.0, array([0.99993333, 0.        ]), array([50, 50])),\n",
       "       spAD(0.019998666693333098, array([-0.        ,  0.99993333]), array([51, 51])),\n",
       "       spAD(0.039989334186634196, array([-0.99993333,  1.99946671]), array([52, 52])),\n",
       "       spAD(0.05996400647944465, array([-1.99946671,  2.99820032]), array([53, 53])),\n",
       "       spAD(0.07991469396917276, array([-2.99820032,  3.9957347 ]), array([54, 54])),\n",
       "       spAD(0.09983341664682824, array([-3.9957347 ,  4.99167083]), array([55, 55])),\n",
       "       spAD(0.11971220728891947, array([-4.99167083,  5.98561036]), array([56, 56])),\n",
       "       spAD(0.1395431146442366, array([-5.98561036,  6.97715573]), array([57, 57])),\n",
       "       spAD(0.1593182066142459, array([-6.97715573,  7.96591033]), array([58, 58])),\n",
       "       spAD(0.17902957342582412, array([-7.96591033,  8.95147867]), array([59, 59])),\n",
       "       spAD(0.19866933079506116, array([-8.95147867,  9.93346654]), array([60, 60])),\n",
       "       spAD(0.2182296230808693, array([-9.93346654, 10.91148115]), array([61, 61])),\n",
       "       spAD(0.23770262642713458, array([-10.91148115,  11.88513132]), array([62, 62])),\n",
       "       spAD(0.2570805518921551, array([-11.88513132,  12.85402759]), array([63, 63])),\n",
       "       spAD(0.27635564856411376, array([-12.85402759,  13.81778243]), array([64, 64])),\n",
       "       spAD(0.2955202066613396, array([-13.81778243,  14.77601033]), array([65, 65])),\n",
       "       spAD(0.3145665606161178, array([-14.77601033,  15.72832803]), array([66, 66])),\n",
       "       spAD(0.33348709214081446, array([-15.72832803,  16.67435461]), array([67, 67])),\n",
       "       spAD(0.35227423327509005, array([-16.67435461,  17.61371166]), array([68, 68])),\n",
       "       spAD(0.3709204694129828, array([-17.61371166,  18.54602347]), array([69, 69])),\n",
       "       spAD(0.38941834230865063, array([-18.54602347,  19.47091712]), array([70, 70])),\n",
       "       spAD(0.4077604530595701, array([-19.47091712,  20.38802265]), array([71, 71])),\n",
       "       spAD(0.42593946506599956, array([-20.38802265,  21.29697325]), array([72, 72])),\n",
       "       spAD(0.44394810696551973, array([-21.29697325,  22.19740535]), array([73, 73])),\n",
       "       spAD(0.4617791755414829, array([-22.19740535,  23.08895878]), array([74, 74])),\n",
       "       spAD(0.479425538604203, array([-23.08895878,  23.97127693]), array([75, 75])),\n",
       "       spAD(0.49688013784373675, array([-23.97127693,  24.84400689]), array([76, 76])),\n",
       "       spAD(0.5141359916531132, array([-24.84400689,  25.70679958]), array([77, 77])),\n",
       "       spAD(0.5311861979208834, array([-25.70679958,  26.5593099 ]), array([78, 78])),\n",
       "       spAD(0.5480239367918737, array([-26.5593099 ,  27.40119684]), array([79, 79])),\n",
       "       spAD(0.5646424733950355, array([-27.40119684,  28.23212367]), array([80, 80])),\n",
       "       spAD(0.5810351605373052, array([-28.23212367,  29.05175803]), array([81, 81])),\n",
       "       spAD(0.5971954413623921, array([-29.05175803,  29.85977207]), array([82, 82])),\n",
       "       spAD(0.6131168519734339, array([-29.85977207,  30.6558426 ]), array([83, 83])),\n",
       "       spAD(0.6287930240184685, array([-30.6558426,  31.4396512]), array([84, 84])),\n",
       "       spAD(0.644217687237691, array([-31.4396512 ,  32.21088436]), array([85, 85])),\n",
       "       spAD(0.6593846719714731, array([-32.21088436,  32.9692336 ]), array([86, 86])),\n",
       "       spAD(0.674287911628145, array([-32.9692336 ,  33.71439558]), array([87, 87])),\n",
       "       spAD(0.6889214451105513, array([-33.71439558,  34.44607226]), array([88, 88])),\n",
       "       spAD(0.7032794192004101, array([-34.44607226,  35.16397096]), array([89, 89])),\n",
       "       spAD(0.7173560908995228, array([-35.16397096,  35.86780454]), array([90, 90])),\n",
       "       spAD(0.7311458297268959, array([-35.86780454,  36.55729149]), array([91, 91])),\n",
       "       spAD(0.7446431199708593, array([-36.55729149,  37.232156  ]), array([92, 92])),\n",
       "       spAD(0.757842562895277, array([-37.232156  ,  37.89212814]), array([93, 93])),\n",
       "       spAD(0.7707388788989693, array([-37.89212814,  38.53694394]), array([94, 94])),\n",
       "       spAD(0.7833269096274834, array([-38.53694394,  39.16634548]), array([95, 95])),\n",
       "       spAD(0.795601620036366, array([-39.16634548,  39.780081  ]), array([96, 96])),\n",
       "       spAD(0.8075581004051142, array([-39.780081  ,  40.37790502]), array([97, 97])),\n",
       "       spAD(0.8191915683009983, array([-40.37790502,  40.95957842]), array([98, 98])),\n",
       "       spAD(0.8304973704919705, array([-40.95957842,  41.52486852]), array([99, 99])),\n",
       "       spAD(0.8414709848078965, array([-41.52486852,  42.07354924]), array([100, 100]))],\n",
       "      dtype=object)"
      ]
     },
     "execution_count": 102,
     "metadata": {},
     "output_type": "execute_result"
    }
   ],
   "source": [
    "interp(spad.identity(X.shape)+X)"
   ]
  },
  {
   "cell_type": "code",
   "execution_count": null,
   "metadata": {},
   "outputs": [],
   "source": []
  }
 ],
 "metadata": {
  "kernelspec": {
   "display_name": "Python 3",
   "language": "python",
   "name": "python3"
  },
  "language_info": {
   "codemirror_mode": {
    "name": "ipython",
    "version": 3
   },
   "file_extension": ".py",
   "mimetype": "text/x-python",
   "name": "python",
   "nbconvert_exporter": "python",
   "pygments_lexer": "ipython3",
   "version": "3.6.8"
  }
 },
 "nbformat": 4,
 "nbformat_minor": 2
}
