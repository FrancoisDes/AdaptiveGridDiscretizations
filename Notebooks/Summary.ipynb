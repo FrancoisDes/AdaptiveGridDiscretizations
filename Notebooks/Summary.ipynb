{
 "cells": [
  {
   "cell_type": "markdown",
   "metadata": {},
   "source": [
    "# Adaptive grid discretizations\n",
    "\n",
    "## A set of tools for discretizing anisotropic PDEs on cartesian grids"
   ]
  },
  {
   "cell_type": "markdown",
   "metadata": {},
   "source": [
    "This collection of notebooks presents a series of general principles and reference implementations for *anisotropic Partial Differential Equations* (PDEs), using *adaptive finite difference schemes on cartesian grids*. \n",
    "* *Anisotropy* means that some directions in the domain play a preferred role, locally, preferred. A typical instance of an anisotropic PDE is anisotropic diffusion\n",
    "$$\n",
    "    \\partial_t u = {\\rm div}(D \\nabla u)\n",
    "$$\n",
    "<!---, e.g. in non-divergence form\n",
    "$$\n",
    "    \\partial_t u = {\\rm Tr}(D \\nabla^2 u)\n",
    "$$\n",
    "-->\n",
    "which smoothes the map $u$ preferentially along the eigenvectors associated to the large eigenvalues of $D$. In the special case where $D$ proportional to the identity matrix, the PDE becomes isotropic. Our approach also encompasses some non-linear operators, such as the Monge-Ampere operator, when they can be expressed as extrema of diffusion operators, e.g. in the form\n",
    "$$\n",
    "    \\max_{D \\in \\mathcal D} {\\rm Tr}(D \\nabla^2 u).\n",
    "$$\n",
    "* *Finite difference schemes* are a numerical approach to the discretization of PDEs, based on the approximation of the first and second derivatives of a given function $u$ in the form\n",
    "$$\n",
    "\\begin{aligned}\n",
    "    <\\nabla u(x),e> &= \\frac{u(x+he)-u(x)} h +{\\mathcal O}(h), \\\\\n",
    "    <e,\\nabla^2 u(x) \\cdot e> &= \\frac{u(x+he)-2u(x)+u(x-h e)} {h^2} +{\\mathcal O}(h^2).\n",
    "\\end{aligned}\n",
    "$$\n",
    "The direction of differentiation, the vector $e$, needs to belong to $Z^d$ for these formulas to make sense on a cartesian grid of scale $h>0$. A numerical scheme for a PDE based on finite differences is said adaptive if it involves such expressions for vectors $e\\in Z^d$ depending on the problem data, as opposed to e.g. the immediate neighbors on the cartesian grid.\n",
    "\n",
    "**Notice to reader** This series of notebooks is part of an ongoing research project. While we do have a strong focus on research reproducibility, the provided numerical codes should be regarded as experimental and come *without any guarantee of any type*. <!---They are also possibly less extensively tested and mature-->\n",
    "\n",
    "**Acknowledgement** The experiments presented in this notebook are part of ongoing research, with PhD student Guillaume Bonnet, in co-direction with Frederic Bonnans."
   ]
  },
  {
   "cell_type": "markdown",
   "metadata": {},
   "source": [
    "### Additional notes\n",
    "\n",
    "Latest version of this summary [(view online)](http://nbviewer.jupyter.org/urls/rawgithub.com/Mirebeau/AdaptiveGridDiscretizations/master/Notebooks/Summary.ipynb)\n",
    "\n",
    "**Github repository** to run and modify the examples on your computer.\n",
    "[AdaptiveGridDiscretizations](https://github.com/Mirebeau/AdaptiveGridDiscretizations)\n",
    "\n",
    "**Shortest path problems and eikonal PDEs.** These problems and their applications are discussed in another series of notebooks, \n",
    "[(view online)](http://nbviewer.jupyter.org/urls/rawgithub.com/Mirebeau/HFM_Python_Notebooks/master/Summary.ipynb).\n",
    "\n",
    "**Mathematical foundations.** An essential ingredient of our adaptive discretization schemes is a technique for decomposing positive definite tensors $D$ in a way that allows the design of finite difference schemes. This set of tools, and our implementation, are presented in the first part.\n",
    "\n",
    "**Domain dimension.** Unless otherwise specified, the numerical experiments presented in the notebooks involve two dimensional PDEs."
   ]
  },
  {
   "cell_type": "code",
   "execution_count": 1,
   "metadata": {},
   "outputs": [
    {
     "data": {
      "text/markdown": [
       "# Table of contents"
      ],
      "text/plain": [
       "<IPython.core.display.Markdown object>"
      ]
     },
     "metadata": {},
     "output_type": "display_data"
    },
    {
     "data": {
      "text/markdown": [
       "### A. Tensor decomposition techniques\n",
       "\n",
       " * I. [Selling's algorithm, in dimension 2 and 3](TensorSelling.ipynb) [(view online)](http://nbviewer.jupyter.org/urls/rawgithub.com/Mirebeau/HFM_Python_Notebooks/master/TensorSelling.ipynb)\n",
       "\n",
       "  1. Decomposing a tensor, or a tensor field\n",
       "\n",
       "  2. Under the hood : obtuse superbases\n",
       "\n",
       "  3. Properties of the decomposition\n",
       "\n",
       "\n",
       "\n",
       " * II. [Voronoi's reduction, in dimension 4 and 5](TensorVoronoi.ipynb) [(view online)](http://nbviewer.jupyter.org/urls/rawgithub.com/Mirebeau/HFM_Python_Notebooks/master/TensorVoronoi.ipynb)\n",
       "\n",
       "  1. Computing the decomposition of a tensor\n",
       "\n",
       "  2. Under the hood: Voronoi's first reduction of tensors.\n",
       "\n",
       "  3. Properties of Voronoi's reduction\n",
       "\n",
       "\n",
       "\n",
       "### B. Monotone numerical schemes\n",
       "\n",
       " * I. [Monotone schemes, in dimension 1](MonotoneSchemes1D.ipynb) [(view online)](http://nbviewer.jupyter.org/urls/rawgithub.com/Mirebeau/HFM_Python_Notebooks/master/MonotoneSchemes1D.ipynb)\n",
       "\n",
       "  1. A first order linear equation\n",
       "\n",
       "  2. A second order linear equation\n",
       "\n",
       "  3. A non-linear equation\n",
       "\n",
       "\n",
       "\n",
       " * II. [Linear partial differential equations](LinearMonotoneSchemes2D.ipynb) [(view online)](http://nbviewer.jupyter.org/urls/rawgithub.com/Mirebeau/HFM_Python_Notebooks/master/LinearMonotoneSchemes2D.ipynb)\n",
       "\n",
       "  1. A first order linear equation\n",
       "\n",
       "  2. A second order linear equation\n",
       "\n",
       "\n",
       "\n",
       " * III. [PDEs with a first order non-linearity](NonlinearMonotoneFirst2D.ipynb) [(view online)](http://nbviewer.jupyter.org/urls/rawgithub.com/Mirebeau/HFM_Python_Notebooks/master/NonlinearMonotoneFirst2D.ipynb)\n",
       "\n",
       "  1. A non-linear first order term\n",
       "\n",
       "  2. Pure eikonal equations\n",
       "\n",
       "\n",
       "\n",
       " * IV. [PDEs with a second order non-linearity](NonlinearMonotoneSecond2D.ipynb) [(view online)](http://nbviewer.jupyter.org/urls/rawgithub.com/Mirebeau/HFM_Python_Notebooks/master/NonlinearMonotoneSecond2D.ipynb)\n",
       "\n",
       "  1. Non-Monotone discretization (purposedly fails)\n",
       "\n",
       "  2. Monotone discretization by sampling of the control space\n",
       "\n",
       "  3. Monotone and consistent discretization (TODO)\n",
       "\n",
       "\n",
       "\n",
       "### C. Optimal transport\n",
       "\n",
       " * I. [The Monge-Ampere equation](MongeAmpere.ipynb) [(view online)](http://nbviewer.jupyter.org/urls/rawgithub.com/Mirebeau/HFM_Python_Notebooks/master/MongeAmpere.ipynb)\n",
       "\n",
       "  1. Naive non-monotone discretization (purposedly fails)\n",
       "\n",
       "  2. The MA-LBR scheme\n",
       "\n",
       "  3. Uniformly elliptic scheme\n",
       "\n",
       "\n",
       "\n",
       "### D. Applications\n",
       "\n",
       " * I. [Extracting geodesics from the heat kernel](VaradhanGeodesics.ipynb) [(view online)](http://nbviewer.jupyter.org/urls/rawgithub.com/Mirebeau/HFM_Python_Notebooks/master/VaradhanGeodesics.ipynb)\n",
       "\n",
       "  1. Isotropic metrics\n",
       "\n",
       "  2. Anisotropic Riemannian metrics\n",
       "\n",
       "  3. Rander metrics\n",
       "\n",
       "\n"
      ],
      "text/plain": [
       "<IPython.core.display.Markdown object>"
      ]
     },
     "metadata": {},
     "output_type": "display_data"
    }
   ],
   "source": [
    "import TocTools; TocTools.displayTOCs([\n",
    "    \"TensorSelling\",\"TensorVoronoi\",\n",
    "    \"MonotoneSchemes1D\",\"LinearMonotoneSchemes2D\",\"NonlinearMonotoneFirst2D\",\"NonlinearMonotoneSecond2D\",\n",
    "    \"MongeAmpere\",\"VaradhanGeodesics\"\n",
    "])"
   ]
  },
  {
   "cell_type": "code",
   "execution_count": null,
   "metadata": {},
   "outputs": [],
   "source": []
  }
 ],
 "metadata": {
  "kernelspec": {
   "display_name": "Python 3",
   "language": "python",
   "name": "python3"
  },
  "language_info": {
   "codemirror_mode": {
    "name": "ipython",
    "version": 3
   },
   "file_extension": ".py",
   "mimetype": "text/x-python",
   "name": "python",
   "nbconvert_exporter": "python",
   "pygments_lexer": "ipython3",
   "version": "3.7.3"
  }
 },
 "nbformat": 4,
 "nbformat_minor": 2
}
