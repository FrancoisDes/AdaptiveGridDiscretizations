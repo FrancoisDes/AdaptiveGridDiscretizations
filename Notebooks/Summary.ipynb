{
 "cells": [
  {
   "cell_type": "markdown",
   "metadata": {},
   "source": [
    "# Adaptive grid discretizations\n",
    "\n",
    "## A set of tools for discretizing anisotropic PDEs on cartesian grids"
   ]
  },
  {
   "cell_type": "markdown",
   "metadata": {},
   "source": [
    "This collection of notebooks presents a series of general principles and reference implementations for *anisotropic Partial Differential Equations* (PDEs), using *adaptive finite difference schemes on cartesian grids*. \n",
    "* *Anisotropy* means that some directions in the domain play a preferred role, locally, preferred. A typical instance of an anisotropic PDE is anisotropic diffusion\n",
    "$$\n",
    "    \\partial_t u = {\\rm div}(D \\nabla u)\n",
    "$$\n",
    "<!---, e.g. in non-divergence form\n",
    "$$\n",
    "    \\partial_t u = {\\rm Tr}(D \\nabla^2 u)\n",
    "$$\n",
    "-->\n",
    "which smoothes the map $u$ preferentially along the eigenvectors associated to the large eigenvalues of $D$. In the special case where $D$ proportional to the identity matrix, the PDE becomes isotropic. Our approach also encompasses some non-linear operators, such as the Monge-Ampere operator, when they can be expressed as extrema of diffusion operators, e.g. in the form\n",
    "$$\n",
    "    \\max_{D \\in \\mathcal D} {\\rm Tr}(D \\nabla^2 u).\n",
    "$$\n",
    "* *Finite difference schemes* are a numerical approach to the discretization of PDEs, based on the approximation of the first and second derivatives of a given function $u$ in the form\n",
    "$$\n",
    "\\begin{aligned}\n",
    "    <\\nabla u(x),e> &= \\frac{u(x+he)-u(x)} h +{\\mathcal O}(h), \\\\\n",
    "    <e,\\nabla^2 u(x) \\cdot e> &= \\frac{u(x+he)-2u(x)+u(x-h e)} {h^2} +{\\mathcal O}(h^2).\n",
    "\\end{aligned}\n",
    "$$\n",
    "The direction of differentiation, the vector $e$, needs to belong to $Z^d$ for these formulas to make sense on a cartesian grid of scale $h>0$. A numerical scheme for a PDE based on finite differences is said adaptive if it involves such expressions for vectors $e\\in Z^d$ depending on the problem data, as opposed to e.g. the immediate neighbors on the cartesian grid.\n",
    "\n",
    "**Notice to reader** This series of notebooks is part of an ongoing research project. While we do have a strong focus on research reproducibility, the provided numerical codes should be regarded as experimental and come *without any guarantee of any type*. <!---They are also possibly less extensively tested and mature-->\n",
    "\n",
    "**Acknowledgement** \n",
    "\n",
    "The experiments presented in this notebook are part of ongoing research, with PhD student Guillaume Bonnet, in co-direction with Frederic Bonnans."
   ]
  },
  {
   "cell_type": "markdown",
   "metadata": {},
   "source": [
    "**Latest version of this notebook** : \n",
    "[Adaptive grid discretizations, summary](http://nbviewer.jupyter.org/urls/rawgithub.com/Mirebeau/AdaptiveGridDiscretizations/master/Notebooks/Summary.ipynb)\n",
    "\n",
    "\n",
    "## Table of contents \n",
    "**A Tensor decomposition techniques**\n",
    "\n",
    "An essential ingredient of our adaptive discretization schemes is a technique for decomposing positive definite tensors $D$ in a way that allows the design of finite difference schemes. This set of tools, and our implementation, are presented in the following notebooks.\n",
    "\n",
    "[A.I Tensor decomposition, dimensions 2 and 3](http://nbviewer.jupyter.org/urls/rawgithub.com/Mirebeau/AdaptiveGridDiscretizations/master/Notebooks/TensorSelling.ipynb)\n",
    "\n",
    "[A.II Tensor decomposition, dimensions 4 and 5](http://nbviewer.jupyter.org/urls/rawgithub.com/Mirebeau/AdaptiveGridDiscretizations/master/Notebooks/TensorVoronoi.ipynb)\n",
    "\n",
    "**B. Monotone numerical schemes**\n",
    "\n",
    "[B.I Monotone schemes in dimension 1](http://nbviewer.jupyter.org/urls/rawgithub.com/Mirebeau/AdaptiveGridDiscretizations/master/Notebooks/MonotoneSchemes1D.ipynb)\n",
    "\n",
    "[B.II Linear monotone schemes in dimension 2](http://nbviewer.jupyter.org/urls/rawgithub.com/Mirebeau/AdaptiveGridDiscretizations/master/Notebooks/LinearMonotoneSchemes2D.ipynb)\n",
    "\n",
    "[B.III Monotone schemes with a first order non-linearity, in dimension 2](http://nbviewer.jupyter.org/urls/rawgithub.com/Mirebeau/AdaptiveGridDiscretizations/master/Notebooks/NonlinearMonotoneFirst2D.ipynb)\n",
    "\n",
    "[B.IV Monotone schemes with a second order non-linearity, in dimension 2](http://nbviewer.jupyter.org/urls/rawgithub.com/Mirebeau/AdaptiveGridDiscretizations/master/Notebooks/NonlinearMonotoneSecond2D.ipynb)\n",
    "\n",
    "\n",
    "**C. Optimal transport**\n",
    "\n",
    "[C.I Monge-Ampere equations](http://nbviewer.jupyter.org/urls/rawgithub.com/Mirebeau/AdaptiveGridDiscretizations/master/Notebooks/MongeAmpere.ipynb)\n",
    "\n",
    "**D. Applications**\n",
    "\n",
    "[D.I Computing distance maps and geodesics using Varadhan's formulas](http://nbviewer.jupyter.org/urls/rawgithub.com/Mirebeau/AdaptiveGridDiscretizations/master/Notebooks/VaradhanGeodesics.ipynb)\n",
    "\n",
    "The special case of eikonal PDEs is discussed in another series of notebooks, see the \n",
    "[Summary (eikonal equations)](http://nbviewer.jupyter.org/urls/rawgithub.com/Mirebeau/HFM_Python_Notebooks/master/Summary.ipynb)."
   ]
  },
  {
   "cell_type": "code",
   "execution_count": null,
   "metadata": {},
   "outputs": [],
   "source": []
  }
 ],
 "metadata": {
  "kernelspec": {
   "display_name": "Python 3",
   "language": "python",
   "name": "python3"
  },
  "language_info": {
   "codemirror_mode": {
    "name": "ipython",
    "version": 3
   },
   "file_extension": ".py",
   "mimetype": "text/x-python",
   "name": "python",
   "nbconvert_exporter": "python",
   "pygments_lexer": "ipython3",
   "version": "3.6.8"
  }
 },
 "nbformat": 4,
 "nbformat_minor": 2
}
