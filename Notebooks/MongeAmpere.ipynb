{
 "cells": [
  {
   "cell_type": "markdown",
   "metadata": {},
   "source": [
    "# The Monge-Ampere equation\n",
    "\n",
    "This notebook presents a series of methods for numerically solving the Monge-Ampere equation\n",
    "$$\n",
    "    f(x) - \\det(\\nabla^2 u(x)) = 0,\n",
    "$$\n",
    "among convex functions, with Dirichlet boundary conditions. \n",
    "The function $f$ is assumed to be strictly positive.\n",
    "For that purpose, we rely on the monotone and consistent MA-LBR numerical scheme (Monge-Ampere using Lattice Basis Reduction), and some variants.\n",
    "\n",
    "*Summary of this series of notebooks:*\n",
    "[Adaptive grid discretizations, summary](http://nbviewer.jupyter.org/urls/rawgithub.com/Mirebeau/AdaptiveGridDiscretizations/master/Notebooks/Summary.ipynb)\n",
    "\n",
    "**References.**\n",
    "\n",
    "The MA-LBR scheme was first introduced in:\n",
    "* Benamou, J.-D., Collino, F., & Mirebeau, J.-M. (2016). Monotone and Consistent discretization of the Monge-Ampere operator. Mathematics of Computation, 85(302), 2743–2775."
   ]
  },
  {
   "cell_type": "markdown",
   "metadata": {},
   "source": [
    "**Reformulation as an extremal operator.**\n",
    "The starting point of these methods is to observe that, for a positive definite $d \\times d$ matrix $M$\n",
    "$$\n",
    "    d ({\\rm det} M)^\\frac 1 d = \\inf_{{\\rm det} D = 1} {\\rm tr}(D M),\n",
    "$$\n",
    "where, implicitly, the optimization variable $D$ is also assumed to be a symmetric positive definite matrix.\n",
    "\n",
    "If $M = \\nabla^2 u$ is a hessian matrix, then the l.h.s. is (a multiple of a power of) the Monge-Ampere operator, while the r.h.s. is an infimum of second order linear operators, which can be discretized using monotone finite differences.\n",
    "\n",
    "**Discretization strategy**\n",
    "The chosen finite difference scheme for the linear operator is described in \n",
    "[I Tensor decomposition, dimensions 2 and 3](http://nbviewer.jupyter.org/urls/rawgithub.com/Mirebeau/AdaptiveGridDiscretizations/master/Notebooks/TensorSelling.ipynb)\n",
    "Since \n"
   ]
  },
  {
   "cell_type": "markdown",
   "metadata": {},
   "source": [
    "## 0. Importing the required libraries"
   ]
  },
  {
   "cell_type": "code",
   "execution_count": 1,
   "metadata": {},
   "outputs": [],
   "source": [
    "import sys; sys.path.append(\"..\") # Allow import from parent directory\n",
    "from NumericalSchemes import Selling\n",
    "from NumericalSchemes import LinearParallel as lp\n",
    "from NumericalSchemes import FiniteDifferences as fd\n",
    "from NumericalSchemes import AutomaticDifferentiation as ad"
   ]
  },
  {
   "cell_type": "code",
   "execution_count": 2,
   "metadata": {},
   "outputs": [],
   "source": [
    "import numpy as np\n",
    "from matplotlib import pyplot as plt\n",
    "import time"
   ]
  },
  {
   "cell_type": "markdown",
   "metadata": {},
   "source": [
    "Some utility functions"
   ]
  },
  {
   "cell_type": "code",
   "execution_count": 3,
   "metadata": {},
   "outputs": [],
   "source": [
    "def LInfNorm(a):\n",
    "    return np.max(np.abs(np.array(a)))\n",
    "\n",
    "def as_field(u,shape):\n",
    "    ndim = len(shape)\n",
    "    if u.ndim>=ndim and u.shape[-ndim:]==shape: return u\n",
    "    else: return ad.broadcast_to(u.reshape(u.shape+(1,)*ndim), u.shape+shape)"
   ]
  },
  {
   "cell_type": "code",
   "execution_count": 4,
   "metadata": {},
   "outputs": [],
   "source": [
    "def solve_Newton(Scheme,params,guess,print_period=1,niter=8,relax=0.):\n",
    "    u = guess+ad.Sparse.identity(guess.shape)\n",
    "    for i in range(niter):\n",
    "        start_time = time.time()\n",
    "        residue = Scheme(u,*params)\n",
    "        residue_time = time.time()\n",
    "        u += (residue + relax).solve()\n",
    "        solve_time = time.time()\n",
    "        if (i-1)%print_period ==0  or i==niter-1:\n",
    "            print(\"Iteration :\",i,\", Residue norm :\", LInfNorm(residue)) # Before solve\n",
    "            print(\"timing. Residue :\",residue_time-start_time,\"Solve :\",solve_time-residue_time,\n",
    "                  \"size_ad :\",residue.size_ad)\n",
    "    return np.array(u)\n",
    "\n",
    "def solve_DampedNewton(Scheme,params,guess,print_period=1,niter=8,relax=0.,damping_criterion=None):\n",
    "    u = guess+ad.Sparse.identity(guess.shape)\n",
    "    for i in range(niter):\n",
    "        residue = Scheme(u,*params)\n",
    "        if (i-1)%print_period ==0  or i==niter-1:\n",
    "            print(\"Iteration :\",i,\", Residue norm :\", LInfNorm(residue)) # Before solve\n",
    "        direction = (residue + relax).solve()\n",
    "        step = 1.\n",
    "        while damping_criterion(np.array(u)+step*direction):\n",
    "            step/=2\n",
    "#        print(\"step used :\", step)\n",
    "        u += step*direction\n",
    "    return np.array(u)"
   ]
  },
  {
   "cell_type": "code",
   "execution_count": 5,
   "metadata": {},
   "outputs": [],
   "source": [
    "def reload_packages():\n",
    "    import importlib\n",
    "    Selling = importlib.reload(sys.modules['NumericalSchemes.Selling'])\n",
    "    lp = importlib.reload(sys.modules['NumericalSchemes.LinearParallel'])\n",
    "    fd = importlib.reload(sys.modules['NumericalSchemes.FiniteDifferences'])\n",
    "    ad = importlib.reload(sys.modules['NumericalSchemes.AutomaticDifferentiation'])\n",
    "    ad.Sparse = importlib.reload(ad.Sparse)"
   ]
  },
  {
   "cell_type": "markdown",
   "metadata": {},
   "source": [
    "## 1. Naive non-monotone discretization (purposedly fails)\n",
    "\n",
    "We present a naive, non-monotone discretization of the addressed problem. This scheme can be used to check that a numerical solution (produced by other means) is correct, or to construct synthetic examples. However, using it to solve the PDE is usually bound to fail. \n",
    "\n",
    "The naive scheme is based on a reconstruction of the Hessian matrix of the form\n",
    "$$\n",
    "    \\begin{pmatrix}\n",
    "        D^h_{00} u(x) & D^h_{01} u(x)\\\\\n",
    "        D^h_{01} u(x) & D^h_{11} u(x)\n",
    "    \\end{pmatrix},\n",
    "$$\n",
    "where $D_{00}$, $D_{01}$ and $D_{11}$ are finite-difference operators. Namely\n",
    "$$\n",
    "    D^h_{00} u(x) := \\frac{u(x_0+h,x_1)-2 u(x_0,x_1) + u(x_0-h,x_1)}{h^2},\n",
    "$$\n",
    "likewise for $D^h_{11} u(x)$, and finally\n",
    "$$\n",
    "    D^h_{01} u(x) := \\frac{u(x_0+h,x_1+h)-u(x_0-h,x_1+h)-u(x_0+h,x_1-h)+h(x_0-h,x_1-h)}{4 h^2}.\n",
    "$$"
   ]
  },
  {
   "cell_type": "code",
   "execution_count": 6,
   "metadata": {},
   "outputs": [],
   "source": [
    "def SchemeNonMonotone(u,f,bc,h):\n",
    "    # Compute the hessian matrix of u\n",
    "    uxx = fd.Diff2(u,(1,0),h)\n",
    "    uyy = fd.Diff2(u,(0,1),h)\n",
    "    uxy = 0.25*(fd.Diff2(u,(1,1),h) - fd.Diff2(u,(1,-1),h))\n",
    "    \n",
    "    # Numerical scheme\n",
    "    det = uxx*uyy-uxy**2\n",
    "    residue = f - det\n",
    "    \n",
    "    # Boundary conditions\n",
    "    return ad.where(np.isnan(bc),residue,u-bc)"
   ]
  },
  {
   "cell_type": "markdown",
   "metadata": {},
   "source": [
    "We next choose some problem parameters"
   ]
  },
  {
   "cell_type": "code",
   "execution_count": 7,
   "metadata": {},
   "outputs": [],
   "source": [
    "# Create the domain\n",
    "gridScale = 0.02\n",
    "aX0 = np.arange(-1,1,gridScale); aX1=aX0;\n",
    "X0,X1 = np.meshgrid(aX0,aX1,indexing='ij')\n",
    "\n",
    "guess = X0**2+X1**2\n",
    "\n",
    "# Set the boundary conditions \n",
    "bc=np.full(X0.shape,0.)\n",
    "bc[1:-1,1:-1] = np.nan\n",
    "\n",
    "# Choose the PDE parameters\n",
    "f=1."
   ]
  },
  {
   "cell_type": "markdown",
   "metadata": {},
   "source": [
    "The naive and non-monotone discretization scheme is consistent, but lacks any other sort of theoretical guarantees. \n",
    "\n",
    "**In general, attempts to solve numerically the non-monotone scheme will fail. This is expected behavior**"
   ]
  },
  {
   "cell_type": "code",
   "execution_count": 8,
   "metadata": {},
   "outputs": [],
   "source": [
    "params = (f,bc,gridScale)\n",
    "#solution = solve_Newton(SchemeNonMonotone,params,guess,print_period=2,niter=15) # Fails (quickly). Run if you dare"
   ]
  },
  {
   "cell_type": "markdown",
   "metadata": {},
   "source": [
    "The non-monotone scheme may nevertheless work for some specific gentle problem instances (with a smooth solution), a careful initialization, and a bit of luck.\n",
    "\n",
    "This is the case below, where we solve the same problem as above, but with a different handling of the boundary conditions: they are imposed them implicitly by the padding values used in the finite differences."
   ]
  },
  {
   "cell_type": "code",
   "execution_count": 9,
   "metadata": {},
   "outputs": [
    {
     "name": "stdout",
     "output_type": "stream",
     "text": [
      "Iteration : 1 , Residue norm : 6139649.490881566\n",
      "timing. Residue : 0.021872758865356445 Solve : 0.08393120765686035 size_ad : 12\n",
      "Iteration : 3 , Residue norm : 383707.253507626\n",
      "timing. Residue : 0.01888585090637207 Solve : 0.07655692100524902 size_ad : 12\n",
      "Iteration : 5 , Residue norm : 23950.95857074562\n",
      "timing. Residue : 0.018969058990478516 Solve : 0.07675790786743164 size_ad : 12\n",
      "Iteration : 7 , Residue norm : 1470.1610039651907\n",
      "timing. Residue : 0.018372058868408203 Solve : 0.0752878189086914 size_ad : 12\n",
      "Iteration : 9 , Residue norm : 71.89670146282235\n",
      "timing. Residue : 0.018674373626708984 Solve : 0.0789177417755127 size_ad : 12\n",
      "Iteration : 11 , Residue norm : 0.23687266600068568\n",
      "timing. Residue : 0.0352482795715332 Solve : 0.11854696273803711 size_ad : 12\n",
      "Iteration : 13 , Residue norm : 1.2143885896875872e-10\n",
      "timing. Residue : 0.01839303970336914 Solve : 0.08165597915649414 size_ad : 12\n",
      "Iteration : 14 , Residue norm : 2.6150193122020937e-12\n",
      "timing. Residue : 0.024966955184936523 Solve : 0.07853889465332031 size_ad : 12\n"
     ]
    },
    {
     "data": {
      "image/png": "[encoded data removed]",
      "text/plain": [
       "<Figure size 432x288 with 1 Axes>"
      ]
     },
     "metadata": {
      "needs_background": "light"
     },
     "output_type": "display_data"
    }
   ],
   "source": [
    "params = (f,np.full(X0.shape,np.nan),gridScale)\n",
    "solution_non_monotone = solve_Newton(SchemeNonMonotone,params,guess,print_period=2,niter=15) \n",
    "\n",
    "plt.axis('equal'); plt.title(\"Solution to 1-det(d^2 u)=0, with u=0 on bd\")\n",
    "plt.contourf(X0,X1,solution_non_monotone);"
   ]
  },
  {
   "cell_type": "markdown",
   "metadata": {},
   "source": [
    "## 1. The MA-LBR scheme\n",
    "\n",
    "The MA-LBR scheme is a monotone and consistent discretization of the Monge-Ampere operator. It takes the form:\n",
    "$$\n",
    "    \\Lambda u(x) := \\inf_{(e_0,e_1,e_2) \\in S} H( \\Delta_{e_0}^h u(x), \\Delta_{e_1}^h u(x), \\Delta_{e_2}^h u(x)).\n",
    "$$\n",
    "We denoted by $S$ a family of superbases of $Z^2$, which is a parameter to the scheme that must be chosen, see below. \n",
    "Superbases are triplets $(e_0,e_1,e_2)$ of vectors $e_0,e_1,e_2 \\in Z^2$ with integer coordinates.\n",
    "\n",
    "We denoted second order finite differences, in a direction $e\\in Z^2$ by \n",
    "$$\n",
    "    \\Delta_e^h u(x) := \\frac{u(x+h e) -2 u(x) +u(x+he)} {h^2}.\n",
    "$$\n",
    "The scheme also features a three argument function $H$, defined as follows: $H(a,b,c) := H_0(a_+,b_+,c_+)$, where \n",
    "$$\n",
    "    H_0(a,b,c) :=\n",
    "    \\begin{cases}\n",
    "        a b \\quad \\text{ if }\\ a+b < c, \\text{ and likewise permuting } a,b,c\\\\\n",
    "        \\frac 1 2 (a b+b c+c a) - \\frac 1 4 (a^2+b^2+c^2)\\quad \\text{ otherwise}.\n",
    "    \\end{cases}\n",
    "$$\n",
    "\n",
    "\n",
    "**Convexity of the solution, and ellipticity of the PDE and numerical scheme.**\n",
    "\n",
    "The Monge-Ampere equation imposes, as a constraint, that the solution $u$ be convex. The ellipticity of the Monge-Ampere operator degenerates as $\\det(\\nabla^2 u) \\to 0$, which means that $u$ looses convexity.\n",
    "\n",
    "A similar issue arises with the MA-LBR scheme. It is strictly elliptic only as long as \n",
    "$$\n",
    "    \\Lambda u(x) > 0,\n",
    "$$\n",
    "which is a discrete counterpart of convexity. \n",
    "\n",
    "**Damping of the Newton method**\n",
    "We need to guarantee that, along the iterations, the numerical scheme ellipticity is preserved. \n",
    "A first requirement for this is to choose a strictly convex initialization, for instance the quadratic function $u(x) = \\|x\\|^2/2$.\n",
    "\n",
    "For this reason, we also resort to a damped Newton method. More specifically\n",
    "$$\n",
    "    u_{n+1} = u_n + 2^{-k_n} d_n,\n",
    "$$\n",
    "where $d_n$ is the Newton descent direction, and $k_n$ is the least integer such that \n",
    "$$\n",
    "    \\Lambda u_{n+1}(x) \\geq f(x)/2,\n",
    "$$\n",
    "at all discretization points $x$.\n",
    "(Recall that the r.h.s $f$ is assumed to be strictly positive.)"
   ]
  },
  {
   "cell_type": "code",
   "execution_count": 10,
   "metadata": {},
   "outputs": [],
   "source": [
    "guess_quadratic = 0.5*(X0**2+X1**2)"
   ]
  },
  {
   "cell_type": "code",
   "execution_count": 11,
   "metadata": {},
   "outputs": [],
   "source": [
    "def MALBR_H(d2u):\n",
    "    a,b,c = ad.sort(np.maximum(0.,d2u), axis=0)\n",
    "    \n",
    "    # General formula, handling infinite values separately\n",
    "    A,B,C = (ad.where(e==np.inf,0.,e) for e in (a,b,c))\n",
    "    result = 0.5*(A*B+B*C+C*A)-0.25*(A**2+B**2+C**2)\n",
    "    \n",
    "    pos_inf = np.logical_or.reduce(d2u==np.inf)    \n",
    "    result[pos_inf]=np.inf\n",
    "    \n",
    "    pos_ineq = a+b<c\n",
    "    result[pos_ineq] = (A*B)[pos_ineq]\n",
    "        \n",
    "    return result\n",
    "    \n",
    "def SchemeMALBR(u,SB,f,bc,gridScale):\n",
    "    # Compute the finite differences along the superbase directions\n",
    "    d2u = fd.Diff2(u,SB,gridScale,padding=np.inf)\n",
    "    \n",
    "    # Numerical scheme\n",
    "    residue = f-MALBR_H(d2u).min(axis=0)\n",
    "    \n",
    "    # Boundary conditions\n",
    "    return ad.where(np.isnan(bc),residue,u-bc)\n",
    "\n",
    "def DampingMALBR(u,SB,f,bc,gridScale):\n",
    "    residue = SchemeMALBR(u,SB,f,bc,gridScale)\n",
    "    interior = np.isnan(bc)\n",
    "    return np.any(residue[interior]>=f/2)"
   ]
  },
  {
   "cell_type": "markdown",
   "metadata": {},
   "source": [
    "We next choose a family of superbases. The scheme is (second order) consistent while the condition number of the hessian of $u$ remains below the given bound. Beyond that, a consistency defect is introduced."
   ]
  },
  {
   "cell_type": "code",
   "execution_count": 12,
   "metadata": {},
   "outputs": [],
   "source": [
    "SB0 = Selling.SuperbasesForConditioning(5)\n",
    "SB1 = Selling.SuperbasesForConditioning(15)\n",
    "SB2 = Selling.SuperbasesForConditioning(30)"
   ]
  },
  {
   "cell_type": "code",
   "execution_count": 13,
   "metadata": {},
   "outputs": [
    {
     "data": {
      "image/png": "[encoded data removed]",
      "text/plain": [
       "<Figure size 432x288 with 1 Axes>"
      ]
     },
     "metadata": {
      "needs_background": "light"
     },
     "output_type": "display_data"
    }
   ],
   "source": [
    "plt.axis('equal'); plt.title('Stencil of the MA-LBR scheme, for bounds (5,15,30) on conditioning')\n",
    "def stencil(SB): return np.stack((SB,-SB),axis=2)[:,:]\n",
    "plt.scatter(*stencil(SB2));plt.scatter(*stencil(SB1));plt.scatter(*stencil(SB0));"
   ]
  },
  {
   "cell_type": "code",
   "execution_count": 14,
   "metadata": {},
   "outputs": [
    {
     "name": "stdout",
     "output_type": "stream",
     "text": [
      "Iteration : 1 , Residue norm : 0.875\n",
      "Iteration : 3 , Residue norm : 0.8211669921875\n",
      "Iteration : 5 , Residue norm : 0.783075749874115\n",
      "Iteration : 7 , Residue norm : 0.7467514353047591\n",
      "Iteration : 9 , Residue norm : 0.7121120864991184\n",
      "Iteration : 11 , Residue norm : 0.6683005030523953\n",
      "Iteration : 13 , Residue norm : 0.5873734890108944\n",
      "Iteration : 15 , Residue norm : 0.449707827523966\n",
      "Iteration : 17 , Residue norm : 0.4021199921344447\n",
      "Iteration : 19 , Residue norm : 0.3060406214860265\n",
      "Iteration : 21 , Residue norm : 0.03969770560325969\n",
      "Iteration : 23 , Residue norm : 3.438768203523068e-08\n",
      "Iteration : 25 , Residue norm : 1.8838264281839656e-12\n",
      "Iteration : 27 , Residue norm : 1.567634910770721e-12\n",
      "Iteration : 29 , Residue norm : 1.9984014443252818e-12\n"
     ]
    }
   ],
   "source": [
    "params = (SB0,f,bc,gridScale)\n",
    "def damping_criterion(u): return DampingMALBR(u,*params)\n",
    "solution_MALBR = solve_DampedNewton(SchemeMALBR,params,guess_quadratic,print_period=2,niter=30,\n",
    "                                   damping_criterion=damping_criterion) "
   ]
  },
  {
   "cell_type": "code",
   "execution_count": 15,
   "metadata": {},
   "outputs": [
    {
     "data": {
      "image/png": "[encoded data removed]",
      "text/plain": [
       "<Figure size 432x288 with 1 Axes>"
      ]
     },
     "metadata": {
      "needs_background": "light"
     },
     "output_type": "display_data"
    }
   ],
   "source": [
    "plt.axis('equal'); plt.title(\"MALBR solution to det(d2 u)=1\")\n",
    "plt.contourf(X0,X1,solution_MALBR);"
   ]
  },
  {
   "cell_type": "markdown",
   "metadata": {},
   "source": [
    "## 3. Uniformly elliptic scheme\n",
    "\n",
    "We reformulate the PDE as \n",
    "$$\n",
    "    0 = \\max_D \\det(D)^\\frac 1 d - \\alpha(x) {\\rm tr} (D \\nabla ^2 u(x))\n",
    "$$\n",
    "subject to the constraints\n",
    "$$\n",
    "    D \\succeq 0, \\qquad {\\rm tr} (D) = 1,\n",
    "$$\n",
    "and where we denoted\n",
    "$$\n",
    "    \\alpha(x) := 1/(d f(x)^{\\frac 1 d}).\n",
    "$$"
   ]
  },
  {
   "cell_type": "markdown",
   "metadata": {},
   "source": [
    "### Reformulation as a quadratic optimization problem\n",
    "\n",
    "We constrain the above optimization problem to matrices $D$ which can be decomposed over a superbase $(e_0,e_1,e_2)$ of $Z^2$ in the form\n",
    "$$\n",
    "    D = \\sum_i v_i e_i e_i^T,\n",
    "$$\n",
    "where $v_i \\geq 0$, $0 \\leq i \\leq 2$.\n",
    "We can compute the trace of $D$ \n",
    "$$\n",
    "    {\\rm tr}(D) = \\sum_i v_i \\|e_i\\|^2,\n",
    "$$\n",
    "and its determinant\n",
    "$$\n",
    "    \\det(D) = v_0 v_1 + v_1 v_2 + v_2 v_0 = <v,Q v>\n",
    "$$\n",
    "where \n",
    "$$\n",
    "    Q = \\frac 1 2 \\begin{pmatrix} 0 & 1 & 1\\\\ 1 & 0 & 1\\\\ 1 & 1 & 0 \\end{pmatrix}\n",
    "$$\n",
    "In addition, we have the finite differences approximation\n",
    "$$\n",
    "    {\\rm tr}(D \\nabla^2 u(x)) \\approx \\sum_i v_i \\frac{ u(x+h e_i)-2 u(x)+u(x-he_i)} {h^2}\n",
    "$$\n"
   ]
  },
  {
   "cell_type": "markdown",
   "metadata": {},
   "source": [
    "### Solving a low dimensional constrained optimization problem\n",
    "We need to solve the concave maximization problem \n",
    "$$\n",
    "    \\max_v \\sqrt{<v,Q v>} + <l,v>\n",
    "$$\n",
    "subject to the constraints\n",
    "$$\n",
    "    v \\succeq 0, \\qquad <m,v>=1.\n",
    "$$\n",
    "\n",
    "Assuming the positivity constraints are inactive at the maximizer, we obtain the optimality relation\n",
    "$$\n",
    "    \\frac {Q v}{\\sqrt{<v,Q v>}} + l = \\mu m,\n",
    "$$\n",
    "for some Lagrange multiplier $\\mu \\in R$.\n",
    "\n",
    "**Solving the problem.**\n",
    "A quadratic equation obeyed by this multiplier\n",
    "$$\n",
    "    <(\\mu m -l), Q^{-1} (\\mu m -l)> = 1.\n",
    "$$\n",
    "(Which root is to be selected ?)\n",
    "The minimizer can be obtained by \n",
    "$$\n",
    "    \\frac{v}{\\sqrt{<v,Q v >}} = Q^{-1} (\\mu m -l)\n",
    "$$"
   ]
  },
  {
   "cell_type": "code",
   "execution_count": 20,
   "metadata": {},
   "outputs": [],
   "source": [
    "def ConstrainedMaximize(Q,l,m):\n",
    "    dim = l.shape[0]\n",
    "    if dim==1:\n",
    "        return (l[0]+np.sqrt(Q[0,0]))/m[0]\n",
    "    \n",
    "    # Discard infinite values, handled afterwards\n",
    "    pos_bad = l.min(axis=0)==-np.inf\n",
    "    L = l.copy(); L[:,pos_bad]=0\n",
    "    \n",
    "    # Solve the quadratic equation\n",
    "    A = lp.inverse(Q)    \n",
    "    lAl = lp.dot_VAV(L,A,L)\n",
    "    lAm = lp.dot_VAV(L,A,m)\n",
    "    mAm = lp.dot_VAV(m,A,m)\n",
    "    \n",
    "    delta = lAm**2 - (lAl-1.)*mAm\n",
    "    pos_bad = np.logical_or(pos_bad,delta<=0)\n",
    "    delta[pos_bad] = 1.\n",
    "    \n",
    "    mu = (lAm + np.sqrt(delta))/mAm\n",
    "    \n",
    "#    print(\"mu\",mu.size_ad,\"lAl\",lAl.size_ad,\"lAm\",lAm.size_ad,\"l\",l.size_ad)\n",
    "    # Check the positivity\n",
    "#    v = dot_AV(A,mu*m-L)\n",
    "    rm_ad = np.array\n",
    "    v = lp.dot_AV(rm_ad(A),rm_ad(mu)*rm_ad(m)-rm_ad(L))\n",
    "    pos_bad = np.logical_or(pos_bad,np.any(v<0,axis=0))\n",
    "    \n",
    "    result = mu\n",
    "    result[pos_bad] = -np.inf\n",
    "    \n",
    "    # Solve the lower dimensional sub-problems\n",
    "    # We could restrict to the bad positions, and avoid repeating computations\n",
    "    for i in range(dim):             \n",
    "        axes = np.full((dim),True); axes[i]=False\n",
    "        res = ConstrainedMaximize(Q[axes][:,axes],l[axes],m[axes])\n",
    "        result = np.maximum(result,res)\n",
    "    return result"
   ]
  },
  {
   "cell_type": "code",
   "execution_count": 17,
   "metadata": {},
   "outputs": [],
   "source": [
    "def SchemeUniform(u,SB,f,bc,h):\n",
    "    # Compute the finite differences along the superbase directions\n",
    "    d2u = fd.Diff2(u,SB,gridScale) #,padding=np.inf)\n",
    "    \n",
    "    # Generate the parameters for the low dimensional optimization problem\n",
    "    Q = 0.5*np.array([[0,1,1],[1,0,1],[1,1,0]])\n",
    "    dim = 2\n",
    "    l = -d2u/(dim * f**(1/dim))\n",
    "    m = (SB**2).sum(0)\n",
    "\n",
    "    # Evaluate the numerical scheme\n",
    "    m = as_field(m,u.shape)\n",
    "    Q = as_field(Q,m.shape[1:])\n",
    "    residue = ConstrainedMaximize(Q,l,m).max(axis=0)\n",
    "    \n",
    "    # Boundary conditions\n",
    "    return ad.where(np.isnan(bc),residue,u-bc)"
   ]
  },
  {
   "cell_type": "code",
   "execution_count": 18,
   "metadata": {},
   "outputs": [],
   "source": [
    "#%%time\n",
    "#SchemeUniform(guess_quadratic+ad.Sparse.identity(X0.shape),*params)"
   ]
  },
  {
   "cell_type": "code",
   "execution_count": 21,
   "metadata": {},
   "outputs": [
    {
     "name": "stdout",
     "output_type": "stream",
     "text": [
      "Iteration : 1 , Residue norm : 1.9461602823015034\n",
      "timing. Residue : 0.9553289413452148 Solve : 0.0786750316619873 size_ad : 54\n",
      "Iteration : 3 , Residue norm : 0.2509001683967279\n",
      "timing. Residue : 0.9467918872833252 Solve : 0.07403302192687988 size_ad : 54\n",
      "Iteration : 5 , Residue norm : 0.004386125288393883\n",
      "timing. Residue : 0.9587581157684326 Solve : 0.07329201698303223 size_ad : 54\n",
      "Iteration : 7 , Residue norm : 1.0458235630839141e-06\n",
      "timing. Residue : 0.9486756324768066 Solve : 0.07371211051940918 size_ad : 54\n"
     ]
    }
   ],
   "source": [
    "params = (SB0,f,bc,gridScale)\n",
    "solution_Uniform = solve_Newton(SchemeUniform,params,guess_quadratic,print_period=2) "
   ]
  },
  {
   "cell_type": "code",
   "execution_count": 22,
   "metadata": {},
   "outputs": [
    {
     "data": {
      "image/png": "[encoded data removed]",
      "text/plain": [
       "<Figure size 432x288 with 1 Axes>"
      ]
     },
     "metadata": {
      "needs_background": "light"
     },
     "output_type": "display_data"
    }
   ],
   "source": [
    "plt.axis('equal'); plt.title(\"det(d2 u)=1, solution by uniformly elliptic scheme\")\n",
    "plt.contourf(X0,X1,solution_Uniform);"
   ]
  },
  {
   "cell_type": "code",
   "execution_count": null,
   "metadata": {},
   "outputs": [],
   "source": []
  }
 ],
 "metadata": {
  "kernelspec": {
   "display_name": "Python 3",
   "language": "python",
   "name": "python3"
  },
  "language_info": {
   "codemirror_mode": {
    "name": "ipython",
    "version": 3
   },
   "file_extension": ".py",
   "mimetype": "text/x-python",
   "name": "python",
   "nbconvert_exporter": "python",
   "pygments_lexer": "ipython3",
   "version": "3.6.8"
  }
 },
 "nbformat": 4,
 "nbformat_minor": 2
}
