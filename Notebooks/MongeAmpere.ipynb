{
 "cells": [
  {
   "cell_type": "markdown",
   "metadata": {},
   "source": [
    "# The Monge-Ampere equation\n",
    "\n",
    "This notebook presents a series of methods for numerically solving the Monge-Ampere equation\n",
    "$$\n",
    "    \\det(\\nabla^2 u) = f\n",
    "$$\n",
    "with Dirichlet boundary conditions. \n",
    "For that purpose, we rely on the monotone and consistent MA-LBR numerical scheme (Monge-Ampere using Lattice Basis Reduction), and some variants.\n",
    "\n",
    "*Summary of this series of notebooks:*\n",
    "[Adaptive grid discretizations, summary](http://nbviewer.jupyter.org/urls/rawgithub.com/Mirebeau/AdaptiveGridDiscretizations/master/Notebooks/Summary.ipynb)\n",
    "\n",
    "**References.**\n",
    "\n",
    "The MA-LBR scheme was first introduced in:\n",
    "* Benamou, J.-D., Collino, F., & Mirebeau, J.-M. (2016). Monotone and Consistent discretization of the Monge-Ampere operator. Mathematics of Computation, 85(302), 2743–2775."
   ]
  },
  {
   "cell_type": "markdown",
   "metadata": {},
   "source": [
    "**Reformulation as an extremal operator.**\n",
    "The starting point of these methods is to observe that, for a positive definite $d \\times d$ matrix $M$\n",
    "$$\n",
    "    d ({\\rm det} M)^\\frac 1 d = \\inf_{{\\rm det} D = 1} {\\rm tr}(D M),\n",
    "$$\n",
    "where, implicitly, the optimization variable $D$ is also assumed to be a symmetric positive definite matrix.\n",
    "\n",
    "If $M = \\nabla^2 u$ is a hessian matrix, then the l.h.s. is (a multiple of a power of) the Monge-Ampere operator, while the r.h.s. is an infimum of second order linear operators, which can be discretized using monotone finite differences.\n",
    "\n",
    "**Discretization strategy**\n",
    "The chosen finite difference scheme for the linear operator is described in \n",
    "[I Tensor decomposition, dimensions 2 and 3](http://nbviewer.jupyter.org/urls/rawgithub.com/Mirebeau/AdaptiveGridDiscretizations/master/Notebooks/TensorSelling.ipynb)\n",
    "Since \n"
   ]
  },
  {
   "cell_type": "markdown",
   "metadata": {},
   "source": [
    "## 0. Importing the required libraries"
   ]
  },
  {
   "cell_type": "code",
   "execution_count": 50,
   "metadata": {},
   "outputs": [],
   "source": [
    "import sys; sys.path.append(\"..\") # Allow import from parent directory\n",
    "from NumericalSchemes import Selling\n",
    "from NumericalSchemes import LinearParallel as lp\n",
    "from NumericalSchemes import FiniteDifferences as fd\n",
    "spad = fd.spAD # Alternatively : from NumericalSchemes import SparseAutomaticDifferentiation as spad"
   ]
  },
  {
   "cell_type": "code",
   "execution_count": 235,
   "metadata": {},
   "outputs": [],
   "source": [
    "import numpy as np\n",
    "import scipy.linalg; import scipy.sparse; import scipy.sparse.linalg \n",
    "from matplotlib import pyplot as plt"
   ]
  },
  {
   "cell_type": "markdown",
   "metadata": {},
   "source": [
    "Some utility functions"
   ]
  },
  {
   "cell_type": "code",
   "execution_count": null,
   "metadata": {},
   "outputs": [],
   "source": [
    "import importlib\n",
    "fd = importlib.reload(fd)\n",
    "spad = importlib.reload(spad)\n",
    "spAD = spad.spAD"
   ]
  },
  {
   "cell_type": "code",
   "execution_count": null,
   "metadata": {},
   "outputs": [],
   "source": [
    "1. Naive discretization"
   ]
  },
  {
   "cell_type": "code",
   "execution_count": 209,
   "metadata": {},
   "outputs": [],
   "source": [
    "# Collect some superbases\n",
    "e0,e1 = np.identity(2).astype(int)\n",
    "SB0 = [ [e0,e,-e0-e] for e in (e1,-e1)] #[ [e0,e1,-e0-e1], [e0,-e1,e1-e0] ]\n",
    "SB1 = SB0 + [ [e,e+f,-2*e-f] for e in (e0,-e0) for f in (e1,-e1) ]\n",
    "SB0, SB1 = (np.array(S).transpose(2,1,0) for S in (SB0,SB1))"
   ]
  },
  {
   "cell_type": "code",
   "execution_count": 4,
   "metadata": {},
   "outputs": [],
   "source": [
    "#Define the domain [0,1]^2, sampled on a cartesian grid\n",
    "gridScale = 0.2\n",
    "aX = np.arange(-1,1,gridScale); aY = aX\n",
    "X,Y = np.meshgrid(aX,aY,indexing='ij')\n",
    "bounds=X.shape"
   ]
  },
  {
   "cell_type": "markdown",
   "metadata": {},
   "source": [
    "## 1. The AD-LBR scheme\n",
    "\n",
    "$$\n",
    "    \\Lambda u(x) := \\inf_{(e_0,e_1,e_2) \\in S} H( \\Delta_{e_0}^h u(x), \\Delta_{e_1}^h u(x), \\delta_{e_2}^h u(x))\n",
    "$$\n",
    "where $H(a,b,c) := H_0(a_+,b_+,c_+)$, and \n",
    "$$\n",
    "    H_0(a,b,c) :=\n",
    "    \\begin{cases}\n",
    "        b c \\quad \\text{ if }\\ a \\geq b+c, \\text{ and likewise permuting } a,b,c\\\\\n",
    "        \\frac 1 2 (a b+b c+c a) - \\frac 1 4 (a^2+b^2+c^2)\\quad \\text{ otherwise}\n",
    "    \\end{cases}\n",
    "$$"
   ]
  },
  {
   "cell_type": "code",
   "execution_count": 317,
   "metadata": {},
   "outputs": [
    {
     "data": {
      "text/plain": [
       "array([[2., 2.],\n",
       "       [2., 2.]])"
      ]
     },
     "execution_count": 317,
     "metadata": {},
     "output_type": "execute_result"
    }
   ],
   "source": [
    "np.maximum(np.ones((2,2)),2)"
   ]
  },
  {
   "cell_type": "code",
   "execution_count": 15,
   "metadata": {},
   "outputs": [],
   "source": [
    "def H0(diffs): \n",
    "    # Interior case\n",
    "    a,b,c = diffs\n",
    "    result = 0.5*(a*b+b*c+c*a)-0.25*(a**2+b**2+c**2) \n",
    "    \n",
    "    # Boundary case\n",
    "    c,b,a=np.sort(diffs,axis=0) # This a>=max(b,c)\n",
    "    pos = a>=b+c \n",
    "    result[pos] = (b*c)[pos]\n",
    "    return result\n",
    "\n",
    "def H(diffs):\n",
    "    return H0(np.clip(diffs,0,None))\n",
    "\n",
    "def Diff2(u,offset,gridScale):    \n",
    "    return (np.roll(u,tuple(offset),axis=(0,1))+np.roll(u,tuple(-offset),axis=(0,1))-2*u)/gridScale**2\n",
    "\n",
    "def MALBR(u,SB,gridScale):\n",
    "    values = np.array([H(np.array([Diff2(u,offset,gridScale) for offset in sb])) \n",
    "                       for sb in SB])\n",
    "    arg = np.argmin(values,axis=0)\n",
    "    return (np.take_along_axis(values,np.expand_dims(arg,axis=0),axis=0), \n",
    "            SB[arg])"
   ]
  },
  {
   "cell_type": "code",
   "execution_count": 16,
   "metadata": {},
   "outputs": [],
   "source": [
    "def Diff2_NonUniform(u,offsets,gridScale):\n",
    "    bounds=u.shape\n",
    "    grid = np.mgrid[tuple(slice(0,n) for n in bounds)]\n",
    "    \n",
    "    return u #TODO\n",
    "\n",
    "def JacMALBR(u,sb,gridScale):\n",
    "    # Returns a jacobian matrix, made of triplets\n",
    "    diffs = np.array((Diff2_NonUniform(u,offset) for offset in sb))\n",
    "    return \n",
    "\n",
    "def GradH(diffs): \n",
    "    \"\"\"Gradient of the elementary function in the MA-LBR scheme.\n",
    "    Assumes the entries are positive. (Otherwise no differentiability.)\"\"\"\n",
    "    # Interior case\n",
    "    a,b,c = diffs\n",
    "    grad = np.array((b+c-a,c+a-b,a+b-c))\n",
    "    \n",
    "    # Boundary case\n",
    "    indices = np.argsort(diffs,axis=0)\n",
    "    c,b,a = np.take_along_axis(diffs,indices,axis=0)\n",
    "    pos = a>=b+c\n",
    "    np.put_along_axis( grad[:,pos], (b[pos],c[pos],np.full(a[pos].shape,0.)), \n",
    "                      indices[pos], axis=0 )"
   ]
  },
  {
   "cell_type": "code",
   "execution_count": 23,
   "metadata": {},
   "outputs": [
    {
     "data": {
      "text/plain": [
       "(2, 10, 10)"
      ]
     },
     "execution_count": 23,
     "metadata": {},
     "output_type": "execute_result"
    }
   ],
   "source": [
    "u=0.5*(X**2+4*Y**2+2*1.5*X*Y)\n",
    "#MALBR(u,SB1,gridScale);\n",
    "val,sb = MALBR(u,SB0,gridScale);\n",
    "\n",
    "grid =np.mgrid[0:10,0:10];\n",
    "np.broadcast_to(np.reshape(grid,"
   ]
  },
  {
   "cell_type": "code",
   "execution_count": 37,
   "metadata": {},
   "outputs": [
    {
     "data": {
      "text/plain": [
       "(3, 2, 3)"
      ]
     },
     "execution_count": 37,
     "metadata": {},
     "output_type": "execute_result"
    }
   ],
   "source": [
    "(np.full((1,2,1),0)+np.full((3,1,3),1)).shape"
   ]
  },
  {
   "cell_type": "code",
   "execution_count": 35,
   "metadata": {},
   "outputs": [
    {
     "data": {
      "text/plain": [
       "array([[0., 0., 0., 0., 0., 0., 0., 0., 0., 0.],\n",
       "       [0., 0., 0., 0., 0., 0., 0., 0., 0., 0.],\n",
       "       [0., 0., 0., 0., 0., 0., 0., 0., 0., 0.],\n",
       "       [0., 0., 0., 0., 0., 0., 0., 0., 0., 0.],\n",
       "       [0., 0., 0., 0., 0., 0., 0., 0., 0., 0.],\n",
       "       [0., 0., 0., 0., 0., 0., 0., 0., 0., 0.],\n",
       "       [0., 0., 0., 0., 0., 0., 0., 0., 0., 0.],\n",
       "       [0., 0., 0., 0., 0., 0., 0., 0., 0., 0.],\n",
       "       [0., 0., 0., 0., 0., 0., 0., 0., 0., 0.],\n",
       "       [0., 0., 0., 0., 0., 0., 0., 0., 0., 0.]])"
      ]
     },
     "execution_count": 35,
     "metadata": {},
     "output_type": "execute_result"
    }
   ],
   "source": [
    "u[grid[0],grid[1]]-u"
   ]
  },
  {
   "cell_type": "code",
   "execution_count": 29,
   "metadata": {},
   "outputs": [
    {
     "data": {
      "text/plain": [
       "array([[4.  , 2.56, 1.44],\n",
       "       [0.08, 0.16, 0.56]])"
      ]
     },
     "execution_count": 29,
     "metadata": {},
     "output_type": "execute_result"
    }
   ],
   "source": [
    "u[((0,1,2),(2,3,4)),((0,1,2),(6,7,8))]"
   ]
  },
  {
   "cell_type": "code",
   "execution_count": 28,
   "metadata": {},
   "outputs": [
    {
     "data": {
      "text/plain": [
       "2.5600000000000005"
      ]
     },
     "execution_count": 28,
     "metadata": {},
     "output_type": "execute_result"
    }
   ],
   "source": [
    "u[1,1]"
   ]
  },
  {
   "cell_type": "code",
   "execution_count": 17,
   "metadata": {},
   "outputs": [
    {
     "data": {
      "text/plain": [
       "array([[-18., -18., -18., -18., -18., -18., -18., -18., -18., -18.],\n",
       "       [  2.,   2.,   2.,   2.,   2.,   2.,   2.,   2.,   2.,   2.],\n",
       "       [  2.,   2.,   2.,   2.,   2.,   2.,   2.,   2.,   2.,   2.],\n",
       "       [  2.,   2.,   2.,   2.,   2.,   2.,   2.,   2.,   2.,   2.],\n",
       "       [  2.,   2.,   2.,   2.,   2.,   2.,   2.,   2.,   2.,   2.],\n",
       "       [  2.,   2.,   2.,   2.,   2.,   2.,   2.,   2.,   2.,   2.],\n",
       "       [  2.,   2.,   2.,   2.,   2.,   2.,   2.,   2.,   2.,   2.],\n",
       "       [  2.,   2.,   2.,   2.,   2.,   2.,   2.,   2.,   2.,   2.],\n",
       "       [  2.,   2.,   2.,   2.,   2.,   2.,   2.,   2.,   2.,   2.],\n",
       "       [  2.,   2.,   2.,   2.,   2.,   2.,   2.,   2.,   2.,   2.]])"
      ]
     },
     "execution_count": 17,
     "metadata": {},
     "output_type": "execute_result"
    }
   ],
   "source": [
    "u = X**2\n",
    "Diff2(u,np.array((1,0)),gridScale)"
   ]
  },
  {
   "cell_type": "code",
   "execution_count": 39,
   "metadata": {},
   "outputs": [
    {
     "data": {
      "text/plain": [
       "(0, 1, 4)"
      ]
     },
     "execution_count": 39,
     "metadata": {},
     "output_type": "execute_result"
    }
   ],
   "source": [
    "tuple(np.array([i**2 for i in range(3)]))"
   ]
  },
  {
   "cell_type": "code",
   "execution_count": null,
   "metadata": {},
   "outputs": [],
   "source": []
  }
 ],
 "metadata": {
  "kernelspec": {
   "display_name": "Python 3",
   "language": "python",
   "name": "python3"
  },
  "language_info": {
   "codemirror_mode": {
    "name": "ipython",
    "version": 3
   },
   "file_extension": ".py",
   "mimetype": "text/x-python",
   "name": "python",
   "nbconvert_exporter": "python",
   "pygments_lexer": "ipython3",
   "version": "3.6.8"
  }
 },
 "nbformat": 4,
 "nbformat_minor": 2
}
