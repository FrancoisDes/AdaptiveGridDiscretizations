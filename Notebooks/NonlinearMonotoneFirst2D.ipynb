{
 "cells": [
  {
   "cell_type": "markdown",
   "metadata": {},
   "source": [
    "# Monotone schemes with a first order non-linearity, in two space dimensions\n",
    "\n",
    "This notebook illustrates the use of monotone finite difference schemes to compute viscosity solutions of non-linear PDEs, in two space dimensions. \n",
    "We consider the PDE\n",
    "$$\n",
    "    -{\\rm tr}(A(x) \\nabla^2 u(x)) + \\| \\nabla u(x) -\\omega(x)\\|^2_{D(x)} - 1 = 0,\n",
    "$$\n",
    "with Dirichlet boundary conditions, where $\\|v\\|_D^2 := <v,D v>$. More details on this problem below.\n",
    "\n",
    "Two possibilities are considered for the discretization of the first order non-linear (quadratic) term, in a monotone fashion. On is second order accurate, but requires the diffusion tensors $A$ to be positive definite, and the solution to be smooth enough, for monotony to hold. The other possibility is only first order accurate, but unconditionally monotone.\n",
    "\n",
    "Our numerical schemes use adaptive stencils, and depend on Selling's decomposition of the diffusion tensors $A$ and $D$. Their implementation is fairly simple and compact (approx. ten lines) thanks to the use of automatic differentiation."
   ]
  },
  {
   "cell_type": "markdown",
   "metadata": {},
   "source": [
    "## 0. Importing the required libraries"
   ]
  },
  {
   "cell_type": "code",
   "execution_count": 1,
   "metadata": {},
   "outputs": [],
   "source": [
    "import sys; sys.path.append(\"..\") # Allow import from parent directory\n",
    "from NumericalSchemes import Selling\n",
    "from NumericalSchemes import LinearParallel as lp\n",
    "from NumericalSchemes import FiniteDifferences as fd\n",
    "spad = fd.spAD # Alternatively : from NumericalSchemes import SparseAutomaticDifferentiation as spad"
   ]
  },
  {
   "cell_type": "code",
   "execution_count": 2,
   "metadata": {},
   "outputs": [],
   "source": [
    "import numpy as np\n",
    "import matplotlib.pyplot as plt\n",
    "import scipy.linalg; import scipy.sparse; import scipy.sparse.linalg "
   ]
  },
  {
   "cell_type": "markdown",
   "metadata": {},
   "source": [
    "Some utility functions"
   ]
  },
  {
   "cell_type": "code",
   "execution_count": 52,
   "metadata": {},
   "outputs": [],
   "source": [
    "def LInfNorm(a):\n",
    "    return np.max(np.abs(a))\n",
    "\n",
    "def as_field(u,shape):\n",
    "    ndim = len(shape)\n",
    "    if u.ndim>=ndim and u.shape[-ndim:]==shape: return u\n",
    "    else: return spad.broadcast_to(u.reshape(u.shape+(1,)*ndim), u.shape+shape)"
   ]
  },
  {
   "cell_type": "code",
   "execution_count": 122,
   "metadata": {},
   "outputs": [],
   "source": [
    "def solve_residue(res):\n",
    "    return - scipy.sparse.linalg.spsolve(\n",
    "        scipy.sparse.coo_matrix(res.triplets()).tocsr(),\n",
    "        res.value.flatten()).reshape(res.shape)\n",
    "\n",
    "def solve(Scheme,params,guess,print_period=1,niter=8,relax=0.):\n",
    "    u = spad.identity(guess.shape)+guess\n",
    "    for i in range(niter):\n",
    "        residue = Scheme(u,*params)\n",
    "        if (i-1)%print_period ==0  or i==niter-1:\n",
    "            print(\"Iteration :\",i,\", Residue norm :\", LInfNorm(residue.value)) # Before solve\n",
    "        u.value += solve_residue(residue + relax)\n",
    "    return u.value"
   ]
  },
  {
   "cell_type": "code",
   "execution_count": 155,
   "metadata": {},
   "outputs": [],
   "source": [
    "import importlib\n",
    "fd = importlib.reload(fd)\n",
    "spad = importlib.reload(spad)\n",
    "lp = importlib.reload(lp)\n",
    "Selling = importlib.reload(Selling)"
   ]
  },
  {
   "cell_type": "markdown",
   "metadata": {},
   "source": [
    "## 1. A non-linear first order term\n",
    "\n",
    "We consider the PDE\n",
    "$$\n",
    "    -{\\rm tr}(A(x) \\nabla^2 u(x)) + \\| \\nabla u(x) -\\omega(x)\\|^2_{D(x)} - 1 = 0,\n",
    "$$\n",
    "with Dirichlet boundary conditions, where $\\|v\\|_D^2 := <v,D v>$.\n",
    "\n",
    "Two cases must be distinguished:\n",
    "* If $A$ is positive definite, then $D$ may be arbitrary (possibly even negative), and we can use a centered finite difference scheme for the first order term. The scheme is then second order consistent and monotone, provided $A \\succeq h {\\rm Id}$ and $D,\\omega = {\\mathcal O}(1)$.\n",
    "* If $A$ vanishes, on part or all of the domain, then we need to assume that $D$ is positive definite, and use an upwind finite difference scheme for the first order term. The scheme is then first order consistent and monotone.\n",
    "\n",
    "More precisely, consider a decomposition of the form\n",
    "$$\n",
    "    A(x) = \\sum_{1 \\leq i \\leq n} \\mu_i(x) e_i(x) e_i(x)^T,\n",
    "$$\n",
    "where $\\mu_i(x)\\geq 0$ and $e_i(x)$ has integer entries. (One needs to assume that the condition number of $A(x)$ is bounded.)\n",
    "\n",
    "**The centered finite differences scheme,** reads \n",
    "$$\n",
    "    -\\sum_{1 \\leq i \\leq n} \\mu_i(x) \\frac{u(x+he_i(x)) - 2 u(x) +u(x-h e_i(x))}{h^2}\n",
    "    + \\sum_{1 \\leq i \\leq n} \\nu_i(x) \\left(\\frac{u(x+h e_i(x))-u(x-h e_i(x))}{2 h} - <\\omega(x),e_i(x)>\\right)^2\n",
    "    -1\n",
    "$$\n",
    "where \n",
    "$$\n",
    "    D(x) = \\sum_{1 \\leq i \\leq n} \\nu_i(x) e_i(x) e_i(x)^T\n",
    "$$\n",
    "is a tensor decomposition over the same stencil as $A(x)$, but with possibly negative weights $\\nu_i(x)$. \n",
    "\n",
    "**The upwind finite differences scheme,** reads\n",
    "$$\n",
    "    -\\sum_{1 \\leq i \\leq n} \\mu_i(x) \\frac{u(x+he_i(x)) - 2 u(x) +u(x-h e_i(x))}{h^2}\n",
    "    + \\sum_{1 \\leq i \\leq n} \\nu_i(x) \\max\\left\\{0,\n",
    "    <\\omega(x),f_i(x)> - \\frac{u(x+h f_i(x))-u(x)}{h},\n",
    "    -<\\omega(x),f_i(x)> - \\frac{u(x-h f_i(x))-u(x)}{h}\n",
    "    \\right\\}^2\n",
    "    -1\n",
    "$$"
   ]
  },
  {
   "cell_type": "code",
   "execution_count": 100,
   "metadata": {},
   "outputs": [],
   "source": [
    "def SchemeCentered(u,A,omega,D,bc,h):\n",
    "    # Compute the decompositions (here offset_e = offset_f)\n",
    "    sb = Selling.ObtuseSuperbase(A) \n",
    "    mu,offset_e = Selling.Decomposition(A,sb=sb)\n",
    "    nu,offset_f = Selling.Decomposition(D,sb=sb)\n",
    "    omega_f = lp.dot_VA(omega,offset_f.astype(float))\n",
    "\n",
    "    # Scheme in the interior\n",
    "    mu,nu,omega_f = (as_field(spad.cast_left_operand(e,u),u.shape) for e in (mu,nu,omega_f)) \n",
    "    residue = ( - (mu*fd.Diff2(u,offset_e,h)).sum(0)\n",
    "               +(nu*(fd.DiffCentered(u,offset_f,h) - omega_f)**2).sum(0)\n",
    "              -1.)\n",
    "\n",
    "    # Boundary conditions\n",
    "    boundary = np.logical_not(np.isnan(bc))\n",
    "    residue[boundary] = u[boundary]-bc[boundary] \n",
    "    return residue\n",
    "\n",
    "def SchemeUpwind(u,A,omega,D,bc,h,padding=0):\n",
    "    # Compute the decompositions (here offset_e = offset_f)\n",
    "    nothing = (np.full((0,),0.), np.full((2,0),0)) # empty coefs and offsets\n",
    "    mu,offset_e = nothing if A is None else Selling.Decomposition(A) \n",
    "    nu,offset_f = nothing if D is None else Selling.Decomposition(D)\n",
    "    omega_f = lp.dot_VA(omega,offset_f.astype(float))\n",
    "    \n",
    "    # Scheme in the interior\n",
    "    maxi = spad.maximum\n",
    "    mu,nu,omega_f = (as_field(spad.cast_left_operand(e,u),u.shape) for e in (mu,nu,omega_f))\n",
    "    residue = ( - (mu*fd.Diff2(u,offset_e,h,padding=padding)).sum(0)\n",
    "               +(nu*maxi(0.,maxi( omega_f - fd.DiffUpwind(u, offset_f,h,padding=padding), \n",
    "                                 -omega_f - fd.DiffUpwind(u,-offset_f,h,padding=padding)) \n",
    "                        )**2\n",
    "                ).sum(0)\n",
    "              -1.)\n",
    "    \n",
    "    # Boundary conditions\n",
    "    boundary = np.logical_not(np.isnan(bc))\n",
    "    residue[boundary] = u[boundary]-bc[boundary] \n",
    "    return residue"
   ]
  },
  {
   "cell_type": "markdown",
   "metadata": {},
   "source": [
    "We next choose some problem parameters. As a starter we solve \n",
    "$$\n",
    "    -\\epsilon \\Delta u +\\| \\nabla u\\|^2 -1 = 0,\n",
    "$$\n",
    "with on the square unit disk $B(0,1)$, with null boundary conditions.\n",
    "This is a a relaxation of the eikonal equation, and the solution is therefore close to the distance to the disk boundary."
   ]
  },
  {
   "cell_type": "code",
   "execution_count": 83,
   "metadata": {},
   "outputs": [],
   "source": [
    "# Create the domain\n",
    "gridScale = 0.02\n",
    "aX0 = np.arange(-1,1,gridScale); aX1=aX0;\n",
    "X0,X1 = np.meshgrid(aX0,aX1,indexing='ij')\n",
    "\n",
    "guess = np.zeros_like(X0) # A correctly shaped arbitrary guess for the solvers"
   ]
  },
  {
   "cell_type": "code",
   "execution_count": 60,
   "metadata": {},
   "outputs": [],
   "source": [
    "A = 0.1*np.array( ((1,0),(0,1)) )\n",
    "omega = np.array( (0,0) )\n",
    "D = np.array( ((1,0),(0,1)) )\n",
    "\n",
    "bc = np.zeros_like(X0)\n",
    "bc[X0**2+X1**2<=1] = np.nan"
   ]
  },
  {
   "cell_type": "code",
   "execution_count": 64,
   "metadata": {},
   "outputs": [
    {
     "name": "stdout",
     "output_type": "stream",
     "text": [
      "Centered discretization\n",
      "Iteration : 1 , Residue norm : 32.076170531724784\n",
      "Iteration : 3 , Residue norm : 1.618354153184753\n",
      "Iteration : 5 , Residue norm : 0.004924899868659072\n",
      "Iteration : 7 , Residue norm : 3.0020430585864233e-13\n",
      "\n",
      "Upwind discretization\n",
      "Iteration : 1 , Residue norm : 36.68395708504851\n",
      "Iteration : 3 , Residue norm : 1.8842589440824922\n",
      "Iteration : 5 , Residue norm : 0.0062981872978271625\n",
      "Iteration : 7 , Residue norm : 6.690203946391193e-13\n"
     ]
    }
   ],
   "source": [
    "params = (A,omega,D,bc,gridScale)\n",
    "print(\"Centered discretization\"); \n",
    "solution_centered = solve(SchemeCentered,params,guess,print_period=2)\n",
    "print()\n",
    "print(\"Upwind discretization\");   \n",
    "solution_upwind = solve(SchemeUpwind,params,guess,print_period=2)"
   ]
  },
  {
   "cell_type": "code",
   "execution_count": 81,
   "metadata": {},
   "outputs": [
    {
     "data": {
      "image/png": "[encoded data removed]",
      "text/plain": [
       "<Figure size 720x288 with 2 Axes>"
      ]
     },
     "metadata": {
      "needs_background": "light"
     },
     "output_type": "display_data"
    }
   ],
   "source": [
    "plt.figure(figsize=(10,4))\n",
    "plt.subplot(1,2,1); plt.axis('equal'); plt.title('Centered solution')\n",
    "plt.contourf(X0,X1,solution_centered);\n",
    "plt.subplot(1,2,2); plt.axis('equal'); plt.title('Upwind solution')\n",
    "plt.contourf(X0,X1,solution_upwind);"
   ]
  },
  {
   "cell_type": "markdown",
   "metadata": {},
   "source": [
    "We introduce a drift term $\\omega$. While $|\\omega|<1$, the deterministic optimal control problem corresponding to $\\|\\nabla u - \\omega\\|=1$ remains locally controllable. The solution is smooth enough that the centered scheme remains monotone, and the two solutions agree."
   ]
  },
  {
   "cell_type": "code",
   "execution_count": 94,
   "metadata": {},
   "outputs": [],
   "source": [
    "drift_direction = np.array( (1,1) )/np.sqrt(2)"
   ]
  },
  {
   "cell_type": "code",
   "execution_count": 95,
   "metadata": {},
   "outputs": [
    {
     "name": "stdout",
     "output_type": "stream",
     "text": [
      "Centered discretization\n",
      "Iteration : 1 , Residue norm : 25.40778231592474\n",
      "Iteration : 3 , Residue norm : 0.6773584986005925\n",
      "Iteration : 5 , Residue norm : 1.0872860567445741e-07\n",
      "Iteration : 7 , Residue norm : 8.570921750106208e-14\n",
      "\n",
      "Upwind discretization\n",
      "Iteration : 1 , Residue norm : 23.526024909771685\n",
      "Iteration : 3 , Residue norm : 0.7461366808818584\n",
      "Iteration : 5 , Residue norm : 2.614337794693e-06\n",
      "Iteration : 7 , Residue norm : 7.527312106958561e-14\n"
     ]
    },
    {
     "data": {
      "image/png": "[encoded data removed]",
      "text/plain": [
       "<Figure size 720x288 with 2 Axes>"
      ]
     },
     "metadata": {
      "needs_background": "light"
     },
     "output_type": "display_data"
    }
   ],
   "source": [
    "params = (A,0.8*drift_direction,D,bc,gridScale)\n",
    "print(\"Centered discretization\"); \n",
    "solution_centered = solve(SchemeCentered,params,guess,print_period=2)\n",
    "print()\n",
    "print(\"Upwind discretization\");   \n",
    "solution_upwind = solve(SchemeUpwind,params,guess,print_period=2)\n",
    "\n",
    "plt.figure(figsize=(10,4))\n",
    "plt.subplot(1,2,1); plt.axis('equal'); plt.title('Centered solution')\n",
    "plt.contourf(X0,X1,solution_centered);\n",
    "plt.subplot(1,2,2); plt.axis('equal'); plt.title('Upwind solution')\n",
    "plt.contourf(X0,X1,solution_upwind);"
   ]
  },
  {
   "cell_type": "markdown",
   "metadata": {},
   "source": [
    "On the other hand, if $|\\omega|>1$, then the solution features a boundary layer, along which the gradient norm is large. As a result, the centered scheme looses monotonicity, and cannot the solver fails. "
   ]
  },
  {
   "cell_type": "code",
   "execution_count": 96,
   "metadata": {},
   "outputs": [
    {
     "name": "stdout",
     "output_type": "stream",
     "text": [
      "Centered discretization\n",
      "Iteration : 1 , Residue norm : 35.05575242835815\n",
      "Iteration : 3 , Residue norm : 4.973488767825273\n",
      "Iteration : 5 , Residue norm : 17.92993559133636\n",
      "Iteration : 7 , Residue norm : 13.055865397360293\n",
      "Iteration : 9 , Residue norm : 31.536527787858518\n",
      "Iteration : 11 , Residue norm : 12.172581287909594\n",
      "\n",
      "Upwind discretization\n",
      "Iteration : 1 , Residue norm : 19.389258632540034\n",
      "Iteration : 3 , Residue norm : 0.0038638518425955226\n",
      "Iteration : 5 , Residue norm : 9.769962616701378e-14\n",
      "Iteration : 7 , Residue norm : 8.748557434046234e-14\n"
     ]
    },
    {
     "data": {
      "image/png": "[encoded data removed]",
      "text/plain": [
       "<Figure size 720x288 with 2 Axes>"
      ]
     },
     "metadata": {
      "needs_background": "light"
     },
     "output_type": "display_data"
    }
   ],
   "source": [
    "params = (A,1.2*drift_direction,D,bc,gridScale)\n",
    "print(\"Centered discretization\"); \n",
    "solution_centered = solve(SchemeCentered,params,guess,print_period=2,niter=12)\n",
    "print()\n",
    "print(\"Upwind discretization\");   \n",
    "solution_upwind = solve(SchemeUpwind,params,guess,print_period=2)\n",
    "\n",
    "plt.figure(figsize=(10,4))\n",
    "plt.subplot(1,2,1); plt.axis('equal'); plt.title('Centered solution')\n",
    "plt.contourf(X0,X1,solution_centered);\n",
    "plt.subplot(1,2,2); plt.axis('equal'); plt.title('Upwind solution')\n",
    "plt.contourf(X0,X1,solution_upwind);"
   ]
  },
  {
   "cell_type": "markdown",
   "metadata": {},
   "source": [
    "The upwind scheme is monotone and solvable even for a vanishing diffusion tensor field $A$.\n",
    "\n",
    "A numerical difficulty arises however for our Newton solver : the jacobian matrix $J$ of the scheme may not be invertible. Fortunately but $J+ \\epsilon {\\rm Id}$ is invertible for any $\\epsilon>0$."
   ]
  },
  {
   "cell_type": "code",
   "execution_count": 103,
   "metadata": {},
   "outputs": [
    {
     "name": "stdout",
     "output_type": "stream",
     "text": [
      "Iteration : 1 , Residue norm : 29.91851777146254\n",
      "Iteration : 3 , Residue norm : 1.6331529368170683\n",
      "Iteration : 5 , Residue norm : 0.0166409019440954\n",
      "Iteration : 7 , Residue norm : 5.512158204434847e-05\n",
      "Iteration : 9 , Residue norm : 9.078573095511189e-07\n",
      "Iteration : 11 , Residue norm : 1.0010628548329237e-08\n"
     ]
    },
    {
     "data": {
      "image/png": "[encoded data removed]",
      "text/plain": [
       "<Figure size 432x288 with 1 Axes>"
      ]
     },
     "metadata": {
      "needs_background": "light"
     },
     "output_type": "display_data"
    }
   ],
   "source": [
    "params = (None,1.2*drift_direction,D,bc,gridScale)\n",
    "epsilon=1; relax = epsilon*spad.identity(X0.shape)\n",
    "solution_upwind = solve(SchemeUpwind,params,guess,print_period=2,niter=12,relax=relax)\n",
    "\n",
    "plt.axis('equal'); plt.title('Upwind solution')\n",
    "plt.contourf(X0,X1,solution_upwind);"
   ]
  },
  {
   "cell_type": "markdown",
   "metadata": {},
   "source": [
    "For validation purposes, we reproduce the canonical example of a laplacian over a square domain."
   ]
  },
  {
   "cell_type": "code",
   "execution_count": 125,
   "metadata": {},
   "outputs": [
    {
     "name": "stdout",
     "output_type": "stream",
     "text": [
      "Iteration : 0 , Residue norm (before solve) : 1.0\n"
     ]
    },
    {
     "data": {
      "image/png": "[encoded data removed]",
      "text/plain": [
       "<Figure size 432x288 with 1 Axes>"
      ]
     },
     "metadata": {
      "needs_background": "light"
     },
     "output_type": "display_data"
    }
   ],
   "source": [
    "bc_square = np.full(X0.shape,np.nan)\n",
    "params = (np.eye(2),np.zeros(2),None,bc_square,gridScale)\n",
    "solution_upwind = solve(SchemeUpwind,params,guess,print_period=2,niter=1)\n",
    "\n",
    "plt.axis('equal'); plt.title('Laplacian on a square')\n",
    "plt.contourf(X0,X1,solution_upwind);"
   ]
  },
  {
   "cell_type": "markdown",
   "metadata": {},
   "source": [
    "### 1.1 Pure eikonal equations\n",
    "\n",
    "The upwind scheme can accomodate, a null diffusion tensor $A$, so that the consider PDE degenerates to a first order eikonal-like equation. \n",
    "$$\n",
    "    \\|\\nabla u-\\omega\\|_D^2-1=0.\n",
    "$$\n",
    "In that case we may in addition impose the boundary condition $+\\infty$ part of the domain boundary, in the sense of viscosity solutions. This corresponds to outflow boundary conditions."
   ]
  },
  {
   "cell_type": "markdown",
   "metadata": {},
   "source": [
    "**Note on the numerical solver.**\n",
    "In this notebook, we use a Newton-like solver for all the PDEs. While this approach does eventually work for the considered examples, let us emphasize that it *lacks both speed and robustness in the case of pure eikonal equations*. Gauss-Siedel iterations (either sweeping or adaptive) are much more adequate, or even better the single pass fast marching method (applicable to this numerical scheme when $\\omega=0$). \n",
    "\n",
    "**Stabilization of the linear solves**\n",
    "The jacobian matrix $J$ of the considered numerical scheme is not invertible, but \n",
    "$$\n",
    "    J + \\epsilon_0 {\\rm Id} - \\epsilon_1 \\Delta\n",
    "$$\n",
    "is invertible for any $\\epsilon_0>0$ and $\\epsilon_1\\geq 0$, where $\\Delta$ is the matrix of the laplacian operator.\n",
    "\n",
    "We use both $\\epsilon_0>0$ and $\\epsilon_1>0$ in the first steps of Newton method, to propagate information over the domain using the laplacian kernel. Once a good approximation of the solution is obtained, we turn to a more basis relaxation with $\\epsilon_0>0$ and $\\epsilon_1=0$."
   ]
  },
  {
   "cell_type": "markdown",
   "metadata": {},
   "source": [
    "### A Riemannian eikonal equation\n",
    "We solve $\\|\\nabla u\\|_D = 1$, where $D$ is the inverse to a Riemannian metric, which is specified in terms of its eigenvalues and eigenvectors.\n",
    "\n",
    "In order to compute the Riemannian distance from the domain center $x_0$, we impose the Dirichlet boundary condition $u(x_0)=0$. On the domain boundary, we set $u=+\\infty$ in the sense of viscosity solutions, to impose outflow boundary conditions."
   ]
  },
  {
   "cell_type": "code",
   "execution_count": 169,
   "metadata": {},
   "outputs": [],
   "source": [
    "ident = spad.identity(X0.shape)\n",
    "lap   = fd.Diff2(ident,(1,0),gridScale) + fd.Diff2(ident,(0,1),gridScale)\n",
    "lap[0,:]=0.; lap[-1,:]=0.; lap[:,0]=0.; lap[:,-1]=0.; "
   ]
  },
  {
   "cell_type": "code",
   "execution_count": 157,
   "metadata": {},
   "outputs": [],
   "source": [
    "# Generate the metric\n",
    "eig1 = np.stack((np.full(X0.shape,1.),(np.pi/2)*np.cos(2*np.pi*X0)))\n",
    "eig1 /= scipy.linalg.norm(eig1,axis=0) \n",
    "eig2 = np.stack( (eig1[1],-eig1[0]) ) # Rotate eig1 by pi/2\n",
    "lambda1, lambda2 = 0.8, 0.2\n",
    "metric = lambda1**-2*lp.outer_self(eig1) + lambda2**-2*lp.outer_self(eig2)\n",
    "\n",
    "# Use a seed in the center\n",
    "bc_center = np.full(X0.shape,np.nan)\n",
    "bc_center[X0.shape[0]//2,X0.shape[1]//2] = 1\n",
    "\n",
    "# Outflow boundary conditions on the boundary\n",
    "padding=np.inf "
   ]
  },
  {
   "cell_type": "code",
   "execution_count": null,
   "metadata": {},
   "outputs": [],
   "source": [
    "# Set the problem parameters\n",
    "D_Riemann = lp.inverse(metric)\n",
    "omega_Riemann = as_field(np.zeros(2),X0.shape)"
   ]
  },
  {
   "cell_type": "code",
   "execution_count": 168,
   "metadata": {},
   "outputs": [
    {
     "name": "stdout",
     "output_type": "stream",
     "text": [
      "Iteration : 1 , Residue norm (before solve) : 1.0\n",
      "Iteration : 5 , Residue norm (before solve) : 3.6078022770426053\n",
      "Iteration : 9 , Residue norm (before solve) : 176.18722032194393\n",
      "Iteration : 13 , Residue norm (before solve) : 4.3716506278712295\n",
      "Iteration : 17 , Residue norm (before solve) : 2.882099500504961\n",
      "Iteration : 19 , Residue norm (before solve) : 2.1484241810174773\n",
      "\n",
      "Iteration : 1 , Residue norm (before solve) : 10.71205372098724\n",
      "Iteration : 5 , Residue norm (before solve) : 0.33991427636277183\n",
      "Iteration : 9 , Residue norm (before solve) : 0.02609673206337071\n",
      "Iteration : 13 , Residue norm (before solve) : 0.0017083302612956874\n",
      "Iteration : 17 , Residue norm (before solve) : 0.00010718314095670145\n",
      "Iteration : 19 , Residue norm (before solve) : 2.6798148805351474e-05\n"
     ]
    },
    {
     "data": {
      "image/png": "[encoded data removed]",
      "text/plain": [
       "<Figure size 432x288 with 1 Axes>"
      ]
     },
     "metadata": {
      "needs_background": "light"
     },
     "output_type": "display_data"
    }
   ],
   "source": [
    "params = (None,omega_Riemann,D_Riemann,bc_center,gridScale,padding)\n",
    "solution_upwind = solve(SchemeUpwind,params,guess, # Zero guess\n",
    "                       print_period=4,niter=20,relax=ident-gridScale*lap) # Laplacian in relaxation\n",
    "\n",
    "print()\n",
    "solution_upwind = solve(SchemeUpwind,params,solution_upwind, # Previous solution as guess\n",
    "                       print_period=4,niter=20,relax=ident) # Basic relaxation\n",
    "\n",
    "plt.axis('equal'); plt.title(\"Riemannian eikonal equation\")\n",
    "plt.contourf(X0,X1,solution_upwind);"
   ]
  },
  {
   "cell_type": "markdown",
   "metadata": {},
   "source": [
    "### An eikonal equation of Rander type\n",
    "\n",
    "We solve a classical instance of Zermelo's navigation problem: $u(x)=T$ is the smallest time for which there exists a path $\\gamma : [0,T] \\to \\Omega$ such that \n",
    "$$\n",
    "    \\| \\gamma'(t) - \\eta(\\gamma(t))\\|_{M(\\gamma(t))} \\leq 1\n",
    "$$\n",
    "for all $0 \\leq t \\leq T$, and with the endpoint conditions $\\gamma(0) = x_0$ (the seed point) and $\\gamma(T)=x$.\n",
    "Here $M$ is a prescribed Riemannian metric, and $\\eta$ is a drift vector field. \n",
    "\n",
    "For well posedness, we require the problem to be locally controllable, which is the case provided \n",
    "$$\n",
    "\\| \\eta(x)\\|_{M(x)} < 1\n",
    "$$\n",
    "at all points of the domain."
   ]
  },
  {
   "cell_type": "code",
   "execution_count": 178,
   "metadata": {},
   "outputs": [],
   "source": [
    "# Choose the Riemannian metric and drift\n",
    "metric = as_field( np.eye(2), X0.shape)\n",
    "drift_max_speed = 0.8\n",
    "drift = drift_max_speed*np.sin(2*np.pi*X0)*np.sin(2*np.pi*X1) * np.stack((X0,X1))/ np.sqrt(X0**2+X1**2)"
   ]
  },
  {
   "cell_type": "code",
   "execution_count": null,
   "metadata": {},
   "outputs": [],
   "source": [
    "def RanderDual(m,v):\n",
    "    s = lp.inverse(m-lp.outer_self(v))\n",
    "    w = lp.dot_AV(s,v)\n",
    "    return (s*(1+lp.dot_VV(v,w)),w)"
   ]
  },
  {
   "cell_type": "code",
   "execution_count": 179,
   "metadata": {},
   "outputs": [],
   "source": [
    "# Set the problem parameters\n",
    "D_Rander,omega_Rander = RanderDual(lp.inverse(metric),drift)\n",
    "D_Rander = lp.inverse(D_Rander)"
   ]
  },
  {
   "cell_type": "code",
   "execution_count": 180,
   "metadata": {},
   "outputs": [
    {
     "name": "stdout",
     "output_type": "stream",
     "text": [
      "Iteration : 1 , Residue norm (before solve) : 3.429512041511205\n",
      "Iteration : 5 , Residue norm (before solve) : 714.2666354623406\n",
      "Iteration : 9 , Residue norm (before solve) : 8.191505580655384\n",
      "Iteration : 13 , Residue norm (before solve) : 0.6922664402124337\n",
      "Iteration : 17 , Residue norm (before solve) : 0.23840958690332226\n",
      "Iteration : 19 , Residue norm (before solve) : 0.0930021639273263\n",
      "\n",
      "Iteration : 1 , Residue norm (before solve) : 0.01167280850189567\n",
      "Iteration : 5 , Residue norm (before solve) : 0.0010799904129059623\n",
      "Iteration : 9 , Residue norm (before solve) : 6.695664115574651e-05\n",
      "Iteration : 13 , Residue norm (before solve) : 4.184358700864976e-06\n",
      "Iteration : 17 , Residue norm (before solve) : 2.615226311064589e-07\n",
      "Iteration : 19 , Residue norm (before solve) : 6.538066354977445e-08\n"
     ]
    },
    {
     "data": {
      "image/png": "[encoded data removed]",
      "text/plain": [
       "<Figure size 432x288 with 1 Axes>"
      ]
     },
     "metadata": {
      "needs_background": "light"
     },
     "output_type": "display_data"
    }
   ],
   "source": [
    "params = (None,omega_Rander,D_Rander,bc_center,gridScale,padding)\n",
    "solution_upwind = solve(SchemeUpwind,params,guess, # Zero guess\n",
    "                       print_period=4,niter=20,relax=ident-gridScale*lap) # Laplacian in relaxation\n",
    "\n",
    "print()\n",
    "solution_upwind = solve(SchemeUpwind,params,solution_upwind, # Previous solution as guess\n",
    "                       print_period=4,niter=20,relax=ident) # Basic relaxation\n",
    "\n",
    "plt.axis('equal'); plt.title(\"Rander eikonal equation\")\n",
    "plt.contourf(X0,X1,solution_upwind);"
   ]
  }
 ],
 "metadata": {
  "kernelspec": {
   "display_name": "Python 3",
   "language": "python",
   "name": "python3"
  },
  "language_info": {
   "codemirror_mode": {
    "name": "ipython",
    "version": 3
   },
   "file_extension": ".py",
   "mimetype": "text/x-python",
   "name": "python",
   "nbconvert_exporter": "python",
   "pygments_lexer": "ipython3",
   "version": "3.6.8"
  }
 },
 "nbformat": 4,
 "nbformat_minor": 2
}
