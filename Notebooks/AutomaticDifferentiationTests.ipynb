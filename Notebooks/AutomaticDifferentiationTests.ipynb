{
 "cells": [
  {
   "cell_type": "markdown",
   "metadata": {},
   "source": [
    "# Automatic differentiation\n",
    "\n",
    "\n",
    "\n",
    "**! Caution with the functions np.sort, np.where, np.stack, np.broadcast_to !**\n",
    "* Problem : the arguments are silently cast to np.ndarray, loosing autodiff information.\n",
    "* Solution : use similarly named replacements from the ad library, which also apply to np.ndarray.\n",
    "\n",
    "**! Caution with numpy scalars and array scalars !**\n",
    "* Problem. In an expression 'a+b' where the l.h.s is a numpy scalar, and the r.h.s an array scalar of autodiff type, the r.h.s is silently cast loosing autodiff information.\n",
    "* Solution : apply 'toarray' from ad library to a in that case (see below)"
   ]
  },
  {
   "cell_type": "code",
   "execution_count": 1,
   "metadata": {},
   "outputs": [],
   "source": [
    "import sys; sys.path.append(\"..\")\n",
    "import numpy as np"
   ]
  },
  {
   "cell_type": "code",
   "execution_count": 2,
   "metadata": {},
   "outputs": [],
   "source": [
    "import NumericalSchemes.AutomaticDifferentiation as ad"
   ]
  },
  {
   "cell_type": "code",
   "execution_count": 3,
   "metadata": {},
   "outputs": [],
   "source": [
    "def reload_packages():\n",
    "    import importlib\n",
    "    ad = importlib.reload(sys.modules['NumericalSchemes.AutomaticDifferentiation'])\n",
    "    ad.Sparse = importlib.reload(ad.Sparse)"
   ]
  },
  {
   "cell_type": "markdown",
   "metadata": {},
   "source": [
    "# Sparse automatic differentiation\n",
    "\n",
    "The sparse automatic differentiation class inherits from np.ndarray."
   ]
  },
  {
   "cell_type": "code",
   "execution_count": 4,
   "metadata": {},
   "outputs": [],
   "source": [
    "x = np.arange(5)\n",
    "y_ad = 5-x+ad.Sparse.identity(x.shape)"
   ]
  },
  {
   "cell_type": "markdown",
   "metadata": {},
   "source": [
    "Elementary properties are inherited"
   ]
  },
  {
   "cell_type": "code",
   "execution_count": 5,
   "metadata": {},
   "outputs": [
    {
     "data": {
      "text/plain": [
       "(1, (5,), 5, 5)"
      ]
     },
     "execution_count": 5,
     "metadata": {},
     "output_type": "execute_result"
    }
   ],
   "source": [
    "y_ad.ndim,y_ad.shape,y_ad.size,len(y_ad)"
   ]
  },
  {
   "cell_type": "markdown",
   "metadata": {},
   "source": [
    "However, internal data includes coefficient and index arrays, with one additional dimension."
   ]
  },
  {
   "cell_type": "code",
   "execution_count": 6,
   "metadata": {},
   "outputs": [
    {
     "data": {
      "text/plain": [
       "1"
      ]
     },
     "execution_count": 6,
     "metadata": {},
     "output_type": "execute_result"
    }
   ],
   "source": [
    "y_ad.size_ad"
   ]
  },
  {
   "cell_type": "markdown",
   "metadata": {},
   "source": [
    "Left and right multiplication, addition, substraction, divition, work as usual."
   ]
  },
  {
   "cell_type": "code",
   "execution_count": 7,
   "metadata": {},
   "outputs": [
    {
     "data": {
      "text/plain": [
       "spAD(array([10.,  9.,  8.,  7.,  6.]), array([[2.],\n",
       "       [2.],\n",
       "       [2.],\n",
       "       [2.],\n",
       "       [2.]]), array([[0],\n",
       "       [1],\n",
       "       [2],\n",
       "       [3],\n",
       "       [4]]))"
      ]
     },
     "execution_count": 7,
     "metadata": {},
     "output_type": "execute_result"
    }
   ],
   "source": [
    "x + 2*y_ad"
   ]
  },
  {
   "cell_type": "markdown",
   "metadata": {},
   "source": [
    "A number of elementary mathematical functions are implemented."
   ]
  },
  {
   "cell_type": "code",
   "execution_count": 8,
   "metadata": {},
   "outputs": [
    {
     "data": {
      "text/plain": [
       "spAD(array([2.44948974, 2.23606798, 2.        , 1.73205081, 1.41421356]), array([[0.20412415],\n",
       "       [0.2236068 ],\n",
       "       [0.25      ],\n",
       "       [0.28867513],\n",
       "       [0.35355339]]), array([[0],\n",
       "       [1],\n",
       "       [2],\n",
       "       [3],\n",
       "       [4]]))"
      ]
     },
     "execution_count": 8,
     "metadata": {},
     "output_type": "execute_result"
    }
   ],
   "source": [
    "np.sqrt(1+y_ad)"
   ]
  },
  {
   "cell_type": "code",
   "execution_count": 9,
   "metadata": {},
   "outputs": [
    {
     "data": {
      "text/plain": [
       "spAD(array([3., 2., 1., 0., 1.]), array([[ 1.],\n",
       "       [ 1.],\n",
       "       [ 1.],\n",
       "       [ 0.],\n",
       "       [-1.]]), array([[0],\n",
       "       [1],\n",
       "       [2],\n",
       "       [3],\n",
       "       [4]]))"
      ]
     },
     "execution_count": 9,
     "metadata": {},
     "output_type": "execute_result"
    }
   ],
   "source": [
    "np.abs(y_ad-2)"
   ]
  },
  {
   "cell_type": "markdown",
   "metadata": {},
   "source": [
    "Comparison operators return an ndarray, as well as integer valued functions."
   ]
  },
  {
   "cell_type": "code",
   "execution_count": 10,
   "metadata": {},
   "outputs": [
    {
     "data": {
      "text/plain": [
       "array([False, False, False,  True,  True])"
      ]
     },
     "execution_count": 10,
     "metadata": {},
     "output_type": "execute_result"
    }
   ],
   "source": [
    "y_ad <= (-1+x)"
   ]
  },
  {
   "cell_type": "code",
   "execution_count": 11,
   "metadata": {},
   "outputs": [
    {
     "data": {
      "text/plain": [
       "array([5., 4., 3., 2., 1.])"
      ]
     },
     "execution_count": 11,
     "metadata": {},
     "output_type": "execute_result"
    }
   ],
   "source": [
    "np.floor(y_ad+0.5)"
   ]
  },
  {
   "cell_type": "markdown",
   "metadata": {},
   "source": [
    "A base class ndarray can be recovered by requesting a view, or field 'value', or casting to np.array."
   ]
  },
  {
   "cell_type": "code",
   "execution_count": 12,
   "metadata": {},
   "outputs": [
    {
     "data": {
      "text/plain": [
       "(array([5., 4., 3., 2., 1.]),\n",
       " array([5., 4., 3., 2., 1.]),\n",
       " array([5., 4., 3., 2., 1.]))"
      ]
     },
     "execution_count": 12,
     "metadata": {},
     "output_type": "execute_result"
    }
   ],
   "source": [
    "y_ad.view(np.ndarray), y_ad.value, np.array(y_ad)"
   ]
  },
  {
   "cell_type": "markdown",
   "metadata": {},
   "source": [
    "maximum and minimum work as well"
   ]
  },
  {
   "cell_type": "code",
   "execution_count": 13,
   "metadata": {},
   "outputs": [
    {
     "data": {
      "text/plain": [
       "spAD(array([5., 4., 3., 3., 4.]), array([[1.],\n",
       "       [1.],\n",
       "       [1.],\n",
       "       [0.],\n",
       "       [0.]]), array([[0],\n",
       "       [1],\n",
       "       [2],\n",
       "       [0],\n",
       "       [0]]))"
      ]
     },
     "execution_count": 13,
     "metadata": {},
     "output_type": "execute_result"
    }
   ],
   "source": [
    "np.maximum(x,y_ad)"
   ]
  },
  {
   "cell_type": "markdown",
   "metadata": {},
   "source": [
    "### Caveats\n",
    "\n",
    "**! Caution with the np.sort function (does nothing) !**\n",
    "Calling it on a spAD type does nothing. Use the spad.sort function instead."
   ]
  },
  {
   "cell_type": "code",
   "execution_count": 15,
   "metadata": {},
   "outputs": [
    {
     "data": {
      "text/plain": [
       "spAD(array([1., 2., 3., 4., 5.]), array([[1.],\n",
       "       [1.],\n",
       "       [1.],\n",
       "       [1.],\n",
       "       [1.]]), array([[4],\n",
       "       [3],\n",
       "       [2],\n",
       "       [1],\n",
       "       [0]]))"
      ]
     },
     "execution_count": 15,
     "metadata": {},
     "output_type": "execute_result"
    }
   ],
   "source": [
    "ad.sort(y_ad) # Correct\n",
    "# np.sort(ad) # Viciously, does nothing"
   ]
  },
  {
   "cell_type": "markdown",
   "metadata": {},
   "source": [
    "**! Caution with np.where, np.stack, np.broadcast_to (silently cast to base class) !**\n",
    "Some other functions numpy functions will cast their arguments to the base class.\n",
    ", are not numpy universal functions, and their variant from the spad library needs to be called."
   ]
  },
  {
   "cell_type": "code",
   "execution_count": 19,
   "metadata": {},
   "outputs": [
    {
     "data": {
      "text/plain": [
       "spAD(array([0., 1., 2., 2., 1.]), array([[0.],\n",
       "       [0.],\n",
       "       [0.],\n",
       "       [1.],\n",
       "       [1.]]), array([[0],\n",
       "       [0],\n",
       "       [0],\n",
       "       [3],\n",
       "       [4]]))"
      ]
     },
     "execution_count": 19,
     "metadata": {},
     "output_type": "execute_result"
    }
   ],
   "source": [
    "ad.where(y_ad<x,y_ad,x) # Correct\n",
    "#np.where(ad<arr,ad,arr) # casts to ndarray"
   ]
  },
  {
   "cell_type": "code",
   "execution_count": 23,
   "metadata": {},
   "outputs": [
    {
     "data": {
      "text/plain": [
       "spAD(array([[0., 0.],\n",
       "       [0., 0.]]), array([[[1.],\n",
       "        [1.]],\n",
       "\n",
       "       [[1.],\n",
       "        [1.]]]), array([[[0],\n",
       "        [1]],\n",
       "\n",
       "       [[2],\n",
       "        [3]]]))"
      ]
     },
     "execution_count": 23,
     "metadata": {},
     "output_type": "execute_result"
    }
   ],
   "source": [
    "a,b = ad.Sparse.identity((2,2))\n",
    "ad.stack((a,b))\n",
    "#np.stack((a,b)) # casts to ndarray"
   ]
  },
  {
   "cell_type": "markdown",
   "metadata": {},
   "source": [
    "**! Caution with numpy scalars and autodiff array scalars !**"
   ]
  },
  {
   "cell_type": "code",
   "execution_count": 25,
   "metadata": {},
   "outputs": [
    {
     "name": "stdout",
     "output_type": "stream",
     "text": [
      "Correct (Best ?)  spAD(array(1.), array([-1.]), array([0]))\n",
      "Correct spAD(array(1.), array([-1.]), array([0]))\n",
      "Correct spAD(array(1.), array([-1.]), array([0]))\n",
      "Correct spAD(array(1.), array([-1.]), array([0]))\n",
      "Correct spAD(array(1.), array([-1.]), array([0]))\n",
      "Correct (different shape)  spAD(array([1.]), array([[-1.]]), array([[0]]))\n",
      "Incorrect !  1.0\n"
     ]
    }
   ],
   "source": [
    "reload_packages()\n",
    "a=ad.Sparse.identity((2,))\n",
    "b=np.ones((2,))\n",
    "\n",
    "#Best\n",
    "b=ad.toarray(b,type(a))\n",
    "print(\"Correct (Best ?) \",b[0]-a[0])\n",
    "\n",
    "# Other possibilities\n",
    "b=np.ones((2,))\n",
    "print(\"Correct\",-(a[0]-b[0]))\n",
    "print(\"Correct\",ad.toarray(b[0])-a[0])\n",
    "print(\"Correct\",ad.toarray(b[0])-ad.toarray(a[0]))\n",
    "print(\"Correct\", ad.Sparse.spAD(b[0])-a[0])\n",
    "print(\"Correct (different shape) \",b[[0]]-a[[0]])\n",
    "print(\"Incorrect ! \",b[0]-a[0])"
   ]
  },
  {
   "cell_type": "markdown",
   "metadata": {},
   "source": [
    "**Non-silent failures:** np.reshape."
   ]
  },
  {
   "cell_type": "markdown",
   "metadata": {},
   "source": [
    "### Tested and working\n",
    "np.take_along_axis, max, min, sum"
   ]
  },
  {
   "cell_type": "code",
   "execution_count": 27,
   "metadata": {},
   "outputs": [
    {
     "data": {
      "text/plain": [
       "spAD(array(5.), array([1.]), array([0]))"
      ]
     },
     "execution_count": 27,
     "metadata": {},
     "output_type": "execute_result"
    }
   ],
   "source": [
    "y_ad.max(axis=0)"
   ]
  },
  {
   "cell_type": "code",
   "execution_count": 28,
   "metadata": {},
   "outputs": [
    {
     "data": {
      "text/plain": [
       "spAD(array(1.), array([1.]), array([4]))"
      ]
     },
     "execution_count": 28,
     "metadata": {},
     "output_type": "execute_result"
    }
   ],
   "source": [
    "np.min(y_ad,axis=0)"
   ]
  },
  {
   "cell_type": "code",
   "execution_count": 29,
   "metadata": {},
   "outputs": [
    {
     "data": {
      "text/plain": [
       "spAD(array(15.), array([1., 1., 1., 1., 1.]), array([0, 1, 2, 3, 4]))"
      ]
     },
     "execution_count": 29,
     "metadata": {},
     "output_type": "execute_result"
    }
   ],
   "source": [
    "np.sum(y_ad,axis=0)"
   ]
  },
  {
   "cell_type": "code",
   "execution_count": null,
   "metadata": {},
   "outputs": [],
   "source": []
  }
 ],
 "metadata": {
  "kernelspec": {
   "display_name": "Python 3",
   "language": "python",
   "name": "python3"
  },
  "language_info": {
   "codemirror_mode": {
    "name": "ipython",
    "version": 3
   },
   "file_extension": ".py",
   "mimetype": "text/x-python",
   "name": "python",
   "nbconvert_exporter": "python",
   "pygments_lexer": "ipython3",
   "version": "3.6.8"
  }
 },
 "nbformat": 4,
 "nbformat_minor": 2
}
