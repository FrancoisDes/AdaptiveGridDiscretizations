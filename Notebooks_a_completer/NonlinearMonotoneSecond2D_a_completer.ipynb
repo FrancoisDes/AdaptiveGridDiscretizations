{
 "cells": [
  {
   "cell_type": "markdown",
   "metadata": {},
   "source": [
    "# Monotone schemes with a second order non-linearity, in two space dimensions\n",
    "\n",
    "This notebook illustrates the use of monotone finite difference schemes to compute viscosity solutions of non-linear PDEs, in two space dimensions. \n",
    "We consider the operator\n",
    "$$\n",
    "    \\Lambda u(x) := \\alpha(x) \\lambda_{\\max}(\\nabla^2 u(x)) + \\lambda_{\\min}(\\nabla^2 u(x))\n",
    "$$\n",
    "in the PDE\n",
    "$$\n",
    "    - \\Lambda u(x) + \\beta(x) = 0,\n",
    "$$\n",
    "with Dirichlet boundary conditions. The PDE parameters are a positive function $\\alpha$, and an arbitrary function $\\beta$.\n",
    "We denote by $\\lambda_{\\max}(M)$ and $\\lambda_{\\min}(M)$ are the largest and smallest eigenvalue of a positive definite tensor $M$. More details on this problem below.\n",
    "\n",
    "We design a two monotone numerical schemes: \n",
    "* The first sheme, based on a discretization of the space of controls, is simple to implement. However it is quite costly numerically, and it induces a consistency defect.\n",
    "* The second scheme is second order consistent and possibly cheaper numerically. However, implementation details are more subtle.\n",
    "\n",
    "The two schemes involves adaptive stencils, built using techniques from lattice geometry. The techniques developed are fairly general, and can be applied to a wide rande of non-linear PDEs. Numerical implementation is kept simple thanks to the use of automatic differentiation.\n",
    "\n",
    "*Summary of this series of notebooks:*\n",
    "[Adaptive grid discretizations, summary](http://nbviewer.jupyter.org/urls/rawgithub.com/Mirebeau/AdaptiveGridDiscretizations/master/Notebooks/Summary.ipynb)"
   ]
  },
  {
   "cell_type": "markdown",
   "metadata": {},
   "source": [
    "## Discretization of the PDE\n",
    "\n",
    "### Reformulation and an extremal operator\n",
    "\n",
    "Assume without loss of generality that $\\alpha \\leq 1$. Then for any positive definite matrix $M$ one has \n",
    "$$\n",
    "    \\alpha \\lambda_{\\max}(M) + \\lambda_{\\min}(M) = \\min_{0 \\leq \\theta \\leq \\pi} {\\rm tr}(D_\\alpha(\\theta) M),\n",
    "$$\n",
    "where we denoted, with $e(\\theta) := (\\cos \\theta, \\sin \\theta)$\n",
    "$$\n",
    "    D_\\alpha(\\theta) = \\alpha\\, e(\\theta) e(\\theta)^T + e(\\theta)^\\perp (e(\\theta)^\\perp)^T,\n",
    "$$\n",
    "the symmetric matrix whose eigenvalues are $\\alpha$ and $1$, the former associated with the eigenvector $e(\\theta)$.\n",
    "\n",
    "**Remark on the range of the variable $\\theta$.**\n",
    "For any $\\theta\\in \\mathbb R$, one has $e(\\theta+\\pi) = -e(\\theta)$, and therefore $D_\\alpha(\\theta+\\pi) = D_\\alpha(\\theta)$. By periodicity, one may therefore limit its attention to the interval $[0,\\pi]$.\n",
    "\n",
    "**Remark on the case $\\alpha\\geq 1$.**\n",
    "This second case is handled by replacing the minimum over $\\theta\\in [0,\\pi]$ with a maximum. This does not induce any additional difficulty from the theoretical or numerical standpoints. However, for the sake of simplicity, we make the assumption that $\\alpha\\leq 1$ in the following.\n",
    "\n",
    "### A monotone discretization strategy : sampling the control space\n",
    "\n",
    "Let $K$ be a positive integer, and let $\\theta_1 \\leq \\cdots \\leq \\theta_K$ be a sampling of the interval $[0,\\pi]$. Then we may consider the approximate operator\n",
    "$$\n",
    "    \\Lambda_K u(x) := \\min_{1 \\leq k \\leq K} {\\rm tr} (D_\\alpha(\\theta_k) \\nabla^2 u(x)).\n",
    "$$\n",
    "Introduce decompositions of the tensors, obtained e.g. by Selling's method,\n",
    "$$\n",
    "    D_\\alpha(\\theta_k) = \\sum_{1 \\leq i \\leq n} \\mu_{ki} e_{ki} e_{ki}^T,\n",
    "$$\n",
    "where $\\mu_{ki} \\geq 0$ and $e_{ki}$ has integer coordinates. Then we obtain the monotone numerical scheme\n",
    "$$\n",
    "    \\min_{1 \\leq k \\leq K} \\sum_{1 \\leq i \\leq n} \\mu_{ki} \\frac{ u(x+h e_{ki}) - 2 u(x) +u(x-h e_{ki})} {h^2}.\n",
    "$$\n",
    "A consistency defect remains, which can be estimated in terms of the width of the sampling $\\theta_1,\\cdots,\\theta_K$ of the control space $[0,\\pi]$. \n",
    "\n",
    "An additional problem is that the numerical scheme cost increases as $K$ increases.\n",
    "This issue becomes more acute in the case of a multi-dimensional control space.\n",
    "\n",
    "### Another monotone and consistent discretization \n",
    "\n",
    "In order to introduce this discretization, we need to recall some elements from lattice geometry.\n",
    "Selling's decomposition of a tensor $D$ involves a geometrical object, referred to as a *$D$-obtuse superbase* and here  denoted\n",
    "$$\n",
    "    {\\rm osb}(D).\n",
    "$$\n",
    "The obtuse superbase $s={\\rm osb}(D)$ dictates the support $(e_{si})_{i=1}^n$ of Selling's decomposition of $D$, hence the stencil of the numerical scheme. We can take advantage of this fact to rewrite the operator as \n",
    "$$\n",
    "    \\Lambda u(x) = \\min_{s \\in S} \\Lambda_s u(x)\n",
    "$$\n",
    "where \n",
    "$$\n",
    "    \\Lambda_s u(x) := \\min_{\\theta, {\\rm obs}(D_\\alpha(\\theta)) = s} {\\rm tr} (D_\\alpha(\\theta) \\nabla^2 u).\n",
    "$$\n",
    "Each operator $\\Lambda_s$ admits the consistent discretization\n",
    "$$\n",
    "    \\Lambda_s u(x) \\approx \\min_{\\theta, {\\rm obs}(D_\\alpha(\\theta)) = s} \\sum_{1 \\leq i \\leq n} \n",
    "    \\mu_{si}(\\theta) \\frac{u(x+h e_{si}) - 2 u(x) + u(x-e_{si})} {h^2}, \n",
    "$$\n",
    "and a closed form can be obtained for the r.h.s. by examining a simple optimization problem."
   ]
  },
  {
   "cell_type": "markdown",
   "metadata": {},
   "source": [
    "## 0. Importing the required libraries"
   ]
  },
  {
   "cell_type": "code",
   "execution_count": 1,
   "metadata": {},
   "outputs": [],
   "source": [
    "import sys; sys.path.append(\"..\") # Allow import from parent directory\n",
    "from NumericalSchemes import Selling\n",
    "from NumericalSchemes import LinearParallel as lp\n",
    "from NumericalSchemes import FiniteDifferences as fd\n",
    "from NumericalSchemes import AutomaticDifferentiation as ad"
   ]
  },
  {
   "cell_type": "code",
   "execution_count": 2,
   "metadata": {},
   "outputs": [],
   "source": [
    "import numpy as np\n",
    "import matplotlib.pyplot as plt"
   ]
  },
  {
   "cell_type": "markdown",
   "metadata": {},
   "source": [
    "Some utility functions"
   ]
  },
  {
   "cell_type": "code",
   "execution_count": 3,
   "metadata": {},
   "outputs": [],
   "source": [
    "def LInfNorm(a):\n",
    "    return np.max(np.abs(np.array(a)))\n",
    "\n",
    "def as_field(u,shape):\n",
    "    ndim = len(shape)\n",
    "    if u.ndim>=ndim and u.shape[-ndim:]==shape: return u\n",
    "    else: return ad.broadcast_to(u.reshape(u.shape+(1,)*ndim), u.shape+shape)\n",
    "    \n",
    "def BoundaryNeighborhood(bc,width=1):\n",
    "    bd = np.isnan(bc)\n",
    "    bd[0,:]=False; bd[-1,:]=False; bd[:,0]=False; bd[:,-1]=False\n",
    "    directions = ( (0,0),(0,1),(0,-1),(1,0),(-1,0) ) \n",
    "    neigh = np.stack(tuple(np.roll(bd,e,axis=(0,1)) for e in directions),axis=0)\n",
    "    neigh = np.logical_and(neigh.any(axis=0),np.logical_not(neigh).any(axis=0))\n",
    "    for i in range(width):\n",
    "        neigh = np.stack(tuple(np.roll(neigh,e,axis=(0,1)) for e in directions),axis=0).any(axis=0)\n",
    "    return neigh"
   ]
  },
  {
   "cell_type": "code",
   "execution_count": 4,
   "metadata": {},
   "outputs": [],
   "source": [
    "def solve_Newton(Scheme,params,guess,print_period=1,niter=8,relax=0.):\n",
    "    u = guess+ad.Sparse.identity(guess.shape)\n",
    "    for i in range(niter):\n",
    "        residue = Scheme(u,*params)\n",
    "        if (i-1)%print_period ==0 or i==niter-1:\n",
    "            print(\"Iteration :\",i,\", Residue norm :\", LInfNorm(residue))\n",
    "        u += (residue+relax).solve()\n",
    "    return np.array(u)"
   ]
  },
  {
   "cell_type": "code",
   "execution_count": 5,
   "metadata": {},
   "outputs": [],
   "source": [
    "def reload_packages():\n",
    "    import importlib\n",
    "    Selling = importlib.reload(sys.modules['NumericalSchemes.Selling'])\n",
    "    lp = importlib.reload(sys.modules['NumericalSchemes.LinearParallel'])\n",
    "    fd = importlib.reload(sys.modules['NumericalSchemes.FiniteDifferences'])\n",
    "    ad = importlib.reload(sys.modules['NumericalSchemes.AutomaticDifferentiation'])\n",
    "    ad.Sparse = importlib.reload(ad.Sparse)"
   ]
  },
  {
   "cell_type": "markdown",
   "metadata": {},
   "source": [
    "## 1. Non-Monotone discretization (purposedly fails)\n",
    "\n",
    "We present a naive, non-monotone discretization of the addressed problem. This scheme can be used to check that a numerical solution (produced by other means) is correct, or to construct synthetic examples. However, using it to solve the PDE is usually bound to fail. \n",
    "\n",
    "The naive scheme is based on a reconstruction of the Hessian matrix of the form\n",
    "$$\n",
    "    \\begin{pmatrix}\n",
    "        D^h_{00} u(x) & D^h_{01} u(x)\\\\\n",
    "        D^h_{01} u(x) & D^h_{11} u(x)\n",
    "    \\end{pmatrix},\n",
    "$$\n",
    "where $D_{00}$, $D_{01}$ and $D_{11}$ are finite-difference operators. Namely\n",
    "$$\n",
    "    D^h_{00} u(x) := \\frac{u(x_0+h,x_1)-2 u(x_0,x_1) + u(x_0-h,x_1)}{h^2},\n",
    "$$\n",
    "likewise for $D^h_{11} u(x)$, and finally\n",
    "$$\n",
    "    D^h_{01} u(x) := \\frac{u(x_0+h,x_1+h)-u(x_0-h,x_1+h)-u(x_0+h,x_1-h)+h(x_0-h,x_1-h)}{4 h^2}.\n",
    "$$"
   ]
  },
  {
   "cell_type": "code",
   "execution_count": 6,
   "metadata": {},
   "outputs": [],
   "source": [
    "def SchemeNonMonotone(u,alpha,beta,bc,h):\n",
    "    # Compute the hessian matrix of u\n",
    "    uxx = fd.Diff2(u,(1,0),h)\n",
    "    uyy = fd.Diff2(u,(0,1),h)\n",
    "    uxy = 0.25*(fd.Diff2(u,(1,1),h) - fd.Diff2(u,(1,-1),h))\n",
    "    \n",
    "    # Compute the eigenvalues\n",
    "    htr = 0.5*(uxx+uyy)\n",
    "    det = uxx*uyy-uxy**2\n",
    "    \n",
    "    delta = htr**2-det\n",
    "    lambda_max = htr+np.sqrt(delta)\n",
    "    lambda_min = htr-np.sqrt(delta)\n",
    "    \n",
    "    # Numerical scheme\n",
    "    residue # A completer\n",
    "    \n",
    "    # Boundary conditions\n",
    "    return ad.where(np.isnan(bc),residue,u-bc)"
   ]
  },
  {
   "cell_type": "markdown",
   "metadata": {},
   "source": [
    "Our next step is to define the parameters of our specific problem. \n",
    "Regarding the boundary conditions, we set $u=0$ on the square boundary, and $u=-1$ on some interior diamond."
   ]
  },
  {
   "cell_type": "code",
   "execution_count": 7,
   "metadata": {},
   "outputs": [],
   "source": [
    "# Create the domain\n",
    "gridScale = 0.02\n",
    "aX0 = np.arange(-1,1,gridScale); aX1=aX0;\n",
    "X0,X1 = np.meshgrid(aX0,aX1,indexing='ij')\n",
    "\n",
    "guess = np.zeros_like(X0)\n",
    "\n",
    "# Set the boundary conditions \n",
    "bc=np.full(X0.shape,np.nan) \n",
    "bc[np.abs(X0)+np.abs(X1)<0.4] = -1\n",
    "\n",
    "# Choose the PDE parameters\n",
    "alpha = 0.25\n",
    "beta = 1"
   ]
  },
  {
   "cell_type": "markdown",
   "metadata": {},
   "source": [
    "The naive and non-monotone discretization scheme is consistent, but lacks any other sort of theoretical guarantees. \n",
    "\n",
    "**Attempts to solve it numerically will fail. This is expected behavior**"
   ]
  },
  {
   "cell_type": "code",
   "execution_count": 8,
   "metadata": {},
   "outputs": [],
   "source": [
    "params = (alpha,beta,bc,gridScale)\n",
    "#solution = solve_Newton(SchemeNonMonotone,params,guess) # Fails (quickly), run if you dare"
   ]
  },
  {
   "cell_type": "markdown",
   "metadata": {},
   "source": [
    "## 2. Monotone discretization by sampling of the control space\n",
    "\n",
    "The numerical scheme based on sampling the control space is extremely simple and generic. Given fields of positive definite diffusion tensors $D_k(x)$, $1 \\leq k \\leq K$, without any specific assumption on their origin, we compute the decompositions\n",
    "$$\n",
    "    D_k(x) = \\sum_{1 \\leq i \\leq n} \\mu_{ki}(x) e_{ki}(x) e_{ki}(x)^T.\n",
    "$$\n",
    "We then implement the scheme\n",
    "$$\n",
    "    \\beta(x) - \\min_{1\\leq k \\leq K} \\sum_{1 \\leq i \\leq n} \n",
    "    \\mu_{ki}(x) \\frac{u(x+h e_{ki}(x))-2 u(x) +u(x-h e_{ki}(x))}{h^2}.\n",
    "$$"
   ]
  },
  {
   "cell_type": "code",
   "execution_count": 9,
   "metadata": {},
   "outputs": [],
   "source": [
    "def SchemeSampling(u,diffs,beta,bc,gridScale):\n",
    "    # Tensor decomposition \n",
    "    coefs,offsets = Selling.Decomposition(diffs)\n",
    "    \n",
    "    # Numerical scheme \n",
    "    coefs = as_field(coefs,u.shape)\n",
    "    residue # A completer. Utiliser ( ... ).sum(0).min(0)\n",
    "    \n",
    "    # Boundary conditions\n",
    "    return ad.where(np.isnan(bc),residue,u-bc)"
   ]
  },
  {
   "cell_type": "markdown",
   "metadata": {},
   "source": [
    "The tensors involved in our PDE take the following form."
   ]
  },
  {
   "cell_type": "code",
   "execution_count": 10,
   "metadata": {},
   "outputs": [],
   "source": [
    "def Diff(alpha,theta):\n",
    "    e0 = np.array((np.cos(theta),np.sin(theta)))\n",
    "    e1 = np.array((-np.sin(theta),np.cos(theta)))\n",
    "    if isinstance(alpha,np.ndarray): \n",
    "        e0,e1 = (as_field(e,alpha.shape) for e in (e0,e1))\n",
    "    return alpha*lp.outer_self(e0) + lp.outer_self(e1)"
   ]
  },
  {
   "cell_type": "markdown",
   "metadata": {},
   "source": [
    "We also choose a discretization of the control space."
   ]
  },
  {
   "cell_type": "code",
   "execution_count": 11,
   "metadata": {},
   "outputs": [],
   "source": [
    "ntheta = 20\n",
    "thetas = np.linspace(0,np.pi,ntheta,endpoint=False)"
   ]
  },
  {
   "cell_type": "markdown",
   "metadata": {},
   "source": [
    "We next solve the PDE and display the solution."
   ]
  },
  {
   "cell_type": "code",
   "execution_count": 12,
   "metadata": {},
   "outputs": [
    {
     "name": "stdout",
     "output_type": "stream",
     "text": [
      "Iteration : 1 , Residue norm : 96.14257029887642\n",
      "Iteration : 3 , Residue norm : 0.3605795761342847\n",
      "Iteration : 5 , Residue norm : 0.0021915556520752943\n",
      "Iteration : 7 , Residue norm : 1.2434497875801753e-12\n"
     ]
    }
   ],
   "source": [
    "params = (Diff(alpha,thetas), beta,bc,gridScale)\n",
    "solution = solve_Newton(SchemeSampling,params,guess,print_period=2)"
   ]
  },
  {
   "cell_type": "code",
   "execution_count": 13,
   "metadata": {},
   "outputs": [
    {
     "data": {
      "image/png": "[encoded data removed]",
      "text/plain": [
       "<Figure size 432x288 with 1 Axes>"
      ]
     },
     "metadata": {
      "needs_background": "light"
     },
     "output_type": "display_data"
    }
   ],
   "source": [
    "plt.axis('equal'); plt.title('Solution to lambda_max/2 + lambda_min = 1')\n",
    "plt.contourf(X0,X1,solution);"
   ]
  },
  {
   "cell_type": "markdown",
   "metadata": {},
   "source": [
    "Since the solution is not explicit, we use the non-monotone numerical scheme to test the result.\n",
    "We eliminate a layer around the neighborhood of the boundary conditions, where the solution is not smooth."
   ]
  },
  {
   "cell_type": "code",
   "execution_count": 14,
   "metadata": {},
   "outputs": [
    {
     "name": "stdout",
     "output_type": "stream",
     "text": [
      "Max cross-residue of the sampling based numerical solution: 0.07255245630687623\n"
     ]
    },
    {
     "data": {
      "image/png": "[encoded data removed]",
      "text/plain": [
       "<Figure size 432x288 with 1 Axes>"
      ]
     },
     "metadata": {
      "needs_background": "light"
     },
     "output_type": "display_data"
    }
   ],
   "source": [
    "residue_non_monotone = SchemeNonMonotone(solution,alpha,beta,bc,gridScale)\n",
    "residue_non_monotone[BoundaryNeighborhood(bc,width=5)] = 0.\n",
    "print(\"Max cross-residue of the sampling based numerical solution:\",LInfNorm(residue_non_monotone))\n",
    "plt.axis('equal'); plt.title(\"Cross-residue of the sampling based numerical solution:\")\n",
    "plt.contourf(X0,X1,residue_non_monotone);"
   ]
  },
  {
   "cell_type": "markdown",
   "metadata": {},
   "source": [
    "### 1.1 Limit case : $\\alpha=1$.\n",
    "\n",
    "If one chooses $\\alpha=1$, then the PDE becomes linear, namely $-\\Delta u + \\beta = 0$.\n",
    "In this very specific case, the sampling based and non-monotone scheme coincide, with the usual discretization of the laplacian operator.\n",
    "As a result the Newton method converges in one iteration, and the cross-residue vanishes."
   ]
  },
  {
   "cell_type": "code",
   "execution_count": 15,
   "metadata": {},
   "outputs": [
    {
     "name": "stdout",
     "output_type": "stream",
     "text": [
      "Iteration : 1 , Residue norm : 6.366684957015423e-12\n"
     ]
    },
    {
     "data": {
      "image/png": "[encoded data removed]",
      "text/plain": [
       "<Figure size 432x288 with 1 Axes>"
      ]
     },
     "metadata": {
      "needs_background": "light"
     },
     "output_type": "display_data"
    }
   ],
   "source": [
    "alpha2=1\n",
    "params = (Diff(alpha2,thetas), beta,bc,gridScale)\n",
    "solution = solve_Newton(SchemeSampling,params,guess,print_period=2,niter=2)\n",
    "\n",
    "plt.axis('equal'); plt.title('Solution to lambda_max + lambda_min = 1')\n",
    "plt.contourf(X0,X1,solution);"
   ]
  },
  {
   "cell_type": "code",
   "execution_count": 16,
   "metadata": {},
   "outputs": [
    {
     "name": "stdout",
     "output_type": "stream",
     "text": [
      "Cross residue in special case alpha=1 : 2.5011104298755527e-12\n"
     ]
    }
   ],
   "source": [
    "print(\"Cross residue in special case alpha=1 :\", LInfNorm(SchemeNonMonotone(solution,alpha2,beta,bc,gridScale)) )"
   ]
  },
  {
   "cell_type": "markdown",
   "metadata": {},
   "source": [
    "### 1.2 Limit case : $\\alpha \\to 0$\n",
    "\n",
    "In contrast, if one chooses a very small value of $\\alpha$, then PDE becomes more and more non-linear, with raises numerical difficulties discussed below.\n",
    "If in addition $\\beta = 0$, then we recover PDE characterization of the convex envelope:\n",
    "$$\n",
    "    -\\lambda_{\\min}(\\nabla^2 u) = 0\n",
    "$$\n",
    "\n",
    "**Numerical challenges.** \n",
    "As $\\alpha\\to 0$, the condition number of the tensors $D_\\alpha(\\theta)$ increase. A finer sampling of the interval $[0,\\pi]$ is required, which increases the numerical cost of the method.\n",
    "In addition, the width of the discretization stencil increases, and therefore the effective discretization scale is reduced.\n",
    "\n",
    "**Note on computing the convex envelope.**\n",
    "The computation of convex envelopes is one of the most central problems in algorithmic geometry. For instance, Voronoi diagrams are deduced from a convex envelope computation in higher dimension.\n",
    "Extremely efficient software packages are available for this problem, and PDE methods are *not* the recommended way to go."
   ]
  },
  {
   "cell_type": "code",
   "execution_count": 17,
   "metadata": {},
   "outputs": [],
   "source": [
    "alpha_small = 0.01\n",
    "ntheta_small = 50\n",
    "thetas_small = np.linspace(0,np.pi,ntheta_small,endpoint=False)\n",
    "beta_cvx_env = 0."
   ]
  },
  {
   "cell_type": "markdown",
   "metadata": {},
   "source": [
    "The above parameters turn the solution into the convex envelope of the boundary conditions. Recall that we imposed:\n",
    "* $u=0$ on the (exterior) square boundary.\n",
    "* $u=-1$ on the (interior) diamond boundary."
   ]
  },
  {
   "cell_type": "code",
   "execution_count": 18,
   "metadata": {},
   "outputs": [
    {
     "name": "stdout",
     "output_type": "stream",
     "text": [
      "Iteration : 1 , Residue norm : 596.9051799892471\n",
      "Iteration : 5 , Residue norm : 0.9353900056267848\n",
      "Iteration : 9 , Residue norm : 0.0005874729901790961\n",
      "Iteration : 13 , Residue norm : 9.059476861011716e-05\n",
      "Iteration : 14 , Residue norm : 6.74161340430146e-05\n"
     ]
    },
    {
     "data": {
      "image/png": "[encoded data removed]",
      "text/plain": [
       "<Figure size 432x288 with 1 Axes>"
      ]
     },
     "metadata": {
      "needs_background": "light"
     },
     "output_type": "display_data"
    }
   ],
   "source": [
    "params = (Diff(alpha_small,thetas_small), beta_cvx_env,bc,gridScale) \n",
    "solution = solve_Newton(SchemeSampling,params,guess,print_period=4,niter=15)\n",
    "plt.axis('equal'); plt.title('Convex envelope of the boundary conditions.')\n",
    "plt.contourf(X0,X1,solution);"
   ]
  },
  {
   "cell_type": "markdown",
   "metadata": {},
   "source": [
    "The solution is piecewise affine, and its gradient is piecewise constant.\n",
    "Note in particular that the solution is not twice differentiable, and the equation $-\\lambda_{\\min}(\\nabla^2 u) = 0$ here only has meaning in the sense of viscosity solutions."
   ]
  },
  {
   "cell_type": "code",
   "execution_count": 19,
   "metadata": {},
   "outputs": [
    {
     "data": {
      "image/png": "[encoded data removed]",
      "text/plain": [
       "<Figure size 432x288 with 1 Axes>"
      ]
     },
     "metadata": {
      "needs_background": "light"
     },
     "output_type": "display_data"
    }
   ],
   "source": [
    "grad = np.array(np.gradient(solution,gridScale))\n",
    "plt.axis('equal'); plt.title(\"The solution to the convex envelope problem is piecewise affine\")\n",
    "plt.contourf(X0,X1,np.linalg.norm(grad,axis=0));"
   ]
  },
  {
   "cell_type": "markdown",
   "metadata": {},
   "source": [
    "We next negate the boundary conditions, imposing:\n",
    "* $u=0$ on the (exterior) square boundary.\n",
    "* $u=1$ on the (interior) diamond boundary.\n",
    "\n",
    "This raises an apparent incompatibility: the convex envelope should be $u=0$ on the whole square, yet we impose a distinct value in the diamond. What to expect ?"
   ]
  },
  {
   "cell_type": "code",
   "execution_count": 20,
   "metadata": {},
   "outputs": [],
   "source": [
    "bc_negated = -bc"
   ]
  },
  {
   "cell_type": "code",
   "execution_count": 21,
   "metadata": {},
   "outputs": [
    {
     "name": "stdout",
     "output_type": "stream",
     "text": [
      "Iteration : 1 , Residue norm : 844.9002191853244\n",
      "Iteration : 5 , Residue norm : 113.95018107600596\n",
      "Iteration : 9 , Residue norm : 16.080289254692186\n",
      "Iteration : 13 , Residue norm : 2.1815882433884326e-13\n",
      "Iteration : 14 , Residue norm : 2.1338486533295509e-13\n"
     ]
    },
    {
     "data": {
      "image/png": "[encoded data removed]",
      "text/plain": [
       "<Figure size 432x288 with 1 Axes>"
      ]
     },
     "metadata": {
      "needs_background": "light"
     },
     "output_type": "display_data"
    }
   ],
   "source": [
    "params = (Diff(alpha_small,thetas_small), beta_cvx_env,bc_negated,gridScale) \n",
    "solution = solve_Newton(SchemeSampling,params,guess,print_period=4,niter=15)\n",
    "plt.axis('equal'); plt.title('Convex envelope of the boundary conditions.')\n",
    "plt.contourf(X0,X1,solution);"
   ]
  },
  {
   "cell_type": "markdown",
   "metadata": {},
   "source": [
    "The solution to the second order PDE $-\\lambda_{\\min}(\\nabla^2 u)$ is still unique and well defined, in the sense of *viscosity solutions*, with these boundary conditions. It is piecewise constant, with value $u=0$ except on the interior diamond where we impose $u=-1$."
   ]
  },
  {
   "cell_type": "markdown",
   "metadata": {},
   "source": [
    "## 3. Monotone and consistent discretization (TODO)"
   ]
  },
  {
   "cell_type": "code",
   "execution_count": null,
   "metadata": {},
   "outputs": [],
   "source": []
  }
 ],
 "metadata": {
  "kernelspec": {
   "display_name": "Python 3",
   "language": "python",
   "name": "python3"
  },
  "language_info": {
   "codemirror_mode": {
    "name": "ipython",
    "version": 3
   },
   "file_extension": ".py",
   "mimetype": "text/x-python",
   "name": "python",
   "nbconvert_exporter": "python",
   "pygments_lexer": "ipython3",
   "version": "3.6.8"
  }
 },
 "nbformat": 4,
 "nbformat_minor": 2
}
