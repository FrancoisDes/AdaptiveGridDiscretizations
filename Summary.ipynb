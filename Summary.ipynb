{
 "cells": [
  {
   "cell_type": "markdown",
   "metadata": {},
   "source": [
    "# Adaptive grid discretizations\n",
    "\n",
    "## A set of tools for discretizing anisotropic PDEs on cartesian grids"
   ]
  },
  {
   "cell_type": "markdown",
   "metadata": {},
   "source": [
    "This collection of notebooks presents is part of a *reproducible research* effort in the numerical analysis of  partial differential equations. The emphasis is on non-linear and anisotropic problems, discretized on cartesian grids. We present:\n",
    "* The mathematical tools underlying the numerical methods, coming in particular from the field of lattice geometry\n",
    "* Reference implementations, designed to be (reasonably) efficient and pedagogical. (Except for fast marching methods, where the implementations are contained in a black-box C++ library.)\n",
    "* Test cases. Indeed, these notebooks are also intended as a test suite for the numerical libraries.\n",
    "* Application examples."
   ]
  },
  {
   "cell_type": "markdown",
   "metadata": {},
   "source": [
    "\n",
    "**Disclaimer** This series of notebooks is part of an ongoing research project. While we do have a strong focus on research reproducibility, the provided numerical codes should be regarded as experimental and come *without any guarantee of any type*. <!---They are also possibly less extensively tested and mature-->\n",
    "\n"
   ]
  },
  {
   "cell_type": "code",
   "execution_count": 4,
   "metadata": {},
   "outputs": [],
   "source": [
    "import importlib; TocTools = importlib.reload(TocTools)"
   ]
  },
  {
   "cell_type": "code",
   "execution_count": 5,
   "metadata": {},
   "outputs": [],
   "source": [
    "import sys; sys.path.append(\"..\") # Allow imports from parent directory"
   ]
  },
  {
   "cell_type": "code",
   "execution_count": 6,
   "metadata": {},
   "outputs": [
    {
     "data": {
      "text/markdown": [
       "# Table of contents"
      ],
      "text/plain": [
       "<IPython.core.display.Markdown object>"
      ]
     },
     "metadata": {},
     "output_type": "display_data"
    },
    {
     "data": {
      "text/markdown": [
       "### 1. [Fast Marching Methods](Notebooks_FMM/Summary.ipynb) [(view online)](http://nbviewer.jupyter.org/urls/rawgithub.com/Mirebeau/AdaptiveGridDiscretizations/master/Notebooks_FMM/Summary.ipynb)\n",
       " * A. Isotropic and anisotropic metrics\n",
       "\n",
       "  * I. [Classical isotropic fast marching](Notebooks_FMM/Isotropic.ipynb) [(view online)](http://nbviewer.jupyter.org/urls/rawgithub.com/Mirebeau/AdaptiveGridDiscretizations/master/Notebooks_FMM/Isotropic.ipynb)\n",
       "\n",
       "  * II. [Riemannian metrics](Notebooks_FMM/Riemannian.ipynb) [(view online)](http://nbviewer.jupyter.org/urls/rawgithub.com/Mirebeau/AdaptiveGridDiscretizations/master/Notebooks_FMM/Riemannian.ipynb)\n",
       "\n",
       "  * III. [Rander metrics](Notebooks_FMM/Rander.ipynb) [(view online)](http://nbviewer.jupyter.org/urls/rawgithub.com/Mirebeau/AdaptiveGridDiscretizations/master/Notebooks_FMM/Rander.ipynb)\n",
       "\n",
       "  * IV. [Asymmetric quadratic metrics](Notebooks_FMM/AsymmetricQuadratic.ipynb) [(view online)](http://nbviewer.jupyter.org/urls/rawgithub.com/Mirebeau/AdaptiveGridDiscretizations/master/Notebooks_FMM/AsymmetricQuadratic.ipynb)\n",
       "\n",
       " * B. Non holonomic metrics and curvature penalization\n",
       "\n",
       "  * I. [Curvature penalized planar paths.](Notebooks_FMM/Curvature.ipynb) [(view online)](http://nbviewer.jupyter.org/urls/rawgithub.com/Mirebeau/AdaptiveGridDiscretizations/master/Notebooks_FMM/Curvature.ipynb)\n",
       "\n",
       "  * II. [Five dimensional Reeds-Shepp models.](Notebooks_FMM/Curvature3.ipynb) [(view online)](http://nbviewer.jupyter.org/urls/rawgithub.com/Mirebeau/AdaptiveGridDiscretizations/master/Notebooks_FMM/Curvature3.ipynb)\n",
       "\n",
       "  * III. [Customized curvature penalization](Notebooks_FMM/DeviationHorizontality.ipynb) [(view online)](http://nbviewer.jupyter.org/urls/rawgithub.com/Mirebeau/AdaptiveGridDiscretizations/master/Notebooks_FMM/DeviationHorizontality.ipynb)\n",
       "\n",
       " * C. Algorithmic enhancements to the fast marching method\n",
       "\n",
       "  * I. [Achieving high accuracy](Notebooks_FMM/HighAccuracy.ipynb) [(view online)](http://nbviewer.jupyter.org/urls/rawgithub.com/Mirebeau/AdaptiveGridDiscretizations/master/Notebooks_FMM/HighAccuracy.ipynb)\n",
       "\n",
       "  * II. [Sensitivity analysis](Notebooks_FMM/Sensitivity.ipynb) [(view online)](http://nbviewer.jupyter.org/urls/rawgithub.com/Mirebeau/AdaptiveGridDiscretizations/master/Notebooks_FMM/Sensitivity.ipynb)\n",
       "\n",
       " * D. Application examples\n",
       "\n",
       "  * I. [A mathematical model for Poggendorff's visual illusions](Notebooks_FMM/Illusion.ipynb) [(view online)](http://nbviewer.jupyter.org/urls/rawgithub.com/Mirebeau/AdaptiveGridDiscretizations/master/Notebooks_FMM/Illusion.ipynb)\n",
       "\n",
       "  * II. [Tubular structure segmentation](Notebooks_FMM/Tubular.ipynb) [(view online)](http://nbviewer.jupyter.org/urls/rawgithub.com/Mirebeau/AdaptiveGridDiscretizations/master/Notebooks_FMM/Tubular.ipynb)\n",
       "\n",
       "  * III. [Fisher-Rao distances](Notebooks_FMM/FisherRao.ipynb) [(view online)](http://nbviewer.jupyter.org/urls/rawgithub.com/Mirebeau/AdaptiveGridDiscretizations/master/Notebooks_FMM/FisherRao.ipynb)\n",
       "\n",
       "  * IV. [The Dubins-Zermelo problem](Notebooks_FMM/DubinsZermelo.ipynb) [(view online)](http://nbviewer.jupyter.org/urls/rawgithub.com/Mirebeau/AdaptiveGridDiscretizations/master/Notebooks_FMM/DubinsZermelo.ipynb)\n",
       "\n",
       "### 2. [Non-divergence form PDEs](Notebooks_NonDiv/Summary.ipynb) [(view online)](http://nbviewer.jupyter.org/urls/rawgithub.com/Mirebeau/AdaptiveGridDiscretizations/master/Notebooks_NonDiv/Summary.ipynb)\n",
       " * A. Monotone numerical schemes\n",
       "\n",
       "  * I. [Monotone schemes, in dimension 1](Notebooks_NonDiv/MonotoneSchemes1D.ipynb) [(view online)](http://nbviewer.jupyter.org/urls/rawgithub.com/Mirebeau/AdaptiveGridDiscretizations/master/Notebooks_NonDiv/MonotoneSchemes1D.ipynb)\n",
       "\n",
       "  * II. [Linear partial differential equations](Notebooks_NonDiv/LinearMonotoneSchemes2D.ipynb) [(view online)](http://nbviewer.jupyter.org/urls/rawgithub.com/Mirebeau/AdaptiveGridDiscretizations/master/Notebooks_NonDiv/LinearMonotoneSchemes2D.ipynb)\n",
       "\n",
       "  * III. [PDEs with a first order non-linearity](Notebooks_NonDiv/NonlinearMonotoneFirst2D.ipynb) [(view online)](http://nbviewer.jupyter.org/urls/rawgithub.com/Mirebeau/AdaptiveGridDiscretizations/master/Notebooks_NonDiv/NonlinearMonotoneFirst2D.ipynb)\n",
       "\n",
       "  * IV. [PDEs with a second order non-linearity](Notebooks_NonDiv/NonlinearMonotoneSecond2D.ipynb) [(view online)](http://nbviewer.jupyter.org/urls/rawgithub.com/Mirebeau/AdaptiveGridDiscretizations/master/Notebooks_NonDiv/NonlinearMonotoneSecond2D.ipynb)\n",
       "\n",
       " * B. Optimal transport\n",
       "\n",
       "  * I. [The Monge-Ampere equation](Notebooks_NonDiv/MongeAmpere.ipynb) [(view online)](http://nbviewer.jupyter.org/urls/rawgithub.com/Mirebeau/AdaptiveGridDiscretizations/master/Notebooks_NonDiv/MongeAmpere.ipynb)\n",
       "\n",
       "  * II. [Optimal transport non-linearities and boundary conditions, in dimension 1](Notebooks_NonDiv/OTBoundary1D.ipynb) [(view online)](http://nbviewer.jupyter.org/urls/rawgithub.com/Mirebeau/AdaptiveGridDiscretizations/master/Notebooks_NonDiv/OTBoundary1D.ipynb)\n",
       "\n",
       "### 3. [Divergence form PDEs](Notebooks_Div/Summary.ipynb) [(view online)](http://nbviewer.jupyter.org/urls/rawgithub.com/Mirebeau/AdaptiveGridDiscretizations/master/Notebooks_Div/Summary.ipynb)\n",
       " * A. Applications\n",
       "\n",
       "  * I. [Extracting geodesics from the heat kernel](Notebooks_Div/VaradhanGeodesics.ipynb) [(view online)](http://nbviewer.jupyter.org/urls/rawgithub.com/Mirebeau/AdaptiveGridDiscretizations/master/Notebooks_Div/VaradhanGeodesics.ipynb)\n",
       "\n",
       "### 4. [Algorithmic tools](Notebooks_Algo/Summary.ipynb) [(view online)](http://nbviewer.jupyter.org/urls/rawgithub.com/Mirebeau/AdaptiveGridDiscretizations/master/Notebooks_Algo/Summary.ipynb)\n",
       " * A. Tensor decomposition techniques\n",
       "\n",
       "  * I. [Selling's algorithm, in dimension 2 and 3](Notebooks_Algo/TensorSelling.ipynb) [(view online)](http://nbviewer.jupyter.org/urls/rawgithub.com/Mirebeau/AdaptiveGridDiscretizations/master/Notebooks_Algo/TensorSelling.ipynb)\n",
       "\n",
       "  * II. [Voronoi's reduction, in dimension 4 and 5](Notebooks_Algo/TensorVoronoi.ipynb) [(view online)](http://nbviewer.jupyter.org/urls/rawgithub.com/Mirebeau/AdaptiveGridDiscretizations/master/Notebooks_Algo/TensorVoronoi.ipynb)\n"
      ],
      "text/plain": [
       "<IPython.core.display.Markdown object>"
      ]
     },
     "metadata": {},
     "output_type": "display_data"
    }
   ],
   "source": [
    "from Miscellaneous import TocTools; TocTools.displayTOCss()"
   ]
  },
  {
   "cell_type": "code",
   "execution_count": null,
   "metadata": {},
   "outputs": [],
   "source": []
  }
 ],
 "metadata": {
  "kernelspec": {
   "display_name": "Python 3",
   "language": "python",
   "name": "python3"
  },
  "language_info": {
   "codemirror_mode": {
    "name": "ipython",
    "version": 3
   },
   "file_extension": ".py",
   "mimetype": "text/x-python",
   "name": "python",
   "nbconvert_exporter": "python",
   "pygments_lexer": "ipython3",
   "version": "3.7.3"
  }
 },
 "nbformat": 4,
 "nbformat_minor": 2
}
