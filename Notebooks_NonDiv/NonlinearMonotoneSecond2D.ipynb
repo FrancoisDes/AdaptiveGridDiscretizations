{
 "cells": [
  {
   "cell_type": "markdown",
   "metadata": {},
   "source": [
    "# Adaptive PDE discretizations on cartesian grids\n",
    "\n",
    "## Part : Monotone numerical schemes\n",
    "## Chapter : PDEs with a second order non-linearity\n",
    "\n",
    "This notebook illustrates the use of monotone finite difference schemes to compute viscosity solutions of non-linear PDEs, in two space dimensions. \n",
    "We consider the operator\n",
    "$$\n",
    "    \\Lambda u(x) := \\alpha(x) \\lambda_{\\max}(\\nabla^2 u(x)) + \\lambda_{\\min}(\\nabla^2 u(x))\n",
    "$$\n",
    "in the PDE\n",
    "$$\n",
    "    - \\Lambda u(x) + \\beta(x) = 0,\n",
    "$$\n",
    "with Dirichlet boundary conditions. The PDE parameters are a positive function $\\alpha$, and an arbitrary function $\\beta$.\n",
    "We denote by $\\lambda_{\\max}(M)$ and $\\lambda_{\\min}(M)$ the largest and smallest eigenvalue of a positive definite tensor $M$. More details on this problem below.\n",
    "\n",
    "We design two monotone numerical schemes: \n",
    "* The first sheme, based on a discretization of the space of controls, is simple to implement. However it is quite costly numerically, and it induces a consistency defect.\n",
    "* The second scheme is second order consistent and possibly cheaper numerically. However, implementation details are more subtle.\n",
    "\n",
    "The two schemes involves adaptive stencils, built using techniques from lattice geometry. The techniques developed are fairly general, and can be applied to a wide range of non-linear PDEs. Numerical implementation is kept simple thanks to the use of automatic differentiation."
   ]
  },
  {
   "cell_type": "markdown",
   "metadata": {},
   "source": [
    "## Discretization of the PDE\n",
    "\n",
    "### Reformulation as an extremal operator\n",
    "\n",
    "Assume without loss of generality that $\\alpha \\leq 1$. Then for any positive definite matrix $M$ one has \n",
    "$$\n",
    "    \\alpha \\lambda_{\\max}(M) + \\lambda_{\\min}(M) = \\min_{0 \\leq \\theta \\leq \\pi} {\\rm tr}(D_\\alpha(\\theta) M),\n",
    "$$\n",
    "where we denoted, with $e(\\theta) := (\\cos \\theta, \\sin \\theta)$\n",
    "$$\n",
    "    D_\\alpha(\\theta) = \\alpha\\, e(\\theta) e(\\theta)^T + e(\\theta)^\\perp (e(\\theta)^\\perp)^T,\n",
    "$$\n",
    "the symmetric matrix whose eigenvalues are $\\alpha$ and $1$, the former associated with the eigenvector $e(\\theta)$.\n",
    "\n",
    "**Remark on the range of the variable $\\theta$.**\n",
    "For any $\\theta\\in \\mathbb R$, one has $e(\\theta+\\pi) = -e(\\theta)$, and therefore $D_\\alpha(\\theta+\\pi) = D_\\alpha(\\theta)$. By periodicity, we may therefore limit our attention to the interval $[0,\\pi]$.\n",
    "\n",
    "**Remark on the case $\\alpha\\geq 1$.**\n",
    "This second case is handled by replacing the minimum over $\\theta\\in [0,\\pi]$ with a maximum. This does not induce any additional difficulty from the theoretical or numerical standpoints. However, for the sake of simplicity, we make the assumption that $\\alpha\\leq 1$ in the following.\n",
    "\n",
    "### A monotone discretization strategy : sampling the control space\n",
    "\n",
    "Let $K$ be a positive integer, and let $\\theta_1 \\leq \\cdots \\leq \\theta_K$ be a sampling of the interval $[0,\\pi]$. Then we may consider the approximate operator\n",
    "$$\n",
    "    \\Lambda_K u(x) := \\min_{1 \\leq k \\leq K} {\\rm tr} (D_\\alpha(\\theta_k) \\nabla^2 u(x)).\n",
    "$$\n",
    "Introduce decompositions of the tensors, obtained e.g. by Selling's method,\n",
    "$$\n",
    "    D_\\alpha(\\theta_k) = \\sum_{1 \\leq i \\leq n} \\mu_{ki} e_{ki} e_{ki}^T,\n",
    "$$\n",
    "where $\\mu_{ki} \\geq 0$ and $e_{ki}$ has integer coordinates. Then we obtain the monotone numerical scheme\n",
    "$$\n",
    "    \\min_{1 \\leq k \\leq K} \\sum_{1 \\leq i \\leq n} \\mu_{ki} \\frac{ u(x+h e_{ki}) - 2 u(x) +u(x-h e_{ki})} {h^2}.\n",
    "$$\n",
    "A consistency defect remains, which can be estimated in terms of the width of the sampling $\\theta_1,\\cdots,\\theta_K$ of the control space $[0,\\pi]$. \n",
    "\n",
    "An additional problem is that the numerical scheme cost increases as $K$ increases.\n",
    "This issue becomes more acute in the case of a multi-dimensional control space.\n",
    "\n",
    "### Another monotone and consistent discretization \n",
    "\n",
    "In order to introduce this discretization, we need to recall some elements from lattice geometry.\n",
    "Selling's decomposition of a tensor $D$ involves a geometrical object, referred to as a *$D$-obtuse superbase* and here  denoted\n",
    "$$\n",
    "    {\\rm osb}(D).\n",
    "$$\n",
    "The obtuse superbase $s={\\rm osb}(D)$ dictates the support $(e_{si})_{i=1}^n$ of Selling's decomposition of $D$, hence the stencil of the numerical scheme. We can take advantage of this fact to rewrite the operator as \n",
    "$$\n",
    "    \\Lambda u(x) = \\min_{s \\in S} \\Lambda_s u(x)\n",
    "$$\n",
    "where \n",
    "$$\n",
    "    \\Lambda_s u(x) := \\min_{\\theta, {\\rm obs}(D_\\alpha(\\theta)) = s} {\\rm tr} (D_\\alpha(\\theta) \\nabla^2 u).\n",
    "$$\n",
    "Each operator $\\Lambda_s$ admits the consistent discretization\n",
    "$$\n",
    "    \\Lambda_s u(x) \\approx \\min_{\\theta, {\\rm obs}(D_\\alpha(\\theta)) = s} \\sum_{1 \\leq i \\leq n} \n",
    "    \\mu_{si}(\\theta) \\frac{u(x+h e_{si}) - 2 u(x) + u(x-e_{si})} {h^2}, \n",
    "$$\n",
    "and a closed form can be obtained for the r.h.s. by examining a simple optimization problem."
   ]
  },
  {
   "cell_type": "code",
   "execution_count": 5,
   "metadata": {},
   "outputs": [],
   "source": [
    "import sys; sys.path.append(\"..\") # Allow imports from parent directory"
   ]
  },
  {
   "cell_type": "code",
   "execution_count": 6,
   "metadata": {},
   "outputs": [
    {
     "data": {
      "text/markdown": [
       "[**Summary**](Summary.ipynb) of this series of notebooks. "
      ],
      "text/plain": [
       "<IPython.core.display.Markdown object>"
      ]
     },
     "metadata": {},
     "output_type": "display_data"
    },
    {
     "data": {
      "text/markdown": [
       "[**Main summary**](../Summary.ipynb), including the other volumes of this work. "
      ],
      "text/plain": [
       "<IPython.core.display.Markdown object>"
      ]
     },
     "metadata": {},
     "output_type": "display_data"
    },
    {
     "data": {
      "text/markdown": [
       "\n",
       "# Table of contents"
      ],
      "text/plain": [
       "<IPython.core.display.Markdown object>"
      ]
     },
     "metadata": {},
     "output_type": "display_data"
    },
    {
     "data": {
      "text/markdown": [
       "  * [1. Non-Monotone discretization (purposedly fails)](#1.-Non-Monotone-discretization-(purposedly-fails))\n",
       "  * [2. Monotone discretization by sampling of the control space](#2.-Monotone-discretization-by-sampling-of-the-control-space)\n",
       "    * [2.1 Limit case : $\\alpha=1$.](#2.1-Limit-case-:-$\\alpha=1$.)\n",
       "    * [2.2 Limit case : $\\alpha \\to 0$](#2.2-Limit-case-:-$\\alpha-\\to-0$)\n",
       "    * [2.3 Optimized implementation](#2.3-Optimized-implementation)\n",
       "  * [3. Monotone and consistent discretization](#3.-Monotone-and-consistent-discretization)\n",
       "    * [3.1 Angular sectors and obtuse superbases](#3.1-Angular-sectors-and-obtuse-superbases)\n",
       "    * [3.2 Optimization over angular sector](#3.2-Optimization-over-angular-sector)"
      ],
      "text/plain": [
       "<IPython.core.display.Markdown object>"
      ]
     },
     "metadata": {},
     "output_type": "display_data"
    },
    {
     "data": {
      "text/markdown": [
       "\n",
       "\n",
       "\n",
       "**Acknowledgement.** The experiments presented in these notebooks are part of ongoing research, \n",
       "some of it with PhD student Guillaume Bonnet, in co-direction with Frederic Bonnans.\n",
       "\n",
       "Copyright Jean-Marie Mirebeau, University Paris-Sud, CNRS, University Paris-Saclay\n"
      ],
      "text/plain": [
       "<IPython.core.display.Markdown object>"
      ]
     },
     "metadata": {},
     "output_type": "display_data"
    }
   ],
   "source": [
    "from Miscellaneous import TocTools; TocTools.displayTOC('NonlinearMonotoneSecond2D','NonDiv')"
   ]
  },
  {
   "cell_type": "markdown",
   "metadata": {},
   "source": [
    "## 0. Importing the required libraries"
   ]
  },
  {
   "cell_type": "code",
   "execution_count": 7,
   "metadata": {},
   "outputs": [],
   "source": [
    "from NumericalSchemes import Selling\n",
    "from NumericalSchemes import LinearParallel as lp\n",
    "from NumericalSchemes import FiniteDifferences as fd\n",
    "from NumericalSchemes import AutomaticDifferentiation as ad"
   ]
  },
  {
   "cell_type": "code",
   "execution_count": 8,
   "metadata": {},
   "outputs": [],
   "source": [
    "import numpy as np\n",
    "import matplotlib.pyplot as plt"
   ]
  },
  {
   "cell_type": "markdown",
   "metadata": {},
   "source": [
    "Some utility functions"
   ]
  },
  {
   "cell_type": "code",
   "execution_count": 9,
   "metadata": {},
   "outputs": [],
   "source": [
    "def LInfNorm(a):\n",
    "    return np.max(np.abs(np.array(a)))\n",
    "\n",
    "def as_field(u,shape):\n",
    "    ndim = len(shape)\n",
    "    if u.ndim>=ndim and u.shape[-ndim:]==shape: return u\n",
    "    else: return ad.broadcast_to(u.reshape(u.shape+(1,)*ndim), u.shape+shape)\n",
    "    \n",
    "def BoundaryNeighborhood(bc,width=1):\n",
    "    bd = np.isnan(bc)\n",
    "    bd[0,:]=False; bd[-1,:]=False; bd[:,0]=False; bd[:,-1]=False\n",
    "    directions = ( (0,0),(0,1),(0,-1),(1,0),(-1,0) ) \n",
    "    neigh = np.stack(tuple(np.roll(bd,e,axis=(0,1)) for e in directions),axis=0)\n",
    "    neigh = np.logical_and(neigh.any(axis=0),np.logical_not(neigh).any(axis=0))\n",
    "    for i in range(width):\n",
    "        neigh = np.stack(tuple(np.roll(neigh,e,axis=(0,1)) for e in directions),axis=0).any(axis=0)\n",
    "    return neigh"
   ]
  },
  {
   "cell_type": "code",
   "execution_count": 10,
   "metadata": {},
   "outputs": [],
   "source": [
    "def solve_Newton(Scheme,params,guess,print_period=1,niter=8,relax=0.):\n",
    "    u = guess+ad.Sparse.identity(guess.shape)\n",
    "    for i in range(niter):\n",
    "        residue = Scheme(u,*params)\n",
    "        if (i-1)%print_period ==0 or i==niter-1:\n",
    "            print(\"Iteration :\",i,\", Residue norm :\", LInfNorm(residue))\n",
    "        u += (residue+relax).solve()\n",
    "    return np.array(u)"
   ]
  },
  {
   "cell_type": "code",
   "execution_count": 11,
   "metadata": {},
   "outputs": [],
   "source": [
    "def reload_packages():\n",
    "    import importlib\n",
    "    Selling = importlib.reload(sys.modules['NumericalSchemes.Selling'])\n",
    "    lp = importlib.reload(sys.modules['NumericalSchemes.LinearParallel'])\n",
    "    fd = importlib.reload(sys.modules['NumericalSchemes.FiniteDifferences'])\n",
    "    ad = importlib.reload(sys.modules['NumericalSchemes.AutomaticDifferentiation'])\n",
    "    ad.Sparse = importlib.reload(ad.Sparse)"
   ]
  },
  {
   "cell_type": "markdown",
   "metadata": {},
   "source": [
    "## 1. Non-Monotone discretization (purposedly fails)\n",
    "\n",
    "We present a naive, non-monotone discretization of the addressed problem. This scheme can be used to check that a numerical solution (produced by other means) is correct, or to construct synthetic examples. However, using it to solve the PDE is usually bound to fail. \n",
    "\n",
    "The naive scheme is based on a reconstruction of the Hessian matrix of the form\n",
    "$$\n",
    "    \\begin{pmatrix}\n",
    "        D^h_{00} u(x) & D^h_{01} u(x)\\\\\n",
    "        D^h_{01} u(x) & D^h_{11} u(x)\n",
    "    \\end{pmatrix},\n",
    "$$\n",
    "where $D_{00}$, $D_{01}$ and $D_{11}$ are finite-difference operators. Namely\n",
    "$$\n",
    "    D^h_{00} u(x) := \\frac{u(x_0+h,x_1)-2 u(x_0,x_1) + u(x_0-h,x_1)}{h^2},\n",
    "$$\n",
    "likewise for $D^h_{11} u(x)$, and finally\n",
    "$$\n",
    "    D^h_{01} u(x) := \\frac{u(x_0+h,x_1+h)-u(x_0-h,x_1+h)-u(x_0+h,x_1-h)+h(x_0-h,x_1-h)}{4 h^2}.\n",
    "$$"
   ]
  },
  {
   "cell_type": "code",
   "execution_count": 12,
   "metadata": {},
   "outputs": [],
   "source": [
    "def SchemeNonMonotone(u,alpha,beta,bc,h):\n",
    "    # Compute the hessian matrix of u\n",
    "    uxx = fd.Diff2(u,(1,0),h)\n",
    "    uyy = fd.Diff2(u,(0,1),h)\n",
    "    uxy = 0.25*(fd.Diff2(u,(1,1),h) - fd.Diff2(u,(1,-1),h))\n",
    "    \n",
    "    # Compute the eigenvalues\n",
    "    htr = 0.5*(uxx+uyy)\n",
    "    det = uxx*uyy-uxy**2\n",
    "    \n",
    "    delta = htr**2-det\n",
    "    lambda_max = htr+np.sqrt(delta)\n",
    "    lambda_min = htr-np.sqrt(delta)\n",
    "    \n",
    "    # Numerical scheme\n",
    "    residue = beta - alpha*lambda_max - lambda_min\n",
    "    \n",
    "    # Boundary conditions\n",
    "    return ad.where(np.isnan(bc),residue,u-bc)"
   ]
  },
  {
   "cell_type": "markdown",
   "metadata": {},
   "source": [
    "Our next step is to define the parameters of our specific problem. \n",
    "Regarding the boundary conditions, we set $u=0$ on the square boundary, and $u=-1$ on some interior diamond.\n",
    "For well posedness, $d$ and $\\alpha$ must be positive over the domain."
   ]
  },
  {
   "cell_type": "code",
   "execution_count": 13,
   "metadata": {},
   "outputs": [],
   "source": [
    "# Create the domain\n",
    "gridScale = 0.02\n",
    "aX0 = np.arange(-1,1,gridScale); aX1=aX0;\n",
    "X0,X1 = np.meshgrid(aX0,aX1,indexing='ij')\n",
    "\n",
    "guess = np.zeros(X0.shape)\n",
    "\n",
    "# Set the boundary conditions \n",
    "bc=np.full(X0.shape,np.nan) \n",
    "bc[np.abs(X0)+np.abs(X1)<0.4] = -1\n",
    "\n",
    "# Choose the PDE parameters\n",
    "alpha = 0.25\n",
    "beta = 1"
   ]
  },
  {
   "cell_type": "markdown",
   "metadata": {},
   "source": [
    "The naive and non-monotone discretization scheme is consistent, but lacks any other sort of theoretical guarantees. \n",
    "\n",
    "**Attempts to solve it numerically will fail. This is expected behavior**"
   ]
  },
  {
   "cell_type": "code",
   "execution_count": 14,
   "metadata": {},
   "outputs": [],
   "source": [
    "params = (alpha,beta,bc,gridScale)\n",
    "#solution = solve_Newton(SchemeNonMonotone,params,guess) # Fails (quickly), run if you dare"
   ]
  },
  {
   "cell_type": "markdown",
   "metadata": {},
   "source": [
    "## 2. Monotone discretization by sampling of the control space\n",
    "\n",
    "We present a numerical scheme based on sampling the control space, which is quite simple and generic. Given fields of positive definite diffusion tensors $D_k(x)$, $1 \\leq k \\leq K$, without any specific assumption on their origin, we compute the decompositions\n",
    "$$\n",
    "    D_k(x) = \\sum_{1 \\leq i \\leq n} \\mu_{ki}(x) e_{ki}(x) e_{ki}(x)^T.\n",
    "$$\n",
    "We then implement the scheme\n",
    "$$\n",
    "    \\beta(x) - \\min_{1\\leq k \\leq K} \\sum_{1 \\leq i \\leq n} \n",
    "    \\mu_{ki}(x) \\frac{u(x+h e_{ki}(x))-2 u(x) +u(x-h e_{ki}(x))}{h^2}.\n",
    "$$"
   ]
  },
  {
   "cell_type": "code",
   "execution_count": 15,
   "metadata": {},
   "outputs": [],
   "source": [
    "def SchemeSampling(u,diffs,beta,bc,gridScale):\n",
    "    # Tensor decomposition \n",
    "    coefs,offsets = Selling.Decomposition(diffs)\n",
    "    \n",
    "    # Numerical scheme \n",
    "    coefs = as_field(coefs,u.shape)\n",
    "    residue = beta - (coefs*fd.Diff2(u,offsets,gridScale)).sum(0).min(0)\n",
    "    \n",
    "    # Boundary conditions\n",
    "    return ad.where(np.isnan(bc),residue,u-bc)"
   ]
  },
  {
   "cell_type": "markdown",
   "metadata": {},
   "source": [
    "The tensors involved in our PDE take the following form."
   ]
  },
  {
   "cell_type": "code",
   "execution_count": 16,
   "metadata": {},
   "outputs": [],
   "source": [
    "def Diff(alpha,theta):\n",
    "    e0 = np.array((np.cos(theta),np.sin(theta)))\n",
    "    e1 = np.array((-np.sin(theta),np.cos(theta)))\n",
    "    if isinstance(alpha,np.ndarray): \n",
    "        e0,e1 = (as_field(e,alpha.shape) for e in (e0,e1))\n",
    "    return alpha*lp.outer_self(e0) + lp.outer_self(e1)"
   ]
  },
  {
   "cell_type": "markdown",
   "metadata": {},
   "source": [
    "We also choose a discretization of the control space."
   ]
  },
  {
   "cell_type": "code",
   "execution_count": 17,
   "metadata": {},
   "outputs": [],
   "source": [
    "ntheta = 20\n",
    "thetas = np.linspace(0,np.pi,ntheta,endpoint=False)"
   ]
  },
  {
   "cell_type": "markdown",
   "metadata": {},
   "source": [
    "We next solve the PDE and display the solution."
   ]
  },
  {
   "cell_type": "code",
   "execution_count": 18,
   "metadata": {},
   "outputs": [
    {
     "name": "stdout",
     "output_type": "stream",
     "text": [
      "Iteration : 1 , Residue norm : 96.14257029887642\n",
      "Iteration : 3 , Residue norm : 0.3605795761342847\n",
      "Iteration : 5 , Residue norm : 0.0021915556520752943\n",
      "Iteration : 7 , Residue norm : 1.2434497875801753e-12\n"
     ]
    }
   ],
   "source": [
    "params = (Diff(alpha,thetas), beta,bc,gridScale)\n",
    "solution = solve_Newton(SchemeSampling,params,guess,print_period=2)"
   ]
  },
  {
   "cell_type": "code",
   "execution_count": 19,
   "metadata": {},
   "outputs": [
    {
     "data": {
      "image/png": "[encoded data removed]",
      "text/plain": [
       "<Figure size 432x288 with 1 Axes>"
      ]
     },
     "metadata": {
      "needs_background": "light"
     },
     "output_type": "display_data"
    }
   ],
   "source": [
    "plt.axis('equal'); plt.title('Solution to lambda_max/2 + lambda_min = 1')\n",
    "plt.contourf(X0,X1,solution);"
   ]
  },
  {
   "cell_type": "markdown",
   "metadata": {},
   "source": [
    "Since the solution is not explicit, we use the non-monotone numerical scheme to test the result.\n",
    "We eliminate a layer around the neighborhood of the boundary conditions, where the solution is not smooth."
   ]
  },
  {
   "cell_type": "code",
   "execution_count": 20,
   "metadata": {},
   "outputs": [
    {
     "name": "stdout",
     "output_type": "stream",
     "text": [
      "Max cross-residue of the sampling based numerical solution: 0.07255245630687623\n"
     ]
    },
    {
     "data": {
      "image/png": "[encoded data removed]",
      "text/plain": [
       "<Figure size 432x288 with 1 Axes>"
      ]
     },
     "metadata": {
      "needs_background": "light"
     },
     "output_type": "display_data"
    }
   ],
   "source": [
    "residue_non_monotone = SchemeNonMonotone(solution,alpha,beta,bc,gridScale)\n",
    "residue_non_monotone[BoundaryNeighborhood(bc,width=5)] = 0.\n",
    "print(\"Max cross-residue of the sampling based numerical solution:\",LInfNorm(residue_non_monotone))\n",
    "plt.axis('equal'); plt.title(\"Cross-residue of the sampling based numerical solution:\")\n",
    "plt.contourf(X0,X1,residue_non_monotone);"
   ]
  },
  {
   "cell_type": "markdown",
   "metadata": {},
   "source": [
    "### 2.1 Limit case : $\\alpha=1$.\n",
    "\n",
    "If one chooses $\\alpha=1$, then the PDE becomes linear, namely $-\\Delta u + \\beta = 0$.\n",
    "In this very specific case, the sampling based and non-monotone scheme coincide, with the usual discretization of the laplacian operator.\n",
    "As a result the Newton method converges in one iteration, and the cross-residue vanishes."
   ]
  },
  {
   "cell_type": "code",
   "execution_count": 21,
   "metadata": {},
   "outputs": [
    {
     "name": "stdout",
     "output_type": "stream",
     "text": [
      "Iteration : 1 , Residue norm : 6.366684957015423e-12\n"
     ]
    },
    {
     "data": {
      "image/png": "[encoded data removed]",
      "text/plain": [
       "<Figure size 432x288 with 1 Axes>"
      ]
     },
     "metadata": {
      "needs_background": "light"
     },
     "output_type": "display_data"
    }
   ],
   "source": [
    "alpha2=1\n",
    "params = (Diff(alpha2,thetas), beta,bc,gridScale)\n",
    "solution = solve_Newton(SchemeSampling,params,guess,print_period=2,niter=2)\n",
    "\n",
    "plt.axis('equal'); plt.title('Solution to lambda_max + lambda_min = 1')\n",
    "plt.contourf(X0,X1,solution);"
   ]
  },
  {
   "cell_type": "code",
   "execution_count": 22,
   "metadata": {},
   "outputs": [
    {
     "name": "stdout",
     "output_type": "stream",
     "text": [
      "Cross residue in special case alpha=1 : 2.5011104298755527e-12\n"
     ]
    }
   ],
   "source": [
    "print(\"Cross residue in special case alpha=1 :\", LInfNorm(SchemeNonMonotone(solution,alpha2,beta,bc,gridScale)) )"
   ]
  },
  {
   "cell_type": "markdown",
   "metadata": {},
   "source": [
    "### 2.2 Limit case : $\\alpha \\to 0$\n",
    "\n",
    "In contrast, if one chooses a very small value of $\\alpha$, then the PDE becomes more and more non-linear, which raises numerical difficulties discussed below.\n",
    "If in addition $\\beta = 0$, then we recover PDE characterization of the convex envelope:\n",
    "$$\n",
    "    -\\lambda_{\\min}(\\nabla^2 u) = 0\n",
    "$$\n",
    "\n",
    "**Numerical challenges.** \n",
    "As $\\alpha\\to 0$, the condition number of the tensors $D_\\alpha(\\theta)$ increase. A finer sampling of the interval $[0,\\pi]$ is required, which increases the numerical cost of the method.\n",
    "In addition, the width of the discretization stencil increases, and therefore the effective discretization scale is reduced.\n",
    "\n",
    "**Note on computing the convex envelope.**\n",
    "The computation of convex envelopes is one of the most central problems in algorithmic geometry. For instance, Voronoi diagrams are deduced from a convex envelope computation in higher dimension.\n",
    "Extremely efficient software packages are available for this problem, and PDE methods are *not* the recommended way to go."
   ]
  },
  {
   "cell_type": "code",
   "execution_count": 23,
   "metadata": {},
   "outputs": [],
   "source": [
    "alpha_small = 0.01\n",
    "ntheta_small = 50\n",
    "thetas_small = np.linspace(0,np.pi,ntheta_small,endpoint=False)\n",
    "beta_cvx_env = 0."
   ]
  },
  {
   "cell_type": "markdown",
   "metadata": {},
   "source": [
    "The above parameters turn the solution into the convex envelope of the boundary conditions. Recall that we imposed:\n",
    "* $u=0$ on the (exterior) square boundary.\n",
    "* $u=-1$ on the (interior) diamond boundary."
   ]
  },
  {
   "cell_type": "code",
   "execution_count": 24,
   "metadata": {},
   "outputs": [
    {
     "name": "stdout",
     "output_type": "stream",
     "text": [
      "Iteration : 1 , Residue norm : 596.9051799892471\n",
      "Iteration : 5 , Residue norm : 0.9353900056267848\n",
      "Iteration : 9 , Residue norm : 0.0005874729901790961\n",
      "Iteration : 13 , Residue norm : 9.059476861011716e-05\n",
      "Iteration : 14 , Residue norm : 6.74161340430146e-05\n"
     ]
    },
    {
     "data": {
      "image/png": "[encoded data removed]",
      "text/plain": [
       "<Figure size 432x288 with 1 Axes>"
      ]
     },
     "metadata": {
      "needs_background": "light"
     },
     "output_type": "display_data"
    }
   ],
   "source": [
    "params = (Diff(alpha_small,thetas_small), beta_cvx_env,bc,gridScale) \n",
    "solution = solve_Newton(SchemeSampling,params,guess,print_period=4,niter=15)\n",
    "plt.axis('equal'); plt.title('Convex envelope of the boundary conditions.')\n",
    "plt.contourf(X0,X1,solution);"
   ]
  },
  {
   "cell_type": "markdown",
   "metadata": {},
   "source": [
    "The solution is piecewise affine, and its gradient is piecewise constant.\n",
    "Note in particular that the solution is not twice differentiable, and the equation $-\\lambda_{\\min}(\\nabla^2 u) = 0$ here only has meaning in the sense of viscosity solutions."
   ]
  },
  {
   "cell_type": "code",
   "execution_count": 25,
   "metadata": {},
   "outputs": [
    {
     "data": {
      "image/png": "[encoded data removed]",
      "text/plain": [
       "<Figure size 432x288 with 1 Axes>"
      ]
     },
     "metadata": {
      "needs_background": "light"
     },
     "output_type": "display_data"
    }
   ],
   "source": [
    "grad = np.array(np.gradient(solution,gridScale))\n",
    "plt.axis('equal'); plt.title(\"The solution to the convex envelope problem is piecewise affine\")\n",
    "plt.contourf(X0,X1,np.linalg.norm(grad,axis=0));"
   ]
  },
  {
   "cell_type": "markdown",
   "metadata": {},
   "source": [
    "We next negate the boundary conditions, imposing:\n",
    "* $u=0$ on the (exterior) square boundary.\n",
    "* $u=1$ on the (interior) diamond boundary.\n",
    "\n",
    "This raises an apparent incompatibility: the convex envelope should be $u=0$ on the whole square, yet we impose a distinct value in the diamond. What to expect ?"
   ]
  },
  {
   "cell_type": "code",
   "execution_count": 26,
   "metadata": {},
   "outputs": [],
   "source": [
    "bc_negated = -bc"
   ]
  },
  {
   "cell_type": "code",
   "execution_count": 27,
   "metadata": {},
   "outputs": [
    {
     "name": "stdout",
     "output_type": "stream",
     "text": [
      "Iteration : 1 , Residue norm : 844.9002191853244\n",
      "Iteration : 5 , Residue norm : 113.95018107600596\n",
      "Iteration : 9 , Residue norm : 16.080289254692186\n",
      "Iteration : 13 , Residue norm : 2.1815882433884326e-13\n",
      "Iteration : 14 , Residue norm : 2.1338486533295509e-13\n"
     ]
    },
    {
     "data": {
      "image/png": "[encoded data removed]",
      "text/plain": [
       "<Figure size 432x288 with 1 Axes>"
      ]
     },
     "metadata": {
      "needs_background": "light"
     },
     "output_type": "display_data"
    }
   ],
   "source": [
    "params = (Diff(alpha_small,thetas_small), beta_cvx_env,bc_negated,gridScale) \n",
    "solution = solve_Newton(SchemeSampling,params,guess,print_period=4,niter=15)\n",
    "plt.axis('equal'); plt.title('Convex envelope of the boundary conditions.')\n",
    "plt.contourf(X0,X1,solution);"
   ]
  },
  {
   "cell_type": "markdown",
   "metadata": {},
   "source": [
    "The solution to the second order PDE $-\\lambda_{\\min}(\\nabla^2 u)$ is still unique and well defined, in the sense of *viscosity solutions*, with these boundary conditions. It is piecewise constant, with value $u=0$ except on the interior diamond where we impose $u=-1$."
   ]
  },
  {
   "cell_type": "markdown",
   "metadata": {},
   "source": [
    "### 2.3 Optimization opportunities\n",
    "\n",
    "The numerical scheme implemented in this section involves a maximization over a set of diffusion tensors. The size of this set dictates the accuracy of the method, and it may therefore become rather large. In combination with the overhead of sparse AD, this can increase the numerical cost.\n",
    "\n",
    "We can significantly limit the numerical cost using a technique based on the *envelope theorem*, which proceeds in two steps:\n",
    "* First run the scheme with ordinary floats, to find out which tensor is active at each grid point.\n",
    "* Second, run the scheme with AD variables, and and *oracle* providing the active tensors.\n",
    "\n",
    "**Important : other optimization opportunities.** \n",
    "The \"optimization\" presented in this subsection only serves to illustrate the envelope theorem mechanism. It is *not* effective in terms of computation time, because the optimized part is not dominant. There are other optimization opportunities here, the most obvious one being to avoid recomputing the tensor decompositions at each call of the iterative solver. The choice of linear solver may also be of importance."
   ]
  },
  {
   "cell_type": "code",
   "execution_count": 50,
   "metadata": {},
   "outputs": [],
   "source": [
    "def SchemeSampling_OptInner(u,diffs,gridScale,oracle=None):\n",
    "    # Select the active tensors, if they are known\n",
    "    if not(oracle is None):\n",
    "        diffs = np.take_along_axis(diffs, np.broadcast_to(oracle,diffs.shape[:2]+(1,)+oracle.shape),axis=2)\n",
    "        \n",
    "    print(\"Has AD information :\", ad.is_ad(u), \". Number active tensors per point :\", diffs.shape[2])\n",
    "    \n",
    "    # Tensor decomposition \n",
    "    coefs,offsets = Selling.Decomposition(diffs)\n",
    "    \n",
    "    # Return the minimal value, and the minimizing index\n",
    "    return ad.min_argmin( (coefs*fd.Diff2(u,offsets,gridScale)).sum(0), axis=0)\n",
    "\n",
    "def SchemeSampling_Opt(u,diffs,beta,bc,gridScale):\n",
    "    # Evaluate the operator using the envelope theorem\n",
    "    result,_ = ad.apply(SchemeSampling_OptInner, u,as_field(diffs,u.shape),gridScale, envelope=True)\n",
    "        \n",
    "    # Boundary conditions\n",
    "    return ad.where(np.isnan(bc), beta - result, u-bc)"
   ]
  },
  {
   "cell_type": "code",
   "execution_count": 51,
   "metadata": {},
   "outputs": [
    {
     "name": "stdout",
     "output_type": "stream",
     "text": [
      "Has AD information : False . Number active tensors per point : 20\n",
      "Has AD information : True . Number active tensors per point : 1\n",
      "Has AD information : False . Number active tensors per point : 20\n",
      "Has AD information : True . Number active tensors per point : 1\n",
      "Iteration : 1 , Residue norm : 96.14257029887642\n",
      "Has AD information : False . Number active tensors per point : 20\n",
      "Has AD information : True . Number active tensors per point : 1\n",
      "Has AD information : False . Number active tensors per point : 20\n",
      "Has AD information : True . Number active tensors per point : 1\n",
      "Iteration : 3 , Residue norm : 0.3605795761342847\n",
      "Has AD information : False . Number active tensors per point : 20\n",
      "Has AD information : True . Number active tensors per point : 1\n",
      "Has AD information : False . Number active tensors per point : 20\n",
      "Has AD information : True . Number active tensors per point : 1\n",
      "Iteration : 5 , Residue norm : 0.0021915556520752943\n",
      "Has AD information : False . Number active tensors per point : 20\n",
      "Has AD information : True . Number active tensors per point : 1\n",
      "Has AD information : False . Number active tensors per point : 20\n",
      "Has AD information : True . Number active tensors per point : 1\n",
      "Iteration : 7 , Residue norm : 1.2434497875801753e-12\n"
     ]
    }
   ],
   "source": [
    "params = (Diff(alpha,thetas), beta,bc,gridScale)\n",
    "solution = solve_Newton(SchemeSampling_Opt,params,guess,print_period=2)"
   ]
  },
  {
   "cell_type": "markdown",
   "metadata": {},
   "source": [
    "## 3. Monotone and consistent discretization\n",
    "\n",
    "Setting up a monotone and consistent discretization requires a bit more work, but is worthwhile in the end if performance and accuracy are a target. Let us recall that the diffusion tensors take the form,\n",
    "$$\n",
    "    D_\\alpha(\\theta) = \\alpha\\, e(\\theta) e(\\theta)^T + e(\\theta)^\\perp (e(\\theta)^\\perp)^T,\n",
    "$$\n",
    "where $0< \\alpha \\leq 1$ is a fixed parameter in the following, and $\\theta \\in [0,\\pi]$. "
   ]
  },
  {
   "cell_type": "markdown",
   "metadata": {},
   "source": [
    "### 3.1 Angular sectors and obtuse superbases\n",
    "The first, and main, difficulty is to construct a sequence of angles $0 = \\theta_0 \\leq \\cdots \\leq \\theta_N = \\pi$ and of superbases $s_0,\\cdots, s_{N-1}$ such that \n",
    "$$\n",
    "    s_k \\text{ is } D_\\theta(\\theta) \\text{-obtuse, for all } \\theta \\in [\\theta_k, \\theta_{k+1}].\n",
    "$$\n",
    "For that purpose, we remark that \n",
    "$$\n",
    "    D_\\alpha(\\theta) = D_0 + D_1 \\cos(2 \\theta) + D_2 \\sin(2 \\theta),\n",
    "$$\n",
    "where \n",
    "$$\n",
    "    D_0 = \\frac{\\alpha+1} 2\n",
    "    \\begin{pmatrix}\n",
    "    1 & 0\\\\\n",
    "    0 & 1\n",
    "    \\end{pmatrix},\n",
    "    \\quad \n",
    "    D_1 = \\frac{\\alpha-1} 2\n",
    "    \\begin{pmatrix}\n",
    "    1 & 0\\\\\n",
    "    0 &-1\n",
    "    \\end{pmatrix},\n",
    "    \\quad \n",
    "    D_2 = \\frac{\\alpha-1} 2\n",
    "    \\begin{pmatrix}\n",
    "    0 & 1\\\\\n",
    "    1 & 0\n",
    "    \\end{pmatrix}.\n",
    "$$\n",
    "Then, for given $u,v \\in R^2$, one has \n",
    "$$\n",
    "    <u,D_\\alpha(\\theta) v> = a_0 + a_1 \\cos(2 \\theta) + a_2 \\sin(2 \\theta)\n",
    "    = r (\\cos(2\\theta-\\phi) - c).\n",
    "$$\n",
    "where $a_i = <u,D_i v>$. Then $r e(\\phi) = (a_1,a_2)$, and $c=-a_0/r$. We assume that $r$ is positive.\n",
    "Eventually, the above scalar product is \n",
    "* always negative if $c>1$.\n",
    "* always positive if $c<-1$.\n",
    "* otherwise, positive iff $|2 \\theta-\\phi| \\leq \\arccos(c)$."
   ]
  },
  {
   "cell_type": "code",
   "execution_count": 26,
   "metadata": {},
   "outputs": [],
   "source": [
    "def MakeD(alpha):\n",
    "    return np.moveaxis(0.5*np.array([\n",
    "        (alpha+1)*np.array([[1,0],[0,1]]),\n",
    "        (alpha-1)*np.array([[1,0],[0,-1]]),\n",
    "        (alpha-1)*np.array([[0,1],[1,0]])\n",
    "    ]), 0,-1)\n",
    "\n",
    "def NextAngleAndSuperbase(theta,sb,D):\n",
    "    pairs = np.stack([(1,2), (2,0), (0,1)],axis=1)\n",
    "    scals = lp.dot_VAV(np.expand_dims(sb[:,pairs[0]],axis=1), \n",
    "                       np.expand_dims(D,axis=-1), np.expand_dims(sb[:,pairs[1]],axis=1))\n",
    "    phi = np.arctan2(scals[2],scals[1])\n",
    "    cst = -scals[0]/np.sqrt(scals[1]**2+scals[2]**2)\n",
    "    theta_max = np.pi*np.ones(3)\n",
    "    mask = cst<1\n",
    "    theta_max[mask] = (phi[mask]-np.arccos(cst[mask]))/2\n",
    "    theta_max[theta_max<=0] += np.pi\n",
    "    theta_max[theta_max<=theta] = np.pi\n",
    "    k = np.argmin(theta_max)\n",
    "    i,j = (k+1)%3,(k+2)%3\n",
    "    return (theta_max[k],np.stack([sb[:,i],-sb[:,j],sb[:,j]-sb[:,i]],axis=1))\n",
    "\n",
    "def AnglesAndSuperbases(D,maxiter=200):\n",
    "    sb = Selling.CanonicalSuperbase(2).astype(int)\n",
    "    thetas=[]\n",
    "    superbases=[]\n",
    "    theta=0\n",
    "    for i in range(maxiter):\n",
    "        thetas.append(theta)\n",
    "        if(theta>=np.pi): break\n",
    "        superbases.append(sb)\n",
    "        theta,sb = NextAngleAndSuperbase(theta,sb,D)\n",
    "    return np.array(thetas), np.stack(superbases,axis=2)"
   ]
  },
  {
   "cell_type": "markdown",
   "metadata": {},
   "source": [
    "The above code is a bit intricate, but its purpose is simple : split the interval $[0,\\pi]$ into sub-intervals on which the support of Selling's decomposition of the tensors is fixed and known."
   ]
  },
  {
   "cell_type": "code",
   "execution_count": 27,
   "metadata": {},
   "outputs": [],
   "source": [
    "alpha=0.1\n",
    "thetas,superbases = AnglesAndSuperbases(MakeD(alpha))"
   ]
  },
  {
   "cell_type": "code",
   "execution_count": 28,
   "metadata": {},
   "outputs": [
    {
     "data": {
      "text/plain": [
       "array([0.        , 0.12912139, 0.65627678, 0.91451955, 1.44167494,\n",
       "       1.57079633, 1.69991771, 2.2270731 , 2.48531588, 3.01247127,\n",
       "       3.14159265])"
      ]
     },
     "execution_count": 28,
     "metadata": {},
     "output_type": "execute_result"
    }
   ],
   "source": [
    "thetas"
   ]
  },
  {
   "cell_type": "code",
   "execution_count": 29,
   "metadata": {},
   "outputs": [
    {
     "data": {
      "text/plain": [
       "array([[[-1, -1, -1,  0,  0,  1,  0,  0, -1, -1],\n",
       "        [ 1, -1,  1,  1, -1,  0,  1, -1, -1,  1],\n",
       "        [ 0,  2,  0, -1,  1, -1, -1,  1,  2,  0]],\n",
       "\n",
       "       [[-1, -1, -1,  1,  1,  0, -1, -1,  1,  1],\n",
       "        [ 0,  0,  0,  1, -1, -1, -1,  1,  0,  0],\n",
       "        [ 1,  1,  1, -2,  0,  1,  2,  0, -1, -1]]])"
      ]
     },
     "execution_count": 29,
     "metadata": {},
     "output_type": "execute_result"
    }
   ],
   "source": [
    "superbases"
   ]
  },
  {
   "cell_type": "code",
   "execution_count": 36,
   "metadata": {},
   "outputs": [
    {
     "data": {
      "image/png": "[encoded data removed]",
      "text/plain": [
       "<Figure size 1440x720 with 1 Axes>"
      ]
     },
     "metadata": {
      "needs_background": "light"
     },
     "output_type": "display_data"
    }
   ],
   "source": [
    "thetas_sampled = np.linspace(0,np.pi,200)\n",
    "decomp = Selling.GatherByOffset(thetas_sampled,*Selling.Decomposition(Diff(alpha,thetas_sampled)))\n",
    "\n",
    "plt.figure(figsize=(20,10))\n",
    "for offset,(angle,coef) in decomp.items():\n",
    "    plt.plot(angle,coef)\n",
    "plt.legend(decomp.keys());\n",
    "\n",
    "for theta in thetas: # Show a vertical line for each angle theta where the stencil changes\n",
    "    plt.axvline(x=theta);"
   ]
  },
  {
   "cell_type": "markdown",
   "metadata": {},
   "source": [
    "### 3.2 Optimization over angular sector\n",
    "\n",
    "The second step is discretize \n",
    "$$\n",
    "    \\min_{\\theta \\in [\\theta_0,\\theta_1]} {\\rm Tr}(D_\\alpha(\\theta) \\nabla^2 u(x)),\n",
    "$$\n",
    "when $D_\\alpha(\\theta)$ admits the same known obtuse superbase $b = (b_0,b_1,b_2)$ for each $\\theta \\in [\\theta_0,\\theta_1]$.\n",
    "\n",
    "The discretization reads\n",
    "$$\n",
    "    \\min_{\\theta \\in [\\theta_0, \\theta_1]} - \\sum_{1 \\leq i \\leq 3} <b_{i+1}, D_\\alpha(\\theta) b_{i+1}> \\frac{u(x+h b_i^\\perp)-2 u(x) + u(x-h b_i^\\perp)}{h^2}.\n",
    "$$\n",
    "\n",
    "For that purpose, we rely on the expression $D_\\alpha(\\theta) = D_0 + D_1 \\cos(2 \\theta) + D_2 \\sin(2 \\theta)$, and on the explicit solution \n",
    "$$\n",
    "    \\min_{\\phi \\in [2\\theta_0,2\\theta_1]} d_0 + d_1 \\cos \\phi + d_2 \\sin \\phi = d_0 - \\sqrt{d_1^2+d_2^2}\n",
    "$$\n",
    "if $(\\cos \\phi,\\sin \\phi)$ is proportional to $-(d_1,d_2)$ for some $\\phi \\in [2\\theta_0,2\\theta_1]$. Otherwise the minimum is attained at $2\\theta_0$ or $2 \\theta_1$."
   ]
  },
  {
   "cell_type": "code",
   "execution_count": 264,
   "metadata": {},
   "outputs": [],
   "source": [
    "def MinimizeTrace(u,theta0,theta1,D,sb,h):\n",
    "    d2u = fd.diff2(u,np.array([-sb[1],sb[0]]),h)\n",
    "    pairs = np.stack([(1,2), (2,0), (0,1)],axis=1)\n",
    "    scals = lp.dot_VAV(np.expand_dims(sb[:,pairs[0]],axis=1), \n",
    "                       np.expand_dims(D,axis=-1), np.expand_dims(sb[:,pairs[1]],axis=1))\n",
    "    #TODO : dims\n",
    "    coefs = -scals*d2u\n",
    "    value = coefs[0] - np.sqrt(coefs[0]**2+coefs[1]**2)\n",
    "    angle = np.arctan2(-coefs[1],-coefs[0])/2\n",
    "    angle[angle<0]+=np.pi\n",
    "    mask = np.logical_not(np.logical_and(theta0<=angle,angle<=theta1))\n",
    "    t0,t1,c = theta0[mask],theta1[mask],coefs[:,mask]\n",
    "    value[mask] = c[0] + np.minimum(c[1]*np.cos(2*t0)+c[2]*np.sin(2*t0),c[1]*np.cos(2*t1)+c[2]*np.sin(2*t1))\n",
    "    return value\n",
    "\n",
    "def Scheme(u,alpha,beta,bc,h):\n",
    "    D=MakeD(alpha)\n",
    "    thetas,sb = AnglesAndSuperbases(D)\n",
    "    residue = beta - MinimizeTrace(thetas[:-1],thetas[1:],D,sb,u,h)\n",
    "    return ad.where(np.isnan(bc),residue,u-bc)"
   ]
  },
  {
   "cell_type": "code",
   "execution_count": 119,
   "metadata": {},
   "outputs": [
    {
     "data": {
      "text/plain": [
       "array([[ 0.38387908, -0.33658839],\n",
       "       [-0.33658839,  0.81612092]])"
      ]
     },
     "execution_count": 119,
     "metadata": {},
     "output_type": "execute_result"
    }
   ],
   "source": [
    "Diff(alpha,0.5)"
   ]
  },
  {
   "cell_type": "code",
   "execution_count": 123,
   "metadata": {},
   "outputs": [
    {
     "data": {
      "text/plain": [
       "5.82842712474619"
      ]
     },
     "execution_count": 123,
     "metadata": {},
     "output_type": "execute_result"
    }
   ],
   "source": [
    "(1+np.sqrt(2))**2"
   ]
  },
  {
   "cell_type": "code",
   "execution_count": 189,
   "metadata": {},
   "outputs": [
    {
     "data": {
      "text/plain": [
       "0.1715728752538099"
      ]
     },
     "execution_count": 189,
     "metadata": {},
     "output_type": "execute_result"
    }
   ],
   "source": [
    "1/(1+np.sqrt(2))**2"
   ]
  },
  {
   "cell_type": "code",
   "execution_count": 263,
   "metadata": {},
   "outputs": [
    {
     "data": {
      "text/plain": [
       "2"
      ]
     },
     "execution_count": 263,
     "metadata": {},
     "output_type": "execute_result"
    }
   ],
   "source": [
    "np.maximum(2,1)"
   ]
  },
  {
   "cell_type": "code",
   "execution_count": null,
   "metadata": {},
   "outputs": [],
   "source": []
  }
 ],
 "metadata": {
  "kernelspec": {
   "display_name": "Python 3",
   "language": "python",
   "name": "python3"
  },
  "language_info": {
   "codemirror_mode": {
    "name": "ipython",
    "version": 3
   },
   "file_extension": ".py",
   "mimetype": "text/x-python",
   "name": "python",
   "nbconvert_exporter": "python",
   "pygments_lexer": "ipython3",
   "version": "3.7.3"
  }
 },
 "nbformat": 4,
 "nbformat_minor": 2
}
