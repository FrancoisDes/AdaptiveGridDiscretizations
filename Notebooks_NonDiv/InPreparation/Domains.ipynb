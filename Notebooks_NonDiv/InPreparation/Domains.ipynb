{
 "cells": [
  {
   "cell_type": "markdown",
   "metadata": {},
   "source": [
    "# Adaptive PDE discretizations on cartesian grids\n",
    "\n",
    "## Part : Additional tools\n",
    "## Chapter : Non rectangular domains"
   ]
  },
  {
   "cell_type": "markdown",
   "metadata": {},
   "source": [
    "This notebook illustrates the implementation of monotone schemes on non-rectangular domains, with Dirichlet boundary conditions. We show how to describe the domain, and adapt the finite differences."
   ]
  },
  {
   "cell_type": "code",
   "execution_count": 10,
   "metadata": {},
   "outputs": [
    {
     "data": {
      "text/markdown": [
       "[**Summary**](Summary.ipynb) of this series of notebooks. "
      ],
      "text/plain": [
       "<IPython.core.display.Markdown object>"
      ]
     },
     "metadata": {},
     "output_type": "display_data"
    },
    {
     "data": {
      "text/markdown": [
       "[**Main summary**](../Summary.ipynb), including the other volumes of this work. "
      ],
      "text/plain": [
       "<IPython.core.display.Markdown object>"
      ]
     },
     "metadata": {},
     "output_type": "display_data"
    },
    {
     "data": {
      "text/markdown": [
       "\n",
       "# Table of contents"
      ],
      "text/plain": [
       "<IPython.core.display.Markdown object>"
      ]
     },
     "metadata": {},
     "output_type": "display_data"
    },
    {
     "data": {
      "text/markdown": [
       "  * [1. Geometric methods](#1.-Geometric-methods)\n",
       "    * [1.1 Base domains, union, intersection, complement](#1.1-Base-domains,-union,-intersection,-complement)\n",
       "    * [1.2 Level set function](#1.2-Level-set-function)\n",
       "    * [1.3 Distance to the boundary in a given direction.](#1.3-Distance-to-the-boundary-in-a-given-direction.)\n",
       "  * [2. Finite differences](#2.-Finite-differences)\n",
       "    * [2.1 Upwind finite differences](#2.1-Upwind-finite-differences)\n",
       "    * [2.2 Centered finite differences](#2.2-Centered-finite-differences)\n",
       "    * [2.3 Second order finite differences](#2.3-Second-order-finite-differences)"
      ],
      "text/plain": [
       "<IPython.core.display.Markdown object>"
      ]
     },
     "metadata": {},
     "output_type": "display_data"
    },
    {
     "data": {
      "text/markdown": [
       "\n",
       "\n",
       "\n",
       "**Acknowledgement.** The experiments presented in these notebooks are part of ongoing research, \n",
       "some of it with PhD student Guillaume Bonnet, in co-direction with Frederic Bonnans.\n",
       "\n",
       "Copyright Jean-Marie Mirebeau, University Paris-Sud, CNRS, University Paris-Saclay\n"
      ],
      "text/plain": [
       "<IPython.core.display.Markdown object>"
      ]
     },
     "metadata": {},
     "output_type": "display_data"
    }
   ],
   "source": [
    "import sys; sys.path.append(\"../..\") # Allow imports from parent directory\n",
    "from Miscellaneous import TocTools; TocTools.displayTOC('Domains','NonDiv')"
   ]
  },
  {
   "cell_type": "markdown",
   "metadata": {},
   "source": [
    "## 0. Import the required libraries"
   ]
  },
  {
   "cell_type": "code",
   "execution_count": 118,
   "metadata": {},
   "outputs": [],
   "source": [
    "from NumericalSchemes import Domain\n",
    "from NumericalSchemes import AutomaticDifferentiation as ad\n",
    "from NumericalSchemes import FiniteDifferences as fd"
   ]
  },
  {
   "cell_type": "code",
   "execution_count": 119,
   "metadata": {},
   "outputs": [],
   "source": [
    "import scipy.linalg\n",
    "import numpy as np\n",
    "from matplotlib import pyplot as plt"
   ]
  },
  {
   "cell_type": "code",
   "execution_count": 120,
   "metadata": {},
   "outputs": [],
   "source": [
    "import importlib\n",
    "Domain = importlib.reload(Domain)\n",
    "ad.reload_submodules()"
   ]
  },
  {
   "cell_type": "markdown",
   "metadata": {},
   "source": [
    "## 1. Geometric methods"
   ]
  },
  {
   "cell_type": "markdown",
   "metadata": {},
   "source": [
    "### 1.1 Base domains, union, intersection, complement"
   ]
  },
  {
   "cell_type": "markdown",
   "metadata": {},
   "source": [
    "Define a ball and a box domain."
   ]
  },
  {
   "cell_type": "code",
   "execution_count": 121,
   "metadata": {},
   "outputs": [],
   "source": [
    "ball = Domain.Ball(np.array([0,0]))\n",
    "box = Domain.Box([[0,1],[0,1]])"
   ]
  },
  {
   "cell_type": "markdown",
   "metadata": {},
   "source": [
    "Their intersection, union, and relative complement."
   ]
  },
  {
   "cell_type": "code",
   "execution_count": 122,
   "metadata": {},
   "outputs": [],
   "source": [
    "cap = Domain.Intersection( (ball,box) )\n",
    "cup = Domain.Union((ball,box))\n",
    "compl = Domain.Complement(ball,box)"
   ]
  },
  {
   "cell_type": "code",
   "execution_count": 123,
   "metadata": {},
   "outputs": [],
   "source": [
    "band = Domain.Band([1.,2.],[-2.,1.]) # Direction, bounds\n",
    "triangle = Domain.ConvexPolygon(np.stack([[1,0],[0,1],[-1,-1]],axis=1))"
   ]
  },
  {
   "cell_type": "code",
   "execution_count": 124,
   "metadata": {},
   "outputs": [],
   "source": [
    "doms = (ball,box,cap,compl,cup,band,triangle)\n",
    "domNames = (\"ball\",\"box\",\"cap\",\"compl\",\"cup\",\"band\",\"triangle\")"
   ]
  },
  {
   "cell_type": "markdown",
   "metadata": {},
   "source": [
    "Let us display the domains."
   ]
  },
  {
   "cell_type": "code",
   "execution_count": 95,
   "metadata": {},
   "outputs": [],
   "source": [
    "aX=np.linspace(-1.2,1.2)\n",
    "X = np.array(np.meshgrid(aX,aX,indexing='ij'))"
   ]
  },
  {
   "cell_type": "code",
   "execution_count": 96,
   "metadata": {},
   "outputs": [
    {
     "data": {
      "image/png": "[encoded data removed]",
      "text/plain": [
       "<Figure size 1152x576 with 7 Axes>"
      ]
     },
     "metadata": {
      "needs_background": "light"
     },
     "output_type": "display_data"
    }
   ],
   "source": [
    "plt.figure(figsize=(16,8))\n",
    "for i,(dom,name) in enumerate(zip(doms,domNames)):\n",
    "    plt.subplot(2,4,1+i)\n",
    "    plt.contourf(*X,dom.contains(X))\n",
    "    plt.title(name)\n",
    "    plt.axis('equal')"
   ]
  },
  {
   "cell_type": "markdown",
   "metadata": {},
   "source": [
    "### 1.2 Level set function"
   ]
  },
  {
   "cell_type": "markdown",
   "metadata": {},
   "source": [
    "Each domain comes equipped with a level set function, that is negative inside, and positive outside."
   ]
  },
  {
   "cell_type": "code",
   "execution_count": 60,
   "metadata": {},
   "outputs": [
    {
     "data": {
      "image/png": "[encoded data removed]",
      "text/plain": [
       "<Figure size 1152x576 with 7 Axes>"
      ]
     },
     "metadata": {
      "needs_background": "light"
     },
     "output_type": "display_data"
    }
   ],
   "source": [
    "plt.figure(figsize=(16,8))\n",
    "for i,(dom,name) in enumerate(zip(doms,domNames)):\n",
    "    plt.subplot(2,4,1+i)\n",
    "    plt.contourf(*X,dom.level(X))\n",
    "    plt.title(name)\n",
    "    plt.axis('equal')"
   ]
  },
  {
   "cell_type": "markdown",
   "metadata": {},
   "source": [
    "This level set function is in general different from the signed Euclidean distance to the boundary.  \n",
    "If you do need the Euclidean distance function, you may need to consider solving an eikonal equation, or using an adequate computational geometry package."
   ]
  },
  {
   "cell_type": "markdown",
   "metadata": {},
   "source": [
    "### 1.3 Distance to the boundary in a given direction.\n",
    "\n",
    "For the design of finite difference schemes, it is important to know the distance from a given point to the domain boundary in a given direction. This is referred to as the \"free way\" from $x$ in the direction $v$."
   ]
  },
  {
   "cell_type": "code",
   "execution_count": 107,
   "metadata": {},
   "outputs": [],
   "source": [
    "Domain = importlib.reload(Domain)\n",
    "#ball = Domain.Ball(np.array([0,0]))\n",
    "#box = Domain.Box([[0,1],[0,1]])\n",
    "#cap = Domain.Intersection( (ball,box) )\n",
    "#abox = Domain.AbsoluteComplement(box)\n",
    "#aball = Domain.AbsoluteComplement(ball)\n",
    "#compl = Domain.Complement(ball,box)\n",
    "#cup = Domain.Union((ball,box))\n",
    "#acup = Domain.Intersection((aball,abox))\n",
    "band = Domain.Band([1.,2.],[-2.,1.]) # Direction, bounds"
   ]
  },
  {
   "cell_type": "code",
   "execution_count": 108,
   "metadata": {},
   "outputs": [
    {
     "ename": "NameError",
     "evalue": "name 'x' is not defined",
     "output_type": "error",
     "traceback": [
      "\u001b[0;31m---------------------------------------------------------------------------\u001b[0m",
      "\u001b[0;31mNameError\u001b[0m                                 Traceback (most recent call last)",
      "\u001b[0;32m<ipython-input-108-37c09d238001>\u001b[0m in \u001b[0;36m<module>\u001b[0;34m\u001b[0m\n\u001b[0;32m----> 1\u001b[0;31m \u001b[0ma\u001b[0m\u001b[0;34m,\u001b[0m\u001b[0mb\u001b[0m \u001b[0;34m=\u001b[0m \u001b[0mband\u001b[0m\u001b[0;34m.\u001b[0m\u001b[0mintervals\u001b[0m\u001b[0;34m(\u001b[0m\u001b[0mx\u001b[0m\u001b[0;34m,\u001b[0m\u001b[0mnp\u001b[0m\u001b[0;34m.\u001b[0m\u001b[0marray\u001b[0m\u001b[0;34m(\u001b[0m\u001b[0;34m[\u001b[0m\u001b[0;36m1\u001b[0m\u001b[0;34m,\u001b[0m\u001b[0;36m1.\u001b[0m\u001b[0;34m]\u001b[0m\u001b[0;34m)\u001b[0m\u001b[0;34m)\u001b[0m\u001b[0;34m\u001b[0m\u001b[0;34m\u001b[0m\u001b[0m\n\u001b[0m",
      "\u001b[0;31mNameError\u001b[0m: name 'x' is not defined"
     ]
    }
   ],
   "source": [
    "a,b = band.intervals(x,np.array([1,1.]))"
   ]
  },
  {
   "cell_type": "code",
   "execution_count": 109,
   "metadata": {},
   "outputs": [
    {
     "data": {
      "text/plain": [
       "<matplotlib.contour.QuadContourSet at 0x617adb240>"
      ]
     },
     "execution_count": 109,
     "metadata": {},
     "output_type": "execute_result"
    },
    {
     "data": {
      "image/png": "[encoded data removed]",
      "text/plain": [
       "<Figure size 432x288 with 1 Axes>"
      ]
     },
     "metadata": {
      "needs_background": "light"
     },
     "output_type": "display_data"
    }
   ],
   "source": [
    "plt.contourf(*X,band.freeway(X,np.array([1.,1.])))"
   ]
  },
  {
   "cell_type": "code",
   "execution_count": 110,
   "metadata": {},
   "outputs": [
    {
     "data": {
      "image/png": "[encoded data removed]",
      "text/plain": [
       "<Figure size 1152x576 with 7 Axes>"
      ]
     },
     "metadata": {
      "needs_background": "light"
     },
     "output_type": "display_data"
    }
   ],
   "source": [
    "v=np.array([1,-0.5])\n",
    "plt.figure(figsize=(16,8))\n",
    "for i,(dom,name) in enumerate(zip(doms,domNames)):\n",
    "    plt.subplot(2,4,i+1)\n",
    "    plt.contourf(*X,dom.freeway(X,v))"
   ]
  },
  {
   "cell_type": "code",
   "execution_count": 125,
   "metadata": {},
   "outputs": [
    {
     "data": {
      "image/png": "[encoded data removed]",
      "text/plain": [
       "<Figure size 1152x576 with 7 Axes>"
      ]
     },
     "metadata": {
      "needs_background": "light"
     },
     "output_type": "display_data"
    }
   ],
   "source": [
    "v=np.array([-1,-0.5])\n",
    "plt.figure(figsize=(16,8))\n",
    "for i,(dom,name) in enumerate(zip(doms,domNames)):\n",
    "    plt.subplot(2,4,i+1)\n",
    "    plt.contourf(*X,dom.freeway(X,v))"
   ]
  },
  {
   "cell_type": "code",
   "execution_count": 126,
   "metadata": {},
   "outputs": [
    {
     "data": {
      "text/plain": [
       "[(array([inf]), array([inf])),\n",
       " (array([-0.66666667]), array([inf])),\n",
       " (array([-inf]), array([2.66666667]))]"
      ]
     },
     "execution_count": 126,
     "metadata": {},
     "output_type": "execute_result"
    }
   ],
   "source": [
    "x=np.array([1,-1])\n",
    "triangle.intervals(x,v)\n",
    "[dom.intervals(x,v) for dom in triangle.doms]"
   ]
  },
  {
   "cell_type": "markdown",
   "metadata": {},
   "source": [
    "## 2. Finite differences"
   ]
  },
  {
   "cell_type": "code",
   "execution_count": 299,
   "metadata": {},
   "outputs": [],
   "source": [
    "Domain = importlib.reload(Domain)\n",
    "ball = Domain.Ball(np.array([0,0]))\n",
    "box = Domain.Box([[0,1],[0,1]])\n",
    "cup = Domain.Union((ball,box))"
   ]
  },
  {
   "cell_type": "code",
   "execution_count": 307,
   "metadata": {},
   "outputs": [],
   "source": [
    "def bc(x): return x[0]+2*x[1]\n",
    "cond = Domain.Dirichlet(cup,bc,grid=X)\n",
    "h=aX[1]-aX[0]"
   ]
  },
  {
   "cell_type": "markdown",
   "metadata": {},
   "source": [
    "### 2.1 Upwind finite differences"
   ]
  },
  {
   "cell_type": "code",
   "execution_count": 308,
   "metadata": {},
   "outputs": [],
   "source": [
    "u = bc(X)\n",
    "interior = cond.dom.contains(1.1*X)\n",
    "u[np.logical_not(interior)]=np.nan"
   ]
  },
  {
   "cell_type": "code",
   "execution_count": 309,
   "metadata": {},
   "outputs": [],
   "source": [
    "du = cond.DiffUpwind(u,(1,0),h)"
   ]
  },
  {
   "cell_type": "code",
   "execution_count": 310,
   "metadata": {},
   "outputs": [
    {
     "data": {
      "text/plain": [
       "(1.0000000000000142, 0.9999999999999929)"
      ]
     },
     "execution_count": 310,
     "metadata": {},
     "output_type": "execute_result"
    }
   ],
   "source": [
    "du[interior].max(),du[interior].min()"
   ]
  },
  {
   "cell_type": "code",
   "execution_count": 311,
   "metadata": {},
   "outputs": [],
   "source": [
    "du = cond.DiffUpwind(u,np.eye(2).astype(int),h)"
   ]
  },
  {
   "cell_type": "code",
   "execution_count": 319,
   "metadata": {},
   "outputs": [
    {
     "data": {
      "text/plain": [
       "(1.000000000000007, 0.9999999999999929)"
      ]
     },
     "execution_count": 319,
     "metadata": {},
     "output_type": "execute_result"
    }
   ],
   "source": [
    "du[0,interior].max(),du[0,interior].min()"
   ]
  },
  {
   "cell_type": "code",
   "execution_count": 313,
   "metadata": {},
   "outputs": [
    {
     "data": {
      "text/plain": [
       "(2.000000000000014, 1.9999999999999858)"
      ]
     },
     "execution_count": 313,
     "metadata": {},
     "output_type": "execute_result"
    }
   ],
   "source": [
    "du[1,interior].max(),du[1,interior].min()"
   ]
  },
  {
   "cell_type": "markdown",
   "metadata": {},
   "source": [
    "### 2.2 Centered finite differences"
   ]
  },
  {
   "cell_type": "code",
   "execution_count": 269,
   "metadata": {},
   "outputs": [],
   "source": [
    "du = cond.DiffCentered(u,(1,0),h)"
   ]
  },
  {
   "cell_type": "code",
   "execution_count": 270,
   "metadata": {},
   "outputs": [
    {
     "data": {
      "text/plain": [
       "(1.000000000000007, 0.9999999999999982)"
      ]
     },
     "execution_count": 270,
     "metadata": {},
     "output_type": "execute_result"
    }
   ],
   "source": [
    "du[interior].max(),du[interior].min()"
   ]
  },
  {
   "cell_type": "code",
   "execution_count": 314,
   "metadata": {},
   "outputs": [],
   "source": [
    "du = cond.DiffCentered(u,np.eye(2).astype(int),h)"
   ]
  },
  {
   "cell_type": "code",
   "execution_count": 318,
   "metadata": {},
   "outputs": [
    {
     "data": {
      "text/plain": [
       "(1.000000000000007, 0.9999999999999929)"
      ]
     },
     "execution_count": 318,
     "metadata": {},
     "output_type": "execute_result"
    }
   ],
   "source": [
    "du[0,interior].max(),du[0,interior].min()"
   ]
  },
  {
   "cell_type": "code",
   "execution_count": 317,
   "metadata": {},
   "outputs": [
    {
     "data": {
      "text/plain": [
       "(2.000000000000014, 1.9999999999999953)"
      ]
     },
     "execution_count": 317,
     "metadata": {},
     "output_type": "execute_result"
    }
   ],
   "source": [
    "du[1,interior].max(),du[1,interior].min()"
   ]
  },
  {
   "cell_type": "markdown",
   "metadata": {},
   "source": [
    "### 2.3 Second order finite differences"
   ]
  },
  {
   "cell_type": "code",
   "execution_count": 271,
   "metadata": {},
   "outputs": [],
   "source": [
    "d2u = cond.Diff2(u,(1,0),h)"
   ]
  },
  {
   "cell_type": "code",
   "execution_count": 272,
   "metadata": {},
   "outputs": [
    {
     "data": {
      "text/plain": [
       "(3.410605131648481e-13, -3.410605131648481e-13)"
      ]
     },
     "execution_count": 272,
     "metadata": {},
     "output_type": "execute_result"
    }
   ],
   "source": [
    "d2u[interior].max(),d2u[interior].min()"
   ]
  },
  {
   "cell_type": "code",
   "execution_count": 321,
   "metadata": {},
   "outputs": [],
   "source": [
    "d2u = cond.Diff2(u,np.eye(2).astype(int),h)"
   ]
  },
  {
   "cell_type": "code",
   "execution_count": 323,
   "metadata": {},
   "outputs": [
    {
     "data": {
      "text/plain": [
       "(5.684341886080801e-13, -5.684341886080801e-13)"
      ]
     },
     "execution_count": 323,
     "metadata": {},
     "output_type": "execute_result"
    }
   ],
   "source": [
    "d2u[1,interior].max(),d2u[1,interior].min()"
   ]
  },
  {
   "cell_type": "code",
   "execution_count": 322,
   "metadata": {},
   "outputs": [
    {
     "data": {
      "text/plain": [
       "(5.684341886080801e-13, -5.684341886080801e-13)"
      ]
     },
     "execution_count": 322,
     "metadata": {},
     "output_type": "execute_result"
    }
   ],
   "source": [
    "d2u[1,interior].max(),d2u[1,interior].min()"
   ]
  }
 ],
 "metadata": {
  "kernelspec": {
   "display_name": "Python 3",
   "language": "python",
   "name": "python3"
  },
  "language_info": {
   "codemirror_mode": {
    "name": "ipython",
    "version": 3
   },
   "file_extension": ".py",
   "mimetype": "text/x-python",
   "name": "python",
   "nbconvert_exporter": "python",
   "pygments_lexer": "ipython3",
   "version": "3.7.3"
  }
 },
 "nbformat": 4,
 "nbformat_minor": 2
}
