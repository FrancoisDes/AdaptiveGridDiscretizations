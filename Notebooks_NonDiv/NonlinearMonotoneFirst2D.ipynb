{
 "cells": [
  {
   "cell_type": "markdown",
   "metadata": {},
   "source": [
    "# Adaptive PDE discretizations on cartesian grids\n",
    "\n",
    "## Part : Monotone numerical schemes\n",
    "## Chapter : PDEs with a first order non-linearity\n",
    "\n",
    "This notebook illustrates the use of monotone finite difference schemes to compute viscosity solutions of non-linear PDEs, in two space dimensions. \n",
    "We consider the PDE\n",
    "$$\n",
    "    -{\\rm Tr}(A(x) \\nabla^2 u(x)) + F(x, \\nabla u(x)) - 1 = 0,\n",
    "$$\n",
    "with Dirichlet boundary conditions, where $\\|v\\|_D^2 := <v,D v>$. \n",
    "For illustration, we consider a quadratic non-linearity:\n",
    "$$\n",
    "    F(x, \\nabla u(x)) := \\| \\nabla u(x) -\\omega(x)\\|^2_{D(x)}\n",
    "$$\n",
    "More details on this problem below.\n",
    "\n",
    "\n",
    "Two possibilities are considered for the discretization of the first order non-linear (quadratic) term, in a monotone fashion. One is second order accurate, but requires the diffusion tensors $A$ to be positive definite, and the solution to be smooth enough, for monotony to hold. The other possibility is only first order accurate, but unconditionally monotone.\n",
    "\n",
    "Our numerical schemes use adaptive stencils, and depend on Selling's decomposition of the diffusion tensors $A$ and $D$. Their implementation is fairly simple and compact (approx. ten lines) thanks to the use of automatic differentiation.\n",
    "\n",
    "**Reference.**\n",
    "\n",
    "The use of Selling's algorithm for the discretization of anisotropic PDEs was first introduced in:\n",
    "* Bonnans, J. F., Ottenwaelter, E., Zidani, H. (2004). A fast algorithm for the two dimensional HJB equation of stochastic control. ESAIM: Mathematical Modelling and Numerical Analysis, 38(4), 723–735.\n",
    "* Fehrenbach, J., & Mirebeau, J.-M. (2014). Sparse non-negative stencils for anisotropic diffusion. Journal of Mathematical Imaging and Vision, 49(1), 123–147. http://doi.org/http://dx.doi.org/10.1007/s10851-013-0446-3"
   ]
  },
  {
   "cell_type": "code",
   "execution_count": 2,
   "metadata": {},
   "outputs": [],
   "source": [
    "import sys; sys.path.append(\"..\") # Allow imports from parent directory"
   ]
  },
  {
   "cell_type": "code",
   "execution_count": 4,
   "metadata": {},
   "outputs": [],
   "source": [
    "#from Miscellaneous import TocTools; TocTools.displayTOC('NonlinearMonotoneFirst2D','NonDiv')"
   ]
  },
  {
   "cell_type": "markdown",
   "metadata": {},
   "source": [
    "[**Summary**](Summary.ipynb) of this series of notebooks. \n",
    "[**Main summary**](../Summary.ipynb), including the other volumes of this work. \n",
    "\n",
    "# Table of contents\n",
    "  * [1. Numerical schemes](#1.-Numerical-schemes)\n",
    "    * [1.1 Lax-Friedrichs type scheme](#1.1-Lax-Friedrichs-type-scheme)\n",
    "    * [1.2 Upwind type scheme](#1.2-Upwind-type-scheme)\n",
    "    * [1.3 Numerical tests](#1.3-Numerical-tests)\n",
    "    * [1.4 Alternative centered scheme](#1.4-Alternative-centered-scheme)\n",
    "  * [2. Pure eikonal equations](#2.-Pure-eikonal-equations)\n",
    "    * [2.1 A Riemannian eikonal equation](#2.1-A-Riemannian-eikonal-equation)\n",
    "    * [2.2 An eikonal equation of Rander type](#2.2-An-eikonal-equation-of-Rander-type)\n",
    "\n",
    "\n",
    "\n",
    "**Acknowledgement.** The experiments presented in these notebooks are part of ongoing research, \n",
    "some of it with PhD student Guillaume Bonnet, in co-direction with Frederic Bonnans.\n",
    "\n",
    "Copyright Jean-Marie Mirebeau, University Paris-Sud, CNRS, University Paris-Saclay"
   ]
  },
  {
   "cell_type": "markdown",
   "metadata": {},
   "source": [
    "## 0. Importing the required libraries"
   ]
  },
  {
   "cell_type": "code",
   "execution_count": 28,
   "metadata": {
    "tags": [
     "ExportCode"
    ]
   },
   "outputs": [],
   "source": [
    "from NumericalSchemes import Selling\n",
    "from NumericalSchemes import LinearParallel as lp\n",
    "from NumericalSchemes import FiniteDifferences as fd\n",
    "from NumericalSchemes import AutomaticDifferentiation as ad"
   ]
  },
  {
   "cell_type": "code",
   "execution_count": 29,
   "metadata": {
    "tags": [
     "ExportCode"
    ]
   },
   "outputs": [],
   "source": [
    "import numpy as np\n",
    "import matplotlib.pyplot as plt\n",
    "import scipy.linalg;\n",
    "import itertools"
   ]
  },
  {
   "cell_type": "markdown",
   "metadata": {},
   "source": [
    "Some utility functions"
   ]
  },
  {
   "cell_type": "code",
   "execution_count": 30,
   "metadata": {},
   "outputs": [],
   "source": [
    "newton_root = ad.Optimization.newton_root\n",
    "stop = ad.Optimization.stop_default\n",
    "every4 = itertools.count(1,4)"
   ]
  },
  {
   "cell_type": "code",
   "execution_count": 31,
   "metadata": {},
   "outputs": [],
   "source": [
    "def reload_packages():\n",
    "    import importlib\n",
    "    Selling = importlib.reload(sys.modules['NumericalSchemes.Selling'])\n",
    "    lp = importlib.reload(sys.modules['NumericalSchemes.LinearParallel'])\n",
    "    fd = importlib.reload(sys.modules['NumericalSchemes.FiniteDifferences'])\n",
    "    ad = importlib.reload(sys.modules['NumericalSchemes.AutomaticDifferentiation'])\n",
    "    ad.reload_submodules()"
   ]
  },
  {
   "cell_type": "markdown",
   "metadata": {},
   "source": [
    "## 1. Numerical schemes\n",
    "\n",
    "We propose several approches for discretizing the proposed PDE, whose properties are summarized below:\n",
    "\n",
    "| Description | Monotony | Accuracy | Non-linearity |\n",
    "|--|--|--|--|\n",
    "| Lax-Fredrichs type | Conditional | Second order | General |\n",
    "| Upwind type | Unconditional | First order | Quadratic |\n",
    "\n",
    "<!---| Alternative centered | Conditional | Second order | Quadratic specific |\n",
    "--->"
   ]
  },
  {
   "cell_type": "markdown",
   "metadata": {},
   "source": [
    "### 1.1 Lax-Friedrichs type scheme \n",
    "\n",
    "Recall that we consider the PDE \n",
    "$$\n",
    "-{\\rm Tr}(A(x) \\nabla^2 u(x)) + F(x, \\nabla u(x)) - 1 = \n",
    "$$\n",
    "with Dirichlet boundary conditions. \n",
    "\n",
    "We propose below a numerical scheme, that is degenerate elliptic (maximum principle holds) under the following additional assumptions:\n",
    "* the tensors $A(x)$ are Lipschitz and uniformly positive definite,\n",
    "* the function $F$ uniformly Lipschitz in its second variable, \n",
    "* the discretization grid scale $h>0$ is sufficiently small.\n",
    "\n",
    "The discretization of the first order term $F(x,\\nabla u(x))$ is based on a variant of the Lax-Friedrichs approximation. We rely on centered finite differences for the first order term $F(x,\\nabla u(x))$, and compensate their lack of monotony using the second order term $-{\\rm tr}(A(x) \\nabla^2 u(x))$. \n",
    "Note : the usual Lax-Friedrichs approximation is obtained in the special case where $A = h {\\rm Id}$.\n",
    "\n",
    "**Note on the uniform Lipschitz regularity assumption.**\n",
    "The non-linearity $F$ considered in our examples is quadratic, hence isn't uniformly Lipschitz. \n",
    "As a result, the scheme looses the degenerate ellipticity property if the solution gradient is excessively large, or unbounded.\n",
    "\n",
    "**Second order term.** Consider a tensor decomposition of the form\n",
    "$$\n",
    "    A(x) = \\sum_{1 \\leq i \\leq n} \\mu_i(x) e_i(x) e_i(x)^T,\n",
    "$$\n",
    "where $\\mu_i(x)\\geq 0$ and $e_i(x)$ has integer entries. Typically, we obtain such a decomposition using Selling's formula. The second order part of the operator is discretized using centered finite differences.\n",
    "$$\n",
    "    -{\\rm Tr}(A(x) \\nabla^2 u(x)) = -\\sum_{1 \\leq i \\leq n} \\mu_i(x) \\frac{u(x+he_i(x)) - 2 u(x) +u(x-h e_i(x))}{h^2} + O(h^2).\n",
    "$$\n",
    "\n",
    "\n",
    "**First order term.**\n",
    "We approximate the product $A(x)\\nabla u(x)$ using second order finite differences:\n",
    "$$\n",
    "A(x) \\nabla u(x) = \\sum_{1 \\leq i \\leq n} \\mu_i \\frac{u(x+h e_i)-u(x-h e_i)} {2 h} e_i + O(h^2).\n",
    "$$\n",
    "Form this point, a second order finite difference approximation of the gradient $\\nabla u(x)$ is obtained by applying the linear mapping $A(x)^{-1}$ to both sides. After what, the non-linear functional $F$ can be applied to both sides. No specific form of this functional is required."
   ]
  },
  {
   "cell_type": "code",
   "execution_count": 77,
   "metadata": {
    "tags": [
     "ExportCode"
    ]
   },
   "outputs": [],
   "source": [
    "def Gradient(u,A,h,padding=0.,decomp=None):\n",
    "    \"\"\"\n",
    "    Approximates grad u(x), using finite differences along the axes of A.\n",
    "    \"\"\"\n",
    "    coefs,offsets = Selling.Decomposition(A) if decomp is None else decomp\n",
    "    du = fd.DiffCentered(u,offsets,h,padding=padding)\n",
    "    AGrad = lp.dot_AV(offsets.astype(float),(coefs*du))\n",
    "    return lp.solve_AV(A,AGrad)"
   ]
  },
  {
   "cell_type": "code",
   "execution_count": 117,
   "metadata": {
    "tags": [
     "ExportCode"
    ]
   },
   "outputs": [],
   "source": [
    "def SchemeLaxFriedrichs(u,A,F,bc,h,padding=0.):\n",
    "    \"\"\"\n",
    "    Discretization of - Tr(A(x) hess u(x)) + F(grad u(x)) - 1 = 0,\n",
    "    with Dirichlet boundary conditions. The scheme is second order,\n",
    "    and degenerate elliptic under suitable assumptions.\n",
    "    \"\"\"\n",
    "    # Compute the tensor decomposition\n",
    "    coefs,offsets = Selling.Decomposition(A)\n",
    "    A,coefs,offsets = (fd.as_field(e,u.shape) for e in (A,coefs,offsets))\n",
    "    \n",
    "    # Obtain the first and second order finite differences\n",
    "    grad = Gradient(u,A,h,padding=padding,decomp=(coefs,offsets))\n",
    "    d2u = fd.Diff2(u,offsets,h,padding=padding)    \n",
    "    \n",
    "    # Numerical scheme in interior    \n",
    "    residue = -lp.dot_VV(coefs,d2u) + F(grad) -1.\n",
    "    \n",
    "    # Boundary conditions\n",
    "    return ad.where(np.isnan(bc),residue,u-bc)"
   ]
  },
  {
   "cell_type": "code",
   "execution_count": 118,
   "metadata": {
    "tags": [
     "ExportCode"
    ]
   },
   "outputs": [],
   "source": [
    "# Specialization for the quadratic non-linearity\n",
    "def SchemeLaxFriedrichs_Quad(u,A,omega,D,bc,h,padding=0.):\n",
    "    omega,D = (fd.as_field(e,u.shape) for e in (omega,D))\n",
    "    def F(g): return lp.dot_VAV(g-omega,D,g-omega)\n",
    "    return SchemeLaxFriedrichs(u,A,F,bc,h,padding=padding)"
   ]
  },
  {
   "cell_type": "markdown",
   "metadata": {},
   "source": [
    "### 1.2 Upwind type scheme\n",
    "\n",
    "As announced we assume here a specific form of the PDE non-linearity:\n",
    "$$\n",
    "    F(x,\\nabla u(x)) = \\|\\nabla u(x) - \\omega(x)\\|^2_{D(x)}\n",
    "$$\n",
    "\n",
    "We propose below a numerical schemes that is degenerate elliptic as soon as $D$ and $A$ are everywhere positive definite. (Or positive semi-definite, provided the required tensor decompositions exist.)\n",
    "\n",
    "For that purpose, we introduce a decomposition of the tensors appearing in the first order non-linearity\n",
    "$$\n",
    "    D(x) = \\sum_{1 \\leq i \\leq n} \\nu_i(x) f_i(x) f_i(x)^T,\n",
    "$$\n",
    "involving again non-negative weights $\\nu_i(x)\\geq 0$ and offsets with integer coordinates $f_i(x) \\in Z^d$.\n",
    "We then discretize the non-linearity using first order upwind finite differences\n",
    "$$\n",
    "    F(x,\\nabla u(x)) = \n",
    "     \\sum_{1 \\leq i \\leq n} \\nu_i(x) \\max\\left\\{0,\n",
    "    <\\omega(x),f_i(x)> - \\frac{u(x+h f_i(x))-u(x)}{h},\n",
    "    -<\\omega(x),f_i(x)> - \\frac{u(x-h f_i(x))-u(x)}{h}\n",
    "    \\right\\}^2 + O(h)\n",
    "$$"
   ]
  },
  {
   "cell_type": "code",
   "execution_count": 35,
   "metadata": {},
   "outputs": [],
   "source": [
    "def SchemeUpwind(u,A,omega,D,bc,h,padding=0):\n",
    "    # Compute the decompositions (here offset_e = offset_f)\n",
    "    nothing = (np.full((0,),0.), np.full((2,0),0)) # empty coefs and offsets\n",
    "    mu,offset_e = nothing if A is None else Selling.Decomposition(A) \n",
    "    nu,offset_f = nothing if D is None else Selling.Decomposition(D)\n",
    "    omega_f = lp.dot_VA(omega,offset_f.astype(float))\n",
    "\n",
    "    # First and second order finite differences\n",
    "    maxi = np.maximum\n",
    "    mu,nu,omega_f = (fd.as_field(e,u.shape) for e in (mu,nu,omega_f))\n",
    "\n",
    "    du = maxi(0.,maxi( omega_f - fd.DiffUpwind(u, offset_f,h,padding=padding), \n",
    "                      -omega_f - fd.DiffUpwind(u,-offset_f,h,padding=padding)) )\n",
    "    d2u = fd.Diff2(u,offset_e,h,padding=padding)\n",
    "    \n",
    "    # Scheme in the interior\n",
    "    residue = - lp.dot_VV(mu,d2u) + lp.dot_VV(nu,du**2) - 1.\n",
    "\n",
    "    # Boundary conditions\n",
    "    return ad.where(np.isnan(bc),residue,u-bc)"
   ]
  },
  {
   "cell_type": "markdown",
   "metadata": {},
   "source": [
    "### 1.3 Numerical tests"
   ]
  },
  {
   "cell_type": "markdown",
   "metadata": {},
   "source": [
    "We next choose some problem parameters. As a starter we solve \n",
    "$$\n",
    "    -\\epsilon \\Delta u +\\| \\nabla u\\|^2 -1 = 0,\n",
    "$$\n",
    "with on the unit disk $B(0,1)$, with null boundary conditions.\n",
    "This is a a relaxation of the eikonal equation, and the solution is therefore close to the distance to the disk boundary."
   ]
  },
  {
   "cell_type": "code",
   "execution_count": 37,
   "metadata": {},
   "outputs": [],
   "source": [
    "# Create the domain\n",
    "gridScale = 0.02\n",
    "aX0 = np.arange(-1,1,gridScale); aX1=aX0;\n",
    "X0,X1 = np.meshgrid(aX0,aX1,indexing='ij')\n",
    "\n",
    "guess = np.zeros_like(X0) # A correctly shaped arbitrary guess for the solvers"
   ]
  },
  {
   "cell_type": "code",
   "execution_count": 38,
   "metadata": {},
   "outputs": [],
   "source": [
    "A = 0.1*np.eye(2) \n",
    "omega = np.zeros(2)\n",
    "D = np.eye(2)\n",
    "\n",
    "bc = np.zeros_like(X0)\n",
    "bc[X0**2+X1**2<=1] = np.nan"
   ]
  },
  {
   "cell_type": "code",
   "execution_count": 95,
   "metadata": {},
   "outputs": [
    {
     "name": "stdout",
     "output_type": "stream",
     "text": [
      "Lax-Friedrichs discretization\n",
      "Iteration: 1  Residue norm: 32.076170531724784\n",
      "Iteration: 2  Residue norm: 7.703153752897224\n",
      "Iteration: 3  Residue norm: 1.6183541531847494\n",
      "Iteration: 4  Residue norm: 0.20375646415734217\n",
      "Iteration: 5  Residue norm: 0.004924899868659072\n",
      "Iteration: 6  Residue norm: 2.3002275162387065e-06\n",
      "Iteration: 7  Residue norm: 3.015365734881925e-13\n",
      "Target residue reached. Terminating.\n",
      "\n",
      "Upwind discretization\n",
      "Iteration: 1  Residue norm: 36.68395708504851\n",
      "Iteration: 2  Residue norm: 8.855184714157293\n",
      "Iteration: 3  Residue norm: 1.8842589440824922\n",
      "Iteration: 4  Residue norm: 0.2434348999307323\n",
      "Iteration: 5  Residue norm: 0.0062981872978271625\n",
      "Iteration: 6  Residue norm: 3.4633227670166633e-06\n",
      "Iteration: 7  Residue norm: 6.690203946391193e-13\n",
      "Target residue reached. Terminating.\n"
     ]
    }
   ],
   "source": [
    "params0 = (A,omega,D,bc,gridScale)\n",
    "print(\"Lax-Friedrichs discretization\"); \n",
    "solution_lf = newton_root(SchemeLaxFriedrichs_Quad,guess,params0)\n",
    "print()\n",
    "print(\"Upwind discretization\");   \n",
    "solution_upwind = newton_root(SchemeUpwind,guess,params0)"
   ]
  },
  {
   "cell_type": "code",
   "execution_count": 101,
   "metadata": {},
   "outputs": [
    {
     "data": {
      "image/png": "[encoded data removed]",
      "text/plain": [
       "<Figure size 648x288 with 2 Axes>"
      ]
     },
     "metadata": {
      "needs_background": "light"
     },
     "output_type": "display_data"
    }
   ],
   "source": [
    "plt.figure(figsize=(9,4))\n",
    "plt.subplot(1,2,1); plt.axis('equal'); plt.title('Lax Friedrichs solution')\n",
    "plt.contourf(X0,X1,solution_lf);\n",
    "plt.subplot(1,2,2); plt.axis('equal'); plt.title('Upwind solution')\n",
    "plt.contourf(X0,X1,solution_upwind);"
   ]
  },
  {
   "cell_type": "markdown",
   "metadata": {},
   "source": [
    "We introduce a drift term $\\omega$. While $|\\omega|<1$, the deterministic optimal control problem corresponding to $\\|\\nabla u - \\omega\\|=1$ remains locally controllable. The solution is smooth enough that the centered scheme remains monotone, and the two solutions agree."
   ]
  },
  {
   "cell_type": "code",
   "execution_count": 97,
   "metadata": {},
   "outputs": [],
   "source": [
    "drift_direction = np.array( (1,1) )/np.sqrt(2)"
   ]
  },
  {
   "cell_type": "code",
   "execution_count": 103,
   "metadata": {},
   "outputs": [
    {
     "name": "stdout",
     "output_type": "stream",
     "text": [
      "Lax-Friedrichs discretization\n",
      "Iteration: 1  Residue norm: 25.40778231592474\n",
      "Iteration: 2  Residue norm: 6.035487952181714\n",
      "Iteration: 3  Residue norm: 0.6773584986005892\n",
      "Iteration: 4  Residue norm: 0.0046643633104812565\n",
      "Iteration: 5  Residue norm: 1.0872860789490346e-07\n",
      "Iteration: 6  Residue norm: 7.238654120556021e-14\n",
      "Target residue reached. Terminating.\n",
      "\n",
      "Upwind discretization\n",
      "Iteration: 1  Residue norm: 23.526024909771685\n",
      "Iteration: 2  Residue norm: 5.5114604207524245\n",
      "Iteration: 3  Residue norm: 0.7461366808818584\n",
      "Iteration: 4  Residue norm: 0.013069046715036281\n",
      "Iteration: 5  Residue norm: 2.614337794693e-06\n",
      "Iteration: 6  Residue norm: 8.659739592076221e-14\n",
      "Target residue reached. Terminating.\n"
     ]
    },
    {
     "data": {
      "image/png": "[encoded data removed]",
      "text/plain": [
       "<Figure size 648x288 with 2 Axes>"
      ]
     },
     "metadata": {
      "needs_background": "light"
     },
     "output_type": "display_data"
    }
   ],
   "source": [
    "params1 = (A,0.8*drift_direction,D,bc,gridScale)\n",
    "print(\"Lax-Friedrichs discretization\"); \n",
    "solution_lf = newton_root(SchemeLaxFriedrichs_Quad,guess,params1)\n",
    "print()\n",
    "print(\"Upwind discretization\");   \n",
    "solution_upwind = newton_root(SchemeUpwind,guess,params1)\n",
    "\n",
    "plt.figure(figsize=(9,4))\n",
    "plt.subplot(1,2,1); plt.axis('equal'); plt.title('Lax Friedrichs solution')\n",
    "plt.contourf(X0,X1,solution_lf);\n",
    "plt.subplot(1,2,2); plt.axis('equal'); plt.title('Upwind solution')\n",
    "plt.contourf(X0,X1,solution_upwind);"
   ]
  },
  {
   "cell_type": "markdown",
   "metadata": {},
   "source": [
    "On the other hand, if $|\\omega|>1$, then the solution features a boundary layer, along which the gradient norm is large. As a result, the centered scheme looses monotonicity, and cannot the solver fails. "
   ]
  },
  {
   "cell_type": "code",
   "execution_count": 108,
   "metadata": {},
   "outputs": [
    {
     "name": "stdout",
     "output_type": "stream",
     "text": [
      "Centered discretization\n",
      "Iteration: 1  Residue norm: 35.05575242835815\n",
      "Iteration: 2  Residue norm: 19.95711256634111\n",
      "Iteration: 3  Residue norm: 4.973488767825245\n",
      "Iteration: 4  Residue norm: 27.352975951629787\n",
      "Iteration: 5  Residue norm: 17.929935591330604\n",
      "Iteration: 6  Residue norm: 7.209168777142821\n",
      "Iteration: 8  Residue norm: 13.059827027870583\n",
      "Iteration: 10  Residue norm: 31.87022163507953\n",
      "Iteration: 12  Residue norm: 41303.50028815842\n",
      "Max iterations exceeded. Aborting.\n",
      "\n",
      "Upwind discretization\n",
      "Iteration: 1  Residue norm: 19.389258632540034\n",
      "Iteration: 2  Residue norm: 1.3108984397931387\n",
      "Iteration: 3  Residue norm: 0.0038638518425955226\n",
      "Iteration: 4  Residue norm: 2.352698302843237e-07\n",
      "Iteration: 5  Residue norm: 9.769962616701378e-14\n",
      "Target residue reached. Terminating.\n"
     ]
    },
    {
     "data": {
      "image/png": "[encoded data removed]",
      "text/plain": [
       "<Figure size 648x288 with 2 Axes>"
      ]
     },
     "metadata": {
      "needs_background": "light"
     },
     "output_type": "display_data"
    }
   ],
   "source": [
    "params2 = (A,1.2*drift_direction,D,bc,gridScale)\n",
    "print(\"Centered discretization\"); \n",
    "solution_lf = newton_root(SchemeLaxFriedrichs_Quad,guess,params2,\n",
    "                          stop=stop(niter_max=12,raise_on_abort=False))\n",
    "print()\n",
    "print(\"Upwind discretization\");   \n",
    "solution_upwind = newton_root(SchemeUpwind,guess,params2)\n",
    "\n",
    "plt.figure(figsize=(9,4))\n",
    "plt.subplot(1,2,1); plt.axis('equal'); plt.title('Lax-Friedrichs solution')\n",
    "plt.contourf(X0,X1,solution_lf);\n",
    "plt.subplot(1,2,2); plt.axis('equal'); plt.title('Upwind solution')\n",
    "plt.contourf(X0,X1,solution_upwind);"
   ]
  },
  {
   "cell_type": "markdown",
   "metadata": {},
   "source": [
    "The upwind scheme is monotone and solvable even for a vanishing diffusion tensor field $A$.\n",
    "\n",
    "A numerical difficulty arises however for our Newton solver : the jacobian matrix $J$ of the scheme may not be invertible. Fortunately but $J+ \\epsilon {\\rm Id}$ is invertible for any $\\epsilon>0$."
   ]
  },
  {
   "cell_type": "code",
   "execution_count": 105,
   "metadata": {},
   "outputs": [
    {
     "name": "stdout",
     "output_type": "stream",
     "text": [
      "Iteration: 1  Residue norm: 29.91851777146254\n",
      "Iteration: 2  Residue norm: 7.305335904496452\n",
      "Iteration: 3  Residue norm: 1.6331529368170683\n",
      "Iteration: 4  Residue norm: 0.2636200736330383\n",
      "Iteration: 5  Residue norm: 0.0166409019440954\n",
      "Iteration: 6  Residue norm: 0.0003633113459138304\n",
      "Iteration: 8  Residue norm: 7.480767361567331e-06\n",
      "Iteration: 10  Residue norm: 9.971672065844928e-08\n",
      "Iteration: 12  Residue norm: 9.26078769225569e-10\n",
      "Target residue reached. Terminating.\n"
     ]
    },
    {
     "data": {
      "image/png": "[encoded data removed]",
      "text/plain": [
       "<Figure size 432x288 with 1 Axes>"
      ]
     },
     "metadata": {
      "needs_background": "light"
     },
     "output_type": "display_data"
    }
   ],
   "source": [
    "params = (None,1.2*drift_direction,D,bc,gridScale)\n",
    "epsilon=1; relax = epsilon*ad.Sparse.identity(X0.shape)\n",
    "solution_upwind = newton_root(SchemeUpwind,guess,params,relax=relax)\n",
    "\n",
    "\n",
    "plt.axis('equal'); plt.title('Upwind solution')\n",
    "plt.contourf(X0,X1,solution_upwind);"
   ]
  },
  {
   "cell_type": "markdown",
   "metadata": {},
   "source": [
    "For validation purposes, we reproduce the canonical example of a laplacian over a square domain."
   ]
  },
  {
   "cell_type": "code",
   "execution_count": 106,
   "metadata": {},
   "outputs": [
    {
     "name": "stdout",
     "output_type": "stream",
     "text": [
      "Iteration: 1  Residue norm: 2.3874235921539366e-12\n",
      "Target residue reached. Terminating.\n"
     ]
    },
    {
     "data": {
      "image/png": "[encoded data removed]",
      "text/plain": [
       "<Figure size 432x288 with 1 Axes>"
      ]
     },
     "metadata": {
      "needs_background": "light"
     },
     "output_type": "display_data"
    }
   ],
   "source": [
    "bc_square = np.full(X0.shape,np.nan)\n",
    "params = (np.eye(2),np.zeros(2),None,bc_square,gridScale)\n",
    "solution_upwind = newton_root(SchemeUpwind,guess,params)\n",
    "\n",
    "plt.axis('equal'); plt.title('Laplacian on a square')\n",
    "plt.contourf(X0,X1,solution_upwind);"
   ]
  },
  {
   "cell_type": "markdown",
   "metadata": {},
   "source": [
    "### 1.4 Alternative centered scheme\n",
    "\n",
    "For completeness, we present a last scheme, that mixes the discretization principles of the previous two. In the considered examples, it behaves similarly to the Lax-Friedrichs type scheme. We use:\n",
    "* Centered finite differences for second order accuracy,\n",
    "* A sum-of-squares decomposition of the non-linearity, which is assumed to be quadratic.\n",
    "\n",
    "In addition, the quadratic non-linearity must be defined in terms of a tensor $D(x)$ which is *proportionnal* to diffusion tensor $A(x)$. This is strong restriction, which possibly makes this scheme less useful in applications. This assumption could be weakened, but the the scheme would become more complex.\n",
    "\n",
    "The resulting scheme is degenerate elliptic under the condition that\n",
    "* $A(x)$ is positive definite at each point.\n",
    "* The grid scale $h>0$ is sufficiently small.\n",
    "<!---* $D(x)$ is *proportionnal* to $A(x)$ at each point.--->\n",
    "\n",
    "\n",
    "The approximation of the first order non-linearity reads\n",
    "$$\n",
    "    F(x,\\nabla u(x)) =  \\sum_{1 \\leq i \\leq n} \\nu_i(x) \\left(\\frac{u(x+h e_i(x))-u(x-h e_i(x))}{2 h} - <\\omega(x),e_i(x)>\\right)^2+ O(h)\n",
    "$$\n",
    "where \n",
    "$$\n",
    "    D(x) = \\sum_{1 \\leq i \\leq n} \\nu_i(x) e_i(x) e_i(x)^T\n",
    "$$\n",
    "is a tensor decomposition over the same stencil as $A(x)$, but with possibly negative weights $\\nu_i(x)\\in R$. This scheme is monotone provided the solution gradient is suitably bounded and \n",
    "$$\n",
    "    \\mu_i \\geq h |\\nu_i|,\n",
    "$$\n",
    "where $h$ is the discretization grid scale. This is in particular the case if $A(x) = \\alpha(x) D(x)$ where $\\alpha(x) \\geq h$, at each point $x$.\n",
    "\n",
    "<!---\n",
    "*Note on the case where $A$ and $D$ are not proportionnal.* If $A$ and $D$ are not proportional, but both are positive definite, then one may rewrite the PDE as \n",
    "$$\n",
    "    -{\\rm tr}(\\tilde A(x) \\nabla^2 u(x)) -\\alpha(x){\\rm tr}(D(x) \\nabla^2 u(x))  + \\| \\nabla u(x) -\\omega(x)\\|^2_{D(x)} - 1 = 0,\n",
    "$$\n",
    "where for instance \n",
    "$$\n",
    "1/\\alpha(x) := 2 {\\rm tr} (D(x) A(x)^{-1}),\n",
    "$$\n",
    "which ensures that $\\tilde A(x) := A(x)-\\alpha(x) D(x)$ is positive definite, at each discretization point $x$. Monotony holds for the resulting scheme, provided $\\alpha(x) \\geq h$ and the solution gradient is suitably bounded.\n",
    "--->"
   ]
  },
  {
   "cell_type": "code",
   "execution_count": 107,
   "metadata": {},
   "outputs": [],
   "source": [
    "def SchemeCentered(u,A,omega,D,bc,h):\n",
    "    # Compute the decompositions (here offset_e = offset_f)\n",
    "    sb = Selling.ObtuseSuperbase(A) \n",
    "    mu,offset_e = Selling.Decomposition(A,sb=sb) # Non-negative decomposition\n",
    "    nu,offset_f = Selling.Decomposition(D,sb=sb) # Decomposition with the same offsets\n",
    "    omega_f = lp.dot_VA(omega,offset_f.astype(float))\n",
    "\n",
    "    # Compute the first and second order finite differences\n",
    "    du  = fd.DiffCentered(u,offset_f,h)\n",
    "    d2u = fd.Diff2(u,offset_e,h)\n",
    "    \n",
    "    # Scheme in the interior\n",
    "    mu,nu,omega_f = (fd.as_field(e,u.shape) for e in (mu,nu,omega_f)) \n",
    "    residue = -lp.dot_VV(mu,d2u) + lp.dot_VV(nu, (du-omega_f)**2) - 1.\n",
    "\n",
    "    # Boundary conditions\n",
    "    return ad.where(np.isnan(bc),residue,u-bc)"
   ]
  },
  {
   "cell_type": "code",
   "execution_count": 110,
   "metadata": {},
   "outputs": [
    {
     "name": "stdout",
     "output_type": "stream",
     "text": [
      "\n",
      "No drift\n",
      "Iteration: 1  Residue norm: 32.076170531724784\n",
      "Iteration: 2  Residue norm: 7.703153752897222\n",
      "Iteration: 3  Residue norm: 1.618354153184753\n",
      "Iteration: 4  Residue norm: 0.2037564641573426\n",
      "Iteration: 5  Residue norm: 0.004924899868659072\n",
      "Iteration: 6  Residue norm: 2.300227516016662e-06\n",
      "Iteration: 7  Residue norm: 3.0020430585864233e-13\n",
      "Target residue reached. Terminating.\n",
      "\n",
      "Weak drift\n",
      "Iteration: 1  Residue norm: 25.40778231592474\n",
      "Iteration: 2  Residue norm: 6.035487952181703\n",
      "Iteration: 3  Residue norm: 0.6773584986005925\n",
      "Iteration: 4  Residue norm: 0.004664363310484587\n",
      "Iteration: 5  Residue norm: 1.0872860567445741e-07\n",
      "Iteration: 6  Residue norm: 7.860379014346108e-14\n",
      "Target residue reached. Terminating.\n",
      "\n",
      "Non-controllable drift\n",
      "Iteration: 1  Residue norm: 35.05575242835815\n",
      "Iteration: 2  Residue norm: 19.95711256634111\n",
      "Iteration: 3  Residue norm: 4.973488767825273\n",
      "Iteration: 4  Residue norm: 27.35297595162973\n",
      "Iteration: 5  Residue norm: 17.92993559133636\n",
      "Iteration: 6  Residue norm: 7.209168777143361\n",
      "Iteration: 8  Residue norm: 13.059827027915333\n",
      "Iteration: 10  Residue norm: 31.87022163491136\n",
      "Iteration: 12  Residue norm: 41303.50019430439\n",
      "Max iterations exceeded. Aborting.\n"
     ]
    }
   ],
   "source": [
    "print()\n",
    "print(\"No drift\"); \n",
    "solution_no = newton_root(SchemeCentered,guess,params0)\n",
    "print()\n",
    "print(\"Weak drift\"); \n",
    "solution_weak = newton_root(SchemeCentered,guess,params1)\n",
    "print()\n",
    "print(\"Non-controllable drift\"); \n",
    "solution_strong = newton_root(SchemeCentered,guess,params2,\n",
    "                                stop=stop(niter_max=12,raise_on_abort=False))"
   ]
  },
  {
   "cell_type": "code",
   "execution_count": 114,
   "metadata": {},
   "outputs": [
    {
     "data": {
      "image/png": "[encoded data removed]",
      "text/plain": [
       "<Figure size 936x288 with 3 Axes>"
      ]
     },
     "metadata": {
      "needs_background": "light"
     },
     "output_type": "display_data"
    }
   ],
   "source": [
    "plt.figure(figsize=(13,4))\n",
    "plt.subplot(1,3,1); plt.axis('equal'); plt.title('No drift')\n",
    "plt.contourf(X0,X1,solution_no);\n",
    "plt.subplot(1,3,2); plt.axis('equal'); plt.title('Weak drift')\n",
    "plt.contourf(X0,X1,solution_weak);\n",
    "plt.subplot(1,3,3); plt.axis('equal'); plt.title('Strong drift (Scheme fails)')\n",
    "plt.contourf(X0,X1,solution_strong);"
   ]
  },
  {
   "cell_type": "markdown",
   "metadata": {},
   "source": [
    "## 2. Pure eikonal equations\n",
    "\n",
    "The upwind scheme can accomodate, a null diffusion tensor $A$, so that the consider PDE degenerates to a first order eikonal-like equation. \n",
    "$$\n",
    "    \\|\\nabla u-\\omega\\|_D^2-1=0.\n",
    "$$\n",
    "In that case we may in addition impose the boundary condition $+\\infty$ on part of the domain boundary, in the sense of viscosity solutions. This corresponds to outflow boundary conditions."
   ]
  },
  {
   "cell_type": "markdown",
   "metadata": {},
   "source": [
    "**Note on the numerical solver.**\n",
    "In this notebook, we use a Newton-like solver for all the PDEs. While this approach does eventually work for the considered examples, let us emphasize that it *lacks both speed and robustness in the case of pure eikonal equations*. Gauss-Siedel iterations (either sweeping or adaptive) are much more adequate, or even better the single pass fast marching method (applicable to this numerical scheme when $\\omega=0$). \n",
    "\n",
    "**Stabilization of the linear solves**\n",
    "The jacobian matrix $J$ of the considered numerical scheme is not invertible, but \n",
    "$$\n",
    "    J + \\epsilon_0 {\\rm Id} - \\epsilon_1 \\Delta\n",
    "$$\n",
    "is invertible for any $\\epsilon_0>0$ and $\\epsilon_1\\geq 0$, where $\\Delta$ is the matrix of the laplacian operator.\n",
    "\n",
    "We use both $\\epsilon_0>0$ and $\\epsilon_1>0$ in the first steps of Newton method, to propagate information over the domain using the laplacian kernel. Once a good approximation of the solution is obtained, we turn to a more basic relaxation with $\\epsilon_0>0$ and $\\epsilon_1=0$."
   ]
  },
  {
   "cell_type": "markdown",
   "metadata": {},
   "source": [
    "### 2.1 A Riemannian eikonal equation\n",
    "We solve $\\|\\nabla u\\|_D = 1$, where $D$ is the inverse to a Riemannian metric, which is specified in terms of its eigenvalues and eigenvectors.\n",
    "\n",
    "In order to compute the Riemannian distance from the domain center $x_0$, we impose the Dirichlet boundary condition $u(x_0)=0$. On the domain boundary, we set $u=+\\infty$ in the sense of viscosity solutions, to impose outflow boundary conditions."
   ]
  },
  {
   "cell_type": "code",
   "execution_count": 143,
   "metadata": {},
   "outputs": [],
   "source": [
    "ident = ad.Sparse.identity(X0.shape)\n",
    "lap   = fd.Diff2(ident,(1,0),gridScale) + fd.Diff2(ident,(0,1),gridScale)\n",
    "lap[0,:]=0.; lap[-1,:]=0.; lap[:,0]=0.; lap[:,-1]=0.; "
   ]
  },
  {
   "cell_type": "code",
   "execution_count": 144,
   "metadata": {},
   "outputs": [],
   "source": [
    "# Generate the metric\n",
    "eig1 = np.stack((np.full(X0.shape,1.),(np.pi/2)*np.cos(2*np.pi*X0)))\n",
    "eig1 /= scipy.linalg.norm(eig1,axis=0) \n",
    "eig2 = np.stack( (eig1[1],-eig1[0]) ) # Rotate eig1 by pi/2\n",
    "lambda1, lambda2 = 0.8, 0.2\n",
    "metric = lambda1**-2*lp.outer_self(eig1) + lambda2**-2*lp.outer_self(eig2)\n",
    "\n",
    "# Use a seed in the center\n",
    "bc_center = np.full(X0.shape,np.nan)\n",
    "bc_center[X0.shape[0]//2,X0.shape[1]//2] = 1\n",
    "\n",
    "# Outflow boundary conditions on the boundary\n",
    "padding=np.inf "
   ]
  },
  {
   "cell_type": "code",
   "execution_count": 145,
   "metadata": {},
   "outputs": [],
   "source": [
    "# Set the problem parameters\n",
    "D_Riemann = lp.inverse(metric)\n",
    "omega_Riemann = fd.as_field(np.zeros(2),X0.shape)"
   ]
  },
  {
   "cell_type": "code",
   "execution_count": 183,
   "metadata": {},
   "outputs": [
    {
     "name": "stdout",
     "output_type": "stream",
     "text": [
      "Iteration: 1  Residue norm: 1.0\n",
      "Iteration: 5  Residue norm: 3.6078022770426132\n",
      "Iteration: 9  Residue norm: 176.18722032179525\n",
      "Iteration: 13  Residue norm: 4.371650627870973\n",
      "Iteration: 17  Residue norm: 2.882099500504985\n",
      "Iteration: 20  Residue norm: 1.6375213117137701\n",
      "Max iterations exceeded. Aborting.\n",
      "\n",
      "Iteration: 1  Residue norm: 10.71205372098489\n",
      "Iteration: 5  Residue norm: 0.33991427636275773\n",
      "Iteration: 9  Residue norm: 0.0260967320633142\n",
      "Iteration: 13  Residue norm: 0.0017083302613463136\n",
      "Iteration: 17  Residue norm: 0.00010718314095714554\n",
      "Iteration: 21  Residue norm: 6.699618464223178e-06\n",
      "Iteration: 25  Residue norm: 4.187271154254546e-07\n",
      "Iteration: 29  Residue norm: 2.617044858599371e-08\n",
      "Iteration: 31  Residue norm: 6.5425678208441695e-09\n",
      "Target residue reached. Terminating.\n"
     ]
    },
    {
     "data": {
      "image/png": "[encoded data removed]",
      "text/plain": [
       "<Figure size 432x288 with 1 Axes>"
      ]
     },
     "metadata": {
      "needs_background": "light"
     },
     "output_type": "display_data"
    }
   ],
   "source": [
    "params = (None,omega_Riemann,D_Riemann,bc_center,gridScale,padding)\n",
    "\n",
    "# First run 20 iterations with a strong relaxation, featuring a laplacian\n",
    "solution_upwind = newton_root(SchemeUpwind,guess,params,relax=ident-gridScale*lap,\n",
    "                             stop = stop(niter_max=20,raise_on_abort=False,niter_print=every4))\n",
    "\n",
    "print()\n",
    "# Then refine the solution, with a weaker relaxation\n",
    "solution_upwind = newton_root(SchemeUpwind,solution_upwind,params,relax=ident,\n",
    "                              stop = stop(niter_print=every4)) \n",
    "\n",
    "plt.axis('equal'); plt.title(\"Riemannian eikonal equation\")\n",
    "plt.contourf(X0,X1,solution_upwind);"
   ]
  },
  {
   "cell_type": "markdown",
   "metadata": {},
   "source": [
    "### 2.2 An eikonal equation of Rander type\n",
    "\n",
    "We solve a classical instance of Zermelo's navigation problem: $u(x)=T$ is the smallest time for which there exists a path $\\gamma : [0,T] \\to \\Omega$ such that \n",
    "$$\n",
    "    \\| \\gamma'(t) - \\eta(\\gamma(t))\\|_{M(\\gamma(t))} \\leq 1\n",
    "$$\n",
    "for all $0 \\leq t \\leq T$, and with the endpoint conditions $\\gamma(0) = x_0$ (the seed point) and $\\gamma(T)=x$.\n",
    "Here $M$ is a prescribed Riemannian metric, and $\\eta$ is a drift vector field. \n",
    "\n",
    "For well posedness, we require the problem to be locally controllable, which is the case provided \n",
    "$$\n",
    "\\| \\eta(x)\\|_{M(x)} < 1\n",
    "$$\n",
    "at all points of the domain."
   ]
  },
  {
   "cell_type": "code",
   "execution_count": 184,
   "metadata": {},
   "outputs": [],
   "source": [
    "# Choose the Riemannian metric and drift\n",
    "metric = fd.as_field( np.eye(2), X0.shape)\n",
    "drift_max_speed = 0.8\n",
    "drift = drift_max_speed*np.sin(2*np.pi*X0)*np.sin(2*np.pi*X1) * np.stack((X0,X1))/ np.sqrt(X0**2+X1**2)"
   ]
  },
  {
   "cell_type": "code",
   "execution_count": 185,
   "metadata": {},
   "outputs": [],
   "source": [
    "def RanderDual(m,v):\n",
    "    s = lp.inverse(m-lp.outer_self(v))\n",
    "    w = lp.dot_AV(s,v)\n",
    "    return (s*(1+lp.dot_VV(v,w)),w)"
   ]
  },
  {
   "cell_type": "code",
   "execution_count": 186,
   "metadata": {},
   "outputs": [],
   "source": [
    "# Set the problem parameters\n",
    "D_Rander,omega_Rander = RanderDual(lp.inverse(metric),drift)\n",
    "D_Rander = lp.inverse(D_Rander)"
   ]
  },
  {
   "cell_type": "code",
   "execution_count": 188,
   "metadata": {},
   "outputs": [
    {
     "name": "stdout",
     "output_type": "stream",
     "text": [
      "Iteration: 1  Residue norm: 3.4295120415112645\n",
      "Iteration: 5  Residue norm: 714.2666354623155\n",
      "Iteration: 9  Residue norm: 8.19150558065569\n",
      "Iteration: 13  Residue norm: 0.6922664402125585\n",
      "Iteration: 17  Residue norm: 0.23840958690331715\n",
      "Iteration: 20  Residue norm: 0.12990626175185505\n",
      "Max iterations exceeded. Aborting.\n",
      "\n",
      "Iteration: 1  Residue norm: 0.011672808501861032\n",
      "Iteration: 5  Residue norm: 0.0010799904128258042\n",
      "Iteration: 9  Residue norm: 6.69566411343192e-05\n",
      "Iteration: 13  Residue norm: 4.184358700864976e-06\n",
      "Iteration: 17  Residue norm: 2.615226311064589e-07\n",
      "Iteration: 21  Residue norm: 1.6345196085509883e-08\n",
      "Iteration: 22  Residue norm: 8.172584609056344e-09\n",
      "Target residue reached. Terminating.\n"
     ]
    },
    {
     "data": {
      "image/png": "[encoded data removed]",
      "text/plain": [
       "<Figure size 432x288 with 1 Axes>"
      ]
     },
     "metadata": {
      "needs_background": "light"
     },
     "output_type": "display_data"
    }
   ],
   "source": [
    "params = (None,omega_Rander,D_Rander,bc_center,gridScale,padding)\n",
    "solution_upwind = newton_root(SchemeUpwind,guess,params, # Zero guess\n",
    "                              relax=ident-gridScale*lap, # Laplacian in relaxation\n",
    "                       stop=stop(niter_max=20,raise_on_abort=False,niter_print=every4) )\n",
    "\n",
    "print()\n",
    "solution_upwind = newton_root(SchemeUpwind,solution_upwind,params, # Previous solution as guess\n",
    "                       relax=ident, stop=stop(niter_print=every4)) # Basic relaxation\n",
    "\n",
    "plt.axis('equal'); plt.title(\"Rander eikonal equation\")\n",
    "plt.contourf(X0,X1,solution_upwind);"
   ]
  }
 ],
 "metadata": {
  "celltoolbar": "Format de la Cellule Texte Brut",
  "kernelspec": {
   "display_name": "Python 3",
   "language": "python",
   "name": "python3"
  },
  "language_info": {
   "codemirror_mode": {
    "name": "ipython",
    "version": 3
   },
   "file_extension": ".py",
   "mimetype": "text/x-python",
   "name": "python",
   "nbconvert_exporter": "python",
   "pygments_lexer": "ipython3",
   "version": "3.7.3"
  }
 },
 "nbformat": 4,
 "nbformat_minor": 2
}
