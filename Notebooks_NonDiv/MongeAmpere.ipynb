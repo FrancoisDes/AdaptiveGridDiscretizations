{
 "cells": [
  {
   "cell_type": "markdown",
   "metadata": {},
   "source": [
    "# Adaptive PDE discretizations on cartesian grids\n",
    "\n",
    "## Part : Optimal transport\n",
    "## Chapter : The Monge-Ampere equation\n",
    "\n",
    "This notebook presents a series of methods for numerically solving the Monge-Ampere equation\n",
    "$$\n",
    "    f(x) - \\det(\\nabla^2 u(x)) = 0,\n",
    "$$\n",
    "among convex functions, with Dirichlet boundary conditions. \n",
    "The function $f$ is assumed to be strictly positive.\n",
    "For that purpose, we rely on the monotone and consistent MA-LBR numerical scheme (Monge-Ampere using Lattice Basis Reduction), and some variants.\n",
    "\n",
    "**References.**\n",
    "\n",
    "The MA-LBR scheme was first introduced in:\n",
    "* Benamou, J.-D., Collino, F., & Mirebeau, J.-M. (2016). Monotone and Consistent discretization of the Monge-Ampere operator. Mathematics of Computation, 85(302), 2743–2775."
   ]
  },
  {
   "cell_type": "markdown",
   "metadata": {},
   "source": [
    "**Reformulation as an extremal operator.**\n",
    "The starting point of these methods is to observe that, for a positive definite $d \\times d$ matrix $M$\n",
    "$$\n",
    "    d ({\\rm det} M)^\\frac 1 d = \\inf_{{\\rm det} D = 1} {\\rm tr}(D M),\n",
    "$$\n",
    "where, implicitly, the optimization variable $D$ is also assumed to be a symmetric positive definite matrix.\n",
    "\n",
    "If $M = \\nabla^2 u$ is a hessian matrix, then the l.h.s. is (a multiple of a power of) the Monge-Ampere operator, while the r.h.s. is an infimum of second order linear operators, which can be discretized using monotone finite differences.\n",
    "\n",
    "**Discretization strategy**\n",
    "The chosen finite difference scheme for the linear operator is described in \n",
    "[I Tensor decomposition, dimensions 2 and 3](http://nbviewer.jupyter.org/urls/rawgithub.com/Mirebeau/AdaptiveGridDiscretizations/master/Notebooks/TensorSelling.ipynb)\n",
    "Since \n"
   ]
  },
  {
   "cell_type": "code",
   "execution_count": 12,
   "metadata": {},
   "outputs": [],
   "source": [
    "import sys; sys.path.append(\"..\") # Allow imports from parent directory"
   ]
  },
  {
   "cell_type": "code",
   "execution_count": 13,
   "metadata": {},
   "outputs": [
    {
     "data": {
      "text/markdown": [
       "[**Summary**](Summary.ipynb) of this series of notebooks. "
      ],
      "text/plain": [
       "<IPython.core.display.Markdown object>"
      ]
     },
     "metadata": {},
     "output_type": "display_data"
    },
    {
     "data": {
      "text/markdown": [
       "[**Main summary**](../Summary.ipynb), including the other volumes of this work. "
      ],
      "text/plain": [
       "<IPython.core.display.Markdown object>"
      ]
     },
     "metadata": {},
     "output_type": "display_data"
    },
    {
     "data": {
      "text/markdown": [
       "\n",
       "# Table of contents"
      ],
      "text/plain": [
       "<IPython.core.display.Markdown object>"
      ]
     },
     "metadata": {},
     "output_type": "display_data"
    },
    {
     "data": {
      "text/markdown": [
       "  * [1. Naive non-monotone discretization (purposedly fails)](#1.-Naive-non-monotone-discretization-(purposedly-fails))\n",
       "  * [2. The MA-LBR scheme](#2.-The-MA-LBR-scheme)\n",
       "    * [2.1 First implementation](#2.1-First-implementation)\n",
       "    * [2.2 Optimized implementation](#2.2-Optimized-implementation)\n",
       "  * [3. Uniformly elliptic scheme](#3.-Uniformly-elliptic-scheme)\n",
       "    * [3.1 First implementation](#3.1-First-implementation)\n",
       "    * [3.2 Optimized implementation](#3.2-Optimized-implementation)\n",
       "    * [3.3 Validation](#3.3-Validation)"
      ],
      "text/plain": [
       "<IPython.core.display.Markdown object>"
      ]
     },
     "metadata": {},
     "output_type": "display_data"
    },
    {
     "data": {
      "text/markdown": [
       "\n",
       "\n",
       "\n",
       "**Acknowledgement.** The experiments presented in these notebooks are part of ongoing research, \n",
       "some of it with PhD student Guillaume Bonnet, in co-direction with Frederic Bonnans.\n",
       "\n",
       "Copyright Jean-Marie Mirebeau, University Paris-Sud, CNRS, University Paris-Saclay\n"
      ],
      "text/plain": [
       "<IPython.core.display.Markdown object>"
      ]
     },
     "metadata": {},
     "output_type": "display_data"
    }
   ],
   "source": [
    "from Miscellaneous import TocTools; TocTools.displayTOC('MongeAmpere','NonDiv')"
   ]
  },
  {
   "cell_type": "markdown",
   "metadata": {},
   "source": [
    "## 0. Importing the required libraries"
   ]
  },
  {
   "cell_type": "code",
   "execution_count": 14,
   "metadata": {},
   "outputs": [],
   "source": [
    "import sys; sys.path.append(\"..\") # Allow import from parent directory\n",
    "from NumericalSchemes import Selling\n",
    "from NumericalSchemes import LinearParallel as lp\n",
    "from NumericalSchemes import FiniteDifferences as fd\n",
    "from NumericalSchemes import AutomaticDifferentiation as ad"
   ]
  },
  {
   "cell_type": "code",
   "execution_count": 15,
   "metadata": {},
   "outputs": [],
   "source": [
    "import numpy as np\n",
    "from matplotlib import pyplot as plt"
   ]
  },
  {
   "cell_type": "markdown",
   "metadata": {},
   "source": [
    "Some utility functions"
   ]
  },
  {
   "cell_type": "code",
   "execution_count": 16,
   "metadata": {},
   "outputs": [],
   "source": [
    "as_field = fd.as_field\n",
    "newton_root = ad.Optimization.newton_root\n",
    "stop    = ad.Optimization.stop_default\n",
    "damping = ad.Optimization.damping_default "
   ]
  },
  {
   "cell_type": "code",
   "execution_count": 17,
   "metadata": {},
   "outputs": [],
   "source": [
    "def reload_packages():\n",
    "    import importlib\n",
    "    Selling = importlib.reload(sys.modules['NumericalSchemes.Selling'])\n",
    "    lp = importlib.reload(sys.modules['NumericalSchemes.LinearParallel'])\n",
    "    fd = importlib.reload(sys.modules['NumericalSchemes.FiniteDifferences'])\n",
    "    ad = importlib.reload(sys.modules['NumericalSchemes.AutomaticDifferentiation'])\n",
    "    ad.reload_submodules()"
   ]
  },
  {
   "cell_type": "code",
   "execution_count": 48,
   "metadata": {},
   "outputs": [],
   "source": [
    "figSaveDir = None #\"Figures/MongeAmpere/\""
   ]
  },
  {
   "cell_type": "markdown",
   "metadata": {},
   "source": [
    "## 1. Naive non-monotone discretization (purposedly fails)\n",
    "\n",
    "We present a naive, non-monotone discretization of the addressed problem. This scheme can be used to check that a numerical solution (produced by other means) is correct, or to construct synthetic examples. However, using it to solve the PDE is usually bound to fail. \n",
    "\n",
    "The naive scheme is based on a reconstruction of the Hessian matrix of the form\n",
    "$$\n",
    "    \\begin{pmatrix}\n",
    "        D^h_{00} u(x) & D^h_{01} u(x)\\\\\n",
    "        D^h_{01} u(x) & D^h_{11} u(x)\n",
    "    \\end{pmatrix},\n",
    "$$\n",
    "where $D_{00}$, $D_{01}$ and $D_{11}$ are finite-difference operators. Namely\n",
    "$$\n",
    "    D^h_{00} u(x) := \\frac{u(x_0+h,x_1)-2 u(x_0,x_1) + u(x_0-h,x_1)}{h^2},\n",
    "$$\n",
    "likewise for $D^h_{11} u(x)$, and finally\n",
    "$$\n",
    "    D^h_{01} u(x) := \\frac{u(x_0+h,x_1+h)-u(x_0-h,x_1+h)-u(x_0+h,x_1-h)+h(x_0-h,x_1-h)}{4 h^2}.\n",
    "$$"
   ]
  },
  {
   "cell_type": "code",
   "execution_count": 19,
   "metadata": {},
   "outputs": [],
   "source": [
    "def SchemeNonMonotone(u,f,bc,h):\n",
    "    # Compute the hessian matrix of u\n",
    "    uxx = fd.Diff2(u,(1,0),h)\n",
    "    uyy = fd.Diff2(u,(0,1),h)\n",
    "    uxy = 0.25*(fd.Diff2(u,(1,1),h) - fd.Diff2(u,(1,-1),h))\n",
    "    \n",
    "    # Numerical scheme\n",
    "    det = uxx*uyy-uxy**2\n",
    "    residue = f - det\n",
    "    \n",
    "    # Boundary conditions\n",
    "    return ad.where(np.isnan(bc),residue,u-bc)"
   ]
  },
  {
   "cell_type": "markdown",
   "metadata": {},
   "source": [
    "We next choose some problem parameters"
   ]
  },
  {
   "cell_type": "code",
   "execution_count": 20,
   "metadata": {},
   "outputs": [],
   "source": [
    "# Create the domain\n",
    "gridScale = 0.02\n",
    "aX0 = np.arange(-1,1,gridScale); aX1=aX0;\n",
    "X0,X1 = np.meshgrid(aX0,aX1,indexing='ij')\n",
    "\n",
    "guess = X0**2+X1**2\n",
    "\n",
    "# Set the boundary conditions \n",
    "bc=np.full(X0.shape,0.)\n",
    "bc[1:-1,1:-1] = np.nan\n",
    "\n",
    "# Choose the PDE parameters\n",
    "f=1."
   ]
  },
  {
   "cell_type": "markdown",
   "metadata": {},
   "source": [
    "The naive and non-monotone discretization scheme is consistent, but lacks any other sort of theoretical guarantees. \n",
    "\n",
    "**In general, attempts to solve numerically the non-monotone scheme will fail. This is expected behavior**"
   ]
  },
  {
   "cell_type": "code",
   "execution_count": 21,
   "metadata": {},
   "outputs": [
    {
     "name": "stdout",
     "output_type": "stream",
     "text": [
      "Iteration: 1  Residue norm: 33.046411228858545\n",
      "Iteration: 2  Residue norm: 1951730.527964688\n",
      "Iteration: 3  Residue norm: 487930.0718732065\n",
      "Iteration: 4  Residue norm: 121975.55844355024\n",
      "Iteration: 5  Residue norm: 30493.236830793026\n",
      "Iteration: 6  Residue norm: 7622.978886104425\n",
      "Iteration: 8  Residue norm: 33677790.02204338\n",
      "Iteration: 10  Residue norm: 2104779.051308985\n",
      "Iteration: 12  Residue norm: 2030195.5103893061\n",
      "Iteration: 14  Residue norm: 711205.6731629733\n",
      "Iteration: 15  Residue norm: 3178078.7350815744\n",
      "Max iterations exceeded. Aborting.\n"
     ]
    }
   ],
   "source": [
    "params = (f,bc,gridScale)\n",
    "solution = newton_root(SchemeNonMonotone,guess,params, # Fails (quickly). \n",
    "                       stop=stop(niter_max=15,raise_on_abort=False)) "
   ]
  },
  {
   "cell_type": "markdown",
   "metadata": {},
   "source": [
    "The non-monotone scheme may nevertheless work for some specific gentle problem instances (with a smooth solution), a careful initialization, and a bit of luck.\n",
    "\n",
    "This is the case below, where we solve the same problem as above, but with a different handling of the boundary conditions: they are imposed implicitly by the padding values used in the finite differences."
   ]
  },
  {
   "cell_type": "code",
   "execution_count": 22,
   "metadata": {},
   "outputs": [
    {
     "name": "stdout",
     "output_type": "stream",
     "text": [
      "Iteration: 1  Residue norm: 6139649.490881566\n",
      "Iteration: 2  Residue norm: 1534910.8805607464\n",
      "Iteration: 3  Residue norm: 383707.253507626\n",
      "Iteration: 4  Residue norm: 95906.24452518558\n",
      "Iteration: 5  Residue norm: 23950.95857074562\n",
      "Iteration: 6  Residue norm: 5964.201462869455\n",
      "Iteration: 8  Residue norm: 349.12242012912475\n",
      "Iteration: 10  Residue norm: 8.855222711298389\n",
      "Iteration: 12  Residue norm: 0.00018934626445599179\n",
      "Iteration: 13  Residue norm: 1.2143885896875872e-10\n",
      "Target residue reached. Terminating.\n"
     ]
    },
    {
     "data": {
      "image/png": "[encoded data removed]",
      "text/plain": [
       "<Figure size 432x288 with 1 Axes>"
      ]
     },
     "metadata": {
      "needs_background": "light"
     },
     "output_type": "display_data"
    }
   ],
   "source": [
    "params = (f,np.full(X0.shape,np.nan),gridScale)\n",
    "solution_non_monotone = newton_root(SchemeNonMonotone,guess,params) \n",
    "\n",
    "plt.axis('equal'); plt.title(\"Solution to 1-det(d^2 u)=0, with u=0 on bd\")\n",
    "plt.contourf(X0,X1,solution_non_monotone);"
   ]
  },
  {
   "cell_type": "markdown",
   "metadata": {},
   "source": [
    "## 2. The MA-LBR scheme\n",
    "\n",
    "The MA-LBR scheme is a monotone and consistent discretization of the Monge-Ampere operator. It takes the form:\n",
    "$$\n",
    "    \\Lambda u(x) := \\inf_{(e_0,e_1,e_2) \\in S} H( \\Delta_{e_0}^h u(x), \\Delta_{e_1}^h u(x), \\Delta_{e_2}^h u(x)).\n",
    "$$\n",
    "We denoted by $S$ a family of superbases of $Z^2$, which is a parameter to the scheme that must be chosen, see below. \n",
    "Superbases are triplets $(e_0,e_1,e_2)$ of vectors $e_0,e_1,e_2 \\in Z^2$ with integer coordinates.\n",
    "\n",
    "We denoted second order finite differences, in a direction $e\\in Z^2$ by \n",
    "$$\n",
    "    \\Delta_e^h u(x) := \\frac{u(x+h e) -2 u(x) +u(x+he)} {h^2}.\n",
    "$$\n",
    "The scheme also features a three argument function $H$, defined as follows: $H(a,b,c) := H_0(a_+,b_+,c_+)$, where \n",
    "$$\n",
    "    H_0(a,b,c) :=\n",
    "    \\begin{cases}\n",
    "        a b \\quad \\text{ if }\\ a+b < c, \\text{ and likewise permuting } a,b,c\\\\\n",
    "        \\frac 1 2 (a b+b c+c a) - \\frac 1 4 (a^2+b^2+c^2)\\quad \\text{ otherwise}.\n",
    "    \\end{cases}\n",
    "$$\n",
    "\n",
    "\n",
    "**Convexity of the solution, and ellipticity of the PDE and numerical scheme.**\n",
    "\n",
    "The Monge-Ampere equation imposes, as a constraint, that the solution $u$ be convex. The ellipticity of the Monge-Ampere operator degenerates as $\\det(\\nabla^2 u) \\to 0$, which means that $u$ looses convexity.\n",
    "\n",
    "A similar issue arises with the MA-LBR scheme. It is strictly elliptic only as long as \n",
    "$$\n",
    "    \\Lambda u(x) > 0,\n",
    "$$\n",
    "which is a discrete counterpart of convexity. \n",
    "\n",
    "**Damping of the Newton method.**\n",
    "We need to guarantee that, along the iterations, the numerical scheme ellipticity is preserved. \n",
    "A first requirement for this is to choose a strictly convex initialization, for instance the quadratic function $u(x) = \\|x\\|^2/2$.\n",
    "\n",
    "For this reason, we also resort to a damped Newton method. The default behavior is to define\n",
    "$$\n",
    "    u_{n+1} = u_n + 2^{-k_n} d_n,\n",
    "$$\n",
    "where $d_n$ is the Newton descent direction, and $k_n$ is the least integer such that \n",
    "$$\n",
    "    \\Lambda u_{n+1}(x) \\geq f(x)/2,\n",
    "$$\n",
    "at all discretization points $x$.\n",
    "(Recall that the r.h.s $f$ is assumed to be strictly positive.)\n",
    "\n",
    "We assume, for simplicity, that this condition holds at initialization. Otherwise a threshold lower than $f/2$ could be used."
   ]
  },
  {
   "cell_type": "markdown",
   "metadata": {},
   "source": [
    "### 2.1 First implementation"
   ]
  },
  {
   "cell_type": "code",
   "execution_count": 23,
   "metadata": {},
   "outputs": [],
   "source": [
    "guess_quadratic = 0.5*(X0**2+X1**2)"
   ]
  },
  {
   "cell_type": "code",
   "execution_count": 24,
   "metadata": {},
   "outputs": [],
   "source": [
    "def MALBR_H(d2u):\n",
    "    a,b,c = ad.sort(np.maximum(0.,d2u), axis=0)\n",
    "    \n",
    "    # General formula, handling infinite values separately\n",
    "    A,B,C = (ad.where(e==np.inf,0.,e) for e in (a,b,c))\n",
    "    result = 0.5*(A*B+B*C+C*A)-0.25*(A**2+B**2+C**2)\n",
    "    \n",
    "    pos_inf = np.logical_or.reduce(d2u==np.inf)    \n",
    "    result[pos_inf]=np.inf\n",
    "    \n",
    "    pos_ineq = a+b<c\n",
    "    result[pos_ineq] = (A*B)[pos_ineq]\n",
    "        \n",
    "    return result\n",
    "    \n",
    "def SchemeMALBR(u,SB,f,bc,gridScale):\n",
    "    # Compute the finite differences along the superbase directions\n",
    "    d2u = fd.Diff2(u,SB,gridScale,padding=np.inf)\n",
    "    \n",
    "    # Numerical scheme\n",
    "    residue = f-MALBR_H(d2u).min(axis=0)\n",
    "    \n",
    "    # Boundary conditions\n",
    "    return ad.where(np.isnan(bc),residue,u-bc)"
   ]
  },
  {
   "cell_type": "markdown",
   "metadata": {},
   "source": [
    "We next implement the test used to select the damping parameter. "
   ]
  },
  {
   "cell_type": "code",
   "execution_count": 25,
   "metadata": {},
   "outputs": [],
   "source": [
    "def InvalidMALBR(u,SB,f,bc,h):\n",
    "    residue = SchemeMALBR(u,SB,f,bc,gridScale)\n",
    "    interior = np.isnan(bc)\n",
    "    return np.any(residue[interior]>=f/2)"
   ]
  },
  {
   "cell_type": "markdown",
   "metadata": {},
   "source": [
    "We next choose a family of superbases. The scheme is (second order) consistent while the condition number of the hessian of $u$ remains below the given bound. Beyond that, a consistency defect is introduced."
   ]
  },
  {
   "cell_type": "code",
   "execution_count": 26,
   "metadata": {},
   "outputs": [],
   "source": [
    "SB0 = Selling.SuperbasesForConditioning(5)\n",
    "SB1 = Selling.SuperbasesForConditioning(15)\n",
    "SB2 = Selling.SuperbasesForConditioning(30)"
   ]
  },
  {
   "cell_type": "code",
   "execution_count": 27,
   "metadata": {},
   "outputs": [
    {
     "data": {
      "image/png": "[encoded data removed]",
      "text/plain": [
       "<Figure size 432x288 with 1 Axes>"
      ]
     },
     "metadata": {
      "needs_background": "light"
     },
     "output_type": "display_data"
    }
   ],
   "source": [
    "plt.axis('equal'); plt.title('Stencil of the MA-LBR scheme, for bounds (5,15,30) on conditioning')\n",
    "def stencil(SB): return np.stack((SB,-SB),axis=2)[:,:]\n",
    "plt.scatter(*stencil(SB2));plt.scatter(*stencil(SB1));plt.scatter(*stencil(SB0));"
   ]
  },
  {
   "cell_type": "code",
   "execution_count": 28,
   "metadata": {},
   "outputs": [
    {
     "name": "stdout",
     "output_type": "stream",
     "text": [
      "Iteration: 1  Residue norm: 0.875\n",
      "Iteration: 2  Residue norm: 0.84765625\n",
      "Iteration: 3  Residue norm: 0.8211669921875\n",
      "Iteration: 4  Residue norm: 0.7955055236816406\n",
      "Iteration: 5  Residue norm: 0.783075749874115\n",
      "Iteration: 6  Residue norm: 0.7586046326905489\n",
      "Iteration: 8  Residue norm: 0.7350834441281222\n",
      "Iteration: 10  Residue norm: 0.6898585837960209\n",
      "Iteration: 12  Residue norm: 0.6265317216116206\n",
      "Iteration: 14  Residue norm: 0.5139518028845326\n",
      "Iteration: 16  Residue norm: 0.4790541170620628\n",
      "Iteration: 20  Residue norm: 0.3434779897484077\n",
      "Iteration: 24  Residue norm: 2.1866952693017083e-12\n",
      "Target residue reached. Terminating.\n",
      "CPU times: user 24.7 s, sys: 1.92 s, total: 26.6 s\n",
      "Wall time: 6.75 s\n"
     ]
    }
   ],
   "source": [
    "%%time\n",
    "# This damping rule cuts the step size in half until the MALBR validity criterion is met\n",
    "dampingMALBR = damping(criterion=InvalidMALBR)\n",
    "\n",
    "params = (SB0,f,bc,gridScale)\n",
    "solution_MALBR = newton_root(SchemeMALBR,guess_quadratic,params,damping=dampingMALBR)"
   ]
  },
  {
   "cell_type": "markdown",
   "metadata": {},
   "source": [
    "Some of the Newton steps are in the order of $10^{-2}$. The last ones, close to the solution, equal one."
   ]
  },
  {
   "cell_type": "code",
   "execution_count": 29,
   "metadata": {},
   "outputs": [
    {
     "data": {
      "text/plain": [
       "array([0.125   , 0.03125 , 0.03125 , 0.03125 , 0.015625, 0.03125 ,\n",
       "       0.015625, 0.015625, 0.03125 , 0.03125 , 0.03125 , 0.0625  ,\n",
       "       0.0625  , 0.125   , 0.125   , 0.25    , 0.25    , 0.5     ,\n",
       "       0.5     , 1.      , 1.      , 1.      , 1.      , 1.      ])"
      ]
     },
     "execution_count": 29,
     "metadata": {},
     "output_type": "execute_result"
    }
   ],
   "source": [
    "np.array(dampingMALBR.steps)"
   ]
  },
  {
   "cell_type": "code",
   "execution_count": 30,
   "metadata": {},
   "outputs": [
    {
     "data": {
      "image/png": "[encoded data removed]",
      "text/plain": [
       "<Figure size 432x288 with 1 Axes>"
      ]
     },
     "metadata": {
      "needs_background": "light"
     },
     "output_type": "display_data"
    }
   ],
   "source": [
    "plt.axis('equal'); plt.title(\"MALBR solution to det(d2 u)=1\")\n",
    "plt.contourf(X0,X1,solution_MALBR);"
   ]
  },
  {
   "cell_type": "markdown",
   "metadata": {},
   "source": [
    "### 2.2 Optimized implementation\n",
    "\n",
    "In the course of the Newton method, the AD-LBR scheme is evaluated on sparse AD variables. In this regard, two features of the scheme yield optimization opportunities:\n",
    "* *Minimization over the superbases.* Using the envelope theorem, we find the minimizer using ordinary arrays without AD information, and then provide this oracle information in a second pass involving AD information.\n",
    "* *Complex non-linear function $H$.* We can take advantage of dense and sparse AD composition, to efficiently evaluate $H$.\n",
    "\n",
    "**Important: other optimization opportunities.**\n",
    "Our main intent in this subsection is to illustrate advanced AD techniques. There may be other optimization opportunities."
   ]
  },
  {
   "cell_type": "code",
   "execution_count": 31,
   "metadata": {},
   "outputs": [],
   "source": [
    "def SchemeMALBR_OptInner(u,SB,gridScale,oracle=None):\n",
    "    # If the active superbases are known, then take only these\n",
    "    if not(oracle is None):\n",
    "        SB = np.take_along_axis(SB,np.broadcast_to(oracle,SB.shape[:2]+(1,)+oracle.shape),axis=2)\n",
    "                \n",
    "    d2u = fd.Diff2(u,SB,gridScale,padding=np.inf)    \n",
    "    # Evaluate the complex non-linear function using dense - sparse composition\n",
    "    result = ad.apply(MALBR_H,d2u,shape_bound=u.shape)\n",
    "    \n",
    "    return ad.min_argmin(result,axis=0)\n",
    "\n",
    "def SchemeMALBR_Opt(u,SB,f,bc,gridScale):\n",
    "    \n",
    "    # Evaluate using the envelope theorem\n",
    "    result,_ = ad.apply(SchemeMALBR_OptInner, u,as_field(SB,u.shape),gridScale, envelope=True)\n",
    "        \n",
    "    # Boundary conditions\n",
    "    return ad.where(np.isnan(bc), f - result, u-bc)"
   ]
  },
  {
   "cell_type": "markdown",
   "metadata": {},
   "source": [
    "We can afford to take more superbases, `SB2` instead of `SB0`, thanks to the optimizations. Replace `SchemeMALBR_Opt` with `SchemeMALBR` to see the computation time difference."
   ]
  },
  {
   "cell_type": "code",
   "execution_count": 32,
   "metadata": {},
   "outputs": [
    {
     "name": "stdout",
     "output_type": "stream",
     "text": [
      "Iteration: 1  Residue norm: 0.9379882812452407\n",
      "Iteration: 2  Residue norm: 0.879807207375034\n",
      "Iteration: 3  Residue norm: 0.8252211483377507\n",
      "Iteration: 4  Residue norm: 0.7995240309120468\n",
      "Iteration: 5  Residue norm: 0.7746255779939959\n",
      "Iteration: 6  Residue norm: 0.7265415012946141\n",
      "Iteration: 8  Residue norm: 0.6391112504987031\n",
      "Iteration: 10  Residue norm: 0.49095654566448976\n",
      "Iteration: 12  Residue norm: 0.4724599455557944\n",
      "Iteration: 14  Residue norm: 0.3325818923983883\n",
      "Iteration: 16  Residue norm: 0.4839802854878774\n",
      "Iteration: 20  Residue norm: 2.2579715874826434e-12\n",
      "Target residue reached. Terminating.\n",
      "CPU times: user 19.9 s, sys: 1.01 s, total: 20.9 s\n",
      "Wall time: 5.3 s\n"
     ]
    }
   ],
   "source": [
    "%%time\n",
    "params = (SB2,f,bc,gridScale)\n",
    "solution_MALBR = newton_root(SchemeMALBR_Opt,guess_quadratic,params,damping=dampingMALBR) "
   ]
  },
  {
   "cell_type": "markdown",
   "metadata": {},
   "source": [
    "## 3. Uniformly elliptic scheme\n",
    "\n",
    "We reformulate the PDE as \n",
    "$$\n",
    "    0 = \\max_D \\det(D)^\\frac 1 d - \\alpha(x) {\\rm tr} (D \\nabla ^2 u(x))\n",
    "$$\n",
    "subject to the constraints\n",
    "$$\n",
    "    D \\succeq 0, \\qquad {\\rm tr} (D) = 1,\n",
    "$$\n",
    "and where we denoted\n",
    "$$\n",
    "    \\alpha(x) := 1/(d f(x)^{\\frac 1 d}).\n",
    "$$"
   ]
  },
  {
   "cell_type": "markdown",
   "metadata": {},
   "source": [
    "### Reformulation as a quadratic optimization problem\n",
    "\n",
    "We constrain the above optimization problem to matrices $D$ which can be decomposed over a superbase $(e_0,e_1,e_2)$ of $Z^2$ in the form\n",
    "$$\n",
    "    D = \\sum_i v_i e_i e_i^T,\n",
    "$$\n",
    "where $v_i \\geq 0$, $0 \\leq i \\leq 2$.\n",
    "We can compute the trace of $D$ \n",
    "$$\n",
    "    {\\rm tr}(D) = \\sum_i v_i \\|e_i\\|^2,\n",
    "$$\n",
    "and its determinant\n",
    "$$\n",
    "    \\det(D) = v_0 v_1 + v_1 v_2 + v_2 v_0 = <v,Q v>\n",
    "$$\n",
    "where \n",
    "$$\n",
    "    Q = \\frac 1 2 \\begin{pmatrix} 0 & 1 & 1\\\\ 1 & 0 & 1\\\\ 1 & 1 & 0 \\end{pmatrix}\n",
    "$$\n",
    "In addition, we have the finite differences approximation\n",
    "$$\n",
    "    {\\rm tr}(D \\nabla^2 u(x)) \\approx \\sum_i v_i \\frac{ u(x+h e_i)-2 u(x)+u(x-he_i)} {h^2}\n",
    "$$\n"
   ]
  },
  {
   "cell_type": "markdown",
   "metadata": {},
   "source": [
    "### Solving a low dimensional constrained optimization problem\n",
    "We need to solve the concave maximization problem \n",
    "$$\n",
    "    \\max_v \\sqrt{<v,Q v>} + <l,v>\n",
    "$$\n",
    "subject to the constraints\n",
    "$$\n",
    "    v \\succeq 0, \\qquad <m,v>=1.\n",
    "$$\n",
    "\n",
    "Assuming the positivity constraints are inactive at the maximizer, we obtain the optimality relation\n",
    "$$\n",
    "    \\frac {Q v}{\\sqrt{<v,Q v>}} + l = \\mu m,\n",
    "$$\n",
    "for some Lagrange multiplier $\\mu \\in R$.\n",
    "\n",
    "**Solving the problem.**\n",
    "A quadratic equation obeyed by this multiplier\n",
    "$$\n",
    "    <(\\mu m -l), Q^{-1} (\\mu m -l)> = 1.\n",
    "$$\n",
    "(Which root is to be selected ?)\n",
    "The minimizer can be obtained by \n",
    "$$\n",
    "    \\frac{v}{\\sqrt{<v,Q v >}} = Q^{-1} (\\mu m -l)\n",
    "$$"
   ]
  },
  {
   "cell_type": "markdown",
   "metadata": {},
   "source": [
    "### 3.1 First implementation"
   ]
  },
  {
   "cell_type": "code",
   "execution_count": 33,
   "metadata": {},
   "outputs": [],
   "source": [
    "def ConstrainedMaximize(Q,l,m):\n",
    "    dim = l.shape[0]\n",
    "    if dim==1:\n",
    "        return (l[0]+np.sqrt(Q[0,0]))/m[0]\n",
    "    \n",
    "    # Discard infinite values, handled afterwards\n",
    "    pos_bad = l.min(axis=0)==-np.inf\n",
    "    L = l.copy(); L[:,pos_bad]=0\n",
    "    \n",
    "    # Solve the quadratic equation\n",
    "    A = lp.inverse(Q)    \n",
    "    lAl = lp.dot_VAV(L,A,L)\n",
    "    lAm = lp.dot_VAV(L,A,m)\n",
    "    mAm = lp.dot_VAV(m,A,m)\n",
    "    \n",
    "    delta = lAm**2 - (lAl-1.)*mAm\n",
    "    pos_bad = np.logical_or(pos_bad,delta<=0)\n",
    "    delta[pos_bad] = 1.\n",
    "    \n",
    "    mu = (lAm + np.sqrt(delta))/mAm\n",
    "    \n",
    "    # Check the positivity\n",
    "#    v = dot_AV(A,mu*m-L)\n",
    "    rm_ad = np.array\n",
    "    v = lp.dot_AV(rm_ad(A),rm_ad(mu)*rm_ad(m)-rm_ad(L))\n",
    "    pos_bad = np.logical_or(pos_bad,np.any(v<0,axis=0))\n",
    "    \n",
    "    result = mu\n",
    "    result[pos_bad] = -np.inf\n",
    "    \n",
    "    # Solve the lower dimensional sub-problems\n",
    "    # We could restrict to the bad positions, and avoid repeating computations\n",
    "    for i in range(dim):             \n",
    "        axes = np.full((dim),True); axes[i]=False\n",
    "        res = ConstrainedMaximize(Q[axes][:,axes],l[axes],m[axes])\n",
    "        result = np.maximum(result,res)\n",
    "    return result"
   ]
  },
  {
   "cell_type": "code",
   "execution_count": 34,
   "metadata": {},
   "outputs": [],
   "source": [
    "def SchemeUniform(u,SB,f,bc,h):\n",
    "    # Compute the finite differences along the superbase directions\n",
    "    d2u = fd.Diff2(u,SB,h) #,padding=np.inf)\n",
    "    \n",
    "    # Generate the parameters for the low dimensional optimization problem\n",
    "    Q = 0.5*np.array([[0,1,1],[1,0,1],[1,1,0]])\n",
    "    dim = 2\n",
    "    l = -d2u/(dim * f**(1/dim))\n",
    "    m = (SB**2).sum(0)\n",
    "\n",
    "    # Evaluate the numerical scheme\n",
    "    m = as_field(m,u.shape)\n",
    "    Q = as_field(Q,m.shape[1:])\n",
    "    residue = ConstrainedMaximize(Q,l,m).max(axis=0)\n",
    "    \n",
    "    # Boundary conditions\n",
    "    return ad.where(np.isnan(bc),residue,u-bc)"
   ]
  },
  {
   "cell_type": "code",
   "execution_count": 35,
   "metadata": {},
   "outputs": [
    {
     "name": "stdout",
     "output_type": "stream",
     "text": [
      "Iteration: 1  Residue norm: 1.9461602823015034\n",
      "Iteration: 2  Residue norm: 0.31929227132988736\n",
      "Iteration: 3  Residue norm: 0.2509001683967279\n",
      "Iteration: 4  Residue norm: 0.03665041515806805\n",
      "Iteration: 5  Residue norm: 0.004386125288393883\n",
      "Iteration: 6  Residue norm: 0.00025531192261918356\n",
      "Iteration: 8  Residue norm: 1.9161117137400652e-11\n",
      "Target residue reached. Terminating.\n",
      "CPU times: user 35 s, sys: 5.2 s, total: 40.2 s\n",
      "Wall time: 10.1 s\n"
     ]
    }
   ],
   "source": [
    "%%time\n",
    "params = (SB0,f,bc,gridScale)\n",
    "solution_Uniform = newton_root(SchemeUniform,guess_quadratic,params) "
   ]
  },
  {
   "cell_type": "code",
   "execution_count": 55,
   "metadata": {},
   "outputs": [
    {
     "data": {
      "image/png": "[encoded data removed]",
      "text/plain": [
       "<Figure size 288x288 with 1 Axes>"
      ]
     },
     "metadata": {
      "needs_background": "light"
     },
     "output_type": "display_data"
    }
   ],
   "source": [
    "fig = plt.figure(figsize=(4,4)); plt.axis('equal')\n",
    "plt.title(\"det(d2 u)=1, uniformly elliptic scheme\")\n",
    "plt.contourf(X0,X1,solution_Uniform);"
   ]
  },
  {
   "cell_type": "code",
   "execution_count": 56,
   "metadata": {},
   "outputs": [],
   "source": [
    "if figSaveDir: fig.savefig(figSaveDir+'UniformScheme_rhs=1.png')"
   ]
  },
  {
   "cell_type": "markdown",
   "metadata": {},
   "source": [
    "### 3.2 Optimized implementation\n",
    "\n",
    "We optimize the uniformly elliptic scheme using the same ingredients as for the MA-LBR scheme: the envelope theorem, and dense-sparse AD composition."
   ]
  },
  {
   "cell_type": "code",
   "execution_count": 37,
   "metadata": {},
   "outputs": [],
   "source": [
    "def SchemeUniform_OptInner(u,SB,f,h,oracle=None):\n",
    "    # Use the oracle, if available, to select the active superbases only\n",
    "    if not(oracle is None):\n",
    "        SB = np.take_along_axis(SB,np.broadcast_to(oracle,SB.shape[:2]+(1,)+oracle.shape),axis=2)\n",
    "\n",
    "    d2u = fd.Diff2(u,SB,gridScale) \n",
    "    \n",
    "    # Generate the parameters for the low dimensional optimization problem\n",
    "    Q = 0.5*np.array([[0,1,1],[1,0,1],[1,1,0]])\n",
    "    dim = 2\n",
    "    l = -d2u/(dim * f**(1/dim))\n",
    "    m = (SB**2).sum(0)\n",
    "\n",
    "    \n",
    "    m = as_field(m,u.shape)\n",
    "    Q = as_field(Q,m.shape[1:])\n",
    "    \n",
    "    # Evaluate the non-linear functional using dense-sparse composition\n",
    "    result = ad.apply(ConstrainedMaximize, Q,l,m, shape_bound=u.shape)\n",
    "    \n",
    "    return ad.max_argmax(result,axis=0)\n",
    "\n",
    "def SchemeUniform_Opt(u,SB,f,bc,h):\n",
    "    \n",
    "    # Evaluate the maximum over the superbases using the envelope theorem\n",
    "    residue,_ = ad.apply(SchemeUniform_OptInner, u,as_field(SB,u.shape),f,h, envelope=True)\n",
    "    \n",
    "    return ad.where(np.isnan(bc),residue,u-bc)"
   ]
  },
  {
   "cell_type": "markdown",
   "metadata": {},
   "source": [
    "The computation time is significantly reduced with these optimizations, and we can afford to take more superbases: `SB2` instead of `SB0`."
   ]
  },
  {
   "cell_type": "code",
   "execution_count": 38,
   "metadata": {},
   "outputs": [
    {
     "name": "stdout",
     "output_type": "stream",
     "text": [
      "Iteration: 1  Residue norm: 2.2559143542433144\n",
      "Iteration: 2  Residue norm: 2.0975193309196594\n",
      "Iteration: 3  Residue norm: 0.7133878915243912\n",
      "Iteration: 4  Residue norm: 0.14772128309657473\n",
      "Iteration: 5  Residue norm: 0.02605962058480138\n",
      "Iteration: 6  Residue norm: 0.002384728731976349\n",
      "Iteration: 8  Residue norm: 5.699573701889449e-09\n",
      "Target residue reached. Terminating.\n",
      "CPU times: user 14.1 s, sys: 959 ms, total: 15 s\n",
      "Wall time: 3.82 s\n"
     ]
    }
   ],
   "source": [
    "%%time\n",
    "params = (SB2,f,bc,gridScale)\n",
    "solution_Uniform = newton_root(SchemeUniform_Opt,guess_quadratic,params) "
   ]
  },
  {
   "cell_type": "markdown",
   "metadata": {},
   "source": [
    "### 3.3 Validation \n",
    "\n",
    "The scheme described above is based on a discretization of the PDE formulation\n",
    "$$\n",
    "    0 = \\max_D \\det(D)^\\frac 1 d - \\alpha(x) {\\rm tr} (D \\nabla ^2 u(x))\n",
    "$$\n",
    "followed with an exact solution subject to the constraints\n",
    "$$\n",
    "    D \\succeq 0, \\qquad {\\rm tr} (D) = 1,\n",
    "$$\n",
    "and the additional constraint that some superbase $s \\in SB$ is obtuse. Denote by $F_{SB}$ this scheme.\n",
    "\n",
    "**Sampling based scheme**\n",
    "For validation purposes, it can be interesting to consider a brute-force approach to the same optimization problem, based on a sampling of the parameter space. Namely\n",
    "$$\n",
    "    D(\\mu,\\theta) := R_\\theta \n",
    "    \\begin{pmatrix} \\mu & 0 \\\\ 0 & 1-\\mu \\end{pmatrix}\n",
    "    R_\\theta^T\n",
    "$$\n",
    "where $\\mu\\in M_n \\subset [0,1/2]$ and $\\theta\\in \\Theta_n [0,\\pi]$. Here $A_n$ and $\\Theta_n$ are $n$-element regular sampling of their respective containing intervals. \n",
    "\n",
    "Let us denote by $F^n$ this second scheme, and by $F^n_{SB}$ the same similar scheme where one only keeps matrices $D(\\mu,\\theta)$ for which some superbase $s \\in SB$ is obtuse.\n",
    "\n",
    "**Convergence**\n",
    "By construction, one should have as $n \\to \\infty$, for any discrete map $u$ and set of superbases $SB$\n",
    "$$\n",
    "    F_{SB}^n(u) = F_{SB}(u) + O(n^{-1}).\n",
    "$$\n",
    "Note that the test function $u$, and the set of superbases are here fixed.\n",
    "\n",
    "**Similar work** A similar approach is implemented in the notebook linked below. In that case, the order of convergence is $O(n^{-2})$, instead of $O(n^{-1})$. (The difference is related with the sampling of the boundary of the optimization domain.)"
   ]
  },
  {
   "cell_type": "code",
   "execution_count": 39,
   "metadata": {},
   "outputs": [
    {
     "data": {
      "text/markdown": [
       "Notebook [NonlinearMonotoneSecond2D](../Notebooks_NonDiv/NonlinearMonotoneSecond2D.ipynb) , from volume NonDiv [Summary](../Notebooks_NonDiv/Summary.ipynb) "
      ],
      "text/plain": [
       "<IPython.core.display.Markdown object>"
      ]
     },
     "metadata": {},
     "output_type": "display_data"
    }
   ],
   "source": [
    "TocTools.MakeLink(\"NonlinearMonotoneSecond2D\",'NonDiv')"
   ]
  },
  {
   "cell_type": "code",
   "execution_count": 40,
   "metadata": {},
   "outputs": [],
   "source": [
    "def SchemeSampling(u,mus,thetas,SB,f,bc,h):\n",
    "    # Sampling is independent for mu and theta\n",
    "    mus=np.expand_dims(mus,axis=0)\n",
    "    thetas=np.expand_dims(thetas,axis=1)\n",
    "\n",
    "    # Build the tensors\n",
    "    e=np.array(((np.cos(thetas),np.sin(thetas)),(-np.sin(thetas),np.cos(thetas))) )\n",
    "    D = mus*lp.outer_self(e[0])+(1.-mus)*lp.outer_self(e[1])\n",
    "    \n",
    "    # Select the tensors for which one of the superbases is obtuse\n",
    "    # This step is only needed if one intends to reproduce the consistent schem\n",
    "    if D is not None:\n",
    "        nD = np.prod(D.shape[2:]); D=D.reshape((2,2,1,1,nD))\n",
    "        nSB=SB.shape[2]; SB=SB.reshape((2,3,nSB,1))\n",
    "        scals = lp.dot_VAV(SB,D,np.roll(SB,axis=1,shift=1))\n",
    "        # Test if a given superbase is obtuse for a given tensor\n",
    "        is_obtuse = scals.max(axis=0)<=0 \n",
    "        # Test if a given tensor admits an obtuse superbase among the proposed ones\n",
    "        is_admissible = is_obtuse.any(axis=0)\n",
    "        D=D.squeeze(axis=(2,3))\n",
    "        D=D[:,:,is_admissible]\n",
    "    \n",
    "\n",
    "    # Decompose the tensors\n",
    "    coefs,offsets = Selling.Decomposition(D)\n",
    "    coefs = fd.as_field(coefs,u.shape)\n",
    "    \n",
    "    # Discretization\n",
    "    d=2.\n",
    "    alpha = 1./(d*f**(1./d))\n",
    "    d2u = fd.Diff2(u,offsets,h)    \n",
    "    detD = fd.as_field(lp.det(D),u.shape)\n",
    "    res = detD**(1./d)-alpha*(coefs*d2u).sum(axis=0)\n",
    "    # Note : optimization opportunity using the envelope theorem\n",
    "    residue = res.max(axis=0) \n",
    "    return ad.where(np.isnan(bc),residue,u-bc)"
   ]
  },
  {
   "cell_type": "code",
   "execution_count": 41,
   "metadata": {},
   "outputs": [],
   "source": [
    "np.random.seed(42)\n",
    "u = np.random.uniform(-1,1,guess.shape)\n",
    "params = (SB0,f,bc,1.)\n",
    "\n",
    "residue_consistent = SchemeUniform(u,*params)\n",
    "\n",
    "def error(n): \n",
    "    mus=np.linspace(0,0.5,n,endpoint=False)+0.25/n\n",
    "    thetas=np.linspace(0,np.pi,n,endpoint=False)\n",
    "    residue_sampling = SchemeSampling(u,mus,thetas,*params)\n",
    "\n",
    "    LInfNorm=ad.Optimization.norm_infinity\n",
    "    residue_diff = residue_sampling-residue_consistent\n",
    "    return LInfNorm(residue_sampling-residue_consistent)"
   ]
  },
  {
   "cell_type": "code",
   "execution_count": 42,
   "metadata": {},
   "outputs": [],
   "source": [
    "samples = [5,8,12,16,20,25,30,35,40] #,50,60,70,80,100]\n",
    "errors = [error(n) for n in samples]"
   ]
  },
  {
   "cell_type": "markdown",
   "metadata": {},
   "source": [
    "The sampling based scheme does converge toward the consistent scheme, with the expected convergence order $O(n^{-1})$."
   ]
  },
  {
   "cell_type": "code",
   "execution_count": 43,
   "metadata": {},
   "outputs": [
    {
     "data": {
      "image/png": "[encoded data removed]",
      "text/plain": [
       "<Figure size 432x288 with 1 Axes>"
      ]
     },
     "metadata": {
      "needs_background": "light"
     },
     "output_type": "display_data"
    }
   ],
   "source": [
    "isamples=1./np.array(samples); plt.title(\"Convergence of the sampling based scheme toward the consistent scheme\")\n",
    "plt.loglog(isamples,errors, isamples,isamples);"
   ]
  },
  {
   "cell_type": "code",
   "execution_count": null,
   "metadata": {},
   "outputs": [],
   "source": []
  }
 ],
 "metadata": {
  "kernelspec": {
   "display_name": "Python 3",
   "language": "python",
   "name": "python3"
  },
  "language_info": {
   "codemirror_mode": {
    "name": "ipython",
    "version": 3
   },
   "file_extension": ".py",
   "mimetype": "text/x-python",
   "name": "python",
   "nbconvert_exporter": "python",
   "pygments_lexer": "ipython3",
   "version": "3.7.3"
  }
 },
 "nbformat": 4,
 "nbformat_minor": 2
}
