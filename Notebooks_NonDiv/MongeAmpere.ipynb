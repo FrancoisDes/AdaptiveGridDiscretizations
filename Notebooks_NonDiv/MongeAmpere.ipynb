{
 "cells": [
  {
   "cell_type": "markdown",
   "metadata": {},
   "source": [
    "# Adaptive PDE discretizations on cartesian grids\n",
    "## Volume : Non-divergence form PDEs\n",
    "## Part : Optimal transport\n",
    "## Chapter : The Monge-Ampere equation\n",
    "\n",
    "This notebook presents a series of methods for numerically solving the Monge-Ampere equation\n",
    "$$\n",
    "    f(x) - \\det(\\nabla^2 u(x)) = 0,\n",
    "$$\n",
    "among convex functions, with Dirichlet boundary conditions. \n",
    "The function $f$ is assumed to be strictly positive.\n",
    "For that purpose, we rely on the monotone and consistent MA-LBR numerical scheme (Monge-Ampere using Lattice Basis Reduction), and some variants.\n",
    "\n",
    "**References.**\n",
    "\n",
    "The MA-LBR scheme was first introduced in:\n",
    "* Benamou, J.-D., Collino, F., & Mirebeau, J.-M. (2016). Monotone and Consistent discretization of the Monge-Ampere operator. Mathematics of Computation, 85(302), 2743–2775."
   ]
  },
  {
   "cell_type": "markdown",
   "metadata": {},
   "source": [
    "**Reformulation as an extremal operator.**\n",
    "The starting point of these methods is to observe that, for a positive definite $d \\times d$ matrix $M$\n",
    "$$\n",
    "    d ({\\rm det} M)^\\frac 1 d = \\inf_{{\\rm det} D = 1} {\\rm tr}(D M),\n",
    "$$\n",
    "where, implicitly, the optimization variable $D$ is also assumed to be a symmetric positive definite matrix.\n",
    "\n",
    "If $M = \\nabla^2 u$ is a hessian matrix, then the l.h.s. is (a multiple of a power of) the Monge-Ampere operator, while the r.h.s. is an infimum of second order linear operators, which can be discretized using monotone finite differences.\n",
    "\n",
    "**Discretization strategy**\n",
    "The chosen finite difference scheme for the linear operator is described in \n",
    "[I Tensor decomposition, dimensions 2 and 3](http://nbviewer.jupyter.org/urls/rawgithub.com/Mirebeau/AdaptiveGridDiscretizations/master/Notebooks/TensorSelling.ipynb)\n",
    "Since \n"
   ]
  },
  {
   "cell_type": "markdown",
   "metadata": {},
   "source": [
    "[**Summary**](Summary.ipynb) of volume Non-Divergence form PDEs, this series of notebooks.\n",
    "\n",
    "[**Main summary**](../Summary.ipynb) of the Adaptive Grid Discretizations \n",
    "\tbook of notebooks, including the other volumes.\n",
    "\n",
    "# Table of contents\n",
    "  * [1. Naive non-monotone discretization (purposedly fails)](#1.-Naive-non-monotone-discretization-(purposedly-fails))\n",
    "  * [2. The MA-LBR scheme](#2.-The-MA-LBR-scheme)\n",
    "    * [2.1 First implementation](#2.1-First-implementation)\n",
    "    * [2.2 Optimized implementation](#2.2-Optimized-implementation)\n",
    "  * [3. Uniformly elliptic scheme](#3.-Uniformly-elliptic-scheme)\n",
    "    * [3.1 First implementation](#3.1-First-implementation)\n",
    "    * [3.2 Optimized implementation](#3.2-Optimized-implementation)\n",
    "  * [4. Validation](#4.-Validation)\n",
    "    * [4.1 Comparison with a sampling based scheme](#4.1-Comparison-with-a-sampling-based-scheme)\n",
    "    * [4.2 The monotone and consistent schemes have identical solutions](#4.2-The-monotone-and-consistent-schemes-have-identical-solutions)\n",
    "    * [4.3 Comparison with automatic differentiation](#4.3-Comparison-with-automatic-differentiation)\n",
    "\n",
    "\n",
    "\n",
    "**Acknowledgement.** The experiments presented in these notebooks are part of ongoing research, \n",
    "some of it with PhD student Guillaume Bonnet, in co-direction with Frederic Bonnans.\n",
    "\n",
    "Copyright Jean-Marie Mirebeau, University Paris-Sud, CNRS, University Paris-Saclay"
   ]
  },
  {
   "cell_type": "markdown",
   "metadata": {},
   "source": [
    "## 0. Importing the required libraries"
   ]
  },
  {
   "cell_type": "code",
   "execution_count": 2,
   "metadata": {},
   "outputs": [],
   "source": [
    "import sys; sys.path.append(\"..\") # Allow imports from parent directory\n",
    "#from Miscellaneous import TocTools; print(TocTools.displayTOC('MongeAmpere','NonDiv'))"
   ]
  },
  {
   "cell_type": "code",
   "execution_count": 2,
   "metadata": {
    "tags": [
     "ExportCode"
    ]
   },
   "outputs": [],
   "source": [
    "from NumericalSchemes import Selling\n",
    "from NumericalSchemes import Domain\n",
    "from NumericalSchemes import LinearParallel as lp\n",
    "from NumericalSchemes import AutomaticDifferentiation as ad"
   ]
  },
  {
   "cell_type": "code",
   "execution_count": 3,
   "metadata": {
    "tags": [
     "ExportCode"
    ]
   },
   "outputs": [],
   "source": [
    "import numpy as np\n",
    "from matplotlib import pyplot as plt"
   ]
  },
  {
   "cell_type": "markdown",
   "metadata": {},
   "source": [
    "Some utility functions"
   ]
  },
  {
   "cell_type": "code",
   "execution_count": 4,
   "metadata": {
    "tags": [
     "ExportCode"
    ]
   },
   "outputs": [],
   "source": [
    "newton_root = ad.Optimization.newton_root\n",
    "stop    = ad.Optimization.stop_default\n",
    "damping = ad.Optimization.damping_default \n",
    "norm = ad.Optimization.norm"
   ]
  },
  {
   "cell_type": "code",
   "execution_count": 5,
   "metadata": {},
   "outputs": [],
   "source": [
    "def reload_packages():\n",
    "    import importlib\n",
    "    Selling = importlib.reload(sys.modules['NumericalSchemes.Selling'])\n",
    "    Domain = importlib.reload(sys.modules['NumericalSchemes.Domain'])\n",
    "    lp = importlib.reload(sys.modules['NumericalSchemes.LinearParallel'])\n",
    "    ad = importlib.reload(sys.modules['NumericalSchemes.AutomaticDifferentiation'])\n",
    "    ad.reload_submodules()"
   ]
  },
  {
   "cell_type": "code",
   "execution_count": 6,
   "metadata": {},
   "outputs": [],
   "source": [
    "figSaveDir = None #\"Figures/MongeAmpere/\""
   ]
  },
  {
   "cell_type": "markdown",
   "metadata": {},
   "source": [
    "## 1. Naive non-monotone discretization (purposedly fails)\n",
    "\n",
    "We present a naive, non-monotone discretization of the addressed problem. This scheme can be used to check that a numerical solution (produced by other means) is correct, or to construct synthetic examples. However, using it to solve the PDE is usually bound to fail. \n",
    "\n",
    "The naive scheme is based on a reconstruction of the Hessian matrix of the form\n",
    "$$\n",
    "    \\begin{pmatrix}\n",
    "        D^h_{00} u(x) & D^h_{01} u(x)\\\\\n",
    "        D^h_{01} u(x) & D^h_{11} u(x)\n",
    "    \\end{pmatrix},\n",
    "$$\n",
    "where $D_{00}$, $D_{01}$ and $D_{11}$ are finite-difference operators. Namely\n",
    "$$\n",
    "    D^h_{00} u(x) := \\frac{u(x_0+h,x_1)-2 u(x_0,x_1) + u(x_0-h,x_1)}{h^2},\n",
    "$$\n",
    "likewise for $D^h_{11} u(x)$, and finally\n",
    "$$\n",
    "    D^h_{01} u(x) := \\frac{u(x_0+h,x_1+h)-u(x_0-h,x_1+h)-u(x_0+h,x_1-h)+h(x_0-h,x_1-h)}{4 h^2}.\n",
    "$$"
   ]
  },
  {
   "cell_type": "code",
   "execution_count": 7,
   "metadata": {
    "tags": [
     "ExportCode"
    ]
   },
   "outputs": [],
   "source": [
    "def SchemeNonMonotone(u,f,bc):\n",
    "    # Compute the hessian matrix of u\n",
    "    uxx = bc.Diff2(u,(1,0))\n",
    "    uyy = bc.Diff2(u,(0,1))\n",
    "    uxy = 0.25*(bc.Diff2(u,(1,1)) - bc.Diff2(u,(1,-1)))\n",
    "    \n",
    "    # Numerical scheme\n",
    "    det = uxx*uyy-uxy**2\n",
    "    residue = f - det\n",
    "    \n",
    "    # Boundary conditions\n",
    "    return ad.where(bc.interior,residue,u-bc.grid_values)"
   ]
  },
  {
   "cell_type": "markdown",
   "metadata": {},
   "source": [
    "We next choose some problem parameters"
   ]
  },
  {
   "cell_type": "code",
   "execution_count": 8,
   "metadata": {},
   "outputs": [],
   "source": [
    "# Create the domain\n",
    "aX0 = np.linspace(-1,1,100); aX1=aX0;\n",
    "X = np.array(np.meshgrid(aX0,aX1,indexing='ij'))\n",
    "\n",
    "# Set the boundary conditions \n",
    "gridscale = aX0[1]-aX0[0]\n",
    "bc_square = Domain.Dirichlet(Domain.Box([[-1,1],[-1,1]]),0.,X)\n",
    "bc_convex = Domain.Dirichlet(Domain.Union((Domain.Ball(),Domain.Box())), 0., X)\n",
    "bc_concave = Domain.Dirichlet(Domain.Complement(Domain.Ball(),Domain.Box()), 0., X)\n",
    "\n",
    "# Choose the PDE parameters\n",
    "f=1."
   ]
  },
  {
   "cell_type": "markdown",
   "metadata": {},
   "source": [
    "The following quadratic function, often shifted by a constant value, will be used as a guess for the numerical methods."
   ]
  },
  {
   "cell_type": "code",
   "execution_count": 9,
   "metadata": {},
   "outputs": [],
   "source": [
    "quadratic = X[0]**2+X[1]**2"
   ]
  },
  {
   "cell_type": "markdown",
   "metadata": {},
   "source": [
    "The naive and non-monotone discretization scheme is consistent, but lacks any other sort of theoretical guarantees. \n",
    "\n",
    "**In general, attempts to solve numerically the non-monotone scheme will fail. This is expected behavior**\n",
    "\n",
    "The non-monotone scheme may nevertheless work for some specific gentle problem instances (with a smooth solution), a careful initialization, and a bit of luck. This is the case below.\n",
    "\n",
    "<!---This is the case below, where we solve the same problem as above, but with a different handling of the boundary conditions: they are imposed implicitly by the padding values used in the finite differences.--->"
   ]
  },
  {
   "cell_type": "code",
   "execution_count": 10,
   "metadata": {},
   "outputs": [
    {
     "name": "stdout",
     "output_type": "stream",
     "text": [
      "Iteration: 1  Residue norm: 1225.4294894654133\n",
      "Iteration: 2  Residue norm: 306.0919194323183\n",
      "Iteration: 3  Residue norm: 76.26003650874995\n",
      "Iteration: 4  Residue norm: 18.809123287336305\n",
      "Iteration: 5  Residue norm: 4.457432515643999\n",
      "Iteration: 6  Residue norm: 0.9079346172675689\n",
      "Iteration: 8  Residue norm: 0.002566380867047968\n",
      "Iteration: 10  Residue norm: 2.4522606167920458e-12\n",
      "Target residue reached. Terminating.\n"
     ]
    },
    {
     "data": {
      "image/png": "[encoded data removed]",
      "text/plain": [
       "<Figure size 432x288 with 1 Axes>"
      ]
     },
     "metadata": {
      "needs_background": "light"
     },
     "output_type": "display_data"
    }
   ],
   "source": [
    "params = (f,bc_square)\n",
    "solution_non_monotone = newton_root(SchemeNonMonotone,quadratic-2,params) \n",
    "\n",
    "plt.axis('equal'); plt.title(\"Solution to 1-det(d^2 u)=0, with u=0 on bd\")\n",
    "plt.contourf(*X,solution_non_monotone);"
   ]
  },
  {
   "cell_type": "markdown",
   "metadata": {},
   "source": [
    "However, the non-monotone scheme fails even on a simple convex domain."
   ]
  },
  {
   "cell_type": "code",
   "execution_count": 11,
   "metadata": {},
   "outputs": [
    {
     "name": "stdout",
     "output_type": "stream",
     "text": [
      "Iteration: 1  Residue norm: 2248930.68557337\n",
      "Iteration: 2  Residue norm: 835538.8567515145\n",
      "Iteration: 3  Residue norm: 208871.1066733644\n",
      "Iteration: 4  Residue norm: 52209.443003330256\n",
      "Iteration: 5  Residue norm: 11178846.58747576\n",
      "Iteration: 6  Residue norm: 3025743.428703135\n",
      "Iteration: 8  Residue norm: 2055892.3846235792\n",
      "Iteration: 10  Residue norm: 128453.5750044985\n",
      "Iteration: 12  Residue norm: 84225.35166409618\n",
      "Iteration: 14  Residue norm: 35394577.90229907\n",
      "Iteration: 16  Residue norm: 2527625.104945321\n",
      "Iteration: 20  Residue norm: 168900150.49461734\n",
      "Iteration: 24  Residue norm: 135332026.51906884\n",
      "Iteration: 28  Residue norm: 528635.0369884853\n",
      "Iteration: 32  Residue norm: 1904413110.8333597\n",
      "Iteration: 36  Residue norm: 283357749.9265231\n",
      "Iteration: 40  Residue norm: 1106849.7320526147\n",
      "Iteration: 44  Residue norm: 28266.65745730624\n",
      "Iteration: 48  Residue norm: 35555.02694419301\n",
      "Iteration: 50  Residue norm: 33178676.9433007\n",
      "Max iterations exceeded. Aborting.\n"
     ]
    },
    {
     "data": {
      "text/plain": [
       "array([[ 0.        ,  0.        ,  0.        , ...,  0.        ,\n",
       "         0.        ,  0.        ],\n",
       "       [ 0.        ,  0.        ,  0.        , ...,  0.        ,\n",
       "         0.        ,  0.        ],\n",
       "       [ 0.        ,  0.        ,  0.        , ...,  0.        ,\n",
       "         0.        ,  0.        ],\n",
       "       ...,\n",
       "       [ 0.        ,  0.        ,  0.        , ..., -0.00144765,\n",
       "        -0.00052323,  0.        ],\n",
       "       [ 0.        ,  0.        ,  0.        , ..., -0.00081048,\n",
       "        -0.00026429,  0.        ],\n",
       "       [ 0.        ,  0.        ,  0.        , ...,  0.        ,\n",
       "         0.        ,  0.        ]])"
      ]
     },
     "execution_count": 11,
     "metadata": {},
     "output_type": "execute_result"
    }
   ],
   "source": [
    "params = (f,bc_convex)\n",
    "newton_root(SchemeNonMonotone,quadratic-2,params,\n",
    "            stop = ad.Optimization.stop_default(raise_on_abort=False));"
   ]
  },
  {
   "cell_type": "markdown",
   "metadata": {},
   "source": [
    "## 2. The MA-LBR scheme\n",
    "\n",
    "The MA-LBR scheme is a monotone and consistent discretization of the Monge-Ampere operator. It takes the form:\n",
    "$$\n",
    "    \\Lambda u(x) := \\inf_{(e_0,e_1,e_2) \\in S} H( \\Delta_{e_0}^h u(x), \\Delta_{e_1}^h u(x), \\Delta_{e_2}^h u(x)).\n",
    "$$\n",
    "We denoted by $S$ a family of superbases of $Z^2$, which is a parameter to the scheme that must be chosen, see below. \n",
    "Superbases are triplets $(e_0,e_1,e_2)$ of vectors $e_0,e_1,e_2 \\in Z^2$ with integer coordinates.\n",
    "\n",
    "We denoted second order finite differences, in a direction $e\\in Z^2$ by \n",
    "$$\n",
    "    \\Delta_e^h u(x) := \\frac{u(x+h e) -2 u(x) +u(x+he)} {h^2}.\n",
    "$$\n",
    "The scheme also features a three argument function $H$, defined as follows: $H(a,b,c) := H_0(a_+,b_+,c_+)$, where \n",
    "$$\n",
    "    H_0(a,b,c) :=\n",
    "    \\begin{cases}\n",
    "        a b \\quad \\text{ if }\\ a+b < c, \\text{ and likewise permuting } a,b,c\\\\\n",
    "        \\frac 1 2 (a b+b c+c a) - \\frac 1 4 (a^2+b^2+c^2)\\quad \\text{ otherwise}.\n",
    "    \\end{cases}\n",
    "$$\n",
    "\n",
    "\n",
    "**Convexity of the solution, and ellipticity of the PDE and numerical scheme.**\n",
    "\n",
    "The Monge-Ampere equation imposes, as a constraint, that the solution $u$ be convex. The ellipticity of the Monge-Ampere operator degenerates as $\\det(\\nabla^2 u) \\to 0$, which means that $u$ looses convexity.\n",
    "\n",
    "A similar issue arises with the MA-LBR scheme. It is strictly elliptic only as long as \n",
    "$$\n",
    "    \\Lambda u(x) > 0,\n",
    "$$\n",
    "which is a discrete counterpart of convexity. \n",
    "\n",
    "**Damping of the Newton method.**\n",
    "We need to guarantee that, along the iterations, the numerical scheme ellipticity is preserved. \n",
    "A first requirement for this is to choose a strictly convex initialization, for instance the quadratic function $u(x) = \\|x\\|^2/2$.\n",
    "\n",
    "For this reason, we also resort to a damped Newton method. The default behavior is to define\n",
    "$$\n",
    "    u_{n+1} = u_n + 2^{-k_n} d_n,\n",
    "$$\n",
    "where $d_n$ is the Newton descent direction, and $k_n$ is the least integer such that \n",
    "$$\n",
    "    \\Lambda u_{n+1}(x) \\geq f(x)/2,\n",
    "$$\n",
    "at all discretization points $x$.\n",
    "(Recall that the r.h.s $f$ is assumed to be strictly positive.)\n",
    "\n",
    "We assume, for simplicity, that this condition holds at initialization. Otherwise a threshold lower than $f/2$ could be used.\n",
    "\n",
    "*Note that a different scheme, presented in the next section of this notebook, is uniformly elliptic (independently of the unknown $u$), and thus does not require the precautions presented in the latter paragraph.*"
   ]
  },
  {
   "cell_type": "markdown",
   "metadata": {},
   "source": [
    "### 2.1 First implementation"
   ]
  },
  {
   "cell_type": "code",
   "execution_count": 12,
   "metadata": {
    "tags": [
     "ExportCode"
    ]
   },
   "outputs": [],
   "source": [
    "def MALBR_H(d2u):\n",
    "    a,b,c = ad.sort(np.maximum(0.,d2u), axis=0)\n",
    "\n",
    "    # General formula, handling infinite values separately\n",
    "    A,B,C = (ad.where(e==np.inf,0.,e) for e in (a,b,c))\n",
    "    result = 0.5*(A*B+B*C+C*A)-0.25*(A**2+B**2+C**2)\n",
    "    \n",
    "    pos_inf = np.logical_or.reduce(d2u==np.inf)    \n",
    "    result[pos_inf]=np.inf\n",
    "    \n",
    "    pos_ineq = a+b<c\n",
    "    result[pos_ineq] = (A*B)[pos_ineq]\n",
    "        \n",
    "    return result\n",
    "    \n",
    "def SchemeMALBR(u,SB,f,bc):\n",
    "    # Compute the finite differences along the superbase directions\n",
    "    d2u = bc.Diff2(u,SB)\n",
    "    d2u[...,bc.not_interior] = 0. # Replace NaNs with arbitrary values to silence warnings\n",
    "    \n",
    "    # Numerical scheme\n",
    "    residue = f-MALBR_H(d2u).min(axis=0)\n",
    "    \n",
    "    # Boundary conditions\n",
    "    return ad.where(bc.interior,residue,u-bc.grid_values)"
   ]
  },
  {
   "cell_type": "markdown",
   "metadata": {},
   "source": [
    "We next implement the test used to select the damping parameter, as announced. "
   ]
  },
  {
   "cell_type": "code",
   "execution_count": 13,
   "metadata": {
    "tags": [
     "ExportCode"
    ]
   },
   "outputs": [],
   "source": [
    "def InvalidMALBR(u,SB,f,bc):\n",
    "    residue = SchemeMALBR(u,SB,f,bc)\n",
    "    return np.any(residue[bc.interior]>=f/2)"
   ]
  },
  {
   "cell_type": "markdown",
   "metadata": {},
   "source": [
    "We next choose a family of superbases. The scheme is (second order) consistent while the condition number of the hessian of $u$ remains below the given bound. Beyond that, a consistency defect is introduced."
   ]
  },
  {
   "cell_type": "code",
   "execution_count": 14,
   "metadata": {},
   "outputs": [],
   "source": [
    "SB0 = Selling.SuperbasesForConditioning(5)\n",
    "SB1 = Selling.SuperbasesForConditioning(15)\n",
    "SB2 = Selling.SuperbasesForConditioning(30)"
   ]
  },
  {
   "cell_type": "code",
   "execution_count": 182,
   "metadata": {},
   "outputs": [
    {
     "data": {
      "image/png": "[encoded data removed]",
      "text/plain": [
       "<Figure size 864x288 with 3 Axes>"
      ]
     },
     "metadata": {
      "needs_background": "light"
     },
     "output_type": "display_data"
    }
   ],
   "source": [
    "#Stencil of the MA-LBR scheme, for bounds (5,15,30) on conditioning'\n",
    "def stencil(SB): return np.stack((SB,-SB),axis=2)[:,:]\n",
    "plt.figure(figsize=[12,4]);\n",
    "plt.subplot(1,3,1);plt.scatter(*stencil(SB0)); plt.title(\"Stencil SB0, conditioning <= 5\"); plt.axis('equal');\n",
    "plt.subplot(1,3,2);plt.scatter(*stencil(SB1)); plt.title(\"Stencil SB1, conditioning <= 15\"); plt.axis('equal');\n",
    "plt.subplot(1,3,3);plt.scatter(*stencil(SB2)); plt.title(\"Stencil SB2, conditioning <= 30\"); plt.axis('equal');"
   ]
  },
  {
   "cell_type": "code",
   "execution_count": 16,
   "metadata": {},
   "outputs": [],
   "source": [
    "#bc2_grid_values = np.zeros(bc.shape); bc2_grid_values[1:-1,1:-1]=np.nan\n",
    "#bc2 = Domain.MockDirichlet(bc2_grid_values,gridscale,padding=np.inf)"
   ]
  },
  {
   "cell_type": "markdown",
   "metadata": {},
   "source": [
    "The initial guess is chosen to be in the ellipticity domain of the operator."
   ]
  },
  {
   "cell_type": "code",
   "execution_count": 17,
   "metadata": {},
   "outputs": [
    {
     "data": {
      "text/plain": [
       "False"
      ]
     },
     "execution_count": 17,
     "metadata": {},
     "output_type": "execute_result"
    }
   ],
   "source": [
    "InvalidMALBR(quadratic-2.,SB0,f,bc_convex)"
   ]
  },
  {
   "cell_type": "code",
   "execution_count": 18,
   "metadata": {},
   "outputs": [
    {
     "name": "stdout",
     "output_type": "stream",
     "text": [
      "Iteration: 1  Residue norm: 2653538.1251855316\n",
      "Iteration: 2  Residue norm: 1492615.1329154281\n",
      "Iteration: 3  Residue norm: 1142783.4455132973\n",
      "Iteration: 4  Residue norm: 874943.5598453886\n",
      "Iteration: 5  Residue norm: 669878.6473794987\n",
      "Iteration: 6  Residue norm: 512875.82377066754\n",
      "Iteration: 8  Residue norm: 162277.01845434026\n",
      "Iteration: 10  Residue norm: 10142.001152535076\n",
      "Iteration: 12  Residue norm: 1426.0157807545588\n",
      "Iteration: 14  Residue norm: 835.8766663110767\n",
      "Iteration: 16  Residue norm: 359.91081163056964\n",
      "Iteration: 20  Residue norm: 76.52689110514798\n",
      "Iteration: 24  Residue norm: 2.6047952012999795\n",
      "Iteration: 28  Residue norm: 1.020487250258384e-09\n",
      "Target residue reached. Terminating.\n",
      "CPU times: user 34.4 s, sys: 3.02 s, total: 37.5 s\n",
      "Wall time: 9.45 s\n"
     ]
    }
   ],
   "source": [
    "%%time\n",
    "# This damping rule cuts the step size in half until the MALBR validity criterion is met\n",
    "dampingMALBR = damping(criterion=InvalidMALBR)\n",
    "\n",
    "params = (SB0,f,bc_convex)\n",
    "solution_MALBR = newton_root(SchemeMALBR,quadratic-2.,params,damping=dampingMALBR)"
   ]
  },
  {
   "cell_type": "markdown",
   "metadata": {},
   "source": [
    "The last Newton steps, close to the solution, equal one. In contrast, a stong damping is applied in some of the first. "
   ]
  },
  {
   "cell_type": "code",
   "execution_count": 19,
   "metadata": {},
   "outputs": [
    {
     "data": {
      "text/plain": [
       "array([0.5  , 0.5  , 0.25 , 0.25 , 0.25 , 0.25 , 0.5  , 0.5  , 1.   ,\n",
       "       1.   , 1.   , 0.5  , 0.25 , 0.25 , 0.25 , 0.5  , 0.125, 0.25 ,\n",
       "       0.5  , 0.5  , 0.5  , 0.5  , 0.5  , 1.   , 1.   , 1.   , 1.   ,\n",
       "       1.   ])"
      ]
     },
     "execution_count": 19,
     "metadata": {},
     "output_type": "execute_result"
    }
   ],
   "source": [
    "np.array(dampingMALBR.steps)"
   ]
  },
  {
   "cell_type": "code",
   "execution_count": 20,
   "metadata": {},
   "outputs": [
    {
     "data": {
      "image/png": "[encoded data removed]",
      "text/plain": [
       "<Figure size 432x288 with 1 Axes>"
      ]
     },
     "metadata": {
      "needs_background": "light"
     },
     "output_type": "display_data"
    }
   ],
   "source": [
    "plt.axis('equal'); plt.title(\"MALBR solution to det(d2 u)=1\")\n",
    "plt.contourf(*X,solution_MALBR);"
   ]
  },
  {
   "cell_type": "markdown",
   "metadata": {},
   "source": [
    "The method also works for the square domain."
   ]
  },
  {
   "cell_type": "code",
   "execution_count": 21,
   "metadata": {},
   "outputs": [
    {
     "name": "stdout",
     "output_type": "stream",
     "text": [
      "Iteration: 1  Residue norm: 2757.303780227434\n",
      "Iteration: 2  Residue norm: 1550.9088719682768\n",
      "Iteration: 3  Residue norm: 1187.395804288215\n",
      "Iteration: 4  Residue norm: 909.0813228879124\n",
      "Iteration: 5  Residue norm: 695.9969226543908\n",
      "Iteration: 6  Residue norm: 532.8542052996927\n",
      "Iteration: 8  Residue norm: 168.48077525275585\n",
      "Iteration: 10  Residue norm: 10.09917542054336\n",
      "Iteration: 12  Residue norm: 0.34715953318112724\n",
      "Iteration: 14  Residue norm: 0.00010333129620221371\n",
      "Iteration: 15  Residue norm: 2.6176678602496395e-09\n",
      "Target residue reached. Terminating.\n",
      "CPU times: user 18.8 s, sys: 1.76 s, total: 20.6 s\n",
      "Wall time: 5.24 s\n"
     ]
    },
    {
     "data": {
      "image/png": "[encoded data removed]",
      "text/plain": [
       "<Figure size 432x288 with 1 Axes>"
      ]
     },
     "metadata": {
      "needs_background": "light"
     },
     "output_type": "display_data"
    }
   ],
   "source": [
    "%%time\n",
    "params = (SB0,f,bc_square)\n",
    "solution_MALBR = newton_root(SchemeMALBR,quadratic-2.,params,damping=dampingMALBR)\n",
    "\n",
    "plt.axis('equal'); plt.title(\"MALBR solution to det(d2 u)=1\")\n",
    "plt.contourf(*X,solution_MALBR);"
   ]
  },
  {
   "cell_type": "markdown",
   "metadata": {},
   "source": [
    "And with the non-convex domain."
   ]
  },
  {
   "cell_type": "code",
   "execution_count": 22,
   "metadata": {},
   "outputs": [
    {
     "name": "stdout",
     "output_type": "stream",
     "text": [
      "Iteration: 1  Residue norm: 1179350.0556284206\n",
      "Iteration: 2  Residue norm: 902939.8707116165\n",
      "Iteration: 3  Residue norm: 691313.3228837634\n",
      "Iteration: 4  Residue norm: 388863.6815995881\n",
      "Iteration: 5  Residue norm: 218735.7583724516\n",
      "Iteration: 6  Residue norm: 54683.689474750274\n",
      "Iteration: 8  Residue norm: 3417.4180175538427\n",
      "Iteration: 10  Residue norm: 1081.1948045851855\n",
      "Iteration: 12  Residue norm: 633.7489748133308\n",
      "Iteration: 14  Residue norm: 272.86948080544767\n",
      "Iteration: 16  Residue norm: 159.9235439869186\n",
      "Iteration: 20  Residue norm: 6.335453774746195\n",
      "Iteration: 24  Residue norm: 9.313143518596689e-07\n",
      "Iteration: 25  Residue norm: 1.3201884030422661e-10\n",
      "Target residue reached. Terminating.\n",
      "CPU times: user 25.5 s, sys: 2.21 s, total: 27.8 s\n",
      "Wall time: 7 s\n"
     ]
    },
    {
     "data": {
      "image/png": "[encoded data removed]",
      "text/plain": [
       "<Figure size 432x288 with 1 Axes>"
      ]
     },
     "metadata": {
      "needs_background": "light"
     },
     "output_type": "display_data"
    }
   ],
   "source": [
    "%%time\n",
    "params = (SB0,f,bc_concave)\n",
    "solution_MALBR = newton_root(SchemeMALBR,quadratic-2.,params,damping=dampingMALBR)\n",
    "\n",
    "plt.axis('equal'); plt.title(\"MALBR solution to det(d2 u)=1\")\n",
    "plt.contourf(*X,solution_MALBR);"
   ]
  },
  {
   "cell_type": "markdown",
   "metadata": {},
   "source": [
    "### 2.2 Optimized implementation\n",
    "\n",
    "In the course of the Newton method, the AD-LBR scheme is evaluated on sparse AD variables. In this regard, two features of the scheme yield optimization opportunities:\n",
    "* *Minimization over the superbases.* Using the envelope theorem, we find the minimizer using ordinary arrays without AD information, and then provide this oracle information in a second pass involving AD information.\n",
    "* *Complex non-linear function $H$.* We can take advantage of dense and sparse AD composition, to efficiently evaluate $H$.\n",
    "\n",
    "**Important: other optimization opportunities.**\n",
    "Our main intent in this subsection is to illustrate advanced AD techniques. There may be other optimization opportunities."
   ]
  },
  {
   "cell_type": "code",
   "execution_count": 23,
   "metadata": {
    "tags": [
     "ExportCode"
    ]
   },
   "outputs": [],
   "source": [
    "def SchemeMALBR_OptInner(u,SB,bc,oracle=None):\n",
    "    # If the active superbases are known, then take only these\n",
    "    if not(oracle is None):\n",
    "        SB = np.take_along_axis(SB,np.broadcast_to(oracle,SB.shape[:2]+(1,)+oracle.shape),axis=2)\n",
    "                \n",
    "    d2u = bc.Diff2(u,SB)\n",
    "    d2u[...,bc.not_interior] = 0. # Placeholder value to silent NaN warnings\n",
    "    # Evaluate the complex non-linear function using dense - sparse composition\n",
    "    result = ad.apply(MALBR_H,d2u,shape_bound=u.shape)\n",
    "    \n",
    "    return ad.min_argmin(result,axis=0)\n",
    "\n",
    "def SchemeMALBR_Opt(u,SB,f,bc):\n",
    "    \n",
    "    # Evaluate using the envelope theorem\n",
    "    result,_ = ad.apply(SchemeMALBR_OptInner, u,bc.as_field(SB),bc, envelope=True)\n",
    "        \n",
    "    # Boundary conditions\n",
    "    return ad.where(bc.interior, f - result, u-bc.grid_values)"
   ]
  },
  {
   "cell_type": "markdown",
   "metadata": {},
   "source": [
    "We can afford more superbases, taking `SB2` instead of `SB0`, thanks to the optimizations. Replace `SchemeMALBR_Opt` with `SchemeMALBR` to see the computation time difference."
   ]
  },
  {
   "cell_type": "code",
   "execution_count": 24,
   "metadata": {},
   "outputs": [],
   "source": [
    "ad.reload_submodules()"
   ]
  },
  {
   "cell_type": "code",
   "execution_count": 133,
   "metadata": {},
   "outputs": [
    {
     "name": "stdout",
     "output_type": "stream",
     "text": [
      "Iteration: 1  Residue norm: 325111.14644422993\n",
      "Iteration: 2  Residue norm: 248913.18858294585\n",
      "Iteration: 3  Residue norm: 218771.3485377994\n",
      "Iteration: 4  Residue norm: 167496.77862843202\n",
      "Iteration: 5  Residue norm: 94216.79294645056\n",
      "Iteration: 6  Residue norm: 52996.793813316835\n",
      "Iteration: 8  Residue norm: 16768.27363780482\n",
      "Iteration: 10  Residue norm: 1045.5426986307234\n",
      "Iteration: 12  Residue norm: 448.220674354661\n",
      "Iteration: 14  Residue norm: 261.90979595405406\n",
      "Iteration: 16  Residue norm: 152.76865184603366\n",
      "Iteration: 20  Residue norm: 59.45803618658684\n",
      "Iteration: 24  Residue norm: 10.437150672274628\n",
      "Iteration: 28  Residue norm: 1.750023680346935e-05\n",
      "Iteration: 29  Residue norm: 7.348699426756866e-11\n",
      "Target residue reached. Terminating.\n",
      "CPU times: user 39.5 s, sys: 2.77 s, total: 42.2 s\n",
      "Wall time: 10.6 s\n"
     ]
    }
   ],
   "source": [
    "%%time\n",
    "params = (SB2,f,bc_convex)\n",
    "solution_MALBR = newton_root(SchemeMALBR_Opt,quadratic-2.,params,damping=dampingMALBR) "
   ]
  },
  {
   "cell_type": "markdown",
   "metadata": {},
   "source": [
    "If we use the same set of superbases, then the optimized and non-optimized versions yield an identical result, up to machine precision, iteration after iteration."
   ]
  },
  {
   "cell_type": "code",
   "execution_count": 26,
   "metadata": {},
   "outputs": [
    {
     "name": "stdout",
     "output_type": "stream",
     "text": [
      "Iteration: 1  Residue norm: 2653538.125185531\n",
      "Iteration: 2  Residue norm: 1492615.1329154281\n",
      "Iteration: 3  Residue norm: 1142783.4455132969\n",
      "Iteration: 4  Residue norm: 874943.5598453889\n",
      "Iteration: 5  Residue norm: 669878.6473794985\n",
      "Iteration: 6  Residue norm: 512875.8237706674\n",
      "Iteration: 8  Residue norm: 162277.0184543401\n",
      "Iteration: 10  Residue norm: 10142.00115253507\n",
      "Iteration: 12  Residue norm: 1426.015780754557\n",
      "Iteration: 14  Residue norm: 835.8766663110761\n",
      "Iteration: 16  Residue norm: 359.91081163056987\n",
      "Iteration: 20  Residue norm: 76.52689110514807\n",
      "Iteration: 24  Residue norm: 2.604795201299959\n",
      "Iteration: 28  Residue norm: 1.020487250258384e-09\n",
      "Target residue reached. Terminating.\n",
      "CPU times: user 19.5 s, sys: 887 ms, total: 20.4 s\n",
      "Wall time: 5.13 s\n"
     ]
    }
   ],
   "source": [
    "%%time\n",
    "params = (SB0,f,bc_convex)\n",
    "solution_MALBR = newton_root(SchemeMALBR_Opt,quadratic-2.,params,damping=dampingMALBR) "
   ]
  },
  {
   "cell_type": "markdown",
   "metadata": {},
   "source": [
    "## 3. Uniformly elliptic scheme\n",
    "\n",
    "We present a numerical scheme robust enough that the Newton method converges *without need for damping*, even in the non-convex domains. For that purpose, we use the following classical reformulation of the Monge-Ampere PDE.\n",
    "$$\n",
    "    0 = \\max_D \\alpha(x)\\det(D)^\\frac 1 d - {\\rm tr} (D \\nabla ^2 u(x))\n",
    "$$\n",
    "subject to the constraints\n",
    "$$\n",
    "    D \\succeq 0, \\qquad {\\rm tr} (D) = 1,\n",
    "$$\n",
    "and where we denoted\n",
    "$$\n",
    "    \\alpha(x) := d f(x)^{\\frac 1 d}.\n",
    "$$"
   ]
  },
  {
   "cell_type": "markdown",
   "metadata": {},
   "source": [
    "### Reformulation as a quadratic optimization problem\n",
    "\n",
    "We constrain the above optimization problem to matrices $D$ which can be decomposed over a superbase $(e_0,e_1,e_2)$ of $Z^2$ in the form\n",
    "$$\n",
    "    D = \\sum_i v_i e_i e_i^T,\n",
    "$$\n",
    "where $v_i \\geq 0$, $0 \\leq i \\leq 2$.\n",
    "We can compute the trace of $D$ \n",
    "$$\n",
    "    {\\rm tr}(D) = \\sum_i v_i \\|e_i\\|^2,\n",
    "$$\n",
    "and its determinant\n",
    "$$\n",
    "    \\det(D) = v_0 v_1 + v_1 v_2 + v_2 v_0 = <v,Q v>\n",
    "$$\n",
    "where \n",
    "$$\n",
    "    Q = \\frac 1 2 \\begin{pmatrix} 0 & 1 & 1\\\\ 1 & 0 & 1\\\\ 1 & 1 & 0 \\end{pmatrix}\n",
    "$$\n",
    "In addition, we have the finite differences approximation\n",
    "$$\n",
    "    {\\rm tr}(D \\nabla^2 u(x)) \\approx \\sum_i v_i \\frac{ u(x+h e_i)-2 u(x)+u(x-he_i)} {h^2}\n",
    "$$\n"
   ]
  },
  {
   "cell_type": "markdown",
   "metadata": {},
   "source": [
    "### Solving a low dimensional constrained optimization problem\n",
    "We need to solve the concave maximization problem \n",
    "$$\n",
    "    \\max_v \\alpha\\sqrt{<v,Q v>} + <l,v>\n",
    "$$\n",
    "subject to the constraints\n",
    "$$\n",
    "    v \\succeq 0, \\qquad <m,v>=1.\n",
    "$$\n",
    "\n",
    "**Distinction on $\\alpha$**\n",
    "The scalar $\\alpha$ is by assumption non-negative.\n",
    "If $\\alpha=0$, then the solution to the above optimization problem is \n",
    "$$\n",
    "    \\max_{1 \\leq i \\leq d} \\frac{l_i}{m_i}.\n",
    "$$\n",
    "On the other hand, if $\\alpha>0$, then we may assume $\\alpha=1$, up to including it in $Q$.\n",
    "\n",
    "**Optimality relation**\n",
    "Assuming that the positivity constraints are inactive at the maximizer, we obtain the optimality relation\n",
    "$$\n",
    "    \\frac {Q v}{\\sqrt{<v,Q v>}} + l = \\mu m,\n",
    "$$\n",
    "for some Lagrange multiplier $\\mu \\in R$.\n",
    "\n",
    "**Solving the problem.**\n",
    "A quadratic equation is obeyed by this multiplier\n",
    "$$\n",
    "    <(\\mu m -l), Q^{-1} (\\mu m -l)> = 1.\n",
    "$$\n",
    "(Which root is to be selected ?)\n",
    "The minimizer can be obtained by \n",
    "$$\n",
    "    \\frac{v}{\\sqrt{<v,Q v >}} = Q^{-1} (\\mu m -l)\n",
    "$$"
   ]
  },
  {
   "cell_type": "markdown",
   "metadata": {},
   "source": [
    "### 3.1 First implementation"
   ]
  },
  {
   "cell_type": "code",
   "execution_count": 242,
   "metadata": {
    "tags": [
     "ExportCode"
    ]
   },
   "outputs": [],
   "source": [
    "def ConstrainedMaximize(Q,l,m):\n",
    "    dim = l.shape[0]\n",
    "    if dim==1:\n",
    "        return (l[0]+np.sqrt(Q[0,0]))/m[0]\n",
    "    \n",
    "    # Discard infinite values, handled afterwards\n",
    "    pos_bad = l.min(axis=0)==-np.inf\n",
    "    L = l.copy(); L[:,pos_bad]=0\n",
    "    \n",
    "    # Solve the quadratic equation\n",
    "    A = lp.inverse(Q)    \n",
    "    lAl = lp.dot_VAV(L,A,L)\n",
    "    lAm = lp.dot_VAV(L,A,m)\n",
    "    mAm = lp.dot_VAV(m,A,m)\n",
    "    \n",
    "    delta = lAm**2 - (lAl-1.)*mAm\n",
    "    pos_bad = np.logical_or(pos_bad,delta<=0)\n",
    "    delta[pos_bad] = 1.\n",
    "    \n",
    "    mu = (lAm + np.sqrt(delta))/mAm\n",
    "    \n",
    "    # Check the positivity\n",
    "#    v = dot_AV(A,mu*m-L)\n",
    "    rm_ad = np.array\n",
    "    v = lp.dot_AV(rm_ad(A),rm_ad(mu)*rm_ad(m)-rm_ad(L))\n",
    "    pos_bad = np.logical_or(pos_bad,np.any(v<0,axis=0))\n",
    "    \n",
    "    result = mu\n",
    "    result[pos_bad] = -np.inf\n",
    "    \n",
    "    # Solve the lower dimensional sub-problems\n",
    "    # We could restrict to the bad positions, and avoid repeating computations\n",
    "    for i in range(dim):             \n",
    "        axes = np.full((dim),True); axes[i]=False\n",
    "        res = ConstrainedMaximize(Q[axes][:,axes],l[axes],m[axes])\n",
    "        result = np.maximum(result,res)\n",
    "    return result"
   ]
  },
  {
   "cell_type": "code",
   "execution_count": 271,
   "metadata": {},
   "outputs": [
    {
     "data": {
      "text/plain": [
       "-0.1556895836934142"
      ]
     },
     "execution_count": 271,
     "metadata": {},
     "output_type": "execute_result"
    }
   ],
   "source": [
    "np.min(Residue_ad(test_polynomial,SB1,dom_convex,X_(25),scheme=SchemeUniform))\n",
    "#plt.contourf(*X_(26),Residue_ad(test_polynomial,SB0,dom_convex,X_(26),scheme=SchemeUniform)); plt.colorbar()"
   ]
  },
  {
   "cell_type": "code",
   "execution_count": 267,
   "metadata": {
    "tags": [
     "ExportCode"
    ]
   },
   "outputs": [],
   "source": [
    "def SchemeUniform(u,SB,f,bc):\n",
    "    # Compute the finite differences along the superbase directions\n",
    "    d2u = bc.Diff2(u,SB) \n",
    "    d2u[...,bc.not_interior] = 0. # Placeholder value to silent NaN warnings\n",
    "    \n",
    "    # Generate the parameters for the low dimensional optimization problem\n",
    "    Q = 0.5*np.array([[0,1,1],[1,0,1],[1,1,0]])\n",
    "    l = -d2u\n",
    "    m = lp.dot_VV(SB,SB)\n",
    "    \n",
    "    # Evaluate the numerical scheme\n",
    "    m = bc.as_field(m)\n",
    "    from NumericalSchemes.FiniteDifferences import as_field\n",
    "    Q = as_field(Q,m.shape[1:])\n",
    "    \n",
    "    dim = 2\n",
    "    alpha = dim * f**(1/dim)\n",
    "    mask= (alpha==0)\n",
    "\n",
    "    Q = Q* np.where(mask,1.,alpha**2)\n",
    "    residue = ConstrainedMaximize(Q,l,m).max(axis=0)\n",
    "    residue[mask] = np.max(l/m,axis=0).max(axis=0)[mask]\n",
    "    \n",
    "    # Boundary conditions\n",
    "    return ad.where(bc.interior,residue,u-bc.grid_values)"
   ]
  },
  {
   "cell_type": "markdown",
   "metadata": {},
   "source": [
    "The monotone scheme is able to approach discontinuous vicosity solutions, defined on non-convex domains."
   ]
  },
  {
   "cell_type": "code",
   "execution_count": 251,
   "metadata": {},
   "outputs": [
    {
     "name": "stdout",
     "output_type": "stream",
     "text": [
      "Iteration: 1  Residue norm: 37.344009287225326\n",
      "Iteration: 2  Residue norm: 1.1900751209595286\n",
      "Iteration: 3  Residue norm: 0.1848242917329227\n",
      "Iteration: 4  Residue norm: 0.017175529011204116\n",
      "Iteration: 5  Residue norm: 0.0005012541583000463\n",
      "Iteration: 6  Residue norm: 1.4810502555473448e-06\n",
      "Iteration: 7  Residue norm: 1.2168044349891716e-11\n",
      "Target residue reached. Terminating.\n",
      "CPU times: user 18 s, sys: 3.15 s, total: 21.1 s\n",
      "Wall time: 5.64 s\n"
     ]
    }
   ],
   "source": [
    "%%time\n",
    "relax = ad.Sparse.identity(bc_concave.shape)\n",
    "stop = ad.Optimization.stop_default\n",
    "\n",
    "params = (SB0,f,bc_concave)\n",
    "solution_Uniform = newton_root(SchemeUniform,quadratic-2.,params)"
   ]
  },
  {
   "cell_type": "code",
   "execution_count": 30,
   "metadata": {},
   "outputs": [
    {
     "data": {
      "image/png": "[encoded data removed]",
      "text/plain": [
       "<Figure size 432x288 with 2 Axes>"
      ]
     },
     "metadata": {
      "needs_background": "light"
     },
     "output_type": "display_data"
    }
   ],
   "source": [
    "plt.contourf(*X,solution_Uniform); plt.axis('equal'); plt.colorbar();"
   ]
  },
  {
   "cell_type": "markdown",
   "metadata": {},
   "source": [
    "It also still works on simpler cases, such as the square and convex domain."
   ]
  },
  {
   "cell_type": "code",
   "execution_count": 31,
   "metadata": {},
   "outputs": [
    {
     "name": "stdout",
     "output_type": "stream",
     "text": [
      "Iteration: 1  Residue norm: 28.748715243844497\n",
      "Iteration: 2  Residue norm: 1.0319420600584213\n",
      "Iteration: 3  Residue norm: 0.31112485297183456\n",
      "Iteration: 4  Residue norm: 0.10299744960493495\n",
      "Iteration: 5  Residue norm: 0.04170849069502247\n",
      "Iteration: 6  Residue norm: 0.014264747849982218\n",
      "Iteration: 8  Residue norm: 0.00015659889924535264\n",
      "Iteration: 10  Residue norm: 3.2738256550146616e-12\n",
      "Target residue reached. Terminating.\n",
      "CPU times: user 55.6 s, sys: 8.47 s, total: 1min 4s\n",
      "Wall time: 16.1 s\n"
     ]
    },
    {
     "data": {
      "image/png": "[encoded data removed]",
      "text/plain": [
       "<Figure size 288x288 with 1 Axes>"
      ]
     },
     "metadata": {
      "needs_background": "light"
     },
     "output_type": "display_data"
    }
   ],
   "source": [
    "%%time\n",
    "params = (SB0,f,bc_square)\n",
    "solution_Uniform = newton_root(SchemeUniform,quadratic-2.,params) \n",
    "\n",
    "fig = plt.figure(figsize=(4,4)); plt.axis('equal')\n",
    "plt.title(\"det(d2 u)=1, uniformly elliptic scheme\")\n",
    "plt.contourf(*X,solution_Uniform);"
   ]
  },
  {
   "cell_type": "code",
   "execution_count": 286,
   "metadata": {},
   "outputs": [
    {
     "name": "stdout",
     "output_type": "stream",
     "text": [
      "Iteration: 1  Residue norm: 62.0601602216966\n",
      "Iteration: 2  Residue norm: 1.8996952736089114\n",
      "Iteration: 3  Residue norm: 0.5294255464213633\n",
      "Iteration: 4  Residue norm: 0.18730106584740325\n",
      "Iteration: 5  Residue norm: 0.0676217760208182\n",
      "Iteration: 6  Residue norm: 0.01686042824228462\n",
      "Iteration: 8  Residue norm: 6.525452819872157e-06\n",
      "Iteration: 9  Residue norm: 1.7279688790949876e-10\n",
      "Target residue reached. Terminating.\n",
      "CPU times: user 24.8 s, sys: 4.3 s, total: 29.1 s\n",
      "Wall time: 7.72 s\n"
     ]
    },
    {
     "data": {
      "image/png": "[encoded data removed]",
      "text/plain": [
       "<Figure size 288x288 with 1 Axes>"
      ]
     },
     "metadata": {
      "needs_background": "light"
     },
     "output_type": "display_data"
    }
   ],
   "source": [
    "%%time\n",
    "params = (SB0,f,bc_convex)\n",
    "solution_Uniform = newton_root(SchemeUniform,quadratic-2.,params) \n",
    "\n",
    "fig = plt.figure(figsize=(4,4)); plt.axis('equal')\n",
    "plt.title(\"det(d2 u)=1, uniformly elliptic scheme\")\n",
    "plt.contourf(*X,solution_Uniform);"
   ]
  },
  {
   "cell_type": "code",
   "execution_count": 33,
   "metadata": {},
   "outputs": [],
   "source": [
    "if figSaveDir: fig.savefig(figSaveDir+'UniformScheme_rhs=1.png')"
   ]
  },
  {
   "cell_type": "markdown",
   "metadata": {},
   "source": [
    "### 3.2 Optimized implementation\n",
    "\n",
    "We optimize the uniformly elliptic scheme using the same ingredients as for the MA-LBR scheme: the envelope theorem, and dense-sparse AD composition."
   ]
  },
  {
   "cell_type": "code",
   "execution_count": 287,
   "metadata": {
    "tags": [
     "ExportCode"
    ]
   },
   "outputs": [],
   "source": [
    "def SchemeUniform_OptInner(u,SB,f,bc,oracle=None):\n",
    "    # Use the oracle, if available, to select the active superbases only\n",
    "    if not(oracle is None):\n",
    "        SB = np.take_along_axis(SB,np.broadcast_to(oracle,SB.shape[:2]+(1,)+oracle.shape),axis=2)\n",
    "\n",
    "    d2u = bc.Diff2(u,SB) \n",
    "    d2u[...,bc.not_interior] = 0. # Placeholder value to silent NaN warnings\n",
    "    \n",
    "    # Generate the parameters for the low dimensional optimization problem\n",
    "    Q = 0.5*np.array([[0,1,1],[1,0,1],[1,1,0]])\n",
    "    dim = 2\n",
    "    l = -d2u\n",
    "    m = lp.dot_VV(SB,SB)\n",
    "    \n",
    "    m = bc.as_field(m)\n",
    "    from NumericalSchemes.FiniteDifferences import as_field\n",
    "    Q = as_field(Q,m.shape[1:])\n",
    "    \n",
    "    dim = 2\n",
    "    alpha = dim * f**(1/dim)\n",
    "    mask= (alpha==0)\n",
    "\n",
    "    Q = Q* np.where(mask,1.,alpha**2)\n",
    "    # Evaluate the non-linear functional using dense-sparse composition\n",
    "    residue = ad.apply(ConstrainedMaximize,Q,l,m,shape_bound=u.shape).copy()\n",
    "    residue[:,mask] = np.max(l/m,axis=0)[:,mask]\n",
    "    \n",
    "    return ad.max_argmax(residue,axis=0)\n",
    "\n",
    "def SchemeUniform_Opt(u,SB,f,bc):\n",
    "    \n",
    "    # Evaluate the maximum over the superbases using the envelope theorem\n",
    "    residue,_ = ad.apply(SchemeUniform_OptInner, u,bc.as_field(SB),f,bc, envelope=True)\n",
    "    \n",
    "    return ad.where(bc.interior,residue,u-bc.grid_values)"
   ]
  },
  {
   "cell_type": "markdown",
   "metadata": {},
   "source": [
    "The computation time is significantly reduced with these optimizations, and we can afford to take more superbases: `SB2` instead of `SB0`."
   ]
  },
  {
   "cell_type": "code",
   "execution_count": 281,
   "metadata": {},
   "outputs": [
    {
     "name": "stdout",
     "output_type": "stream",
     "text": [
      "Iteration: 1  Residue norm: 58.914284475403846\n",
      "Iteration: 2  Residue norm: 7.872024191391678\n",
      "Iteration: 3  Residue norm: 3.4862009044891376\n",
      "Iteration: 4  Residue norm: 0.7148089654959711\n",
      "Iteration: 5  Residue norm: 0.14193770472991307\n",
      "Iteration: 6  Residue norm: 0.024439124408136337\n",
      "Iteration: 8  Residue norm: 1.2630485183073858e-05\n",
      "Iteration: 9  Residue norm: 5.027045446581724e-10\n",
      "Target residue reached. Terminating.\n",
      "CPU times: user 14.7 s, sys: 970 ms, total: 15.7 s\n",
      "Wall time: 3.94 s\n"
     ]
    }
   ],
   "source": [
    "%%time\n",
    "params = (SB2,f,bc_convex)\n",
    "solution_Uniform = newton_root(SchemeUniform_Opt,quadratic-2.,params) "
   ]
  },
  {
   "cell_type": "code",
   "execution_count": 284,
   "metadata": {},
   "outputs": [
    {
     "data": {
      "image/png": "[encoded data removed]",
      "text/plain": [
       "<Figure size 432x288 with 1 Axes>"
      ]
     },
     "metadata": {
      "needs_background": "light"
     },
     "output_type": "display_data"
    }
   ],
   "source": [
    "plt.contourf(*X,solution_Uniform); plt.axis('equal');"
   ]
  },
  {
   "cell_type": "code",
   "execution_count": 285,
   "metadata": {},
   "outputs": [
    {
     "name": "stdout",
     "output_type": "stream",
     "text": [
      "Iteration: 1  Residue norm: 62.06016022169659\n",
      "Iteration: 2  Residue norm: 1.8996952736069483\n",
      "Iteration: 3  Residue norm: 0.5294255464215458\n",
      "Iteration: 4  Residue norm: 0.18730106584728612\n",
      "Iteration: 5  Residue norm: 0.06762177602081487\n",
      "Iteration: 6  Residue norm: 0.01686042824228373\n",
      "Iteration: 8  Residue norm: 6.525452798555875e-06\n",
      "Iteration: 9  Residue norm: 1.7280754605053517e-10\n",
      "Target residue reached. Terminating.\n"
     ]
    }
   ],
   "source": [
    "params = (SB0,f,bc_convex)\n",
    "solution_Uniform = newton_root(SchemeUniform_Opt,quadratic-2.,params) "
   ]
  },
  {
   "cell_type": "markdown",
   "metadata": {},
   "source": [
    "## 4. Validation\n",
    "\n",
    "When designing and implementing a numerical method, one must distinguish:\n",
    "* *Mathematical correctness*. A proof on paper that the scheme solutions exist, are unique, and e.g. do converge toward the solution of a continuous problem of interest as the grid is refined.\n",
    "* *Implementation correctness*. The fact that the code faithfully reflects the mathematical description. A.k.a the absence of bugs. \n",
    "\n",
    "This section deals with implementation correctness. Again, there are two options:\n",
    "* Computer assisted proof of correctness. This approach is still mostly sci-fy at the moment, although I would love it in principle. See [F*](https://www.fstar-lang.org/) for such works.\n",
    "* A series of tests showing that the implementation obeys some expected mathematical properties. \n",
    "\n",
    "We rely on the second approach, and for that purpose we compare the implemented schemes between themselves, and with variants."
   ]
  },
  {
   "cell_type": "code",
   "execution_count": 36,
   "metadata": {},
   "outputs": [],
   "source": [
    "LInfNorm=ad.Optimization.norm_infinity"
   ]
  },
  {
   "cell_type": "markdown",
   "metadata": {},
   "source": [
    "### 4.1 Comparison with a sampling based scheme\n",
    "\n",
    "The scheme described above is based on a discretization of the PDE formulation\n",
    "$$\n",
    "    0 = \\max_D \\det(D)^\\frac 1 d - \\alpha(x) {\\rm tr} (D \\nabla ^2 u(x))\n",
    "$$\n",
    "followed with an exact solution subject to the constraints\n",
    "$$\n",
    "    D \\succeq 0, \\qquad {\\rm tr} (D) = 1,\n",
    "$$\n",
    "and the additional constraint that some superbase $s \\in SB$ is obtuse. Denote by $F_{SB}$ this scheme.\n",
    "\n",
    "**Sampling based scheme**\n",
    "For validation purposes, it can be interesting to consider a brute-force approach to the same optimization problem, based on a sampling of the parameter space. Namely\n",
    "$$\n",
    "    D(\\mu,\\theta) := R_\\theta \n",
    "    \\begin{pmatrix} \\mu & 0 \\\\ 0 & 1-\\mu \\end{pmatrix}\n",
    "    R_\\theta^T\n",
    "$$\n",
    "where $\\mu\\in M_n \\subset [0,1/2]$ and $\\theta\\in \\Theta_n [0,\\pi]$. Here $A_n$ and $\\Theta_n$ are $n$-element regular sampling of their respective containing intervals. \n",
    "\n",
    "Let us denote by $F^n$ this second scheme, and by $F^n_{SB}$ the same similar scheme where one only keeps matrices $D(\\mu,\\theta)$ for which some superbase $s \\in SB$ is obtuse.\n",
    "\n",
    "**Convergence**\n",
    "By construction, one should have as $n \\to \\infty$, for any discrete map $u$ and set of superbases $SB$\n",
    "$$\n",
    "    F_{SB}^n(u) = F_{SB}(u) + O(n^{-1}).\n",
    "$$\n",
    "Note that the test function $u$, and the set of superbases are here fixed.\n",
    "\n",
    "**Similar work** A similar approach is implemented in the notebook [NonlinearMonotoneSecond2D](NonlinearMonotoneSecond2D.ipynb). In that case, the order of convergence is $O(n^{-2})$, instead of $O(n^{-1})$. The difference is related with the sampling of the boundary of the optimization domain."
   ]
  },
  {
   "cell_type": "code",
   "execution_count": 37,
   "metadata": {},
   "outputs": [],
   "source": [
    "def SchemeSampling(u,mus,thetas,SB,f,bc):\n",
    "    # Sampling is independent for mu and theta\n",
    "    mus=np.expand_dims(mus,axis=0)\n",
    "    thetas=np.expand_dims(thetas,axis=1)\n",
    "\n",
    "    # Build the tensors\n",
    "    e=np.array(((np.cos(thetas),np.sin(thetas)),(-np.sin(thetas),np.cos(thetas))) )\n",
    "    D = mus*lp.outer_self(e[0])+(1.-mus)*lp.outer_self(e[1])\n",
    "    \n",
    "    # Select the tensors for which one of the superbases is obtuse\n",
    "    # This step is only needed if one intends to reproduce the consistent schem\n",
    "    if D is not None:\n",
    "        nD = np.prod(D.shape[2:]); D=D.reshape((2,2,1,1,nD))\n",
    "        nSB=SB.shape[2]; SB=SB.reshape((2,3,nSB,1))\n",
    "        scals = lp.dot_VAV(SB,D,np.roll(SB,axis=1,shift=1))\n",
    "        # Test if a given superbase is obtuse for a given tensor\n",
    "        is_obtuse = scals.max(axis=0)<=0 \n",
    "        # Test if a given tensor admits an obtuse superbase among the proposed ones\n",
    "        is_admissible = is_obtuse.any(axis=0)\n",
    "        D=D.squeeze(axis=(2,3))\n",
    "        D=D[:,:,is_admissible]\n",
    "    \n",
    "\n",
    "    # Decompose the tensors\n",
    "    coefs,offsets = Selling.Decomposition(D)\n",
    "    coefs = bc.as_field(coefs)\n",
    "    \n",
    "    # Discretization\n",
    "    d=2.\n",
    "    alpha = 1./(d*f**(1./d))\n",
    "    d2u = bc.Diff2(u,offsets)    \n",
    "    detD = bc.as_field(lp.det(D))\n",
    "    res = detD**(1./d)-alpha*(coefs*d2u).sum(axis=0)\n",
    "    # Note : optimization opportunity using the envelope theorem\n",
    "    residue = res.max(axis=0) \n",
    "    return ad.where(bc.interior,residue,u-bc.grid_values)"
   ]
  },
  {
   "cell_type": "code",
   "execution_count": 38,
   "metadata": {},
   "outputs": [],
   "source": [
    "np.random.seed(42)\n",
    "u = np.random.uniform(-1,1,bc_square.shape)\n",
    "bc_mock = Domain.MockDirichlet(u.shape,1.,0.)\n",
    "params = (SB0,f,bc_mock)\n",
    "\n",
    "residue_consistent = SchemeUniform(u,*params)\n",
    "\n",
    "def error(n): \n",
    "    mus=np.linspace(0,0.5,n,endpoint=False)+0.25/n\n",
    "    thetas=np.linspace(0,np.pi,n,endpoint=False)\n",
    "    residue_sampling = SchemeSampling(u,mus,thetas,*params)\n",
    "\n",
    "    LInfNorm=ad.Optimization.norm_infinity\n",
    "    residue_diff = residue_sampling-residue_consistent\n",
    "    return LInfNorm(residue_sampling-residue_consistent)"
   ]
  },
  {
   "cell_type": "code",
   "execution_count": 39,
   "metadata": {},
   "outputs": [],
   "source": [
    "samples = [5,8,12,16,20,25,30,35,40] #,50,60,70,80,100]\n",
    "errors = [error(n) for n in samples]"
   ]
  },
  {
   "cell_type": "markdown",
   "metadata": {},
   "source": [
    "The sampling based scheme does converge toward the consistent scheme, with the expected convergence order $O(n^{-1})$."
   ]
  },
  {
   "cell_type": "code",
   "execution_count": 40,
   "metadata": {},
   "outputs": [
    {
     "data": {
      "image/png": "[encoded data removed]",
      "text/plain": [
       "<Figure size 432x288 with 1 Axes>"
      ]
     },
     "metadata": {
      "needs_background": "light"
     },
     "output_type": "display_data"
    }
   ],
   "source": [
    "isamples=1./np.array(samples); plt.title(\"Convergence of the sampling based scheme toward the consistent scheme\")\n",
    "plt.loglog(isamples,errors, isamples,isamples);"
   ]
  },
  {
   "cell_type": "markdown",
   "metadata": {},
   "source": [
    "### 4.2 The monotone and consistent schemes have identical solutions\n",
    "\n",
    "The implementation of the MALBR scheme and of the Uniformly elliptic schemes are quite different. \n",
    "However, it can be shown that a solution to the first scheme is a solution to the second scheme, and conversely.\n",
    "\n",
    "This is not a convergence result as a grid is refined. It is a result valid at any fixed scheme, up to machine precision due to rounding errors. Note also that the scheme residues are in general different if they are non-zero."
   ]
  },
  {
   "cell_type": "code",
   "execution_count": 135,
   "metadata": {},
   "outputs": [
    {
     "name": "stdout",
     "output_type": "stream",
     "text": [
      "Iteration: 1  Residue norm: 29.457142237701923\n",
      "Iteration: 2  Residue norm: 3.936012095695839\n",
      "Iteration: 3  Residue norm: 1.7431004522445688\n",
      "Iteration: 4  Residue norm: 0.35740448274798553\n",
      "Iteration: 5  Residue norm: 0.07096885236495654\n",
      "Iteration: 6  Residue norm: 0.012219562204068168\n",
      "Iteration: 8  Residue norm: 6.315242591536929e-06\n",
      "Iteration: 9  Residue norm: 2.513522723290862e-10\n",
      "Target residue reached. Terminating.\n"
     ]
    }
   ],
   "source": [
    "params = (SB2,f,bc_convex)\n",
    "solution_Uniform = newton_root(SchemeUniform_Opt,quadratic-2.,params) "
   ]
  },
  {
   "cell_type": "code",
   "execution_count": 136,
   "metadata": {},
   "outputs": [
    {
     "data": {
      "text/plain": [
       "7.960224479575118e-09"
      ]
     },
     "execution_count": 136,
     "metadata": {},
     "output_type": "execute_result"
    }
   ],
   "source": [
    "LInfNorm(SchemeMALBR_Opt(solution_Uniform,*params))"
   ]
  },
  {
   "cell_type": "markdown",
   "metadata": {},
   "source": [
    "### 4.3 Comparison with automatic differentiation\n",
    "\n",
    "We rely on automatic differentiation to compute the derivatives of an analytic function, and evaluate the PDE operator of interest. We then compute the numerical scheme residue on a synthetic problem with a known solution."
   ]
  },
  {
   "cell_type": "code",
   "execution_count": 203,
   "metadata": {
    "tags": [
     "ExportCode"
    ]
   },
   "outputs": [],
   "source": [
    "def Hessian_ad(u,x):\n",
    "    x_ad = ad.Dense2.identity(constant=x,shape_free=(2,))\n",
    "    return u(x_ad).hessian()\n",
    "def MongeAmpere_ad(u,x):\n",
    "    return lp.det(Hessian_ad(u,x))"
   ]
  },
  {
   "cell_type": "code",
   "execution_count": 185,
   "metadata": {},
   "outputs": [],
   "source": [
    "def Residue_ad(u,SB,dom,X,scheme=SchemeMALBR):\n",
    "    bc = Domain.Dirichlet(dom,u,X)\n",
    "    rhs = MongeAmpere_ad(u,X)\n",
    "    residue = scheme(u(X),SB,rhs,bc)\n",
    "    residue[bc.not_interior]=0\n",
    "    return residue"
   ]
  },
  {
   "cell_type": "markdown",
   "metadata": {},
   "source": [
    "It is also interesting to know the condition number of the hessian of our analytic function, in order to wisely choose the set of superbases. The condition number is defined as the ratio of the largest and smallest eigenvalue."
   ]
  },
  {
   "cell_type": "code",
   "execution_count": 204,
   "metadata": {},
   "outputs": [],
   "source": [
    "from NumericalSchemes.Metrics import Riemann\n",
    "def HessianConditionNumber(u,x):\n",
    "    return Riemann(Hessian_ad(u,x)).anisotropy()**2"
   ]
  },
  {
   "cell_type": "code",
   "execution_count": 200,
   "metadata": {},
   "outputs": [],
   "source": [
    "def test_quadratic(x): # Positive definite by non-isotropic quadratic function\n",
    "    return x[0]**2+2*x[1]**2+2*1.3*x[0]*x[1] \n",
    "def test_polynomial(x):\n",
    "    return (x[0]**2+x[1]**2)**2"
   ]
  },
  {
   "cell_type": "markdown",
   "metadata": {},
   "source": [
    "Recall that `SB0` (resp. `SB1`, `SB2`) are guaranteed to yield a consistent discretization of the Monge-Ampere operator provided the hessian condition number is bounded by $5$ (resp. $15$, $30$)."
   ]
  },
  {
   "cell_type": "code",
   "execution_count": 207,
   "metadata": {},
   "outputs": [
    {
     "data": {
      "text/plain": [
       "(26.99521446179111, 3.0000000000000018)"
      ]
     },
     "execution_count": 207,
     "metadata": {},
     "output_type": "execute_result"
    }
   ],
   "source": [
    "np.max(HessianConditionNumber(test_quadratic,X)),np.max(HessianConditionNumber(test_polynomial,X))"
   ]
  },
  {
   "cell_type": "markdown",
   "metadata": {},
   "source": [
    "We know for sure that `SB2` is adequate for the quadratic polynomial - but it happens, by chance, that `SB1` also does the job, see below. Also, `SB0` (hence also `SB1` and `SB2`) will work for the polynomial test function."
   ]
  },
  {
   "cell_type": "code",
   "execution_count": 208,
   "metadata": {},
   "outputs": [
    {
     "data": {
      "text/plain": [
       "[0.36000000002062893, 1.975597463399481e-11, 1.975597463399481e-11]"
      ]
     },
     "execution_count": 208,
     "metadata": {},
     "output_type": "execute_result"
    }
   ],
   "source": [
    "dom_convex = Domain.Union((Domain.Ball(),Domain.Box()))\n",
    "[norm(Residue_ad(test_quadratic,SB,dom_convex,X),ord=np.inf) for SB in (SB0,SB1,SB2)]"
   ]
  },
  {
   "cell_type": "markdown",
   "metadata": {},
   "source": [
    "We next consider the impact of the grid scale on the residue norm."
   ]
  },
  {
   "cell_type": "code",
   "execution_count": 213,
   "metadata": {},
   "outputs": [],
   "source": [
    "def X_(n):\n",
    "    aX = np.linspace(-1,1,n)\n",
    "    return np.array(np.meshgrid(aX,aX,indexing='ij'))"
   ]
  },
  {
   "cell_type": "markdown",
   "metadata": {},
   "source": [
    "In the interior, the numerical scheme is second order accurate. "
   ]
  },
  {
   "cell_type": "code",
   "execution_count": 214,
   "metadata": {},
   "outputs": [
    {
     "name": "stdout",
     "output_type": "stream",
     "text": [
      "L^1 norm of residue at resolution 25,50,100\n"
     ]
    },
    {
     "data": {
      "text/plain": [
       "[0.15651880978089455, 0.04849450753774105, 0.011621200142860708]"
      ]
     },
     "execution_count": 214,
     "metadata": {},
     "output_type": "execute_result"
    }
   ],
   "source": [
    "print(\"L^1 norm of MALBR residue at resolution 25,50,100\")\n",
    "[norm(Residue_ad(test_polynomial,SB0,dom_convex,X_(n)),ord=1,averaged=True) for n in (26,50,100)]"
   ]
  },
  {
   "cell_type": "markdown",
   "metadata": {},
   "source": [
    "But the scheme is only first order accurate at the boundary."
   ]
  },
  {
   "cell_type": "code",
   "execution_count": 211,
   "metadata": {},
   "outputs": [
    {
     "name": "stdout",
     "output_type": "stream",
     "text": [
      "L^Infinity norm of residue at resolution 25,50,100\n"
     ]
    },
    {
     "data": {
      "text/plain": [
       "[1.9285947953302625, 1.2034572454898438, 0.6758223415692228]"
      ]
     },
     "execution_count": 211,
     "metadata": {},
     "output_type": "execute_result"
    }
   ],
   "source": [
    "print(\"L^Infinity norm of MALBR residue at resolution 25,50,100\")\n",
    "[norm(Residue_ad(test_polynomial,SB0,dom_convex,X_(n)),ord=np.inf) for n in (26,50,100)]"
   ]
  },
  {
   "cell_type": "code",
   "execution_count": 273,
   "metadata": {},
   "outputs": [
    {
     "name": "stdout",
     "output_type": "stream",
     "text": [
      "L^1 norm of uniformly elliptic scheme residue at resolution 25,50,100\n"
     ]
    },
    {
     "data": {
      "text/plain": [
       "[0.015324020493320673, 0.004724921322047125, 0.0011340776002461631]"
      ]
     },
     "execution_count": 273,
     "metadata": {},
     "output_type": "execute_result"
    }
   ],
   "source": [
    "print(\"L^1 norm of uniformly elliptic scheme residue at resolution 25,50,100\")\n",
    "[norm(Residue_ad(test_polynomial,SB1,dom_convex,X_(n),scheme=SchemeUniform),ord=1,averaged=True) for n in (25,50,100)]"
   ]
  },
  {
   "cell_type": "code",
   "execution_count": 275,
   "metadata": {},
   "outputs": [
    {
     "name": "stdout",
     "output_type": "stream",
     "text": [
      "L^Infinity norm of uniformly elliptic scheme residue at resolution 25,50,100\n"
     ]
    },
    {
     "data": {
      "text/plain": [
       "[0.1556895836934142, 0.08040826081973138, 0.04365519346744801]"
      ]
     },
     "execution_count": 275,
     "metadata": {},
     "output_type": "execute_result"
    }
   ],
   "source": [
    "print(\"L^Infinity norm of uniformly elliptic scheme residue at resolution 25,50,100\")\n",
    "[norm(Residue_ad(test_polynomial,SB0,dom_convex,X_(n),scheme=SchemeUniform),ord=np.inf) for n in (25,50,100)]"
   ]
  },
  {
   "cell_type": "code",
   "execution_count": null,
   "metadata": {},
   "outputs": [],
   "source": []
  }
 ],
 "metadata": {
  "celltoolbar": "Format de la Cellule Texte Brut",
  "kernelspec": {
   "display_name": "Python 3",
   "language": "python",
   "name": "python3"
  },
  "language_info": {
   "codemirror_mode": {
    "name": "ipython",
    "version": 3
   },
   "file_extension": ".py",
   "mimetype": "text/x-python",
   "name": "python",
   "nbconvert_exporter": "python",
   "pygments_lexer": "ipython3",
   "version": "3.7.3"
  }
 },
 "nbformat": 4,
 "nbformat_minor": 2
}
