{
 "cells": [
  {
   "cell_type": "markdown",
   "metadata": {},
   "source": [
    "# Adaptive PDE discretizations on cartesian grids : Divergence form PDEs\n",
    "\n",
    "## Part : Static problems\n",
    "## Chapter : Elliptic equations"
   ]
  },
  {
   "cell_type": "markdown",
   "metadata": {},
   "source": [
    "This notebook illustrates the use of non-negative finite difference schemes to solve elliptic partial differential equations (PDEs). More precisely, we look for a solution $u$ defined over a bounded domain $\\Omega$ to the PDE\n",
    "$$\n",
    "    -{\\rm div}(D\\nabla u) + \\alpha u = f,\n",
    "$$\n",
    "where $D$ is a field of positive definite matrices, and $\\alpha$ is a non-negative scalar field. \n",
    "Dirichlet boundary conditions are applied on the boundary. We also consider Neumann boundary conditions which take the form\n",
    "$$\n",
    "<n(x), D(x)\\nabla u(x)> = 0\n",
    "$$\n",
    "for all points $x$ in a subset $\\Gamma \\subset\\partial \\Omega$ of the boundary.\n",
    "\n",
    "**Energy minimization.** The above PDE can be rephrased as the optimality condition to an optimization problem, involving an elliptic energy. More precisely, the solution $u \\in H^1(\\Omega)$ to above PDE is also the unique minimizer to the energy\n",
    "$$\n",
    "     E(u) = \\frac 1 2 \\int_\\Omega (\\| \\nabla u\\|_{D}^2 + \\alpha u^2) - \\int_\\Omega f u.\n",
    "$$\n",
    "Again, Dirichlet boundary conditions are imposed on the boundary. In this form, Neumann boundary conditions become to free boundary conditions (a.k.a. no constraint) on the corresponding part of the boundary.\n",
    "\n",
    "**Variational form.** The equivalence of the PDE with the energy minimization is obtained by considering an arbitrary test function $v \\in H^1_0(\\Omega)$ (or  $v \\in H^1(\\Omega)$ for Neumann boundary conditions). Then (i) multiplying the PDE and integrating by parts, or (ii) considering that $E(u+\\epsilon v) \\geq E(u)$ for any $\\epsilon$, one obtains the variational form\n",
    "$$\n",
    "    \\int_\\Omega <\\nabla u,D \\nabla v> + \\alpha u v - f v = 0.\n",
    "$$\n",
    "The variational form is *not* used in this notebook, where we prefer the energetic formulation. It does appear in the next notebook.\n",
    "\n",
    "**Note on the implementation of the boundary conditions.**\n",
    "A cartesian grid of scale $h>0$ is used for discretization:\n",
    "$$\n",
    "    \\Omega_h := \\Omega \\cap h Z^d.\n",
    "$$\n",
    "Because of the use of a cartesian grid, the implementation of the boundary conditions is rather crude, which limits the accuracy of the numerical solution. Ad-hoc techniques including changes of variables, domain decompositions, fictitious domains, etc ... may be used to improve the discretization of the boundary conditions. \n",
    "\n",
    "The proposed implementations, if not modified, should therefore be used in contexts where the boundary conditions only play a minor role, if e.g. the solution decays quickly, or where accurary is not the main concern, e.g. in image processing."
   ]
  },
  {
   "cell_type": "code",
   "execution_count": 1,
   "metadata": {},
   "outputs": [],
   "source": [
    "import sys; sys.path.append(\"..\") # Allow imports from parent directory"
   ]
  },
  {
   "cell_type": "code",
   "execution_count": 2,
   "metadata": {},
   "outputs": [
    {
     "data": {
      "text/markdown": [
       "[**Summary**](Summary.ipynb) of this series of notebooks. [(view online)](http://nbviewer.jupyter.org/urls/rawgithub.com/Mirebeau/AdaptiveGridDiscretizations/master/Notebooks_Div/Elliptic.ipynb)"
      ],
      "text/plain": [
       "<IPython.core.display.Markdown object>"
      ]
     },
     "metadata": {},
     "output_type": "display_data"
    },
    {
     "data": {
      "text/markdown": [
       "[**Main summary**](../Summary.ipynb), including the other volumes of this work. [(view online)](http://nbviewer.jupyter.org/urls/rawgithub.com/Mirebeau/AdaptiveGridDiscretizations/master/Summary.ipynb)"
      ],
      "text/plain": [
       "<IPython.core.display.Markdown object>"
      ]
     },
     "metadata": {},
     "output_type": "display_data"
    },
    {
     "data": {
      "text/markdown": [
       "\n",
       "# Table of contents"
      ],
      "text/plain": [
       "<IPython.core.display.Markdown object>"
      ]
     },
     "metadata": {},
     "output_type": "display_data"
    },
    {
     "data": {
      "text/markdown": [
       " * [1. Isotropic scheme](#1.-Isotropic-scheme)\n",
       " * [2. Naive anisotropic scheme](#2.-Naive-anisotropic-scheme)\n",
       " * [3. Anisotropic scheme](#3.-Anisotropic-scheme)\n",
       " * [4. Neuman boundary conditions](#4.-Neuman-boundary-conditions)"
      ],
      "text/plain": [
       "<IPython.core.display.Markdown object>"
      ]
     },
     "metadata": {},
     "output_type": "display_data"
    },
    {
     "data": {
      "text/markdown": [
       "\n",
       "\n",
       "\n",
       "**Acknowledgement.** The experiments presented in these notebooks are part of ongoing research, \n",
       "some of it with PhD student Guillaume Bonnet, in co-direction with Frederic Bonnans.\n",
       "\n",
       "Copyright Jean-Marie Mirebeau, University Paris-Sud, CNRS, University Paris-Saclay\n"
      ],
      "text/plain": [
       "<IPython.core.display.Markdown object>"
      ]
     },
     "metadata": {},
     "output_type": "display_data"
    }
   ],
   "source": [
    "from Miscellaneous import TocTools; TocTools.displayTOC('Elliptic','Div')"
   ]
  },
  {
   "cell_type": "markdown",
   "metadata": {},
   "source": [
    "## 0. Importing the required libraries"
   ]
  },
  {
   "cell_type": "code",
   "execution_count": 3,
   "metadata": {},
   "outputs": [],
   "source": [
    "from NumericalSchemes import Selling\n",
    "from NumericalSchemes import LinearParallel as lp\n",
    "from NumericalSchemes import FiniteDifferences as fd\n",
    "from NumericalSchemes import AutomaticDifferentiation as ad"
   ]
  },
  {
   "cell_type": "code",
   "execution_count": 4,
   "metadata": {},
   "outputs": [],
   "source": [
    "import numpy as np\n",
    "from matplotlib import pyplot as plt"
   ]
  },
  {
   "cell_type": "markdown",
   "metadata": {},
   "source": [
    "Some utility functions"
   ]
  },
  {
   "cell_type": "code",
   "execution_count": 5,
   "metadata": {},
   "outputs": [],
   "source": [
    "def LInfNorm(a):\n",
    "    return np.max(np.abs(np.array(a)))\n",
    "\n",
    "def as_field(u,shape):\n",
    "    ndim = len(shape)\n",
    "    if u.ndim>=ndim and u.shape[-ndim:]==shape: return u\n",
    "    else: return ad.broadcast_to(u.reshape(u.shape+(1,)*ndim), u.shape+shape)\n",
    "    \n",
    "def minimizer(energy):\n",
    "    \"\"\"\n",
    "    Finds the minimizer to a quadratic form, provided as a Sparse2.spAD2 object. \n",
    "    \n",
    "    Possible improvement : choose an adequate linear solver (e.g. conjugate gradient), \n",
    "    taking advantage that the matrix is symmetric positive definite.\n",
    "    \"\"\"\n",
    "    import scipy.sparse; import scipy.sparse.linalg\n",
    "    return - scipy.sparse.linalg.spsolve( \n",
    "        scipy.sparse.coo_matrix(energy.triplets()).tocsr(),\n",
    "        energy.to_first().to_dense(energy.bound_ad()).coef)"
   ]
  },
  {
   "cell_type": "code",
   "execution_count": 6,
   "metadata": {},
   "outputs": [],
   "source": [
    "def reload_packages():\n",
    "    import importlib\n",
    "    TocTools = importlib.reload(sys.modules['Miscellaneous.TocTools'])\n",
    "    ad = importlib.reload(sys.modules['NumericalSchemes.AutomaticDifferentiation'])\n",
    "    ad.Sparse = importlib.reload(ad.Sparse)\n",
    "    ad.Dense = importlib.reload(ad.Dense)\n",
    "    ad.Sparse2 = importlib.reload(ad.Sparse2)\n",
    "    ad.Dense2 = importlib.reload(ad.Dense2)"
   ]
  },
  {
   "cell_type": "markdown",
   "metadata": {},
   "source": [
    "## 1. Isotropic scheme\n",
    "\n",
    "We first consider a simplified problem in which the diffusion tensors are isotropic :\n",
    "$$\n",
    "    D = d {\\rm Id}\n",
    "$$\n",
    "The optimization problem becomes\n",
    "$$\n",
    "    \\frac 1 2 \\int_\\Omega ( d \\| \\nabla u\\|^2 + \\alpha u^2) -\\int_\\Omega f u.\n",
    "$$\n",
    "It is discretized using the scheme\n",
    "$$\n",
    "    \\frac{h^d} 2 \\sum_{x \\in \\Omega_h} (d(x) a_h(x) + \\alpha(x) u(x)^2) \n",
    "    - h^d \\sum_{x \\in \\Omega_h} f(x) u(x)\n",
    "$$\n",
    "where for each point $x \\in \\Omega_h$ of the discretization domain\n",
    "$$\n",
    "     a_h(x) := \\frac 1 2 \\sum_{i\\in \\{0,1\\}} \\sum_{\\sigma\\in \\{-1,1\\}} (\\frac{u(x+\\sigma h e_i)-u(x)} h)^2 \n",
    "$$"
   ]
  },
  {
   "cell_type": "code",
   "execution_count": 7,
   "metadata": {},
   "outputs": [],
   "source": [
    "def Scheme_Iso(u,diff,alpha,f,bc,h):\n",
    "    \"\"\"Isotropic elliptic energy, with Dirichlet boundary conditions\"\"\"\n",
    "    \n",
    "    # Apply Dirichlet boundary conditions\n",
    "    boundary = np.logical_not(np.isnan(bc))\n",
    "    bc_energy = (u-bc)**2\n",
    "    bc_energy[np.logical_not(boundary)]=0.\n",
    "    u=u.copy() # Important ! Avoid side effects.\n",
    "    u[boundary] = bc[boundary]\n",
    "      \n",
    "    # Construct energy  \n",
    "    offsets = np.stack( ((1,0), (0,1), (-1,0), (0,-1)), axis=-1)\n",
    "    du = fd.DiffUpwind(u, offsets,h)\n",
    "    energy = 0.25*diff*(du**2).sum(axis=0)+0.5*alpha*u**2 - f*u\n",
    "    \n",
    "    for a in (energy,bc_energy): ad.simplify_ad(a)\n",
    "    return (energy.sum()+bc_energy.sum()) * h**u.ndim"
   ]
  },
  {
   "cell_type": "markdown",
   "metadata": {},
   "source": [
    "Our next step is to generate the parameters."
   ]
  },
  {
   "cell_type": "code",
   "execution_count": 12,
   "metadata": {},
   "outputs": [],
   "source": [
    "# Create the domain\n",
    "gridScale = 0.02\n",
    "aX0 = np.arange(-1,1,gridScale); aX1=aX0;\n",
    "X0,X1 = np.meshgrid(aX0,aX1,indexing='ij')\n",
    "\n",
    "# Set the boundary conditions \n",
    "bc=np.full(X0.shape,np.nan) \n",
    "bc[X0**2+X1**2>=0.9**2] = 1\n",
    "\n",
    "# Choose the PDE parameters\n",
    "diff = 1+0.8*X0\n",
    "alpha = 1+0.8*X1\n",
    "f = np.sin(4*(X0+X1))"
   ]
  },
  {
   "cell_type": "markdown",
   "metadata": {},
   "source": [
    "We next evaluate the scheme on a variable which incorporates second order symbolic perturbation."
   ]
  },
  {
   "cell_type": "code",
   "execution_count": 13,
   "metadata": {},
   "outputs": [],
   "source": [
    "u = ad.Sparse2.identity(X0.shape)\n",
    "energy = Scheme_Iso(u,diff,alpha,f,bc,gridScale)"
   ]
  },
  {
   "cell_type": "markdown",
   "metadata": {},
   "source": [
    "Since the energy is quadratic, it can be minimized by solving a (symmetric positive definite) linear system, which amounts to a single Newton step."
   ]
  },
  {
   "cell_type": "code",
   "execution_count": 14,
   "metadata": {},
   "outputs": [],
   "source": [
    "solution = minimizer(energy).reshape(u.shape)"
   ]
  },
  {
   "cell_type": "code",
   "execution_count": 15,
   "metadata": {},
   "outputs": [
    {
     "data": {
      "image/png": "[encoded data removed]",
      "text/plain": [
       "<Figure size 432x288 with 1 Axes>"
      ]
     },
     "metadata": {
      "needs_background": "light"
     },
     "output_type": "display_data"
    }
   ],
   "source": [
    "plt.axis('equal'); plt.title(\"Solution to an isotropic elliptic PDE\")\n",
    "plt.contourf(X0,X1,solution);"
   ]
  },
  {
   "cell_type": "markdown",
   "metadata": {},
   "source": [
    "In order to check that the computed solution is correct, we consider a first order symbolic perturbation."
   ]
  },
  {
   "cell_type": "code",
   "execution_count": 16,
   "metadata": {},
   "outputs": [],
   "source": [
    "v = solution + ad.Sparse.identity(X0.shape)"
   ]
  },
  {
   "cell_type": "code",
   "execution_count": 17,
   "metadata": {},
   "outputs": [],
   "source": [
    "energy = Scheme_Iso(v,diff,alpha,f,bc,gridScale)"
   ]
  },
  {
   "cell_type": "markdown",
   "metadata": {},
   "source": [
    "We next evaluate the gradient of the energy w.r.t. a perturbation of the solution. As expected, this quantity vanishes over the domain."
   ]
  },
  {
   "cell_type": "code",
   "execution_count": 19,
   "metadata": {},
   "outputs": [],
   "source": [
    "gradient = energy.to_dense(u.size).coef.reshape(X0.shape)"
   ]
  },
  {
   "cell_type": "code",
   "execution_count": 20,
   "metadata": {},
   "outputs": [
    {
     "data": {
      "text/plain": [
       "6.529932844445696e-15"
      ]
     },
     "execution_count": 20,
     "metadata": {},
     "output_type": "execute_result"
    }
   ],
   "source": [
    "LInfNorm(gradient)"
   ]
  },
  {
   "cell_type": "markdown",
   "metadata": {},
   "source": [
    "## 2. Naive anisotropic scheme\n",
    "\n",
    "In this section, we present a naive numerical scheme for the addressed PDE. This scheme can be used for testing that a solution is correct, or for constructing synthetic solutions. However it is not recommended to use it to solve PDEs, in particular anisotropic ones, since fundamental properties such as the discrete maximum principle are lacking.\n",
    "\n",
    "The idea underlying this scheme is to estimate the PDE residue\n",
    "$$\n",
    "    -{\\rm div} (D \\nabla u) + \\alpha u - f\n",
    "$$\n",
    "using centered finite differences for the gradient and divergence, and a standard matrix vector multiplication for $D \\nabla u$. A similar residue accounts for the boundary conditions."
   ]
  },
  {
   "cell_type": "code",
   "execution_count": 21,
   "metadata": {},
   "outputs": [],
   "source": [
    "def Scheme_Naive(u,Diff,alpha,f,bc,h):\n",
    "    \"\"\"Residue for an anisotropic elliptic equation, \n",
    "    with Dirichlet boundary conditions. (Naive implementation)\"\"\"\n",
    "    \n",
    "    # Residue of the PDE in the interior\n",
    "    offsets = np.stack( ((1,0), (0,1)), axis=-1)\n",
    "    du = fd.DiffCentered(u, offsets, h, padding=0)\n",
    "    v = lp.dot_AV(Diff,du)\n",
    "    div_v = fd.DiffCentered(v[0],(1,0),h) + fd.DiffCentered(v[1],(0,1),h)\n",
    "    residue = - div_v + alpha*u - f\n",
    "    \n",
    "    # Apply boundary conditions\n",
    "    return ad.where(np.isnan(bc),residue,u-bc)"
   ]
  },
  {
   "cell_type": "markdown",
   "metadata": {},
   "source": [
    "We use the same PDE parameters as before, except for the diffusion tensors which are now provided in matrix form."
   ]
  },
  {
   "cell_type": "code",
   "execution_count": 22,
   "metadata": {},
   "outputs": [],
   "source": [
    "Diff_Iso = diff*as_field(np.eye(2),X0.shape)"
   ]
  },
  {
   "cell_type": "code",
   "execution_count": 23,
   "metadata": {},
   "outputs": [],
   "source": [
    "residue = Scheme_Naive(solution,Diff_Iso,alpha,f,bc,gridScale)"
   ]
  },
  {
   "cell_type": "code",
   "execution_count": 24,
   "metadata": {},
   "outputs": [
    {
     "data": {
      "image/png": "[encoded data removed]",
      "text/plain": [
       "<Figure size 432x288 with 2 Axes>"
      ]
     },
     "metadata": {
      "needs_background": "light"
     },
     "output_type": "display_data"
    }
   ],
   "source": [
    "plt.axis('equal'); plt.title(\"Residue computed with the naive scheme\")\n",
    "plt.contourf(X0,X1,residue); plt.colorbar();"
   ]
  },
  {
   "cell_type": "markdown",
   "metadata": {},
   "source": [
    "The residue is small in the interior, where the solution is smooth. \n",
    "It is larger, however, on the neighborhood of the boundary, due to lack of smoothness of the solution.\n",
    "By construction, the residue vanishes exactly on the part of the domain where the Dirichlet boundary conditions are enforced."
   ]
  },
  {
   "cell_type": "code",
   "execution_count": 27,
   "metadata": {},
   "outputs": [
    {
     "data": {
      "text/plain": [
       "0.0026004302925269895"
      ]
     },
     "execution_count": 27,
     "metadata": {},
     "output_type": "execute_result"
    }
   ],
   "source": [
    "LInfNorm(residue[X0**2+X1**2<0.7**2])"
   ]
  },
  {
   "cell_type": "markdown",
   "metadata": {},
   "source": [
    "One can try to solve the naive discretization as well. However the naive scheme here implemented is unstable, and high frequency oscillations are clearly visible in the resulting numerical solution."
   ]
  },
  {
   "cell_type": "code",
   "execution_count": 28,
   "metadata": {},
   "outputs": [],
   "source": [
    "u = ad.Sparse.identity(X0.shape)\n",
    "residue = Scheme_Naive(u,Diff_Iso,alpha,f,bc,gridScale)"
   ]
  },
  {
   "cell_type": "code",
   "execution_count": 29,
   "metadata": {},
   "outputs": [],
   "source": [
    "solution_naive = residue.solve()"
   ]
  },
  {
   "cell_type": "code",
   "execution_count": 30,
   "metadata": {},
   "outputs": [
    {
     "data": {
      "image/png": "[encoded data removed]",
      "text/plain": [
       "<Figure size 432x288 with 1 Axes>"
      ]
     },
     "metadata": {
      "needs_background": "light"
     },
     "output_type": "display_data"
    }
   ],
   "source": [
    "plt.axis('equal'); plt.title(\"Solution to an isotropic elliptic PDE. (Naive unstable scheme.)\")\n",
    "plt.contourf(X0,X1,solution_naive);"
   ]
  },
  {
   "cell_type": "code",
   "execution_count": 31,
   "metadata": {},
   "outputs": [
    {
     "data": {
      "image/png": "[encoded data removed]",
      "text/plain": [
       "<Figure size 432x288 with 1 Axes>"
      ]
     },
     "metadata": {
      "needs_background": "light"
     },
     "output_type": "display_data"
    }
   ],
   "source": [
    "plt.axis('equal'); plt.title(\"Zoom on the oscillations. (Isotropic PDE, naive unstable scheme)\")\n",
    "plt.contourf(X0,X1,solution_naive); plt.xlim((-1.,-0.5)); plt.ylim((-0.25,0.25));"
   ]
  },
  {
   "cell_type": "markdown",
   "metadata": {},
   "source": [
    "The problem only worsens if the diffusion tensors are anisotropic."
   ]
  },
  {
   "cell_type": "code",
   "execution_count": 32,
   "metadata": {},
   "outputs": [],
   "source": [
    "ev = np.stack((1.+0.*X0, np.sin(2*np.pi*X0)), axis=0)\n",
    "evNorm = np.sqrt((ev**2).sum(axis=0))\n",
    "ev /= evNorm\n",
    "              \n",
    "Diff = 0.4**2*lp.outer_self(ev) + lp.outer_self(lp.perp(ev))"
   ]
  },
  {
   "cell_type": "code",
   "execution_count": 33,
   "metadata": {},
   "outputs": [],
   "source": [
    "u = ad.Sparse.identity(X0.shape)\n",
    "residue = Scheme_Naive(u,Diff,alpha,f,bc,gridScale)"
   ]
  },
  {
   "cell_type": "code",
   "execution_count": 34,
   "metadata": {},
   "outputs": [],
   "source": [
    "solution_naive = residue.solve()"
   ]
  },
  {
   "cell_type": "code",
   "execution_count": 35,
   "metadata": {},
   "outputs": [
    {
     "data": {
      "image/png": "[encoded data removed]",
      "text/plain": [
       "<Figure size 432x288 with 1 Axes>"
      ]
     },
     "metadata": {
      "needs_background": "light"
     },
     "output_type": "display_data"
    }
   ],
   "source": [
    "plt.axis('equal'); plt.title(\"Solution to an anisotropic elliptic PDE. (Naive unstable scheme.)\")\n",
    "plt.contourf(X0,X1,solution_naive);"
   ]
  },
  {
   "cell_type": "code",
   "execution_count": 36,
   "metadata": {},
   "outputs": [
    {
     "data": {
      "image/png": "[encoded data removed]",
      "text/plain": [
       "<Figure size 432x288 with 1 Axes>"
      ]
     },
     "metadata": {
      "needs_background": "light"
     },
     "output_type": "display_data"
    }
   ],
   "source": [
    "plt.axis('equal'); plt.title(\"Zoom on the oscillations. (Anisotropic PDE, naive unstable scheme)\")\n",
    "plt.contourf(X0,X1,solution_naive); plt.xlim((-0.7,-0.2)); plt.ylim((0.2,0.7));"
   ]
  },
  {
   "cell_type": "markdown",
   "metadata": {},
   "source": [
    "## 3. Anisotropic scheme\n",
    "\n",
    "In this section, we solve a general anisotropic elliptic PDE, using an adequate decomposition of the field $D$ of diffusion tensors.\n",
    "Recall that the energy to be minimized reads\n",
    "$$\n",
    "     \\frac 1 2 \\int_\\Omega (\\| \\nabla u\\|_{D}^2 +  \\alpha u^2) - \\int_\\Omega f u ,\n",
    "$$\n",
    "For that purpose, we rely on Selling's decomposition of the tensors, which reads\n",
    "$$\n",
    "    D(x) = \\sum_{1 \\leq i \\leq I} \\rho_i(x) e_i e_i^T,\n",
    "$$\n",
    "where the weights $\\rho_i(x) \\geq 0$ are non-negative, the offets $e_i \\in Z^d$ have integer entries, and $I = d(d+1)/2$. The offsets actually depend on the point $x$, and adapt to the anisotropy directions of $D(x)$. See the notebook linked below."
   ]
  },
  {
   "cell_type": "code",
   "execution_count": 37,
   "metadata": {},
   "outputs": [
    {
     "data": {
      "text/markdown": [
       "Notebook [Selling](./Notebooks_Algo/Selling.ipynb) [(view online)](http://nbviewer.jupyter.org/urls/rawgithub.com/Mirebeau/AdaptiveGridDiscretizations/master/Notebooks_Algo/Selling.ipynb), from volume Algo [Summary](./Notebooks_Algo/Summary.ipynb) [(view online)](http://nbviewer.jupyter.org/urls/rawgithub.com/Mirebeau/AdaptiveGridDiscretizations/master/Notebooks_Algo/Summary.ipynb)"
      ],
      "text/plain": [
       "<IPython.core.display.Markdown object>"
      ]
     },
     "metadata": {},
     "output_type": "display_data"
    }
   ],
   "source": [
    "TocTools.MakeLink('Selling','Algo')"
   ]
  },
  {
   "cell_type": "markdown",
   "metadata": {},
   "source": [
    "From this point, the discretization scheme is quite similar to the isotropic one\n",
    "$$\n",
    "    \\frac {h^d} 2 \\sum_{x \\in \\Omega_h} (a_h(x) + \\alpha(x) u(x)^2) - h^d \\sum_{x \\in \\Omega_h} f(x) u(x)\n",
    "$$\n",
    "where for each point $x \\in \\Omega_h$ of the discretization domain\n",
    "$$\n",
    "     a_h(x) := \\frac 1 2 \\sum_{1 \\leq i \\leq I} \\sum_{\\sigma\\in \\{-1,1\\}} \\rho_i(x) (\\frac{u(x+\\sigma h e_i)-u(x)} h)^2.\n",
    "$$"
   ]
  },
  {
   "cell_type": "code",
   "execution_count": 38,
   "metadata": {},
   "outputs": [],
   "source": [
    "def Scheme_Aniso(u,Diff,alpha,f,bc,h):\n",
    "    \"\"\"Isotropic elliptic energy, with Dirichlet boundary conditions\"\"\"\n",
    "    \n",
    "    # Apply Dirichlet boundary conditions\n",
    "    bc_energy = (u-bc)**2\n",
    "    boundary = np.logical_not(np.isnan(bc))\n",
    "    u=u.copy() # Important ! Avoid side effects.\n",
    "    u[boundary] = bc[boundary]\n",
    "    #TODO avoid split ?\n",
    "      \n",
    "    # Decompose tensors\n",
    "    coefs,offsets = Selling.Decomposition(Diff)\n",
    "    coefs,offsets = np.concatenate((coefs,coefs),axis=0),np.concatenate((offsets,-offsets),axis=1)\n",
    "    \n",
    "    # Construct energy\n",
    "    du = fd.DiffUpwind(u, offsets,h)\n",
    "    energy = 0.25*(coefs*du**2).sum(axis=0) +0.5*alpha*u**2 - f*u\n",
    "    \n",
    "    # Switch according to boundary conditions, simplify and integrate\n",
    "    integrand = ad.where(np.isnan(bc),energy,bc_energy)\n",
    "    ad.simplify_ad(integrand)\n",
    "    return integrand.sum() * h**u.ndim"
   ]
  },
  {
   "cell_type": "markdown",
   "metadata": {},
   "source": [
    "Interestingly, the anisotropic scheme reduces to the original isotropic scheme if the tensors are isotropic. \n",
    "Indeed, Selling's decomposition of an isotropic or diagonal tensor only involves offsets from the canonical basis of $R^d$."
   ]
  },
  {
   "cell_type": "code",
   "execution_count": 39,
   "metadata": {},
   "outputs": [],
   "source": [
    "u = ad.Sparse2.identity(X0.shape)\n",
    "energy = Scheme_Aniso(u,Diff_Iso,alpha,f,bc,gridScale)"
   ]
  },
  {
   "cell_type": "code",
   "execution_count": 40,
   "metadata": {},
   "outputs": [],
   "source": [
    "solution = minimizer(energy).reshape(u.shape)"
   ]
  },
  {
   "cell_type": "code",
   "execution_count": 41,
   "metadata": {},
   "outputs": [
    {
     "data": {
      "image/png": "[encoded data removed]",
      "text/plain": [
       "<Figure size 432x288 with 1 Axes>"
      ]
     },
     "metadata": {
      "needs_background": "light"
     },
     "output_type": "display_data"
    }
   ],
   "source": [
    "plt.axis('equal'); plt.title(\"Solution to an isotropic elliptic PDE\")\n",
    "plt.contourf(X0,X1,solution);"
   ]
  },
  {
   "cell_type": "markdown",
   "metadata": {},
   "source": [
    "However, we can now reliably handle anisotropic tensors."
   ]
  },
  {
   "cell_type": "code",
   "execution_count": 42,
   "metadata": {},
   "outputs": [],
   "source": [
    "u = ad.Sparse2.identity(X0.shape)\n",
    "energy = Scheme_Aniso(u,Diff,alpha,f,bc,gridScale)"
   ]
  },
  {
   "cell_type": "code",
   "execution_count": 43,
   "metadata": {},
   "outputs": [],
   "source": [
    "solution = minimizer(energy).reshape(u.shape)"
   ]
  },
  {
   "cell_type": "code",
   "execution_count": 44,
   "metadata": {},
   "outputs": [
    {
     "data": {
      "image/png": "[encoded data removed]",
      "text/plain": [
       "<Figure size 432x288 with 1 Axes>"
      ]
     },
     "metadata": {
      "needs_background": "light"
     },
     "output_type": "display_data"
    }
   ],
   "source": [
    "plt.axis('equal'); plt.title(\"Solution to an anisotropic elliptic PDE\")\n",
    "plt.contourf(X0,X1,solution);"
   ]
  },
  {
   "cell_type": "code",
   "execution_count": 45,
   "metadata": {},
   "outputs": [],
   "source": [
    "residue = Scheme_Naive(solution,Diff,alpha,f,bc,gridScale)"
   ]
  },
  {
   "cell_type": "code",
   "execution_count": 46,
   "metadata": {},
   "outputs": [
    {
     "data": {
      "image/png": "[encoded data removed]",
      "text/plain": [
       "<Figure size 432x288 with 2 Axes>"
      ]
     },
     "metadata": {
      "needs_background": "light"
     },
     "output_type": "display_data"
    }
   ],
   "source": [
    "plt.axis('equal'); plt.title(\"Residue computed with the naive scheme\")\n",
    "plt.contourf(X0,X1,residue); plt.colorbar();"
   ]
  },
  {
   "cell_type": "markdown",
   "metadata": {},
   "source": [
    "The residue is not so small, because the solution is not very smooth, and because of the treatment of the boundary conditions, but it decays as expected with the grid scale."
   ]
  },
  {
   "cell_type": "code",
   "execution_count": 47,
   "metadata": {},
   "outputs": [
    {
     "data": {
      "text/plain": [
       "0.24537780635013895"
      ]
     },
     "execution_count": 47,
     "metadata": {},
     "output_type": "execute_result"
    }
   ],
   "source": [
    "LInfNorm(residue[X0**2+X1**2<0.7**2])"
   ]
  },
  {
   "cell_type": "markdown",
   "metadata": {},
   "source": [
    "## 4. Neuman boundary conditions\n",
    "\n",
    "We show how to implement Neumann boundary conditions on the left part of the domain. This property is encoded with the specific value $+\\infty$ for the boundary conditions."
   ]
  },
  {
   "cell_type": "code",
   "execution_count": 48,
   "metadata": {},
   "outputs": [],
   "source": [
    "bc_Neumann = np.where(np.logical_or(X0<=0,np.isnan(bc)), bc, np.inf)"
   ]
  },
  {
   "cell_type": "code",
   "execution_count": 49,
   "metadata": {},
   "outputs": [],
   "source": [
    "def Scheme_Aniso2(u,Diff,alpha,f,bc,h):\n",
    "    \"\"\"Isotropic elliptic energy, with Dirichlet boundary conditions\"\"\"\n",
    "    \n",
    "    # Apply Dirichlet boundary conditions\n",
    "    dir_mask = np.isfinite(bc)\n",
    "    neu_mask = np.isinf(bc)\n",
    "    bc_energy = ad.where(dir_mask,(u-bc)**2,u**2)\n",
    "    u=u.copy()\n",
    "    u[dir_mask] = bc[dir_mask]\n",
    "    u[neu_mask] = np.nan\n",
    "      \n",
    "    # Decompose tensors\n",
    "    coefs,offsets = Selling.Decomposition(Diff)\n",
    "    coefs,offsets = np.concatenate((coefs,coefs),axis=0),np.concatenate((offsets,-offsets),axis=1)\n",
    "    \n",
    "    # Construct energy\n",
    "    du = fd.DiffUpwind(u, offsets,h)\n",
    "    du[np.isnan(du)] = 0.\n",
    "    energy = 0.25*(coefs*du**2).sum(axis=0) +0.5*alpha*u**2 - f*u\n",
    "    \n",
    "    integrand = ad.where(np.isnan(bc),energy,bc_energy)\n",
    "    ad.simplify_ad(integrand)\n",
    "    return integrand.sum() * h**u.ndim"
   ]
  },
  {
   "cell_type": "code",
   "execution_count": 50,
   "metadata": {},
   "outputs": [],
   "source": [
    "u = ad.Sparse2.identity(X0.shape)\n",
    "energy = Scheme_Aniso2(u,Diff,alpha,f,bc_Neumann,gridScale)"
   ]
  },
  {
   "cell_type": "code",
   "execution_count": 51,
   "metadata": {},
   "outputs": [],
   "source": [
    "solution = minimizer(energy).reshape(u.shape)"
   ]
  },
  {
   "cell_type": "code",
   "execution_count": 52,
   "metadata": {},
   "outputs": [
    {
     "data": {
      "image/png": "[encoded data removed]",
      "text/plain": [
       "<Figure size 432x288 with 1 Axes>"
      ]
     },
     "metadata": {
      "needs_background": "light"
     },
     "output_type": "display_data"
    }
   ],
   "source": [
    "plt.axis('equal'); plt.title(\"Solution to an anisotropic elliptic PDE, with Neumann bc on the right\")\n",
    "plt.contourf(X0,X1,solution);"
   ]
  },
  {
   "cell_type": "code",
   "execution_count": null,
   "metadata": {},
   "outputs": [],
   "source": []
  }
 ],
 "metadata": {
  "kernelspec": {
   "display_name": "Python 3",
   "language": "python",
   "name": "python3"
  },
  "language_info": {
   "codemirror_mode": {
    "name": "ipython",
    "version": 3
   },
   "file_extension": ".py",
   "mimetype": "text/x-python",
   "name": "python",
   "nbconvert_exporter": "python",
   "pygments_lexer": "ipython3",
   "version": "3.7.3"
  }
 },
 "nbformat": 4,
 "nbformat_minor": 2
}
