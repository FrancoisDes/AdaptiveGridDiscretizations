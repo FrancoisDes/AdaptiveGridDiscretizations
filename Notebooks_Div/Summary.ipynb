{
 "cells": [
  {
   "cell_type": "markdown",
   "metadata": {},
   "source": [
    "# Adaptive grid discretizations\n",
    "## A set of tools for discretizing anisotropic PDEs on cartesian grids\n",
    "# Volume : Divergence form PDEs"
   ]
  },
  {
   "cell_type": "markdown",
   "metadata": {},
   "source": [
    "This collection of notebooks presents a series of general principles and reference implementations for *anisotropic Partial Differential Equations (PDEs) in divergence form*, using *adaptive finite difference schemes on cartesian grids*. \n",
    "* *Anisotropy* means that some directions in the domain play a preferred role, locally, preferred. A typical instance of an anisotropic PDE is anisotropic diffusion\n",
    "$$\n",
    "    \\partial_t u = {\\rm div}(D \\nabla u)\n",
    "$$\n",
    "* *Finite difference schemes* are a numerical approach to the discretization of PDEs, based on the approximation of the first and second derivatives of a given function $u$. For instance, in this series of notebooks, you will encounter finite difference approximations of elliptic energies in the following sum of squares form\n",
    "$$\n",
    "    E_h(u) := h^{d-2}\\sum_{x \\in \\Omega_h} \\sum_{1 \\leq i \\leq I} \\lambda_i(x) (u(x+h e_i) - u(x))^2\n",
    "    %\\frac{u(x+h e_i) - u(x)} h\n",
    "$$\n",
    "where $h$ is a gridscale, $\\lambda_i(x)$ is a non-negative weight, and $u(x+h e_i) - u(x)$ is the *finite difference* of $u$ at positition $x\\in \\Omega_h$ and in the direction $e_i$. In our implementation, $\\Omega_h\\subset Z^d$ is a Cartesian grid, and $e_i \\in Z^d$ is an offset with integer coordinates, so that $x+h e_i$ is a well defined grid point."
   ]
  },
  {
   "cell_type": "markdown",
   "metadata": {},
   "source": [
    "**Domain dimension.** Unless otherwise specified, the numerical experiments presented in the notebooks involve two dimensional PDEs."
   ]
  },
  {
   "cell_type": "code",
   "execution_count": 15,
   "metadata": {},
   "outputs": [],
   "source": [
    "import sys; sys.path.append(\"..\") # Allow imports from parent directory"
   ]
  },
  {
   "cell_type": "code",
   "execution_count": 16,
   "metadata": {},
   "outputs": [
    {
     "data": {
      "text/markdown": [
       "\n",
       "**Github repository** to run and modify the examples on your computer.\n",
       "[AdaptiveGridDiscretizations](https://github.com/Mirebeau/AdaptiveGridDiscretizations)\n",
       "\n"
      ],
      "text/plain": [
       "<IPython.core.display.Markdown object>"
      ]
     },
     "metadata": {},
     "output_type": "display_data"
    },
    {
     "data": {
      "text/markdown": [
       "# Table of contents"
      ],
      "text/plain": [
       "<IPython.core.display.Markdown object>"
      ]
     },
     "metadata": {},
     "output_type": "display_data"
    },
    {
     "data": {
      "text/markdown": [
       "[Main summary](../Summary.ipynb), including the other volumes of this work [(view online)](http://nbviewer.jupyter.org/urls/rawgithub.com/Mirebeau/AdaptiveGridDiscretizations/master/Summary.ipynb)"
      ],
      "text/plain": [
       "<IPython.core.display.Markdown object>"
      ]
     },
     "metadata": {},
     "output_type": "display_data"
    },
    {
     "data": {
      "text/markdown": [
       "### A. Applications\n",
       "\n",
       " * I. [Extracting geodesics from the heat kernel](VaradhanGeodesics.ipynb) [(view online)](http://nbviewer.jupyter.org/urls/rawgithub.com/Mirebeau/AdaptiveGridDiscretizations/master/Notebooks_Div/VaradhanGeodesics.ipynb)\n",
       "\n",
       "  1. Isotropic metrics\n",
       "\n",
       "  2. Anisotropic Riemannian metrics\n",
       "\n",
       "  3. Rander metrics\n",
       "\n",
       "\n"
      ],
      "text/plain": [
       "<IPython.core.display.Markdown object>"
      ]
     },
     "metadata": {},
     "output_type": "display_data"
    }
   ],
   "source": [
    "from Miscellaneous import TocTools; TocTools.displayTOCs('Div')"
   ]
  },
  {
   "cell_type": "code",
   "execution_count": null,
   "metadata": {},
   "outputs": [],
   "source": []
  }
 ],
 "metadata": {
  "kernelspec": {
   "display_name": "Python 3",
   "language": "python",
   "name": "python3"
  },
  "language_info": {
   "codemirror_mode": {
    "name": "ipython",
    "version": 3
   },
   "file_extension": ".py",
   "mimetype": "text/x-python",
   "name": "python",
   "nbconvert_exporter": "python",
   "pygments_lexer": "ipython3",
   "version": "3.7.3"
  }
 },
 "nbformat": 4,
 "nbformat_minor": 2
}
